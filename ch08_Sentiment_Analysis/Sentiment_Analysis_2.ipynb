{
  "nbformat": 4,
  "nbformat_minor": 0,
  "metadata": {
    "colab": {
      "name": "ch08_Sentiment_Analysis_2.ipynb",
      "provenance": [],
      "mount_file_id": "1RV6yp4Xm3_TDWA6o5wfihF2oFNWqLALq",
      "authorship_tag": "ABX9TyMo1miH24kLlSrv+Mgdl9zP"
    },
    "kernelspec": {
      "name": "python3",
      "display_name": "Python 3"
    },
    "language_info": {
      "name": "python"
    }
  },
  "cells": [
    {
      "cell_type": "markdown",
      "source": [
        "# 네이버 영화 리뷰 감성 분류\n",
        "\n",
        "* 네이버 영화 평점 데이터 : https://github.com/e9t/nsmc\n",
        "    * 네이버 영화 사이트에 있는 리뷰 20만 개를 모은 데이터.\n",
        "* 20만 개의 데이터 중 15만 개는 훈련 데이텟으로 ratings_train.txt 파일에 저장되어 있고 5만 개는 ratings_test.txt 파일에 저장.\n",
        "* 부정 리뷰는 1~4까지 점수, 긍정 리뷰는 6~10까지 점수를 매긴 리뷰\n",
        "    * 훈련 데이터셋과 테스트 데이터셋의 부정과 긍정 리뷰는 약 50%씩 구성.\n",
        "\n",
        "* 한글 텍스트 처리\n",
        "    * 한글은 영어와 달리 조사와 어미가 발달.\n",
        "    * BoW나 어간 추출보다 **표제어 추출 방식**이 적합.\n",
        "        * 형태소 분석"
      ],
      "metadata": {
        "id": "Bmbu8yOSH0Vb"
      }
    },
    {
      "cell_type": "code",
      "source": [
        "import warnings\n",
        "warnings.filterwarnings('ignore')"
      ],
      "metadata": {
        "id": "51N7mqubMaKb"
      },
      "execution_count": 1,
      "outputs": []
    },
    {
      "cell_type": "code",
      "execution_count": 2,
      "metadata": {
        "colab": {
          "base_uri": "https://localhost:8080/"
        },
        "id": "Y4PbIQz7GjvV",
        "outputId": "4ba868b6-ae4f-42fb-b17c-6ae8b8cb1af5"
      },
      "outputs": [
        {
          "output_type": "stream",
          "name": "stdout",
          "text": [
            "Requirement already satisfied: konlpy in /usr/local/lib/python3.7/dist-packages (0.6.0)\n",
            "Requirement already satisfied: soynlp in /usr/local/lib/python3.7/dist-packages (0.0.493)\n",
            "Requirement already satisfied: lxml>=4.1.0 in /usr/local/lib/python3.7/dist-packages (from konlpy) (4.2.6)\n",
            "Requirement already satisfied: numpy>=1.6 in /usr/local/lib/python3.7/dist-packages (from konlpy) (1.19.5)\n",
            "Requirement already satisfied: JPype1>=0.7.0 in /usr/local/lib/python3.7/dist-packages (from konlpy) (1.3.0)\n",
            "Requirement already satisfied: typing-extensions in /usr/local/lib/python3.7/dist-packages (from JPype1>=0.7.0->konlpy) (3.10.0.2)\n",
            "Requirement already satisfied: scikit-learn>=0.20.0 in /usr/local/lib/python3.7/dist-packages (from soynlp) (1.0.2)\n",
            "Requirement already satisfied: psutil>=5.0.1 in /usr/local/lib/python3.7/dist-packages (from soynlp) (5.4.8)\n",
            "Requirement already satisfied: scipy>=1.1.0 in /usr/local/lib/python3.7/dist-packages (from soynlp) (1.4.1)\n",
            "Requirement already satisfied: joblib>=0.11 in /usr/local/lib/python3.7/dist-packages (from scikit-learn>=0.20.0->soynlp) (1.1.0)\n",
            "Requirement already satisfied: threadpoolctl>=2.0.0 in /usr/local/lib/python3.7/dist-packages (from scikit-learn>=0.20.0->soynlp) (3.0.0)\n"
          ]
        }
      ],
      "source": [
        "# 한글 형태소 분석을 위한 패키지\n",
        "!pip install konlpy soynlp"
      ]
    },
    {
      "cell_type": "code",
      "source": [
        "!pip install tweepy==3.10"
      ],
      "metadata": {
        "colab": {
          "base_uri": "https://localhost:8080/"
        },
        "id": "FAppht5xdpzF",
        "outputId": "6a43b9db-bf12-468d-ff73-f8c83fab4db1"
      },
      "execution_count": 3,
      "outputs": [
        {
          "output_type": "stream",
          "name": "stdout",
          "text": [
            "Requirement already satisfied: tweepy==3.10 in /usr/local/lib/python3.7/dist-packages (3.10.0)\n",
            "Requirement already satisfied: six>=1.10.0 in /usr/local/lib/python3.7/dist-packages (from tweepy==3.10) (1.15.0)\n",
            "Requirement already satisfied: requests-oauthlib>=0.7.0 in /usr/local/lib/python3.7/dist-packages (from tweepy==3.10) (1.3.0)\n",
            "Requirement already satisfied: requests[socks]>=2.11.1 in /usr/local/lib/python3.7/dist-packages (from tweepy==3.10) (2.23.0)\n",
            "Requirement already satisfied: oauthlib>=3.0.0 in /usr/local/lib/python3.7/dist-packages (from requests-oauthlib>=0.7.0->tweepy==3.10) (3.1.1)\n",
            "Requirement already satisfied: chardet<4,>=3.0.2 in /usr/local/lib/python3.7/dist-packages (from requests[socks]>=2.11.1->tweepy==3.10) (3.0.4)\n",
            "Requirement already satisfied: idna<3,>=2.5 in /usr/local/lib/python3.7/dist-packages (from requests[socks]>=2.11.1->tweepy==3.10) (2.10)\n",
            "Requirement already satisfied: urllib3!=1.25.0,!=1.25.1,<1.26,>=1.21.1 in /usr/local/lib/python3.7/dist-packages (from requests[socks]>=2.11.1->tweepy==3.10) (1.24.3)\n",
            "Requirement already satisfied: certifi>=2017.4.17 in /usr/local/lib/python3.7/dist-packages (from requests[socks]>=2.11.1->tweepy==3.10) (2021.10.8)\n",
            "Requirement already satisfied: PySocks!=1.5.7,>=1.5.6 in /usr/local/lib/python3.7/dist-packages (from requests[socks]>=2.11.1->tweepy==3.10) (1.7.1)\n"
          ]
        }
      ]
    },
    {
      "cell_type": "code",
      "source": [
        "import konlpy\n",
        "import pandas as pd\n",
        "import numpy as np"
      ],
      "metadata": {
        "id": "cgH6f9rCdeRF"
      },
      "execution_count": 4,
      "outputs": []
    },
    {
      "cell_type": "markdown",
      "source": [
        "`read_csv()`는 기본적으로 콤마를 기준으로 필드를 구분한다. 그래서 `delimiter='\\t'`으로 지정하여 탭으로 변경. 기본적으로 판다스는 빈 문자열을 NaN으로 인식한다. 빈 문자열을 그대로 유지하기 위해 `keep_default_na` 매개변수를 False로 지정. "
      ],
      "metadata": {
        "id": "NtZXbBPxeAj1"
      }
    },
    {
      "cell_type": "code",
      "source": [
        "df_train = pd.read_csv('/content/drive/MyDrive/머신러닝 교과서 with 파이썬, 사이킷런, 텐서플로/data/ratings_train.txt',\n",
        "                 delimiter='\\t', keep_default_na=False)\n",
        "df_train.head()"
      ],
      "metadata": {
        "colab": {
          "base_uri": "https://localhost:8080/",
          "height": 206
        },
        "id": "L7dhO-Fadwo2",
        "outputId": "2b67dacc-63be-4c43-f7ee-a4c0bed2cd4e"
      },
      "execution_count": 5,
      "outputs": [
        {
          "output_type": "execute_result",
          "data": {
            "text/html": [
              "\n",
              "  <div id=\"df-0a2f3040-4d81-4d3c-ab2c-a4515939fa32\">\n",
              "    <div class=\"colab-df-container\">\n",
              "      <div>\n",
              "<style scoped>\n",
              "    .dataframe tbody tr th:only-of-type {\n",
              "        vertical-align: middle;\n",
              "    }\n",
              "\n",
              "    .dataframe tbody tr th {\n",
              "        vertical-align: top;\n",
              "    }\n",
              "\n",
              "    .dataframe thead th {\n",
              "        text-align: right;\n",
              "    }\n",
              "</style>\n",
              "<table border=\"1\" class=\"dataframe\">\n",
              "  <thead>\n",
              "    <tr style=\"text-align: right;\">\n",
              "      <th></th>\n",
              "      <th>id</th>\n",
              "      <th>document</th>\n",
              "      <th>label</th>\n",
              "    </tr>\n",
              "  </thead>\n",
              "  <tbody>\n",
              "    <tr>\n",
              "      <th>0</th>\n",
              "      <td>9976970</td>\n",
              "      <td>아 더빙.. 진짜 짜증나네요 목소리</td>\n",
              "      <td>0</td>\n",
              "    </tr>\n",
              "    <tr>\n",
              "      <th>1</th>\n",
              "      <td>3819312</td>\n",
              "      <td>흠...포스터보고 초딩영화줄....오버연기조차 가볍지 않구나</td>\n",
              "      <td>1</td>\n",
              "    </tr>\n",
              "    <tr>\n",
              "      <th>2</th>\n",
              "      <td>10265843</td>\n",
              "      <td>너무재밓었다그래서보는것을추천한다</td>\n",
              "      <td>0</td>\n",
              "    </tr>\n",
              "    <tr>\n",
              "      <th>3</th>\n",
              "      <td>9045019</td>\n",
              "      <td>교도소 이야기구먼 ..솔직히 재미는 없다..평점 조정</td>\n",
              "      <td>0</td>\n",
              "    </tr>\n",
              "    <tr>\n",
              "      <th>4</th>\n",
              "      <td>6483659</td>\n",
              "      <td>사이몬페그의 익살스런 연기가 돋보였던 영화!스파이더맨에서 늙어보이기만 했던 커스틴 ...</td>\n",
              "      <td>1</td>\n",
              "    </tr>\n",
              "  </tbody>\n",
              "</table>\n",
              "</div>\n",
              "      <button class=\"colab-df-convert\" onclick=\"convertToInteractive('df-0a2f3040-4d81-4d3c-ab2c-a4515939fa32')\"\n",
              "              title=\"Convert this dataframe to an interactive table.\"\n",
              "              style=\"display:none;\">\n",
              "        \n",
              "  <svg xmlns=\"http://www.w3.org/2000/svg\" height=\"24px\"viewBox=\"0 0 24 24\"\n",
              "       width=\"24px\">\n",
              "    <path d=\"M0 0h24v24H0V0z\" fill=\"none\"/>\n",
              "    <path d=\"M18.56 5.44l.94 2.06.94-2.06 2.06-.94-2.06-.94-.94-2.06-.94 2.06-2.06.94zm-11 1L8.5 8.5l.94-2.06 2.06-.94-2.06-.94L8.5 2.5l-.94 2.06-2.06.94zm10 10l.94 2.06.94-2.06 2.06-.94-2.06-.94-.94-2.06-.94 2.06-2.06.94z\"/><path d=\"M17.41 7.96l-1.37-1.37c-.4-.4-.92-.59-1.43-.59-.52 0-1.04.2-1.43.59L10.3 9.45l-7.72 7.72c-.78.78-.78 2.05 0 2.83L4 21.41c.39.39.9.59 1.41.59.51 0 1.02-.2 1.41-.59l7.78-7.78 2.81-2.81c.8-.78.8-2.07 0-2.86zM5.41 20L4 18.59l7.72-7.72 1.47 1.35L5.41 20z\"/>\n",
              "  </svg>\n",
              "      </button>\n",
              "      \n",
              "  <style>\n",
              "    .colab-df-container {\n",
              "      display:flex;\n",
              "      flex-wrap:wrap;\n",
              "      gap: 12px;\n",
              "    }\n",
              "\n",
              "    .colab-df-convert {\n",
              "      background-color: #E8F0FE;\n",
              "      border: none;\n",
              "      border-radius: 50%;\n",
              "      cursor: pointer;\n",
              "      display: none;\n",
              "      fill: #1967D2;\n",
              "      height: 32px;\n",
              "      padding: 0 0 0 0;\n",
              "      width: 32px;\n",
              "    }\n",
              "\n",
              "    .colab-df-convert:hover {\n",
              "      background-color: #E2EBFA;\n",
              "      box-shadow: 0px 1px 2px rgba(60, 64, 67, 0.3), 0px 1px 3px 1px rgba(60, 64, 67, 0.15);\n",
              "      fill: #174EA6;\n",
              "    }\n",
              "\n",
              "    [theme=dark] .colab-df-convert {\n",
              "      background-color: #3B4455;\n",
              "      fill: #D2E3FC;\n",
              "    }\n",
              "\n",
              "    [theme=dark] .colab-df-convert:hover {\n",
              "      background-color: #434B5C;\n",
              "      box-shadow: 0px 1px 3px 1px rgba(0, 0, 0, 0.15);\n",
              "      filter: drop-shadow(0px 1px 2px rgba(0, 0, 0, 0.3));\n",
              "      fill: #FFFFFF;\n",
              "    }\n",
              "  </style>\n",
              "\n",
              "      <script>\n",
              "        const buttonEl =\n",
              "          document.querySelector('#df-0a2f3040-4d81-4d3c-ab2c-a4515939fa32 button.colab-df-convert');\n",
              "        buttonEl.style.display =\n",
              "          google.colab.kernel.accessAllowed ? 'block' : 'none';\n",
              "\n",
              "        async function convertToInteractive(key) {\n",
              "          const element = document.querySelector('#df-0a2f3040-4d81-4d3c-ab2c-a4515939fa32');\n",
              "          const dataTable =\n",
              "            await google.colab.kernel.invokeFunction('convertToInteractive',\n",
              "                                                     [key], {});\n",
              "          if (!dataTable) return;\n",
              "\n",
              "          const docLinkHtml = 'Like what you see? Visit the ' +\n",
              "            '<a target=\"_blank\" href=https://colab.research.google.com/notebooks/data_table.ipynb>data table notebook</a>'\n",
              "            + ' to learn more about interactive tables.';\n",
              "          element.innerHTML = '';\n",
              "          dataTable['output_type'] = 'display_data';\n",
              "          await google.colab.output.renderOutput(dataTable, element);\n",
              "          const docLink = document.createElement('div');\n",
              "          docLink.innerHTML = docLinkHtml;\n",
              "          element.appendChild(docLink);\n",
              "        }\n",
              "      </script>\n",
              "    </div>\n",
              "  </div>\n",
              "  "
            ],
            "text/plain": [
              "         id                                           document  label\n",
              "0   9976970                                아 더빙.. 진짜 짜증나네요 목소리      0\n",
              "1   3819312                  흠...포스터보고 초딩영화줄....오버연기조차 가볍지 않구나      1\n",
              "2  10265843                                  너무재밓었다그래서보는것을추천한다      0\n",
              "3   9045019                      교도소 이야기구먼 ..솔직히 재미는 없다..평점 조정      0\n",
              "4   6483659  사이몬페그의 익살스런 연기가 돋보였던 영화!스파이더맨에서 늙어보이기만 했던 커스틴 ...      1"
            ]
          },
          "metadata": {},
          "execution_count": 5
        }
      ]
    },
    {
      "cell_type": "code",
      "source": [
        "df_train['label'].value_counts()"
      ],
      "metadata": {
        "colab": {
          "base_uri": "https://localhost:8080/"
        },
        "id": "m9cWrCoThSv0",
        "outputId": "891abcf8-f7ab-4eda-c0ed-2eb966a9dba2"
      },
      "execution_count": 6,
      "outputs": [
        {
          "output_type": "execute_result",
          "data": {
            "text/plain": [
              "0    75173\n",
              "1    74827\n",
              "Name: label, dtype: int64"
            ]
          },
          "metadata": {},
          "execution_count": 6
        }
      ]
    },
    {
      "cell_type": "code",
      "source": [
        "df_train.info()"
      ],
      "metadata": {
        "colab": {
          "base_uri": "https://localhost:8080/"
        },
        "id": "vqVj-LG_hXAI",
        "outputId": "798cdeb0-f5c3-4bf6-87c7-a3bf0d73a69b"
      },
      "execution_count": 7,
      "outputs": [
        {
          "output_type": "stream",
          "name": "stdout",
          "text": [
            "<class 'pandas.core.frame.DataFrame'>\n",
            "RangeIndex: 150000 entries, 0 to 149999\n",
            "Data columns (total 3 columns):\n",
            " #   Column    Non-Null Count   Dtype \n",
            "---  ------    --------------   ----- \n",
            " 0   id        150000 non-null  int64 \n",
            " 1   document  150000 non-null  object\n",
            " 2   label     150000 non-null  int64 \n",
            "dtypes: int64(2), object(1)\n",
            "memory usage: 3.4+ MB\n"
          ]
        }
      ]
    },
    {
      "cell_type": "code",
      "source": [
        "X_train = df_train['document'].values\n",
        "y_train = df_train['label'].values"
      ],
      "metadata": {
        "id": "rGo-f_SjhLVW"
      },
      "execution_count": 8,
      "outputs": []
    },
    {
      "cell_type": "code",
      "source": [
        "df_test = pd.read_csv('/content/drive/MyDrive/머신러닝 교과서 with 파이썬, 사이킷런, 텐서플로/data/ratings_test.txt',\n",
        "                 delimiter='\\t', keep_default_na=False)\n",
        "X_test = df_test['document'].values\n",
        "y_test = df_test['label'].values"
      ],
      "metadata": {
        "id": "h5EDesg-hcG8"
      },
      "execution_count": 9,
      "outputs": []
    },
    {
      "cell_type": "code",
      "source": [
        "print(len(X_train), np.bincount(y_train))\n",
        "print(len(X_test), np.bincount(y_test))"
      ],
      "metadata": {
        "colab": {
          "base_uri": "https://localhost:8080/"
        },
        "id": "_9zR1AdjhzEU",
        "outputId": "b03b6944-42de-4cbb-a1be-d02d37391ee3"
      },
      "execution_count": 10,
      "outputs": [
        {
          "output_type": "stream",
          "name": "stdout",
          "text": [
            "150000 [75173 74827]\n",
            "50000 [24827 25173]\n"
          ]
        }
      ]
    },
    {
      "cell_type": "markdown",
      "source": [
        "* konlpy\n",
        "    * 다섯 개의 한국어 형태소 분석기를 파이썬 클래스로 감싸서 제공하는 래퍼 패키지.\n",
        "    * https://konlpy.org/ko/latest/\n",
        "    * 스칼라로 개발된 open-korean-text 한국어 처리기를 제공하는 `Okt` 클래스\n",
        "\n",
        "`konlpy.tag` 패키지에서 `Okt` 클래스를 임포트하고 객체를 만든 다음 훈련 데이터셋에 있는 문장 하나를 `morphs()` 메서드로 형태소로 나눈다."
      ],
      "metadata": {
        "id": "Q2w-aO22h8V8"
      }
    },
    {
      "cell_type": "code",
      "source": [
        "from konlpy.tag import Okt\n",
        "\n",
        "okt = Okt()\n",
        "print(X_train[4])\n",
        "print(okt.morphs(X_train[4]))"
      ],
      "metadata": {
        "colab": {
          "base_uri": "https://localhost:8080/"
        },
        "id": "kLUvtgcejDBD",
        "outputId": "eb1925b9-79be-420c-b08c-6577f1cc1135"
      },
      "execution_count": 11,
      "outputs": [
        {
          "output_type": "stream",
          "name": "stdout",
          "text": [
            "사이몬페그의 익살스런 연기가 돋보였던 영화!스파이더맨에서 늙어보이기만 했던 커스틴 던스트가 너무나도 이뻐보였다\n",
            "['사이', '몬페', '그', '의', '익살스런', '연기', '가', '돋보였던', '영화', '!', '스파이더맨', '에서', '늙어', '보이기만', '했던', '커스틴', '던스트', '가', '너무나도', '이뻐', '보였다']\n"
          ]
        }
      ]
    },
    {
      "cell_type": "markdown",
      "source": [
        "한글 문장에서 조사와 어미가 잘 구분되어 출력되었다. '사이몬페그'와 같은 고유 명사 처리는 완벽하지 않다.\n",
        "\n",
        "`TfidfVectorizer`을 `ngram_range=(1, 2)`로 설정하여 유니그램과 바이그램을 사용하고 `min_df=3`으로 지정하여 3회 미만으로 등장하는 토큰은 무시한다. 또한 `max_df=0.9`로 두어 가장 많이 등장하는 상위 10%의 토큰도 무시한다. 이러한 작업이 불용어로 생각할 수 있는 토큰을 제거할 것이다.\n",
        "\n",
        "* 참고 : 토큰 데이터를 생성하는 시간이 많이 걸리므로 주피터 노트북에서는 다음 번 실행 때 이 과정을 건너뛸 수 있도록 이 데이터를 한 번 생성하여 npz 파일로 저장한다."
      ],
      "metadata": {
        "id": "9TRKZTIxjPys"
      }
    },
    {
      "cell_type": "code",
      "source": [
        "import os\n",
        "from scipy.sparse import save_npz, load_npz\n",
        "from sklearn.feature_extraction.text import TfidfVectorizer\n",
        "\n",
        "if not os.path.isfile('okt_train.npz'):\n",
        "    tfidf = TfidfVectorizer(ngram_range=(1, 2), \n",
        "                            min_df=3,\n",
        "                            max_df=0.9,\n",
        "                            tokenizer=okt.morphs, \n",
        "                            token_pattern=None)\n",
        "    tfidf.fit(X_train)\n",
        "    X_train_okt = tfidf.transform(X_train)\n",
        "    X_test_okt = tfidf.transform(X_test)\n",
        "    save_npz('okt_train.npz', X_train_okt)\n",
        "    save_npz('okt_test.npz', X_test_okt)\n",
        "else:\n",
        "    X_train_okt = load_npz('okt_train.npz')\n",
        "    X_test_okt = load_npz('okt_test.npz')"
      ],
      "metadata": {
        "id": "Zbv5zwPRkdEk"
      },
      "execution_count": 12,
      "outputs": []
    },
    {
      "cell_type": "markdown",
      "source": [
        "* `X_train_okt`와 `X_test_okt`가 준비되었으므로 `SGDClassifier` 클래스를 사용해 감성 분류."
      ],
      "metadata": {
        "id": "yYlI_Oycl_q8"
      }
    },
    {
      "cell_type": "code",
      "source": [
        "from sklearn.model_selection import RandomizedSearchCV\n",
        "from sklearn.linear_model import SGDClassifier\n",
        "from sklearn.utils.fixes import loguniform\n",
        "\n",
        "sgd = SGDClassifier(loss='log', random_state=1) # 손실 함수는 로지스틱 손실('log')을 사용, 다른 손실함수를 매개변수 탐색에 포함할 수 있다.\n",
        "param_dist = {'alpha':loguniform(0.0001, 100.0)} # 규제를 위한 매개변수, RandomizedSearchCV 클래스를 사용하기 위해 loguniform 함수로 탐색 번위 지정\n",
        "\n",
        "rsv_okt = RandomizedSearchCV(estimator=sgd,\n",
        "                             param_distributions=param_dist,\n",
        "                             n_iter=50, # 총 반복횟수는 50회\n",
        "                             random_state=1,\n",
        "                             verbose=1)\n",
        "rsv_okt.fit(X_train_okt, y_train)"
      ],
      "metadata": {
        "colab": {
          "base_uri": "https://localhost:8080/"
        },
        "id": "zqgdYZk7nAhs",
        "outputId": "359f06ac-7293-4443-c124-8b0f8469b855"
      },
      "execution_count": 13,
      "outputs": [
        {
          "output_type": "stream",
          "name": "stdout",
          "text": [
            "Fitting 5 folds for each of 50 candidates, totalling 250 fits\n"
          ]
        },
        {
          "output_type": "execute_result",
          "data": {
            "text/plain": [
              "RandomizedSearchCV(estimator=SGDClassifier(loss='log', random_state=1),\n",
              "                   n_iter=50,\n",
              "                   param_distributions={'alpha': <scipy.stats._distn_infrastructure.rv_frozen object at 0x7fc2bca3b050>},\n",
              "                   random_state=1, verbose=1)"
            ]
          },
          "metadata": {},
          "execution_count": 13
        }
      ]
    },
    {
      "cell_type": "code",
      "source": [
        "print(rsv_okt.best_score_) # 최상의 점수\n",
        "print(rsv_okt.best_params_) # 최상의 매개변수\n",
        "rsv_okt.score(X_test_okt, y_test) # 테스트 데이터 점수"
      ],
      "metadata": {
        "colab": {
          "base_uri": "https://localhost:8080/"
        },
        "id": "xsZD-huZ0Kjo",
        "outputId": "03cb4eda-5cf2-4082-8d18-446adf3ebada"
      },
      "execution_count": 14,
      "outputs": [
        {
          "output_type": "stream",
          "name": "stdout",
          "text": [
            "0.8251533333333334\n",
            "{'alpha': 0.0001001581395585897}\n"
          ]
        },
        {
          "output_type": "execute_result",
          "data": {
            "text/plain": [
              "0.8189"
            ]
          },
          "metadata": {},
          "execution_count": 14
        }
      ]
    },
    {
      "cell_type": "markdown",
      "source": [
        "* soynlp\n",
        "    * 파이썬으로 구현된 형태소 분석 패키지\n",
        "    * https://github.com/lovit/soynlp\n",
        "    * 3개의 토큰화 클래스 제공\n",
        "        * `LToeknizer` : 띄어쓰기가 잘 되어 있을 때\n",
        "        * `MaxScoreTokenizer` : 띄어쓰기가 되어 있지 않는 긴 문자열일 때\n",
        "        * `RegexTokenizer` : 규칙 기반으로 단어열만 들 수 있다\n"
      ],
      "metadata": {
        "id": "QXn7i2YM26C-"
      }
    },
    {
      "cell_type": "code",
      "source": [
        "from soynlp.tokenizer import LTokenizer\n",
        "\n",
        "lto = LTokenizer()\n",
        "print(lto.tokenize(X_train[4]))"
      ],
      "metadata": {
        "colab": {
          "base_uri": "https://localhost:8080/"
        },
        "id": "y8Lfkrkr4-tq",
        "outputId": "19407e1a-a57e-4958-c85c-fb188aa2712a"
      },
      "execution_count": 15,
      "outputs": [
        {
          "output_type": "stream",
          "name": "stdout",
          "text": [
            "['사이몬페그의', '익살스런', '연기가', '돋보였던', '영화!스파이더맨에서', '늙어보이기만', '했던', '커스틴', '던스트가', '너무나도', '이뻐보였다']\n"
          ]
        }
      ]
    },
    {
      "cell_type": "markdown",
      "source": [
        "* soynlp는 말뭉치의 통계 데이터를 기반으로 동작하기 때문에 기본 LTokenizer 객체로는 공백으로만 토큰화를 수행한다."
      ],
      "metadata": {
        "id": "88DGkqXS5XLm"
      }
    },
    {
      "cell_type": "code",
      "source": [
        "# LTokenizer에 필요한 통계 데이터를 생성하기 위해 WordExtractor를 사용\n",
        "from soynlp.word import WordExtractor\n",
        "\n",
        "# WordExtractor 객체를 만든 후 train() 메서드에 X_train을 전달하여 훈련.\n",
        "# 끝나면 word_scores() 메서드에서 단어의 점수를 얻을 수 있다.\n",
        "# 반환된 scores 객체는 단어마다 결합 점수(cohesion score)와 브랜칭 엔트로피(branching entropy)를 가진 딕셔너리이다.\n",
        "word_ext = WordExtractor()\n",
        "word_ext.train(X_train)\n",
        "scores = word_ext.word_scores()"
      ],
      "metadata": {
        "colab": {
          "base_uri": "https://localhost:8080/"
        },
        "id": "jTpscFzC5fW2",
        "outputId": "3a39876f-3b62-444b-a7b9-0523feb58642"
      },
      "execution_count": 16,
      "outputs": [
        {
          "output_type": "stream",
          "name": "stdout",
          "text": [
            "training was done. used memory 1.377 Gb\n",
            "all cohesion probabilities was computed. # words = 85683\n",
            "all branching entropies was computed # words = 101540\n",
            "all accessor variety was computed # words = 101540\n"
          ]
        }
      ]
    },
    {
      "cell_type": "markdown",
      "source": [
        "`soynlp` 깃허브의 튜토리얼 (https://github.com/lovit/soynlp/blob/master/tutorials/wordextractor_lecture.ipynb) 을 따라 결합 점수(`cohesion_forward`)와 브랜칭 엔트로피(`right_branching_entropy`)에 지수를 취한 값에 곱하여 최종 점수를 만든다."
      ],
      "metadata": {
        "id": "WVs9s3zF6Yj2"
      }
    },
    {
      "cell_type": "code",
      "source": [
        "import math\n",
        "\n",
        "score_dict = {key: scores[key].cohesion_forward * \n",
        "              math.exp(scores[key].right_branching_entropy)\n",
        "              for key in scores}"
      ],
      "metadata": {
        "id": "GJRsDNEq6r-X"
      },
      "execution_count": 17,
      "outputs": []
    },
    {
      "cell_type": "code",
      "source": [
        "# 이 점수를 LTokenizer의 scores 매개변수로 전달하여 객체를 만들고 위에서 테스트한 샘플에 다시 적용\n",
        "lto = LTokenizer(scores=score_dict)\n",
        "print(lto.tokenize(X_train[4]))"
      ],
      "metadata": {
        "colab": {
          "base_uri": "https://localhost:8080/"
        },
        "id": "S8mvucIv66Je",
        "outputId": "75d79a3c-f029-4643-8800-0c65e875dc82"
      },
      "execution_count": 18,
      "outputs": [
        {
          "output_type": "stream",
          "name": "stdout",
          "text": [
            "['사이', '몬페그의', '익살스', '런', '연기', '가', '돋보', '였던', '영화', '!스파이더맨에서', '늙어', '보이기만', '했던', '커스틴', '던스트가', '너무', '나도', '이뻐', '보였다']\n"
          ]
        }
      ]
    },
    {
      "cell_type": "markdown",
      "source": [
        "`lto.toeknizer` 메서드를 `TfidfVectorizer` 클래스에 전달하여 `konlpy`를 사용했을 때와 같은 조건으로 훈련 데이터셋과 테스트 데이터셋을 변환."
      ],
      "metadata": {
        "id": "DfzsF-0A7HW-"
      }
    },
    {
      "cell_type": "code",
      "source": [
        "if not os.path.isfile('soy_train.npz'):\n",
        "    tfidf = TfidfVectorizer(ngram_range=(1, 2),\n",
        "                            min_df=3,\n",
        "                            max_df=0.9,\n",
        "                            tokenizer=lto.tokenize, \n",
        "                            token_pattern=None)\n",
        "    tfidf.fit(X_train)\n",
        "    X_train_soy = tfidf.transform(X_train)\n",
        "    X_test_soy = tfidf.transform(X_test)\n",
        "    save_npz('soy_train.npz', X_train_soy)\n",
        "    save_npz('soy_test.npz', X_test_soy)\n",
        "else:\n",
        "    X_train_soy = load_npz('soy_train.npz')\n",
        "    X_test_soy = load_npz('soy_test.npz')"
      ],
      "metadata": {
        "id": "HR7TcuWa7TTN"
      },
      "execution_count": 19,
      "outputs": []
    },
    {
      "cell_type": "code",
      "source": [
        "rsv_soy = RandomizedSearchCV(estimator=sgd,\n",
        "                             param_distributions=param_dist,\n",
        "                             n_iter=50,\n",
        "                             random_state=1,\n",
        "                             verbose=1)\n",
        "rsv_soy.fit(X_train_soy, y_train)"
      ],
      "metadata": {
        "colab": {
          "base_uri": "https://localhost:8080/"
        },
        "id": "Xb3TSx2x7qt2",
        "outputId": "4f92853f-2090-402c-c8a3-1b5ad06741c8"
      },
      "execution_count": 20,
      "outputs": [
        {
          "output_type": "stream",
          "name": "stdout",
          "text": [
            "Fitting 5 folds for each of 50 candidates, totalling 250 fits\n"
          ]
        },
        {
          "output_type": "execute_result",
          "data": {
            "text/plain": [
              "RandomizedSearchCV(estimator=SGDClassifier(loss='log', random_state=1),\n",
              "                   n_iter=50,\n",
              "                   param_distributions={'alpha': <scipy.stats._distn_infrastructure.rv_frozen object at 0x7fc2bca3b050>},\n",
              "                   random_state=1, verbose=1)"
            ]
          },
          "metadata": {},
          "execution_count": 20
        }
      ]
    },
    {
      "cell_type": "code",
      "source": [
        "print(rsv_soy.best_score_)\n",
        "print(rsv_soy.best_params_)\n",
        "rsv_soy.score(X_test_soy, y_test)"
      ],
      "metadata": {
        "colab": {
          "base_uri": "https://localhost:8080/"
        },
        "id": "5fnbPqBY76_e",
        "outputId": "af705be9-31ea-463d-c83a-4f11c10c7153"
      },
      "execution_count": 21,
      "outputs": [
        {
          "output_type": "stream",
          "name": "stdout",
          "text": [
            "0.8141066666666665\n",
            "{'alpha': 0.0001001581395585897}\n"
          ]
        },
        {
          "output_type": "execute_result",
          "data": {
            "text/plain": [
              "0.8085"
            ]
          },
          "metadata": {},
          "execution_count": 21
        }
      ]
    },
    {
      "cell_type": "markdown",
      "source": [
        "### 데이터 전처리\n"
      ],
      "metadata": {
        "id": "AV-N2a7c8J0O"
      }
    },
    {
      "cell_type": "code",
      "source": [
        "df_train = pd.read_csv('/content/drive/MyDrive/머신러닝 교과서 with 파이썬, 사이킷런, 텐서플로/data/ratings_train.txt', delimiter='\\t')"
      ],
      "metadata": {
        "id": "8DsFyxGg9Cd3"
      },
      "execution_count": 22,
      "outputs": []
    },
    {
      "cell_type": "code",
      "source": [
        "df_train.info()"
      ],
      "metadata": {
        "colab": {
          "base_uri": "https://localhost:8080/"
        },
        "id": "s8kTpSw89Ggl",
        "outputId": "8a4ffc36-351a-409d-ccb3-836ffbf15545"
      },
      "execution_count": 23,
      "outputs": [
        {
          "output_type": "stream",
          "name": "stdout",
          "text": [
            "<class 'pandas.core.frame.DataFrame'>\n",
            "RangeIndex: 150000 entries, 0 to 149999\n",
            "Data columns (total 3 columns):\n",
            " #   Column    Non-Null Count   Dtype \n",
            "---  ------    --------------   ----- \n",
            " 0   id        150000 non-null  int64 \n",
            " 1   document  149995 non-null  object\n",
            " 2   label     150000 non-null  int64 \n",
            "dtypes: int64(2), object(1)\n",
            "memory usage: 3.4+ MB\n"
          ]
        }
      ]
    },
    {
      "cell_type": "code",
      "source": [
        "df_train[df_train.isnull().any(axis=1)].head()"
      ],
      "metadata": {
        "colab": {
          "base_uri": "https://localhost:8080/",
          "height": 206
        },
        "id": "211-x_qU9I5W",
        "outputId": "8089ec98-6f69-4681-a313-c43317bcb962"
      },
      "execution_count": 24,
      "outputs": [
        {
          "output_type": "execute_result",
          "data": {
            "text/html": [
              "\n",
              "  <div id=\"df-ac2c75bd-044d-4da3-bba1-1a08f39e8235\">\n",
              "    <div class=\"colab-df-container\">\n",
              "      <div>\n",
              "<style scoped>\n",
              "    .dataframe tbody tr th:only-of-type {\n",
              "        vertical-align: middle;\n",
              "    }\n",
              "\n",
              "    .dataframe tbody tr th {\n",
              "        vertical-align: top;\n",
              "    }\n",
              "\n",
              "    .dataframe thead th {\n",
              "        text-align: right;\n",
              "    }\n",
              "</style>\n",
              "<table border=\"1\" class=\"dataframe\">\n",
              "  <thead>\n",
              "    <tr style=\"text-align: right;\">\n",
              "      <th></th>\n",
              "      <th>id</th>\n",
              "      <th>document</th>\n",
              "      <th>label</th>\n",
              "    </tr>\n",
              "  </thead>\n",
              "  <tbody>\n",
              "    <tr>\n",
              "      <th>25857</th>\n",
              "      <td>2172111</td>\n",
              "      <td>NaN</td>\n",
              "      <td>1</td>\n",
              "    </tr>\n",
              "    <tr>\n",
              "      <th>55737</th>\n",
              "      <td>6369843</td>\n",
              "      <td>NaN</td>\n",
              "      <td>1</td>\n",
              "    </tr>\n",
              "    <tr>\n",
              "      <th>110014</th>\n",
              "      <td>1034280</td>\n",
              "      <td>NaN</td>\n",
              "      <td>0</td>\n",
              "    </tr>\n",
              "    <tr>\n",
              "      <th>126782</th>\n",
              "      <td>5942978</td>\n",
              "      <td>NaN</td>\n",
              "      <td>0</td>\n",
              "    </tr>\n",
              "    <tr>\n",
              "      <th>140721</th>\n",
              "      <td>1034283</td>\n",
              "      <td>NaN</td>\n",
              "      <td>0</td>\n",
              "    </tr>\n",
              "  </tbody>\n",
              "</table>\n",
              "</div>\n",
              "      <button class=\"colab-df-convert\" onclick=\"convertToInteractive('df-ac2c75bd-044d-4da3-bba1-1a08f39e8235')\"\n",
              "              title=\"Convert this dataframe to an interactive table.\"\n",
              "              style=\"display:none;\">\n",
              "        \n",
              "  <svg xmlns=\"http://www.w3.org/2000/svg\" height=\"24px\"viewBox=\"0 0 24 24\"\n",
              "       width=\"24px\">\n",
              "    <path d=\"M0 0h24v24H0V0z\" fill=\"none\"/>\n",
              "    <path d=\"M18.56 5.44l.94 2.06.94-2.06 2.06-.94-2.06-.94-.94-2.06-.94 2.06-2.06.94zm-11 1L8.5 8.5l.94-2.06 2.06-.94-2.06-.94L8.5 2.5l-.94 2.06-2.06.94zm10 10l.94 2.06.94-2.06 2.06-.94-2.06-.94-.94-2.06-.94 2.06-2.06.94z\"/><path d=\"M17.41 7.96l-1.37-1.37c-.4-.4-.92-.59-1.43-.59-.52 0-1.04.2-1.43.59L10.3 9.45l-7.72 7.72c-.78.78-.78 2.05 0 2.83L4 21.41c.39.39.9.59 1.41.59.51 0 1.02-.2 1.41-.59l7.78-7.78 2.81-2.81c.8-.78.8-2.07 0-2.86zM5.41 20L4 18.59l7.72-7.72 1.47 1.35L5.41 20z\"/>\n",
              "  </svg>\n",
              "      </button>\n",
              "      \n",
              "  <style>\n",
              "    .colab-df-container {\n",
              "      display:flex;\n",
              "      flex-wrap:wrap;\n",
              "      gap: 12px;\n",
              "    }\n",
              "\n",
              "    .colab-df-convert {\n",
              "      background-color: #E8F0FE;\n",
              "      border: none;\n",
              "      border-radius: 50%;\n",
              "      cursor: pointer;\n",
              "      display: none;\n",
              "      fill: #1967D2;\n",
              "      height: 32px;\n",
              "      padding: 0 0 0 0;\n",
              "      width: 32px;\n",
              "    }\n",
              "\n",
              "    .colab-df-convert:hover {\n",
              "      background-color: #E2EBFA;\n",
              "      box-shadow: 0px 1px 2px rgba(60, 64, 67, 0.3), 0px 1px 3px 1px rgba(60, 64, 67, 0.15);\n",
              "      fill: #174EA6;\n",
              "    }\n",
              "\n",
              "    [theme=dark] .colab-df-convert {\n",
              "      background-color: #3B4455;\n",
              "      fill: #D2E3FC;\n",
              "    }\n",
              "\n",
              "    [theme=dark] .colab-df-convert:hover {\n",
              "      background-color: #434B5C;\n",
              "      box-shadow: 0px 1px 3px 1px rgba(0, 0, 0, 0.15);\n",
              "      filter: drop-shadow(0px 1px 2px rgba(0, 0, 0, 0.3));\n",
              "      fill: #FFFFFF;\n",
              "    }\n",
              "  </style>\n",
              "\n",
              "      <script>\n",
              "        const buttonEl =\n",
              "          document.querySelector('#df-ac2c75bd-044d-4da3-bba1-1a08f39e8235 button.colab-df-convert');\n",
              "        buttonEl.style.display =\n",
              "          google.colab.kernel.accessAllowed ? 'block' : 'none';\n",
              "\n",
              "        async function convertToInteractive(key) {\n",
              "          const element = document.querySelector('#df-ac2c75bd-044d-4da3-bba1-1a08f39e8235');\n",
              "          const dataTable =\n",
              "            await google.colab.kernel.invokeFunction('convertToInteractive',\n",
              "                                                     [key], {});\n",
              "          if (!dataTable) return;\n",
              "\n",
              "          const docLinkHtml = 'Like what you see? Visit the ' +\n",
              "            '<a target=\"_blank\" href=https://colab.research.google.com/notebooks/data_table.ipynb>data table notebook</a>'\n",
              "            + ' to learn more about interactive tables.';\n",
              "          element.innerHTML = '';\n",
              "          dataTable['output_type'] = 'display_data';\n",
              "          await google.colab.output.renderOutput(dataTable, element);\n",
              "          const docLink = document.createElement('div');\n",
              "          docLink.innerHTML = docLinkHtml;\n",
              "          element.appendChild(docLink);\n",
              "        }\n",
              "      </script>\n",
              "    </div>\n",
              "  </div>\n",
              "  "
            ],
            "text/plain": [
              "             id document  label\n",
              "25857   2172111      NaN      1\n",
              "55737   6369843      NaN      1\n",
              "110014  1034280      NaN      0\n",
              "126782  5942978      NaN      0\n",
              "140721  1034283      NaN      0"
            ]
          },
          "metadata": {},
          "execution_count": 24
        }
      ]
    },
    {
      "cell_type": "markdown",
      "source": [
        "* document 칼럼\n",
        "    * Null이 일부 존재.\n",
        "    * 문자가 아닌 숫자의 경우 단어적인 의미로 부족.\n",
        "    * 정규 표현식을 사용하여 공백으로 변환."
      ],
      "metadata": {
        "id": "5EsSQ8Fz8bPu"
      }
    },
    {
      "cell_type": "code",
      "source": [
        "import re\n",
        "\n",
        "df_train = df_train.fillna(' ')\n",
        "# \\d : 숫자\n",
        "df_train['document'] = df_train['document'].apply(lambda x: re.sub(r'\\d+', \" \", x))\n",
        "\n",
        "df_test = pd.read_csv('/content/drive/MyDrive/머신러닝 교과서 with 파이썬, 사이킷런, 텐서플로/data/ratings_test.txt', delimiter='\\t')\n",
        "df_test = df_test.fillna(' ')\n",
        "df_test['document'] = df_test['document'].apply(lambda x: re.sub(r'\\d+', \" \", x))\n",
        "\n",
        "# id 칼럼 삭제\n",
        "df_train.drop('id', axis=1, inplace=True)\n",
        "df_test.drop('id', axis=1, inplace=True)"
      ],
      "metadata": {
        "id": "YB1TMBSf80P-"
      },
      "execution_count": 25,
      "outputs": []
    },
    {
      "cell_type": "code",
      "source": [
        "if not os.path.isfile('NonNum_okt_train.npz'):\n",
        "    tfidf = TfidfVectorizer(ngram_range=(1, 2), \n",
        "                            min_df=3,\n",
        "                            max_df=0.9,\n",
        "                            tokenizer=okt.morphs, \n",
        "                            token_pattern=None)\n",
        "    tfidf.fit(df_train['document'])\n",
        "    X_train_NonNum_okt = tfidf.transform(df_train['document'])\n",
        "    X_test_NonNum_okt = tfidf.transform(df_test['document'])\n",
        "    save_npz('NonNum_okt_train.npz', X_train_NonNum_okt)\n",
        "    save_npz('NonNum_okt_test.npz', X_test_NonNum_okt)\n",
        "else:\n",
        "    X_train_NonNum_okt = load_npz('NonNum_okt_train.npz')\n",
        "    X_test_NonNum_okt = load_npz('NonNum_okt_test.npz')"
      ],
      "metadata": {
        "id": "eo9AQJt4-tDV"
      },
      "execution_count": 26,
      "outputs": []
    },
    {
      "cell_type": "code",
      "source": [
        "from sklearn.linear_model import LogisticRegression\n",
        "from sklearn.model_selection import GridSearchCV\n",
        "\n",
        "lg_clf = LogisticRegression(random_state=0)\n",
        "\n",
        "# 파라미터 C 최적화를 위해 GridSearchCV를 이용\n",
        "params = {'C': [1.0, 3.5, 4.5, 5.5, 10.0, 50.0, 100.0]}\n",
        "grid_cv = GridSearchCV(lg_clf, param_grid=params, cv=3, scoring='accuracy', verbose=1)\n",
        "grid_cv.fit(X_train_NonNum_okt, df_train['label'])\n",
        "print(grid_cv.best_score_)\n",
        "print(grid_cv.best_params_)"
      ],
      "metadata": {
        "colab": {
          "base_uri": "https://localhost:8080/"
        },
        "id": "zXLx4Qwe_oUt",
        "outputId": "e4962108-2a76-4d15-d6ae-088e47d9635e"
      },
      "execution_count": 27,
      "outputs": [
        {
          "output_type": "stream",
          "name": "stdout",
          "text": [
            "Fitting 3 folds for each of 7 candidates, totalling 21 fits\n",
            "0.8592933333333334\n",
            "{'C': 3.5}\n"
          ]
        }
      ]
    },
    {
      "cell_type": "code",
      "source": [
        "from sklearn.metrics import accuracy_score\n",
        "\n",
        "best_estimator = grid_cv.best_estimator_\n",
        "preds = best_estimator.predict(X_test_NonNum_okt)\n",
        "print(accuracy_score(df_test['label'], preds))"
      ],
      "metadata": {
        "colab": {
          "base_uri": "https://localhost:8080/"
        },
        "id": "uveVnMnNAf40",
        "outputId": "b8f31ef4-dcb7-46bc-f64b-259289471dc6"
      },
      "execution_count": 28,
      "outputs": [
        {
          "output_type": "stream",
          "name": "stdout",
          "text": [
            "0.86186\n"
          ]
        }
      ]
    },
    {
      "cell_type": "code",
      "source": [
        "sgd_clf = SGDClassifier(loss='log', random_state=1) # 손실 함수는 로지스틱 손실('log')을 사용, 다른 손실함수를 매개변수 탐색에 포함할 수 있다.\n",
        "param_dist = {'alpha':loguniform(0.0001, 100.0)} # 규제를 위한 매개변수, RandomizedSearchCV 클래스를 사용하기 위해 loguniform 함수로 탐색 번위 지정\n",
        "random_cv = RandomizedSearchCV(estimator=sgd_clf,\n",
        "                             param_distributions=param_dist,\n",
        "                             n_iter=50, # 총 반복횟수는 50회\n",
        "                             random_state=1,\n",
        "                             verbose=1)\n",
        "random_cv.fit(X_train_NonNum_okt, df_train['label'])"
      ],
      "metadata": {
        "colab": {
          "base_uri": "https://localhost:8080/"
        },
        "id": "z8PewP_PMgOZ",
        "outputId": "a76b16d6-91c9-4ea9-aa04-0ed50c0e5ca2"
      },
      "execution_count": 29,
      "outputs": [
        {
          "output_type": "stream",
          "name": "stdout",
          "text": [
            "Fitting 5 folds for each of 50 candidates, totalling 250 fits\n"
          ]
        },
        {
          "output_type": "execute_result",
          "data": {
            "text/plain": [
              "RandomizedSearchCV(estimator=SGDClassifier(loss='log', random_state=1),\n",
              "                   n_iter=50,\n",
              "                   param_distributions={'alpha': <scipy.stats._distn_infrastructure.rv_frozen object at 0x7fc2a1181e50>},\n",
              "                   random_state=1, verbose=1)"
            ]
          },
          "metadata": {},
          "execution_count": 29
        }
      ]
    },
    {
      "cell_type": "code",
      "source": [
        "print(random_cv.best_score_)\n",
        "print(random_cv.best_params_)"
      ],
      "metadata": {
        "colab": {
          "base_uri": "https://localhost:8080/"
        },
        "id": "Sg79UtYcOTFJ",
        "outputId": "4af27564-194f-46db-a58d-3b8ab1fd457e"
      },
      "execution_count": 30,
      "outputs": [
        {
          "output_type": "stream",
          "name": "stdout",
          "text": [
            "0.8214266666666667\n",
            "{'alpha': 0.0001001581395585897}\n"
          ]
        }
      ]
    },
    {
      "cell_type": "code",
      "source": [
        "best_estimator = random_cv.best_estimator_\n",
        "preds = best_estimator.predict(X_test_NonNum_okt)\n",
        "print(accuracy_score(df_test['label'], preds))"
      ],
      "metadata": {
        "colab": {
          "base_uri": "https://localhost:8080/"
        },
        "id": "1qtPYS7BQd4y",
        "outputId": "e9835204-e89c-4d56-a1fe-bee78f9e99b4"
      },
      "execution_count": 31,
      "outputs": [
        {
          "output_type": "stream",
          "name": "stdout",
          "text": [
            "0.8152\n"
          ]
        }
      ]
    }
  ]
}
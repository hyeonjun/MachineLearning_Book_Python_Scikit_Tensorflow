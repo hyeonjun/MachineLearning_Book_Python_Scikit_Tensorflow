{
  "nbformat": 4,
  "nbformat_minor": 0,
  "metadata": {
    "colab": {
      "name": "ch09_Web_MachineLearning_1.ipynb",
      "provenance": [],
      "mount_file_id": "1aHo4VgO7CeCrETl-YttacWJcyP-A2mci",
      "authorship_tag": "ABX9TyNebeThTk//+IXcuNIcdsri"
    },
    "kernelspec": {
      "name": "python3",
      "display_name": "Python 3"
    },
    "language_info": {
      "name": "python"
    }
  },
  "cells": [
    {
      "cell_type": "code",
      "execution_count": 1,
      "metadata": {
        "id": "Z63gbSJoaTKp"
      },
      "outputs": [],
      "source": [
        "from IPython.display import Image"
      ]
    },
    {
      "cell_type": "markdown",
      "source": [
        "# 9. 웹 애플리케이션에 머신 러닝 모델 내장\n",
        "* 머신 러닝 모델의 현재 훈련 상태 저장\n",
        "* SQLite 데이터베이스를 사용하여 데이터 저장\n",
        "* Flask 웹 프레임워크를 사용하여 웹 애플리케이션 개발\n",
        "* 공개 웹 서버에 머신러닝 애플리케이션 배포\n",
        "\n",
        "# 9.1 학습된 사이킷런 추정기 저장\n",
        "* 학습된 모델 재사용 - pickle 모듈 : https://docs.python.org/3.7/library/pickle.html\n",
        "    * 파이썬 객체의 구졸르 압축된 바이트코드로 직렬화하고 복원할 수 있다.\n",
        "    \n",
        "    "
      ],
      "metadata": {
        "id": "uMIu8ED7a7i1"
      }
    },
    {
      "cell_type": "code",
      "source": [
        "import nltk\n",
        "nltk.download('stopwords')"
      ],
      "metadata": {
        "colab": {
          "base_uri": "https://localhost:8080/"
        },
        "id": "yYMlfDQZb-o7",
        "outputId": "2a4ecb85-016c-4052-aca6-4849f659d362"
      },
      "execution_count": 2,
      "outputs": [
        {
          "output_type": "stream",
          "name": "stdout",
          "text": [
            "[nltk_data] Downloading package stopwords to /root/nltk_data...\n",
            "[nltk_data]   Package stopwords is already up-to-date!\n"
          ]
        },
        {
          "output_type": "execute_result",
          "data": {
            "text/plain": [
              "True"
            ]
          },
          "metadata": {},
          "execution_count": 2
        }
      ]
    },
    {
      "cell_type": "code",
      "source": [
        "import numpy as np\n",
        "import re\n",
        "from nltk.corpus import stopwords\n",
        "from nltk.stem import PorterStemmer\n",
        "\n",
        "stop = stopwords.words('english')\n",
        "porter = PorterStemmer()\n",
        "\n",
        "def tokenizer(text):\n",
        "    text = re.sub('<[^>]*>', '', text)\n",
        "    emoticons = re.findall('(?::|;|=)(?:-)?(?:\\)|\\(|D|P)', text.lower())\n",
        "    text = re.sub('[\\W]+', ' ', text.lower()) + ' '.join(emoticons).replace('-', '')\n",
        "    tokenized = [w for w in text.split() if w not in stop]\n",
        "    return tokenized\n",
        "\n",
        "def stream_docs(path):\n",
        "    with open(path, 'r', encoding='utf-8') as csv:\n",
        "        next(csv) # skip header\n",
        "        for line in csv:\n",
        "            text, label = line[:-3], int(line[-2])\n",
        "            yield text, label\n",
        "\n",
        "def get_minibatch(doc_stream, size):\n",
        "    docs, y = [], []\n",
        "    try:\n",
        "        for _ in range(size):\n",
        "            text, label = next(doc_stream)\n",
        "            docs.append(text)\n",
        "            y.append(label)\n",
        "    except StopIteration:\n",
        "        return None, None\n",
        "    return docs, y\n",
        "\n",
        "from sklearn.feature_extraction.text import HashingVectorizer\n",
        "from sklearn.linear_model import SGDClassifier\n",
        "\n",
        "vect = HashingVectorizer(decode_error='ignore', \n",
        "                         n_features=2**21,\n",
        "                         preprocessor=None, \n",
        "                         tokenizer=tokenizer)\n",
        "\n",
        "clf = SGDClassifier(loss='log', random_state=1, max_iter=1)\n",
        "doc_stream = stream_docs(path='/content/drive/MyDrive/머신러닝 교과서 with 파이썬, 사이킷런, 텐서플로/data/movie_data.csv')"
      ],
      "metadata": {
        "id": "xHBDbIM8cCOp"
      },
      "execution_count": 3,
      "outputs": []
    },
    {
      "cell_type": "code",
      "source": [
        "!pip install pyprind"
      ],
      "metadata": {
        "colab": {
          "base_uri": "https://localhost:8080/"
        },
        "id": "yXUGEqzIcEih",
        "outputId": "6a623b9c-fc41-411f-d21a-a5ad5e910527"
      },
      "execution_count": 4,
      "outputs": [
        {
          "output_type": "stream",
          "name": "stdout",
          "text": [
            "Requirement already satisfied: pyprind in /usr/local/lib/python3.7/dist-packages (2.11.3)\n"
          ]
        }
      ]
    },
    {
      "cell_type": "code",
      "source": [
        "import pyprind\n",
        "pbar = pyprind.ProgBar(45)\n",
        "\n",
        "classes = np.array([0, 1])\n",
        "for _ in range(45):\n",
        "    X_train, y_train = get_minibatch(doc_stream, size=1000)\n",
        "    if not X_train:\n",
        "        break\n",
        "    X_train = vect.transform(X_train)\n",
        "    clf.partial_fit(X_train, y_train, classes=classes)\n",
        "    pbar.update()"
      ],
      "metadata": {
        "colab": {
          "base_uri": "https://localhost:8080/"
        },
        "id": "uw1bTFPucRLB",
        "outputId": "e48a6021-2d06-4b75-fc1e-a0947a160325"
      },
      "execution_count": 5,
      "outputs": [
        {
          "output_type": "stream",
          "name": "stderr",
          "text": [
            "0% [##############################] 100% | ETA: 00:00:00\n",
            "Total time elapsed: 00:00:32\n"
          ]
        }
      ]
    },
    {
      "cell_type": "code",
      "source": [
        "X_test, y_test = get_minibatch(doc_stream, size=5000)\n",
        "X_test = vect.transform(X_test)\n",
        "print('정확도: %.3f' % clf.score(X_test, y_test))"
      ],
      "metadata": {
        "colab": {
          "base_uri": "https://localhost:8080/"
        },
        "id": "yNeRHN77cWLR",
        "outputId": "4a17a327-36f8-4b65-d669-585cc50c9d7c"
      },
      "execution_count": 6,
      "outputs": [
        {
          "output_type": "stream",
          "name": "stdout",
          "text": [
            "정확도: 0.868\n"
          ]
        }
      ]
    },
    {
      "cell_type": "code",
      "source": [
        "clf = clf.partial_fit(X_test, y_test)"
      ],
      "metadata": {
        "id": "BJZlXRKUcXVT"
      },
      "execution_count": 7,
      "outputs": []
    },
    {
      "cell_type": "markdown",
      "source": [
        "로지스틱 회귀 모델을 훈련한 후에 분류기, 불용어, 포터 어간 추출기, HashingVectorizer를 로컬 디스크에 직렬화된 객체로 저장.\n",
        "\n",
        "* pickle\n",
        "    * dump 메서드를 사용하여 훈련된 로지스틱 회귀 모델뿐만 아니라 NLTK 라이브러리의 불용어도 직렬화하여 저장.\n",
        "        * 이후 NLTK 라이브러리를 설치하지 않기 위해\n",
        "    * dump 메서드 매개변수\n",
        "        * 첫 번째 대상 객체를 받는다.\n",
        "        * 두 번째 파이썬 객체가 저장될 파일 객체를 받는다.\n",
        "        * pickle 모듈을 위해 open 함수에서 wb 매개변수를 사용하여 이진 모드로 파일을 엽니다.\n",
        "        * protocol=4로 지정하여 파이썬 3.4 버전과 그 이상 버전에서 사용할 수 있는 가장 효율적이고 최신의 pickle 프로토콜을 사용."
      ],
      "metadata": {
        "id": "aLtYkyA8cnrZ"
      }
    },
    {
      "cell_type": "code",
      "source": [
        "import pickle\n",
        "import os\n",
        "\n",
        "dest = os.path.join('movieclassifier', 'pkl_objects')\n",
        "if not os.path.exists(dest):\n",
        "    os.makedirs(dest)\n",
        "\n",
        "pickle.dump(stop, open(os.path.join(dest, 'stopwords.pkl'), 'wb'), protocol=4)\n",
        "pickle.dump(clf, open(os.path.join(dest, 'classifier.pkl'), 'wb'), protocol=4)"
      ],
      "metadata": {
        "id": "J91XwKZRcxWB"
      },
      "execution_count": 8,
      "outputs": []
    },
    {
      "cell_type": "markdown",
      "source": [
        "HashingVectorizer는 학습 과정이 없기 때문에 pickle로 직렬화할 필요가 없다. 그 대신 현재 사용하고 있는 파이썬 세션에서 HashingVectorizer 객체를 임포트할 수 있도록 파이썬 스크립트를 만든다."
      ],
      "metadata": {
        "id": "c2a16e9EeCwZ"
      }
    },
    {
      "cell_type": "code",
      "source": [
        "%%writefile movieclassifier/vectorizer.py\n",
        "from sklearn.feature_extraction.text import HashingVectorizer\n",
        "import re\n",
        "import os\n",
        "import pickle\n",
        "\n",
        "cur_dir = os.path.dirname(__file__)\n",
        "stop = pickle.load(open(\n",
        "                os.path.join(cur_dir, \n",
        "                'pkl_objects', \n",
        "                'stopwords.pkl'), 'rb'))\n",
        "\n",
        "def tokenizer(text):\n",
        "    text = re.sub('<[^>]*>', '', text)\n",
        "    emoticons = re.findall('(?::|;|=)(?:-)?(?:\\)|\\(|D|P)',\n",
        "                           text.lower())\n",
        "    text = re.sub('[\\W]+', ' ', text.lower()) \\\n",
        "                   + ' '.join(emoticons).replace('-', '')\n",
        "    tokenized = [w for w in text.split() if w not in stop]\n",
        "    return tokenized\n",
        "\n",
        "vect = HashingVectorizer(decode_error='ignore',\n",
        "                         n_features=2**21,\n",
        "                         preprocessor=None,\n",
        "                         tokenizer=tokenizer)"
      ],
      "metadata": {
        "colab": {
          "base_uri": "https://localhost:8080/"
        },
        "id": "t9fWvUL5eS2x",
        "outputId": "3f3598a8-c62b-4394-e6de-a70a054afb11"
      },
      "execution_count": 9,
      "outputs": [
        {
          "output_type": "stream",
          "name": "stdout",
          "text": [
            "Overwriting movieclassifier/vectorizer.py\n"
          ]
        }
      ]
    },
    {
      "cell_type": "code",
      "source": [
        "# 현재 디렉토리를 movieclassifier로 변경\n",
        "os.chdir('movieclassifier')"
      ],
      "metadata": {
        "id": "n8t9bKRtfJ8i"
      },
      "execution_count": 10,
      "outputs": []
    },
    {
      "cell_type": "code",
      "source": [
        "# vectorizer를 임포트한 후 복원한 분류기 객체를 사용하여 문서 샘플을 전처리하고 감성 레이블을 예측\n",
        "from vectorizer import vect\n",
        "\n",
        "clf = pickle.load(open(os.path.join('pkl_objects', 'classifier.pkl'), 'rb'))"
      ],
      "metadata": {
        "id": "TXYf_T94g3dh"
      },
      "execution_count": 11,
      "outputs": []
    },
    {
      "cell_type": "code",
      "source": [
        "import numpy as np\n",
        "label = {0:'음성', 1:'양성'}\n",
        "example = [\"I love this movie. It's amazing.\"]\n",
        "X = vect.transform(example)\n",
        "print('예측: %s\\n확률: %.2f%%' %\\\n",
        "      (label[clf.predict(X)[0]], \n",
        "       np.max(clf.predict_proba(X))*100))"
      ],
      "metadata": {
        "colab": {
          "base_uri": "https://localhost:8080/"
        },
        "id": "7Q6oJHwHfdpw",
        "outputId": "5ba489d5-3638-430f-9c82-e22ba47f3f6d"
      },
      "execution_count": 12,
      "outputs": [
        {
          "output_type": "stream",
          "name": "stdout",
          "text": [
            "예측: 양성\n",
            "확률: 95.55%\n"
          ]
        }
      ]
    },
    {
      "cell_type": "markdown",
      "source": [
        "# 9.2 데이터를 저장하기 위해 SQLite 데이터베이스 설정\n"
      ],
      "metadata": {
        "id": "7b5IL9iWhP-Q"
      }
    },
    {
      "cell_type": "code",
      "source": [
        "os.getcwd() # 현재 위치 확인"
      ],
      "metadata": {
        "colab": {
          "base_uri": "https://localhost:8080/",
          "height": 35
        },
        "id": "ckCPx_zZhssx",
        "outputId": "2f56ec73-5a18-4ef1-ae6b-dbc8251743c6"
      },
      "execution_count": 13,
      "outputs": [
        {
          "output_type": "execute_result",
          "data": {
            "application/vnd.google.colaboratory.intrinsic+json": {
              "type": "string"
            },
            "text/plain": [
              "'/content/movieclassifier'"
            ]
          },
          "metadata": {},
          "execution_count": 13
        }
      ]
    },
    {
      "cell_type": "code",
      "source": [
        "import sqlite3\n",
        "\n",
        "# sqlite 라이브러리의 connect 메서드를 호출하여 SQLite 데이터베이스에 연결\n",
        "conn = sqlite3.connect('reviews.sqlite') # movieclassifier 디렉터리에 reviews.sqlite가 없다면 새로운 데이터베이스 파일을 만든다\n",
        "c = conn.cursor() # 데이터베이스 커서 - SQL 문법으로 데이터베이스 레코드 조작 가능\n",
        "\n",
        "c.execute('DROP TABLE IF EXISTS review_db')\n",
        "c.execute('CREATE TABLE review_db (review TEXT, sentiment INTEGER, date TEXT)') # 테이블 생성\n",
        "\n",
        "example1 = 'I love this movie'\n",
        "c.execute(\"INSERT INTO review_db (review, sentiment, date) VALUES (?, ?, DATETIME('now'))\", (example1, 1))\n",
        "\n",
        "example2 = 'I disliked this movie'\n",
        "c.execute(\"INSERT INTO review_db (review, sentiment, date) VALUES (?, ?, DATETIME('now'))\", (example2, 0))\n",
        "\n",
        "conn.commit() # 데이터베이스 변경사항 저장\n",
        "conn.close() # 데이터베이스 연결 끊음"
      ],
      "metadata": {
        "id": "NluOUwSPhkkY"
      },
      "execution_count": 14,
      "outputs": []
    },
    {
      "cell_type": "code",
      "source": [
        "conn = sqlite3.connect('reviews.sqlite')\n",
        "c = conn.cursor()\n",
        "\n",
        "c.execute(\"SELECT * FROM review_db WHERE date BETWEEN '2017-01-01 10:10:10' AND DATETIME('now')\")\n",
        "results = c.fetchall()\n",
        "\n",
        "conn.close()\n",
        "\n",
        "print(results)"
      ],
      "metadata": {
        "colab": {
          "base_uri": "https://localhost:8080/"
        },
        "id": "sM-sEe37jiA0",
        "outputId": "a965765c-1274-419b-81ae-c20f2964ee64"
      },
      "execution_count": 15,
      "outputs": [
        {
          "output_type": "stream",
          "name": "stdout",
          "text": [
            "[('I love this movie', 1, '2022-01-23 16:18:25'), ('I disliked this movie', 0, '2022-01-23 16:18:25')]\n"
          ]
        }
      ]
    },
    {
      "cell_type": "code",
      "source": [
        "# SQLite 전용 데이터베이스 브라우저 : https://sqlitebrowser.org/\n",
        "Image(url='https://git.io/Jts3V', width=700) "
      ],
      "metadata": {
        "colab": {
          "base_uri": "https://localhost:8080/",
          "height": 476
        },
        "id": "7b4lzT2xjmEK",
        "outputId": "6a5610b3-532c-425d-d785-ebd9b0f7ea9d"
      },
      "execution_count": 16,
      "outputs": [
        {
          "output_type": "execute_result",
          "data": {
            "text/html": [
              "<img src=\"https://git.io/Jts3V\" width=\"700\"/>"
            ],
            "text/plain": [
              "<IPython.core.display.Image object>"
            ]
          },
          "metadata": {},
          "execution_count": 16
        }
      ]
    },
    {
      "cell_type": "markdown",
      "source": [
        "# 9.3 플라스크 웹 애플리케이션 개발\n",
        "\n",
        "### 9.3.1 첫 번째 플라스크 애플리케이션\n",
        "\n",
        "![image.png](data:image/png;base64,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)"
      ],
      "metadata": {
        "id": "PtWu7k2AkVua"
      }
    },
    {
      "cell_type": "markdown",
      "source": [
        "### 9.3.2 폼 검증과 화면 출력\n",
        "\n",
        "* WTForms 라이브러를 사용하여 사용자로부터 데이터 수집\n",
        "\n",
        "![image.png](data:image/png;base64,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)"
      ],
      "metadata": {
        "id": "9ORTXLWOoFgW"
      }
    }
  ]
}
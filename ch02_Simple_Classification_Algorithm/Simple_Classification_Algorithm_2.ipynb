{
  "nbformat": 4,
  "nbformat_minor": 0,
  "metadata": {
    "colab": {
      "name": "ch02_Simple_Classification_Algorithm_2.ipynb",
      "provenance": [],
      "collapsed_sections": [],
      "authorship_tag": "ABX9TyPXOvkArBdUbMdI3nOI5Uyv"
    },
    "kernelspec": {
      "name": "python3",
      "display_name": "Python 3"
    },
    "language_info": {
      "name": "python"
    }
  },
  "cells": [
    {
      "cell_type": "code",
      "execution_count": 1,
      "metadata": {
        "id": "lRDay2PUoN3i"
      },
      "outputs": [],
      "source": [
        "from IPython.display import Image"
      ]
    },
    {
      "cell_type": "markdown",
      "source": [
        "# 2.3 적응형 선형 뉴런과 학습의 수렴\n",
        "* 아달린 : 연속함수(continuous function)로 비용 함수를 정의하고 최소화하는 핵심 개념\n",
        "    * 가중치 업데이터 : 선형 활성화 함수 $\\phi(z) = z$\n",
        "\n",
        "$\\phi(z)$ : 항등 함수"
      ],
      "metadata": {
        "id": "QpBoRP7XovaF"
      }
    },
    {
      "cell_type": "code",
      "source": [
        "Image(url='https://git.io/JtIbn', width=600) "
      ],
      "metadata": {
        "colab": {
          "base_uri": "https://localhost:8080/",
          "height": 450
        },
        "id": "Oeqc1moIrpuc",
        "outputId": "20844891-c1d7-4dde-bfce-4d28c938e420"
      },
      "execution_count": 2,
      "outputs": [
        {
          "output_type": "execute_result",
          "data": {
            "text/html": [
              "<img src=\"https://git.io/JtIbn\" width=\"600\"/>"
            ],
            "text/plain": [
              "<IPython.core.display.Image object>"
            ]
          },
          "metadata": {},
          "execution_count": 2
        }
      ]
    },
    {
      "cell_type": "markdown",
      "source": [
        "퍼셉트론은 정답 클래스 레이블과 예측 클래스 레이블을 비교\n",
        "\n",
        "아달린 알고리즘은 정답 클래스 레이블과 선형 활성화 함수의 실수 출력 값을 비교하여 모델의 오차를 계산하고 가중치를 업데이트."
      ],
      "metadata": {
        "id": "xtvx2YzluVAG"
      }
    },
    {
      "cell_type": "markdown",
      "source": [
        "### 2.3.1 경사 하강법으로 비용 함수 최소화\n",
        "* 학습 과정 동안 최적화하기 위해 정의한 목적 함수\n",
        "* 목적 함수 == 비용 함수 == 손실 함수\n",
        "* 계산된 출력과 정답 클래스 레이블 사이의 제곱 오차합(Sum of Squared Errors, SSE)으로 가중치를 학습하기 위한 비용 함수 $J$를 정의\n",
        "\n",
        "$J(\\boldsymbol{w})=\\dfrac{1}{2}\\sum_i\\left(y^{(i)}-\\phi(z^{(i)})\\right)^2$\n",
        "\n",
        "* 경사 하강법을 적용하여 비용 함수를 최소화하는 가중치를 찾을 수 있음"
      ],
      "metadata": {
        "id": "xXT1fp9eu_qs"
      }
    },
    {
      "cell_type": "code",
      "source": [
        "Image(url='https://git.io/JtIbc', width=500)"
      ],
      "metadata": {
        "colab": {
          "base_uri": "https://localhost:8080/",
          "height": 274
        },
        "id": "HKMAKg8vvv5E",
        "outputId": "bf29392b-236e-4a26-d901-219ad8d457d7"
      },
      "execution_count": 3,
      "outputs": [
        {
          "output_type": "execute_result",
          "data": {
            "text/html": [
              "<img src=\"https://git.io/JtIbc\" width=\"500\"/>"
            ],
            "text/plain": [
              "<IPython.core.display.Image object>"
            ]
          },
          "metadata": {},
          "execution_count": 3
        }
      ]
    },
    {
      "cell_type": "markdown",
      "source": [
        "진행 크기 = 경사의 기술기와 학습률로 결정.\n",
        "\n",
        "* 제곱 오차합의 도함수\n",
        "\n",
        "$\\\n",
        "\\begin{align*}\n",
        "\\dfrac{\\partial J}{\\partial w_j}\\\n",
        "&=\\dfrac{\\partial}{\\partial w_j}\\dfrac{1}{2}\\sum_i\\left(y^{(i)}-\\phi(z^{(i)})\\right)^2 \\\\\n",
        "&=\\dfrac{1}{2}\\dfrac{\\partial}{\\partial w_j}\\sum_i\\left(y^{(i)}-\\phi(z^{(i)})\\right)^2 \\\\\n",
        "&=\\dfrac{1}{2}\\sum_i2\\left(y^{(i)}-\\phi(z^{(i)})\\right)\\dfrac{\\partial}{\\partial w_j}\\left(y^{(i)}-\\phi(z^{(i)})\\right) \\\\\n",
        "&=\\sum_i\\left(y^{(i)}-\\phi(z^{(i)})\\right)\\dfrac{\\partial}{\\partial w_j}\\left(y^{(i)}-\\sum(w_kx_k^{(i)})\\right) \\\\\n",
        "&=\\sum_i\\left(y^{(i)}-\\phi(z^{(i)})\\right)\\left(-x_j^{(i)}\\right) \\\\\n",
        "&=-\\sum_i\\left(y^{(i)}-\\phi(z^{(i)})\\right)x_j^{(i)} \\\\\n",
        "\\end{align*}\n",
        "$\n",
        "\n",
        "$\\mathit\\Delta w_j=-\\eta\\dfrac{\\partial J}{\\partial w_j}=\\eta\\sum_i\\left(y^{(i)}-\\phi(z^{(i)})\\right)x_j^{(i)}$\n",
        "\n",
        "$\\boldsymbol{w} := \\boldsymbol{w} + \\mathit\\Delta \\boldsymbol{w}$\n",
        "\n",
        "* 훈련 데이터셋에 있는 모든 샘플을 기반으로 가중치 업데이트 = 배치 경사 하강법(batch gradient descent)"
      ],
      "metadata": {
        "id": "j6Lfu0b_vy3V"
      }
    },
    {
      "cell_type": "markdown",
      "source": [
        "### 2.3.2 아달린 구현"
      ],
      "metadata": {
        "id": "0SsT5KL60gI9"
      }
    },
    {
      "cell_type": "code",
      "source": [
        "class AdalineGD(object):\n",
        "    # 적응형 선형 뉴런 분류기\n",
        "    # 매개변수 : eta, n_iter, random_state\n",
        "    # 속성 : w_(학습된 가중치), cost_(epoch마다 누적된 비용함수의 제곱합)\n",
        "    def __init__(self, eta=0.01, n_iter=50, random_state=1):\n",
        "        self.eta = eta\n",
        "        self.n_iter = n_iter\n",
        "        self.random_state = random_state\n",
        "    \n",
        "    def fit(self, X, y): # 훈련 데이터 학습\n",
        "        rgen = np.random.RandomState(self.random_state)\n",
        "        self.w_ = rgen.normal(loc=0.0, scale=0.01, size=1 + X.shape[1])\n",
        "        self.cost_ = []\n",
        "\n",
        "        for i in range(self.n_iter):\n",
        "            net_input = self.net_input(X)\n",
        "            # 활성화 함수는 항등함수\n",
        "            output = self.activation(net_input) # output = self.net_input(X)로 쓸 수 있음\n",
        "            errors = (y - output)\n",
        "            self.w_[1:] += self.eta * X.T.dot(errors) # 특성 행렬과 오차 벡터 간의 행렬-벡터 곱\n",
        "            self.w_[0] += self.eta * errors.sum()\n",
        "            cost = (errors**2).sum() / 2.0\n",
        "            self.cost_.append(cost)\n",
        "        return self\n",
        "    \n",
        "    def net_input(self, X): # 최종 입력 계산\n",
        "        return np.dot(X, self.w_[1:]) + self.w_[0]\n",
        "    \n",
        "    def activation(self, X): # 선형 활성화 계산\n",
        "        return X\n",
        "    \n",
        "    def predict(self, X):\n",
        "        return np.where(self.activation(self.net_input(X)) >= 0.0, 1, -1)"
      ],
      "metadata": {
        "id": "506f2xfd0lq8"
      },
      "execution_count": 4,
      "outputs": []
    },
    {
      "cell_type": "markdown",
      "source": [
        "* activation 메서드는 단순한 항등 함수이기 때문에 아무런 영향을 미치지 않음.\n",
        "* 입력 데이터의 특성에서 최종 입력, 활성화, 출력 순으로 진행\n"
      ],
      "metadata": {
        "id": "JKBTw9Wd0kss"
      }
    },
    {
      "cell_type": "code",
      "source": [
        "import pandas as pd\n",
        "import numpy as np\n",
        "s = 'https://archive.ics.uci.edu/ml/machine-learning-databases/iris/iris.data'\n",
        "df = pd.read_csv(s, header=None, encoding='utf-8')\n",
        "\n",
        "y = df.iloc[0:100, 4].values\n",
        "y = np.where(y == 'Iris-setosa', -1, 1)\n",
        "\n",
        "X = df.iloc[0:100, [0, 2]].values"
      ],
      "metadata": {
        "id": "iVHwIq3q4ZFF"
      },
      "execution_count": 5,
      "outputs": []
    },
    {
      "cell_type": "code",
      "source": [
        "import matplotlib.pyplot as plt\n",
        "\n",
        "fig, ax = plt.subplots(nrows=1, ncols=2, figsize=(10, 4))\n",
        "\n",
        "ada1 = AdalineGD(n_iter=10, eta=0.01).fit(X, y)\n",
        "ax[0].plot(range(1, len(ada1.cost_)+1), np.log10(ada1.cost_), marker='o') # 손실값이 너무 커서 log 씌움\n",
        "ax[0].set_xlabel('Epochs')\n",
        "ax[0].set_ylabel('log(Sum-squared-error)')\n",
        "ax[0].set_title('Adaline - Learning rate 0.01')\n",
        "\n",
        "ada2 = AdalineGD(n_iter=10, eta=0.0001).fit(X, y)\n",
        "ax[1].plot(range(1, len(ada2.cost_) + 1), ada2.cost_, marker='o')\n",
        "ax[1].set_xlabel('Epochs')\n",
        "ax[1].set_ylabel('Sum-squared-error')\n",
        "ax[1].set_title('Adaline - Learning rate 0.0001')"
      ],
      "metadata": {
        "colab": {
          "base_uri": "https://localhost:8080/",
          "height": 313
        },
        "id": "3mE6tKl33LPt",
        "outputId": "29ab84a0-7dbd-4dd9-9f81-748c2591f938"
      },
      "execution_count": 6,
      "outputs": [
        {
          "output_type": "execute_result",
          "data": {
            "text/plain": [
              "Text(0.5, 1.0, 'Adaline - Learning rate 0.0001')"
            ]
          },
          "metadata": {},
          "execution_count": 6
        },
        {
          "output_type": "display_data",
          "data": {
            "image/png": "[encoded data removed]",
            "text/plain": [
              "<Figure size 720x288 with 2 Axes>"
            ]
          },
          "metadata": {
            "needs_background": "light"
          }
        }
      ]
    },
    {
      "cell_type": "markdown",
      "source": [
        "* 0.01의 경우 비용함수를 최소화 하지 못하고 에포크마다 점점 커짐\n",
        "* 0.0001의 경우 비용이 감수하고 있지만, 학습률이 너무 작아서 최솟값에 수렴하려면 너무 많은 에폭이 필요."
      ],
      "metadata": {
        "id": "I9ZhJlNP45kd"
      }
    },
    {
      "cell_type": "code",
      "source": [
        "Image(url='https://git.io/JtIb4', width=700) "
      ],
      "metadata": {
        "colab": {
          "base_uri": "https://localhost:8080/",
          "height": 259
        },
        "id": "q2CxInId5MQM",
        "outputId": "b0b9982a-ea79-4c28-d2ea-c4cfa65713f5"
      },
      "execution_count": 7,
      "outputs": [
        {
          "output_type": "execute_result",
          "data": {
            "text/html": [
              "<img src=\"https://git.io/JtIb4\" width=\"700\"/>"
            ],
            "text/plain": [
              "<IPython.core.display.Image object>"
            ]
          },
          "metadata": {},
          "execution_count": 7
        }
      ]
    },
    {
      "cell_type": "markdown",
      "source": [
        "### 2.3.2 특성 스케일을 조정하여 경사 하강법 결과 향상\n",
        "* 표준화(Standardization) 특성 스케일 : 각 특성의 평균을 0에 맞추고 특성의 표준 편차를 1(단위 분산)으로 만듬.\n",
        "* 데이터에 평균이 0이고 단위 분산을 갖는 표준 정규 분포의 성질을 부여하여 경사 하강법 학습이 좀 더 빠르게 수렴되도록 도움.\n",
        "* 원본 데이터셋을 정규 분포로 만드는 것이 아님.\n",
        "* 표준화(standardization) : $\\boldsymbol{x}'_j=\\dfrac{\\boldsymbol{x}_j-\\mu_j}{\\sigma_j}$\n",
        "    * 평균 : $\\mu_j$\n",
        "    * 표준 편차 : $\\sigma_j$\n"
      ],
      "metadata": {
        "id": "dYa8ntJY58r2"
      }
    },
    {
      "cell_type": "code",
      "source": [
        "Image(url='https://git.io/JtIbB', width=700) "
      ],
      "metadata": {
        "colab": {
          "base_uri": "https://localhost:8080/",
          "height": 344
        },
        "id": "RJQsRN-U6dEw",
        "outputId": "bfd14957-fa47-4e90-dbd9-c3e6738b3011"
      },
      "execution_count": 8,
      "outputs": [
        {
          "output_type": "execute_result",
          "data": {
            "text/html": [
              "<img src=\"https://git.io/JtIbB\" width=\"700\"/>"
            ],
            "text/plain": [
              "<IPython.core.display.Image object>"
            ]
          },
          "metadata": {},
          "execution_count": 8
        }
      ]
    },
    {
      "cell_type": "code",
      "source": [
        "# 표준화\n",
        "X_std = np.copy(X)\n",
        "X_std[:, 0] = (X[:, 0] - X[:, 0].mean()) / X[:, 0].std()\n",
        "X_std[:, 1] = (X[:, 1] - X[:, 1].mean()) / X[:, 1].std()"
      ],
      "metadata": {
        "id": "toRDMnCn62GO"
      },
      "execution_count": 9,
      "outputs": []
    },
    {
      "cell_type": "code",
      "source": [
        "from matplotlib.colors import ListedColormap\n",
        "\n",
        "\n",
        "def plot_decision_regions(X, y, classifier, resolution=0.02):\n",
        "\n",
        "    # 마커와 컬러맵을 설정합니다\n",
        "    markers = ('s', 'x', 'o', '^', 'v')\n",
        "    colors = ('red', 'blue', 'lightgreen', 'gray', 'cyan')\n",
        "    cmap = ListedColormap(colors[:len(np.unique(y))])\n",
        "\n",
        "    # 결정 경계를 그립니다\n",
        "    x1_min, x1_max = X[:, 0].min() - 1, X[:, 0].max() + 1  # 꽃받침 길이 최소/최대\n",
        "    x2_min, x2_max = X[:, 1].min() - 1, X[:, 1].max() + 1  # 꽃잎 길이 최소/최대\n",
        "    xx1, xx2 = np.meshgrid(np.arange(x1_min, x1_max, resolution),\n",
        "                           np.arange(x2_min, x2_max, resolution))\n",
        "    Z = classifier.predict(np.array([xx1.ravel(), xx2.ravel()]).T)\n",
        "    Z = Z.reshape(xx1.shape)\n",
        "    plt.contourf(xx1, xx2, Z, alpha=0.3, cmap=cmap)\n",
        "    plt.xlim(xx1.min(), xx1.max())\n",
        "    plt.ylim(xx2.min(), xx2.max())\n",
        "\n",
        "    # 샘플의 산점도를 그립니다\n",
        "    for idx, cl in enumerate(np.unique(y)):\n",
        "        plt.scatter(x=X[y == cl, 0], \n",
        "                    y=X[y == cl, 1],\n",
        "                    alpha=0.8, \n",
        "                    c=colors[idx],\n",
        "                    marker=markers[idx], \n",
        "                    label=cl, \n",
        "                    edgecolor=None if idx==1 else 'black')"
      ],
      "metadata": {
        "id": "b_Qwt8pz7W21"
      },
      "execution_count": 10,
      "outputs": []
    },
    {
      "cell_type": "code",
      "source": [
        "# 표준화 후 아달린 모델을 훈련하고 학습률 0.01에서 몇 번의 에폭만에 수렴하는지 확인\n",
        "ada_gd = AdalineGD(n_iter=15, eta=0.01)\n",
        "ada_gd.fit(X_std, y)\n",
        "\n",
        "plot_decision_regions(X_std, y, classifier=ada_gd)\n",
        "plt.title('Adaline - Gradient Descent')\n",
        "plt.xlabel('sepal length [standardized]')\n",
        "plt.ylabel('petal length [standardized]')\n",
        "plt.legend(loc='upper left')\n",
        "plt.tight_layout()\n",
        "plt.show()\n",
        "\n",
        "plt.plot(range(1, len(ada_gd.cost_) + 1), ada_gd.cost_, marker='o')\n",
        "plt.xlabel('Epochs')\n",
        "plt.ylabel('Sum-squared-error')\n",
        "plt.tight_layout()\n",
        "plt.show()"
      ],
      "metadata": {
        "colab": {
          "base_uri": "https://localhost:8080/",
          "height": 577
        },
        "id": "pL46w-a97Gn0",
        "outputId": "7e2e8b89-ebf3-4d63-9230-a7d8c292eeee"
      },
      "execution_count": 11,
      "outputs": [
        {
          "output_type": "display_data",
          "data": {
            "image/png": "[encoded data removed]",
            "text/plain": [
              "<Figure size 432x288 with 1 Axes>"
            ]
          },
          "metadata": {
            "needs_background": "light"
          }
        },
        {
          "output_type": "display_data",
          "data": {
            "image/png": "[encoded data removed]",
            "text/plain": [
              "<Figure size 432x288 with 1 Axes>"
            ]
          },
          "metadata": {
            "needs_background": "light"
          }
        }
      ]
    },
    {
      "cell_type": "markdown",
      "source": [
        "### 2.3.4 대규모 머신 러닝과 확률적 경사 하강법\n",
        "* 배치 경사 하강법\n",
        "    * 전제 훈련 데이터셋에서 계산한 그레이디언트의 반대 방향으로 한 걸음씩 진행하여 비용 함수를 최소화\n",
        "    * $\\mathit\\Delta \\boldsymbol{w}=\\eta\\sum_i\\left(y^{(i)}-\\phi(z^{(i)})\\right)\\boldsymbol{x}^{(i)}$\n",
        "    * 매우 큰 데이터셋일 경우 계산 비용이 매우 많이 드는 단점이 있음.\n",
        "\n",
        "* 확률적 경사 하강법\n",
        "    * 배치 경사 하강법의 다른 대안.\n",
        "    * 각 훈련 샘플에 대해 조금씩 가중치를 업데이트하는 방법\n",
        "    * 확률적 경사 하강법에서 좋은 결과를 얻으려면 shuffle를 True 해야한다.\n",
        "    * $\\mathit\\Delta \\boldsymbol{w}=\\eta\\left(y^{(i)}-\\phi(z^{(i)})\\right)\\boldsymbol{x}^{(i)}$\n",
        "\n",
        "$확률적$ 경사 하강법의 또 다른 장점은 온라인 학습이 가능.\n",
        "\n",
        "온라인 학습에서 모델은 새로운 훈련 데이터가 도착하는 대로 훈련됨.\n",
        "\n",
        "\n"
      ],
      "metadata": {
        "id": "gaCFQbLP7yRd"
      }
    },
    {
      "cell_type": "code",
      "source": [
        "class AdalineSGD(object):\n",
        "    # ADAptive Linear NEuron 분류기\n",
        "    # 파라미터\n",
        "    # eta : 학습률\n",
        "    # n_iter : 훈련 데이터 반복 횟수\n",
        "    # shuffle : True로 설정 시 같은 반복이 되지 않도록 에폭마다 훈련 데이터를 섞음\n",
        "    # random_state : 가중치 무작위 초기화를 위한 난수 생성기 시드\n",
        "    \n",
        "    # 속성 : w_, cost_\n",
        "    def __init__(self, eta=0.01, n_iter=10, shuffle=True, random_state=None):\n",
        "        self.eta = eta\n",
        "        self.n_iter = n_iter\n",
        "        self.w_initialized = False\n",
        "        self.shuffle = shuffle\n",
        "        self.random_state = random_state\n",
        "    \n",
        "    def fit(self, X, y):\n",
        "        self._initialize_weights(X.shape[1])\n",
        "        self.cost_ = []\n",
        "        for i in range(self.n_iter):\n",
        "            if self.shuffle:\n",
        "                X, y = self._shuffle(X, y)\n",
        "            cost = []\n",
        "            for xi, target in zip(X, y):\n",
        "                cost.append(self._update_weights(xi, target))\n",
        "            avg_cost = sum(cost) / len(y)\n",
        "            self.cost_.append(avg_cost)\n",
        "        return self\n",
        "    \n",
        "    def partial_fit(self, X, y): # 가중치를 다시 초기화하지 않고 훈련데이터를 학습 - 온라인 학습\n",
        "        if not self.w_initialized:\n",
        "            self._initialize_weights(X.shape[1])\n",
        "        if y.ravel().shape[0] > 1:\n",
        "            for xi, target in zip(X, y):\n",
        "                self._update_weights(xi, target)\n",
        "        else:\n",
        "            self._update_weights(X, y)\n",
        "        return self\n",
        "\n",
        "    def _shuffle(self, X, y): # 훈련 데이터 섞음\n",
        "        r = self.rgen.permutation(len(y))\n",
        "        return X[r], y[r]\n",
        "\n",
        "    def _initialize_weights(self, m): # 랜덤한 작은 수로 가중치를 초기화\n",
        "        self.rgen = np.random.RandomState(self.random_state)\n",
        "        self.w_ = self.rgen.normal(loc=0.0, scale=0.01, size=1+m)\n",
        "        self.w_initialized = True\n",
        "\n",
        "    def _update_weights(self, xi, target): # 아달린 학습 규칙을 적용하여 가중치 없데이트\n",
        "        output = self.activation(self.net_input(xi))\n",
        "        error = (target-output)\n",
        "        self.w_[1:] += self.eta * xi.dot(error)\n",
        "        self.w_[0] += self.eta * error\n",
        "        cost = 0.5 * error ** 2\n",
        "        return cost\n",
        "\n",
        "    def net_input(self, X): # 입력 계산\n",
        "        return np.dot(X, self.w_[1:]) + self.w_[0]\n",
        "    \n",
        "    def activation(self, X): # 선형 활성화 계산\n",
        "        return X\n",
        "\n",
        "    def predict(self, X): # 단위 계단 함수를 사용하여 클래스 레이블을 반환\n",
        "        return np.where(self.activation(self.net_input(X)) >= 0.0, 1, -1)"
      ],
      "metadata": {
        "id": "Gv5XuuX68Nc2"
      },
      "execution_count": 12,
      "outputs": []
    },
    {
      "cell_type": "code",
      "source": [
        "# fit메서드로 AdalineSGD 분류기를 훈련하고, plot_decision_regions로 훈련결과를 그래프\n",
        "ada_sgd = AdalineSGD(n_iter=15, eta=0.01, random_state=1)\n",
        "ada_sgd.fit(X_std, y)\n",
        "\n",
        "plot_decision_regions(X_std, y, classifier=ada_sgd)\n",
        "plt.title('Adaline - Stochastic Gradient Descent')\n",
        "plt.xlabel('sepal length [standardized]')\n",
        "plt.ylabel('petal length [standardized]')\n",
        "plt.legend(loc='upper left')\n",
        "plt.tight_layout()\n",
        "plt.show()\n",
        "\n",
        "plt.plot(range(1, len(ada_sgd.cost_) +1), ada_sgd.cost_, marker='o')\n",
        "plt.xlabel('Epochs')\n",
        "plt.ylabel('Average Cost')\n",
        "plt.tight_layout()\n",
        "plt.show()"
      ],
      "metadata": {
        "colab": {
          "base_uri": "https://localhost:8080/",
          "height": 577
        },
        "id": "tGZ8fSX2BDwu",
        "outputId": "eb443a74-376a-4c0b-d2a2-db93ecdc76fe"
      },
      "execution_count": 13,
      "outputs": [
        {
          "output_type": "display_data",
          "data": {
            "image/png": "[encoded data removed]",
            "text/plain": [
              "<Figure size 432x288 with 1 Axes>"
            ]
          },
          "metadata": {
            "needs_background": "light"
          }
        },
        {
          "output_type": "display_data",
          "data": {
            "image/png": "[encoded data removed]",
            "text/plain": [
              "<Figure size 432x288 with 1 Axes>"
            ]
          },
          "metadata": {
            "needs_background": "light"
          }
        }
      ]
    },
    {
      "cell_type": "markdown",
      "source": [
        "* 평균 비용이 상당히 빠르게 감소.\n",
        "* 15번째 Epoch 이후 최종 결정 경계는 배치 경사 하강법과 거의 유사.\n",
        "* 스트리밍 데이터를 사용하는 온라인 학습 방식으로 모델을 훈련하려면 개개의 샘플마다 partial_fit 메서드를 호출\n",
        "\n",
        "        ada.partial_fit(X_std[0, :], y[0])"
      ],
      "metadata": {
        "id": "5_aXrx56CDlu"
      }
    },
    {
      "cell_type": "code",
      "source": [
        "ada_sgd.partial_fit(X_std[0, :], y[0])"
      ],
      "metadata": {
        "colab": {
          "base_uri": "https://localhost:8080/"
        },
        "id": "OeO0ncs8Dssu",
        "outputId": "4bbfccaf-7885-4ec6-8d44-5bdcfc44ff9e"
      },
      "execution_count": 14,
      "outputs": [
        {
          "output_type": "execute_result",
          "data": {
            "text/plain": [
              "<__main__.AdalineSGD at 0x7f1f135739d0>"
            ]
          },
          "metadata": {},
          "execution_count": 14
        }
      ]
    }
  ]
}
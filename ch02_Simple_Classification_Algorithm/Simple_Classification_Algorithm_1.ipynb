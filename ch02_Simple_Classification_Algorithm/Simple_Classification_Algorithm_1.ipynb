{
  "nbformat": 4,
  "nbformat_minor": 0,
  "metadata": {
    "colab": {
      "name": "ch02_Simple_Classification_Algorithm.ipynb",
      "provenance": [],
      "authorship_tag": "ABX9TyO9hZ5PlbmEWQmg6leyCfVl"
    },
    "kernelspec": {
      "name": "python3",
      "display_name": "Python 3"
    },
    "language_info": {
      "name": "python"
    }
  },
  "cells": [
    {
      "cell_type": "markdown",
      "source": [
        "# 간단한 분류 알고리즘 훈련\n"
      ],
      "metadata": {
        "id": "_rgi1iwRve7a"
      }
    },
    {
      "cell_type": "code",
      "execution_count": 1,
      "metadata": {
        "id": "r-rGKnO5nJLN"
      },
      "outputs": [],
      "source": [
        "from IPython.display import Image"
      ]
    },
    {
      "cell_type": "markdown",
      "source": [
        "# 2.1 인공 뉴런 : 초기 머신러닝의 간단한 역사\n",
        "* 1943년 워렌 맥컬록(Warren McCulloch)과 월터 피츠(Walter Pitts)가 맥컬록-피츠(MCP) 뉴런 발표\n",
        "* 프랑크 로젠블라트(Frank Rosenblatt)는 MCP 뉴런 모델을 기반으로 퍼셉트론 학습 개념을 발표"
      ],
      "metadata": {
        "id": "6HYH-hcpvqNE"
      }
    },
    {
      "cell_type": "code",
      "source": [
        "Image(url='https://git.io/JtIbf', width=500) "
      ],
      "metadata": {
        "colab": {
          "base_uri": "https://localhost:8080/",
          "height": 234
        },
        "id": "uWb9RGh9vvh6",
        "outputId": "a41e6a1b-f710-4cdd-b936-792d772d3d32"
      },
      "execution_count": 2,
      "outputs": [
        {
          "output_type": "execute_result",
          "data": {
            "text/html": [
              "<img src=\"https://git.io/JtIbf\" width=\"500\"/>"
            ],
            "text/plain": [
              "<IPython.core.display.Image object>"
            ]
          },
          "metadata": {},
          "execution_count": 2
        }
      ]
    },
    {
      "cell_type": "markdown",
      "source": [
        "#### 2.1.1 인공 뉴런의 수학적 정의\n",
        "* 인공 뉴런(artificial neuron) 아이디어를 두 개의 클래스가 있는 이진 분류(binary classification) 작업으로 볼 수 있다.\n",
        "* 두 클래스 = 1(양성 클래스)와 -1(음성 클래스)로 나타낸다.\n",
        "\n",
        "$\\boldsymbol{w}=\\begin{bmatrix} w_1 \\\\ \\vdots \\\\ w_m\\end{bmatrix}$ , \n",
        "$\\boldsymbol{x}=\\begin{bmatrix} x_1 \\\\ \\vdots \\\\ x_m\\end{bmatrix}$\n",
        "\n",
        "최종 입력(net input) : $z = w_1x_1 + w_2x_2 + \\cdots + w_mx_m$\n",
        "\n",
        "\n",
        "벡터 점곱(dot product), 행렬 곱셈(matrix multiplication) : \n",
        "$\\begin{bmatrix}1&2&3\\end{bmatrix}\\times\\begin{bmatrix}4\\\\5\\\\6\\end{bmatrix}=1\\times4+2\\times5+3\\times6=32$\n",
        "\n",
        "점곱을 사용한 표현 : $z = w_1x_1+\\cdots+w_mx_m=\\sum_{j=1}^mx_jw_j=\\boldsymbol{w}^T\\boldsymbol{x}$\n",
        "\n",
        "퍼셉트론의 결정 함수 : $\\phi(z)=\\begin{cases}1&z\\ge\\theta\\mbox{ 일 때} \\\\ -1&\\mbox{그 외}\\end{cases}$\n",
        "$\\;\\;\\;\\;\\;$\n",
        "$\\phi(z)=\\begin{cases}1&z-\\theta\\ge0\\mbox{ 일 때} \\\\ -1&\\mbox{그 외}\\end{cases}$\n",
        "\n",
        "$w_0=-\\theta , x_0=1$ 일 때 : $z_{new} = w_0x_0+w_1x_1+\\cdots+w_mx_m=\\sum_{j=0}^mx_jw_j=\\boldsymbol{w}^T\\boldsymbol{x}$"
      ],
      "metadata": {
        "id": "A1gTmGc8v20x"
      }
    },
    {
      "cell_type": "code",
      "source": [
        "# 퍼셉트론 결정 함수(단위 계단 함수)와 결정 경계(구별 선)\n",
        "Image(url='https://git.io/JtIbL', width=500) "
      ],
      "metadata": {
        "colab": {
          "base_uri": "https://localhost:8080/",
          "height": 299
        },
        "id": "XneVIUiOxapB",
        "outputId": "f2847892-2416-4665-e12a-70d3200a0222"
      },
      "execution_count": 3,
      "outputs": [
        {
          "output_type": "execute_result",
          "data": {
            "text/html": [
              "<img src=\"https://git.io/JtIbL\" width=\"500\"/>"
            ],
            "text/plain": [
              "<IPython.core.display.Image object>"
            ]
          },
          "metadata": {},
          "execution_count": 3
        }
      ]
    },
    {
      "cell_type": "markdown",
      "source": [
        "퍼셉트론 결정 함수로 최종 입력 $z=\\boldsymbol{w}^T\\boldsymbol{x}$ 가 이진 출력(-1 또는 1)으로 압축되는 방법(왼쪽 그림)과 이를 사용하여 선형 분리가 가능한 두 개의 클래스 사이를 구별하는 방법(오른쪽 그림)이다. "
      ],
      "metadata": {
        "id": "rkqNrAMdyHNJ"
      }
    },
    {
      "cell_type": "markdown",
      "source": [
        "#### 2.1.2 퍼셉트론 학습 규칙\n",
        "* 환원주의 접근 방식, 추력을 내거나 내지 않는 두 가지 경우만 있음.\n",
        "* 초기 퍼셉트론 학습 규칙\n",
        "    * 가중치를 0 또는 랜덤한 작은 값으로 초기화\n",
        "    * 각 훈련 샘플 $x^{(i)}$ 에서 다음 작업을 한다.\n",
        "        * 출력값 $\\hat{y}$ 를 계산\n",
        "        * 가중치 업데이트\n",
        "\n",
        "* 가중치 벡터 w에 있는 개별 가중치 $w_j$가 동시 업데이트 : $w_j := w_j + \\Delta w_j$\n",
        "\n",
        "* 가중치 $w_j$에 대한 업데이트 값(또는 $w_j$의 변화량)인 $\\Delta w_j$ 값 : $\\Delta w_j = \\eta(y^{(i)}-\\hat{y}^{(i)})x_j^{(i)}$\n",
        "\n",
        "    * $\\eta$ : 학습률(learning rate, 0.0~`.0 사이 실수)\n",
        "    * $(y^{(i)}$ : i번째 훈련 샘플의 클래스 레이블 값\n",
        "    * $\\hat{y}^{(i)}$ : 예측 클래스 레이블\n",
        "\n",
        "* 클래스 레이블을 정확히 예측한 경우\n",
        "    * $y^{(i)}=-1,\\; \\hat{y}^{(i)}=-1, \\qquad \\Delta w_j=\\eta(-1-(-1))x_j^{(i)}=0$\n",
        "    \n",
        "    * $y^{(i)}=1,\\; \\hat{y}^{(i)}=1, \\qquad \\Delta w_j=\\eta(1-1)x_j^{(i)}=0$\n",
        "\n",
        "* 클래스 레이블을 잘못 예측한 경우\n",
        "\n",
        "    * $y^{(i)}=1,\\;\\hat{y}^{(i)}=-1, \\qquad \\Delta w_j=\\eta(1-(-1))x_j^{(i)}=\\eta(2)x_j^{(i)}$\n",
        "\n",
        "    * $y^{(i)}=-1,\\;\\hat{y}^{(i)}=1, \\qquad \\Delta w_j=\\eta(-1-1)x_j^{(i)}=\\eta(-2)x_j^{(i)}$\n",
        "\n",
        "\n",
        "예를 들어 $\\hat{y}^{(i)}=-1,\\;y^{(i)}=+1,\\;\\eta=1$ 이고, $x_j^{(i)}=0.5$ 일 때 : \n",
        "\n",
        "$\\Delta w_j=(1-(-1))0.5=(2)0.5=1$\n",
        "\n",
        "$x_j^{(i)}=2$ 일 때 : \n",
        "\n",
        "$\\Delta w_j=(1-(-1))2=(2)2=4$\n",
        "\n",
        "* 퍼셉트론은 두 클래스가 선형적으로 구분되고 학습률이 충분히 작을 때만 수렴이 보장된다.\n",
        "\n",
        "* 두 클래스를 선형 결정 경계로 나눌 수 없다면 훈련 데이터셋을 반복할 최대 횟수(에포크(epoch))를 지정하고 분류 허용 오차를 지정할 수 있다. 그렇지 않으면 퍼셉트론은 가중치 업데이트를 멈추지않음\n",
        "\n"
      ],
      "metadata": {
        "id": "heUbeeFxynMp"
      }
    },
    {
      "cell_type": "code",
      "source": [
        "Image(url='https://git.io/JtIbq', width=600) "
      ],
      "metadata": {
        "colab": {
          "base_uri": "https://localhost:8080/",
          "height": 190
        },
        "id": "acsU3MHgz6LC",
        "outputId": "d0f49eef-571f-48c7-df03-d73f315c5a77"
      },
      "execution_count": 4,
      "outputs": [
        {
          "output_type": "execute_result",
          "data": {
            "text/html": [
              "<img src=\"https://git.io/JtIbq\" width=\"600\"/>"
            ],
            "text/plain": [
              "<IPython.core.display.Image object>"
            ]
          },
          "metadata": {},
          "execution_count": 4
        }
      ]
    },
    {
      "cell_type": "code",
      "source": [
        "# 퍼셉트론 알고리즘\n",
        "Image(url='https://git.io/JtIbO', width=600)"
      ],
      "metadata": {
        "colab": {
          "base_uri": "https://localhost:8080/",
          "height": 258
        },
        "id": "ER1OLR_a3nRj",
        "outputId": "941a1bf5-c365-4dbb-eb8c-73e3d9abed35"
      },
      "execution_count": 5,
      "outputs": [
        {
          "output_type": "execute_result",
          "data": {
            "text/html": [
              "<img src=\"https://git.io/JtIbO\" width=\"600\"/>"
            ],
            "text/plain": [
              "<IPython.core.display.Image object>"
            ]
          },
          "metadata": {},
          "execution_count": 5
        }
      ]
    },
    {
      "cell_type": "markdown",
      "source": [
        "* 퍼셉트론 개념 정리\n",
        "    * 퍼셉트론이 샘플 x를 입력받아 가중치 w를 연결하여 최종 입력을 계산하는 방법\n",
        "\n",
        "        * 최종 입력은 임계 함수로 전달되어 샘플의 예측 클래스 레이블인 -1 또는 1의 이진 출력을 만듬\n",
        "        * 학습 단계에서 이 출력을 사용하여 예측 오차를 계산하고 가중치 업데이트"
      ],
      "metadata": {
        "id": "aKPeZgMq3qUy"
      }
    },
    {
      "cell_type": "markdown",
      "source": [
        "# 2.2 퍼셉트론 학습 알고리즘 구현\n",
        "\n",
        "### 2.2.1 객체 지향 퍼셉트론 API\n"
      ],
      "metadata": {
        "id": "-_ArJPPY3-Pq"
      }
    },
    {
      "cell_type": "code",
      "source": [
        "import numpy as np\n",
        "\n",
        "class Perceptron(object):\n",
        "    # 퍼셉트론 분류기\n",
        "    # 매개변수 : eta, n_iter, random_state\n",
        "    # eta : 학습률(0.0 ~ 1.0), float\n",
        "    # n_iter : 훈련 데이터셋 반복 횟수, int\n",
        "    # random_state : 가중치 무작위 초기화를 위한 난수 생성기 시드, int\n",
        "    # 속성\n",
        "    # w_ : 학습된 가중치, 1d-array\n",
        "    # error_ : 에포크마다 누적된 분류 오류, list\n",
        "    def __init__(self, eta=0.01, n_iter=50, random_state=1):\n",
        "        self.eta = eta\n",
        "        self.n_iter = n_iter\n",
        "        self.random_state = random_state\n",
        "    \n",
        "    def fit(self, X, y):\n",
        "        # 훈련 데이터 학습\n",
        "        # 매개 변수 : X, y\n",
        "        # X : n_samples개의 샘플과 n_features개의 특정으로 이루어진 훈련 데이터\n",
        "        #       array-like, shape = [n_samples, n_features]\n",
        "        # y : 타깃값, array-like, shape = [n_samples]\n",
        "        # 반환값 self : object\n",
        "        rgen = np.random.RandomState(self.random_state) # 랜덤 시드\n",
        "        # 표준 편차가 0.01인 정규 분포에서 랜덤한 작은 수\n",
        "        self.w_ = rgen.normal(loc=0.0, scale=0.01, size=1 + X.shape[1])\n",
        "        self.errors_ = []\n",
        "\n",
        "        for _ in range(self.n_iter):\n",
        "            errors = 0\n",
        "            for xi, target in zip(X, y):\n",
        "                update = self.eta * (target - self.predict(xi))\n",
        "                self.w_[1:] += update * xi\n",
        "                self.w_[0] += update\n",
        "                errors += int(update != 0.0)\n",
        "            self.errors_.append(errors)\n",
        "        return self\n",
        "    \n",
        "    def net_input(self, X): # 입력 계산\n",
        "        return np.dot(X, self.w_[1:]) + self.w_[0]\n",
        "    \n",
        "    def predict(self, X): # 단위 계단 함수를 사용하여 클래스 레이블을 반환\n",
        "        return np.where(self.net_input(X) >= 0.0, 1, -1)"
      ],
      "metadata": {
        "id": "Ub6D6GjB38py"
      },
      "execution_count": 6,
      "outputs": []
    },
    {
      "cell_type": "markdown",
      "source": [
        "$\\boldsymbol{w}^{(1)} = \\boldsymbol{w}^{(0)}+\\mathit\\Delta\\boldsymbol{w}=\\boldsymbol{w}^{(0)}+\\eta(\\boldsymbol{y}-\\boldsymbol{\\hat{y}})\\boldsymbol{x}=\\eta(\\boldsymbol{y}-\\phi(\\boldsymbol{w}^{(0)}\\boldsymbol{x}))\\boldsymbol{x}=\\eta(\\boldsymbol{y}+1)\\boldsymbol{x}$\n",
        "\n",
        "$a\\cdot b =\\vert a\\vert\\vert b\\vert\\text{cos}\\theta$\n",
        "\n",
        "$\\theta=\\text{cos}^{-1}\\dfrac{a\\cdot b}{\\vert a\\vert\\vert b\\vert}$\n"
      ],
      "metadata": {
        "id": "9Gr5qFo57jBB"
      }
    },
    {
      "cell_type": "code",
      "source": [
        "# 가중치를 0이 아니어야 학습률 eta가 분류 결과에 영향을 준다.\n",
        "v1 = np.array([1, 2, 3])\n",
        "v2 = 0.5 * v1\n",
        "# np.arccos : 역코사인 삼각 함수\n",
        "# np.linalg.norm : 벡터 길이를 계산하는 함수\n",
        "np.arccos(v1.dot(v2) / (np.linalg.norm(v1) * np.linalg.norm(v2)))"
      ],
      "metadata": {
        "colab": {
          "base_uri": "https://localhost:8080/"
        },
        "id": "91osIwvA7ifC",
        "outputId": "89fbb7eb-d0bc-4ef2-d5bd-823714f3aa86"
      },
      "execution_count": 7,
      "outputs": [
        {
          "output_type": "execute_result",
          "data": {
            "text/plain": [
              "0.0"
            ]
          },
          "metadata": {},
          "execution_count": 7
        }
      ]
    },
    {
      "cell_type": "markdown",
      "source": [
        "### 2.2.2 붓꽃 데이터셋에서 퍼셉트론 훈련\n"
      ],
      "metadata": {
        "id": "lOqoWe0E7Rjz"
      }
    },
    {
      "cell_type": "code",
      "source": [
        "import os\n",
        "import pandas as pd\n",
        "s = 'https://archive.ics.uci.edu/ml/machine-learning-databases/iris/iris.data'\n",
        "df = pd.read_csv(s, header=None, encoding='utf-8')\n",
        "df.tail()"
      ],
      "metadata": {
        "colab": {
          "base_uri": "https://localhost:8080/",
          "height": 206
        },
        "id": "pLYMnQmK8XqC",
        "outputId": "3a65133e-6438-488d-ef11-eab2950ec334"
      },
      "execution_count": 8,
      "outputs": [
        {
          "output_type": "execute_result",
          "data": {
            "text/html": [
              "\n",
              "  <div id=\"df-b065bed5-00a6-4a93-bbbf-fb5f2c3ae246\">\n",
              "    <div class=\"colab-df-container\">\n",
              "      <div>\n",
              "<style scoped>\n",
              "    .dataframe tbody tr th:only-of-type {\n",
              "        vertical-align: middle;\n",
              "    }\n",
              "\n",
              "    .dataframe tbody tr th {\n",
              "        vertical-align: top;\n",
              "    }\n",
              "\n",
              "    .dataframe thead th {\n",
              "        text-align: right;\n",
              "    }\n",
              "</style>\n",
              "<table border=\"1\" class=\"dataframe\">\n",
              "  <thead>\n",
              "    <tr style=\"text-align: right;\">\n",
              "      <th></th>\n",
              "      <th>0</th>\n",
              "      <th>1</th>\n",
              "      <th>2</th>\n",
              "      <th>3</th>\n",
              "      <th>4</th>\n",
              "    </tr>\n",
              "  </thead>\n",
              "  <tbody>\n",
              "    <tr>\n",
              "      <th>145</th>\n",
              "      <td>6.7</td>\n",
              "      <td>3.0</td>\n",
              "      <td>5.2</td>\n",
              "      <td>2.3</td>\n",
              "      <td>Iris-virginica</td>\n",
              "    </tr>\n",
              "    <tr>\n",
              "      <th>146</th>\n",
              "      <td>6.3</td>\n",
              "      <td>2.5</td>\n",
              "      <td>5.0</td>\n",
              "      <td>1.9</td>\n",
              "      <td>Iris-virginica</td>\n",
              "    </tr>\n",
              "    <tr>\n",
              "      <th>147</th>\n",
              "      <td>6.5</td>\n",
              "      <td>3.0</td>\n",
              "      <td>5.2</td>\n",
              "      <td>2.0</td>\n",
              "      <td>Iris-virginica</td>\n",
              "    </tr>\n",
              "    <tr>\n",
              "      <th>148</th>\n",
              "      <td>6.2</td>\n",
              "      <td>3.4</td>\n",
              "      <td>5.4</td>\n",
              "      <td>2.3</td>\n",
              "      <td>Iris-virginica</td>\n",
              "    </tr>\n",
              "    <tr>\n",
              "      <th>149</th>\n",
              "      <td>5.9</td>\n",
              "      <td>3.0</td>\n",
              "      <td>5.1</td>\n",
              "      <td>1.8</td>\n",
              "      <td>Iris-virginica</td>\n",
              "    </tr>\n",
              "  </tbody>\n",
              "</table>\n",
              "</div>\n",
              "      <button class=\"colab-df-convert\" onclick=\"convertToInteractive('df-b065bed5-00a6-4a93-bbbf-fb5f2c3ae246')\"\n",
              "              title=\"Convert this dataframe to an interactive table.\"\n",
              "              style=\"display:none;\">\n",
              "        \n",
              "  <svg xmlns=\"http://www.w3.org/2000/svg\" height=\"24px\"viewBox=\"0 0 24 24\"\n",
              "       width=\"24px\">\n",
              "    <path d=\"M0 0h24v24H0V0z\" fill=\"none\"/>\n",
              "    <path d=\"M18.56 5.44l.94 2.06.94-2.06 2.06-.94-2.06-.94-.94-2.06-.94 2.06-2.06.94zm-11 1L8.5 8.5l.94-2.06 2.06-.94-2.06-.94L8.5 2.5l-.94 2.06-2.06.94zm10 10l.94 2.06.94-2.06 2.06-.94-2.06-.94-.94-2.06-.94 2.06-2.06.94z\"/><path d=\"M17.41 7.96l-1.37-1.37c-.4-.4-.92-.59-1.43-.59-.52 0-1.04.2-1.43.59L10.3 9.45l-7.72 7.72c-.78.78-.78 2.05 0 2.83L4 21.41c.39.39.9.59 1.41.59.51 0 1.02-.2 1.41-.59l7.78-7.78 2.81-2.81c.8-.78.8-2.07 0-2.86zM5.41 20L4 18.59l7.72-7.72 1.47 1.35L5.41 20z\"/>\n",
              "  </svg>\n",
              "      </button>\n",
              "      \n",
              "  <style>\n",
              "    .colab-df-container {\n",
              "      display:flex;\n",
              "      flex-wrap:wrap;\n",
              "      gap: 12px;\n",
              "    }\n",
              "\n",
              "    .colab-df-convert {\n",
              "      background-color: #E8F0FE;\n",
              "      border: none;\n",
              "      border-radius: 50%;\n",
              "      cursor: pointer;\n",
              "      display: none;\n",
              "      fill: #1967D2;\n",
              "      height: 32px;\n",
              "      padding: 0 0 0 0;\n",
              "      width: 32px;\n",
              "    }\n",
              "\n",
              "    .colab-df-convert:hover {\n",
              "      background-color: #E2EBFA;\n",
              "      box-shadow: 0px 1px 2px rgba(60, 64, 67, 0.3), 0px 1px 3px 1px rgba(60, 64, 67, 0.15);\n",
              "      fill: #174EA6;\n",
              "    }\n",
              "\n",
              "    [theme=dark] .colab-df-convert {\n",
              "      background-color: #3B4455;\n",
              "      fill: #D2E3FC;\n",
              "    }\n",
              "\n",
              "    [theme=dark] .colab-df-convert:hover {\n",
              "      background-color: #434B5C;\n",
              "      box-shadow: 0px 1px 3px 1px rgba(0, 0, 0, 0.15);\n",
              "      filter: drop-shadow(0px 1px 2px rgba(0, 0, 0, 0.3));\n",
              "      fill: #FFFFFF;\n",
              "    }\n",
              "  </style>\n",
              "\n",
              "      <script>\n",
              "        const buttonEl =\n",
              "          document.querySelector('#df-b065bed5-00a6-4a93-bbbf-fb5f2c3ae246 button.colab-df-convert');\n",
              "        buttonEl.style.display =\n",
              "          google.colab.kernel.accessAllowed ? 'block' : 'none';\n",
              "\n",
              "        async function convertToInteractive(key) {\n",
              "          const element = document.querySelector('#df-b065bed5-00a6-4a93-bbbf-fb5f2c3ae246');\n",
              "          const dataTable =\n",
              "            await google.colab.kernel.invokeFunction('convertToInteractive',\n",
              "                                                     [key], {});\n",
              "          if (!dataTable) return;\n",
              "\n",
              "          const docLinkHtml = 'Like what you see? Visit the ' +\n",
              "            '<a target=\"_blank\" href=https://colab.research.google.com/notebooks/data_table.ipynb>data table notebook</a>'\n",
              "            + ' to learn more about interactive tables.';\n",
              "          element.innerHTML = '';\n",
              "          dataTable['output_type'] = 'display_data';\n",
              "          await google.colab.output.renderOutput(dataTable, element);\n",
              "          const docLink = document.createElement('div');\n",
              "          docLink.innerHTML = docLinkHtml;\n",
              "          element.appendChild(docLink);\n",
              "        }\n",
              "      </script>\n",
              "    </div>\n",
              "  </div>\n",
              "  "
            ],
            "text/plain": [
              "       0    1    2    3               4\n",
              "145  6.7  3.0  5.2  2.3  Iris-virginica\n",
              "146  6.3  2.5  5.0  1.9  Iris-virginica\n",
              "147  6.5  3.0  5.2  2.0  Iris-virginica\n",
              "148  6.2  3.4  5.4  2.3  Iris-virginica\n",
              "149  5.9  3.0  5.1  1.8  Iris-virginica"
            ]
          },
          "metadata": {},
          "execution_count": 8
        }
      ]
    },
    {
      "cell_type": "markdown",
      "source": [
        "* 50개의 Iris-setosa와 50개의 Iris-versicolor 꽃에 해당하는 처음 100개의 클래스 레이블을 추출\n",
        "* 클래스 레이블을 두 개의 정수 클래스 1(versicolor)과 -1(setosa)로 바꾼 후 벡터 y에 저장"
      ],
      "metadata": {
        "id": "G9vuICYp8hty"
      }
    },
    {
      "cell_type": "code",
      "source": [
        "%matplotlib inline\n",
        "import matplotlib.pyplot as plt\n",
        "\n",
        "# setosa와 versicolor를 선택\n",
        "y = df.iloc[:100, 4].values\n",
        "y = np.where(y == 'Iris-setosa', -1, 1) # setosa는 -1, versicolor는 1\n",
        "\n",
        "# 꽃받침 길이와 꽃잎 길이 추출\n",
        "X = df.iloc[:100, [0, 2]].values\n",
        "\n",
        "# 산점도\n",
        "plt.scatter(X[:50, 0], X[:50, 1],\n",
        "            color='red', marker='o', label='setosa')\n",
        "plt.scatter(X[50:100, 0], X[50:100, 1],\n",
        "            color='blue', marker='x', label='versicolor')\n",
        "\n",
        "plt.xlabel('sepal length [cm]')\n",
        "plt.ylabel('petal length [cm]')\n",
        "plt.legend(loc='upper left')\n",
        "\n",
        "plt.show()"
      ],
      "metadata": {
        "colab": {
          "base_uri": "https://localhost:8080/",
          "height": 279
        },
        "id": "sP7zEFom80xK",
        "outputId": "e17c83b6-fc5b-4bd5-8aa3-16336c165c4b"
      },
      "execution_count": 9,
      "outputs": [
        {
          "output_type": "display_data",
          "data": {
            "image/png": "[encoded data removed]",
            "text/plain": [
              "<Figure size 432x288 with 1 Axes>"
            ]
          },
          "metadata": {
            "needs_background": "light"
          }
        }
      ]
    },
    {
      "cell_type": "markdown",
      "source": [
        "* 퍼셉트론 모델 훈련"
      ],
      "metadata": {
        "id": "5z7Kzhim9xxb"
      }
    },
    {
      "cell_type": "code",
      "source": [
        "ppn = Perceptron(eta=0.1, n_iter=10)\n",
        "\n",
        "ppn.fit(X, y)\n",
        "\n",
        "plt.plot(range(1, len(ppn.errors_) + 1), ppn.errors_, marker='o')\n",
        "plt.xlabel('Epochs')\n",
        "plt.ylabel('Number of updates')\n",
        "plt.show()"
      ],
      "metadata": {
        "colab": {
          "base_uri": "https://localhost:8080/",
          "height": 279
        },
        "id": "3RZDRY1092KC",
        "outputId": "bf246b63-952a-4650-dd29-5ef2357b8555"
      },
      "execution_count": 10,
      "outputs": [
        {
          "output_type": "display_data",
          "data": {
            "image/png": "[encoded data removed]",
            "text/plain": [
              "<Figure size 432x288 with 1 Axes>"
            ]
          },
          "metadata": {
            "needs_background": "light"
          }
        }
      ]
    },
    {
      "cell_type": "markdown",
      "source": [
        "* 결정 경계 그래프 함수"
      ],
      "metadata": {
        "id": "mNO2ec9M_L-6"
      }
    },
    {
      "cell_type": "code",
      "source": [
        "from matplotlib.colors import ListedColormap\n",
        "\n",
        "def plot_decision_regions(X, y, classifier, resolution=0.02):\n",
        "    # 마커와 컬러맵을 설정\n",
        "    markers = ('s', 'x', 'o', '^', 'v')\n",
        "    colors = ('red', 'blue', 'lightgreen', 'gray', 'cyan')\n",
        "    cmap = ListedColormap(colors[:len(np.unique(y))])\n",
        "\n",
        "    # 결정 경계\n",
        "    x1_min, x1_max = X[:, 0].min() - 1, X[:, 0].max() + 1  # 꽃받침 길이 최소/최대\n",
        "    x2_min, x2_max = X[:, 1].min() - 1, X[:, 1].max() + 1 # 꽃잎 길이 최소/최대\n",
        "    # np.meshgrid : 그리드 배열, 2차원 평면의 최대값과 최소값 좌표를 전달\n",
        "    # resolution 간격\n",
        "    xx1, xx2 = np.meshgrid(np.arange(x1_min, x1_max, resolution),\n",
        "                           np.arange(x2_min, x2_max, resolution))\n",
        "    Z = classifier.predict(np.array([xx1.ravel(), xx2.ravel()]).T)\n",
        "    Z = Z.reshape(xx1.shape)\n",
        "    plt.contourf(xx1, xx2, Z, alpha=0.3, cmap=cmap)\n",
        "    plt.xlim(xx1.min(), xx1.max())\n",
        "    plt.ylim(xx2.min(), xx2.max())\n",
        "\n",
        "    # 샘플의 산점도\n",
        "    for idx, cl in enumerate(np.unique(y)):\n",
        "        plt.scatter(x=X[y == cl, 0], \n",
        "                    y=X[y == cl, 1],\n",
        "                    alpha=0.8, \n",
        "                    c=colors[idx],\n",
        "                    marker=markers[idx], \n",
        "                    label=cl, \n",
        "                    edgecolor=None if idx==1 else 'black')"
      ],
      "metadata": {
        "id": "0NbJyDOU_PIz"
      },
      "execution_count": 11,
      "outputs": []
    },
    {
      "cell_type": "code",
      "source": [
        "plot_decision_regions(X, y, classifier=ppn)\n",
        "plt.xlabel('sepal length [cm]')\n",
        "plt.ylabel('petal length [cm]')\n",
        "plt.legend(loc='upper left')"
      ],
      "metadata": {
        "colab": {
          "base_uri": "https://localhost:8080/",
          "height": 298
        },
        "id": "EMVDkkYKAvKL",
        "outputId": "8d2dac68-bb36-4fee-c172-bae668a6a6d0"
      },
      "execution_count": 12,
      "outputs": [
        {
          "output_type": "execute_result",
          "data": {
            "text/plain": [
              "<matplotlib.legend.Legend at 0x7f674d9d0110>"
            ]
          },
          "metadata": {},
          "execution_count": 12
        },
        {
          "output_type": "display_data",
          "data": {
            "image/png": "[encoded data removed]",
            "text/plain": [
              "<Figure size 432x288 with 1 Axes>"
            ]
          },
          "metadata": {
            "needs_background": "light"
          }
        }
      ]
    }
  ]
}
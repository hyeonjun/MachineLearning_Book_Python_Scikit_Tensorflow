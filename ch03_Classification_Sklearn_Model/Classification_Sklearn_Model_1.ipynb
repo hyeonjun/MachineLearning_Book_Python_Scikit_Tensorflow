{
  "nbformat": 4,
  "nbformat_minor": 0,
  "metadata": {
    "colab": {
      "name": "ch03_Classification_Sklearn_Model_1.ipynb",
      "provenance": [],
      "authorship_tag": "ABX9TyM4kph0i4XUahBJp+UKXnuD"
    },
    "kernelspec": {
      "name": "python3",
      "display_name": "Python 3"
    },
    "language_info": {
      "name": "python"
    }
  },
  "cells": [
    {
      "cell_type": "code",
      "source": [
        "from IPython.display import Image"
      ],
      "metadata": {
        "id": "x2pK6k4T14PW"
      },
      "execution_count": 1,
      "outputs": []
    },
    {
      "cell_type": "markdown",
      "source": [
        "# 3. 사이킷런 머신러닝 분류 모델\n",
        "\n",
        "# 3.1 분류 알고리즘 선택\n",
        "* 머신러닝 알고리즘을 훈련하기 위한 주요 단계\n",
        "    1. 특성을 선택하고 훈련 샘플 수집\n",
        "    2. 성능 지표를 선택\n",
        "    3. 분류 모델과 최적화 알고리즘 선택\n",
        "    4. 모델의 성능을 평가\n",
        "    5. 알고리즘 튜닝\n",
        "\n",
        "# 3.2 사이킷런 : 퍼셉트론\n"
      ],
      "metadata": {
        "id": "n3mU-UB41xS3"
      }
    },
    {
      "cell_type": "code",
      "source": [
        "# 붓꽃 데이터\n",
        "from sklearn import datasets\n",
        "import pandas as pd\n",
        "import numpy as np\n",
        "\n",
        "iris = datasets.load_iris()\n",
        "iris_df = pd.DataFrame(data=iris.data, columns=iris.feature_names)\n",
        "iris_df.head()"
      ],
      "metadata": {
        "colab": {
          "base_uri": "https://localhost:8080/",
          "height": 206
        },
        "id": "jAuvtwKM2pKf",
        "outputId": "106a2386-eae2-4534-efed-5e8dc8b4e09d"
      },
      "execution_count": 2,
      "outputs": [
        {
          "output_type": "execute_result",
          "data": {
            "text/html": [
              "\n",
              "  <div id=\"df-5d80cfbd-5480-4014-8d5e-53e835143abf\">\n",
              "    <div class=\"colab-df-container\">\n",
              "      <div>\n",
              "<style scoped>\n",
              "    .dataframe tbody tr th:only-of-type {\n",
              "        vertical-align: middle;\n",
              "    }\n",
              "\n",
              "    .dataframe tbody tr th {\n",
              "        vertical-align: top;\n",
              "    }\n",
              "\n",
              "    .dataframe thead th {\n",
              "        text-align: right;\n",
              "    }\n",
              "</style>\n",
              "<table border=\"1\" class=\"dataframe\">\n",
              "  <thead>\n",
              "    <tr style=\"text-align: right;\">\n",
              "      <th></th>\n",
              "      <th>sepal length (cm)</th>\n",
              "      <th>sepal width (cm)</th>\n",
              "      <th>petal length (cm)</th>\n",
              "      <th>petal width (cm)</th>\n",
              "    </tr>\n",
              "  </thead>\n",
              "  <tbody>\n",
              "    <tr>\n",
              "      <th>0</th>\n",
              "      <td>5.1</td>\n",
              "      <td>3.5</td>\n",
              "      <td>1.4</td>\n",
              "      <td>0.2</td>\n",
              "    </tr>\n",
              "    <tr>\n",
              "      <th>1</th>\n",
              "      <td>4.9</td>\n",
              "      <td>3.0</td>\n",
              "      <td>1.4</td>\n",
              "      <td>0.2</td>\n",
              "    </tr>\n",
              "    <tr>\n",
              "      <th>2</th>\n",
              "      <td>4.7</td>\n",
              "      <td>3.2</td>\n",
              "      <td>1.3</td>\n",
              "      <td>0.2</td>\n",
              "    </tr>\n",
              "    <tr>\n",
              "      <th>3</th>\n",
              "      <td>4.6</td>\n",
              "      <td>3.1</td>\n",
              "      <td>1.5</td>\n",
              "      <td>0.2</td>\n",
              "    </tr>\n",
              "    <tr>\n",
              "      <th>4</th>\n",
              "      <td>5.0</td>\n",
              "      <td>3.6</td>\n",
              "      <td>1.4</td>\n",
              "      <td>0.2</td>\n",
              "    </tr>\n",
              "  </tbody>\n",
              "</table>\n",
              "</div>\n",
              "      <button class=\"colab-df-convert\" onclick=\"convertToInteractive('df-5d80cfbd-5480-4014-8d5e-53e835143abf')\"\n",
              "              title=\"Convert this dataframe to an interactive table.\"\n",
              "              style=\"display:none;\">\n",
              "        \n",
              "  <svg xmlns=\"http://www.w3.org/2000/svg\" height=\"24px\"viewBox=\"0 0 24 24\"\n",
              "       width=\"24px\">\n",
              "    <path d=\"M0 0h24v24H0V0z\" fill=\"none\"/>\n",
              "    <path d=\"M18.56 5.44l.94 2.06.94-2.06 2.06-.94-2.06-.94-.94-2.06-.94 2.06-2.06.94zm-11 1L8.5 8.5l.94-2.06 2.06-.94-2.06-.94L8.5 2.5l-.94 2.06-2.06.94zm10 10l.94 2.06.94-2.06 2.06-.94-2.06-.94-.94-2.06-.94 2.06-2.06.94z\"/><path d=\"M17.41 7.96l-1.37-1.37c-.4-.4-.92-.59-1.43-.59-.52 0-1.04.2-1.43.59L10.3 9.45l-7.72 7.72c-.78.78-.78 2.05 0 2.83L4 21.41c.39.39.9.59 1.41.59.51 0 1.02-.2 1.41-.59l7.78-7.78 2.81-2.81c.8-.78.8-2.07 0-2.86zM5.41 20L4 18.59l7.72-7.72 1.47 1.35L5.41 20z\"/>\n",
              "  </svg>\n",
              "      </button>\n",
              "      \n",
              "  <style>\n",
              "    .colab-df-container {\n",
              "      display:flex;\n",
              "      flex-wrap:wrap;\n",
              "      gap: 12px;\n",
              "    }\n",
              "\n",
              "    .colab-df-convert {\n",
              "      background-color: #E8F0FE;\n",
              "      border: none;\n",
              "      border-radius: 50%;\n",
              "      cursor: pointer;\n",
              "      display: none;\n",
              "      fill: #1967D2;\n",
              "      height: 32px;\n",
              "      padding: 0 0 0 0;\n",
              "      width: 32px;\n",
              "    }\n",
              "\n",
              "    .colab-df-convert:hover {\n",
              "      background-color: #E2EBFA;\n",
              "      box-shadow: 0px 1px 2px rgba(60, 64, 67, 0.3), 0px 1px 3px 1px rgba(60, 64, 67, 0.15);\n",
              "      fill: #174EA6;\n",
              "    }\n",
              "\n",
              "    [theme=dark] .colab-df-convert {\n",
              "      background-color: #3B4455;\n",
              "      fill: #D2E3FC;\n",
              "    }\n",
              "\n",
              "    [theme=dark] .colab-df-convert:hover {\n",
              "      background-color: #434B5C;\n",
              "      box-shadow: 0px 1px 3px 1px rgba(0, 0, 0, 0.15);\n",
              "      filter: drop-shadow(0px 1px 2px rgba(0, 0, 0, 0.3));\n",
              "      fill: #FFFFFF;\n",
              "    }\n",
              "  </style>\n",
              "\n",
              "      <script>\n",
              "        const buttonEl =\n",
              "          document.querySelector('#df-5d80cfbd-5480-4014-8d5e-53e835143abf button.colab-df-convert');\n",
              "        buttonEl.style.display =\n",
              "          google.colab.kernel.accessAllowed ? 'block' : 'none';\n",
              "\n",
              "        async function convertToInteractive(key) {\n",
              "          const element = document.querySelector('#df-5d80cfbd-5480-4014-8d5e-53e835143abf');\n",
              "          const dataTable =\n",
              "            await google.colab.kernel.invokeFunction('convertToInteractive',\n",
              "                                                     [key], {});\n",
              "          if (!dataTable) return;\n",
              "\n",
              "          const docLinkHtml = 'Like what you see? Visit the ' +\n",
              "            '<a target=\"_blank\" href=https://colab.research.google.com/notebooks/data_table.ipynb>data table notebook</a>'\n",
              "            + ' to learn more about interactive tables.';\n",
              "          element.innerHTML = '';\n",
              "          dataTable['output_type'] = 'display_data';\n",
              "          await google.colab.output.renderOutput(dataTable, element);\n",
              "          const docLink = document.createElement('div');\n",
              "          docLink.innerHTML = docLinkHtml;\n",
              "          element.appendChild(docLink);\n",
              "        }\n",
              "      </script>\n",
              "    </div>\n",
              "  </div>\n",
              "  "
            ],
            "text/plain": [
              "   sepal length (cm)  sepal width (cm)  petal length (cm)  petal width (cm)\n",
              "0                5.1               3.5                1.4               0.2\n",
              "1                4.9               3.0                1.4               0.2\n",
              "2                4.7               3.2                1.3               0.2\n",
              "3                4.6               3.1                1.5               0.2\n",
              "4                5.0               3.6                1.4               0.2"
            ]
          },
          "metadata": {},
          "execution_count": 2
        }
      ]
    },
    {
      "cell_type": "code",
      "source": [
        "X = iris.data[:, [2, 3]]\n",
        "y = iris.target\n",
        "\n",
        "print('클래스 레이블:',np.unique(y))"
      ],
      "metadata": {
        "colab": {
          "base_uri": "https://localhost:8080/"
        },
        "id": "kPjh-mEj3OnA",
        "outputId": "22cdc749-3d01-4b55-ca0d-3fd5528d8fc6"
      },
      "execution_count": 3,
      "outputs": [
        {
          "output_type": "stream",
          "name": "stdout",
          "text": [
            "클래스 레이블: [0 1 2]\n"
          ]
        }
      ]
    },
    {
      "cell_type": "code",
      "source": [
        "from sklearn.model_selection import train_test_split\n",
        "\n",
        "X_train, X_test, y_train, y_test = train_test_split(X, y, test_size=0.3, random_state=1, stratify=y)\n",
        "# stratify\n",
        "# 계층화(stratification) 기능. train_test_split 함수가 훈련 데이터셋과 테스트 데이터셋의 클래스 레이블 비율을 입력 데이터 셋과 동일하게 만듬."
      ],
      "metadata": {
        "id": "a0tLdpsA362v"
      },
      "execution_count": 4,
      "outputs": []
    },
    {
      "cell_type": "code",
      "source": [
        "# bincount : 배열에 있는 고유한 값의 갯수를 확인\n",
        "print('y의 레이블 카운트:', np.bincount(y))\n",
        "print('y_train의 레이블 카운트:', np.bincount(y_train))\n",
        "print('y_test의 레이블 카운트:', np.bincount(y_test))"
      ],
      "metadata": {
        "colab": {
          "base_uri": "https://localhost:8080/"
        },
        "id": "kuN92MkJ4fqn",
        "outputId": "2b25384b-5fad-4d8a-fa9b-1bf18fdc56e0"
      },
      "execution_count": 5,
      "outputs": [
        {
          "output_type": "stream",
          "name": "stdout",
          "text": [
            "y의 레이블 카운트: [50 50 50]\n",
            "y_train의 레이블 카운트: [35 35 35]\n",
            "y_test의 레이블 카운트: [15 15 15]\n"
          ]
        }
      ]
    },
    {
      "cell_type": "code",
      "source": [
        "from sklearn.preprocessing import StandardScaler # 특성 스케일 조정 - 표준화\n",
        "sc = StandardScaler()\n",
        "sc.fit(X_train)\n",
        "X_train_std = sc.transform(X_train)\n",
        "X_test_std = sc.transform(X_test)"
      ],
      "metadata": {
        "id": "zTUwcISw4o1W"
      },
      "execution_count": 6,
      "outputs": []
    },
    {
      "cell_type": "markdown",
      "source": [
        "* 사이킷런의 알고리즘은 대부분 기본적으로 OvR(One-versus-Rest) 방식을 사용하여 다중 분류를 지원.\n",
        "\n",
        "##### 사이킷런의 퍼셉트론\n",
        "\n",
        "`Perceptron`은 `SGDClassifier(loss='perceptron')`과 거의 비슷합니다.\n",
        "\n",
        "퍼셉트론 손실 : $J(\\boldsymbol{w})=\\begin{cases}-z^{(i)}y^{(i)}&z^{(i)}y^{(i)}\\le0\\mbox{ 일 때} \\\\ 0&\\mbox{그 외}\\end{cases}$\n",
        "$\\;\\;\\;\\;\\;$\n",
        "\n",
        "그레이디언트 : $\\mathit\\Delta \\boldsymbol{w}=\\begin{cases}-\\eta y^{(i)}\\boldsymbol{x}^{(i)}&z^{(i)}y^{(i)}\\le0\\mbox{ 일 때} \\\\ 0&\\mbox{그 외}\\end{cases}$\n",
        "$\\;\\;\\;\\;\\;$"
      ],
      "metadata": {
        "id": "AXv82w5V5LYo"
      }
    },
    {
      "cell_type": "code",
      "source": [
        "from sklearn.linear_model import Perceptron\n",
        "\n",
        "ppn = Perceptron(eta0=0.1, random_state=1)\n",
        "ppn.fit(X_train_std, y_train)"
      ],
      "metadata": {
        "colab": {
          "base_uri": "https://localhost:8080/"
        },
        "id": "Np-dXCn-5T5h",
        "outputId": "93cf9038-f3c7-4736-a13e-b5e89b4cab21"
      },
      "execution_count": 7,
      "outputs": [
        {
          "output_type": "execute_result",
          "data": {
            "text/plain": [
              "Perceptron(eta0=0.1, random_state=1)"
            ]
          },
          "metadata": {},
          "execution_count": 7
        }
      ]
    },
    {
      "cell_type": "markdown",
      "source": [
        "**노트**\n",
        "\n",
        "- 사이킷런 0.19부터 `Perceptron`과 `SGDClassifier`의 반복 횟수를 지정하는 매개변수가 `n_iter`에서 `max_iter`로 변경되었습니다."
      ],
      "metadata": {
        "id": "CYPHVVmt6Qne"
      }
    },
    {
      "cell_type": "code",
      "source": [
        "y_pred = ppn.predict(X_test_std)\n",
        "print('잘못 분류된 샘플 개수: %d' % (y_test != y_pred).sum())"
      ],
      "metadata": {
        "colab": {
          "base_uri": "https://localhost:8080/"
        },
        "id": "CxGDa0XW6LBX",
        "outputId": "ff094724-93f6-4223-c8fd-9f5914b6d608"
      },
      "execution_count": 8,
      "outputs": [
        {
          "output_type": "stream",
          "name": "stdout",
          "text": [
            "잘못 분류된 샘플 개수: 1\n"
          ]
        }
      ]
    },
    {
      "cell_type": "code",
      "source": [
        "from sklearn.metrics import accuracy_score\n",
        "\n",
        "print('정확도: %.3f' % accuracy_score(y_test, y_pred))"
      ],
      "metadata": {
        "colab": {
          "base_uri": "https://localhost:8080/"
        },
        "id": "fq4cAnjj6Xgo",
        "outputId": "0f59d2d3-1a7c-4fa8-b3a3-c39e7dfd76c9"
      },
      "execution_count": 9,
      "outputs": [
        {
          "output_type": "stream",
          "name": "stdout",
          "text": [
            "정확도: 0.978\n"
          ]
        }
      ]
    },
    {
      "cell_type": "code",
      "source": [
        "from matplotlib.colors import ListedColormap\n",
        "import matplotlib.pyplot as plt\n",
        "\n",
        "def plot_decision_regions(X, y, classifier, test_idx=None, resolution=0.02):\n",
        "    # 마커와 컬러맵을 설정\n",
        "    markers = ('s', 'x', 'o', '^', 'v')\n",
        "    colors = ('red', 'blue', 'lightgreen', 'gray', 'cyan')\n",
        "    cmap = ListedColormap(colors[:len(np.unique(y))])\n",
        "\n",
        "    # 결정 경계\n",
        "    x1_min, x1_max = X[:, 0].min() - 1, X[:, 0].max() + 1\n",
        "    x2_min, x2_max = X[:, 1].min() - 1, X[:, 1].max() + 1\n",
        "    xx1, xx2 = np.meshgrid(np.arange(x1_min, x1_max, resolution), np.arange(x2_min, x2_max, resolution))\n",
        "    Z = classifier.predict(np.array([xx1.ravel(), xx2.ravel()]).T)\n",
        "    Z = Z.reshape(xx1.shape)\n",
        "    plt.contourf(xx1, xx2, Z, alpha=0.3, cmap=cmap)\n",
        "    plt.xlim(xx1.min(), xx1.max())\n",
        "    plt.ylim(xx2.min(), xx2.max())\n",
        "\n",
        "    for idx, cl in enumerate(np.unique(y)):\n",
        "        plt.scatter(x=X[y==cl, 0],\n",
        "                    y=X[y==cl, 1],\n",
        "                    alpha=0.8,\n",
        "                    c=colors[idx],\n",
        "                    marker=markers[idx],\n",
        "                    label=cl,\n",
        "                    edgecolor=None if idx==1 else 'black')\n",
        "    \n",
        "    # 테스트 샘플을 부각하여 그립니다.\n",
        "    if test_idx:\n",
        "        # 모든 샘플을 그립니다.\n",
        "        X_test, y_test = X[test_idx, :], y[test_idx]\n",
        "\n",
        "        plt.scatter(X_test[:, 0],\n",
        "                    X_test[:, 1],\n",
        "                    facecolor='none',\n",
        "                    edgecolor='black',\n",
        "                    alpha=1.0,\n",
        "                    linewidth=1,\n",
        "                    marker='o',\n",
        "                    s=100, \n",
        "                    label='test set')"
      ],
      "metadata": {
        "id": "BnhmJyWN6hFy"
      },
      "execution_count": 10,
      "outputs": []
    },
    {
      "cell_type": "code",
      "source": [
        "X_combined_std = np.vstack((X_train_std, X_test_std))\n",
        "y_combined = np.hstack((y_train, y_test))\n",
        "\n",
        "plot_decision_regions(X=X_combined_std, y=y_combined,\n",
        "                      classifier=ppn, test_idx=range(105, 150))\n",
        "plt.xlabel('petal length [standardized]')\n",
        "plt.ylabel('petal width [standardized]')\n",
        "plt.legend(loc='upper left')\n",
        "\n",
        "plt.tight_layout()\n",
        "plt.show()"
      ],
      "metadata": {
        "colab": {
          "base_uri": "https://localhost:8080/",
          "height": 297
        },
        "id": "9dt292OB7gkn",
        "outputId": "34077788-8745-43b2-a524-107a3a90a482"
      },
      "execution_count": 11,
      "outputs": [
        {
          "output_type": "display_data",
          "data": {
            "image/png": "[encoded data removed]",
            "text/plain": [
              "<Figure size 432x288 with 1 Axes>"
            ]
          },
          "metadata": {
            "needs_background": "light"
          }
        }
      ]
    },
    {
      "cell_type": "markdown",
      "source": [
        "* 퍼셉트론 알고리즘은 선형적으로 구분되지 않은 데이터셋에는 수렴하지 못한다."
      ],
      "metadata": {
        "id": "h1Bv4FRQ7s_X"
      }
    },
    {
      "cell_type": "markdown",
      "source": [
        "# 3.3 로지스틱 회귀를 위한 클래스 확률 모델링\n",
        "* Logistic Regression - 회귀이지만 분류 모델.\n",
        "\n",
        "### 3.3.1 로지스틱 회귀의 이해와 조건부 확률\n",
        "* 이진 분류를 위한 선형 모델\n",
        "* 다중 클래스\n",
        "    * 다항 로지스틱 회귀(multinomial logistic regression) 또는 소프트맥스 회귀(Softmax regression)\n",
        "* 오즈비(odds ratio)\n",
        "    * 오즈 : 특정 이벤트가 발생활 확률\n",
        "    * $=\\dfrac{P}{1-P}$ , ($P$는 양성 샘플에 대한 확률)\n",
        "        * 양성 샘플 : 예측하려는 대상\n",
        "* 로짓(logit) 함수\n",
        "    * 오즈비에 로그 함수(로그 오즈)를 취한 것\n",
        "    * $logit(P)=log\\dfrac{P}{1-P}$\n",
        "\n",
        "여기서 $log$는 자연 로그를 말한다. logit 함수는 0과 1사이의 입력값을 받아 실수 범위 값으로 변환.\n",
        "\n",
        "$0\\le P \\le 1$이면, $0 \\le \\dfrac{P}{1-P} \\le \\infty$이고, $-\\infty \\le log\\dfrac{P}{1-P} \\le \\infty$이므로\n",
        "\n",
        "$log\\dfrac{P}{1-P}=\\boldsymbol{w}^T\\boldsymbol{x}$처럼 쓸 수 있다.\n",
        "\n",
        "따라서 양성 샘플일 확률 $P = \\dfrac{1}{1+e^{-\\boldsymbol{w}^T\\boldsymbol{x}}}=\\dfrac{1}{1+e^{-z}}$\n"
      ],
      "metadata": {
        "id": "lXg8j2Z071F3"
      }
    },
    {
      "cell_type": "code",
      "source": [
        "# 시그모이드 함수 - -7 ~ 7\n",
        "import numpy as np\n",
        "def sigmoid(z):\n",
        "    return 1.0 / (1.0+np.exp(-z))\n",
        "\n",
        "z = np.arange(-7, 7, 0.1)\n",
        "phi_z = sigmoid(z)\n",
        "\n",
        "plt.plot(z, phi_z)\n",
        "plt.axvline(0.0, color='k')\n",
        "plt.ylim(-0.1, 1.1)\n",
        "plt.xlabel('z')\n",
        "plt.ylabel('$\\phi (z)$')\n",
        "\n",
        "# y 축의 눈금과 격자선\n",
        "plt.yticks([0.0, 0.5, 1.0])\n",
        "ax = plt.gca()\n",
        "ax.yaxis.grid(True)\n",
        "\n",
        "plt.tight_layout()\n",
        "plt.show()"
      ],
      "metadata": {
        "colab": {
          "base_uri": "https://localhost:8080/",
          "height": 297
        },
        "id": "KR92cuweA6Pv",
        "outputId": "b23d7a73-8865-4517-ac1b-eafae72ac370"
      },
      "execution_count": 12,
      "outputs": [
        {
          "output_type": "display_data",
          "data": {
            "image/png": "[encoded data removed]",
            "text/plain": [
              "<Figure size 432x288 with 1 Axes>"
            ]
          },
          "metadata": {
            "needs_background": "light"
          }
        }
      ]
    },
    {
      "cell_type": "code",
      "source": [
        "Image(url='https://git.io/Jtm22', width=500) "
      ],
      "metadata": {
        "colab": {
          "base_uri": "https://localhost:8080/",
          "height": 372
        },
        "id": "dQ9vDJOCBX_o",
        "outputId": "a3a2a5d2-5454-4caf-c817-10fcc92a8d18"
      },
      "execution_count": 13,
      "outputs": [
        {
          "output_type": "execute_result",
          "data": {
            "text/html": [
              "<img src=\"https://git.io/Jtm22\" width=\"500\"/>"
            ],
            "text/plain": [
              "<IPython.core.display.Image object>"
            ]
          },
          "metadata": {},
          "execution_count": 13
        }
      ]
    },
    {
      "cell_type": "markdown",
      "source": [
        "예측 확률 : $\\hat{y}=\\begin{cases}1&\\phi(z)\\ge 0.5\\mbox{ 일 때} \\\\ 0&\\mbox{그 외}\\end{cases}$\n",
        "$\\;\\;\\;\\;\\;$\n",
        "$\\hat y=\\begin{cases}1&z\\ge 0\\mbox{ 일 때} \\\\ 0&\\mbox{그 외}\\end{cases}$"
      ],
      "metadata": {
        "id": "QVlCgPSFBxye"
      }
    },
    {
      "cell_type": "markdown",
      "source": [
        "### 3.3.2 로지스틱 비용 함수의 가중치 학습\n",
        "* 로지스틱 회귀 모델을 만들 때 최대화하려는 가능도(likelihood) $L$\n",
        "* 로그를 최대화한 로그 가능도\n",
        "    * $L(\\boldsymbol w)=\\prod^n_{i=1}\\phi(z^{(i)})^{y^{(i)}}\\left(1-\\phi(z^{(i)})\\right)^{1-y^{(i)}}$\n",
        "    * 로그 함수를 적용하면 가능도가 매우 작을 때 일어나는 수치상의 언더플로를 미연에 방지\n",
        "    * 계수의 곱을 계수의 합으로 바꿀 수 있다.\n",
        "\n",
        "* 경사 상승법 같은 최적화 알고리즘을 사용하여 로그 가능도 함수를 최대화 = 로지스틱 비용 함수\n",
        "    * $J(\\boldsymbol w)=-\\sum^n_{i=1}\\left[y^{(i)}\\text{log}\\phi(z^{(i)})+(1-y^{(i)})\\text{log}\\left(1-\\phi(z^{(i)})\\right)\\right]$\n",
        "\n",
        "* 손실 계산\n",
        "$J(\\boldsymbol w)=\\begin{cases}-\\text{log}\\phi(z)&y=1\\mbox{ 일 때} \\\\ -\\text{log}(1-\\phi(z))&y=0\\mbox{일 때}\\end{cases}$\n",
        "\n",
        "\n"
      ],
      "metadata": {
        "id": "0y_RWJ13B4pA"
      }
    },
    {
      "cell_type": "code",
      "source": [
        "# 분류 비용\n",
        "def cost_1(z):\n",
        "    return -np.log(sigmoid(z))\n",
        "\n",
        "def cost_0(z):\n",
        "    return -np.log(1-sigmoid(z))\n",
        "\n",
        "z = np.arange(-10, 10, 0.1)\n",
        "phi_z = sigmoid(z)\n",
        "\n",
        "c1 = [cost_1(x) for x in z]\n",
        "plt.plot(phi_z, c1, label='J(w) if y=1')\n",
        "\n",
        "c0 = [cost_0(x) for x in z]\n",
        "plt.plot(phi_z, c0, linestyle='--', label='J(w) if y=0')\n",
        "\n",
        "plt.ylim(0.0, 5.1)\n",
        "plt.xlim([0, 1])\n",
        "plt.xlabel('$\\phi$(z)')\n",
        "plt.ylabel('J(w)')\n",
        "plt.legend(loc='best')\n",
        "plt.tight_layout()\n",
        "plt.show()"
      ],
      "metadata": {
        "colab": {
          "base_uri": "https://localhost:8080/",
          "height": 297
        },
        "id": "I5pZ3AHdDt9_",
        "outputId": "353c1da7-db1d-438a-a28b-070768011587"
      },
      "execution_count": 14,
      "outputs": [
        {
          "output_type": "display_data",
          "data": {
            "image/png": "[encoded data removed]",
            "text/plain": [
              "<Figure size 432x288 with 1 Axes>"
            ]
          },
          "metadata": {
            "needs_background": "light"
          }
        }
      ]
    },
    {
      "cell_type": "markdown",
      "source": [
        "* 결과 그래프\n",
        "    * x축 : 0 ~ 1 범위의 시그모이드 활성화 값(시그모이드 함수의 입력인 z는 -10 ~ 10)\n",
        "    * y축 : 해당하는 로지스틱 비용\n",
        "    * 클래스 1에 속한 샘플의 비용은 0에 가까워지고, 클래스 0에 속한 샘플을 중 y=0로 예측하면 y축의 비용이 0에 가까워지지만, 예측이 잘못되면 비용이 무한대로 간다.\n",
        "        * **잘못된 예측에 점점 더 큰 비용을 부여.**\n",
        "        "
      ],
      "metadata": {
        "id": "DgNUiy_1EOBI"
      }
    },
    {
      "cell_type": "markdown",
      "source": [
        "### 3.3.3 아달린 구현을 로지스틱 회귀 알고리즘으로 변경\n",
        "\n",
        "로지스틱 손실 함수의 미분 :\n",
        "\n",
        "$\\begin{align*}\n",
        "\\dfrac{\\partial}{\\partial w_j}J(\\boldsymbol w)&=-\\dfrac{\\partial}{\\partial w_j}\\left[y^{(i)}\\text{log}\\phi(z^{(i)})+(1-y^{(i)})\\text{log}\\left(1-\\phi(z^{(i)})\\right)\\right] \\\\\n",
        "&=-y^{(i)}\\dfrac{\\partial}{\\partial w_j}\\text{log}\\phi(z^{(i)})-(1-y^{(i)})\\dfrac{\\partial}{\\partial w_j}\\text{log}\\left(1-\\phi(z^{(i)})\\right) \\\\\n",
        "&=-y^{(i)}\\dfrac{1}{\\phi(z^{(i)})}\\dfrac{\\partial}{\\partial w_j}\\phi(z^{(i)})+(1-y^{(i)})\\dfrac{1}{\\left(1-\\phi(z^{(i)})\\right)}\\dfrac{\\partial}{\\partial w_j}\\phi(z^{(i)}) \\\\\n",
        "&=\\left(-y^{(i)}\\dfrac{1}{\\phi(z^{(i)})}+(1-y^{(i)})\\dfrac{1}{\\left(1-\\phi(z^{(i)})\\right)}\\right)\\dfrac{\\partial}{\\partial w_j}\\phi(z^{(i)}) \\\\\n",
        "\\end{align*}$\n",
        "\n",
        "시그모이드 함수를 z에 대해 미분하면 : \n",
        "\n",
        "$\\dfrac{\\partial}{\\partial z}\\phi(z)=\\dfrac{\\partial}{\\partial z}\\left(\\dfrac{1}{1+e^{-z}}\\right)=-\\dfrac{1}{(1+e^{-z})^2}(-e^{-z})=\\dfrac{1+e^{-z}-1}{(1+e^{-z})^2}=\\dfrac{1+e^{-z}}{(1+e^{-z})^2}-\\dfrac{1}{(1+e^{-z})^2}=\\dfrac{1}{1+e^{-z}}\\left(1-\\dfrac{1}{1+e^{-z}}\\right)=\\phi(z)(1-\\phi(z))$\n",
        "\n",
        "따라서, \n",
        "\n",
        "$\\begin{align*}\n",
        "\\dfrac{\\partial}{\\partial w_j}J(\\boldsymbol w)&=\\left(-y^{(i)}\\dfrac{1}{\\phi(z^{(i)})}+(1-y^{(i)})\\dfrac{1}{\\left(1-\\phi(z^{(i)})\\right)}\\right)\\phi(z^{(i)})\\left(1-\\phi(z^{(i)})\\right)\\dfrac{\\partial}{\\partial w_j}z^{(i)} \\\\\n",
        "&=\\left(-y^{(i)}\\left(1-\\phi(z^{(i)})\\right)+(1-y^{(i)})\\phi(z^{(i)})\\right)x_j^{(i)}\\\\\n",
        "&=\\left(-y^{(i)}+y^{(i)}\\phi(z^{(i)})+\\phi(z^{(i)})-y^{(i)}\\phi(z^{(i)})\\right)x_j^{(i)}\\\\\n",
        "&=-\\left(y^{(i)}-\\phi(z^{(i)})\\right)x_j^{(i)}\n",
        "\\end{align*}$\n",
        "\n",
        "* 선형 활성화 함수를 시그모이드 활성화로 바꾸고 임계 함수가 클래스 레이블 -1과 1이 아닌 0과 1을 반환하도록 변경."
      ],
      "metadata": {
        "id": "KVa5EtOjFIjo"
      }
    },
    {
      "cell_type": "code",
      "source": [
        "class LogisticRegressionGD(object):\n",
        "    def __init__(self, eta=0.05, n_iter=100, random_state=1):\n",
        "        self.eta = eta\n",
        "        self.n_iter = n_iter\n",
        "        self.random_state = random_state\n",
        "    \n",
        "    def fit(self, X, y):\n",
        "        rgen = np.random.RandomState(self.random_state)\n",
        "        self.w_ = rgen.normal(loc=0.0, scale=0.01, size=1 + X.shape[1])\n",
        "        self.cost_ = []\n",
        "\n",
        "        for i in range(self.n_iter):\n",
        "            net_input = self.net_input(X)\n",
        "            output = self.activation(net_input)\n",
        "            errors = (y - output)\n",
        "            self.w_[1:] += self.eta * X.T.dot(errors)\n",
        "            self.w_[0] += self.eta * errors.sum()\n",
        "            \n",
        "            # 로지스틱 비용 계산.\n",
        "            cost = -y.dot(np.log(output)) - ((1 - y).dot(np.log(1 - output)))\n",
        "            self.cost_.append(cost)\n",
        "        return self\n",
        "    \n",
        "\n",
        "    def net_input(self, X):\n",
        "        return np.dot(X, self.w_[1:]) + self.w_[0]\n",
        "    \n",
        "    def activation(self, z): # 로지스틱 시그모이드 활성화 계산\n",
        "        # from scipy.special import expit; expit(z)\n",
        "        return 1. / (1. + np.exp(-np.clip(z, -250, 250)))\n",
        "    \n",
        "    def predict(self, X):\n",
        "        return np.where(self.net_input(X) >= 0.0, 1, 0) # return np.where(self.activation(self.net_input(X)) >= 0.5, 1, 0)"
      ],
      "metadata": {
        "id": "sCUTiwhOFizg"
      },
      "execution_count": 15,
      "outputs": []
    },
    {
      "cell_type": "markdown",
      "source": [
        "* 위 모델은 이진 분류 문제에만 적용 가능.\n",
        "    * Iris-setosa와 Iris-versicolor로만 (클래스 0과 클래스 1) 로지스틱 회귀 실행"
      ],
      "metadata": {
        "id": "iK2luG7tG6TH"
      }
    },
    {
      "cell_type": "code",
      "source": [
        "X_train_01_subset = X_train[(y_train == 0) | (y_train == 1)]\n",
        "y_train_01_subset = y_train[(y_train == 0) | (y_train == 1)]\n",
        "\n",
        "lrgd = LogisticRegressionGD(eta=0.05, n_iter=1000, random_state=1)\n",
        "lrgd.fit(X_train_01_subset, y_train_01_subset)\n",
        "\n",
        "plot_decision_regions(X=X_train_01_subset, y=y_train_01_subset, classifier=lrgd)\n",
        "\n",
        "plt.xlabel('petal length [standardized]')\n",
        "plt.ylabel('petal width [standardized]')\n",
        "plt.legend(loc='upper left')\n",
        "\n",
        "plt.tight_layout()\n",
        "plt.show()"
      ],
      "metadata": {
        "colab": {
          "base_uri": "https://localhost:8080/",
          "height": 297
        },
        "id": "gLC-C1uNHJWe",
        "outputId": "01388540-3717-4b9d-952a-f47c46117080"
      },
      "execution_count": 16,
      "outputs": [
        {
          "output_type": "display_data",
          "data": {
            "image/png": "[encoded data removed]",
            "text/plain": [
              "<Figure size 432x288 with 1 Axes>"
            ]
          },
          "metadata": {
            "needs_background": "light"
          }
        }
      ]
    },
    {
      "cell_type": "markdown",
      "source": [
        "### 3.3.4 사이킷런 로지스틱 회귀 모델 훈련"
      ],
      "metadata": {
        "id": "CDd0ONi9HtMP"
      }
    },
    {
      "cell_type": "code",
      "source": [
        "from sklearn.linear_model import LogisticRegression\n",
        "\n",
        "lr = LogisticRegression(C=100.0, random_state=1)\n",
        "lr.fit(X_train_std, y_train)\n",
        "\n",
        "plot_decision_regions(X_combined_std, y_combined, classifier=lr, test_idx=range(105, 150))\n",
        "plt.xlabel('petal length [standardized]')\n",
        "plt.ylabel('petal width [standardized]')\n",
        "plt.legend(loc='upper left')\n",
        "\n",
        "plt.tight_layout()\n",
        "plt.show()"
      ],
      "metadata": {
        "colab": {
          "base_uri": "https://localhost:8080/",
          "height": 297
        },
        "id": "vHYN3X38HwcX",
        "outputId": "27e28ae6-e442-48cd-b5c2-16d851d47641"
      },
      "execution_count": 17,
      "outputs": [
        {
          "output_type": "display_data",
          "data": {
            "image/png": "[encoded data removed]",
            "text/plain": [
              "<Figure size 432x288 with 1 Axes>"
            ]
          },
          "metadata": {
            "needs_background": "light"
          }
        }
      ]
    },
    {
      "cell_type": "markdown",
      "source": [
        "##### 클래스 소속 확률"
      ],
      "metadata": {
        "id": "ztx1aVNDIb4A"
      }
    },
    {
      "cell_type": "code",
      "source": [
        "lr.predict_proba(X_test_std[:3, :])"
      ],
      "metadata": {
        "colab": {
          "base_uri": "https://localhost:8080/"
        },
        "id": "7L_p625JIU4I",
        "outputId": "861d7150-ef15-4a6d-a469-51bc996ee1fc"
      },
      "execution_count": 18,
      "outputs": [
        {
          "output_type": "execute_result",
          "data": {
            "text/plain": [
              "array([[1.52213484e-12, 3.85303417e-04, 9.99614697e-01],\n",
              "       [9.93560717e-01, 6.43928295e-03, 1.14112016e-15],\n",
              "       [9.98655228e-01, 1.34477208e-03, 1.76178271e-17]])"
            ]
          },
          "metadata": {},
          "execution_count": 18
        }
      ]
    },
    {
      "cell_type": "markdown",
      "source": [
        "* 각 행 : 각 index 봇꽃의 클래스 소속 활률\n"
      ],
      "metadata": {
        "id": "QfrTbfanIg04"
      }
    },
    {
      "cell_type": "code",
      "source": [
        "lr.predict_proba(X_test_std[:3, :]).sum(axis=1)"
      ],
      "metadata": {
        "colab": {
          "base_uri": "https://localhost:8080/"
        },
        "id": "MVDoxqQRIu5P",
        "outputId": "3d82de5c-7605-4767-b38d-6f20b6951a02"
      },
      "execution_count": 19,
      "outputs": [
        {
          "output_type": "execute_result",
          "data": {
            "text/plain": [
              "array([1., 1., 1.])"
            ]
          },
          "metadata": {},
          "execution_count": 19
        }
      ]
    },
    {
      "cell_type": "markdown",
      "source": [
        "첫 번째 행에서 가장 큰 값은 대략 0.999(9.99614697e-01) => 첫 번째 샘플이 클래스 3 (Iris-virginica)에 속할 확률이 99.9%"
      ],
      "metadata": {
        "id": "A3MnComXIzRX"
      }
    },
    {
      "cell_type": "code",
      "source": [
        "lr.predict_proba(X_test_std[:3, :]).argmax(axis=1)"
      ],
      "metadata": {
        "colab": {
          "base_uri": "https://localhost:8080/"
        },
        "id": "rpgHmQmbJLBK",
        "outputId": "d0a9a9b5-a11e-47c0-cf97-a0a92fe7fc55"
      },
      "execution_count": 20,
      "outputs": [
        {
          "output_type": "execute_result",
          "data": {
            "text/plain": [
              "array([2, 0, 0])"
            ]
          },
          "metadata": {},
          "execution_count": 20
        }
      ]
    },
    {
      "cell_type": "code",
      "source": [
        "lr.predict(X_test_std[:3, :])"
      ],
      "metadata": {
        "colab": {
          "base_uri": "https://localhost:8080/"
        },
        "id": "fhc_bZf2JzVa",
        "outputId": "fecfdb96-0052-4226-8476-3c2a34eef72d"
      },
      "execution_count": 21,
      "outputs": [
        {
          "output_type": "execute_result",
          "data": {
            "text/plain": [
              "array([2, 0, 0])"
            ]
          },
          "metadata": {},
          "execution_count": 21
        }
      ]
    },
    {
      "cell_type": "code",
      "source": [
        "lr.predict(X_test_std[0, :].reshape(1, -1))"
      ],
      "metadata": {
        "colab": {
          "base_uri": "https://localhost:8080/"
        },
        "id": "cuPUT_yEJ0i_",
        "outputId": "492c72b6-57a1-4ede-f41a-9650f84752ea"
      },
      "execution_count": 22,
      "outputs": [
        {
          "output_type": "execute_result",
          "data": {
            "text/plain": [
              "array([2])"
            ]
          },
          "metadata": {},
          "execution_count": 22
        }
      ]
    },
    {
      "cell_type": "markdown",
      "source": [
        "### 3.3.5 규제를 사용하여 과대적합 피하기\n",
        "* 과대적합 : 머신러닝의 학습이 훈련 데이터에만 지나치게 최적화되어, 새로운 데이터에 정확한 예측/분류를 수행하지 못하는 상태\n",
        "    * 분산이 크다.\n",
        "    * 모델 파라미터가 너무 많아주어진 데이터에서 너무 복잡한 모델을 만들기 때문.\n",
        "* 과소적합 : 모델이 충분히 복잡하지 않아(최적화가 제대로 수행되지 않아) 데이터의 구조/패턴을 정확히 반영하지 못하는상태\n",
        "    * 편향이 크다.\n",
        "\n",
        "\n"
      ],
      "metadata": {
        "id": "5s81NfNlJ4M4"
      }
    },
    {
      "cell_type": "code",
      "source": [
        "Image(url='https://git.io/Jtm2V', width=700) "
      ],
      "metadata": {
        "colab": {
          "base_uri": "https://localhost:8080/",
          "height": 272
        },
        "id": "OIGPkuKSvyTy",
        "outputId": "62aec491-162a-46e2-9bfd-04f211f8ee6b"
      },
      "execution_count": 23,
      "outputs": [
        {
          "output_type": "execute_result",
          "data": {
            "text/html": [
              "<img src=\"https://git.io/Jtm2V\" width=\"700\"/>"
            ],
            "text/plain": [
              "<IPython.core.display.Image object>"
            ]
          },
          "metadata": {},
          "execution_count": 23
        }
      ]
    },
    {
      "cell_type": "markdown",
      "source": [
        "* 편향-분산 트레이드오프\n",
        "    * 분산(variance) : 데이터셋 내 데이터가 얼마나 펴져 있는지를 나타내는 척도\n",
        "    * 편향(bias) : 데이터가 target으로부터 떨어져 있는 정도\n",
        "\n",
        "좋은 편향-분산 트레이드오프를 찾는 방법은 **규제(regularization)**를 사용하여 공선성(Collinearity)(특성 간의 높은 상관관계)을 다루거나 데이터에서 잡음을 제거하여 과대적합을 방지하는 것이다.\n",
        "\n",
        "* 규제 : 과도한 파라미터(가중치) 값을 제한하기 위해 추가적인 정보(편향)를 주입하는 개념\n",
        "    * L2 규제 $\\lVert\\boldsymbol{w}\\rVert^2_2=\\sum_{j=1}^m w_j^2$\n",
        "        * $\\lambda$는 규제 하이퍼파라미터 이다.\n",
        "    * L1 규제 $\\lVert\\boldsymbol{w}\\rVert_1=\\sum_{j=1}^m \\left|w_j\\right|$\n",
        "\n",
        "`C`는 $\\lambda$의 역수로 증가시키면 규제가 작아지고, 감소시키면 규제가 커짐. 기본값은 1.0\n",
        "\n",
        "`penalty` 매개변수 기본값 `'l2'`, L1 규제를 위해 `'l1'`을 지정할 수 있음.\n",
        "\n",
        "* 규제와 특성 정규화(normalizatio)\n",
        "    * 규제는 표준화 같은 특성 스케일 조정이 중요한 또 다른 이유이다. 규제가 잘 동작하기 위해서는 모든 특성이 비슷한 스케일을 가져야 한다.\n",
        "\n",
        "규제가 추가된 비용 함수 : $J(\\boldsymbol w)=-\\sum^n_{i=1}\\left[y^{(i)}\\text{log}\\phi(z^{(i)})+(1-y^{(i)})\\text{log}\\left(1-\\phi(z^{(i)})\\right)\\right]+\\dfrac{\\lambda}{2}\\sum_{j=1}^m w_j^2$"
      ],
      "metadata": {
        "id": "rntjGcktv21R"
      }
    },
    {
      "cell_type": "code",
      "source": [
        "# 두 개의 가중치에 대해 L2 규제 효과를 그래프로 나타낸다.\n",
        "weights, params = [], []\n",
        "for c in np.arange(-5, 5):\n",
        "    lr = LogisticRegression(C=10.**c, random_state=1, multi_class='ovr')\n",
        "    lr.fit(X_train_std, y_train)\n",
        "    weights.append(lr.coef_[1])\n",
        "    params.append(10.**c)\n",
        "\n",
        "weights = np.array(weights)\n",
        "plt.plot(params, weights[:, 0], label='petal length')\n",
        "plt.plot(params, weights[:, 1], linestyle='--', label='petal width')\n",
        "plt.ylabel('weight coefficient')\n",
        "plt.xlabel('C')\n",
        "plt.legend(loc='upper left')\n",
        "plt.xscale('log')\n",
        "plt.show()"
      ],
      "metadata": {
        "colab": {
          "base_uri": "https://localhost:8080/",
          "height": 283
        },
        "id": "heXOPFuF26tS",
        "outputId": "bc1c1dfd-3c8f-4d31-a0aa-f291ad4aed62"
      },
      "execution_count": 24,
      "outputs": [
        {
          "output_type": "display_data",
          "data": {
            "image/png": "[encoded data removed]",
            "text/plain": [
              "<Figure size 432x288 with 1 Axes>"
            ]
          },
          "metadata": {
            "needs_background": "light"
          }
        }
      ]
    }
  ]
}
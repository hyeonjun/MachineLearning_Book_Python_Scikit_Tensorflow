{
  "nbformat": 4,
  "nbformat_minor": 0,
  "metadata": {
    "colab": {
      "name": "ch04_Data_Preprocessing_2.ipynb",
      "provenance": [],
      "collapsed_sections": [],
      "authorship_tag": "ABX9TyPNfi7WzACk94N8OGcgCOSA"
    },
    "kernelspec": {
      "name": "python3",
      "display_name": "Python 3"
    },
    "language_info": {
      "name": "python"
    }
  },
  "cells": [
    {
      "cell_type": "code",
      "execution_count": 1,
      "metadata": {
        "id": "x8hfe1W7CxAm"
      },
      "outputs": [],
      "source": [
        "from IPython.display import Image"
      ]
    },
    {
      "cell_type": "code",
      "source": [
        "import pandas as pd\n",
        "import numpy as np\n",
        "df_wine = pd.read_csv('https://archive.ics.uci.edu/'\n",
        "                      'ml/machine-learning-databases/wine/wine.data',\n",
        "                      header=None)\n",
        "\n",
        "# UCI 머신러닝 저장소의 Wine 데이터셋에 접근되지 않을 때\n",
        "# 다음 코드의 주석을 제거하고 로컬 경로에서 데이터셋을 읽으세요:\n",
        "\n",
        "# df_wine = pd.read_csv('wine.data', header=None)\n",
        "\n",
        "\n",
        "df_wine.columns = ['Class label', 'Alcohol', 'Malic acid', 'Ash',\n",
        "                   'Alcalinity of ash', 'Magnesium', 'Total phenols',\n",
        "                   'Flavanoids', 'Nonflavanoid phenols', 'Proanthocyanins',\n",
        "                   'Color intensity', 'Hue', 'OD280/OD315 of diluted wines',\n",
        "                   'Proline']\n",
        "\n",
        "print('Class labels', np.unique(df_wine['Class label']))\n",
        "df_wine.head()"
      ],
      "metadata": {
        "colab": {
          "base_uri": "https://localhost:8080/",
          "height": 286
        },
        "id": "4Z2C3hYpEcPB",
        "outputId": "8d2c87ca-b35d-44e2-e590-d876d1738f36"
      },
      "execution_count": 2,
      "outputs": [
        {
          "output_type": "stream",
          "name": "stdout",
          "text": [
            "Class labels [1 2 3]\n"
          ]
        },
        {
          "output_type": "execute_result",
          "data": {
            "text/html": [
              "\n",
              "  <div id=\"df-c3e844a1-ca97-492a-9e6d-62caaa7b8bc8\">\n",
              "    <div class=\"colab-df-container\">\n",
              "      <div>\n",
              "<style scoped>\n",
              "    .dataframe tbody tr th:only-of-type {\n",
              "        vertical-align: middle;\n",
              "    }\n",
              "\n",
              "    .dataframe tbody tr th {\n",
              "        vertical-align: top;\n",
              "    }\n",
              "\n",
              "    .dataframe thead th {\n",
              "        text-align: right;\n",
              "    }\n",
              "</style>\n",
              "<table border=\"1\" class=\"dataframe\">\n",
              "  <thead>\n",
              "    <tr style=\"text-align: right;\">\n",
              "      <th></th>\n",
              "      <th>Class label</th>\n",
              "      <th>Alcohol</th>\n",
              "      <th>Malic acid</th>\n",
              "      <th>Ash</th>\n",
              "      <th>Alcalinity of ash</th>\n",
              "      <th>Magnesium</th>\n",
              "      <th>Total phenols</th>\n",
              "      <th>Flavanoids</th>\n",
              "      <th>Nonflavanoid phenols</th>\n",
              "      <th>Proanthocyanins</th>\n",
              "      <th>Color intensity</th>\n",
              "      <th>Hue</th>\n",
              "      <th>OD280/OD315 of diluted wines</th>\n",
              "      <th>Proline</th>\n",
              "    </tr>\n",
              "  </thead>\n",
              "  <tbody>\n",
              "    <tr>\n",
              "      <th>0</th>\n",
              "      <td>1</td>\n",
              "      <td>14.23</td>\n",
              "      <td>1.71</td>\n",
              "      <td>2.43</td>\n",
              "      <td>15.6</td>\n",
              "      <td>127</td>\n",
              "      <td>2.80</td>\n",
              "      <td>3.06</td>\n",
              "      <td>0.28</td>\n",
              "      <td>2.29</td>\n",
              "      <td>5.64</td>\n",
              "      <td>1.04</td>\n",
              "      <td>3.92</td>\n",
              "      <td>1065</td>\n",
              "    </tr>\n",
              "    <tr>\n",
              "      <th>1</th>\n",
              "      <td>1</td>\n",
              "      <td>13.20</td>\n",
              "      <td>1.78</td>\n",
              "      <td>2.14</td>\n",
              "      <td>11.2</td>\n",
              "      <td>100</td>\n",
              "      <td>2.65</td>\n",
              "      <td>2.76</td>\n",
              "      <td>0.26</td>\n",
              "      <td>1.28</td>\n",
              "      <td>4.38</td>\n",
              "      <td>1.05</td>\n",
              "      <td>3.40</td>\n",
              "      <td>1050</td>\n",
              "    </tr>\n",
              "    <tr>\n",
              "      <th>2</th>\n",
              "      <td>1</td>\n",
              "      <td>13.16</td>\n",
              "      <td>2.36</td>\n",
              "      <td>2.67</td>\n",
              "      <td>18.6</td>\n",
              "      <td>101</td>\n",
              "      <td>2.80</td>\n",
              "      <td>3.24</td>\n",
              "      <td>0.30</td>\n",
              "      <td>2.81</td>\n",
              "      <td>5.68</td>\n",
              "      <td>1.03</td>\n",
              "      <td>3.17</td>\n",
              "      <td>1185</td>\n",
              "    </tr>\n",
              "    <tr>\n",
              "      <th>3</th>\n",
              "      <td>1</td>\n",
              "      <td>14.37</td>\n",
              "      <td>1.95</td>\n",
              "      <td>2.50</td>\n",
              "      <td>16.8</td>\n",
              "      <td>113</td>\n",
              "      <td>3.85</td>\n",
              "      <td>3.49</td>\n",
              "      <td>0.24</td>\n",
              "      <td>2.18</td>\n",
              "      <td>7.80</td>\n",
              "      <td>0.86</td>\n",
              "      <td>3.45</td>\n",
              "      <td>1480</td>\n",
              "    </tr>\n",
              "    <tr>\n",
              "      <th>4</th>\n",
              "      <td>1</td>\n",
              "      <td>13.24</td>\n",
              "      <td>2.59</td>\n",
              "      <td>2.87</td>\n",
              "      <td>21.0</td>\n",
              "      <td>118</td>\n",
              "      <td>2.80</td>\n",
              "      <td>2.69</td>\n",
              "      <td>0.39</td>\n",
              "      <td>1.82</td>\n",
              "      <td>4.32</td>\n",
              "      <td>1.04</td>\n",
              "      <td>2.93</td>\n",
              "      <td>735</td>\n",
              "    </tr>\n",
              "  </tbody>\n",
              "</table>\n",
              "</div>\n",
              "      <button class=\"colab-df-convert\" onclick=\"convertToInteractive('df-c3e844a1-ca97-492a-9e6d-62caaa7b8bc8')\"\n",
              "              title=\"Convert this dataframe to an interactive table.\"\n",
              "              style=\"display:none;\">\n",
              "        \n",
              "  <svg xmlns=\"http://www.w3.org/2000/svg\" height=\"24px\"viewBox=\"0 0 24 24\"\n",
              "       width=\"24px\">\n",
              "    <path d=\"M0 0h24v24H0V0z\" fill=\"none\"/>\n",
              "    <path d=\"M18.56 5.44l.94 2.06.94-2.06 2.06-.94-2.06-.94-.94-2.06-.94 2.06-2.06.94zm-11 1L8.5 8.5l.94-2.06 2.06-.94-2.06-.94L8.5 2.5l-.94 2.06-2.06.94zm10 10l.94 2.06.94-2.06 2.06-.94-2.06-.94-.94-2.06-.94 2.06-2.06.94z\"/><path d=\"M17.41 7.96l-1.37-1.37c-.4-.4-.92-.59-1.43-.59-.52 0-1.04.2-1.43.59L10.3 9.45l-7.72 7.72c-.78.78-.78 2.05 0 2.83L4 21.41c.39.39.9.59 1.41.59.51 0 1.02-.2 1.41-.59l7.78-7.78 2.81-2.81c.8-.78.8-2.07 0-2.86zM5.41 20L4 18.59l7.72-7.72 1.47 1.35L5.41 20z\"/>\n",
              "  </svg>\n",
              "      </button>\n",
              "      \n",
              "  <style>\n",
              "    .colab-df-container {\n",
              "      display:flex;\n",
              "      flex-wrap:wrap;\n",
              "      gap: 12px;\n",
              "    }\n",
              "\n",
              "    .colab-df-convert {\n",
              "      background-color: #E8F0FE;\n",
              "      border: none;\n",
              "      border-radius: 50%;\n",
              "      cursor: pointer;\n",
              "      display: none;\n",
              "      fill: #1967D2;\n",
              "      height: 32px;\n",
              "      padding: 0 0 0 0;\n",
              "      width: 32px;\n",
              "    }\n",
              "\n",
              "    .colab-df-convert:hover {\n",
              "      background-color: #E2EBFA;\n",
              "      box-shadow: 0px 1px 2px rgba(60, 64, 67, 0.3), 0px 1px 3px 1px rgba(60, 64, 67, 0.15);\n",
              "      fill: #174EA6;\n",
              "    }\n",
              "\n",
              "    [theme=dark] .colab-df-convert {\n",
              "      background-color: #3B4455;\n",
              "      fill: #D2E3FC;\n",
              "    }\n",
              "\n",
              "    [theme=dark] .colab-df-convert:hover {\n",
              "      background-color: #434B5C;\n",
              "      box-shadow: 0px 1px 3px 1px rgba(0, 0, 0, 0.15);\n",
              "      filter: drop-shadow(0px 1px 2px rgba(0, 0, 0, 0.3));\n",
              "      fill: #FFFFFF;\n",
              "    }\n",
              "  </style>\n",
              "\n",
              "      <script>\n",
              "        const buttonEl =\n",
              "          document.querySelector('#df-c3e844a1-ca97-492a-9e6d-62caaa7b8bc8 button.colab-df-convert');\n",
              "        buttonEl.style.display =\n",
              "          google.colab.kernel.accessAllowed ? 'block' : 'none';\n",
              "\n",
              "        async function convertToInteractive(key) {\n",
              "          const element = document.querySelector('#df-c3e844a1-ca97-492a-9e6d-62caaa7b8bc8');\n",
              "          const dataTable =\n",
              "            await google.colab.kernel.invokeFunction('convertToInteractive',\n",
              "                                                     [key], {});\n",
              "          if (!dataTable) return;\n",
              "\n",
              "          const docLinkHtml = 'Like what you see? Visit the ' +\n",
              "            '<a target=\"_blank\" href=https://colab.research.google.com/notebooks/data_table.ipynb>data table notebook</a>'\n",
              "            + ' to learn more about interactive tables.';\n",
              "          element.innerHTML = '';\n",
              "          dataTable['output_type'] = 'display_data';\n",
              "          await google.colab.output.renderOutput(dataTable, element);\n",
              "          const docLink = document.createElement('div');\n",
              "          docLink.innerHTML = docLinkHtml;\n",
              "          element.appendChild(docLink);\n",
              "        }\n",
              "      </script>\n",
              "    </div>\n",
              "  </div>\n",
              "  "
            ],
            "text/plain": [
              "   Class label  Alcohol  ...  OD280/OD315 of diluted wines  Proline\n",
              "0            1    14.23  ...                          3.92     1065\n",
              "1            1    13.20  ...                          3.40     1050\n",
              "2            1    13.16  ...                          3.17     1185\n",
              "3            1    14.37  ...                          3.45     1480\n",
              "4            1    13.24  ...                          2.93      735\n",
              "\n",
              "[5 rows x 14 columns]"
            ]
          },
          "metadata": {},
          "execution_count": 2
        }
      ]
    },
    {
      "cell_type": "code",
      "source": [
        "from sklearn.model_selection import train_test_split\n",
        "\n",
        "X, y = df_wine.iloc[:, 1:].values, df_wine.iloc[:, 0].values\n",
        "\n",
        "X_train, X_test, y_train, y_test =\\\n",
        "    train_test_split(X, y, \n",
        "                     test_size=0.3, \n",
        "                     random_state=0, \n",
        "                     stratify=y)"
      ],
      "metadata": {
        "id": "S_O-Ae-HEdR4"
      },
      "execution_count": 3,
      "outputs": []
    },
    {
      "cell_type": "markdown",
      "source": [
        "# 4.4 특성 스테일 맞추기\n",
        "* 특성 스케일 조정이 필요없는 머신러닝 알고리즘 : 결정 트리, 랜덤 포레스트 등\n",
        "* 그 외 모든 머신러닝 알고리즘에는 **특성 스케일 조정이 매우 중요**\n",
        "* 특성 스케일 방법\n",
        "    * 정규화(normalization)\n",
        "    * 표준화(standardization)\n"
      ],
      "metadata": {
        "id": "fNOZyjZHDDN6"
      }
    },
    {
      "cell_type": "markdown",
      "source": [
        "정규화 : 특성 스케일을 [0, 1] 범위에 맞추는 것\n",
        "* 최소-최대 스케일 변환(min-max scaling)\n",
        "\n",
        "$x^{(i)}_{norm} = \\dfrac{x^{(i)}-x_{min}}{x_{max}-x_{min}}$\n",
        "\n",
        "정해진 범위의 값이 필요할 때 유용한 기법."
      ],
      "metadata": {
        "id": "1iccIWAZEE4f"
      }
    },
    {
      "cell_type": "code",
      "source": [
        "# 사이킷런의 최소-최대 스케일 변환\n",
        "from sklearn.preprocessing import MinMaxScaler\n",
        "mms = MinMaxScaler()\n",
        "X_train_norm = mms.fit_transform(X_train)\n",
        "X_test_norm = mms.transform(X_test)"
      ],
      "metadata": {
        "id": "zabW6dFQEDXB"
      },
      "execution_count": 4,
      "outputs": []
    },
    {
      "cell_type": "markdown",
      "source": [
        "표준화 : 특성의 평균을 0에 맞추고 표준편차를 1로 만들어 정규 분포와 같은 특징으로 만듬\n",
        "* 많은 머신러닝 알고리즘, 경사 하강법 같은 최적화 알고리즘에 많이 사용\n",
        "* 이상치 정보가 유지되기 때문에 제한된 범위로 데이터를 조정하는 최소-최대 스케일 변환에 비해 알고리즘이 이상치에 덜 민감.\n",
        "\n",
        "$x^{(i)}_{std} = \\dfrac{x^{(i)}-\\mu_x}{\\sigma_x}$\n",
        "\n",
        "$\\mu_x$는 어떤 특성의 샘플 평균.\n",
        "\n",
        "$\\sigma_x$는 그에 해당하는 표준 편차"
      ],
      "metadata": {
        "id": "N7I5lO2GE12A"
      }
    },
    {
      "cell_type": "code",
      "source": [
        "ex = np.array([0, 1, 2, 3, 4, 5])\n",
        "\n",
        "print('표준화 :', (ex-ex.mean()) / ex.std())\n",
        "\n",
        "print('정규와 :', (ex-ex.min()) / (ex.max()-ex.min()))"
      ],
      "metadata": {
        "colab": {
          "base_uri": "https://localhost:8080/"
        },
        "id": "LlVuv1cpFoQD",
        "outputId": "2797214a-c3dc-44ac-a275-60be7c643498"
      },
      "execution_count": 5,
      "outputs": [
        {
          "output_type": "stream",
          "name": "stdout",
          "text": [
            "표준화 : [-1.46385011 -0.87831007 -0.29277002  0.29277002  0.87831007  1.46385011]\n",
            "정규와 : [0.  0.2 0.4 0.6 0.8 1. ]\n"
          ]
        }
      ]
    },
    {
      "cell_type": "code",
      "source": [
        "# 사이킷런의 표준화\n",
        "from sklearn.preprocessing import StandardScaler\n",
        "stdsc = StandardScaler()\n",
        "X_train_std = stdsc.fit_transform(X_train)\n",
        "X_test_std = stdsc.transform(X_test)"
      ],
      "metadata": {
        "id": "5mZTka6cF5pH"
      },
      "execution_count": 6,
      "outputs": []
    },
    {
      "cell_type": "markdown",
      "source": [
        "* 특성 조정 방법 - RobustScaler\n",
        "    * 이상치가 많이 포함된 작은 데이터셋을 다룰 때 특히 도움된다.\n",
        "    * 특성 열마다 독립적으로 작용하며 중간값을 뺀 다음 데이터셋의 1사분위수와 3사분위수(즉, 25백준위수와 75백준위수)를 사용해서 데이터셋의 스케일을 조정.\n",
        "    * 극단적인 값과 이상치에 영향을 덜 받는다.\n",
        "\n",
        "$ x_{robust}^{(i)} = \\dfrac{x^{(i)} - q_2}{q_3 - q_1}$"
      ],
      "metadata": {
        "id": "-ynigh4tGOXA"
      }
    },
    {
      "cell_type": "code",
      "source": [
        "from sklearn.preprocessing import RobustScaler\n",
        "rbs = RobustScaler()\n",
        "X_train_robust = rbs.fit_transform(X_train)\n",
        "X_test_robust = rbs.transform(X_test)"
      ],
      "metadata": {
        "id": "tXEk36QuGuqp"
      },
      "execution_count": 7,
      "outputs": []
    },
    {
      "cell_type": "code",
      "source": [
        "(ex  - np.percentile(ex, 50)) / (np.percentile(ex, 75) - np.percentile(ex, 25))"
      ],
      "metadata": {
        "colab": {
          "base_uri": "https://localhost:8080/"
        },
        "id": "5inx5We9HB1f",
        "outputId": "5f00cb26-fc55-4004-acd5-f4f088c45fb6"
      },
      "execution_count": 8,
      "outputs": [
        {
          "output_type": "execute_result",
          "data": {
            "text/plain": [
              "array([-1. , -0.6, -0.2,  0.2,  0.6,  1. ])"
            ]
          },
          "metadata": {},
          "execution_count": 8
        }
      ]
    },
    {
      "cell_type": "markdown",
      "source": [
        "* 특성 조정 방법 - MaxAbsScaler\n",
        "    * 각 특성별로 데이터를 최대 절대값으로 나눈다. 따라서 각 특성의 최대값은 1이된다.\n",
        "    * 전체 특성은 [-1, 1] 범위로 변경."
      ],
      "metadata": {
        "id": "KDrtpw_yHJAx"
      }
    },
    {
      "cell_type": "code",
      "source": [
        "from sklearn.preprocessing import MaxAbsScaler\n",
        "mas = MaxAbsScaler()\n",
        "X_train_maxabs = mas.fit_transform(X_train)\n",
        "X_test_maxabs = mas.transform(X_test)"
      ],
      "metadata": {
        "id": "Y_7odVhtHTy4"
      },
      "execution_count": 9,
      "outputs": []
    },
    {
      "cell_type": "code",
      "source": [
        "ex / np.max(np.abs(ex))"
      ],
      "metadata": {
        "colab": {
          "base_uri": "https://localhost:8080/"
        },
        "id": "Q-9xlYw-G8PM",
        "outputId": "8a093f44-3148-4c81-cea8-70502bdadb9b"
      },
      "execution_count": 10,
      "outputs": [
        {
          "output_type": "execute_result",
          "data": {
            "text/plain": [
              "array([0. , 0.2, 0.4, 0.6, 0.8, 1. ])"
            ]
          },
          "metadata": {},
          "execution_count": 10
        }
      ]
    },
    {
      "cell_type": "markdown",
      "source": [
        "`StandardScaler`, `MinMaxScaler`, `RobustScaler`, `MaxAbsScaler`에 대응하는 `scale()`, `minmax_scale()`, `robust_scale()`, `maxabs_scale()` 함수가 있습니다. 이 함수들은 1차원 배열도 입력 받을 수 있습니다."
      ],
      "metadata": {
        "id": "dgcSXOvTHqkh"
      }
    },
    {
      "cell_type": "code",
      "source": [
        "from sklearn.preprocessing import scale, minmax_scale, robust_scale, maxabs_scale\n",
        "print('StandardScaler:', scale(ex))\n",
        "print('MinMaxScaler:', minmax_scale(ex))\n",
        "print('RobustScaler:', robust_scale(ex))\n",
        "print('MaxAbsScaler:', maxabs_scale(ex))"
      ],
      "metadata": {
        "colab": {
          "base_uri": "https://localhost:8080/"
        },
        "id": "q2QToNxGHqIQ",
        "outputId": "b47b9c21-4420-4438-c7de-539d443df613"
      },
      "execution_count": 11,
      "outputs": [
        {
          "output_type": "stream",
          "name": "stdout",
          "text": [
            "StandardScaler: [-1.46385011 -0.87831007 -0.29277002  0.29277002  0.87831007  1.46385011]\n",
            "MinMaxScaler: [0.  0.2 0.4 0.6 0.8 1. ]\n",
            "RobustScaler: [-1.  -0.6 -0.2  0.2  0.6  1. ]\n",
            "MaxAbsScaler: [0.  0.2 0.4 0.6 0.8 1. ]\n"
          ]
        }
      ]
    },
    {
      "cell_type": "markdown",
      "source": [
        "`MaxAbsScaler`, `maxabs_scaler()`는 데이터를 중앙에 맞추지 않기 때문에 희소 행렬을 사용할 수 있다."
      ],
      "metadata": {
        "id": "AyhgnW2nIPbp"
      }
    },
    {
      "cell_type": "code",
      "source": [
        "from scipy import sparse\n",
        "X_train_sparse = sparse.csr_matrix(X_train)\n",
        "X_train_maxabs = mas.fit_transform(X_train_sparse)"
      ],
      "metadata": {
        "id": "9uXksUp_JBqL"
      },
      "execution_count": 12,
      "outputs": []
    },
    {
      "cell_type": "markdown",
      "source": [
        "`RobustScaler`는 희소 행렬을 사용해 훈련할 수 없지만, 변환은 가능."
      ],
      "metadata": {
        "id": "EjTSfrPoJQK3"
      }
    },
    {
      "cell_type": "code",
      "source": [
        "X_train_robust = rbs.transform(X_train_sparse)"
      ],
      "metadata": {
        "id": "JIqeF5YoJP-5"
      },
      "execution_count": 13,
      "outputs": []
    },
    {
      "cell_type": "markdown",
      "source": [
        "`Normalizer`클래스와 `normalize()` 함수는 특성이 아닌 샘플별로 정규화를 수행. 또한 희소 행렬도 처리 가능. 기본적으로 샘플의 L2 규제가 1이 되도록 정규화한다."
      ],
      "metadata": {
        "id": "fHa4Iqz5JZSQ"
      }
    },
    {
      "cell_type": "code",
      "source": [
        "from sklearn.preprocessing import Normalizer\n",
        "\n",
        "nrm = Normalizer()\n",
        "X_train_l2 = nrm.fit_transform(X_train)"
      ],
      "metadata": {
        "id": "L3QC2XOJJkfx"
      },
      "execution_count": 14,
      "outputs": []
    },
    {
      "cell_type": "markdown",
      "source": [
        "Normalizer 클래스의 norm 매개변수에 사용할 규제를 지정할 수 있다. \n",
        "\n",
        "'l1', 'l2', 'max', default='l2'"
      ],
      "metadata": {
        "id": "wdvctajSJ0_h"
      }
    },
    {
      "cell_type": "code",
      "source": [
        "ex_2f = np.vstack((ex[1:], ex[1:]**2))\n",
        "ex_2f"
      ],
      "metadata": {
        "colab": {
          "base_uri": "https://localhost:8080/"
        },
        "id": "dh02G6b5J-XI",
        "outputId": "fa4f7213-b0de-4508-951a-9f1d2b3e5402"
      },
      "execution_count": 15,
      "outputs": [
        {
          "output_type": "execute_result",
          "data": {
            "text/plain": [
              "array([[ 1,  2,  3,  4,  5],\n",
              "       [ 1,  4,  9, 16, 25]])"
            ]
          },
          "metadata": {},
          "execution_count": 15
        }
      ]
    },
    {
      "cell_type": "markdown",
      "source": [
        "L2 규제 공식\n",
        "\n",
        "$ \\lVert \\boldsymbol{x} \\rVert_2 = \\sqrt{x_1^2 + x_2^2 + \\cdots + x_n^2} $\n",
        "\n",
        "먼저 샘플별로 특서으이 제곱을 더하기 위해 sum() 함수에서 axis=1을 사용. 이 값의 제곱근을 구하면 L2 규제다. 그리고 각 샘플의 특성을 해당 L2 규제로 나눈다."
      ],
      "metadata": {
        "id": "9VnEvr5yKBAw"
      }
    },
    {
      "cell_type": "code",
      "source": [
        "l2_norm = np.sqrt(np.sum(ex_2f ** 2, axis=1))\n",
        "print(l2_norm)\n",
        "\n",
        "ex_2f / l2_norm.reshape(-1, 1)"
      ],
      "metadata": {
        "colab": {
          "base_uri": "https://localhost:8080/"
        },
        "id": "AL7AdMOuKOdA",
        "outputId": "00ade975-523d-43a8-c9ff-867aad0f2c41"
      },
      "execution_count": 16,
      "outputs": [
        {
          "output_type": "stream",
          "name": "stdout",
          "text": [
            "[ 7.41619849 31.28897569]\n"
          ]
        },
        {
          "output_type": "execute_result",
          "data": {
            "text/plain": [
              "array([[0.13483997, 0.26967994, 0.40451992, 0.53935989, 0.67419986],\n",
              "       [0.03196014, 0.12784055, 0.28764125, 0.51136222, 0.79900347]])"
            ]
          },
          "metadata": {},
          "execution_count": 16
        }
      ]
    },
    {
      "cell_type": "markdown",
      "source": [
        "L1 규제 공식\n",
        "\n",
        "$ \\lVert \\boldsymbol{x} \\rVert_1 = \\lvert x_1 \\rvert + \\lvert x_2 \\rvert + \\cdots + \\lvert x_n \\rvert $\n",
        "\n",
        "절대값인 L1 규제를 사용하여 각 샘플을 나눈다.\n"
      ],
      "metadata": {
        "id": "nqwwuzbYKdF4"
      }
    },
    {
      "cell_type": "code",
      "source": [
        "l1_norm = np.sum(np.abs(ex_2f), axis=1)\n",
        "print(l1_norm)\n",
        "\n",
        "ex_2f / l1_norm.reshape(-1, 1)"
      ],
      "metadata": {
        "colab": {
          "base_uri": "https://localhost:8080/"
        },
        "id": "wbWOpxGUKnPA",
        "outputId": "eeeedc6d-315c-4899-b52b-f7e28a54f5b3"
      },
      "execution_count": 17,
      "outputs": [
        {
          "output_type": "stream",
          "name": "stdout",
          "text": [
            "[15 55]\n"
          ]
        },
        {
          "output_type": "execute_result",
          "data": {
            "text/plain": [
              "array([[0.06666667, 0.13333333, 0.2       , 0.26666667, 0.33333333],\n",
              "       [0.01818182, 0.07272727, 0.16363636, 0.29090909, 0.45454545]])"
            ]
          },
          "metadata": {},
          "execution_count": 17
        }
      ]
    },
    {
      "cell_type": "markdown",
      "source": [
        "# 4.5 유용한 특성 선택\n",
        "모델이 테스트 데이터셋보다 훈련 데이터셋에서 성능이 훨씬 높다면 과대적합에 대한 강력한 신호이다.\n",
        "\n",
        "* 일반화 오차 감소 방법 - 과대적합을 막는 방법\n",
        "    1. 더 많은 훈련 데이터를 모은다.\n",
        "    2. 규제를 통해 복잡도 제한\n",
        "    3. 파라미터 개수가 적은 간단한 모델 선택\n",
        "    4. 데이터 차원을 줄인다."
      ],
      "metadata": {
        "id": "0F0_50vELpop"
      }
    },
    {
      "cell_type": "markdown",
      "source": [
        "### 4.5.1 모델 복잡도 제한을 위한 L1 규제와 L2 규제\n",
        "\n",
        "$L2: \\lVert \\boldsymbol w \\rVert_2^2 = \\sum_{j=1}^m w_j^2$\n",
        "\n",
        "$L1: \\lVert \\boldsymbol w \\rVert_1 = \\sum_{j=1}^m \\lvert w_j \\rvert$"
      ],
      "metadata": {
        "id": "cXL7jU1yNyex"
      }
    },
    {
      "cell_type": "markdown",
      "source": [
        "L2 규제와 대조적으로 L1 규제는 보통 희소한 특성 벡터를 만든다. 대부분의 특성 가중치가 0되어 관련 없는 특성이 많은 고차원 데이터셋일 경우 이런 희소성이 도움이 될 수 있다. 특히 훈련 샘플보다 관련 없는 특성이 더 많은 경우이다. "
      ],
      "metadata": {
        "id": "az6NA_XhOBgI"
      }
    },
    {
      "cell_type": "markdown",
      "source": [
        "### 4.5.2 L2 규제의 기하학적 해석\n",
        "* L2 규제는 비용 함수에 페널티 항(penalty term)을 추가한다. 규제가 없는 비용 함수로 훈련한 모델에 비해 가중치 값을 아주 작게 만드는 효과를 낸다."
      ],
      "metadata": {
        "id": "0hGs8a4oOXpY"
      }
    },
    {
      "cell_type": "code",
      "source": [
        "# 가중치 평면에 투영된 블록 비용 함수의 등고선\n",
        "# 훈련 데이터에서 비용 함수를 최소화하는 가중치 값의 조합을 찾는 것.\n",
        "Image(url='https://git.io/JtY8I', width=500) "
      ],
      "metadata": {
        "colab": {
          "base_uri": "https://localhost:8080/",
          "height": 402
        },
        "id": "g0CZiQ4vOrPR",
        "outputId": "80c7e598-a23a-4965-cb61-4769ffe9e71b"
      },
      "execution_count": 18,
      "outputs": [
        {
          "output_type": "execute_result",
          "data": {
            "text/html": [
              "<img src=\"https://git.io/JtY8I\" width=\"500\"/>"
            ],
            "text/plain": [
              "<IPython.core.display.Image object>"
            ]
          },
          "metadata": {},
          "execution_count": 18
        }
      ]
    },
    {
      "cell_type": "markdown",
      "source": [
        "규제를 더 작은 가중치를 얻기 위해 비용 함수를 추가하는 페널티 항으로 생각할 수 있다. = 큰 가중치를 제한\n",
        "\n",
        "규제 파라미터로 규제의 강도를 크게 하면 가중치가 0에 가까워지고 훈련 데이터에 대한 모델 의존성은 줄어든다."
      ],
      "metadata": {
        "id": "voL7tGhkOz0n"
      }
    },
    {
      "cell_type": "code",
      "source": [
        "# L2 규제와 비용함수\n",
        "Image(url='https://git.io/JtY8L', width=500) "
      ],
      "metadata": {
        "colab": {
          "base_uri": "https://localhost:8080/",
          "height": 411
        },
        "id": "LOoPqxbdPZCY",
        "outputId": "d0c2381e-ea5b-4ad6-d42b-62c4b03d842f"
      },
      "execution_count": 19,
      "outputs": [
        {
          "output_type": "execute_result",
          "data": {
            "text/html": [
              "<img src=\"https://git.io/JtY8L\" width=\"500\"/>"
            ],
            "text/plain": [
              "<IPython.core.display.Image object>"
            ]
          },
          "metadata": {},
          "execution_count": 19
        }
      ]
    },
    {
      "cell_type": "markdown",
      "source": [
        "2차식인 L2 규제 항은 회색 공으로 표현되어 있다. 가중치 값은 규제 예산을 초과할 수 없다. 즉, 가중치 값의 조합이 회색 공 바깥에 놓일 수 없다. 즉, 비용 함수를 최소화해야 하는데 페널티 제약이 있는 상황에서 최선은 L2 회색 공과 규제가 없는 비용 함수의 등고선이 만나는 지점이다.\n",
        "\n",
        "규제 파라미터가 커질수록 페널티 비용이 빠르게 증가하며 L2 공을 작게 만든다.\n",
        "\n",
        "=> **규제가 없는 비용과 페널티 항의 합을 최소화**"
      ],
      "metadata": {
        "id": "pR9zV9-uPl_X"
      }
    },
    {
      "cell_type": "markdown",
      "source": [
        "### 4.5.3 L1 규제를 사용한 희소성"
      ],
      "metadata": {
        "id": "zdqx9CKTQUia"
      }
    },
    {
      "cell_type": "code",
      "source": [
        "# L1 규제와 비용 함수\n",
        "Image(url='https://git.io/JtY8t', width=500) "
      ],
      "metadata": {
        "colab": {
          "base_uri": "https://localhost:8080/",
          "height": 414
        },
        "id": "xOceHdJOQeHr",
        "outputId": "d9791b22-114a-47b3-9051-307f92d38fdc"
      },
      "execution_count": 20,
      "outputs": [
        {
          "output_type": "execute_result",
          "data": {
            "text/html": [
              "<img src=\"https://git.io/JtY8t\" width=\"500\"/>"
            ],
            "text/plain": [
              "<IPython.core.display.Image object>"
            ]
          },
          "metadata": {},
          "execution_count": 20
        }
      ]
    },
    {
      "cell_type": "markdown",
      "source": [
        "$w_{1}=0$일 때 비용 함수의 등고선이 L1 다이아몬드와 만나느 것을 볼 수 있다. L1 규제의 등고선은 날카롭기 때문에 비용 함수의 포물선과 L1 다이아몬드의 경계가 만나는 최적점은 축에 가깝게 위치할 가능성이 높다. 이것이 희소성을 나타내는 이유이다."
      ],
      "metadata": {
        "id": "GwLRGo2SQikC"
      }
    },
    {
      "cell_type": "code",
      "source": [
        "from sklearn.linear_model import LogisticRegression\n",
        "LogisticRegression(solver='liblinear', penalty='l1')"
      ],
      "metadata": {
        "colab": {
          "base_uri": "https://localhost:8080/"
        },
        "id": "BN-EpS6mQ1Vf",
        "outputId": "5ea31ed3-691b-45b7-a9c5-8d179f46d6f9"
      },
      "execution_count": 21,
      "outputs": [
        {
          "output_type": "execute_result",
          "data": {
            "text/plain": [
              "LogisticRegression(penalty='l1', solver='liblinear')"
            ]
          },
          "metadata": {},
          "execution_count": 21
        }
      ]
    },
    {
      "cell_type": "markdown",
      "source": [
        "'lbfgs'는 L1 규제를 지원하지 않기 때문에 다른 알고리즘을 선택해야 한다(ex, liblinear).\n"
      ],
      "metadata": {
        "id": "_8Xq8h5rRGzH"
      }
    },
    {
      "cell_type": "code",
      "source": [
        "lr = LogisticRegression(solver='liblinear', penalty='l1', C=1.0, random_state=1)\n",
        "# C=1.0 이 기본.\n",
        "# 규제 효과를 높이거나 낮추려면 C 값을 높이거나 낮춰야한다\n",
        "# 규제 강도를 높이면 희소성 더 강하게 할 수 있다 - 0인 원소가 더 많아진다.\n",
        "lr.fit(X_train_std, y_train)\n",
        "print('훈련 정확도:', lr.score(X_train_std, y_train))\n",
        "print('테스트 정확도:', lr.score(X_test_std, y_test))"
      ],
      "metadata": {
        "colab": {
          "base_uri": "https://localhost:8080/"
        },
        "id": "Mvh88qasRQw4",
        "outputId": "178c52f6-8299-4e67-a9dc-aea85b554d7b"
      },
      "execution_count": 22,
      "outputs": [
        {
          "output_type": "stream",
          "name": "stdout",
          "text": [
            "훈련 정확도: 1.0\n",
            "테스트 정확도: 1.0\n"
          ]
        }
      ]
    },
    {
      "cell_type": "code",
      "source": [
        "# 절편 확인\n",
        "lr.intercept_"
      ],
      "metadata": {
        "colab": {
          "base_uri": "https://localhost:8080/"
        },
        "id": "ksHeZVumRlpf",
        "outputId": "61a788a3-97b9-4730-cc2d-36968b5271d3"
      },
      "execution_count": 23,
      "outputs": [
        {
          "output_type": "execute_result",
          "data": {
            "text/plain": [
              "array([-1.26392152, -1.21596534, -2.37040177])"
            ]
          },
          "metadata": {},
          "execution_count": 23
        }
      ]
    },
    {
      "cell_type": "markdown",
      "source": [
        "solver='liblinear'로 초기화한 LogisticRegression 객체를 다중 클래스 데이터셋에 적용하면 OvR(One-versus-Rest) 방식을 사용한다. 따라서 첫 번째 절편은 클래스 1을 클래스2, 3과 구분하는 모델에 속한다. 두 번째는 클래스 2를 클래스 1, 3과 구분하는 모델의 절편에 속한다."
      ],
      "metadata": {
        "id": "7CYcZsqOR1aI"
      }
    },
    {
      "cell_type": "code",
      "source": [
        "lr.coef_"
      ],
      "metadata": {
        "colab": {
          "base_uri": "https://localhost:8080/"
        },
        "id": "VXQtN1ixSH95",
        "outputId": "0846d495-3fda-4c08-e59f-fb2db7cd1d2a"
      },
      "execution_count": 24,
      "outputs": [
        {
          "output_type": "execute_result",
          "data": {
            "text/plain": [
              "array([[ 1.24567209,  0.18072301,  0.74682115, -1.16438451,  0.        ,\n",
              "         0.        ,  1.1595535 ,  0.        ,  0.        ,  0.        ,\n",
              "         0.        ,  0.55864751,  2.50891241],\n",
              "       [-1.53644846, -0.38769843, -0.99485417,  0.36489012, -0.05989298,\n",
              "         0.        ,  0.66853184,  0.        ,  0.        , -1.93460212,\n",
              "         1.23246414,  0.        , -2.23212696],\n",
              "       [ 0.1355558 ,  0.16880291,  0.35718019,  0.        ,  0.        ,\n",
              "         0.        , -2.43768478,  0.        ,  0.        ,  1.5635432 ,\n",
              "        -0.81834553, -0.4930494 ,  0.        ]])"
            ]
          },
          "metadata": {},
          "execution_count": 24
        }
      ]
    },
    {
      "cell_type": "markdown",
      "source": [
        "lr.coef_ 속성에 있는 가중치는 클래스마다 벡터 하나씩 세 개의 행이 있는 가중치 배열이다. 각 행을 13개의 가중치를 가진다. 각 가중치와 13차원의 Wine 데이터셋의 특성을 곱해 최종 입력을 계산한다."
      ],
      "metadata": {
        "id": "aVP6qSIGSKMY"
      }
    },
    {
      "cell_type": "markdown",
      "source": [
        "특성 선택의 도구로 활용되는 L1 규제는 결과적으로 데이터셋에 관련이 적은 특성이 있더라도 견고한 모델을 만들어준다.\n"
      ],
      "metadata": {
        "id": "9wlv9F6ZaBs0"
      }
    },
    {
      "cell_type": "code",
      "source": [
        "import matplotlib.pyplot as plt\n",
        "fig = plt.figure()\n",
        "ax = plt.subplot(111)\n",
        "\n",
        "colors = ['blue', 'green', 'red', 'cyan', \n",
        "          'magenta', 'yellow', 'black', \n",
        "          'pink', 'lightgreen', 'lightblue', \n",
        "          'gray', 'indigo', 'orange']\n",
        "\n",
        "weights, params = [], []\n",
        "for c in np.arange(-4., 6.):\n",
        "    lr = LogisticRegression(solver='liblinear', penalty='l1', C=10.**c, random_state=0)\n",
        "    lr.fit(X_train_std, y_train)\n",
        "    weights.append(lr.coef_[1])\n",
        "    params.append(10**c)\n",
        "\n",
        "weights = np.array(weights)\n",
        "\n",
        "for column, color in zip(range(weights.shape[1]), colors):\n",
        "    plt.plot(params, weights[:, column],\n",
        "             label=df_wine.columns[column+1],\n",
        "             color=color)\n",
        "plt.axhline(0, color='black', linestyle='--', linewidth=3)\n",
        "plt.xlim([10**(-5), 10**5])\n",
        "plt.ylabel('weight coefficient')\n",
        "plt.xlabel('C')\n",
        "plt.xscale('log')\n",
        "plt.legend(loc='upper left')\n",
        "ax.legend(loc='upper center', \n",
        "          bbox_to_anchor=(1.38, 1.03),\n",
        "          ncol=1, fancybox=True)\n",
        "plt.show()"
      ],
      "metadata": {
        "colab": {
          "base_uri": "https://localhost:8080/",
          "height": 285
        },
        "id": "_ygH6eUXbQ3c",
        "outputId": "d5cb260b-9815-47f3-fe68-101b4b5d75c4"
      },
      "execution_count": 25,
      "outputs": [
        {
          "output_type": "display_data",
          "data": {
            "image/png": "[encoded data removed]",
            "text/plain": [
              "<Figure size 432x288 with 1 Axes>"
            ]
          },
          "metadata": {
            "needs_background": "light"
          }
        }
      ]
    },
    {
      "cell_type": "markdown",
      "source": [
        "강한 규제 파라미터(C<0.1)로 모델을 제약하면 모든 가중치가 0이 된다. C는 규제 파라미터의 역수이다."
      ],
      "metadata": {
        "id": "h-fd8-uZcyGF"
      }
    },
    {
      "cell_type": "markdown",
      "source": [
        "### 4.5.4 순차 특성 알고리즘\n",
        "\n",
        "* 차원 숙소 - 모델 복잡도를 줄이고 과적합을 피할 수 있는 또 다른 방법\n",
        "    * 규제가 없는 모델에서 특히 유용.\n",
        "    * 카테고리\n",
        "        * 특성 선택(feature selection)\n",
        "        * 특성 추출(feature extraction)\n",
        "\n",
        "* 특성 선택\n",
        "    * 원본 특성에서 일부 선택.\n",
        "\n",
        "* 특성 추출\n",
        "    * 일련의 특성에서 얻은 정보로 새로운 특성을 만듬.\n",
        "\n",
        "* 순차 특성 선택(sequential feature selection) 알고리즘\n",
        "    * 탐욕적 탐색 알고리즘(greedy search algorithm)으로 초기 d 차원의 특성 공간을 k < d인 k 차원의 특성 부분 공간으로 축소.\n",
        "    * 주어진 문제에 가장 관련이 높은 특성 부분 집합을 자동으로 선택하는 것이 목적.\n",
        "    * 관계없는 특성이나 잡음을 제거하여 계산 효율성을 높이고 모델의 일반화 오차를 줄임\n",
        "    * 규제를 제공하지 않는 알고리즘을 사용할 때 유용\n",
        "\n",
        "* 전통적인 순차 특성 선택 알고리즘 = 순차 후진 선택(Sequential Backward Selection, SBS)\n",
        "    * 새로운 특성의 부분 공간이 목표하는 특성 개수가 될 때까지 전체 특성에서 순차적으로 특성 제거.\n",
        "    * 제거 특성 판단 => 최대화할 기준 함수 정의\n",
        "        * 기준 함수에서 계산한 값은 어떤 특성을 제거하기 전후의 모델 성능 차이\n",
        "        * 성능 손실이 최소가 되는 특성 제거"
      ],
      "metadata": {
        "id": "GGi5JHeYc4yT"
      }
    },
    {
      "cell_type": "code",
      "source": [
        "from sklearn.base import clone\n",
        "from itertools import combinations\n",
        "import numpy as np\n",
        "from sklearn.metrics import accuracy_score # 특성의 부분 집합에 대한 모델(분류를 위한 추정기) 성능을 평가\n",
        "from sklearn.model_selection import train_test_split\n",
        "\n",
        "class SBS():\n",
        "    def __init__(self, estimator, k_features, scoring=accuracy_score, test_size=0.25, random_state=1):\n",
        "        self.scoring = scoring\n",
        "        self.estimator = clone(estimator)\n",
        "        self.k_features = k_features # 목표 특정 개수 지정\n",
        "        self.test_size = test_size\n",
        "        self.random_state = random_state\n",
        "    \n",
        "    def fit(self, X, y):\n",
        "        X_train, X_test, y_train, y_test = train_test_split(X, y, test_size=self.test_size, random_state=self.random_state)\n",
        "        dim = X_train.shape[1]\n",
        "        self.indices_ = tuple(range(dim))\n",
        "        self.subsets_ = [self.indices_]\n",
        "        score = self._calc_score(X_train, y_train, X_test, y_test, self.indices_)\n",
        "        self.scores_ = [score]\n",
        "\n",
        "        while dim > self.k_features:\n",
        "            scores = []\n",
        "            subsets = []\n",
        "\n",
        "            for p in combinations(self.indices_, r=dim-1): # combinations 함수에 의해 생성된 특성 조합을 평가하고 원하는 차원이 남을 때까지 특성을 줄임\n",
        "                score = self._calc_score(X_train, y_train, X_test, y_test, p)\n",
        "                scores.append(score)\n",
        "                subsets.append(p)\n",
        "            \n",
        "            best = np.argmax(scores)\n",
        "            self.indices_ = subsets[best] # 최종 선택된 특성의 열 인덱스\n",
        "            self.subsets_.append(self.indices_)\n",
        "            dim -= 1\n",
        "            # 최적 조합의 정확도 점수를 self.scores_ 리스트에 넣음\n",
        "            self.scores_.append(scores[best])\n",
        "        self.k_scores_ = self.scores_[-1]\n",
        "        return self\n",
        "    \n",
        "    def transform(self, X):\n",
        "        return X[:, self.indices_]\n",
        "    \n",
        "    def _calc_score(self, X_train, y_train, X_test, y_test, indices):\n",
        "        self.estimator.fit(X_train[:, indices], y_train)\n",
        "        y_pred = self.estimator.predict(X_test[:, indices])\n",
        "        score = self.scoring(y_test, y_pred)\n",
        "        return score"
      ],
      "metadata": {
        "id": "jtXFVJhSgDHc"
      },
      "execution_count": 26,
      "outputs": []
    },
    {
      "cell_type": "code",
      "source": [
        "# 사이킷런의 KNN 분류기를 사용하여 SBS 구현이 잘 작동하는지 확인\n",
        "import matplotlib.pyplot as plt\n",
        "from sklearn.neighbors import KNeighborsClassifier\n",
        "\n",
        "knn = KNeighborsClassifier(n_neighbors=5)\n",
        "\n",
        "# 특성 선택\n",
        "sbs = SBS(knn, k_features=1)\n",
        "sbs.fit(X_train_std, y_train)\n",
        "\n",
        "# 선택한 특성의 성능 출력\n",
        "k_feat = [len(k) for k in sbs.subsets_]\n",
        "\n",
        "plt.plot(k_feat, sbs.scores_, marker='o')\n",
        "plt.ylim([0.7, 1.02])\n",
        "plt.ylabel('Accuracy')\n",
        "plt.xlabel('Number of features')\n",
        "plt.grid()\n",
        "plt.tight_layout()\n",
        "plt.show()"
      ],
      "metadata": {
        "colab": {
          "base_uri": "https://localhost:8080/",
          "height": 297
        },
        "id": "iIigErzPnxn2",
        "outputId": "8c708454-c49c-42d2-ef38-713cd611bf65"
      },
      "execution_count": 27,
      "outputs": [
        {
          "output_type": "display_data",
          "data": {
            "image/png": "[encoded data removed]",
            "text/plain": [
              "<Figure size 432x288 with 1 Axes>"
            ]
          },
          "metadata": {
            "needs_background": "light"
          }
        }
      ]
    },
    {
      "cell_type": "markdown",
      "source": [
        "SBS 구현이 fit 메서드 안에서 데이터셋을 훈련 데이터셋과 테스트 데이터셋으로 나누지만 이 알고리즘에 X_train 데이터만 주입한다. SBS의 fit 메서드는 훈련과 테스트(검증)을 위한 새로운 서브셋(subset)을 만든다. 테스트 데이터셋을 검증 데이터셋(validation dataset)이라 부른다.\n",
        "\n",
        "SBS 알고리즘은 각 단계에서 가장 좋은 특성 조합의 점수를 모아두었다. 위 그래프는 검증 데이터셋에서 계산한 KNN 분류기의 정확도를 그린 것이다.\n",
        "\n",
        "특성 개수가 줄었을 때 검증 데이터셋에서 KNN 분류기의 정확도가 향상되었다. 차원의 저주가 감소하기 때문이다. 또 k=[3, 7, 8, 9, 10, 11, 12]에서 분류기가 100% 정확도를 달성한 것을 볼 수 있다."
      ],
      "metadata": {
        "id": "3m9HDtsepU2c"
      }
    },
    {
      "cell_type": "code",
      "source": [
        "# 가장 작은 개수의 조합(k=3)에서 높은 검증 데이터셋 성능을 내는 특성 확인\n",
        "k3 = list(sbs.subsets_[10])\n",
        "print(df_wine.columns[1:][k3])"
      ],
      "metadata": {
        "colab": {
          "base_uri": "https://localhost:8080/"
        },
        "id": "kbpsRLt5qIsl",
        "outputId": "f12bbd2c-833b-4c3c-a998-06dca33268b4"
      },
      "execution_count": 28,
      "outputs": [
        {
          "output_type": "stream",
          "name": "stdout",
          "text": [
            "Index(['Alcohol', 'Malic acid', 'OD280/OD315 of diluted wines'], dtype='object')\n"
          ]
        }
      ]
    },
    {
      "cell_type": "code",
      "source": [
        "# KNN 분류기의 성능 평가\n",
        "knn.fit(X_train_std, y_train)\n",
        "print('훈련 정확도:', knn.score(X_train_std, y_train))\n",
        "print('테스트 정확도:', knn.score(X_test_std, y_test))"
      ],
      "metadata": {
        "colab": {
          "base_uri": "https://localhost:8080/"
        },
        "id": "a42hVVO8qVwl",
        "outputId": "9c59446b-1cce-4e3d-dd69-b4969da09e10"
      },
      "execution_count": 29,
      "outputs": [
        {
          "output_type": "stream",
          "name": "stdout",
          "text": [
            "훈련 정확도: 0.967741935483871\n",
            "테스트 정확도: 0.9629629629629629\n"
          ]
        }
      ]
    },
    {
      "cell_type": "code",
      "source": [
        "# 선택된 세 개의 특성에서의 KNN 성능\n",
        "knn.fit(X_train_std[:, k3], y_train)\n",
        "print('훈련 정확도:', knn.score(X_train_std[:, k3], y_train))\n",
        "print('테스트 정확도:', knn.score(X_test_std[:, k3], y_test))"
      ],
      "metadata": {
        "colab": {
          "base_uri": "https://localhost:8080/"
        },
        "id": "YoTF-WveqgV-",
        "outputId": "cac55b48-d7c2-4ab3-c298-44f631a77136"
      },
      "execution_count": 30,
      "outputs": [
        {
          "output_type": "stream",
          "name": "stdout",
          "text": [
            "훈련 정확도: 0.9516129032258065\n",
            "테스트 정확도: 0.9259259259259259\n"
          ]
        }
      ]
    },
    {
      "cell_type": "markdown",
      "source": [
        "Wine 데이터셋에 있는 원본 특성의 4분의 1보다도 적은 특성을 사용했지만 테스트 데이터셋의 예측 정확도는 조금만 감소했다. 즉, 이 세 개의 특성에 담긴 판별 정보가 원래 데이터셋보다 적지 않다는 뜻이다.\n",
        "\n",
        "특성 개수를 줄여서 KNN 모델의 성능이 증가하지는 않았지만 데이터셋 크기를 줄였다. 데이터 수집 비용이 높은 실전 애플리케이션에서는 유용할 수 있다. 또 특성 개수를 크게 줄였기 때문에 더 간단한 모델을 얻었고 해석도 쉽다."
      ],
      "metadata": {
        "id": "6Vj1MUnyqnke"
      }
    },
    {
      "cell_type": "markdown",
      "source": [
        "### 사이킷런의 순차 특성 선택 알고리즘 - SequentialFeatureSelector 클래스\n",
        "\n",
        "* 사용할 모델 객체를 첫 번째 매개변수로 전달.\n",
        "* 선택할 특성 개수는 n_features_to_select 에서 지정. default=입력 특성의 절반. 0~1 사이 실수를 선택할 특성의 비율 인식\n",
        "* direction 매개변수 : 특성 선택 방향(전진 - forward 또는 후진 - backward) 선택, default=forward\n",
        "* SequentialFeatureSelector는 특성을 선택하기 위해 교차 검증을 사용한다. cv 매개변수에서 교차 검증 횟수 지정. default=5"
      ],
      "metadata": {
        "id": "EnjSHMPVskSX"
      }
    },
    {
      "cell_type": "code",
      "source": [
        "df_wine = pd.read_csv('https://archive.ics.uci.edu/'\n",
        "                      'ml/machine-learning-databases/wine/wine.data',\n",
        "                      header=None)\n",
        "\n",
        "df_wine.columns = ['Class label', 'Alcohol', 'Malic acid', 'Ash',\n",
        "                   'Alcalinity of ash', 'Magnesium', 'Total phenols',\n",
        "                   'Flavanoids', 'Nonflavanoid phenols', 'Proanthocyanins',\n",
        "                   'Color intensity', 'Hue', 'OD280/OD315 of diluted wines',\n",
        "                   'Proline']"
      ],
      "metadata": {
        "id": "bSFIl52hsjtm"
      },
      "execution_count": 31,
      "outputs": []
    },
    {
      "cell_type": "code",
      "source": [
        "from sklearn.model_selection import train_test_split\n",
        "from sklearn.preprocessing import StandardScaler\n",
        "\n",
        "X, y = df_wine.iloc[:, 1:].values, df_wine.iloc[:, 0].values\n",
        "\n",
        "X_train, X_test, y_train, y_test = train_test_split(X, y, test_size=0.3, random_state=0, stratify=y)\n",
        "stdsc = StandardScaler()\n",
        "X_train_std = stdsc.fit_transform(X_train)\n",
        "X_test_std = stdsc.transform(X_test)"
      ],
      "metadata": {
        "id": "B8QZvIWnst_t"
      },
      "execution_count": 32,
      "outputs": []
    },
    {
      "cell_type": "code",
      "source": [
        "from sklearn.feature_selection import SequentialFeatureSelector\n",
        "from sklearn.neighbors import KNeighborsClassifier\n",
        "\n",
        "knn = KNeighborsClassifier(n_neighbors=5)"
      ],
      "metadata": {
        "id": "r9e4-4KprJO-"
      },
      "execution_count": 33,
      "outputs": []
    },
    {
      "cell_type": "markdown",
      "source": [
        "회귀 모델일 경우 `KFold`, 분류 모델일 경우 `StratifiedKFold` 를 사용하여 폴드를 나눈다.\n",
        "\n",
        "이 클래스는 하나의 특성을 선택할 때마다 현재 남은 특성 개수(m)에 대해 교차 검증을 수행하므로 `m * cv`개의 모델을 만든다. 이렇게 단계마다 많은 모델을 만들기 때문에 일반적으로 `RFE`나 `SelectFromModel`보다 느리다. `n_jobs` 매개변수를 1 이상으로 지정하여 여러 코어를 사용하는 것이 좋다."
      ],
      "metadata": {
        "id": "pfmclbzctTWu"
      }
    },
    {
      "cell_type": "code",
      "source": [
        "scores = []\n",
        "for n_features in range(1, 13):\n",
        "    sfs = SequentialFeatureSelector(knn, n_features_to_select=n_features, n_jobs=-1)\n",
        "    sfs.fit(X_train_std, y_train)\n",
        "    f_mask = sfs.support_\n",
        "    knn.fit(X_train_std[:, f_mask], y_train)\n",
        "    scores.append(knn.score(X_train_std[:, f_mask], y_train))"
      ],
      "metadata": {
        "id": "AFwJet8TtO2V"
      },
      "execution_count": 34,
      "outputs": []
    },
    {
      "cell_type": "code",
      "source": [
        "plt.plot(range(1, 13), scores, marker='o')\n",
        "plt.ylim([0.7, 1.02])\n",
        "plt.ylabel('Accuracy')\n",
        "plt.xlabel('Number of features')\n",
        "plt.grid()\n",
        "plt.tight_layout()\n",
        "plt.show()"
      ],
      "metadata": {
        "colab": {
          "base_uri": "https://localhost:8080/",
          "height": 297
        },
        "id": "3d_iDdATt2i-",
        "outputId": "918e6ac3-c0e6-4ed3-b939-0752e660c3bc"
      },
      "execution_count": 35,
      "outputs": [
        {
          "output_type": "display_data",
          "data": {
            "image/png": "[encoded data removed]",
            "text/plain": [
              "<Figure size 432x288 with 1 Axes>"
            ]
          },
          "metadata": {
            "needs_background": "light"
          }
        }
      ]
    },
    {
      "cell_type": "code",
      "source": [
        "sfs = SequentialFeatureSelector(knn, n_features_to_select=7, n_jobs=-1)\n",
        "sfs.fit(X_train_std, y_train)\n",
        "\n",
        "print(sfs.n_features_to_select_)\n",
        "f_mask = sfs.support_\n",
        "df_wine.columns[1:][f_mask]"
      ],
      "metadata": {
        "colab": {
          "base_uri": "https://localhost:8080/"
        },
        "id": "YefhHG6Dt6kW",
        "outputId": "78db19aa-7e78-4ce1-ff0d-cf4b37a6edae"
      },
      "execution_count": 36,
      "outputs": [
        {
          "output_type": "stream",
          "name": "stdout",
          "text": [
            "7\n"
          ]
        },
        {
          "output_type": "execute_result",
          "data": {
            "text/plain": [
              "Index(['Alcohol', 'Ash', 'Magnesium', 'Flavanoids', 'Color intensity', 'Hue',\n",
              "       'Proline'],\n",
              "      dtype='object')"
            ]
          },
          "metadata": {},
          "execution_count": 36
        }
      ]
    },
    {
      "cell_type": "code",
      "source": [
        "knn.fit(X_train_std[:, f_mask], y_train)\n",
        "print('훈련 정확도:', knn.score(X_train_std[:, f_mask], y_train))\n",
        "print('테스트 정확도:', knn.score(X_test_std[:, f_mask], y_test))"
      ],
      "metadata": {
        "colab": {
          "base_uri": "https://localhost:8080/"
        },
        "id": "KEKbJTkCuSlF",
        "outputId": "99937ac7-9e50-4475-ebcb-d2a5306b506e"
      },
      "execution_count": 37,
      "outputs": [
        {
          "output_type": "stream",
          "name": "stdout",
          "text": [
            "훈련 정확도: 0.9838709677419355\n",
            "테스트 정확도: 0.9814814814814815\n"
          ]
        }
      ]
    },
    {
      "cell_type": "markdown",
      "source": [
        "# 4.6 랜덤 포레스트의 특성 중요도 사용\n",
        "* 앙상블 기법\n",
        "* 랜덤 포레스트를 사용하면 앙상블에 참여한 모든 결정 트리에서 계산한 평균적인 불순도 감소로 특성 중요도를 측정할 수 있다.\n",
        "* 데이터셋이 선형적으로 구분 가능한지 여부를 가정할 필요가 없다.\n",
        "* 사이킷런의 랜덤 포레스트 구현은 특성 중요도 값을 이미 수집하고 있다. RandomForestClassifier.feature_importances_\n"
      ],
      "metadata": {
        "id": "FV_IT3Qsuo2W"
      }
    },
    {
      "cell_type": "code",
      "source": [
        "from sklearn.ensemble import RandomForestClassifier\n",
        "\n",
        "feat_labels = df_wine.columns[1:]\n",
        "\n",
        "forest = RandomForestClassifier(n_estimators=500, random_state=1)\n",
        "forest.fit(X_train, y_train)\n",
        "\n",
        "importances = forest.feature_importances_\n",
        "indices = np.argsort(importances)[::-1]\n",
        "\n",
        "for f in range(X_train.shape[1]):\n",
        "    print(\"%2d) %-*s %f\" % (f+1, 30, feat_labels[indices[f]], importances[indices[f]]))\n",
        "\n",
        "plt.title('Feature Importance')\n",
        "plt.bar(range(X_train.shape[1]), importances[indices], align='center')\n",
        "plt.xticks(range(X_train.shape[1]), feat_labels[indices], rotation=90)\n",
        "plt.xlim([-1, X_train.shape[1]])\n",
        "plt.tight_layout()\n",
        "plt.show()"
      ],
      "metadata": {
        "colab": {
          "base_uri": "https://localhost:8080/",
          "height": 533
        },
        "id": "LSJo37l7wVQN",
        "outputId": "0aca0cf9-5b06-4eb4-d854-2d596d38821a"
      },
      "execution_count": 38,
      "outputs": [
        {
          "output_type": "stream",
          "name": "stdout",
          "text": [
            " 1) Proline                        0.185453\n",
            " 2) Flavanoids                     0.174751\n",
            " 3) Color intensity                0.143920\n",
            " 4) OD280/OD315 of diluted wines   0.136162\n",
            " 5) Alcohol                        0.118529\n",
            " 6) Hue                            0.058739\n",
            " 7) Total phenols                  0.050872\n",
            " 8) Magnesium                      0.031357\n",
            " 9) Malic acid                     0.025648\n",
            "10) Proanthocyanins                0.025570\n",
            "11) Alcalinity of ash              0.022366\n",
            "12) Nonflavanoid phenols           0.013354\n",
            "13) Ash                            0.013279\n"
          ]
        },
        {
          "output_type": "display_data",
          "data": {
            "image/png": "[encoded data removed]",
            "text/plain": [
              "<Figure size 432x288 with 1 Axes>"
            ]
          },
          "metadata": {
            "needs_background": "light"
          }
        }
      ]
    },
    {
      "cell_type": "markdown",
      "source": [
        "특성 중요도 합은 1이 되도록 정규화된 값이다."
      ],
      "metadata": {
        "id": "wareExVTyDzu"
      }
    },
    {
      "cell_type": "markdown",
      "source": [
        "* 사이킷런의 SelectFromModel\n",
        "    * 모델 훈련이 끝난 후 사용자가 지정한 임계 값을 기반으로 특성을 선택.\n",
        "    * Pipeline의 중간 단계에서 RandomForestClassifier를 특성 선택기로 사용할 때 유용\n",
        "\n",
        "* Pipeline\n",
        "    * 여러 전처리 단계를 하나의 추정기 인터페이스로 연결."
      ],
      "metadata": {
        "id": "HXSIRH9qyflF"
      }
    },
    {
      "cell_type": "code",
      "source": [
        "# 임계값을 0.1로 하여 가장 중요한 다섯개의 특성으로 데이터셋을 줄인다.\n",
        "from sklearn.feature_selection import SelectFromModel\n",
        "\n",
        "sfm = SelectFromModel(forest, threshold=0.1, prefit=True)\n",
        "X_selected = sfm.transform(X_train)\n",
        "print('이 임계 조건을 만족하는 샘플의 수 :', X_selected.shape[1])"
      ],
      "metadata": {
        "colab": {
          "base_uri": "https://localhost:8080/"
        },
        "id": "Ljgx2VbYy3Be",
        "outputId": "a2177bec-a39e-45e6-de14-d8d173a9fa47"
      },
      "execution_count": 39,
      "outputs": [
        {
          "output_type": "stream",
          "name": "stdout",
          "text": [
            "이 임계 조건을 만족하는 샘플의 수 : 5\n"
          ]
        }
      ]
    },
    {
      "cell_type": "code",
      "source": [
        "# 지정한 특성 선택 임계 조건에 맞는 특성 5개를 출력\n",
        "for f in range(X_selected.shape[1]):\n",
        "    print(\"%2d) %-*s %f\" % (f+1, 30, feat_labels[indices[f]], importances[indices[f]]))"
      ],
      "metadata": {
        "colab": {
          "base_uri": "https://localhost:8080/"
        },
        "id": "xc83tzPxzQ4V",
        "outputId": "cd60ec3f-9771-45f7-f9fe-c8f070914192"
      },
      "execution_count": 40,
      "outputs": [
        {
          "output_type": "stream",
          "name": "stdout",
          "text": [
            " 1) Proline                        0.185453\n",
            " 2) Flavanoids                     0.174751\n",
            " 3) Color intensity                0.143920\n",
            " 4) OD280/OD315 of diluted wines   0.136162\n",
            " 5) Alcohol                        0.118529\n"
          ]
        }
      ]
    },
    {
      "cell_type": "markdown",
      "source": [
        "* RFE\n",
        "    * 재귀적 특성 제거 방법을 사용\n",
        "    * 방식\n",
        "        1. 처음에 모든 특성을 사용하여 모델을 만들고 특성 중요도가 가장 낮은 특성을 제거\n",
        "        2. 그 다음 제거된 특성을 빼고 나머지 특성으로 새로운 모델을 만든다.\n",
        "        3. 미리 정의한 특성 개수가 남을 때까지 2를 반복\n",
        "    * 매개변수\n",
        "        * n_features_to_select : 선택할 특성의 개수, [0, 1] 범위의 실수를 지정. 선택할 특성의 비율을 지정할 수 있다. 기본값은 입력 특성 개수의 절반.\n",
        "        * step : 각 반복에서 제거할 특성의 개수 지정, (0, 1) 사이의 값을 지정하면 삭제할 특성의 비율.  기본값은 1.\n",
        "    * 기본적으로 기반 모델의 `coef_`나 `feature_importances_` 속성을 기준으로 특성을 제거. "
      ],
      "metadata": {
        "id": "75wD1jaDz26u"
      }
    },
    {
      "cell_type": "code",
      "source": [
        "from sklearn.feature_selection import RFE\n",
        "\n",
        "rfe = RFE(forest, n_features_to_select=5)\n",
        "rfe.fit(X_train, y_train)"
      ],
      "metadata": {
        "colab": {
          "base_uri": "https://localhost:8080/"
        },
        "id": "dwiY5DOR01pt",
        "outputId": "2d9017cb-905f-4e58-c978-12ee558e3f66"
      },
      "execution_count": 41,
      "outputs": [
        {
          "output_type": "execute_result",
          "data": {
            "text/plain": [
              "RFE(estimator=RandomForestClassifier(n_estimators=500, random_state=1),\n",
              "    n_features_to_select=5)"
            ]
          },
          "metadata": {},
          "execution_count": 41
        }
      ]
    },
    {
      "cell_type": "markdown",
      "source": [
        "`ranking_` 속성에는 선택한 특성의 우선순위가 들어있다. 1은 기반 모델이 선택한 5개 특성이다."
      ],
      "metadata": {
        "id": "BfoxG1SL0_5t"
      }
    },
    {
      "cell_type": "code",
      "source": [
        "rfe.ranking_"
      ],
      "metadata": {
        "colab": {
          "base_uri": "https://localhost:8080/"
        },
        "id": "SGitb7Oc1GZ1",
        "outputId": "c13fc033-6718-4ddf-a695-e5a20eb6f7bb"
      },
      "execution_count": 42,
      "outputs": [
        {
          "output_type": "execute_result",
          "data": {
            "text/plain": [
              "array([1, 5, 9, 6, 4, 3, 1, 8, 7, 1, 2, 1, 1])"
            ]
          },
          "metadata": {},
          "execution_count": 42
        }
      ]
    },
    {
      "cell_type": "markdown",
      "source": [
        "선택한 특성은 support_ 속성에 True로 표시된다. 이 값을 f_mask로 저장하여 특성의 이름을 표시하는 데 사용."
      ],
      "metadata": {
        "id": "tVoBB1fV1JGG"
      }
    },
    {
      "cell_type": "code",
      "source": [
        "f_mask = rfe.support_"
      ],
      "metadata": {
        "id": "2KHYQ8rV1RL-"
      },
      "execution_count": 43,
      "outputs": []
    },
    {
      "cell_type": "markdown",
      "source": [
        "훈련된 기반 모델(랜덤 포레스트)은 estimator_ 속성에 저장되어 있다. 이 모델은 n_features_to_select개의 특성을 사용하여 훈련되어 있다. 이 모델의 특성 중요도를 저장하여 중요도 순서대로 출력."
      ],
      "metadata": {
        "id": "Ox-q-1xQ1dJ8"
      }
    },
    {
      "cell_type": "code",
      "source": [
        "importances = rfe.estimator_.feature_importances_\n",
        "indices = np.argsort(importances)[::-1]\n",
        "for i in indices:\n",
        "    print(\"%2d) %-*s %f\" % (f+1, 30, feat_labels[f_mask][i], importances[i]))"
      ],
      "metadata": {
        "colab": {
          "base_uri": "https://localhost:8080/"
        },
        "id": "P56iKbqK1q-Y",
        "outputId": "7ba01116-30c9-4d53-fc58-a8b3bd2d1916"
      },
      "execution_count": 44,
      "outputs": [
        {
          "output_type": "stream",
          "name": "stdout",
          "text": [
            " 5) Proline                        0.261512\n",
            " 5) Color intensity                0.216477\n",
            " 5) Flavanoids                     0.212259\n",
            " 5) OD280/OD315 of diluted wines   0.188924\n",
            " 5) Alcohol                        0.120828\n"
          ]
        }
      ]
    }
  ]
}
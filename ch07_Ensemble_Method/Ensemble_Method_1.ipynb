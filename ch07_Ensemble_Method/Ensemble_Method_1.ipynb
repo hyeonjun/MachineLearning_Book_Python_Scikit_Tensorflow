{
  "nbformat": 4,
  "nbformat_minor": 0,
  "metadata": {
    "colab": {
      "name": "ch07_Ensemble_Method_1.ipynb",
      "provenance": [],
      "authorship_tag": "ABX9TyPb+CjP25JyuMs6C396QocC"
    },
    "kernelspec": {
      "name": "python3",
      "display_name": "Python 3"
    },
    "language_info": {
      "name": "python"
    }
  },
  "cells": [
    {
      "cell_type": "code",
      "source": [
        "from IPython.display import Image"
      ],
      "metadata": {
        "id": "AWB5wL99L_hy"
      },
      "execution_count": 1,
      "outputs": []
    },
    {
      "cell_type": "markdown",
      "source": [
        "# 7. 다양한 모델을 결합한 앙상블 학습\n",
        "\n",
        "# 7.1 앙상블 학습\n",
        "* 여러 분류기를 하나의 메타 분류기로 연결하여 개별 분류기보다 더 좋은 일반화 성능을 달성하는 것.\n"
      ],
      "metadata": {
        "id": "xKvFly4HLJgK"
      }
    },
    {
      "cell_type": "code",
      "execution_count": 2,
      "metadata": {
        "colab": {
          "base_uri": "https://localhost:8080/",
          "height": 201
        },
        "id": "iFC5JpnaJ6Dw",
        "outputId": "d159e424-1234-410c-ab5b-a9606064f415"
      },
      "outputs": [
        {
          "output_type": "execute_result",
          "data": {
            "text/html": [
              "<img src=\"https://git.io/JtskW\" width=\"500\"/>"
            ],
            "text/plain": [
              "<IPython.core.display.Image object>"
            ]
          },
          "metadata": {},
          "execution_count": 2
        }
      ],
      "source": [
        "# 앙상블 학습 - 과반수 투표\n",
        "Image(url='https://git.io/JtskW', width=500) "
      ]
    },
    {
      "cell_type": "code",
      "source": [
        "Image(url='https://git.io/Jtskl', width=500) "
      ],
      "metadata": {
        "colab": {
          "base_uri": "https://localhost:8080/",
          "height": 443
        },
        "id": "Hjg_g5tAMapI",
        "outputId": "e28571fe-5ea5-4691-dc03-c277754c2597"
      },
      "execution_count": 3,
      "outputs": [
        {
          "output_type": "execute_result",
          "data": {
            "text/html": [
              "<img src=\"https://git.io/Jtskl\" width=\"500\"/>"
            ],
            "text/plain": [
              "<IPython.core.display.Image object>"
            ]
          },
          "metadata": {},
          "execution_count": 3
        }
      ]
    },
    {
      "cell_type": "markdown",
      "source": [
        "과반수 투표나 다수결 투표로 클래스 레이블을 예측하려면 개별 분류기 $C_j$의 예측 레이블을 모아 가장 많은 표를 받은 레이블 $\\hat{y}$를 선택한다.\n",
        "\n",
        "* 앙상블 오차 확률 = 이항 분포의 확률 질량 함수\n",
        "\n",
        "    $P(y \\ge k) = \\sum_k^n{n \\choose k}\\epsilon^k(1-\\epsilon)^{n-k}$\n",
        "\n",
        "${n \\choose k}$는 이항 계수로 n개의 원소에서 k개를 뽑는 조합의 가짓수."
      ],
      "metadata": {
        "id": "cCAMZEK-Madb"
      }
    },
    {
      "cell_type": "code",
      "source": [
        "# 확률 질량 함수 구현\n",
        "from scipy.special import comb\n",
        "import math\n",
        "\n",
        "def ensemble_error(n_classifier, error):\n",
        "    k_start = int(math.ceil(n_classifier / 2.))\n",
        "    probs = [comb(n_classifier, k) * error ** k * (1-error) ** (n_classifier-k) for k in range(k_start, n_classifier+1)]\n",
        "    return sum(probs)\n",
        "\n",
        "ensemble_error(n_classifier=11, error=0.25) # 에러율 0.25인 분류기 11개로 구성된 앙상블의 에러율"
      ],
      "metadata": {
        "colab": {
          "base_uri": "https://localhost:8080/"
        },
        "id": "jmeho9wENhQ5",
        "outputId": "80a943c8-2940-4352-9694-ab837d3320e4"
      },
      "execution_count": 4,
      "outputs": [
        {
          "output_type": "execute_result",
          "data": {
            "text/plain": [
              "0.03432750701904297"
            ]
          },
          "metadata": {},
          "execution_count": 4
        }
      ]
    },
    {
      "cell_type": "markdown",
      "source": [
        "scipy의 `binom.cdf()`를 사용하여 계산할 수도 있습니다. 성공 확률이 75%인 이항 분포에서 11번의 시도 중에 5개 이하로 성공할 누적 확률은 다음과 같이 계산합니다."
      ],
      "metadata": {
        "id": "7bOrenUjOV33"
      }
    },
    {
      "cell_type": "code",
      "source": [
        "from scipy.stats import binom\n",
        "\n",
        "binom.cdf(5, 11, 0.75)"
      ],
      "metadata": {
        "colab": {
          "base_uri": "https://localhost:8080/"
        },
        "id": "ICl1XwAHOWOY",
        "outputId": "0c2fbbf9-99c4-4134-9edc-e1cd22e5f133"
      },
      "execution_count": 5,
      "outputs": [
        {
          "output_type": "execute_result",
          "data": {
            "text/plain": [
              "0.03432750701904298"
            ]
          },
          "metadata": {},
          "execution_count": 5
        }
      ]
    },
    {
      "cell_type": "code",
      "source": [
        "# 분류기 에러가 0.0에서 1.0까지 걸쳐있을 때 앙상블 에러율\n",
        "import numpy as np\n",
        "import matplotlib.pyplot as plt\n",
        "\n",
        "error_range = np.arange(0.0, 1.0, 0.01)\n",
        "ens_errors = [ensemble_error(n_classifier=11, error=error) for error in error_range]\n",
        "\n",
        "# 앙상블과 개별 분류기 에러 사이의 관계를 선 그래프로 시각화\n",
        "plt.plot(error_range, ens_errors, label='Ensemble error', linewidth=2)\n",
        "plt.plot(error_range, error_range, linestyle='--', label='Base error', linewidth=2)\n",
        "\n",
        "plt.xlabel('Base error')\n",
        "plt.ylabel('Base/Ensemble error')\n",
        "plt.legend(loc='upper left')\n",
        "plt.grid(alpha=0.5)\n",
        "plt.show()"
      ],
      "metadata": {
        "colab": {
          "base_uri": "https://localhost:8080/",
          "height": 279
        },
        "id": "sf6wW5jcOGiA",
        "outputId": "606504c4-7492-4145-c28b-5d35afa28b1f"
      },
      "execution_count": 6,
      "outputs": [
        {
          "output_type": "display_data",
          "data": {
            "image/png": "[encoded data removed]",
            "text/plain": [
              "<Figure size 432x288 with 1 Axes>"
            ]
          },
          "metadata": {
            "needs_background": "light"
          }
        }
      ]
    },
    {
      "cell_type": "markdown",
      "source": [
        "개별 분류기가 무작위 추축(에러율 < 0.5)보다 성능이 좋을 때 앙상블의 에러 확률이 개별 분류기보다 좋다."
      ],
      "metadata": {
        "id": "N2y2vMRMPF3g"
      }
    },
    {
      "cell_type": "markdown",
      "source": [
        "# 7.2 다수결 투표를 사용한 분류 앙상블\n",
        "\n",
        "### 7.2.1 간단한 다수결 투표 분류기 구현\n"
      ],
      "metadata": {
        "id": "zRjCKApsPVjn"
      }
    },
    {
      "cell_type": "code",
      "source": [
        "np.bincount([0, 0, 1], weights=[0.2, 0.2, 0.6])"
      ],
      "metadata": {
        "colab": {
          "base_uri": "https://localhost:8080/"
        },
        "id": "c_gEp6koQfjH",
        "outputId": "03b54154-b9da-4d78-fef3-6cd07f84efcb"
      },
      "execution_count": 7,
      "outputs": [
        {
          "output_type": "execute_result",
          "data": {
            "text/plain": [
              "array([0.4, 0.6])"
            ]
          },
          "metadata": {},
          "execution_count": 7
        }
      ]
    },
    {
      "cell_type": "code",
      "source": [
        "# argmax와 bincount 함수를 사용하여 가중치가 적용된 다수결 투표 구현\n",
        "count = np.bincount([0, 0, 1], weights=[0.2, 0.2, 0.6])\n",
        "print(count)\n",
        "np.argmax(bin)"
      ],
      "metadata": {
        "colab": {
          "base_uri": "https://localhost:8080/"
        },
        "id": "3Aw8RtwKQVpA",
        "outputId": "4a55414d-b41f-4198-80ab-22d4dadcd5f5"
      },
      "execution_count": 8,
      "outputs": [
        {
          "output_type": "stream",
          "name": "stdout",
          "text": [
            "[0.4 0.6]\n"
          ]
        },
        {
          "output_type": "execute_result",
          "data": {
            "text/plain": [
              "0"
            ]
          },
          "metadata": {},
          "execution_count": 8
        }
      ]
    },
    {
      "cell_type": "code",
      "source": [
        "# average와 argmax 함수를 사용하여 클래스 확률 기반으로 가중치가 적용된 다수결 투표 구현\n",
        "ex = np.array([[0.9, 0.1],\n",
        "               [0.8, 0.2],\n",
        "               [0.4, 0.6]])\n",
        "\n",
        "p = np.average(ex, axis=0, weights=[0.2, 0.2, 0.6])\n",
        "p"
      ],
      "metadata": {
        "colab": {
          "base_uri": "https://localhost:8080/"
        },
        "id": "5gcW0xctQyhv",
        "outputId": "f8b3c598-af73-4d7b-be42-2c03f7ac08e4"
      },
      "execution_count": 9,
      "outputs": [
        {
          "output_type": "execute_result",
          "data": {
            "text/plain": [
              "array([0.58, 0.42])"
            ]
          },
          "metadata": {},
          "execution_count": 9
        }
      ]
    },
    {
      "cell_type": "code",
      "source": [
        "np.argmax(p)"
      ],
      "metadata": {
        "colab": {
          "base_uri": "https://localhost:8080/"
        },
        "id": "plR5Zh05RCI-",
        "outputId": "60fbd397-5720-46d9-8f6c-a4881cd49c0d"
      },
      "execution_count": 10,
      "outputs": [
        {
          "output_type": "execute_result",
          "data": {
            "text/plain": [
              "0"
            ]
          },
          "metadata": {},
          "execution_count": 10
        }
      ]
    },
    {
      "cell_type": "code",
      "source": [
        "# 다수결 투표 앙상블 분류기\n",
        "from sklearn.base import BaseEstimator\n",
        "from sklearn.base import ClassifierMixin\n",
        "from sklearn.preprocessing import LabelEncoder\n",
        "from sklearn.base import clone\n",
        "from sklearn.pipeline import _name_estimators\n",
        "import numpy as np\n",
        "import operator\n",
        "\n",
        "class MajorityVoteClassifier(BaseEstimator, ClassifierMixin):\n",
        "    \"\"\"\n",
        "    매개변수\n",
        "    - classifiers : list, 크기 = [n_classifiers], 앙상블에 사용할 분류기\n",
        "    - vote : str, {'classlabel', 'probability'}, default='classlabel'\n",
        "        'classlabel' 이면 예측은 다수인 클래스 레이블의 인덱스\n",
        "        'probability' 이면 확률이 가장 큰 인덱스로 클래스 레이블 예측. - 보정된 분류기에 추천\n",
        "    - weights : list, 크기 = [n_classifiers], 선택 사항\n",
        "        default=None\n",
        "        'int' 또는 'float' 값의 리스트가 주어지면 분류기가 이 중요도로 가중치된다.\n",
        "        'weights=None'이면 동일하게 취급합니다\n",
        "    \"\"\"\n",
        "    def __init__(self, classifiers, vote='classlabel', weights=None):\n",
        "        self.classifiers = classifiers\n",
        "        self.named_classifiers = {key: value for key, value\n",
        "                                  in _name_estimators(classifiers)}\n",
        "        self.vote = vote\n",
        "        self.weights = weights\n",
        "    \n",
        "    def fit(self, X, y): # 분류기 학습\n",
        "        if self.vote not in ('probability', 'classlabel'):\n",
        "            raise ValueError(\"vote는 'probability' 또는 'classlabel'이어야 합니다\"\n",
        "                             \"; (vote=%r)이 입력되었습니다.\"\n",
        "                             % self.vote)\n",
        "\n",
        "        if self.weights and len(self.weights) != len(self.classifiers):\n",
        "            raise ValueError('분류기와 가중치 개수는 같아야 합니다'\n",
        "                             '; 가중치 %d 개, 분류기 %d 개'\n",
        "                             % (len(self.weights), len(self.classifiers)))\n",
        "        \n",
        "        # self.predict 메서드에서 np.argmax를 호출할 때\n",
        "        # 클래스 레이블이 0부터 시작되야 하므로 LabelEncoder 사용\n",
        "        self.lablenc_ = LabelEncoder()\n",
        "        self.lablenc_.fit(y)\n",
        "        self.classes_ = self.lablenc_.classes_\n",
        "        self.classifiers_ = []\n",
        "        for clf in self.classifiers:\n",
        "            fitted_clf = clone(clf).fit(X, self.lablenc_.transform(y))\n",
        "            self.classifiers_.append(fitted_clf)\n",
        "        return self\n",
        "    \n",
        "    def predict(self, X):\n",
        "        if self.vote == 'probability':\n",
        "            maj_vote = np.argmax(self.predict_proba(X), axis=1)\n",
        "        else: # 'classlabel' 투표\n",
        "            # clf.predict 메서드를 사용하여 결과를 모은다\n",
        "            predictions = np.asarray([clf.predict(X) for clf in self.classifiers_]).T\n",
        "            maj_vote = np.apply_along_axis(lambda x: np.argmax(np.bincount(x, weights=self.weights)), axis=1, arr=predictions)\n",
        "        \n",
        "        maj_vote = self.lablenc_.inverse_transform(maj_vote)\n",
        "        return maj_vote\n",
        "    \n",
        "    def predict_proba(self, X):\n",
        "        \"\"\"\n",
        "        X에 대한 클래스 확률을 예측\n",
        "\n",
        "        매개변수\n",
        "        - X : {배열 타입, 회소 행렬}, 크기 = [n_samples, n_features]\n",
        "              n_samples는 샘플의 개수, n_features는 특성의 개수인 샘플 데이터 행렬\n",
        "\n",
        "        반환값\n",
        "        - avg_proba : 배열 타입, 크기 = [n_samples, n_classes]\n",
        "                      샘플마다 가중치가 적용된 클래스의 평균 확률\n",
        "        \"\"\"\n",
        "        probas = np.asarray([clf.predict_proba(X) for clf in self.classifiers_])\n",
        "        avg_proba = np.average(probas, axis=0, weights=self.weights)\n",
        "        return avg_proba\n",
        "    \n",
        "    def get_params(self, deep=True):\n",
        "        # GridSearch를 위해 분류기의 매개변수 이름을 반환\n",
        "        if not deep:\n",
        "            return super(MajorityVoteClassifier, self).get_params(deep=False)\n",
        "        else:\n",
        "            out = self.named_classifiers.copy()\n",
        "            for name, step in self.named_classifiers.items():\n",
        "                for key, value in step.get_params(deep=True).items():\n",
        "                    out['%s__%s' % (name, key)] = value\n",
        "            return out\n"
      ],
      "metadata": {
        "id": "1Hqsr5zgRE2G"
      },
      "execution_count": 11,
      "outputs": []
    },
    {
      "cell_type": "markdown",
      "source": [
        "### 7.2.2 다수결 투표 방식을 사용하여 예측 만들기\n"
      ],
      "metadata": {
        "id": "avgfXmnJV102"
      }
    },
    {
      "cell_type": "code",
      "source": [
        "from sklearn import datasets\n",
        "from sklearn.model_selection import train_test_split\n",
        "from sklearn.preprocessing import StandardScaler\n",
        "\n",
        "iris = datasets.load_iris()\n",
        "X, y = iris.data[50:, [1, 2]], iris.target[50:]\n",
        "le = LabelEncoder()\n",
        "y = le.fit_transform(y)\n",
        "\n",
        "X_train, X_test, y_train, y_test = train_test_split(X, y, test_size=0.5, random_state=1, stratify=y)"
      ],
      "metadata": {
        "id": "Yn65WFpRWUQ1"
      },
      "execution_count": 12,
      "outputs": []
    },
    {
      "cell_type": "markdown",
      "source": [
        "* 분류기\n",
        "    * 로지스틱 회귀 분류기\n",
        "    * 결정 트리 분류기\n",
        "    * k-최근접 이웃 분류기"
      ],
      "metadata": {
        "id": "kg74-9n0W2IN"
      }
    },
    {
      "cell_type": "code",
      "source": [
        "# 10-겹 교차 검증으로 성능 평가\n",
        "from sklearn.model_selection import cross_val_score\n",
        "from sklearn.linear_model import LogisticRegression\n",
        "from sklearn.tree import DecisionTreeClassifier\n",
        "from sklearn.neighbors import KNeighborsClassifier\n",
        "from sklearn.pipeline import Pipeline\n",
        "import numpy as np\n",
        "\n",
        "clf1 = LogisticRegression(penalty='l2', C=0.001, random_state=1)\n",
        "clf2 = DecisionTreeClassifier(max_depth=1, criterion='entropy', random_state=0)\n",
        "clf3 = KNeighborsClassifier(n_neighbors=1, p=2, metric='minkowski')\n",
        "\n",
        "pipe1 = Pipeline([['sc', StandardScaler()], ['clf', clf1]])\n",
        "pipe3 = Pipeline([['sc', StandardScaler()], ['clf', clf3]])\n",
        "\n",
        "clf_labels = ['Logistic regression', 'Decision tree', 'KNN']\n",
        "\n",
        "print('[10-겹 교차 검증]')\n",
        "for clf, label in zip([pipe1, clf2, pipe3], clf_labels):\n",
        "    scores = cross_val_score(estimator=clf,\n",
        "                             X=X_train,\n",
        "                             y=y_train,\n",
        "                             cv=10,\n",
        "                             scoring='roc_auc')\n",
        "    print('ROC AUC: %0.2f (+/- %0.2f) [%s]' % (scores.mean(), scores.std(), label))"
      ],
      "metadata": {
        "colab": {
          "base_uri": "https://localhost:8080/"
        },
        "id": "h-yAbd8VW9AF",
        "outputId": "31918f5d-1886-46a8-c937-86fc378126d0"
      },
      "execution_count": 13,
      "outputs": [
        {
          "output_type": "stream",
          "name": "stdout",
          "text": [
            "[10-겹 교차 검증]\n",
            "ROC AUC: 0.92 (+/- 0.15) [Logistic regression]\n",
            "ROC AUC: 0.87 (+/- 0.18) [Decision tree]\n",
            "ROC AUC: 0.85 (+/- 0.13) [KNN]\n"
          ]
        }
      ]
    },
    {
      "cell_type": "markdown",
      "source": [
        "* 로지스틱 회귀와 k-최근접 이웃 분류기를 파이프라인으로 훈련시킨 이유\n",
        "    * 로지스틱 회귀와 k-최근접 이웃 분류기는 결정 트리와 달리 **스케일에 민감**\n",
        "    * 스케일에 민감하기 때문에 특성을 **표준화 전처리**를 해주어야 한다."
      ],
      "metadata": {
        "id": "q6yIy7m0YfnQ"
      }
    },
    {
      "cell_type": "code",
      "source": [
        "# 다수결 투표\n",
        "\n",
        "mv_clf = MajorityVoteClassifier(classifiers=[pipe1, clf2, pipe3])\n",
        "\n",
        "clf_labels += ['Major voting']\n",
        "all_clf = [pipe1, clf2, pipe3, mv_clf]\n",
        "\n",
        "for clf, label in zip(all_clf, clf_labels):\n",
        "    scores = cross_val_score(estimator=clf,\n",
        "                             X=X_train,\n",
        "                             y=y_train,\n",
        "                             cv=10,\n",
        "                             scoring='roc_auc')\n",
        "    print('ROC AUC: %0.2f (+/- %0.2f) [%s]' % (scores.mean(), scores.std(), label))"
      ],
      "metadata": {
        "colab": {
          "base_uri": "https://localhost:8080/"
        },
        "id": "JHLg2eXtY5km",
        "outputId": "80a04091-214a-4f9f-eedf-29537881831a"
      },
      "execution_count": 14,
      "outputs": [
        {
          "output_type": "stream",
          "name": "stdout",
          "text": [
            "ROC AUC: 0.92 (+/- 0.15) [Logistic regression]\n",
            "ROC AUC: 0.87 (+/- 0.18) [Decision tree]\n",
            "ROC AUC: 0.85 (+/- 0.13) [KNN]\n",
            "ROC AUC: 0.98 (+/- 0.05) [Major voting]\n"
          ]
        }
      ]
    },
    {
      "cell_type": "markdown",
      "source": [
        "* 사이킷런의 `VotingClassifier` 클래스\n",
        "    * estimators : 분류기 이름과 객체로 구성된 튜플의 리스트를 입력\n",
        "    * voting\n",
        "        * 'hard' : predict_proba 메서드 지원 X\n",
        "        * 'soft' : ROC AUC를 계산하기 위한 predict_proba 메서드를 지원\n",
        "    * verbose : True 지정 시, 진행 과정 출력."
      ],
      "metadata": {
        "id": "VkxV9-2waE8A"
      }
    },
    {
      "cell_type": "code",
      "source": [
        "from sklearn.model_selection import cross_validate\n",
        "from sklearn.ensemble import VotingClassifier\n",
        "\n",
        "vc = VotingClassifier(estimators=[\n",
        "                        ('lr', pipe1), ('dt', clf2), ('knn', pipe3)], voting='soft')\n",
        "\n",
        "scores = cross_validate(estimator=vc, X=X_train, y=y_train, cv=10, scoring='roc_auc')\n",
        "print(\"ROC AUC: : %0.2f (+/- %0.2f) [%s]\"\n",
        "      % (scores['test_score'].mean(), \n",
        "         scores['test_score'].std(), 'VotingClassifier'))"
      ],
      "metadata": {
        "colab": {
          "base_uri": "https://localhost:8080/"
        },
        "id": "RrXcrqaXapGV",
        "outputId": "c6d26fe8-0176-475f-92c6-c5c938d13cf8"
      },
      "execution_count": 15,
      "outputs": [
        {
          "output_type": "stream",
          "name": "stdout",
          "text": [
            "ROC AUC: : 0.98 (+/- 0.05) [VotingClassifier]\n"
          ]
        }
      ]
    },
    {
      "cell_type": "code",
      "source": [
        "vc.set_params(verbose=True)\n",
        "\n",
        "vc = vc.fit(X_train, y_train)"
      ],
      "metadata": {
        "colab": {
          "base_uri": "https://localhost:8080/"
        },
        "id": "nkFKZLuwbect",
        "outputId": "20002fe7-5f3b-4cf5-e3fd-3280e4c26932"
      },
      "execution_count": 16,
      "outputs": [
        {
          "output_type": "stream",
          "name": "stdout",
          "text": [
            "[Voting] ....................... (1 of 3) Processing lr, total=   0.0s\n",
            "[Voting] ....................... (2 of 3) Processing dt, total=   0.0s\n",
            "[Voting] ...................... (3 of 3) Processing knn, total=   0.0s\n"
          ]
        }
      ]
    },
    {
      "cell_type": "markdown",
      "source": [
        "voting='soft' 일 때 predict 메서드는 predict_proba 메서드에서 얻은 가장 큰 확률의 클래스를 예측으로 한다. predict_proba 메서드는 각 분류기의 클래스 확률을 평균하여 반환한다."
      ],
      "metadata": {
        "id": "vKODCowMbnU2"
      }
    },
    {
      "cell_type": "code",
      "source": [
        "vc.predict_proba(X_test[:10])"
      ],
      "metadata": {
        "colab": {
          "base_uri": "https://localhost:8080/"
        },
        "id": "8dFl6rYfbyhM",
        "outputId": "970ad440-8889-48c5-c0c2-4fba0475ea90"
      },
      "execution_count": 17,
      "outputs": [
        {
          "output_type": "execute_result",
          "data": {
            "text/plain": [
              "array([[0.80858947, 0.19141053],\n",
              "       [0.80798659, 0.19201341],\n",
              "       [0.80742142, 0.19257858],\n",
              "       [0.81176637, 0.18823363],\n",
              "       [0.81195778, 0.18804222],\n",
              "       [0.17701319, 0.82298681],\n",
              "       [0.17670572, 0.82329428],\n",
              "       [0.17845724, 0.82154276],\n",
              "       [0.1796252 , 0.8203748 ],\n",
              "       [0.81076201, 0.18923799]])"
            ]
          },
          "metadata": {},
          "execution_count": 17
        }
      ]
    },
    {
      "cell_type": "markdown",
      "source": [
        "### 7.2.3 앙상블 분류기의 평과와 튜닝\n",
        "\n",
        "* MajorityVoteClassifier의 일반화 성능을 확인하기 위해 테스트 데이터셋에 대한 ROC 곡선 시각화"
      ],
      "metadata": {
        "id": "SgUfVdetb4yE"
      }
    },
    {
      "cell_type": "code",
      "source": [
        "from sklearn.metrics import roc_curve\n",
        "from sklearn.metrics import auc\n",
        "\n",
        "colors = ['black', 'orange', 'blue', 'green']\n",
        "linestyles = [':', '--', '-.', '-']\n",
        "\n",
        "for clf, label, clr, ls in zip(all_clf, clf_labels, colors, linestyles):\n",
        "    # 양상 클래스의 레이블이 1이라고 가정.\n",
        "    y_pred = clf.fit(X_train, y_train).predict_proba(X_test)[:, 1]\n",
        "    fpr, tpr, thresholds = roc_curve(y_true=y_test, y_score=y_pred)\n",
        "    roc_auc = auc(fpr, tpr)\n",
        "    plt.plot(fpr, tpr, color=clr, linestyle=ls, label='%s (auc = %0.2f)' % (label, roc_auc))\n",
        "\n",
        "plt.legend(loc='lower right')\n",
        "plt.plot([0, 1], [0, 1], linestyle='--',\n",
        "         color='gray', linewidth=2)\n",
        "\n",
        "plt.xlim([-0.1, 1.1])\n",
        "plt.ylim([-0.1, 1.1])\n",
        "plt.grid(alpha=0.5)\n",
        "plt.xlabel('False positive rate (FPR)')\n",
        "plt.ylabel('True positive rate (TPR)')\n",
        "plt.show()"
      ],
      "metadata": {
        "colab": {
          "base_uri": "https://localhost:8080/",
          "height": 279
        },
        "id": "ZjvJqkDscaIm",
        "outputId": "8d2aaa0e-c64b-4a2e-b056-bda766500d3b"
      },
      "execution_count": 18,
      "outputs": [
        {
          "output_type": "display_data",
          "data": {
            "image/png": "[encoded data removed]",
            "text/plain": [
              "<Figure size 432x288 with 1 Axes>"
            ]
          },
          "metadata": {
            "needs_background": "light"
          }
        }
      ]
    },
    {
      "cell_type": "code",
      "source": [
        "from itertools import product\n",
        "\n",
        "sc = StandardScaler()\n",
        "X_train_std = sc.fit_transform(X_train)\n",
        "\n",
        "all_clf = [pipe1, clf2, pipe3, mv_clf]\n",
        "\n",
        "x_min = X_train_std[:, 0].min() - 1\n",
        "x_max = X_train_std[:, 0].max() + 1\n",
        "y_min = X_train_std[:, 1].min() - 1\n",
        "y_max = X_train_std[:, 1].max() + 1\n",
        "\n",
        "xx, yy = np.meshgrid(np.arange(x_min, x_max, 0.1),\n",
        "                     np.arange(y_min, y_max, 0.1))\n",
        "\n",
        "f, axarr = plt.subplots(nrows=2, ncols=2, sharex='col', sharey='row', figsize=(7, 5))\n",
        "\n",
        "\n",
        "for idx, clf, tt in zip(product([0, 1], [0, 1]),\n",
        "                        all_clf, clf_labels):\n",
        "    clf.fit(X_train_std, y_train)\n",
        "    \n",
        "    Z = clf.predict(np.c_[xx.ravel(), yy.ravel()])\n",
        "    Z = Z.reshape(xx.shape)\n",
        "\n",
        "    axarr[idx[0], idx[1]].contourf(xx, yy, Z, alpha=0.3)\n",
        "    \n",
        "    axarr[idx[0], idx[1]].scatter(X_train_std[y_train==0, 0], \n",
        "                                  X_train_std[y_train==0, 1], \n",
        "                                  c='blue', \n",
        "                                  marker='^',\n",
        "                                  s=50)\n",
        "    \n",
        "    axarr[idx[0], idx[1]].scatter(X_train_std[y_train==1, 0], \n",
        "                                  X_train_std[y_train==1, 1], \n",
        "                                  c='green', \n",
        "                                  marker='o',\n",
        "                                  s=50)\n",
        "    \n",
        "    axarr[idx[0], idx[1]].set_title(tt)\n",
        "\n",
        "plt.text(-3.5, -5., \n",
        "         s='Sepal width [standardized]', \n",
        "         ha='center', va='center', fontsize=12)\n",
        "plt.text(-12.5, 4.5, \n",
        "         s='Petal length [standardized]', \n",
        "         ha='center', va='center', \n",
        "         fontsize=12, rotation=90)\n",
        "\n",
        "plt.show()"
      ],
      "metadata": {
        "colab": {
          "base_uri": "https://localhost:8080/",
          "height": 356
        },
        "id": "25Wi7FDXdyKF",
        "outputId": "48eac689-f02e-4dd8-e8e0-17cd1d93326d"
      },
      "execution_count": 19,
      "outputs": [
        {
          "output_type": "display_data",
          "data": {
            "image/png": "[encoded data removed]",
            "text/plain": [
              "<Figure size 504x360 with 4 Axes>"
            ]
          },
          "metadata": {
            "needs_background": "light"
          }
        }
      ]
    },
    {
      "cell_type": "markdown",
      "source": [
        "앙상블 분류기의 결정 경계는 개별 분류기의 결정 경계를 혼합한 것처럼 보인다. 처음 볼 때는 다수결 투표 결정 경계가 sepal width >= 1을 기준으로 y에 수직으로 그어진 결정 트리의 경계와 비슷해보인다. 또한 k-최근접 이웃 분류기의 비선형성이 섞여있는 것을 알 수 있다."
      ],
      "metadata": {
        "id": "Gi4zDT0ykSTD"
      }
    },
    {
      "cell_type": "markdown",
      "source": [
        "앙상블을 위해 개별 분류기의 매개변수를 튜닝하기 전에 GridSearchCV 객체 안에 있는 매개변수에 어떻게 접근할 수 있는지 get_params 메서드를 호출해서 알아본다."
      ],
      "metadata": {
        "id": "06Lb1N2Wlh4y"
      }
    },
    {
      "cell_type": "code",
      "source": [
        "mv_clf.get_params()"
      ],
      "metadata": {
        "colab": {
          "base_uri": "https://localhost:8080/"
        },
        "id": "XHG7h_PSlosa",
        "outputId": "2429bafa-2b0e-4917-a633-3cb16a64b910"
      },
      "execution_count": 20,
      "outputs": [
        {
          "output_type": "execute_result",
          "data": {
            "text/plain": [
              "{'decisiontreeclassifier': DecisionTreeClassifier(criterion='entropy', max_depth=1, random_state=0),\n",
              " 'decisiontreeclassifier__ccp_alpha': 0.0,\n",
              " 'decisiontreeclassifier__class_weight': None,\n",
              " 'decisiontreeclassifier__criterion': 'entropy',\n",
              " 'decisiontreeclassifier__max_depth': 1,\n",
              " 'decisiontreeclassifier__max_features': None,\n",
              " 'decisiontreeclassifier__max_leaf_nodes': None,\n",
              " 'decisiontreeclassifier__min_impurity_decrease': 0.0,\n",
              " 'decisiontreeclassifier__min_samples_leaf': 1,\n",
              " 'decisiontreeclassifier__min_samples_split': 2,\n",
              " 'decisiontreeclassifier__min_weight_fraction_leaf': 0.0,\n",
              " 'decisiontreeclassifier__random_state': 0,\n",
              " 'decisiontreeclassifier__splitter': 'best',\n",
              " 'pipeline-1': Pipeline(steps=[('sc', StandardScaler()),\n",
              "                 ['clf', LogisticRegression(C=0.001, random_state=1)]]),\n",
              " 'pipeline-1__clf': LogisticRegression(C=0.001, random_state=1),\n",
              " 'pipeline-1__clf__C': 0.001,\n",
              " 'pipeline-1__clf__class_weight': None,\n",
              " 'pipeline-1__clf__dual': False,\n",
              " 'pipeline-1__clf__fit_intercept': True,\n",
              " 'pipeline-1__clf__intercept_scaling': 1,\n",
              " 'pipeline-1__clf__l1_ratio': None,\n",
              " 'pipeline-1__clf__max_iter': 100,\n",
              " 'pipeline-1__clf__multi_class': 'auto',\n",
              " 'pipeline-1__clf__n_jobs': None,\n",
              " 'pipeline-1__clf__penalty': 'l2',\n",
              " 'pipeline-1__clf__random_state': 1,\n",
              " 'pipeline-1__clf__solver': 'lbfgs',\n",
              " 'pipeline-1__clf__tol': 0.0001,\n",
              " 'pipeline-1__clf__verbose': 0,\n",
              " 'pipeline-1__clf__warm_start': False,\n",
              " 'pipeline-1__memory': None,\n",
              " 'pipeline-1__sc': StandardScaler(),\n",
              " 'pipeline-1__sc__copy': True,\n",
              " 'pipeline-1__sc__with_mean': True,\n",
              " 'pipeline-1__sc__with_std': True,\n",
              " 'pipeline-1__steps': [('sc', StandardScaler()),\n",
              "  ['clf', LogisticRegression(C=0.001, random_state=1)]],\n",
              " 'pipeline-1__verbose': False,\n",
              " 'pipeline-2': Pipeline(steps=[('sc', StandardScaler()),\n",
              "                 ['clf', KNeighborsClassifier(n_neighbors=1)]]),\n",
              " 'pipeline-2__clf': KNeighborsClassifier(n_neighbors=1),\n",
              " 'pipeline-2__clf__algorithm': 'auto',\n",
              " 'pipeline-2__clf__leaf_size': 30,\n",
              " 'pipeline-2__clf__metric': 'minkowski',\n",
              " 'pipeline-2__clf__metric_params': None,\n",
              " 'pipeline-2__clf__n_jobs': None,\n",
              " 'pipeline-2__clf__n_neighbors': 1,\n",
              " 'pipeline-2__clf__p': 2,\n",
              " 'pipeline-2__clf__weights': 'uniform',\n",
              " 'pipeline-2__memory': None,\n",
              " 'pipeline-2__sc': StandardScaler(),\n",
              " 'pipeline-2__sc__copy': True,\n",
              " 'pipeline-2__sc__with_mean': True,\n",
              " 'pipeline-2__sc__with_std': True,\n",
              " 'pipeline-2__steps': [('sc', StandardScaler()),\n",
              "  ['clf', KNeighborsClassifier(n_neighbors=1)]],\n",
              " 'pipeline-2__verbose': False}"
            ]
          },
          "metadata": {},
          "execution_count": 20
        }
      ]
    },
    {
      "cell_type": "markdown",
      "source": [
        "get_params 메서드에서 반환되는 값을 살펴보면 개별 분류기의 속성에 접근하는 방법을 알 수 있다.\n",
        "\n",
        "* GridSearchCV를 사용하여 로지스틱 회귀 분류의 규제 매개변수 C와 결정 트리의 깊이 튜닝"
      ],
      "metadata": {
        "id": "-vS-X1UfmJWy"
      }
    },
    {
      "cell_type": "code",
      "source": [
        "from sklearn.model_selection import GridSearchCV\n",
        "params = {'decisiontreeclassifier__max_depth':[1, 2], 'pipeline-1__clf__C':[0.001, 0.1, 100.0]}\n",
        "grid = GridSearchCV(estimator=mv_clf, param_grid=params, cv=10, scoring='roc_auc')\n",
        "grid.fit(X_train, y_train)\n",
        "\n",
        "for r, _ in enumerate(grid.cv_results_['mean_test_score']):\n",
        "    print('%0.3f +/- %0.2f %r' % (grid.cv_results_['mean_test_score'][r],\n",
        "                                  grid.cv_results_['std_test_score'][r] / 2.0,\n",
        "                                  grid.cv_results_['params'][r]))"
      ],
      "metadata": {
        "colab": {
          "base_uri": "https://localhost:8080/"
        },
        "id": "DUzhiXltmWJj",
        "outputId": "f081a604-2fec-442c-b466-fee66a2d9b13"
      },
      "execution_count": 21,
      "outputs": [
        {
          "output_type": "stream",
          "name": "stdout",
          "text": [
            "0.983 +/- 0.02 {'decisiontreeclassifier__max_depth': 1, 'pipeline-1__clf__C': 0.001}\n",
            "0.983 +/- 0.02 {'decisiontreeclassifier__max_depth': 1, 'pipeline-1__clf__C': 0.1}\n",
            "0.967 +/- 0.05 {'decisiontreeclassifier__max_depth': 1, 'pipeline-1__clf__C': 100.0}\n",
            "0.983 +/- 0.02 {'decisiontreeclassifier__max_depth': 2, 'pipeline-1__clf__C': 0.001}\n",
            "0.983 +/- 0.02 {'decisiontreeclassifier__max_depth': 2, 'pipeline-1__clf__C': 0.1}\n",
            "0.967 +/- 0.05 {'decisiontreeclassifier__max_depth': 2, 'pipeline-1__clf__C': 100.0}\n"
          ]
        }
      ]
    },
    {
      "cell_type": "code",
      "source": [
        "print('최적의 매개변수: %s' % grid.best_params_)\n",
        "print('정확도: %.2f' % grid.best_score_)"
      ],
      "metadata": {
        "colab": {
          "base_uri": "https://localhost:8080/"
        },
        "id": "Pmgu0F_qnMBc",
        "outputId": "ace5a7bd-95b7-45a7-c71c-1f6a85392a33"
      },
      "execution_count": 22,
      "outputs": [
        {
          "output_type": "stream",
          "name": "stdout",
          "text": [
            "최적의 매개변수: {'decisiontreeclassifier__max_depth': 1, 'pipeline-1__clf__C': 0.001}\n",
            "정확도: 0.98\n"
          ]
        }
      ]
    },
    {
      "cell_type": "markdown",
      "source": [
        "* 규제 강도(C) = 0.001 일 때 최상의 교차 검증 결과를 얻는다.\n",
        "* 트리 깊이는 성능에 영향을 주지 않는 것처럼 보인다. 즉, 이 데이터를 분할하는 데은 깊이가 1인 결정 트리로 충분하다."
      ],
      "metadata": {
        "id": "H0sr813dnOCi"
      }
    },
    {
      "cell_type": "markdown",
      "source": [
        "* `GridSearchCV`의 `refit` 기본값은 True이다. 훈련된 GridSearchCV 추정기를 사용해 `predict` 메서드로 예측을 만들 수 있다는 뜻이다.\n",
        "\n",
        "        grid = GridSearchCV(estimator=mv_clf,\n",
        "                            param_grid=params,\n",
        "                            cv=10,\n",
        "                            scoring='roc_auc')\n",
        "        grid.fit(X_train, y_train)\n",
        "        y_pred = grid.predict(X_test)\n",
        "\n",
        "또한 `best_estimator_` 속성으로 최상의 추정기를 얻을 수 있다."
      ],
      "metadata": {
        "id": "4CCA7W0Mtwjo"
      }
    },
    {
      "cell_type": "code",
      "source": [
        "grid.best_estimator_.classifiers"
      ],
      "metadata": {
        "colab": {
          "base_uri": "https://localhost:8080/"
        },
        "id": "cpSVE8a6uUcQ",
        "outputId": "08780cde-a2a4-4857-b8c9-0f207e58ca9e"
      },
      "execution_count": 23,
      "outputs": [
        {
          "output_type": "execute_result",
          "data": {
            "text/plain": [
              "[Pipeline(steps=[('sc', StandardScaler()),\n",
              "                 ['clf', LogisticRegression(C=0.001, random_state=1)]]),\n",
              " DecisionTreeClassifier(criterion='entropy', max_depth=1, random_state=0),\n",
              " Pipeline(steps=[('sc', StandardScaler()),\n",
              "                 ['clf', KNeighborsClassifier(n_neighbors=1)]])]"
            ]
          },
          "metadata": {},
          "execution_count": 23
        }
      ]
    },
    {
      "cell_type": "code",
      "source": [
        "mv_clf = grid.best_estimator_\n",
        "mv_clf"
      ],
      "metadata": {
        "colab": {
          "base_uri": "https://localhost:8080/"
        },
        "id": "YvKbUT2Zudw5",
        "outputId": "59adbd3a-1683-4b40-e1a1-a660689e1f4b"
      },
      "execution_count": 24,
      "outputs": [
        {
          "output_type": "execute_result",
          "data": {
            "text/plain": [
              "MajorityVoteClassifier(classifiers=[Pipeline(steps=[('sc', StandardScaler()),\n",
              "                                                    ['clf',\n",
              "                                                     LogisticRegression(C=0.001,\n",
              "                                                                        random_state=1)]]),\n",
              "                                    DecisionTreeClassifier(criterion='entropy',\n",
              "                                                           max_depth=1,\n",
              "                                                           random_state=0),\n",
              "                                    Pipeline(steps=[('sc', StandardScaler()),\n",
              "                                                    ['clf',\n",
              "                                                     KNeighborsClassifier(n_neighbors=1)]])])"
            ]
          },
          "metadata": {},
          "execution_count": 24
        }
      ]
    },
    {
      "cell_type": "code",
      "source": [
        "mv_clf.set_params(**grid.best_estimator_.get_params())"
      ],
      "metadata": {
        "colab": {
          "base_uri": "https://localhost:8080/"
        },
        "id": "gYM0EXumugNg",
        "outputId": "acb776b7-e0d8-4e52-cea3-aa4603867505"
      },
      "execution_count": 25,
      "outputs": [
        {
          "output_type": "execute_result",
          "data": {
            "text/plain": [
              "MajorityVoteClassifier(classifiers=[Pipeline(steps=[('sc', StandardScaler()),\n",
              "                                                    ('clf',\n",
              "                                                     LogisticRegression(C=0.001,\n",
              "                                                                        random_state=1))]),\n",
              "                                    DecisionTreeClassifier(criterion='entropy',\n",
              "                                                           max_depth=1,\n",
              "                                                           random_state=0),\n",
              "                                    Pipeline(steps=[('sc', StandardScaler()),\n",
              "                                                    ('clf',\n",
              "                                                     KNeighborsClassifier(n_neighbors=1))])])"
            ]
          },
          "metadata": {},
          "execution_count": 25
        }
      ]
    },
    {
      "cell_type": "code",
      "source": [
        "mv_clf"
      ],
      "metadata": {
        "colab": {
          "base_uri": "https://localhost:8080/"
        },
        "id": "m9_unhZ0ukgg",
        "outputId": "1a1e78d7-2ebf-40b8-d088-ab1402803b71"
      },
      "execution_count": 26,
      "outputs": [
        {
          "output_type": "execute_result",
          "data": {
            "text/plain": [
              "MajorityVoteClassifier(classifiers=[Pipeline(steps=[('sc', StandardScaler()),\n",
              "                                                    ('clf',\n",
              "                                                     LogisticRegression(C=0.001,\n",
              "                                                                        random_state=1))]),\n",
              "                                    DecisionTreeClassifier(criterion='entropy',\n",
              "                                                           max_depth=1,\n",
              "                                                           random_state=0),\n",
              "                                    Pipeline(steps=[('sc', StandardScaler()),\n",
              "                                                    ('clf',\n",
              "                                                     KNeighborsClassifier(n_neighbors=1))])])"
            ]
          },
          "metadata": {},
          "execution_count": 26
        }
      ]
    },
    {
      "cell_type": "markdown",
      "source": [
        "#### 스태킹을 사용한 앙상블\n",
        "* 스태킹 알고리즘 : 두 개의 층을 가진 앙상블\n",
        "    * 첫 번째 층의 개별 분류기 예측이 두 번째 층으로 주입된다\n",
        "    * 두 번째 층에서 또 다른 분류기(전형적으로 로지스틱 회귀)가 최종 예측을 만들기 위해 첫 번째 층의 예측을 사용하여 학습된다.\n",
        "* 사이킷런의 `StackingClassifier`, `StackingRegressor`\n",
        "    * StackingClassifier\n",
        "        * VotingClassifier와 비슷하게 estimators 매개변수로 분류기 이름과 객체로 구분된 튜플의 리스트를 입력받는다.\n",
        "        * final_estimator 매개변수로는 최종 결정을 위한 분류기를 지정.\n",
        "        * 매개변수 그리드를 지정할 때는 튜플에 사용한 분류기 이름을 접두사로 사용."
      ],
      "metadata": {
        "id": "-hhHOf3nrHWx"
      }
    },
    {
      "cell_type": "code",
      "source": [
        "from sklearn.ensemble import StackingClassifier\n",
        "\n",
        "stack = StackingClassifier(estimators=[('lr', pipe1), ('dt', clf2), ('knn', pipe3)], \n",
        "                           final_estimator=LogisticRegression())\n",
        "\n",
        "params = {'dt__max_depth': [1, 2],\n",
        "          'lr__clf__C': [0.001, 0.1, 100.0]}\n",
        "\n",
        "grid = GridSearchCV(estimator=stack, param_grid=params, cv=10, scoring='roc_auc')\n",
        "grid.fit(X_train, y_train)\n",
        "\n",
        "for r, _ in enumerate(grid.cv_results_['mean_test_score']):\n",
        "    print(\"%0.3f +/- %0.2f %r\"\n",
        "        % (grid.cv_results_['mean_test_score'][r],\n",
        "           grid.cv_results_['std_test_score'][r] / 2.0,\n",
        "           grid.cv_results_['params'][r]))"
      ],
      "metadata": {
        "colab": {
          "base_uri": "https://localhost:8080/"
        },
        "id": "wFM8b46ir-6x",
        "outputId": "89804807-72cb-4092-e7ed-ceb44848f916"
      },
      "execution_count": 27,
      "outputs": [
        {
          "output_type": "stream",
          "name": "stdout",
          "text": [
            "0.950 +/- 0.07 {'dt__max_depth': 1, 'lr__clf__C': 0.001}\n",
            "0.983 +/- 0.02 {'dt__max_depth': 1, 'lr__clf__C': 0.1}\n",
            "0.967 +/- 0.05 {'dt__max_depth': 1, 'lr__clf__C': 100.0}\n",
            "0.950 +/- 0.07 {'dt__max_depth': 2, 'lr__clf__C': 0.001}\n",
            "0.983 +/- 0.02 {'dt__max_depth': 2, 'lr__clf__C': 0.1}\n",
            "0.967 +/- 0.05 {'dt__max_depth': 2, 'lr__clf__C': 100.0}\n"
          ]
        }
      ]
    },
    {
      "cell_type": "code",
      "source": [
        "print('최적의 매개변수: %s' % grid.best_params_)\n",
        "print('정확도: %.2f' % grid.best_score_)"
      ],
      "metadata": {
        "colab": {
          "base_uri": "https://localhost:8080/"
        },
        "id": "rOu_5yjYtPuY",
        "outputId": "cdfdc53b-8c5e-4c23-911b-2e3810751865"
      },
      "execution_count": 28,
      "outputs": [
        {
          "output_type": "stream",
          "name": "stdout",
          "text": [
            "최적의 매개변수: {'dt__max_depth': 1, 'lr__clf__C': 0.1}\n",
            "정확도: 0.98\n"
          ]
        }
      ]
    }
  ]
}
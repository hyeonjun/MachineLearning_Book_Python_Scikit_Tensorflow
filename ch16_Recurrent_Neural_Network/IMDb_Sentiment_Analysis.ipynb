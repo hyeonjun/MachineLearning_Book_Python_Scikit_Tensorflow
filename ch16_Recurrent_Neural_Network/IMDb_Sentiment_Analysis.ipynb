{
  "nbformat": 4,
  "nbformat_minor": 0,
  "metadata": {
    "colab": {
      "name": "ch16_IMDb_Sentiment_Analysis.ipynb",
      "provenance": [],
      "collapsed_sections": [],
      "authorship_tag": "ABX9TyPA5TbJuoapr/cuA1tSq5wo"
    },
    "kernelspec": {
      "name": "python3",
      "display_name": "Python 3"
    },
    "language_info": {
      "name": "python"
    },
    "accelerator": "GPU",
    "widgets": {
      "application/vnd.jupyter.widget-state+json": {
        "ab92dcd8c96b438b9399d273ac28c91f": {
          "model_module": "@jupyter-widgets/controls",
          "model_name": "HBoxModel",
          "model_module_version": "1.5.0",
          "state": {
            "_view_name": "HBoxView",
            "_dom_classes": [],
            "_model_name": "HBoxModel",
            "_view_module": "@jupyter-widgets/controls",
            "_model_module_version": "1.5.0",
            "_view_count": null,
            "_view_module_version": "1.5.0",
            "box_style": "",
            "layout": "IPY_MODEL_783fce0bda9146d7a7c5b3c57c998d8f",
            "_model_module": "@jupyter-widgets/controls",
            "children": [
              "IPY_MODEL_e5925b0972cf4c0d88497beffa717bb7",
              "IPY_MODEL_6b3ad1f1728b4b5c9d4241b49afabe83",
              "IPY_MODEL_659d96d6c21b4917aaa7fa6bcfffc915"
            ]
          }
        },
        "783fce0bda9146d7a7c5b3c57c998d8f": {
          "model_module": "@jupyter-widgets/base",
          "model_name": "LayoutModel",
          "model_module_version": "1.2.0",
          "state": {
            "_view_name": "LayoutView",
            "grid_template_rows": null,
            "right": null,
            "justify_content": null,
            "_view_module": "@jupyter-widgets/base",
            "overflow": null,
            "_model_module_version": "1.2.0",
            "_view_count": null,
            "flex_flow": null,
            "width": null,
            "min_width": null,
            "border": null,
            "align_items": null,
            "bottom": null,
            "_model_module": "@jupyter-widgets/base",
            "top": null,
            "grid_column": null,
            "overflow_y": null,
            "overflow_x": null,
            "grid_auto_flow": null,
            "grid_area": null,
            "grid_template_columns": null,
            "flex": null,
            "_model_name": "LayoutModel",
            "justify_items": null,
            "grid_row": null,
            "max_height": null,
            "align_content": null,
            "visibility": null,
            "align_self": null,
            "height": null,
            "min_height": null,
            "padding": null,
            "grid_auto_rows": null,
            "grid_gap": null,
            "max_width": null,
            "order": null,
            "_view_module_version": "1.2.0",
            "grid_template_areas": null,
            "object_position": null,
            "object_fit": null,
            "grid_auto_columns": null,
            "margin": null,
            "display": null,
            "left": null
          }
        },
        "e5925b0972cf4c0d88497beffa717bb7": {
          "model_module": "@jupyter-widgets/controls",
          "model_name": "HTMLModel",
          "model_module_version": "1.5.0",
          "state": {
            "_view_name": "HTMLView",
            "style": "IPY_MODEL_305109434e5644138c07e2c86b4000fa",
            "_dom_classes": [],
            "description": "",
            "_model_name": "HTMLModel",
            "placeholder": "​",
            "_view_module": "@jupyter-widgets/controls",
            "_model_module_version": "1.5.0",
            "value": "Dl Completed...: 100%",
            "_view_count": null,
            "_view_module_version": "1.5.0",
            "description_tooltip": null,
            "_model_module": "@jupyter-widgets/controls",
            "layout": "IPY_MODEL_03bd140688ab44119726831cd3f5d526"
          }
        },
        "6b3ad1f1728b4b5c9d4241b49afabe83": {
          "model_module": "@jupyter-widgets/controls",
          "model_name": "FloatProgressModel",
          "model_module_version": "1.5.0",
          "state": {
            "_view_name": "ProgressView",
            "style": "IPY_MODEL_15a60e36f13247a99cda9700b96fcb9f",
            "_dom_classes": [],
            "description": "",
            "_model_name": "FloatProgressModel",
            "bar_style": "success",
            "max": 1,
            "_view_module": "@jupyter-widgets/controls",
            "_model_module_version": "1.5.0",
            "value": 1,
            "_view_count": null,
            "_view_module_version": "1.5.0",
            "orientation": "horizontal",
            "min": 0,
            "description_tooltip": null,
            "_model_module": "@jupyter-widgets/controls",
            "layout": "IPY_MODEL_1a238ed1d1b0423e8ad92bce1d58aa04"
          }
        },
        "659d96d6c21b4917aaa7fa6bcfffc915": {
          "model_module": "@jupyter-widgets/controls",
          "model_name": "HTMLModel",
          "model_module_version": "1.5.0",
          "state": {
            "_view_name": "HTMLView",
            "style": "IPY_MODEL_0b126b598ab04165bebbce7bfa436584",
            "_dom_classes": [],
            "description": "",
            "_model_name": "HTMLModel",
            "placeholder": "​",
            "_view_module": "@jupyter-widgets/controls",
            "_model_module_version": "1.5.0",
            "value": " 1/1 [00:03&lt;00:00,  3.21s/ url]",
            "_view_count": null,
            "_view_module_version": "1.5.0",
            "description_tooltip": null,
            "_model_module": "@jupyter-widgets/controls",
            "layout": "IPY_MODEL_39abb57bb4b7493abe625d5184044f5e"
          }
        },
        "305109434e5644138c07e2c86b4000fa": {
          "model_module": "@jupyter-widgets/controls",
          "model_name": "DescriptionStyleModel",
          "model_module_version": "1.5.0",
          "state": {
            "_view_name": "StyleView",
            "_model_name": "DescriptionStyleModel",
            "description_width": "",
            "_view_module": "@jupyter-widgets/base",
            "_model_module_version": "1.5.0",
            "_view_count": null,
            "_view_module_version": "1.2.0",
            "_model_module": "@jupyter-widgets/controls"
          }
        },
        "03bd140688ab44119726831cd3f5d526": {
          "model_module": "@jupyter-widgets/base",
          "model_name": "LayoutModel",
          "model_module_version": "1.2.0",
          "state": {
            "_view_name": "LayoutView",
            "grid_template_rows": null,
            "right": null,
            "justify_content": null,
            "_view_module": "@jupyter-widgets/base",
            "overflow": null,
            "_model_module_version": "1.2.0",
            "_view_count": null,
            "flex_flow": null,
            "width": null,
            "min_width": null,
            "border": null,
            "align_items": null,
            "bottom": null,
            "_model_module": "@jupyter-widgets/base",
            "top": null,
            "grid_column": null,
            "overflow_y": null,
            "overflow_x": null,
            "grid_auto_flow": null,
            "grid_area": null,
            "grid_template_columns": null,
            "flex": null,
            "_model_name": "LayoutModel",
            "justify_items": null,
            "grid_row": null,
            "max_height": null,
            "align_content": null,
            "visibility": null,
            "align_self": null,
            "height": null,
            "min_height": null,
            "padding": null,
            "grid_auto_rows": null,
            "grid_gap": null,
            "max_width": null,
            "order": null,
            "_view_module_version": "1.2.0",
            "grid_template_areas": null,
            "object_position": null,
            "object_fit": null,
            "grid_auto_columns": null,
            "margin": null,
            "display": null,
            "left": null
          }
        },
        "15a60e36f13247a99cda9700b96fcb9f": {
          "model_module": "@jupyter-widgets/controls",
          "model_name": "ProgressStyleModel",
          "model_module_version": "1.5.0",
          "state": {
            "_view_name": "StyleView",
            "_model_name": "ProgressStyleModel",
            "description_width": "",
            "_view_module": "@jupyter-widgets/base",
            "_model_module_version": "1.5.0",
            "_view_count": null,
            "_view_module_version": "1.2.0",
            "bar_color": null,
            "_model_module": "@jupyter-widgets/controls"
          }
        },
        "1a238ed1d1b0423e8ad92bce1d58aa04": {
          "model_module": "@jupyter-widgets/base",
          "model_name": "LayoutModel",
          "model_module_version": "1.2.0",
          "state": {
            "_view_name": "LayoutView",
            "grid_template_rows": null,
            "right": null,
            "justify_content": null,
            "_view_module": "@jupyter-widgets/base",
            "overflow": null,
            "_model_module_version": "1.2.0",
            "_view_count": null,
            "flex_flow": null,
            "width": "20px",
            "min_width": null,
            "border": null,
            "align_items": null,
            "bottom": null,
            "_model_module": "@jupyter-widgets/base",
            "top": null,
            "grid_column": null,
            "overflow_y": null,
            "overflow_x": null,
            "grid_auto_flow": null,
            "grid_area": null,
            "grid_template_columns": null,
            "flex": null,
            "_model_name": "LayoutModel",
            "justify_items": null,
            "grid_row": null,
            "max_height": null,
            "align_content": null,
            "visibility": null,
            "align_self": null,
            "height": null,
            "min_height": null,
            "padding": null,
            "grid_auto_rows": null,
            "grid_gap": null,
            "max_width": null,
            "order": null,
            "_view_module_version": "1.2.0",
            "grid_template_areas": null,
            "object_position": null,
            "object_fit": null,
            "grid_auto_columns": null,
            "margin": null,
            "display": null,
            "left": null
          }
        },
        "0b126b598ab04165bebbce7bfa436584": {
          "model_module": "@jupyter-widgets/controls",
          "model_name": "DescriptionStyleModel",
          "model_module_version": "1.5.0",
          "state": {
            "_view_name": "StyleView",
            "_model_name": "DescriptionStyleModel",
            "description_width": "",
            "_view_module": "@jupyter-widgets/base",
            "_model_module_version": "1.5.0",
            "_view_count": null,
            "_view_module_version": "1.2.0",
            "_model_module": "@jupyter-widgets/controls"
          }
        },
        "39abb57bb4b7493abe625d5184044f5e": {
          "model_module": "@jupyter-widgets/base",
          "model_name": "LayoutModel",
          "model_module_version": "1.2.0",
          "state": {
            "_view_name": "LayoutView",
            "grid_template_rows": null,
            "right": null,
            "justify_content": null,
            "_view_module": "@jupyter-widgets/base",
            "overflow": null,
            "_model_module_version": "1.2.0",
            "_view_count": null,
            "flex_flow": null,
            "width": null,
            "min_width": null,
            "border": null,
            "align_items": null,
            "bottom": null,
            "_model_module": "@jupyter-widgets/base",
            "top": null,
            "grid_column": null,
            "overflow_y": null,
            "overflow_x": null,
            "grid_auto_flow": null,
            "grid_area": null,
            "grid_template_columns": null,
            "flex": null,
            "_model_name": "LayoutModel",
            "justify_items": null,
            "grid_row": null,
            "max_height": null,
            "align_content": null,
            "visibility": null,
            "align_self": null,
            "height": null,
            "min_height": null,
            "padding": null,
            "grid_auto_rows": null,
            "grid_gap": null,
            "max_width": null,
            "order": null,
            "_view_module_version": "1.2.0",
            "grid_template_areas": null,
            "object_position": null,
            "object_fit": null,
            "grid_auto_columns": null,
            "margin": null,
            "display": null,
            "left": null
          }
        },
        "6ce7d0678c5b4b5c8a00e897cd7cf48c": {
          "model_module": "@jupyter-widgets/controls",
          "model_name": "HBoxModel",
          "model_module_version": "1.5.0",
          "state": {
            "_view_name": "HBoxView",
            "_dom_classes": [],
            "_model_name": "HBoxModel",
            "_view_module": "@jupyter-widgets/controls",
            "_model_module_version": "1.5.0",
            "_view_count": null,
            "_view_module_version": "1.5.0",
            "box_style": "",
            "layout": "IPY_MODEL_4739926a33524977b5d7cafd236863b9",
            "_model_module": "@jupyter-widgets/controls",
            "children": [
              "IPY_MODEL_2a070ddc27504d4aaf6f493c89d520cb",
              "IPY_MODEL_7dc345cdde79447eb12fb1b93c4452e8",
              "IPY_MODEL_971bdb240edc44aebaffe128e2bcf157"
            ]
          }
        },
        "4739926a33524977b5d7cafd236863b9": {
          "model_module": "@jupyter-widgets/base",
          "model_name": "LayoutModel",
          "model_module_version": "1.2.0",
          "state": {
            "_view_name": "LayoutView",
            "grid_template_rows": null,
            "right": null,
            "justify_content": null,
            "_view_module": "@jupyter-widgets/base",
            "overflow": null,
            "_model_module_version": "1.2.0",
            "_view_count": null,
            "flex_flow": null,
            "width": null,
            "min_width": null,
            "border": null,
            "align_items": null,
            "bottom": null,
            "_model_module": "@jupyter-widgets/base",
            "top": null,
            "grid_column": null,
            "overflow_y": null,
            "overflow_x": null,
            "grid_auto_flow": null,
            "grid_area": null,
            "grid_template_columns": null,
            "flex": null,
            "_model_name": "LayoutModel",
            "justify_items": null,
            "grid_row": null,
            "max_height": null,
            "align_content": null,
            "visibility": null,
            "align_self": null,
            "height": null,
            "min_height": null,
            "padding": null,
            "grid_auto_rows": null,
            "grid_gap": null,
            "max_width": null,
            "order": null,
            "_view_module_version": "1.2.0",
            "grid_template_areas": null,
            "object_position": null,
            "object_fit": null,
            "grid_auto_columns": null,
            "margin": null,
            "display": null,
            "left": null
          }
        },
        "2a070ddc27504d4aaf6f493c89d520cb": {
          "model_module": "@jupyter-widgets/controls",
          "model_name": "HTMLModel",
          "model_module_version": "1.5.0",
          "state": {
            "_view_name": "HTMLView",
            "style": "IPY_MODEL_67f02c8ff48e4c348e1405b902282a7a",
            "_dom_classes": [],
            "description": "",
            "_model_name": "HTMLModel",
            "placeholder": "​",
            "_view_module": "@jupyter-widgets/controls",
            "_model_module_version": "1.5.0",
            "value": "Dl Size...: 100%",
            "_view_count": null,
            "_view_module_version": "1.5.0",
            "description_tooltip": null,
            "_model_module": "@jupyter-widgets/controls",
            "layout": "IPY_MODEL_97b501bd26654e70938c18ad81afc221"
          }
        },
        "7dc345cdde79447eb12fb1b93c4452e8": {
          "model_module": "@jupyter-widgets/controls",
          "model_name": "FloatProgressModel",
          "model_module_version": "1.5.0",
          "state": {
            "_view_name": "ProgressView",
            "style": "IPY_MODEL_c5d22e30cede4fe88ff4af0437abda20",
            "_dom_classes": [],
            "description": "",
            "_model_name": "FloatProgressModel",
            "bar_style": "success",
            "max": 1,
            "_view_module": "@jupyter-widgets/controls",
            "_model_module_version": "1.5.0",
            "value": 1,
            "_view_count": null,
            "_view_module_version": "1.5.0",
            "orientation": "horizontal",
            "min": 0,
            "description_tooltip": null,
            "_model_module": "@jupyter-widgets/controls",
            "layout": "IPY_MODEL_d1e10c6fc516439ba588bb240f9c6c44"
          }
        },
        "971bdb240edc44aebaffe128e2bcf157": {
          "model_module": "@jupyter-widgets/controls",
          "model_name": "HTMLModel",
          "model_module_version": "1.5.0",
          "state": {
            "_view_name": "HTMLView",
            "style": "IPY_MODEL_0d60f706761d48c79084113019e73c9c",
            "_dom_classes": [],
            "description": "",
            "_model_name": "HTMLModel",
            "placeholder": "​",
            "_view_module": "@jupyter-widgets/controls",
            "_model_module_version": "1.5.0",
            "value": " 80/80 [00:03&lt;00:00, 42.91 MiB/s]",
            "_view_count": null,
            "_view_module_version": "1.5.0",
            "description_tooltip": null,
            "_model_module": "@jupyter-widgets/controls",
            "layout": "IPY_MODEL_f2781d05488d4b7baa7429f9a42215ca"
          }
        },
        "67f02c8ff48e4c348e1405b902282a7a": {
          "model_module": "@jupyter-widgets/controls",
          "model_name": "DescriptionStyleModel",
          "model_module_version": "1.5.0",
          "state": {
            "_view_name": "StyleView",
            "_model_name": "DescriptionStyleModel",
            "description_width": "",
            "_view_module": "@jupyter-widgets/base",
            "_model_module_version": "1.5.0",
            "_view_count": null,
            "_view_module_version": "1.2.0",
            "_model_module": "@jupyter-widgets/controls"
          }
        },
        "97b501bd26654e70938c18ad81afc221": {
          "model_module": "@jupyter-widgets/base",
          "model_name": "LayoutModel",
          "model_module_version": "1.2.0",
          "state": {
            "_view_name": "LayoutView",
            "grid_template_rows": null,
            "right": null,
            "justify_content": null,
            "_view_module": "@jupyter-widgets/base",
            "overflow": null,
            "_model_module_version": "1.2.0",
            "_view_count": null,
            "flex_flow": null,
            "width": null,
            "min_width": null,
            "border": null,
            "align_items": null,
            "bottom": null,
            "_model_module": "@jupyter-widgets/base",
            "top": null,
            "grid_column": null,
            "overflow_y": null,
            "overflow_x": null,
            "grid_auto_flow": null,
            "grid_area": null,
            "grid_template_columns": null,
            "flex": null,
            "_model_name": "LayoutModel",
            "justify_items": null,
            "grid_row": null,
            "max_height": null,
            "align_content": null,
            "visibility": null,
            "align_self": null,
            "height": null,
            "min_height": null,
            "padding": null,
            "grid_auto_rows": null,
            "grid_gap": null,
            "max_width": null,
            "order": null,
            "_view_module_version": "1.2.0",
            "grid_template_areas": null,
            "object_position": null,
            "object_fit": null,
            "grid_auto_columns": null,
            "margin": null,
            "display": null,
            "left": null
          }
        },
        "c5d22e30cede4fe88ff4af0437abda20": {
          "model_module": "@jupyter-widgets/controls",
          "model_name": "ProgressStyleModel",
          "model_module_version": "1.5.0",
          "state": {
            "_view_name": "StyleView",
            "_model_name": "ProgressStyleModel",
            "description_width": "",
            "_view_module": "@jupyter-widgets/base",
            "_model_module_version": "1.5.0",
            "_view_count": null,
            "_view_module_version": "1.2.0",
            "bar_color": null,
            "_model_module": "@jupyter-widgets/controls"
          }
        },
        "d1e10c6fc516439ba588bb240f9c6c44": {
          "model_module": "@jupyter-widgets/base",
          "model_name": "LayoutModel",
          "model_module_version": "1.2.0",
          "state": {
            "_view_name": "LayoutView",
            "grid_template_rows": null,
            "right": null,
            "justify_content": null,
            "_view_module": "@jupyter-widgets/base",
            "overflow": null,
            "_model_module_version": "1.2.0",
            "_view_count": null,
            "flex_flow": null,
            "width": "20px",
            "min_width": null,
            "border": null,
            "align_items": null,
            "bottom": null,
            "_model_module": "@jupyter-widgets/base",
            "top": null,
            "grid_column": null,
            "overflow_y": null,
            "overflow_x": null,
            "grid_auto_flow": null,
            "grid_area": null,
            "grid_template_columns": null,
            "flex": null,
            "_model_name": "LayoutModel",
            "justify_items": null,
            "grid_row": null,
            "max_height": null,
            "align_content": null,
            "visibility": null,
            "align_self": null,
            "height": null,
            "min_height": null,
            "padding": null,
            "grid_auto_rows": null,
            "grid_gap": null,
            "max_width": null,
            "order": null,
            "_view_module_version": "1.2.0",
            "grid_template_areas": null,
            "object_position": null,
            "object_fit": null,
            "grid_auto_columns": null,
            "margin": null,
            "display": null,
            "left": null
          }
        },
        "0d60f706761d48c79084113019e73c9c": {
          "model_module": "@jupyter-widgets/controls",
          "model_name": "DescriptionStyleModel",
          "model_module_version": "1.5.0",
          "state": {
            "_view_name": "StyleView",
            "_model_name": "DescriptionStyleModel",
            "description_width": "",
            "_view_module": "@jupyter-widgets/base",
            "_model_module_version": "1.5.0",
            "_view_count": null,
            "_view_module_version": "1.2.0",
            "_model_module": "@jupyter-widgets/controls"
          }
        },
        "f2781d05488d4b7baa7429f9a42215ca": {
          "model_module": "@jupyter-widgets/base",
          "model_name": "LayoutModel",
          "model_module_version": "1.2.0",
          "state": {
            "_view_name": "LayoutView",
            "grid_template_rows": null,
            "right": null,
            "justify_content": null,
            "_view_module": "@jupyter-widgets/base",
            "overflow": null,
            "_model_module_version": "1.2.0",
            "_view_count": null,
            "flex_flow": null,
            "width": null,
            "min_width": null,
            "border": null,
            "align_items": null,
            "bottom": null,
            "_model_module": "@jupyter-widgets/base",
            "top": null,
            "grid_column": null,
            "overflow_y": null,
            "overflow_x": null,
            "grid_auto_flow": null,
            "grid_area": null,
            "grid_template_columns": null,
            "flex": null,
            "_model_name": "LayoutModel",
            "justify_items": null,
            "grid_row": null,
            "max_height": null,
            "align_content": null,
            "visibility": null,
            "align_self": null,
            "height": null,
            "min_height": null,
            "padding": null,
            "grid_auto_rows": null,
            "grid_gap": null,
            "max_width": null,
            "order": null,
            "_view_module_version": "1.2.0",
            "grid_template_areas": null,
            "object_position": null,
            "object_fit": null,
            "grid_auto_columns": null,
            "margin": null,
            "display": null,
            "left": null
          }
        },
        "4e9a18ba7cb344a1b87b8ba6ebb58114": {
          "model_module": "@jupyter-widgets/controls",
          "model_name": "HBoxModel",
          "model_module_version": "1.5.0",
          "state": {
            "_view_name": "HBoxView",
            "_dom_classes": [],
            "_model_name": "HBoxModel",
            "_view_module": "@jupyter-widgets/controls",
            "_model_module_version": "1.5.0",
            "_view_count": null,
            "_view_module_version": "1.5.0",
            "box_style": "",
            "layout": "IPY_MODEL_f87e90020ebe482797df3985bca99525",
            "_model_module": "@jupyter-widgets/controls",
            "children": [
              "IPY_MODEL_f950b074cbec458a9e21ba77b93d2f6b",
              "IPY_MODEL_d672e26705154dc7a1fb46e256d207c4",
              "IPY_MODEL_5de839b535504124839939898702f714"
            ]
          }
        },
        "f87e90020ebe482797df3985bca99525": {
          "model_module": "@jupyter-widgets/base",
          "model_name": "LayoutModel",
          "model_module_version": "1.2.0",
          "state": {
            "_view_name": "LayoutView",
            "grid_template_rows": null,
            "right": null,
            "justify_content": null,
            "_view_module": "@jupyter-widgets/base",
            "overflow": null,
            "_model_module_version": "1.2.0",
            "_view_count": null,
            "flex_flow": null,
            "width": null,
            "min_width": null,
            "border": null,
            "align_items": null,
            "bottom": null,
            "_model_module": "@jupyter-widgets/base",
            "top": null,
            "grid_column": null,
            "overflow_y": null,
            "overflow_x": null,
            "grid_auto_flow": null,
            "grid_area": null,
            "grid_template_columns": null,
            "flex": null,
            "_model_name": "LayoutModel",
            "justify_items": null,
            "grid_row": null,
            "max_height": null,
            "align_content": null,
            "visibility": null,
            "align_self": null,
            "height": null,
            "min_height": null,
            "padding": null,
            "grid_auto_rows": null,
            "grid_gap": null,
            "max_width": null,
            "order": null,
            "_view_module_version": "1.2.0",
            "grid_template_areas": null,
            "object_position": null,
            "object_fit": null,
            "grid_auto_columns": null,
            "margin": null,
            "display": null,
            "left": null
          }
        },
        "f950b074cbec458a9e21ba77b93d2f6b": {
          "model_module": "@jupyter-widgets/controls",
          "model_name": "HTMLModel",
          "model_module_version": "1.5.0",
          "state": {
            "_view_name": "HTMLView",
            "style": "IPY_MODEL_c92a4d8716bd40aab9cd71e85ba0af18",
            "_dom_classes": [],
            "description": "",
            "_model_name": "HTMLModel",
            "placeholder": "​",
            "_view_module": "@jupyter-widgets/controls",
            "_model_module_version": "1.5.0",
            "value": "",
            "_view_count": null,
            "_view_module_version": "1.5.0",
            "description_tooltip": null,
            "_model_module": "@jupyter-widgets/controls",
            "layout": "IPY_MODEL_933ee61d8cac406baa3c73dbb80f896d"
          }
        },
        "d672e26705154dc7a1fb46e256d207c4": {
          "model_module": "@jupyter-widgets/controls",
          "model_name": "FloatProgressModel",
          "model_module_version": "1.5.0",
          "state": {
            "_view_name": "ProgressView",
            "style": "IPY_MODEL_95da6c78a49b4bcca5f2394ae314b44b",
            "_dom_classes": [],
            "description": "",
            "_model_name": "FloatProgressModel",
            "bar_style": "info",
            "max": 1,
            "_view_module": "@jupyter-widgets/controls",
            "_model_module_version": "1.5.0",
            "value": 1,
            "_view_count": null,
            "_view_module_version": "1.5.0",
            "orientation": "horizontal",
            "min": 0,
            "description_tooltip": null,
            "_model_module": "@jupyter-widgets/controls",
            "layout": "IPY_MODEL_8651681b288f43faae517b3e9aa76400"
          }
        },
        "5de839b535504124839939898702f714": {
          "model_module": "@jupyter-widgets/controls",
          "model_name": "HTMLModel",
          "model_module_version": "1.5.0",
          "state": {
            "_view_name": "HTMLView",
            "style": "IPY_MODEL_203d91c800384428969368896844c0c1",
            "_dom_classes": [],
            "description": "",
            "_model_name": "HTMLModel",
            "placeholder": "​",
            "_view_module": "@jupyter-widgets/controls",
            "_model_module_version": "1.5.0",
            "value": " 24971/0 [00:14&lt;00:00, 2295.32 examples/s]",
            "_view_count": null,
            "_view_module_version": "1.5.0",
            "description_tooltip": null,
            "_model_module": "@jupyter-widgets/controls",
            "layout": "IPY_MODEL_2c278b5a39e34f26b8cfd5395a130e2c"
          }
        },
        "c92a4d8716bd40aab9cd71e85ba0af18": {
          "model_module": "@jupyter-widgets/controls",
          "model_name": "DescriptionStyleModel",
          "model_module_version": "1.5.0",
          "state": {
            "_view_name": "StyleView",
            "_model_name": "DescriptionStyleModel",
            "description_width": "",
            "_view_module": "@jupyter-widgets/base",
            "_model_module_version": "1.5.0",
            "_view_count": null,
            "_view_module_version": "1.2.0",
            "_model_module": "@jupyter-widgets/controls"
          }
        },
        "933ee61d8cac406baa3c73dbb80f896d": {
          "model_module": "@jupyter-widgets/base",
          "model_name": "LayoutModel",
          "model_module_version": "1.2.0",
          "state": {
            "_view_name": "LayoutView",
            "grid_template_rows": null,
            "right": null,
            "justify_content": null,
            "_view_module": "@jupyter-widgets/base",
            "overflow": null,
            "_model_module_version": "1.2.0",
            "_view_count": null,
            "flex_flow": null,
            "width": null,
            "min_width": null,
            "border": null,
            "align_items": null,
            "bottom": null,
            "_model_module": "@jupyter-widgets/base",
            "top": null,
            "grid_column": null,
            "overflow_y": null,
            "overflow_x": null,
            "grid_auto_flow": null,
            "grid_area": null,
            "grid_template_columns": null,
            "flex": null,
            "_model_name": "LayoutModel",
            "justify_items": null,
            "grid_row": null,
            "max_height": null,
            "align_content": null,
            "visibility": null,
            "align_self": null,
            "height": null,
            "min_height": null,
            "padding": null,
            "grid_auto_rows": null,
            "grid_gap": null,
            "max_width": null,
            "order": null,
            "_view_module_version": "1.2.0",
            "grid_template_areas": null,
            "object_position": null,
            "object_fit": null,
            "grid_auto_columns": null,
            "margin": null,
            "display": null,
            "left": null
          }
        },
        "95da6c78a49b4bcca5f2394ae314b44b": {
          "model_module": "@jupyter-widgets/controls",
          "model_name": "ProgressStyleModel",
          "model_module_version": "1.5.0",
          "state": {
            "_view_name": "StyleView",
            "_model_name": "ProgressStyleModel",
            "description_width": "",
            "_view_module": "@jupyter-widgets/base",
            "_model_module_version": "1.5.0",
            "_view_count": null,
            "_view_module_version": "1.2.0",
            "bar_color": null,
            "_model_module": "@jupyter-widgets/controls"
          }
        },
        "8651681b288f43faae517b3e9aa76400": {
          "model_module": "@jupyter-widgets/base",
          "model_name": "LayoutModel",
          "model_module_version": "1.2.0",
          "state": {
            "_view_name": "LayoutView",
            "grid_template_rows": null,
            "right": null,
            "justify_content": null,
            "_view_module": "@jupyter-widgets/base",
            "overflow": null,
            "_model_module_version": "1.2.0",
            "_view_count": null,
            "flex_flow": null,
            "width": "20px",
            "min_width": null,
            "border": null,
            "align_items": null,
            "bottom": null,
            "_model_module": "@jupyter-widgets/base",
            "top": null,
            "grid_column": null,
            "overflow_y": null,
            "overflow_x": null,
            "grid_auto_flow": null,
            "grid_area": null,
            "grid_template_columns": null,
            "flex": null,
            "_model_name": "LayoutModel",
            "justify_items": null,
            "grid_row": null,
            "max_height": null,
            "align_content": null,
            "visibility": null,
            "align_self": null,
            "height": null,
            "min_height": null,
            "padding": null,
            "grid_auto_rows": null,
            "grid_gap": null,
            "max_width": null,
            "order": null,
            "_view_module_version": "1.2.0",
            "grid_template_areas": null,
            "object_position": null,
            "object_fit": null,
            "grid_auto_columns": null,
            "margin": null,
            "display": null,
            "left": null
          }
        },
        "203d91c800384428969368896844c0c1": {
          "model_module": "@jupyter-widgets/controls",
          "model_name": "DescriptionStyleModel",
          "model_module_version": "1.5.0",
          "state": {
            "_view_name": "StyleView",
            "_model_name": "DescriptionStyleModel",
            "description_width": "",
            "_view_module": "@jupyter-widgets/base",
            "_model_module_version": "1.5.0",
            "_view_count": null,
            "_view_module_version": "1.2.0",
            "_model_module": "@jupyter-widgets/controls"
          }
        },
        "2c278b5a39e34f26b8cfd5395a130e2c": {
          "model_module": "@jupyter-widgets/base",
          "model_name": "LayoutModel",
          "model_module_version": "1.2.0",
          "state": {
            "_view_name": "LayoutView",
            "grid_template_rows": null,
            "right": null,
            "justify_content": null,
            "_view_module": "@jupyter-widgets/base",
            "overflow": null,
            "_model_module_version": "1.2.0",
            "_view_count": null,
            "flex_flow": null,
            "width": null,
            "min_width": null,
            "border": null,
            "align_items": null,
            "bottom": null,
            "_model_module": "@jupyter-widgets/base",
            "top": null,
            "grid_column": null,
            "overflow_y": null,
            "overflow_x": null,
            "grid_auto_flow": null,
            "grid_area": null,
            "grid_template_columns": null,
            "flex": null,
            "_model_name": "LayoutModel",
            "justify_items": null,
            "grid_row": null,
            "max_height": null,
            "align_content": null,
            "visibility": null,
            "align_self": null,
            "height": null,
            "min_height": null,
            "padding": null,
            "grid_auto_rows": null,
            "grid_gap": null,
            "max_width": null,
            "order": null,
            "_view_module_version": "1.2.0",
            "grid_template_areas": null,
            "object_position": null,
            "object_fit": null,
            "grid_auto_columns": null,
            "margin": null,
            "display": null,
            "left": null
          }
        },
        "4d7ae15ab2d44fcfa7f67a50601dd28b": {
          "model_module": "@jupyter-widgets/controls",
          "model_name": "HBoxModel",
          "model_module_version": "1.5.0",
          "state": {
            "_view_name": "HBoxView",
            "_dom_classes": [],
            "_model_name": "HBoxModel",
            "_view_module": "@jupyter-widgets/controls",
            "_model_module_version": "1.5.0",
            "_view_count": null,
            "_view_module_version": "1.5.0",
            "box_style": "",
            "layout": "IPY_MODEL_d897fcc5c8e847ba83767cd6a65a53d1",
            "_model_module": "@jupyter-widgets/controls",
            "children": [
              "IPY_MODEL_ff09ab318863410b87e5475e1b0ffe2f",
              "IPY_MODEL_77fdd71bc80c46cf94f803618772b25f",
              "IPY_MODEL_bdac7d1ceed24d03ad1d00ce9a1d2397"
            ]
          }
        },
        "d897fcc5c8e847ba83767cd6a65a53d1": {
          "model_module": "@jupyter-widgets/base",
          "model_name": "LayoutModel",
          "model_module_version": "1.2.0",
          "state": {
            "_view_name": "LayoutView",
            "grid_template_rows": null,
            "right": null,
            "justify_content": null,
            "_view_module": "@jupyter-widgets/base",
            "overflow": null,
            "_model_module_version": "1.2.0",
            "_view_count": null,
            "flex_flow": null,
            "width": null,
            "min_width": null,
            "border": null,
            "align_items": null,
            "bottom": null,
            "_model_module": "@jupyter-widgets/base",
            "top": null,
            "grid_column": null,
            "overflow_y": null,
            "overflow_x": null,
            "grid_auto_flow": null,
            "grid_area": null,
            "grid_template_columns": null,
            "flex": null,
            "_model_name": "LayoutModel",
            "justify_items": null,
            "grid_row": null,
            "max_height": null,
            "align_content": null,
            "visibility": null,
            "align_self": null,
            "height": null,
            "min_height": null,
            "padding": null,
            "grid_auto_rows": null,
            "grid_gap": null,
            "max_width": null,
            "order": null,
            "_view_module_version": "1.2.0",
            "grid_template_areas": null,
            "object_position": null,
            "object_fit": null,
            "grid_auto_columns": null,
            "margin": null,
            "display": null,
            "left": null
          }
        },
        "ff09ab318863410b87e5475e1b0ffe2f": {
          "model_module": "@jupyter-widgets/controls",
          "model_name": "HTMLModel",
          "model_module_version": "1.5.0",
          "state": {
            "_view_name": "HTMLView",
            "style": "IPY_MODEL_cdf26e9c29264dbabb2c71cd1157bca5",
            "_dom_classes": [],
            "description": "",
            "_model_name": "HTMLModel",
            "placeholder": "​",
            "_view_module": "@jupyter-widgets/controls",
            "_model_module_version": "1.5.0",
            "value": "100%",
            "_view_count": null,
            "_view_module_version": "1.5.0",
            "description_tooltip": null,
            "_model_module": "@jupyter-widgets/controls",
            "layout": "IPY_MODEL_7339fb4e008741d4a65f1b9d7931673a"
          }
        },
        "77fdd71bc80c46cf94f803618772b25f": {
          "model_module": "@jupyter-widgets/controls",
          "model_name": "FloatProgressModel",
          "model_module_version": "1.5.0",
          "state": {
            "_view_name": "ProgressView",
            "style": "IPY_MODEL_279f81f492c64836888fdb1f4f655c42",
            "_dom_classes": [],
            "description": "",
            "_model_name": "FloatProgressModel",
            "bar_style": "danger",
            "max": 25000,
            "_view_module": "@jupyter-widgets/controls",
            "_model_module_version": "1.5.0",
            "value": 24999,
            "_view_count": null,
            "_view_module_version": "1.5.0",
            "orientation": "horizontal",
            "min": 0,
            "description_tooltip": null,
            "_model_module": "@jupyter-widgets/controls",
            "layout": "IPY_MODEL_586d148d339f458fbcd02f44e2e8f9e7"
          }
        },
        "bdac7d1ceed24d03ad1d00ce9a1d2397": {
          "model_module": "@jupyter-widgets/controls",
          "model_name": "HTMLModel",
          "model_module_version": "1.5.0",
          "state": {
            "_view_name": "HTMLView",
            "style": "IPY_MODEL_a5d1c716cca2419aa004e484439c86fe",
            "_dom_classes": [],
            "description": "",
            "_model_name": "HTMLModel",
            "placeholder": "​",
            "_view_module": "@jupyter-widgets/controls",
            "_model_module_version": "1.5.0",
            "value": " 24999/25000 [00:00&lt;00:00, 115766.07 examples/s]",
            "_view_count": null,
            "_view_module_version": "1.5.0",
            "description_tooltip": null,
            "_model_module": "@jupyter-widgets/controls",
            "layout": "IPY_MODEL_d9c85f46fb894e7abbf99db7327d82c6"
          }
        },
        "cdf26e9c29264dbabb2c71cd1157bca5": {
          "model_module": "@jupyter-widgets/controls",
          "model_name": "DescriptionStyleModel",
          "model_module_version": "1.5.0",
          "state": {
            "_view_name": "StyleView",
            "_model_name": "DescriptionStyleModel",
            "description_width": "",
            "_view_module": "@jupyter-widgets/base",
            "_model_module_version": "1.5.0",
            "_view_count": null,
            "_view_module_version": "1.2.0",
            "_model_module": "@jupyter-widgets/controls"
          }
        },
        "7339fb4e008741d4a65f1b9d7931673a": {
          "model_module": "@jupyter-widgets/base",
          "model_name": "LayoutModel",
          "model_module_version": "1.2.0",
          "state": {
            "_view_name": "LayoutView",
            "grid_template_rows": null,
            "right": null,
            "justify_content": null,
            "_view_module": "@jupyter-widgets/base",
            "overflow": null,
            "_model_module_version": "1.2.0",
            "_view_count": null,
            "flex_flow": null,
            "width": null,
            "min_width": null,
            "border": null,
            "align_items": null,
            "bottom": null,
            "_model_module": "@jupyter-widgets/base",
            "top": null,
            "grid_column": null,
            "overflow_y": null,
            "overflow_x": null,
            "grid_auto_flow": null,
            "grid_area": null,
            "grid_template_columns": null,
            "flex": null,
            "_model_name": "LayoutModel",
            "justify_items": null,
            "grid_row": null,
            "max_height": null,
            "align_content": null,
            "visibility": null,
            "align_self": null,
            "height": null,
            "min_height": null,
            "padding": null,
            "grid_auto_rows": null,
            "grid_gap": null,
            "max_width": null,
            "order": null,
            "_view_module_version": "1.2.0",
            "grid_template_areas": null,
            "object_position": null,
            "object_fit": null,
            "grid_auto_columns": null,
            "margin": null,
            "display": null,
            "left": null
          }
        },
        "279f81f492c64836888fdb1f4f655c42": {
          "model_module": "@jupyter-widgets/controls",
          "model_name": "ProgressStyleModel",
          "model_module_version": "1.5.0",
          "state": {
            "_view_name": "StyleView",
            "_model_name": "ProgressStyleModel",
            "description_width": "",
            "_view_module": "@jupyter-widgets/base",
            "_model_module_version": "1.5.0",
            "_view_count": null,
            "_view_module_version": "1.2.0",
            "bar_color": null,
            "_model_module": "@jupyter-widgets/controls"
          }
        },
        "586d148d339f458fbcd02f44e2e8f9e7": {
          "model_module": "@jupyter-widgets/base",
          "model_name": "LayoutModel",
          "model_module_version": "1.2.0",
          "state": {
            "_view_name": "LayoutView",
            "grid_template_rows": null,
            "right": null,
            "justify_content": null,
            "_view_module": "@jupyter-widgets/base",
            "overflow": null,
            "_model_module_version": "1.2.0",
            "_view_count": null,
            "flex_flow": null,
            "width": null,
            "min_width": null,
            "border": null,
            "align_items": null,
            "bottom": null,
            "_model_module": "@jupyter-widgets/base",
            "top": null,
            "grid_column": null,
            "overflow_y": null,
            "overflow_x": null,
            "grid_auto_flow": null,
            "grid_area": null,
            "grid_template_columns": null,
            "flex": null,
            "_model_name": "LayoutModel",
            "justify_items": null,
            "grid_row": null,
            "max_height": null,
            "align_content": null,
            "visibility": null,
            "align_self": null,
            "height": null,
            "min_height": null,
            "padding": null,
            "grid_auto_rows": null,
            "grid_gap": null,
            "max_width": null,
            "order": null,
            "_view_module_version": "1.2.0",
            "grid_template_areas": null,
            "object_position": null,
            "object_fit": null,
            "grid_auto_columns": null,
            "margin": null,
            "display": null,
            "left": null
          }
        },
        "a5d1c716cca2419aa004e484439c86fe": {
          "model_module": "@jupyter-widgets/controls",
          "model_name": "DescriptionStyleModel",
          "model_module_version": "1.5.0",
          "state": {
            "_view_name": "StyleView",
            "_model_name": "DescriptionStyleModel",
            "description_width": "",
            "_view_module": "@jupyter-widgets/base",
            "_model_module_version": "1.5.0",
            "_view_count": null,
            "_view_module_version": "1.2.0",
            "_model_module": "@jupyter-widgets/controls"
          }
        },
        "d9c85f46fb894e7abbf99db7327d82c6": {
          "model_module": "@jupyter-widgets/base",
          "model_name": "LayoutModel",
          "model_module_version": "1.2.0",
          "state": {
            "_view_name": "LayoutView",
            "grid_template_rows": null,
            "right": null,
            "justify_content": null,
            "_view_module": "@jupyter-widgets/base",
            "overflow": null,
            "_model_module_version": "1.2.0",
            "_view_count": null,
            "flex_flow": null,
            "width": null,
            "min_width": null,
            "border": null,
            "align_items": null,
            "bottom": null,
            "_model_module": "@jupyter-widgets/base",
            "top": null,
            "grid_column": null,
            "overflow_y": null,
            "overflow_x": null,
            "grid_auto_flow": null,
            "grid_area": null,
            "grid_template_columns": null,
            "flex": null,
            "_model_name": "LayoutModel",
            "justify_items": null,
            "grid_row": null,
            "max_height": null,
            "align_content": null,
            "visibility": null,
            "align_self": null,
            "height": null,
            "min_height": null,
            "padding": null,
            "grid_auto_rows": null,
            "grid_gap": null,
            "max_width": null,
            "order": null,
            "_view_module_version": "1.2.0",
            "grid_template_areas": null,
            "object_position": null,
            "object_fit": null,
            "grid_auto_columns": null,
            "margin": null,
            "display": null,
            "left": null
          }
        },
        "6650d29550b64f82acbf0ec1bd2ee814": {
          "model_module": "@jupyter-widgets/controls",
          "model_name": "HBoxModel",
          "model_module_version": "1.5.0",
          "state": {
            "_view_name": "HBoxView",
            "_dom_classes": [],
            "_model_name": "HBoxModel",
            "_view_module": "@jupyter-widgets/controls",
            "_model_module_version": "1.5.0",
            "_view_count": null,
            "_view_module_version": "1.5.0",
            "box_style": "",
            "layout": "IPY_MODEL_55f8a3ccd4ac4a03ab797427ff9c4bee",
            "_model_module": "@jupyter-widgets/controls",
            "children": [
              "IPY_MODEL_19264e48214845ebba1183da6c797a0b",
              "IPY_MODEL_bdc52ec158b345b6afcc83206df60dcc",
              "IPY_MODEL_c830f8fd3a4d40419f51059ec304af28"
            ]
          }
        },
        "55f8a3ccd4ac4a03ab797427ff9c4bee": {
          "model_module": "@jupyter-widgets/base",
          "model_name": "LayoutModel",
          "model_module_version": "1.2.0",
          "state": {
            "_view_name": "LayoutView",
            "grid_template_rows": null,
            "right": null,
            "justify_content": null,
            "_view_module": "@jupyter-widgets/base",
            "overflow": null,
            "_model_module_version": "1.2.0",
            "_view_count": null,
            "flex_flow": null,
            "width": null,
            "min_width": null,
            "border": null,
            "align_items": null,
            "bottom": null,
            "_model_module": "@jupyter-widgets/base",
            "top": null,
            "grid_column": null,
            "overflow_y": null,
            "overflow_x": null,
            "grid_auto_flow": null,
            "grid_area": null,
            "grid_template_columns": null,
            "flex": null,
            "_model_name": "LayoutModel",
            "justify_items": null,
            "grid_row": null,
            "max_height": null,
            "align_content": null,
            "visibility": null,
            "align_self": null,
            "height": null,
            "min_height": null,
            "padding": null,
            "grid_auto_rows": null,
            "grid_gap": null,
            "max_width": null,
            "order": null,
            "_view_module_version": "1.2.0",
            "grid_template_areas": null,
            "object_position": null,
            "object_fit": null,
            "grid_auto_columns": null,
            "margin": null,
            "display": null,
            "left": null
          }
        },
        "19264e48214845ebba1183da6c797a0b": {
          "model_module": "@jupyter-widgets/controls",
          "model_name": "HTMLModel",
          "model_module_version": "1.5.0",
          "state": {
            "_view_name": "HTMLView",
            "style": "IPY_MODEL_95c5e8e852014cfdb72512a3980568c1",
            "_dom_classes": [],
            "description": "",
            "_model_name": "HTMLModel",
            "placeholder": "​",
            "_view_module": "@jupyter-widgets/controls",
            "_model_module_version": "1.5.0",
            "value": "",
            "_view_count": null,
            "_view_module_version": "1.5.0",
            "description_tooltip": null,
            "_model_module": "@jupyter-widgets/controls",
            "layout": "IPY_MODEL_a94f9fc17a4b4ff2b65c977ba1d2b768"
          }
        },
        "bdc52ec158b345b6afcc83206df60dcc": {
          "model_module": "@jupyter-widgets/controls",
          "model_name": "FloatProgressModel",
          "model_module_version": "1.5.0",
          "state": {
            "_view_name": "ProgressView",
            "style": "IPY_MODEL_4ba210236198453b9ed03a5eaa859d2e",
            "_dom_classes": [],
            "description": "",
            "_model_name": "FloatProgressModel",
            "bar_style": "info",
            "max": 1,
            "_view_module": "@jupyter-widgets/controls",
            "_model_module_version": "1.5.0",
            "value": 1,
            "_view_count": null,
            "_view_module_version": "1.5.0",
            "orientation": "horizontal",
            "min": 0,
            "description_tooltip": null,
            "_model_module": "@jupyter-widgets/controls",
            "layout": "IPY_MODEL_219b5386b81f483cbede03d36d6a0db5"
          }
        },
        "c830f8fd3a4d40419f51059ec304af28": {
          "model_module": "@jupyter-widgets/controls",
          "model_name": "HTMLModel",
          "model_module_version": "1.5.0",
          "state": {
            "_view_name": "HTMLView",
            "style": "IPY_MODEL_3067eca32a9b44a7abb5f195e8a2a620",
            "_dom_classes": [],
            "description": "",
            "_model_name": "HTMLModel",
            "placeholder": "​",
            "_view_module": "@jupyter-widgets/controls",
            "_model_module_version": "1.5.0",
            "value": " 24857/0 [00:11&lt;00:00, 2427.97 examples/s]",
            "_view_count": null,
            "_view_module_version": "1.5.0",
            "description_tooltip": null,
            "_model_module": "@jupyter-widgets/controls",
            "layout": "IPY_MODEL_c104507a797c4a4ab066448982c3419a"
          }
        },
        "95c5e8e852014cfdb72512a3980568c1": {
          "model_module": "@jupyter-widgets/controls",
          "model_name": "DescriptionStyleModel",
          "model_module_version": "1.5.0",
          "state": {
            "_view_name": "StyleView",
            "_model_name": "DescriptionStyleModel",
            "description_width": "",
            "_view_module": "@jupyter-widgets/base",
            "_model_module_version": "1.5.0",
            "_view_count": null,
            "_view_module_version": "1.2.0",
            "_model_module": "@jupyter-widgets/controls"
          }
        },
        "a94f9fc17a4b4ff2b65c977ba1d2b768": {
          "model_module": "@jupyter-widgets/base",
          "model_name": "LayoutModel",
          "model_module_version": "1.2.0",
          "state": {
            "_view_name": "LayoutView",
            "grid_template_rows": null,
            "right": null,
            "justify_content": null,
            "_view_module": "@jupyter-widgets/base",
            "overflow": null,
            "_model_module_version": "1.2.0",
            "_view_count": null,
            "flex_flow": null,
            "width": null,
            "min_width": null,
            "border": null,
            "align_items": null,
            "bottom": null,
            "_model_module": "@jupyter-widgets/base",
            "top": null,
            "grid_column": null,
            "overflow_y": null,
            "overflow_x": null,
            "grid_auto_flow": null,
            "grid_area": null,
            "grid_template_columns": null,
            "flex": null,
            "_model_name": "LayoutModel",
            "justify_items": null,
            "grid_row": null,
            "max_height": null,
            "align_content": null,
            "visibility": null,
            "align_self": null,
            "height": null,
            "min_height": null,
            "padding": null,
            "grid_auto_rows": null,
            "grid_gap": null,
            "max_width": null,
            "order": null,
            "_view_module_version": "1.2.0",
            "grid_template_areas": null,
            "object_position": null,
            "object_fit": null,
            "grid_auto_columns": null,
            "margin": null,
            "display": null,
            "left": null
          }
        },
        "4ba210236198453b9ed03a5eaa859d2e": {
          "model_module": "@jupyter-widgets/controls",
          "model_name": "ProgressStyleModel",
          "model_module_version": "1.5.0",
          "state": {
            "_view_name": "StyleView",
            "_model_name": "ProgressStyleModel",
            "description_width": "",
            "_view_module": "@jupyter-widgets/base",
            "_model_module_version": "1.5.0",
            "_view_count": null,
            "_view_module_version": "1.2.0",
            "bar_color": null,
            "_model_module": "@jupyter-widgets/controls"
          }
        },
        "219b5386b81f483cbede03d36d6a0db5": {
          "model_module": "@jupyter-widgets/base",
          "model_name": "LayoutModel",
          "model_module_version": "1.2.0",
          "state": {
            "_view_name": "LayoutView",
            "grid_template_rows": null,
            "right": null,
            "justify_content": null,
            "_view_module": "@jupyter-widgets/base",
            "overflow": null,
            "_model_module_version": "1.2.0",
            "_view_count": null,
            "flex_flow": null,
            "width": "20px",
            "min_width": null,
            "border": null,
            "align_items": null,
            "bottom": null,
            "_model_module": "@jupyter-widgets/base",
            "top": null,
            "grid_column": null,
            "overflow_y": null,
            "overflow_x": null,
            "grid_auto_flow": null,
            "grid_area": null,
            "grid_template_columns": null,
            "flex": null,
            "_model_name": "LayoutModel",
            "justify_items": null,
            "grid_row": null,
            "max_height": null,
            "align_content": null,
            "visibility": null,
            "align_self": null,
            "height": null,
            "min_height": null,
            "padding": null,
            "grid_auto_rows": null,
            "grid_gap": null,
            "max_width": null,
            "order": null,
            "_view_module_version": "1.2.0",
            "grid_template_areas": null,
            "object_position": null,
            "object_fit": null,
            "grid_auto_columns": null,
            "margin": null,
            "display": null,
            "left": null
          }
        },
        "3067eca32a9b44a7abb5f195e8a2a620": {
          "model_module": "@jupyter-widgets/controls",
          "model_name": "DescriptionStyleModel",
          "model_module_version": "1.5.0",
          "state": {
            "_view_name": "StyleView",
            "_model_name": "DescriptionStyleModel",
            "description_width": "",
            "_view_module": "@jupyter-widgets/base",
            "_model_module_version": "1.5.0",
            "_view_count": null,
            "_view_module_version": "1.2.0",
            "_model_module": "@jupyter-widgets/controls"
          }
        },
        "c104507a797c4a4ab066448982c3419a": {
          "model_module": "@jupyter-widgets/base",
          "model_name": "LayoutModel",
          "model_module_version": "1.2.0",
          "state": {
            "_view_name": "LayoutView",
            "grid_template_rows": null,
            "right": null,
            "justify_content": null,
            "_view_module": "@jupyter-widgets/base",
            "overflow": null,
            "_model_module_version": "1.2.0",
            "_view_count": null,
            "flex_flow": null,
            "width": null,
            "min_width": null,
            "border": null,
            "align_items": null,
            "bottom": null,
            "_model_module": "@jupyter-widgets/base",
            "top": null,
            "grid_column": null,
            "overflow_y": null,
            "overflow_x": null,
            "grid_auto_flow": null,
            "grid_area": null,
            "grid_template_columns": null,
            "flex": null,
            "_model_name": "LayoutModel",
            "justify_items": null,
            "grid_row": null,
            "max_height": null,
            "align_content": null,
            "visibility": null,
            "align_self": null,
            "height": null,
            "min_height": null,
            "padding": null,
            "grid_auto_rows": null,
            "grid_gap": null,
            "max_width": null,
            "order": null,
            "_view_module_version": "1.2.0",
            "grid_template_areas": null,
            "object_position": null,
            "object_fit": null,
            "grid_auto_columns": null,
            "margin": null,
            "display": null,
            "left": null
          }
        },
        "8311ecdfe937423faeb186b80c5a4b0a": {
          "model_module": "@jupyter-widgets/controls",
          "model_name": "HBoxModel",
          "model_module_version": "1.5.0",
          "state": {
            "_view_name": "HBoxView",
            "_dom_classes": [],
            "_model_name": "HBoxModel",
            "_view_module": "@jupyter-widgets/controls",
            "_model_module_version": "1.5.0",
            "_view_count": null,
            "_view_module_version": "1.5.0",
            "box_style": "",
            "layout": "IPY_MODEL_95c7f9699821439bbefee1be0e5d6672",
            "_model_module": "@jupyter-widgets/controls",
            "children": [
              "IPY_MODEL_1f69768afb49419d80240b1b99176e07",
              "IPY_MODEL_938f021e1c14484cbadcb4190fe1f9ff",
              "IPY_MODEL_ddae89ba9e9747e7bbc558c0a7ed84ad"
            ]
          }
        },
        "95c7f9699821439bbefee1be0e5d6672": {
          "model_module": "@jupyter-widgets/base",
          "model_name": "LayoutModel",
          "model_module_version": "1.2.0",
          "state": {
            "_view_name": "LayoutView",
            "grid_template_rows": null,
            "right": null,
            "justify_content": null,
            "_view_module": "@jupyter-widgets/base",
            "overflow": null,
            "_model_module_version": "1.2.0",
            "_view_count": null,
            "flex_flow": null,
            "width": null,
            "min_width": null,
            "border": null,
            "align_items": null,
            "bottom": null,
            "_model_module": "@jupyter-widgets/base",
            "top": null,
            "grid_column": null,
            "overflow_y": null,
            "overflow_x": null,
            "grid_auto_flow": null,
            "grid_area": null,
            "grid_template_columns": null,
            "flex": null,
            "_model_name": "LayoutModel",
            "justify_items": null,
            "grid_row": null,
            "max_height": null,
            "align_content": null,
            "visibility": null,
            "align_self": null,
            "height": null,
            "min_height": null,
            "padding": null,
            "grid_auto_rows": null,
            "grid_gap": null,
            "max_width": null,
            "order": null,
            "_view_module_version": "1.2.0",
            "grid_template_areas": null,
            "object_position": null,
            "object_fit": null,
            "grid_auto_columns": null,
            "margin": null,
            "display": null,
            "left": null
          }
        },
        "1f69768afb49419d80240b1b99176e07": {
          "model_module": "@jupyter-widgets/controls",
          "model_name": "HTMLModel",
          "model_module_version": "1.5.0",
          "state": {
            "_view_name": "HTMLView",
            "style": "IPY_MODEL_30ea9a6e2f694523954e311308d59aa5",
            "_dom_classes": [],
            "description": "",
            "_model_name": "HTMLModel",
            "placeholder": "​",
            "_view_module": "@jupyter-widgets/controls",
            "_model_module_version": "1.5.0",
            "value": "100%",
            "_view_count": null,
            "_view_module_version": "1.5.0",
            "description_tooltip": null,
            "_model_module": "@jupyter-widgets/controls",
            "layout": "IPY_MODEL_fd2c885569ca4ef38e08cac82cf7fc0a"
          }
        },
        "938f021e1c14484cbadcb4190fe1f9ff": {
          "model_module": "@jupyter-widgets/controls",
          "model_name": "FloatProgressModel",
          "model_module_version": "1.5.0",
          "state": {
            "_view_name": "ProgressView",
            "style": "IPY_MODEL_b2287d137cf849e9b005b017e85b0c6c",
            "_dom_classes": [],
            "description": "",
            "_model_name": "FloatProgressModel",
            "bar_style": "danger",
            "max": 25000,
            "_view_module": "@jupyter-widgets/controls",
            "_model_module_version": "1.5.0",
            "value": 24999,
            "_view_count": null,
            "_view_module_version": "1.5.0",
            "orientation": "horizontal",
            "min": 0,
            "description_tooltip": null,
            "_model_module": "@jupyter-widgets/controls",
            "layout": "IPY_MODEL_eb70e9168fdd42ababb04ab8cd0905a0"
          }
        },
        "ddae89ba9e9747e7bbc558c0a7ed84ad": {
          "model_module": "@jupyter-widgets/controls",
          "model_name": "HTMLModel",
          "model_module_version": "1.5.0",
          "state": {
            "_view_name": "HTMLView",
            "style": "IPY_MODEL_159e09569eac4df4be9322ea37515ab5",
            "_dom_classes": [],
            "description": "",
            "_model_name": "HTMLModel",
            "placeholder": "​",
            "_view_module": "@jupyter-widgets/controls",
            "_model_module_version": "1.5.0",
            "value": " 24999/25000 [00:00&lt;00:00, 114920.33 examples/s]",
            "_view_count": null,
            "_view_module_version": "1.5.0",
            "description_tooltip": null,
            "_model_module": "@jupyter-widgets/controls",
            "layout": "IPY_MODEL_868ee4c4fd4f45cbb2822dbed60d9d76"
          }
        },
        "30ea9a6e2f694523954e311308d59aa5": {
          "model_module": "@jupyter-widgets/controls",
          "model_name": "DescriptionStyleModel",
          "model_module_version": "1.5.0",
          "state": {
            "_view_name": "StyleView",
            "_model_name": "DescriptionStyleModel",
            "description_width": "",
            "_view_module": "@jupyter-widgets/base",
            "_model_module_version": "1.5.0",
            "_view_count": null,
            "_view_module_version": "1.2.0",
            "_model_module": "@jupyter-widgets/controls"
          }
        },
        "fd2c885569ca4ef38e08cac82cf7fc0a": {
          "model_module": "@jupyter-widgets/base",
          "model_name": "LayoutModel",
          "model_module_version": "1.2.0",
          "state": {
            "_view_name": "LayoutView",
            "grid_template_rows": null,
            "right": null,
            "justify_content": null,
            "_view_module": "@jupyter-widgets/base",
            "overflow": null,
            "_model_module_version": "1.2.0",
            "_view_count": null,
            "flex_flow": null,
            "width": null,
            "min_width": null,
            "border": null,
            "align_items": null,
            "bottom": null,
            "_model_module": "@jupyter-widgets/base",
            "top": null,
            "grid_column": null,
            "overflow_y": null,
            "overflow_x": null,
            "grid_auto_flow": null,
            "grid_area": null,
            "grid_template_columns": null,
            "flex": null,
            "_model_name": "LayoutModel",
            "justify_items": null,
            "grid_row": null,
            "max_height": null,
            "align_content": null,
            "visibility": null,
            "align_self": null,
            "height": null,
            "min_height": null,
            "padding": null,
            "grid_auto_rows": null,
            "grid_gap": null,
            "max_width": null,
            "order": null,
            "_view_module_version": "1.2.0",
            "grid_template_areas": null,
            "object_position": null,
            "object_fit": null,
            "grid_auto_columns": null,
            "margin": null,
            "display": null,
            "left": null
          }
        },
        "b2287d137cf849e9b005b017e85b0c6c": {
          "model_module": "@jupyter-widgets/controls",
          "model_name": "ProgressStyleModel",
          "model_module_version": "1.5.0",
          "state": {
            "_view_name": "StyleView",
            "_model_name": "ProgressStyleModel",
            "description_width": "",
            "_view_module": "@jupyter-widgets/base",
            "_model_module_version": "1.5.0",
            "_view_count": null,
            "_view_module_version": "1.2.0",
            "bar_color": null,
            "_model_module": "@jupyter-widgets/controls"
          }
        },
        "eb70e9168fdd42ababb04ab8cd0905a0": {
          "model_module": "@jupyter-widgets/base",
          "model_name": "LayoutModel",
          "model_module_version": "1.2.0",
          "state": {
            "_view_name": "LayoutView",
            "grid_template_rows": null,
            "right": null,
            "justify_content": null,
            "_view_module": "@jupyter-widgets/base",
            "overflow": null,
            "_model_module_version": "1.2.0",
            "_view_count": null,
            "flex_flow": null,
            "width": null,
            "min_width": null,
            "border": null,
            "align_items": null,
            "bottom": null,
            "_model_module": "@jupyter-widgets/base",
            "top": null,
            "grid_column": null,
            "overflow_y": null,
            "overflow_x": null,
            "grid_auto_flow": null,
            "grid_area": null,
            "grid_template_columns": null,
            "flex": null,
            "_model_name": "LayoutModel",
            "justify_items": null,
            "grid_row": null,
            "max_height": null,
            "align_content": null,
            "visibility": null,
            "align_self": null,
            "height": null,
            "min_height": null,
            "padding": null,
            "grid_auto_rows": null,
            "grid_gap": null,
            "max_width": null,
            "order": null,
            "_view_module_version": "1.2.0",
            "grid_template_areas": null,
            "object_position": null,
            "object_fit": null,
            "grid_auto_columns": null,
            "margin": null,
            "display": null,
            "left": null
          }
        },
        "159e09569eac4df4be9322ea37515ab5": {
          "model_module": "@jupyter-widgets/controls",
          "model_name": "DescriptionStyleModel",
          "model_module_version": "1.5.0",
          "state": {
            "_view_name": "StyleView",
            "_model_name": "DescriptionStyleModel",
            "description_width": "",
            "_view_module": "@jupyter-widgets/base",
            "_model_module_version": "1.5.0",
            "_view_count": null,
            "_view_module_version": "1.2.0",
            "_model_module": "@jupyter-widgets/controls"
          }
        },
        "868ee4c4fd4f45cbb2822dbed60d9d76": {
          "model_module": "@jupyter-widgets/base",
          "model_name": "LayoutModel",
          "model_module_version": "1.2.0",
          "state": {
            "_view_name": "LayoutView",
            "grid_template_rows": null,
            "right": null,
            "justify_content": null,
            "_view_module": "@jupyter-widgets/base",
            "overflow": null,
            "_model_module_version": "1.2.0",
            "_view_count": null,
            "flex_flow": null,
            "width": null,
            "min_width": null,
            "border": null,
            "align_items": null,
            "bottom": null,
            "_model_module": "@jupyter-widgets/base",
            "top": null,
            "grid_column": null,
            "overflow_y": null,
            "overflow_x": null,
            "grid_auto_flow": null,
            "grid_area": null,
            "grid_template_columns": null,
            "flex": null,
            "_model_name": "LayoutModel",
            "justify_items": null,
            "grid_row": null,
            "max_height": null,
            "align_content": null,
            "visibility": null,
            "align_self": null,
            "height": null,
            "min_height": null,
            "padding": null,
            "grid_auto_rows": null,
            "grid_gap": null,
            "max_width": null,
            "order": null,
            "_view_module_version": "1.2.0",
            "grid_template_areas": null,
            "object_position": null,
            "object_fit": null,
            "grid_auto_columns": null,
            "margin": null,
            "display": null,
            "left": null
          }
        },
        "aafdbace09cb4eb98a61637c7a99dbeb": {
          "model_module": "@jupyter-widgets/controls",
          "model_name": "HBoxModel",
          "model_module_version": "1.5.0",
          "state": {
            "_view_name": "HBoxView",
            "_dom_classes": [],
            "_model_name": "HBoxModel",
            "_view_module": "@jupyter-widgets/controls",
            "_model_module_version": "1.5.0",
            "_view_count": null,
            "_view_module_version": "1.5.0",
            "box_style": "",
            "layout": "IPY_MODEL_be68eb3183874c4d86e879f660f27ed3",
            "_model_module": "@jupyter-widgets/controls",
            "children": [
              "IPY_MODEL_73a48de7acc1409cada4e8006fd91a03",
              "IPY_MODEL_93b88e9932ea4458b040388c6f539164",
              "IPY_MODEL_478cfc323ee540db972d360659436ea4"
            ]
          }
        },
        "be68eb3183874c4d86e879f660f27ed3": {
          "model_module": "@jupyter-widgets/base",
          "model_name": "LayoutModel",
          "model_module_version": "1.2.0",
          "state": {
            "_view_name": "LayoutView",
            "grid_template_rows": null,
            "right": null,
            "justify_content": null,
            "_view_module": "@jupyter-widgets/base",
            "overflow": null,
            "_model_module_version": "1.2.0",
            "_view_count": null,
            "flex_flow": null,
            "width": null,
            "min_width": null,
            "border": null,
            "align_items": null,
            "bottom": null,
            "_model_module": "@jupyter-widgets/base",
            "top": null,
            "grid_column": null,
            "overflow_y": null,
            "overflow_x": null,
            "grid_auto_flow": null,
            "grid_area": null,
            "grid_template_columns": null,
            "flex": null,
            "_model_name": "LayoutModel",
            "justify_items": null,
            "grid_row": null,
            "max_height": null,
            "align_content": null,
            "visibility": null,
            "align_self": null,
            "height": null,
            "min_height": null,
            "padding": null,
            "grid_auto_rows": null,
            "grid_gap": null,
            "max_width": null,
            "order": null,
            "_view_module_version": "1.2.0",
            "grid_template_areas": null,
            "object_position": null,
            "object_fit": null,
            "grid_auto_columns": null,
            "margin": null,
            "display": null,
            "left": null
          }
        },
        "73a48de7acc1409cada4e8006fd91a03": {
          "model_module": "@jupyter-widgets/controls",
          "model_name": "HTMLModel",
          "model_module_version": "1.5.0",
          "state": {
            "_view_name": "HTMLView",
            "style": "IPY_MODEL_3d97d9d3158149dea553597d33314cc4",
            "_dom_classes": [],
            "description": "",
            "_model_name": "HTMLModel",
            "placeholder": "​",
            "_view_module": "@jupyter-widgets/controls",
            "_model_module_version": "1.5.0",
            "value": "",
            "_view_count": null,
            "_view_module_version": "1.5.0",
            "description_tooltip": null,
            "_model_module": "@jupyter-widgets/controls",
            "layout": "IPY_MODEL_cf410016bae441619bd99f9ba8cc39ad"
          }
        },
        "93b88e9932ea4458b040388c6f539164": {
          "model_module": "@jupyter-widgets/controls",
          "model_name": "FloatProgressModel",
          "model_module_version": "1.5.0",
          "state": {
            "_view_name": "ProgressView",
            "style": "IPY_MODEL_1f4695b3c4e2426492d8ffa44ebc43c9",
            "_dom_classes": [],
            "description": "",
            "_model_name": "FloatProgressModel",
            "bar_style": "info",
            "max": 1,
            "_view_module": "@jupyter-widgets/controls",
            "_model_module_version": "1.5.0",
            "value": 1,
            "_view_count": null,
            "_view_module_version": "1.5.0",
            "orientation": "horizontal",
            "min": 0,
            "description_tooltip": null,
            "_model_module": "@jupyter-widgets/controls",
            "layout": "IPY_MODEL_b6db443e8d844f83bee014b49228a70b"
          }
        },
        "478cfc323ee540db972d360659436ea4": {
          "model_module": "@jupyter-widgets/controls",
          "model_name": "HTMLModel",
          "model_module_version": "1.5.0",
          "state": {
            "_view_name": "HTMLView",
            "style": "IPY_MODEL_b6e30e8138ce45e49157def21e74c766",
            "_dom_classes": [],
            "description": "",
            "_model_name": "HTMLModel",
            "placeholder": "​",
            "_view_module": "@jupyter-widgets/controls",
            "_model_module_version": "1.5.0",
            "value": " 49761/0 [00:26&lt;00:00, 2450.07 examples/s]",
            "_view_count": null,
            "_view_module_version": "1.5.0",
            "description_tooltip": null,
            "_model_module": "@jupyter-widgets/controls",
            "layout": "IPY_MODEL_a9c7eecbcda948fda3f2139e42777f1c"
          }
        },
        "3d97d9d3158149dea553597d33314cc4": {
          "model_module": "@jupyter-widgets/controls",
          "model_name": "DescriptionStyleModel",
          "model_module_version": "1.5.0",
          "state": {
            "_view_name": "StyleView",
            "_model_name": "DescriptionStyleModel",
            "description_width": "",
            "_view_module": "@jupyter-widgets/base",
            "_model_module_version": "1.5.0",
            "_view_count": null,
            "_view_module_version": "1.2.0",
            "_model_module": "@jupyter-widgets/controls"
          }
        },
        "cf410016bae441619bd99f9ba8cc39ad": {
          "model_module": "@jupyter-widgets/base",
          "model_name": "LayoutModel",
          "model_module_version": "1.2.0",
          "state": {
            "_view_name": "LayoutView",
            "grid_template_rows": null,
            "right": null,
            "justify_content": null,
            "_view_module": "@jupyter-widgets/base",
            "overflow": null,
            "_model_module_version": "1.2.0",
            "_view_count": null,
            "flex_flow": null,
            "width": null,
            "min_width": null,
            "border": null,
            "align_items": null,
            "bottom": null,
            "_model_module": "@jupyter-widgets/base",
            "top": null,
            "grid_column": null,
            "overflow_y": null,
            "overflow_x": null,
            "grid_auto_flow": null,
            "grid_area": null,
            "grid_template_columns": null,
            "flex": null,
            "_model_name": "LayoutModel",
            "justify_items": null,
            "grid_row": null,
            "max_height": null,
            "align_content": null,
            "visibility": null,
            "align_self": null,
            "height": null,
            "min_height": null,
            "padding": null,
            "grid_auto_rows": null,
            "grid_gap": null,
            "max_width": null,
            "order": null,
            "_view_module_version": "1.2.0",
            "grid_template_areas": null,
            "object_position": null,
            "object_fit": null,
            "grid_auto_columns": null,
            "margin": null,
            "display": null,
            "left": null
          }
        },
        "1f4695b3c4e2426492d8ffa44ebc43c9": {
          "model_module": "@jupyter-widgets/controls",
          "model_name": "ProgressStyleModel",
          "model_module_version": "1.5.0",
          "state": {
            "_view_name": "StyleView",
            "_model_name": "ProgressStyleModel",
            "description_width": "",
            "_view_module": "@jupyter-widgets/base",
            "_model_module_version": "1.5.0",
            "_view_count": null,
            "_view_module_version": "1.2.0",
            "bar_color": null,
            "_model_module": "@jupyter-widgets/controls"
          }
        },
        "b6db443e8d844f83bee014b49228a70b": {
          "model_module": "@jupyter-widgets/base",
          "model_name": "LayoutModel",
          "model_module_version": "1.2.0",
          "state": {
            "_view_name": "LayoutView",
            "grid_template_rows": null,
            "right": null,
            "justify_content": null,
            "_view_module": "@jupyter-widgets/base",
            "overflow": null,
            "_model_module_version": "1.2.0",
            "_view_count": null,
            "flex_flow": null,
            "width": "20px",
            "min_width": null,
            "border": null,
            "align_items": null,
            "bottom": null,
            "_model_module": "@jupyter-widgets/base",
            "top": null,
            "grid_column": null,
            "overflow_y": null,
            "overflow_x": null,
            "grid_auto_flow": null,
            "grid_area": null,
            "grid_template_columns": null,
            "flex": null,
            "_model_name": "LayoutModel",
            "justify_items": null,
            "grid_row": null,
            "max_height": null,
            "align_content": null,
            "visibility": null,
            "align_self": null,
            "height": null,
            "min_height": null,
            "padding": null,
            "grid_auto_rows": null,
            "grid_gap": null,
            "max_width": null,
            "order": null,
            "_view_module_version": "1.2.0",
            "grid_template_areas": null,
            "object_position": null,
            "object_fit": null,
            "grid_auto_columns": null,
            "margin": null,
            "display": null,
            "left": null
          }
        },
        "b6e30e8138ce45e49157def21e74c766": {
          "model_module": "@jupyter-widgets/controls",
          "model_name": "DescriptionStyleModel",
          "model_module_version": "1.5.0",
          "state": {
            "_view_name": "StyleView",
            "_model_name": "DescriptionStyleModel",
            "description_width": "",
            "_view_module": "@jupyter-widgets/base",
            "_model_module_version": "1.5.0",
            "_view_count": null,
            "_view_module_version": "1.2.0",
            "_model_module": "@jupyter-widgets/controls"
          }
        },
        "a9c7eecbcda948fda3f2139e42777f1c": {
          "model_module": "@jupyter-widgets/base",
          "model_name": "LayoutModel",
          "model_module_version": "1.2.0",
          "state": {
            "_view_name": "LayoutView",
            "grid_template_rows": null,
            "right": null,
            "justify_content": null,
            "_view_module": "@jupyter-widgets/base",
            "overflow": null,
            "_model_module_version": "1.2.0",
            "_view_count": null,
            "flex_flow": null,
            "width": null,
            "min_width": null,
            "border": null,
            "align_items": null,
            "bottom": null,
            "_model_module": "@jupyter-widgets/base",
            "top": null,
            "grid_column": null,
            "overflow_y": null,
            "overflow_x": null,
            "grid_auto_flow": null,
            "grid_area": null,
            "grid_template_columns": null,
            "flex": null,
            "_model_name": "LayoutModel",
            "justify_items": null,
            "grid_row": null,
            "max_height": null,
            "align_content": null,
            "visibility": null,
            "align_self": null,
            "height": null,
            "min_height": null,
            "padding": null,
            "grid_auto_rows": null,
            "grid_gap": null,
            "max_width": null,
            "order": null,
            "_view_module_version": "1.2.0",
            "grid_template_areas": null,
            "object_position": null,
            "object_fit": null,
            "grid_auto_columns": null,
            "margin": null,
            "display": null,
            "left": null
          }
        },
        "fc115c5fecbb49f181956c3d5d0f4461": {
          "model_module": "@jupyter-widgets/controls",
          "model_name": "HBoxModel",
          "model_module_version": "1.5.0",
          "state": {
            "_view_name": "HBoxView",
            "_dom_classes": [],
            "_model_name": "HBoxModel",
            "_view_module": "@jupyter-widgets/controls",
            "_model_module_version": "1.5.0",
            "_view_count": null,
            "_view_module_version": "1.5.0",
            "box_style": "",
            "layout": "IPY_MODEL_a64b18fbc3464aedb7300f8f6b73b323",
            "_model_module": "@jupyter-widgets/controls",
            "children": [
              "IPY_MODEL_a3c29cd45520438dae2dec5d3e3c9410",
              "IPY_MODEL_c8b815d1dcde4b35ad246192727e2e76",
              "IPY_MODEL_f32680d4290249ce9cbf24b3ef636531"
            ]
          }
        },
        "a64b18fbc3464aedb7300f8f6b73b323": {
          "model_module": "@jupyter-widgets/base",
          "model_name": "LayoutModel",
          "model_module_version": "1.2.0",
          "state": {
            "_view_name": "LayoutView",
            "grid_template_rows": null,
            "right": null,
            "justify_content": null,
            "_view_module": "@jupyter-widgets/base",
            "overflow": null,
            "_model_module_version": "1.2.0",
            "_view_count": null,
            "flex_flow": null,
            "width": null,
            "min_width": null,
            "border": null,
            "align_items": null,
            "bottom": null,
            "_model_module": "@jupyter-widgets/base",
            "top": null,
            "grid_column": null,
            "overflow_y": null,
            "overflow_x": null,
            "grid_auto_flow": null,
            "grid_area": null,
            "grid_template_columns": null,
            "flex": null,
            "_model_name": "LayoutModel",
            "justify_items": null,
            "grid_row": null,
            "max_height": null,
            "align_content": null,
            "visibility": null,
            "align_self": null,
            "height": null,
            "min_height": null,
            "padding": null,
            "grid_auto_rows": null,
            "grid_gap": null,
            "max_width": null,
            "order": null,
            "_view_module_version": "1.2.0",
            "grid_template_areas": null,
            "object_position": null,
            "object_fit": null,
            "grid_auto_columns": null,
            "margin": null,
            "display": null,
            "left": null
          }
        },
        "a3c29cd45520438dae2dec5d3e3c9410": {
          "model_module": "@jupyter-widgets/controls",
          "model_name": "HTMLModel",
          "model_module_version": "1.5.0",
          "state": {
            "_view_name": "HTMLView",
            "style": "IPY_MODEL_78a8f89e8da24a559936792973d3b553",
            "_dom_classes": [],
            "description": "",
            "_model_name": "HTMLModel",
            "placeholder": "​",
            "_view_module": "@jupyter-widgets/controls",
            "_model_module_version": "1.5.0",
            "value": "100%",
            "_view_count": null,
            "_view_module_version": "1.5.0",
            "description_tooltip": null,
            "_model_module": "@jupyter-widgets/controls",
            "layout": "IPY_MODEL_0708fb76f3ce4ddbbfba857f24d1cbeb"
          }
        },
        "c8b815d1dcde4b35ad246192727e2e76": {
          "model_module": "@jupyter-widgets/controls",
          "model_name": "FloatProgressModel",
          "model_module_version": "1.5.0",
          "state": {
            "_view_name": "ProgressView",
            "style": "IPY_MODEL_696f964aafe741b7b7d69d7be2ea8658",
            "_dom_classes": [],
            "description": "",
            "_model_name": "FloatProgressModel",
            "bar_style": "danger",
            "max": 50000,
            "_view_module": "@jupyter-widgets/controls",
            "_model_module_version": "1.5.0",
            "value": 49999,
            "_view_count": null,
            "_view_module_version": "1.5.0",
            "orientation": "horizontal",
            "min": 0,
            "description_tooltip": null,
            "_model_module": "@jupyter-widgets/controls",
            "layout": "IPY_MODEL_4986ef175009400e8deed2bc54f5a9a7"
          }
        },
        "f32680d4290249ce9cbf24b3ef636531": {
          "model_module": "@jupyter-widgets/controls",
          "model_name": "HTMLModel",
          "model_module_version": "1.5.0",
          "state": {
            "_view_name": "HTMLView",
            "style": "IPY_MODEL_0f6d2281ceda48468a56fa4a58d00f61",
            "_dom_classes": [],
            "description": "",
            "_model_name": "HTMLModel",
            "placeholder": "​",
            "_view_module": "@jupyter-widgets/controls",
            "_model_module_version": "1.5.0",
            "value": " 49999/50000 [00:00&lt;00:00, 152749.27 examples/s]",
            "_view_count": null,
            "_view_module_version": "1.5.0",
            "description_tooltip": null,
            "_model_module": "@jupyter-widgets/controls",
            "layout": "IPY_MODEL_2d264287bd7445519502d64b065481df"
          }
        },
        "78a8f89e8da24a559936792973d3b553": {
          "model_module": "@jupyter-widgets/controls",
          "model_name": "DescriptionStyleModel",
          "model_module_version": "1.5.0",
          "state": {
            "_view_name": "StyleView",
            "_model_name": "DescriptionStyleModel",
            "description_width": "",
            "_view_module": "@jupyter-widgets/base",
            "_model_module_version": "1.5.0",
            "_view_count": null,
            "_view_module_version": "1.2.0",
            "_model_module": "@jupyter-widgets/controls"
          }
        },
        "0708fb76f3ce4ddbbfba857f24d1cbeb": {
          "model_module": "@jupyter-widgets/base",
          "model_name": "LayoutModel",
          "model_module_version": "1.2.0",
          "state": {
            "_view_name": "LayoutView",
            "grid_template_rows": null,
            "right": null,
            "justify_content": null,
            "_view_module": "@jupyter-widgets/base",
            "overflow": null,
            "_model_module_version": "1.2.0",
            "_view_count": null,
            "flex_flow": null,
            "width": null,
            "min_width": null,
            "border": null,
            "align_items": null,
            "bottom": null,
            "_model_module": "@jupyter-widgets/base",
            "top": null,
            "grid_column": null,
            "overflow_y": null,
            "overflow_x": null,
            "grid_auto_flow": null,
            "grid_area": null,
            "grid_template_columns": null,
            "flex": null,
            "_model_name": "LayoutModel",
            "justify_items": null,
            "grid_row": null,
            "max_height": null,
            "align_content": null,
            "visibility": null,
            "align_self": null,
            "height": null,
            "min_height": null,
            "padding": null,
            "grid_auto_rows": null,
            "grid_gap": null,
            "max_width": null,
            "order": null,
            "_view_module_version": "1.2.0",
            "grid_template_areas": null,
            "object_position": null,
            "object_fit": null,
            "grid_auto_columns": null,
            "margin": null,
            "display": null,
            "left": null
          }
        },
        "696f964aafe741b7b7d69d7be2ea8658": {
          "model_module": "@jupyter-widgets/controls",
          "model_name": "ProgressStyleModel",
          "model_module_version": "1.5.0",
          "state": {
            "_view_name": "StyleView",
            "_model_name": "ProgressStyleModel",
            "description_width": "",
            "_view_module": "@jupyter-widgets/base",
            "_model_module_version": "1.5.0",
            "_view_count": null,
            "_view_module_version": "1.2.0",
            "bar_color": null,
            "_model_module": "@jupyter-widgets/controls"
          }
        },
        "4986ef175009400e8deed2bc54f5a9a7": {
          "model_module": "@jupyter-widgets/base",
          "model_name": "LayoutModel",
          "model_module_version": "1.2.0",
          "state": {
            "_view_name": "LayoutView",
            "grid_template_rows": null,
            "right": null,
            "justify_content": null,
            "_view_module": "@jupyter-widgets/base",
            "overflow": null,
            "_model_module_version": "1.2.0",
            "_view_count": null,
            "flex_flow": null,
            "width": null,
            "min_width": null,
            "border": null,
            "align_items": null,
            "bottom": null,
            "_model_module": "@jupyter-widgets/base",
            "top": null,
            "grid_column": null,
            "overflow_y": null,
            "overflow_x": null,
            "grid_auto_flow": null,
            "grid_area": null,
            "grid_template_columns": null,
            "flex": null,
            "_model_name": "LayoutModel",
            "justify_items": null,
            "grid_row": null,
            "max_height": null,
            "align_content": null,
            "visibility": null,
            "align_self": null,
            "height": null,
            "min_height": null,
            "padding": null,
            "grid_auto_rows": null,
            "grid_gap": null,
            "max_width": null,
            "order": null,
            "_view_module_version": "1.2.0",
            "grid_template_areas": null,
            "object_position": null,
            "object_fit": null,
            "grid_auto_columns": null,
            "margin": null,
            "display": null,
            "left": null
          }
        },
        "0f6d2281ceda48468a56fa4a58d00f61": {
          "model_module": "@jupyter-widgets/controls",
          "model_name": "DescriptionStyleModel",
          "model_module_version": "1.5.0",
          "state": {
            "_view_name": "StyleView",
            "_model_name": "DescriptionStyleModel",
            "description_width": "",
            "_view_module": "@jupyter-widgets/base",
            "_model_module_version": "1.5.0",
            "_view_count": null,
            "_view_module_version": "1.2.0",
            "_model_module": "@jupyter-widgets/controls"
          }
        },
        "2d264287bd7445519502d64b065481df": {
          "model_module": "@jupyter-widgets/base",
          "model_name": "LayoutModel",
          "model_module_version": "1.2.0",
          "state": {
            "_view_name": "LayoutView",
            "grid_template_rows": null,
            "right": null,
            "justify_content": null,
            "_view_module": "@jupyter-widgets/base",
            "overflow": null,
            "_model_module_version": "1.2.0",
            "_view_count": null,
            "flex_flow": null,
            "width": null,
            "min_width": null,
            "border": null,
            "align_items": null,
            "bottom": null,
            "_model_module": "@jupyter-widgets/base",
            "top": null,
            "grid_column": null,
            "overflow_y": null,
            "overflow_x": null,
            "grid_auto_flow": null,
            "grid_area": null,
            "grid_template_columns": null,
            "flex": null,
            "_model_name": "LayoutModel",
            "justify_items": null,
            "grid_row": null,
            "max_height": null,
            "align_content": null,
            "visibility": null,
            "align_self": null,
            "height": null,
            "min_height": null,
            "padding": null,
            "grid_auto_rows": null,
            "grid_gap": null,
            "max_width": null,
            "order": null,
            "_view_module_version": "1.2.0",
            "grid_template_areas": null,
            "object_position": null,
            "object_fit": null,
            "grid_auto_columns": null,
            "margin": null,
            "display": null,
            "left": null
          }
        }
      }
    }
  },
  "cells": [
    {
      "cell_type": "markdown",
      "source": [
        "# IMDb 영화 리뷰의 감성 분석\n",
        "* 다대일(many-to-one) 구조의 다층 RNN 구현\n",
        "\n",
        "### 영화 리뷰 데이터 준비"
      ],
      "metadata": {
        "id": "TMQ0pUNUiE9d"
      }
    },
    {
      "cell_type": "code",
      "execution_count": 1,
      "metadata": {
        "id": "gZE4-1vAgj33"
      },
      "outputs": [],
      "source": [
        "import tensorflow as tf\n",
        "import tensorflow_datasets as tfds\n",
        "import numpy as np\n",
        "import pandas as pd"
      ]
    },
    {
      "cell_type": "code",
      "source": [
        "!wget https://github.com/rickiepark/python-machine-learning-book-3rd-edition/raw/master/ch08/movie_data.csv.gz"
      ],
      "metadata": {
        "colab": {
          "base_uri": "https://localhost:8080/"
        },
        "id": "uiP6eJr9hVZ1",
        "outputId": "26b25e65-767d-4000-96b7-86298d900f87"
      },
      "execution_count": 2,
      "outputs": [
        {
          "output_type": "stream",
          "name": "stdout",
          "text": [
            "--2022-02-16 07:33:15--  https://github.com/rickiepark/python-machine-learning-book-3rd-edition/raw/master/ch08/movie_data.csv.gz\n",
            "Resolving github.com (github.com)... 140.82.113.3\n",
            "Connecting to github.com (github.com)|140.82.113.3|:443... connected.\n",
            "HTTP request sent, awaiting response... 302 Found\n",
            "Location: https://raw.githubusercontent.com/rickiepark/python-machine-learning-book-3rd-edition/master/ch08/movie_data.csv.gz [following]\n",
            "--2022-02-16 07:33:15--  https://raw.githubusercontent.com/rickiepark/python-machine-learning-book-3rd-edition/master/ch08/movie_data.csv.gz\n",
            "Resolving raw.githubusercontent.com (raw.githubusercontent.com)... 185.199.108.133, 185.199.110.133, 185.199.111.133, ...\n",
            "Connecting to raw.githubusercontent.com (raw.githubusercontent.com)|185.199.108.133|:443... connected.\n",
            "HTTP request sent, awaiting response... 200 OK\n",
            "Length: 26521894 (25M) [application/octet-stream]\n",
            "Saving to: ‘movie_data.csv.gz’\n",
            "\n",
            "movie_data.csv.gz   100%[===================>]  25.29M   108MB/s    in 0.2s    \n",
            "\n",
            "2022-02-16 07:33:16 (108 MB/s) - ‘movie_data.csv.gz’ saved [26521894/26521894]\n",
            "\n"
          ]
        }
      ]
    },
    {
      "cell_type": "code",
      "source": [
        "import os\n",
        "import gzip\n",
        "import shutil\n",
        "\n",
        "with gzip.open('movie_data.csv.gz', 'rb') as f_in, open('movie_data.csv', 'wb') as f_out:\n",
        "    shutil.copyfileobj(f_in, f_out)"
      ],
      "metadata": {
        "id": "ZhwGE1BZhoJk"
      },
      "execution_count": 3,
      "outputs": []
    },
    {
      "cell_type": "code",
      "source": [
        "df = pd.read_csv('movie_data.csv', encoding='utf-8')\n",
        "df.tail()"
      ],
      "metadata": {
        "colab": {
          "base_uri": "https://localhost:8080/",
          "height": 206
        },
        "id": "5SlEMBzxh5M0",
        "outputId": "3a8ae237-76f8-49f9-91c2-35773bfddab4"
      },
      "execution_count": 4,
      "outputs": [
        {
          "output_type": "execute_result",
          "data": {
            "text/html": [
              "\n",
              "  <div id=\"df-baa3e5e5-dc10-46b1-beec-5992fb6e1209\">\n",
              "    <div class=\"colab-df-container\">\n",
              "      <div>\n",
              "<style scoped>\n",
              "    .dataframe tbody tr th:only-of-type {\n",
              "        vertical-align: middle;\n",
              "    }\n",
              "\n",
              "    .dataframe tbody tr th {\n",
              "        vertical-align: top;\n",
              "    }\n",
              "\n",
              "    .dataframe thead th {\n",
              "        text-align: right;\n",
              "    }\n",
              "</style>\n",
              "<table border=\"1\" class=\"dataframe\">\n",
              "  <thead>\n",
              "    <tr style=\"text-align: right;\">\n",
              "      <th></th>\n",
              "      <th>review</th>\n",
              "      <th>sentiment</th>\n",
              "    </tr>\n",
              "  </thead>\n",
              "  <tbody>\n",
              "    <tr>\n",
              "      <th>49995</th>\n",
              "      <td>OK, lets start with the best. the building. al...</td>\n",
              "      <td>0</td>\n",
              "    </tr>\n",
              "    <tr>\n",
              "      <th>49996</th>\n",
              "      <td>The British 'heritage film' industry is out of...</td>\n",
              "      <td>0</td>\n",
              "    </tr>\n",
              "    <tr>\n",
              "      <th>49997</th>\n",
              "      <td>I don't even know where to begin on this one. ...</td>\n",
              "      <td>0</td>\n",
              "    </tr>\n",
              "    <tr>\n",
              "      <th>49998</th>\n",
              "      <td>Richard Tyler is a little boy who is scared of...</td>\n",
              "      <td>0</td>\n",
              "    </tr>\n",
              "    <tr>\n",
              "      <th>49999</th>\n",
              "      <td>I waited long to watch this movie. Also becaus...</td>\n",
              "      <td>1</td>\n",
              "    </tr>\n",
              "  </tbody>\n",
              "</table>\n",
              "</div>\n",
              "      <button class=\"colab-df-convert\" onclick=\"convertToInteractive('df-baa3e5e5-dc10-46b1-beec-5992fb6e1209')\"\n",
              "              title=\"Convert this dataframe to an interactive table.\"\n",
              "              style=\"display:none;\">\n",
              "        \n",
              "  <svg xmlns=\"http://www.w3.org/2000/svg\" height=\"24px\"viewBox=\"0 0 24 24\"\n",
              "       width=\"24px\">\n",
              "    <path d=\"M0 0h24v24H0V0z\" fill=\"none\"/>\n",
              "    <path d=\"M18.56 5.44l.94 2.06.94-2.06 2.06-.94-2.06-.94-.94-2.06-.94 2.06-2.06.94zm-11 1L8.5 8.5l.94-2.06 2.06-.94-2.06-.94L8.5 2.5l-.94 2.06-2.06.94zm10 10l.94 2.06.94-2.06 2.06-.94-2.06-.94-.94-2.06-.94 2.06-2.06.94z\"/><path d=\"M17.41 7.96l-1.37-1.37c-.4-.4-.92-.59-1.43-.59-.52 0-1.04.2-1.43.59L10.3 9.45l-7.72 7.72c-.78.78-.78 2.05 0 2.83L4 21.41c.39.39.9.59 1.41.59.51 0 1.02-.2 1.41-.59l7.78-7.78 2.81-2.81c.8-.78.8-2.07 0-2.86zM5.41 20L4 18.59l7.72-7.72 1.47 1.35L5.41 20z\"/>\n",
              "  </svg>\n",
              "      </button>\n",
              "      \n",
              "  <style>\n",
              "    .colab-df-container {\n",
              "      display:flex;\n",
              "      flex-wrap:wrap;\n",
              "      gap: 12px;\n",
              "    }\n",
              "\n",
              "    .colab-df-convert {\n",
              "      background-color: #E8F0FE;\n",
              "      border: none;\n",
              "      border-radius: 50%;\n",
              "      cursor: pointer;\n",
              "      display: none;\n",
              "      fill: #1967D2;\n",
              "      height: 32px;\n",
              "      padding: 0 0 0 0;\n",
              "      width: 32px;\n",
              "    }\n",
              "\n",
              "    .colab-df-convert:hover {\n",
              "      background-color: #E2EBFA;\n",
              "      box-shadow: 0px 1px 2px rgba(60, 64, 67, 0.3), 0px 1px 3px 1px rgba(60, 64, 67, 0.15);\n",
              "      fill: #174EA6;\n",
              "    }\n",
              "\n",
              "    [theme=dark] .colab-df-convert {\n",
              "      background-color: #3B4455;\n",
              "      fill: #D2E3FC;\n",
              "    }\n",
              "\n",
              "    [theme=dark] .colab-df-convert:hover {\n",
              "      background-color: #434B5C;\n",
              "      box-shadow: 0px 1px 3px 1px rgba(0, 0, 0, 0.15);\n",
              "      filter: drop-shadow(0px 1px 2px rgba(0, 0, 0, 0.3));\n",
              "      fill: #FFFFFF;\n",
              "    }\n",
              "  </style>\n",
              "\n",
              "      <script>\n",
              "        const buttonEl =\n",
              "          document.querySelector('#df-baa3e5e5-dc10-46b1-beec-5992fb6e1209 button.colab-df-convert');\n",
              "        buttonEl.style.display =\n",
              "          google.colab.kernel.accessAllowed ? 'block' : 'none';\n",
              "\n",
              "        async function convertToInteractive(key) {\n",
              "          const element = document.querySelector('#df-baa3e5e5-dc10-46b1-beec-5992fb6e1209');\n",
              "          const dataTable =\n",
              "            await google.colab.kernel.invokeFunction('convertToInteractive',\n",
              "                                                     [key], {});\n",
              "          if (!dataTable) return;\n",
              "\n",
              "          const docLinkHtml = 'Like what you see? Visit the ' +\n",
              "            '<a target=\"_blank\" href=https://colab.research.google.com/notebooks/data_table.ipynb>data table notebook</a>'\n",
              "            + ' to learn more about interactive tables.';\n",
              "          element.innerHTML = '';\n",
              "          dataTable['output_type'] = 'display_data';\n",
              "          await google.colab.output.renderOutput(dataTable, element);\n",
              "          const docLink = document.createElement('div');\n",
              "          docLink.innerHTML = docLinkHtml;\n",
              "          element.appendChild(docLink);\n",
              "        }\n",
              "      </script>\n",
              "    </div>\n",
              "  </div>\n",
              "  "
            ],
            "text/plain": [
              "                                                  review  sentiment\n",
              "49995  OK, lets start with the best. the building. al...          0\n",
              "49996  The British 'heritage film' industry is out of...          0\n",
              "49997  I don't even know where to begin on this one. ...          0\n",
              "49998  Richard Tyler is a little boy who is scared of...          0\n",
              "49999  I waited long to watch this movie. Also becaus...          1"
            ]
          },
          "metadata": {},
          "execution_count": 4
        }
      ]
    },
    {
      "cell_type": "markdown",
      "source": [
        "데이터프레임 df에는 'review'와 'sentiment' 두 개의 컬럼이 있다.\n",
        "\n",
        "* 'review': 영화 리뷰 텍스트(입력 특성)\n",
        "* 'sentimant': 예측하려는 타깃 레이블(0은 부정적인 리뷰, 1은 긍적적인 리뷰)\n",
        "\n",
        "#### 데이터 전처리\n",
        "1. 텐서플로 데이터셋 객체를 만들고 훈련, 테스트, 검증 데이텃세으로 나눈다.\n",
        "2. 훈련 데이터셋에 있는 고유한 단어를 찾는다.\n",
        "3. 고유한 단어를 고유한 정수로 매핑하고 리뷰 텍스트를 정수(고유 단어의 인덱스) 배열로 인코딩\n",
        "4. 모델에 입력하기 위해 데이터셋을 미니 배치로 나눈다."
      ],
      "metadata": {
        "id": "Yg-FOxGcigU0"
      }
    },
    {
      "cell_type": "code",
      "source": [
        "# 1 단계: 데이터셋 만들기\n",
        "target  = df.pop('sentiment')\n",
        "ds_raw = tf.data.Dataset.from_tensor_slices(\n",
        "    (df.values, target.values))\n",
        "\n",
        "# 확인\n",
        "for ex in ds_raw.take(3):\n",
        "    tf.print(ex[0].numpy()[0][:50], ex[1])"
      ],
      "metadata": {
        "colab": {
          "base_uri": "https://localhost:8080/"
        },
        "id": "x7mWFp_ciBrl",
        "outputId": "95470d20-9d9d-4325-cbd6-30d76bda2994"
      },
      "execution_count": 5,
      "outputs": [
        {
          "output_type": "stream",
          "name": "stdout",
          "text": [
            "b'In 1974, the teenager Martha Moxley (Maggie Grace)' 1\n",
            "b'OK... so... I really like Kris Kristofferson and h' 0\n",
            "b'***SPOILER*** Do not read this, if you think about' 0\n"
          ]
        }
      ]
    },
    {
      "cell_type": "markdown",
      "source": [
        "* 훈련 / 검증 / 테스트 분할\n",
        "\n",
        "전체 데이터셋은 5만 개의 샘플을 담고 있다. 처음 2만 5천개의 샘플은 평가를 위해 떼어 놓는다(홀드아웃 테스트 데이터셋). 그 다음 2만 개의 샘플은 훈련에 사용하고 5천개의 샘플은 검증에 사용한다."
      ],
      "metadata": {
        "id": "JdOkmXHVjha8"
      }
    },
    {
      "cell_type": "code",
      "source": [
        "tf.random.set_seed(1)\n",
        "\n",
        "ds_raw = ds_raw.shuffle(\n",
        "    50000, reshuffle_each_iteration=False)\n",
        "\n",
        "ds_raw_test = ds_raw.take(25000)\n",
        "ds_raw_train_valid = ds_raw.skip(25000)\n",
        "ds_raw_train = ds_raw_train_valid.take(20000)\n",
        "ds_raw_valid = ds_raw_train_valid.skip(20000)"
      ],
      "metadata": {
        "id": "bJzBUTgwjzPd"
      },
      "execution_count": 6,
      "outputs": []
    },
    {
      "cell_type": "markdown",
      "source": [
        "* Tokenizer와 Encoder\n",
        "    * `tfds.deprecated.text.Tokenizer`\n",
        "    * `tfds.deprecated.text.TokenTextEncoder`\n",
        "* 시퀀스 인코딩: 각 시퀀스에서 마지막 100개 원소만 유지\n",
        "\n",
        "신경망의 입력으로 데이터를 준비하기 위해 숫자 값으로 인코딩해야 한다. 이렇게 하기 위해 먼저 훈련 데이터셋에서 고유한 단어(토큰)를 찾는다. 데이터셋을 사용하여 고유한 토큰을 찾을 수 있지만 파이썬의 collections 패키지의 Counter 클래스를 사용하는 것이 더 효율적이다.\n",
        "\n",
        "Counter 객체(token_counts)를 만들어 고유한 단어의 빈도를 수집한다. 텍스트를 단어(또는 토큰)로 나누려면 tensorflow_datasets 패키지가 제공하는 Tokenizer 클래스를 사용할 수 있다."
      ],
      "metadata": {
        "id": "HGwXqo9XksPN"
      }
    },
    {
      "cell_type": "code",
      "source": [
        "# 2단계: 고유 토큰(단어) 찾기\n",
        "from collections import Counter\n",
        "\n",
        "try:\n",
        "    tokenizer = tfds.features.text.Tokenizer()\n",
        "except AttributeError:\n",
        "    tokenizer = tfds.deprecated.text.Tokenizer()\n",
        "\n",
        "token_counts = Counter()\n",
        "\n",
        "for example in ds_raw_train:\n",
        "    tokens = tokenizer.tokenize(example[0].numpy()[0])\n",
        "    token_counts.update(tokens)\n",
        "    \n",
        "print('어휘 사전 크기:', len(token_counts))"
      ],
      "metadata": {
        "colab": {
          "base_uri": "https://localhost:8080/"
        },
        "id": "xGQzpyksl902",
        "outputId": "ad467610-f843-4dbe-9ada-27a561c07371"
      },
      "execution_count": 7,
      "outputs": [
        {
          "output_type": "stream",
          "name": "stdout",
          "text": [
            "어휘 사전 크기: 87007\n"
          ]
        }
      ]
    },
    {
      "cell_type": "markdown",
      "source": [
        "각각의 고유 단어를 고유 정수로 매핑.\n",
        "\n",
        "파이썬 딕셔너리를 사용하여 수동으로 처리할 수 있다. 키는 고유 토큰(단어)이고 키에 매핑된 값은 고유한 정수이다. 하지만 tensorflow_datasets 패키지는 이런 매핑과 전체 데이터셋을 인코딩할 수 있는 TokenTextEncoder 클래스를 제공한다. 먼저 고유한 토큰을 전달하여 TokenTextEncoder 클래스로 encoder 객체를 만든다(token_countrs는 토큰과 횟수를 포함하고 있지만 여기서는 횟수는 필요하지 않다). encoder.encode() 메서드를 호출하여 입력 테스트를 정수 리스트로 변환한다."
      ],
      "metadata": {
        "id": "HewQQcxrmhem"
      }
    },
    {
      "cell_type": "code",
      "source": [
        "# 3단계: 고유 토큰을 정수로 인코딩\n",
        "try:\n",
        "    encoder = tfds.features.text.TokenTextEncoder(token_counts)\n",
        "except AttributeError:\n",
        "    encoder = tfds.deprecated.text.TokenTextEncoder(token_counts)\n",
        "\n",
        "example_str = 'This is an example!'\n",
        "encoder.encode(example_str)"
      ],
      "metadata": {
        "colab": {
          "base_uri": "https://localhost:8080/"
        },
        "id": "GVFQWlVonLa1",
        "outputId": "e3e4a43f-74ba-4a91-bf14-e9c38bee1870"
      },
      "execution_count": 8,
      "outputs": [
        {
          "output_type": "execute_result",
          "data": {
            "text/plain": [
              "[232, 9, 270, 1123]"
            ]
          },
          "metadata": {},
          "execution_count": 8
        }
      ]
    },
    {
      "cell_type": "code",
      "source": [
        "# 3-A단계: 변환을 위한 함수 정의\n",
        "# 즉시 실행 모드가 활성화된 것처럼 입력 텐서를 다룬다.\n",
        "def encode(text_tensor, label):\n",
        "    text = text_tensor.numpy()[0]\n",
        "    encoded_text = encoder.encode(text)\n",
        "    return encoded_text, label"
      ],
      "metadata": {
        "id": "elUCoEXcoROu"
      },
      "execution_count": 9,
      "outputs": []
    },
    {
      "cell_type": "code",
      "source": [
        "# 3-B단계: 함수를 TF 연산으로 변환\n",
        "# 위 함수를 tf.py_function으로 감싸서 map()메서드에서 사용할 수 있는 텐서플로 연산으로 변환\n",
        "def encode_map_fn(text, label):\n",
        "    return tf.py_function(encode, inp=[text, label],\n",
        "                          Tout=(tf.int64, tf.int64))"
      ],
      "metadata": {
        "id": "_SvtuYJSokDl"
      },
      "execution_count": 10,
      "outputs": []
    },
    {
      "cell_type": "code",
      "source": [
        "ds_train = ds_raw_train.map(encode_map_fn)\n",
        "ds_valid = ds_raw_valid.map(encode_map_fn)\n",
        "ds_test = ds_raw_test.map(encode_map_fn)\n",
        "\n",
        "tf.random.set_seed(1)\n",
        "for example in ds_train.shuffle(1000).take(5):\n",
        "    print('시퀀스 길이:', example[0].shape)\n",
        "    \n",
        "example"
      ],
      "metadata": {
        "colab": {
          "base_uri": "https://localhost:8080/"
        },
        "id": "RHNGO_rSo8yF",
        "outputId": "5e63b711-ca55-4788-8f71-cd108e53a78b"
      },
      "execution_count": 11,
      "outputs": [
        {
          "output_type": "stream",
          "name": "stdout",
          "text": [
            "시퀀스 길이: (24,)\n",
            "시퀀스 길이: (179,)\n",
            "시퀀스 길이: (262,)\n",
            "시퀀스 길이: (535,)\n",
            "시퀀스 길이: (130,)\n"
          ]
        },
        {
          "output_type": "execute_result",
          "data": {
            "text/plain": [
              "(<tf.Tensor: shape=(130,), dtype=int64, numpy=\n",
              " array([  579,  1296,    32,   425,    40,   763,  9267,    65,   280,\n",
              "          308,     6,   481,   155,   473,     2,     3,   684,     9,\n",
              "          781,   176,   959,   730,  3917,    67,  9905,    13,   277,\n",
              "           24,    35,   371, 16368,     6,    14, 17231,    29,   187,\n",
              "         1651,   489,   503,   480,   143,    32,   270,  5851,  2402,\n",
              "           13,  3592,  3443,   425,  3313,   256,   257,  1577,   117,\n",
              "            8,   698,   270,   564,    56,     8,    42,  7517,  2629,\n",
              "          820,    25,    60,    79,   343,    32,   645,    14,   528,\n",
              "          241,    32,  1980,     8,    56,     8,    42,  1364,   573,\n",
              "         5183,    43,    12,  3870,    32,   312,   642,   251,  1401,\n",
              "        17232,     8,   698,   257,   750,     2,     9,    76,   235,\n",
              "            8,    42,   235,   840,   666,   258, 17233,   419,    32,\n",
              "        17234,   585,   420,   840,    25,    40,    13,    14,   198,\n",
              "          266,   623,   173,   179,  4103,   216,    25,   616, 14185,\n",
              "          186,    35, 16250,   120])>,\n",
              " <tf.Tensor: shape=(), dtype=int64, numpy=0>)"
            ]
          },
          "metadata": {},
          "execution_count": 11
        }
      ]
    },
    {
      "cell_type": "markdown",
      "source": [
        "단어 시퀀스를 정수 시퀀스로 변환한 결과 시퀀스 길이가 다르다.\n",
        "\n",
        "일반적으로 RNN은 다른 길이의 시퀀스를 다룰 수 있지만 미니 배치에 있는 시퀀스는 효율적으로 텐서에 저장하기 위해 동일한 길이가 되어야한다.\n",
        "\n",
        "크기가 다른 원소를 가진 데이터셋을 미니 배치로 나누기 위해 텐서플로의 batch() 대신 padded_batch() 메서드를 사용한다. 이 메서드는 하나의 배치에 포함되는 모든 원소를 자동으로 0으로 패딩하여 배치에 있는 모든 시퀀스가 동일한 길이가 되도록 만든다."
      ],
      "metadata": {
        "id": "TKyAVivjpMo9"
      }
    },
    {
      "cell_type": "code",
      "source": [
        "# 일부 데이터를 추출하여 확인\n",
        "ds_subset = ds_train.take(8)\n",
        "for example in ds_subset:\n",
        "    print('개별 샘플 크기:', example[0].shape)"
      ],
      "metadata": {
        "colab": {
          "base_uri": "https://localhost:8080/"
        },
        "id": "L3HERRyBp8Om",
        "outputId": "03ff896d-53ca-4e0e-b73b-1d74110995c9"
      },
      "execution_count": 12,
      "outputs": [
        {
          "output_type": "stream",
          "name": "stdout",
          "text": [
            "개별 샘플 크기: (119,)\n",
            "개별 샘플 크기: (688,)\n",
            "개별 샘플 크기: (308,)\n",
            "개별 샘플 크기: (204,)\n",
            "개별 샘플 크기: (326,)\n",
            "개별 샘플 크기: (240,)\n",
            "개별 샘플 크기: (127,)\n",
            "개별 샘플 크기: (453,)\n"
          ]
        }
      ]
    },
    {
      "cell_type": "code",
      "source": [
        "ds_batched = ds_subset.padded_batch(\n",
        "    4, padded_shapes=([-1], []))\n",
        "for b in ds_batched:\n",
        "    print('배치 차원:', b[0].shape)"
      ],
      "metadata": {
        "colab": {
          "base_uri": "https://localhost:8080/"
        },
        "id": "bXeMsiGQqGal",
        "outputId": "5d0ed7f9-05db-488e-c75d-a60530805dba"
      },
      "execution_count": 13,
      "outputs": [
        {
          "output_type": "stream",
          "name": "stdout",
          "text": [
            "배치 차원: (4, 688)\n",
            "배치 차원: (4, 453)\n"
          ]
        }
      ]
    },
    {
      "cell_type": "markdown",
      "source": [
        "첫 번째 배치의 열의 개수 shape[1]는 688이다. 처음 네 개의 샘플((199,), (688,), (308,), (204,))이 하나의 배치가 되었고 이 샘플 중 가장 큰 크기를 사용.\n"
      ],
      "metadata": {
        "id": "jGV_zAKRqV22"
      }
    },
    {
      "cell_type": "code",
      "source": [
        "# 세 개의 데이터셋을 모두 배치 크기 32의 미치 배치로 나눈다\n",
        "train_data = ds_train.padded_batch(\n",
        "    32, padded_shapes=([-1],[]))\n",
        "\n",
        "valid_data = ds_valid.padded_batch(\n",
        "    32, padded_shapes=([-1],[]))\n",
        "\n",
        "test_data = ds_test.padded_batch(\n",
        "    32, padded_shapes=([-1],[]))"
      ],
      "metadata": {
        "id": "NDGqiUNTq2id"
      },
      "execution_count": 14,
      "outputs": []
    },
    {
      "cell_type": "markdown",
      "source": [
        "#### 문장 인코딩을 위한 임베딩 층\n",
        "특성 임베딩은 필수적인 것은 아니지만 단어 벡터의 차원을 줄여주기 때문에 매우 권장되는 전처리 단계이다.\n",
        "\n",
        "동일한 길이의 시퀀스를 생성하였다. 이 시퀀스의 원소는 고유한 단어의 인덱스에 해당하는 정수이다. 이런 단어 인텍스를 입력 특성으로 변환하는 몇가지 방법이 있다. \n",
        "\n",
        "* 원-핫 인코딩\n",
        "\n",
        "**원-핫 인코딩**을 적용하여 인덱스를 0 또는 1로 이루어진 벡터로 변환할 수 있다. 각 단어는 전체 데이터셋의 고유한 단어의 수에 해당하는 크기를 가진 벡터로 변환된다. 고유한 단어의 수(어휘 사전의 크기)가 $10^4 - 10^5$ 될 수 있어 너무 많은 특성에서 훈련된 모델은 *차원의 저주**로 인한 영향을 받는다. 또 하나를 제외하고 나머지 모든 원소가 0이라 특성 벡터가 매우 희소해진다.\n",
        "\n",
        "* 고정된 벡터로 변환\n",
        "\n",
        "각 단어를 (정수가 아닌) 실수 값을 가진 고정된 길이의 벡터로 변환하는 것이다. 원-핫 인코딩과 달리 고정된 길이의 벡터를 사용하여 무한히 많은 실수를 표현할수 있다. (이론적으로 [-1, 1] 사이에서 무한히 실수를 뽑을 수 있다)\n",
        "\n",
        "* 임베딩\n",
        "    * 데이터셋에 있는 단어를 표현하는 데 중요한 특성을 자동으로 학습\n",
        "    * 고유한 단어의 수를 $n_{words}$라고 할 때 고유한 단어의 수보다 훨씬 작게 ($embedding_dim << n_{words}$) 임베딩 벡터(또는 임베딩 차원) 크기를 선택하여 전체 어휘를 입력 특성으로 나타낸다\n",
        "    * 원-핫 인코딩에 비해 임베딩의 장점\n",
        "        * 특성 공간의 차원이 축소되므로 차원의 저주로 인한 영향을 감소시킨다.\n",
        "        * 신경망에서 임베딩 층이 최적화(학습)되기 때문에 중요한 특성이 추출된다.\n",
        "        "
      ],
      "metadata": {
        "id": "PoUiWWp-y9Ef"
      }
    },
    {
      "cell_type": "code",
      "source": [
        "from IPython.display import Image\n",
        "Image(url='https://git.io/JLdV0', width=700)"
      ],
      "metadata": {
        "colab": {
          "base_uri": "https://localhost:8080/",
          "height": 578
        },
        "id": "8LTwwavn1bUW",
        "outputId": "276da810-f141-4659-adfd-d82740a66c3e"
      },
      "execution_count": 15,
      "outputs": [
        {
          "output_type": "execute_result",
          "data": {
            "text/html": [
              "<img src=\"https://git.io/JLdV0\" width=\"700\"/>"
            ],
            "text/plain": [
              "<IPython.core.display.Image object>"
            ]
          },
          "metadata": {},
          "execution_count": 15
        }
      ]
    },
    {
      "cell_type": "markdown",
      "source": [
        "* `input_dim`: 단어 개수, 즉 최대 정수 인덱스 + 1(n+2)\n",
        "* `output_dim`: 임베딩 특성의 크기, 임베딩 벡터의 출력 차원\n",
        "* `input_length`: (패딩된) 시퀀스 길이\n",
        "    * 예를 들어, `'This is an example' -> [0, 0, 0, 0, 0, 0, 3, 1, 8, 9]`   \n",
        "    => input_lenght는 10\n",
        "* 이 층을 호출 할 때 입력으로 정수값을 받는다. 임베딩 층이 정수를 `[input_dim]` 크기의 실수 벡터로 변환한다.\n",
        "    * 입력 크기가 `[BATCH_SIZE]`이면 출력 크기는 `[BATCH_SIZE, output_dim]`이 된다.\n",
        "    * 입력 크기가 `[BATCH_SIZE, 10]`이면 출력 크기는 `[BATCH_SIZE, 10, output_dim]`가 된다.\n",
        "    "
      ],
      "metadata": {
        "id": "BoJS9ZJy1kCC"
      }
    },
    {
      "cell_type": "code",
      "source": [
        "from tensorflow.keras.layers import Embedding\n",
        "\n",
        "model = tf.keras.Sequential()\n",
        "model.add(Embedding(input_dim=100,\n",
        "                    output_dim=6,\n",
        "                    input_length=20,\n",
        "                    name='embed-layer'))\n",
        "model.summary()"
      ],
      "metadata": {
        "colab": {
          "base_uri": "https://localhost:8080/"
        },
        "id": "7B-ubQVs3puH",
        "outputId": "7c2610ac-6dd8-436b-9418-b3bff502da54"
      },
      "execution_count": 16,
      "outputs": [
        {
          "output_type": "stream",
          "name": "stdout",
          "text": [
            "Model: \"sequential\"\n",
            "_________________________________________________________________\n",
            " Layer (type)                Output Shape              Param #   \n",
            "=================================================================\n",
            " embed-layer (Embedding)     (None, 20, 6)             600       \n",
            "                                                                 \n",
            "=================================================================\n",
            "Total params: 600\n",
            "Trainable params: 600\n",
            "Non-trainable params: 0\n",
            "_________________________________________________________________\n"
          ]
        }
      ]
    },
    {
      "cell_type": "markdown",
      "source": [
        "`input_length` 매개변수는 필수가 아니다. 하지만 Embedding 층 다음에 Flatten 층이나 Dense 층을 두려면 `input_length` 매개변수를 꼭 지정해야 한다. 또한 입력 시퀀스 길이가 가변적인 경우 `None`으로 지정할 수 있다."
      ],
      "metadata": {
        "id": "l4EdKZdI4-4n"
      }
    },
    {
      "cell_type": "markdown",
      "source": [
        "#### RNN 모델 만들기\n",
        "\n",
        "케라스 Sequntial 클래스를 사용하여 임베딩 층, RNN 층, 완전 연결 층을 연결한다.\n",
        "\n",
        "* 순환 층에서 사용할 수 있는 클래스\n",
        "    * SimpleRNN: 완전 연결 순환 층인 기본 RNN\n",
        "        * `tf.keras.layers.SimpleRNN(units, return_seqeunces=False)`\n",
        "    * LSTM: 긴 의존성을 감지할 수 있는 LSTM RNN\n",
        "        * `tf.keras.layers.LSTM(..)`\n",
        "    * GRU: LSTM의 대안인 GRU 유닛을 사용한 순환 층\n",
        "        * `tf.keras.layer.GRU(..)`\n",
        "\n",
        "* `return_sequences` 결정\n",
        "    * 다층 RNN이면 마지막을 층을 제외하고 모든 RNN층을 `return_sequences=True`로 지정\n",
        "    * 마지막 RNN층은 문제의 종류에 따라 결정\n",
        "        * 다대다: `return_sequences=True`\n",
        "        * 다대일: `return_sequences=False`"
      ],
      "metadata": {
        "id": "6L_Z_FHy4mYW"
      }
    },
    {
      "cell_type": "code",
      "source": [
        "# SimpleRNN 층으로 RNN 모델\n",
        "from tensorflow.keras import Sequential\n",
        "from tensorflow.keras.layers import Embedding\n",
        "from tensorflow.keras.layers import SimpleRNN\n",
        "from tensorflow.keras.layers import Dense\n",
        "\n",
        "model = Sequential()\n",
        "model.add(Embedding(1000, 32)) # input_dim=100, output_dim=32\n",
        "model.add(SimpleRNN(32, return_sequences=True))\n",
        "model.add(SimpleRNN(32))\n",
        "model.add(Dense(1))\n",
        "model.summary()"
      ],
      "metadata": {
        "colab": {
          "base_uri": "https://localhost:8080/"
        },
        "id": "Y8y1NXLr66c-",
        "outputId": "fb2453db-0c5e-4b3d-ab02-a89e32ba268f"
      },
      "execution_count": 17,
      "outputs": [
        {
          "output_type": "stream",
          "name": "stdout",
          "text": [
            "Model: \"sequential_1\"\n",
            "_________________________________________________________________\n",
            " Layer (type)                Output Shape              Param #   \n",
            "=================================================================\n",
            " embedding (Embedding)       (None, None, 32)          32000     \n",
            "                                                                 \n",
            " simple_rnn (SimpleRNN)      (None, None, 32)          2080      \n",
            "                                                                 \n",
            " simple_rnn_1 (SimpleRNN)    (None, 32)                2080      \n",
            "                                                                 \n",
            " dense (Dense)               (None, 1)                 33        \n",
            "                                                                 \n",
            "=================================================================\n",
            "Total params: 36,193\n",
            "Trainable params: 36,193\n",
            "Non-trainable params: 0\n",
            "_________________________________________________________________\n"
          ]
        }
      ]
    },
    {
      "cell_type": "code",
      "source": [
        "# LSTM 층으로 RNN 모델\n",
        "from tensorflow.keras.layers import LSTM\n",
        "\n",
        "model = Sequential()\n",
        "model.add(Embedding(10000, 32))\n",
        "model.add(LSTM(32, return_sequences=True))\n",
        "model.add(LSTM(32))\n",
        "model.add(Dense(1))\n",
        "model.summary()"
      ],
      "metadata": {
        "colab": {
          "base_uri": "https://localhost:8080/"
        },
        "id": "GRbnnFJJAOfo",
        "outputId": "afec3121-3fc0-4e48-98a1-e35c5d8c5db8"
      },
      "execution_count": 18,
      "outputs": [
        {
          "output_type": "stream",
          "name": "stdout",
          "text": [
            "Model: \"sequential_2\"\n",
            "_________________________________________________________________\n",
            " Layer (type)                Output Shape              Param #   \n",
            "=================================================================\n",
            " embedding_1 (Embedding)     (None, None, 32)          320000    \n",
            "                                                                 \n",
            " lstm (LSTM)                 (None, None, 32)          8320      \n",
            "                                                                 \n",
            " lstm_1 (LSTM)               (None, 32)                8320      \n",
            "                                                                 \n",
            " dense_1 (Dense)             (None, 1)                 33        \n",
            "                                                                 \n",
            "=================================================================\n",
            "Total params: 336,673\n",
            "Trainable params: 336,673\n",
            "Non-trainable params: 0\n",
            "_________________________________________________________________\n"
          ]
        }
      ]
    },
    {
      "cell_type": "code",
      "source": [
        "# GRU 층으로 RNN 모델\n",
        "from tensorflow.keras.layers import GRU\n",
        "\n",
        "model = Sequential()\n",
        "model.add(Embedding(10000, 32))\n",
        "model.add(GRU(32, return_sequences=True))\n",
        "model.add(GRU(32))\n",
        "model.add(Dense(1))\n",
        "model.summary()"
      ],
      "metadata": {
        "colab": {
          "base_uri": "https://localhost:8080/"
        },
        "id": "HRLxhD2VAonf",
        "outputId": "b07a2ddc-4487-4e35-df61-6bdb0c9e37e7"
      },
      "execution_count": 19,
      "outputs": [
        {
          "output_type": "stream",
          "name": "stdout",
          "text": [
            "Model: \"sequential_3\"\n",
            "_________________________________________________________________\n",
            " Layer (type)                Output Shape              Param #   \n",
            "=================================================================\n",
            " embedding_2 (Embedding)     (None, None, 32)          320000    \n",
            "                                                                 \n",
            " gru (GRU)                   (None, None, 32)          6336      \n",
            "                                                                 \n",
            " gru_1 (GRU)                 (None, 32)                6336      \n",
            "                                                                 \n",
            " dense_2 (Dense)             (None, 1)                 33        \n",
            "                                                                 \n",
            "=================================================================\n",
            "Total params: 332,705\n",
            "Trainable params: 332,705\n",
            "Non-trainable params: 0\n",
            "_________________________________________________________________\n"
          ]
        }
      ]
    },
    {
      "cell_type": "markdown",
      "source": [
        "#### 감성 분석 작업을 위한 RNN 모델 만들기\n",
        "\n",
        "시퀀스 길이가 길기 때문에 길게 미치는 영향을 감지하기 위해 LSTM 층을 사용. 또한, Bidirectional 래퍼 클래스로 LSTM 층을 감싼다. 이 층은 입력 시퀀스를 처음부터 끝까지 그리고 끝에서 처음까지 양방향으로 순환 층을 통과하도록 한다."
      ],
      "metadata": {
        "id": "vrzWg2hz82bp"
      }
    },
    {
      "cell_type": "code",
      "source": [
        "embedding_dim = 20\n",
        "vocab_size = len(token_counts) + 2\n",
        "tf.random.set_seed(1)\n",
        "\n",
        "# 모델\n",
        "bi_lstm_model = tf.keras.Sequential([\n",
        "    tf.keras.layers.Embedding(\n",
        "        input_dim = vocab_size,\n",
        "        output_dim = embedding_dim,\n",
        "        name='embed-layer'),\n",
        "    \n",
        "    tf.keras.layers.Bidirectional(\n",
        "        tf.keras.layers.LSTM(64, name='latm-layer'),\n",
        "        name='bidir-latm'),\n",
        "    \n",
        "    tf.keras.layers.Dense(64, activation='relu'),\n",
        "\n",
        "    tf.keras.layers.Dense(1, activation='sigmoid')\n",
        "])\n",
        "\n",
        "bi_lstm_model.summary()"
      ],
      "metadata": {
        "colab": {
          "base_uri": "https://localhost:8080/"
        },
        "id": "Tpe1qAjO_bl4",
        "outputId": "f6e64b59-f214-4829-f3a3-9dc7ee931842"
      },
      "execution_count": 20,
      "outputs": [
        {
          "output_type": "stream",
          "name": "stdout",
          "text": [
            "Model: \"sequential_4\"\n",
            "_________________________________________________________________\n",
            " Layer (type)                Output Shape              Param #   \n",
            "=================================================================\n",
            " embed-layer (Embedding)     (None, None, 20)          1740180   \n",
            "                                                                 \n",
            " bidir-latm (Bidirectional)  (None, 128)               43520     \n",
            "                                                                 \n",
            " dense_3 (Dense)             (None, 64)                8256      \n",
            "                                                                 \n",
            " dense_4 (Dense)             (None, 1)                 65        \n",
            "                                                                 \n",
            "=================================================================\n",
            "Total params: 1,792,021\n",
            "Trainable params: 1,792,021\n",
            "Non-trainable params: 0\n",
            "_________________________________________________________________\n"
          ]
        }
      ]
    },
    {
      "cell_type": "code",
      "source": [
        "# 컴파일과 훈련\n",
        "bi_lstm_model.compile(\n",
        "    optimizer=tf.keras.optimizers.Adam(1e-3),\n",
        "    loss=tf.keras.losses.BinaryCrossentropy(from_logits=False),\n",
        "    metrics=['accuracy'])\n",
        "\n",
        "history = bi_lstm_model.fit(\n",
        "    train_data,\n",
        "    validation_data=valid_data,\n",
        "    epochs=10)\n",
        "\n",
        "# 테스트 데이터에서 평가\n",
        "test_results = bi_lstm_model.evaluate(test_data)\n",
        "print('테스트 정확도: {:.2f}%'.format(test_results[1]*100))"
      ],
      "metadata": {
        "colab": {
          "base_uri": "https://localhost:8080/"
        },
        "id": "IwH_00_9BbsA",
        "outputId": "1fd514fe-363d-4cc9-9a6a-61fce918a3a4"
      },
      "execution_count": 21,
      "outputs": [
        {
          "output_type": "stream",
          "name": "stdout",
          "text": [
            "Epoch 1/10\n",
            "625/625 [==============================] - 165s 252ms/step - loss: 0.5026 - accuracy: 0.7423 - val_loss: 0.5280 - val_accuracy: 0.7474\n",
            "Epoch 2/10\n",
            "625/625 [==============================] - 150s 239ms/step - loss: 0.2629 - accuracy: 0.8990 - val_loss: 0.3659 - val_accuracy: 0.8588\n",
            "Epoch 3/10\n",
            "625/625 [==============================] - 152s 243ms/step - loss: 0.1697 - accuracy: 0.9420 - val_loss: 0.4489 - val_accuracy: 0.8344\n",
            "Epoch 4/10\n",
            "625/625 [==============================] - 149s 239ms/step - loss: 0.0854 - accuracy: 0.9729 - val_loss: 0.4767 - val_accuracy: 0.8496\n",
            "Epoch 5/10\n",
            "625/625 [==============================] - 151s 241ms/step - loss: 0.0570 - accuracy: 0.9819 - val_loss: 0.5658 - val_accuracy: 0.8432\n",
            "Epoch 6/10\n",
            "625/625 [==============================] - 153s 245ms/step - loss: 0.0529 - accuracy: 0.9837 - val_loss: 0.5469 - val_accuracy: 0.8358\n",
            "Epoch 7/10\n",
            "625/625 [==============================] - 150s 239ms/step - loss: 0.0454 - accuracy: 0.9872 - val_loss: 0.6919 - val_accuracy: 0.8290\n",
            "Epoch 8/10\n",
            "625/625 [==============================] - 150s 240ms/step - loss: 0.0298 - accuracy: 0.9908 - val_loss: 0.7488 - val_accuracy: 0.8422\n",
            "Epoch 9/10\n",
            "625/625 [==============================] - 154s 247ms/step - loss: 0.0305 - accuracy: 0.9908 - val_loss: 0.8183 - val_accuracy: 0.8270\n",
            "Epoch 10/10\n",
            "625/625 [==============================] - 149s 239ms/step - loss: 0.0193 - accuracy: 0.9943 - val_loss: 0.8932 - val_accuracy: 0.8334\n",
            "782/782 [==============================] - 103s 132ms/step - loss: 0.8535 - accuracy: 0.8365\n",
            "테스트 정확도: 83.65%\n"
          ]
        }
      ]
    },
    {
      "cell_type": "code",
      "source": [
        "if not os.path.exists('models'):\n",
        "    os.mkdir('models')\n",
        "\n",
        "\n",
        "bi_lstm_model.save('models/Bidir-LSTM-full-length-seq.h5')"
      ],
      "metadata": {
        "id": "jS_DzO-DCKH5"
      },
      "execution_count": 22,
      "outputs": []
    },
    {
      "cell_type": "markdown",
      "source": [
        "* 양방향(bidirectional) RNN\n",
        "    * Bidirectional 래퍼 클래스는 입력 시퀀스를 정방향과 역방향으로 두 번 처리한다.\n",
        "    * 기본적으로 정방향과 양방향으로 처리한 결과는 연결된다.\n",
        "    * 이 방식을 바꾸려면 merge_mode를 'sum', 'mul', 'ave'(평균), 'concat'(기본값) 또는 None으로 지정하여 두 텐서를 리스트로 변환할 수 있다."
      ],
      "metadata": {
        "id": "_1yfl4BiCrqQ"
      }
    },
    {
      "cell_type": "markdown",
      "source": [
        "SimpleRNN과 같은 다른 종류의 순환 층을 사용할 수도 있다. 일반적인 순환 층으로 만든 모델은 (훈련 데이터에서도) 좋은 예측 성능을 달성하지 못한다. 예를 들어 양방향 LSTM 층을 단방향 SimpleRNN 층으로 바꾸고 전체 길이를 사용한 시퀀스로 모델을 훈련하면 훈련하는 동안 손실이 전혀 감소하지 않는다. 이 데이터셋에 있는 시퀀스가 너무 길기 때문이다. SimpleRNN 층을 사용한 모델은 장기간 의존성을 학습할 수 없고 그레이디언트 감소나 폭주로 인한 영향을 받는다.\n",
        "\n",
        "SimpleRNN으로 이 데이터셋에서 납득할 수 있는 수준의 예측 성능을 얻기 위해서는 시퀀스 길이를 줄여야한다. '도메인 지식'을 사용하면 영화 리뷰의 마지막 문장에 감성에 관한 정보가 많이 담겨 있다고 가정할 수 있다. 따라서 각 리뷰의 마지막 부분에만 초점을 맞춘다. \n",
        "\n",
        "preprocess_datasets()라는 헬퍼 함수를 만들어 전처리 단계 2~4를 연결한다. 이 함수의 `매개변수는 각 리뷰에는 얼마나 많은 토큰을 사용할지 결정하는 max_seq_length`이다. 예를 들어 max_seq_length=100으로 지정하면 100개 이상의 토큰을 가진 리뷰에서 마지막 100개의 토큰만 사용된다. max_seq_length=None으로 지정하면 이전처럼 전체 길이의 시퀀스가 사용된다."
      ],
      "metadata": {
        "id": "tHBZGMFIDZaH"
      }
    },
    {
      "cell_type": "code",
      "source": [
        "from collections import Counter\n",
        "def preprocess_datasets(\n",
        "    ds_raw_train, \n",
        "    ds_raw_valid, \n",
        "    ds_raw_test,\n",
        "    max_seq_length=None,\n",
        "    batch_size=32):\n",
        "\n",
        "    # 단계 1: 데이터셋 만들기 이미 완료\n",
        "    # 단계 2: 고유 토큰 찾기\n",
        "    try:\n",
        "        tokenizer = tfds.features.text.Tokenizer()\n",
        "    except AttributeError:\n",
        "        tokenizer = tfds.deprecated.text.Tokenizer()\n",
        "\n",
        "    token_counts = Counter()\n",
        "\n",
        "    for example in ds_raw_train:\n",
        "        tokens = tokenizer.tokenize(example[0].numpy()[0])\n",
        "        if max_seq_length is not None:\n",
        "            tokens = tokens[-max_seq_length:]\n",
        "        token_counts.update(tokens)\n",
        "    \n",
        "    print('어휘 사전 크기:', len(token_counts))\n",
        "\n",
        "    # 단계 3: 텍스트 인코딩\n",
        "    try:\n",
        "        encoder = tfds.features.text.TokenTextEncoder(token_counts)\n",
        "    except AttributeError:\n",
        "        encoder = tfds.deprecated.text.TokenTextEncoder(token_counts)\n",
        "    \n",
        "    def encode(text_tensor, label):\n",
        "        text = text_tensor.numpy()[0]\n",
        "        encoded_text = encoder.encode(text)\n",
        "        if max_seq_length is not None:\n",
        "            encoded_text = encoded_text[-max_seq_length:]\n",
        "        return encoded_text, label\n",
        "\n",
        "    def encode_map_fn(text, label):\n",
        "        return tf.py_function(encode, inp=[text, label], Tout=(tf.int64, tf.int64))\n",
        "    \n",
        "    ds_train = ds_raw_train.map(encode_map_fn)\n",
        "    ds_valid = ds_raw_valid.map(encode_map_fn)\n",
        "    ds_test = ds_raw_test.map(encode_map_fn)\n",
        "\n",
        "    ## 단계 4: 배치 데이터 만들기\n",
        "    train_data = ds_train.padded_batch(\n",
        "        batch_size, padded_shapes=([-1],[]))\n",
        "\n",
        "    valid_data = ds_valid.padded_batch(\n",
        "        batch_size, padded_shapes=([-1],[]))\n",
        "\n",
        "    test_data = ds_test.padded_batch(\n",
        "        batch_size, padded_shapes=([-1],[]))\n",
        "\n",
        "    return (train_data, valid_data, \n",
        "            test_data, len(token_counts))"
      ],
      "metadata": {
        "id": "TvXOWHmBIBQ6"
      },
      "execution_count": 23,
      "outputs": []
    },
    {
      "cell_type": "code",
      "source": [
        "def build_rnn_model(embedding_dim, vocab_size,\n",
        "                    recurrent_type='SimpleRNN',\n",
        "                    n_recurrent_units=64,\n",
        "                    n_recurrent_layers=1,\n",
        "                    bidirectional=True):\n",
        "\n",
        "    tf.random.set_seed(1)\n",
        "\n",
        "    # 모델 생성\n",
        "    model = tf.keras.Sequential()\n",
        "    \n",
        "    model.add(\n",
        "        Embedding(\n",
        "            input_dim=vocab_size,\n",
        "            output_dim=embedding_dim,\n",
        "            name='embed-layer')\n",
        "    )\n",
        "    \n",
        "    for i in range(n_recurrent_layers):\n",
        "        return_sequences = (i < n_recurrent_layers-1)\n",
        "            \n",
        "        if recurrent_type == 'SimpleRNN':\n",
        "            recurrent_layer = SimpleRNN(\n",
        "                units=n_recurrent_units, \n",
        "                return_sequences=return_sequences,\n",
        "                name='simprnn-layer-{}'.format(i))\n",
        "        elif recurrent_type == 'LSTM':\n",
        "            recurrent_layer = LSTM(\n",
        "                units=n_recurrent_units, \n",
        "                return_sequences=return_sequences,\n",
        "                name='lstm-layer-{}'.format(i))\n",
        "        elif recurrent_type == 'GRU':\n",
        "            recurrent_layer = GRU(\n",
        "                units=n_recurrent_units, \n",
        "                return_sequences=return_sequences,\n",
        "                name='gru-layer-{}'.format(i))\n",
        "        \n",
        "        if bidirectional:\n",
        "            recurrent_layer = Bidirectional(\n",
        "                recurrent_layer, name='bidir-'+recurrent_layer.name)\n",
        "            \n",
        "        model.add(recurrent_layer)\n",
        "\n",
        "    model.add(tf.keras.layers.Dense(64, activation='relu'))\n",
        "    model.add(tf.keras.layers.Dense(1, activation='sigmoid'))\n",
        "    \n",
        "    return model"
      ],
      "metadata": {
        "id": "gB0dQ-RHK4Oo"
      },
      "execution_count": 24,
      "outputs": []
    },
    {
      "cell_type": "code",
      "source": [
        "from tensorflow.keras.layers import Bidirectional"
      ],
      "metadata": {
        "id": "kzHmZLNzZvVR"
      },
      "execution_count": 25,
      "outputs": []
    },
    {
      "cell_type": "code",
      "source": [
        "# SimpleRNN 층 하나를 가진 모델을 최대 길이가 토큰 100개인 시퀀스로 훈련\n",
        "batch_size = 32\n",
        "embedding_dim = 20\n",
        "max_seq_length = 100\n",
        "\n",
        "train_data, valid_data, test_data, n = preprocess_datasets(\n",
        "    ds_raw_train, ds_raw_valid, ds_raw_test, \n",
        "    max_seq_length=max_seq_length, \n",
        "    batch_size=batch_size\n",
        ")\n",
        "\n",
        "\n",
        "vocab_size = n + 2\n",
        "\n",
        "rnn_model = build_rnn_model(\n",
        "    embedding_dim, vocab_size,\n",
        "    recurrent_type='SimpleRNN', \n",
        "    n_recurrent_units=64,\n",
        "    n_recurrent_layers=1,\n",
        "    bidirectional=True)\n",
        "\n",
        "rnn_model.summary()"
      ],
      "metadata": {
        "colab": {
          "base_uri": "https://localhost:8080/"
        },
        "id": "iaBYwklTNueB",
        "outputId": "c3db1bc6-2229-44cc-9bf9-96cf06478fd3"
      },
      "execution_count": 26,
      "outputs": [
        {
          "output_type": "stream",
          "name": "stdout",
          "text": [
            "어휘 사전 크기: 58063\n",
            "Model: \"sequential_5\"\n",
            "_________________________________________________________________\n",
            " Layer (type)                Output Shape              Param #   \n",
            "=================================================================\n",
            " embed-layer (Embedding)     (None, None, 20)          1161300   \n",
            "                                                                 \n",
            " bidir-simprnn-layer-0 (Bidi  (None, 128)              10880     \n",
            " rectional)                                                      \n",
            "                                                                 \n",
            " dense_5 (Dense)             (None, 64)                8256      \n",
            "                                                                 \n",
            " dense_6 (Dense)             (None, 1)                 65        \n",
            "                                                                 \n",
            "=================================================================\n",
            "Total params: 1,180,501\n",
            "Trainable params: 1,180,501\n",
            "Non-trainable params: 0\n",
            "_________________________________________________________________\n"
          ]
        }
      ]
    },
    {
      "cell_type": "code",
      "source": [
        "rnn_model.compile(optimizer=tf.keras.optimizers.Adam(1e-3),\n",
        "                  loss=tf.keras.losses.BinaryCrossentropy(from_logits=False),\n",
        "                  metrics=['accuracy'])\n",
        "\n",
        "history = rnn_model.fit(\n",
        "    train_data, \n",
        "    validation_data=valid_data, \n",
        "    epochs=10)"
      ],
      "metadata": {
        "colab": {
          "base_uri": "https://localhost:8080/"
        },
        "id": "06ykQLOjOb1Q",
        "outputId": "b04d0a3c-9557-43fe-ca1d-3de1abcb58c5"
      },
      "execution_count": 27,
      "outputs": [
        {
          "output_type": "stream",
          "name": "stdout",
          "text": [
            "Epoch 1/10\n",
            "625/625 [==============================] - 212s 335ms/step - loss: 0.6980 - accuracy: 0.5061 - val_loss: 0.6835 - val_accuracy: 0.5446\n",
            "Epoch 2/10\n",
            "625/625 [==============================] - 212s 339ms/step - loss: 0.5596 - accuracy: 0.6932 - val_loss: 0.4372 - val_accuracy: 0.8078\n",
            "Epoch 3/10\n",
            "625/625 [==============================] - 212s 339ms/step - loss: 0.3368 - accuracy: 0.8554 - val_loss: 0.5490 - val_accuracy: 0.8072\n",
            "Epoch 4/10\n",
            "625/625 [==============================] - 208s 333ms/step - loss: 0.2349 - accuracy: 0.9088 - val_loss: 0.4910 - val_accuracy: 0.8066\n",
            "Epoch 5/10\n",
            "625/625 [==============================] - 211s 338ms/step - loss: 0.1528 - accuracy: 0.9451 - val_loss: 0.6207 - val_accuracy: 0.7300\n",
            "Epoch 6/10\n",
            "625/625 [==============================] - 214s 342ms/step - loss: 0.1133 - accuracy: 0.9629 - val_loss: 0.7179 - val_accuracy: 0.6950\n",
            "Epoch 7/10\n",
            "625/625 [==============================] - 219s 350ms/step - loss: 0.0752 - accuracy: 0.9740 - val_loss: 0.6476 - val_accuracy: 0.8064\n",
            "Epoch 8/10\n",
            "625/625 [==============================] - 209s 334ms/step - loss: 0.0357 - accuracy: 0.9886 - val_loss: 0.6928 - val_accuracy: 0.8018\n",
            "Epoch 9/10\n",
            "625/625 [==============================] - 227s 364ms/step - loss: 0.0669 - accuracy: 0.9763 - val_loss: 0.8163 - val_accuracy: 0.7716\n",
            "Epoch 10/10\n",
            "625/625 [==============================] - 221s 353ms/step - loss: 0.1176 - accuracy: 0.9546 - val_loss: 0.8383 - val_accuracy: 0.6170\n"
          ]
        }
      ]
    },
    {
      "cell_type": "code",
      "source": [
        "results = rnn_model.evaluate(test_data)"
      ],
      "metadata": {
        "colab": {
          "base_uri": "https://localhost:8080/"
        },
        "id": "olc4urs_O1e7",
        "outputId": "37618f7d-2cc1-400a-88d3-407c4d6e51ec"
      },
      "execution_count": 28,
      "outputs": [
        {
          "output_type": "stream",
          "name": "stdout",
          "text": [
            "782/782 [==============================] - 47s 60ms/step - loss: 0.8086 - accuracy: 0.6313\n"
          ]
        }
      ]
    },
    {
      "cell_type": "code",
      "source": [
        "print('테스트 정확도: {:.2f}%'.format(results[1]*100))"
      ],
      "metadata": {
        "colab": {
          "base_uri": "https://localhost:8080/"
        },
        "id": "XqB1GpFCO4fZ",
        "outputId": "906bb20f-32bc-44ab-8f86-537fe8fd8121"
      },
      "execution_count": 29,
      "outputs": [
        {
          "output_type": "stream",
          "name": "stdout",
          "text": [
            "테스트 정확도: 63.13%\n"
          ]
        }
      ]
    },
    {
      "cell_type": "code",
      "source": [
        "batch_size = 32\n",
        "embedding_dim = 20\n",
        "max_seq_length = 1000\n",
        "\n",
        "train_data, valid_data, test_data, n = preprocess_datasets(\n",
        "    ds_raw_train, ds_raw_valid, ds_raw_test, \n",
        "    max_seq_length=max_seq_length, \n",
        "    batch_size=batch_size\n",
        ")\n",
        "\n",
        "\n",
        "vocab_size = n + 2\n",
        "\n",
        "rnn_model = build_rnn_model(\n",
        "    embedding_dim, vocab_size,\n",
        "    recurrent_type='LSTM', \n",
        "    n_recurrent_units=64,\n",
        "    n_recurrent_layers=1,\n",
        "    bidirectional=True)\n",
        "\n",
        "rnn_model.summary()\n",
        "\n",
        "rnn_model.compile(optimizer=tf.keras.optimizers.Adam(1e-3),\n",
        "                  loss=tf.keras.losses.BinaryCrossentropy(from_logits=False),\n",
        "                  metrics=['accuracy'])\n",
        "\n",
        "history = rnn_model.fit(\n",
        "    train_data, \n",
        "    validation_data=valid_data, \n",
        "    epochs=10)\n",
        "\n",
        "results = rnn_model.evaluate(test_data)\n",
        "print('테스트 정확도: {:.2f}%'.format(results[1]*100))"
      ],
      "metadata": {
        "colab": {
          "base_uri": "https://localhost:8080/"
        },
        "id": "yWYnybnrL57g",
        "outputId": "0a2b08cb-2dd9-428d-9619-0fdfccc60ea1"
      },
      "execution_count": 38,
      "outputs": [
        {
          "output_type": "stream",
          "name": "stdout",
          "text": [
            "어휘 사전 크기: 86935\n",
            "Model: \"sequential_7\"\n",
            "_________________________________________________________________\n",
            " Layer (type)                Output Shape              Param #   \n",
            "=================================================================\n",
            " embed-layer (Embedding)     (None, None, 20)          1738740   \n",
            "                                                                 \n",
            " bidir-lstm-layer-0 (Bidirec  (None, 128)              43520     \n",
            " tional)                                                         \n",
            "                                                                 \n",
            " dense_9 (Dense)             (None, 64)                8256      \n",
            "                                                                 \n",
            " dense_10 (Dense)            (None, 1)                 65        \n",
            "                                                                 \n",
            "=================================================================\n",
            "Total params: 1,790,581\n",
            "Trainable params: 1,790,581\n",
            "Non-trainable params: 0\n",
            "_________________________________________________________________\n",
            "Epoch 1/10\n",
            "625/625 [==============================] - 161s 252ms/step - loss: 0.6577 - accuracy: 0.6203 - val_loss: 0.7692 - val_accuracy: 0.4874\n",
            "Epoch 2/10\n",
            "625/625 [==============================] - 155s 248ms/step - loss: 0.4012 - accuracy: 0.8255 - val_loss: 0.4073 - val_accuracy: 0.8388\n",
            "Epoch 3/10\n",
            "625/625 [==============================] - 156s 249ms/step - loss: 0.1983 - accuracy: 0.9255 - val_loss: 0.4501 - val_accuracy: 0.8408\n",
            "Epoch 4/10\n",
            "625/625 [==============================] - 157s 251ms/step - loss: 0.0978 - accuracy: 0.9682 - val_loss: 0.6893 - val_accuracy: 0.8146\n",
            "Epoch 5/10\n",
            "625/625 [==============================] - 155s 248ms/step - loss: 0.0723 - accuracy: 0.9775 - val_loss: 0.5566 - val_accuracy: 0.8374\n",
            "Epoch 6/10\n",
            "625/625 [==============================] - 155s 247ms/step - loss: 0.0458 - accuracy: 0.9863 - val_loss: 0.6080 - val_accuracy: 0.8222\n",
            "Epoch 7/10\n",
            "625/625 [==============================] - 156s 249ms/step - loss: 0.0364 - accuracy: 0.9876 - val_loss: 0.9410 - val_accuracy: 0.7816\n",
            "Epoch 8/10\n",
            "625/625 [==============================] - 155s 247ms/step - loss: 0.0254 - accuracy: 0.9924 - val_loss: 0.7135 - val_accuracy: 0.8212\n",
            "Epoch 9/10\n",
            "625/625 [==============================] - 152s 243ms/step - loss: 0.0239 - accuracy: 0.9927 - val_loss: 0.7293 - val_accuracy: 0.8098\n",
            "Epoch 10/10\n",
            "625/625 [==============================] - 153s 244ms/step - loss: 0.0266 - accuracy: 0.9905 - val_loss: 0.7934 - val_accuracy: 0.8246\n",
            "782/782 [==============================] - 97s 124ms/step - loss: 0.7916 - accuracy: 0.8235\n",
            "테스트 정확도: 82.35%\n"
          ]
        }
      ]
    },
    {
      "cell_type": "code",
      "source": [
        "batch_size = 32\n",
        "embedding_dim = 20\n",
        "max_seq_length = 1000\n",
        "\n",
        "train_data, valid_data, test_data, n = preprocess_datasets(\n",
        "    ds_raw_train, ds_raw_valid, ds_raw_test, \n",
        "    max_seq_length=max_seq_length, \n",
        "    batch_size=batch_size\n",
        ")\n",
        "\n",
        "\n",
        "vocab_size = n + 2\n",
        "\n",
        "rnn_model = build_rnn_model(\n",
        "    embedding_dim, vocab_size,\n",
        "    recurrent_type='GRU', \n",
        "    n_recurrent_units=64,\n",
        "    n_recurrent_layers=1,\n",
        "    bidirectional=True)\n",
        "\n",
        "rnn_model.summary()\n",
        "\n",
        "rnn_model.compile(optimizer=tf.keras.optimizers.Adam(1e-3),\n",
        "                  loss=tf.keras.losses.BinaryCrossentropy(from_logits=False),\n",
        "                  metrics=['accuracy'])\n",
        "\n",
        "history = rnn_model.fit(\n",
        "    train_data, \n",
        "    validation_data=valid_data, \n",
        "    epochs=10)\n",
        "\n",
        "results = rnn_model.evaluate(test_data)\n",
        "print('테스트 정확도: {:.2f}%'.format(results[1]*100))"
      ],
      "metadata": {
        "colab": {
          "base_uri": "https://localhost:8080/"
        },
        "id": "QvmgvGHXMPbP",
        "outputId": "ae9adf3a-e45f-482e-d7a1-ca4e6f3f1701"
      },
      "execution_count": 39,
      "outputs": [
        {
          "output_type": "stream",
          "name": "stdout",
          "text": [
            "어휘 사전 크기: 86935\n",
            "Model: \"sequential_8\"\n",
            "_________________________________________________________________\n",
            " Layer (type)                Output Shape              Param #   \n",
            "=================================================================\n",
            " embed-layer (Embedding)     (None, None, 20)          1738740   \n",
            "                                                                 \n",
            " bidir-gru-layer-0 (Bidirect  (None, 128)              33024     \n",
            " ional)                                                          \n",
            "                                                                 \n",
            " dense_11 (Dense)            (None, 64)                8256      \n",
            "                                                                 \n",
            " dense_12 (Dense)            (None, 1)                 65        \n",
            "                                                                 \n",
            "=================================================================\n",
            "Total params: 1,780,085\n",
            "Trainable params: 1,780,085\n",
            "Non-trainable params: 0\n",
            "_________________________________________________________________\n",
            "Epoch 1/10\n",
            "625/625 [==============================] - 178s 278ms/step - loss: 0.5234 - accuracy: 0.7196 - val_loss: 0.3526 - val_accuracy: 0.8514\n",
            "Epoch 2/10\n",
            "625/625 [==============================] - 168s 268ms/step - loss: 0.2173 - accuracy: 0.9144 - val_loss: 0.3528 - val_accuracy: 0.8758\n",
            "Epoch 3/10\n",
            "625/625 [==============================] - 171s 273ms/step - loss: 0.1289 - accuracy: 0.9537 - val_loss: 0.4198 - val_accuracy: 0.8670\n",
            "Epoch 4/10\n",
            "625/625 [==============================] - 173s 277ms/step - loss: 0.0550 - accuracy: 0.9821 - val_loss: 0.5708 - val_accuracy: 0.8594\n",
            "Epoch 5/10\n",
            "625/625 [==============================] - 170s 271ms/step - loss: 0.0391 - accuracy: 0.9868 - val_loss: 0.6199 - val_accuracy: 0.8456\n",
            "Epoch 6/10\n",
            "625/625 [==============================] - 173s 277ms/step - loss: 0.0345 - accuracy: 0.9889 - val_loss: 0.9121 - val_accuracy: 0.8112\n",
            "Epoch 7/10\n",
            "625/625 [==============================] - 168s 268ms/step - loss: 0.0306 - accuracy: 0.9889 - val_loss: 0.6052 - val_accuracy: 0.8584\n",
            "Epoch 8/10\n",
            "625/625 [==============================] - 167s 267ms/step - loss: 0.0130 - accuracy: 0.9958 - val_loss: 0.9208 - val_accuracy: 0.8198\n",
            "Epoch 9/10\n",
            "625/625 [==============================] - 168s 270ms/step - loss: 0.0100 - accuracy: 0.9967 - val_loss: 0.7993 - val_accuracy: 0.8544\n",
            "Epoch 10/10\n",
            "625/625 [==============================] - 169s 270ms/step - loss: 0.0129 - accuracy: 0.9962 - val_loss: 0.8029 - val_accuracy: 0.8668\n",
            "782/782 [==============================] - 105s 133ms/step - loss: 0.8012 - accuracy: 0.8698\n",
            "테스트 정확도: 86.98%\n"
          ]
        }
      ]
    },
    {
      "cell_type": "markdown",
      "source": [
        "### 전체 길이를 사용한 시퀀스에 단방향 SimpleRNN 적용"
      ],
      "metadata": {
        "id": "Csx-u376PFng"
      }
    },
    {
      "cell_type": "code",
      "source": [
        "batch_size = 32\n",
        "embedding_dim = 20\n",
        "max_seq_length = None\n",
        "\n",
        "train_data, valid_data, test_data, n = preprocess_datasets(\n",
        "    ds_raw_train, ds_raw_valid, ds_raw_test,\n",
        "    max_seq_length=max_seq_length,\n",
        "    batch_size=batch_size\n",
        ")\n",
        "\n",
        "vocab_size = n + 2\n",
        "\n",
        "rnn_model = build_rnn_model(\n",
        "    embedding_dim, vocab_size,\n",
        "    recurrent_type='SimpleRNN',\n",
        "    n_recurrent_units=64,\n",
        "    n_recurrent_layers=1,\n",
        "    bidirectional=False)\n",
        "\n",
        "rnn_model.summary()"
      ],
      "metadata": {
        "colab": {
          "base_uri": "https://localhost:8080/"
        },
        "id": "cWFbMZAuPJFh",
        "outputId": "e1c14587-d605-48ac-af46-33738148d02c"
      },
      "execution_count": 30,
      "outputs": [
        {
          "output_type": "stream",
          "name": "stdout",
          "text": [
            "어휘 사전 크기: 87007\n",
            "Model: \"sequential_6\"\n",
            "_________________________________________________________________\n",
            " Layer (type)                Output Shape              Param #   \n",
            "=================================================================\n",
            " embed-layer (Embedding)     (None, None, 20)          1740180   \n",
            "                                                                 \n",
            " simprnn-layer-0 (SimpleRNN)  (None, 64)               5440      \n",
            "                                                                 \n",
            " dense_7 (Dense)             (None, 64)                4160      \n",
            "                                                                 \n",
            " dense_8 (Dense)             (None, 1)                 65        \n",
            "                                                                 \n",
            "=================================================================\n",
            "Total params: 1,749,845\n",
            "Trainable params: 1,749,845\n",
            "Non-trainable params: 0\n",
            "_________________________________________________________________\n"
          ]
        }
      ]
    },
    {
      "cell_type": "code",
      "source": [
        "rnn_model.compile(optimizer=tf.keras.optimizers.Adam(1e-3),\n",
        "                  loss=tf.keras.losses.BinaryCrossentropy(from_logits=False),\n",
        "                  metrics=['accuracy'])\n",
        "\n",
        "history = rnn_model.fit(\n",
        "    train_data, \n",
        "    validation_data=valid_data, \n",
        "    epochs=10)"
      ],
      "metadata": {
        "colab": {
          "base_uri": "https://localhost:8080/"
        },
        "id": "3dgGK6gHPmwY",
        "outputId": "cd959ec2-0219-4c06-8220-2f3f33018149"
      },
      "execution_count": 31,
      "outputs": [
        {
          "output_type": "stream",
          "name": "stdout",
          "text": [
            "Epoch 1/10\n",
            "625/625 [==============================] - 778s 1s/step - loss: 0.6989 - accuracy: 0.5012 - val_loss: 0.6990 - val_accuracy: 0.5040\n",
            "Epoch 2/10\n",
            "625/625 [==============================] - 772s 1s/step - loss: 0.7008 - accuracy: 0.5030 - val_loss: 0.7002 - val_accuracy: 0.4974\n",
            "Epoch 3/10\n",
            "625/625 [==============================] - 772s 1s/step - loss: 0.6967 - accuracy: 0.4931 - val_loss: 0.6931 - val_accuracy: 0.5112\n",
            "Epoch 4/10\n",
            "625/625 [==============================] - 767s 1s/step - loss: 0.6946 - accuracy: 0.4990 - val_loss: 0.6929 - val_accuracy: 0.5126\n",
            "Epoch 5/10\n",
            "625/625 [==============================] - 774s 1s/step - loss: 0.6942 - accuracy: 0.5010 - val_loss: 0.6929 - val_accuracy: 0.5130\n",
            "Epoch 6/10\n",
            "625/625 [==============================] - 759s 1s/step - loss: 0.6938 - accuracy: 0.5044 - val_loss: 0.6930 - val_accuracy: 0.5150\n",
            "Epoch 7/10\n",
            "625/625 [==============================] - 765s 1s/step - loss: 0.6935 - accuracy: 0.5070 - val_loss: 0.6930 - val_accuracy: 0.5156\n",
            "Epoch 8/10\n",
            "625/625 [==============================] - 781s 1s/step - loss: 0.6933 - accuracy: 0.5069 - val_loss: 0.6929 - val_accuracy: 0.5144\n",
            "Epoch 9/10\n",
            "625/625 [==============================] - 793s 1s/step - loss: 0.6927 - accuracy: 0.5091 - val_loss: 0.6926 - val_accuracy: 0.5140\n",
            "Epoch 10/10\n",
            "625/625 [==============================] - 799s 1s/step - loss: 0.6914 - accuracy: 0.5113 - val_loss: 0.6919 - val_accuracy: 0.5142\n"
          ]
        }
      ]
    },
    {
      "cell_type": "markdown",
      "source": [
        "### 데이터셋 만드는 방법: tensorflow_dataset"
      ],
      "metadata": {
        "id": "a9th9iC4P7_w"
      }
    },
    {
      "cell_type": "code",
      "source": [
        "imdb_bldr = tfds.builder('imdb_reviews')\n",
        "print(imdb_bldr.info)\n",
        "\n",
        "imdb_bldr.download_and_prepare()\n",
        "\n",
        "datasets = imdb_bldr.as_dataset(shuffle_files=False)\n",
        "\n",
        "datasets.keys()"
      ],
      "metadata": {
        "colab": {
          "base_uri": "https://localhost:8080/",
          "height": 931,
          "referenced_widgets": [
            "ab92dcd8c96b438b9399d273ac28c91f",
            "783fce0bda9146d7a7c5b3c57c998d8f",
            "e5925b0972cf4c0d88497beffa717bb7",
            "6b3ad1f1728b4b5c9d4241b49afabe83",
            "659d96d6c21b4917aaa7fa6bcfffc915",
            "305109434e5644138c07e2c86b4000fa",
            "03bd140688ab44119726831cd3f5d526",
            "15a60e36f13247a99cda9700b96fcb9f",
            "1a238ed1d1b0423e8ad92bce1d58aa04",
            "0b126b598ab04165bebbce7bfa436584",
            "39abb57bb4b7493abe625d5184044f5e",
            "6ce7d0678c5b4b5c8a00e897cd7cf48c",
            "4739926a33524977b5d7cafd236863b9",
            "2a070ddc27504d4aaf6f493c89d520cb",
            "7dc345cdde79447eb12fb1b93c4452e8",
            "971bdb240edc44aebaffe128e2bcf157",
            "67f02c8ff48e4c348e1405b902282a7a",
            "97b501bd26654e70938c18ad81afc221",
            "c5d22e30cede4fe88ff4af0437abda20",
            "d1e10c6fc516439ba588bb240f9c6c44",
            "0d60f706761d48c79084113019e73c9c",
            "f2781d05488d4b7baa7429f9a42215ca",
            "4e9a18ba7cb344a1b87b8ba6ebb58114",
            "f87e90020ebe482797df3985bca99525",
            "f950b074cbec458a9e21ba77b93d2f6b",
            "d672e26705154dc7a1fb46e256d207c4",
            "5de839b535504124839939898702f714",
            "c92a4d8716bd40aab9cd71e85ba0af18",
            "933ee61d8cac406baa3c73dbb80f896d",
            "95da6c78a49b4bcca5f2394ae314b44b",
            "8651681b288f43faae517b3e9aa76400",
            "203d91c800384428969368896844c0c1",
            "2c278b5a39e34f26b8cfd5395a130e2c",
            "4d7ae15ab2d44fcfa7f67a50601dd28b",
            "d897fcc5c8e847ba83767cd6a65a53d1",
            "ff09ab318863410b87e5475e1b0ffe2f",
            "77fdd71bc80c46cf94f803618772b25f",
            "bdac7d1ceed24d03ad1d00ce9a1d2397",
            "cdf26e9c29264dbabb2c71cd1157bca5",
            "7339fb4e008741d4a65f1b9d7931673a",
            "279f81f492c64836888fdb1f4f655c42",
            "586d148d339f458fbcd02f44e2e8f9e7",
            "a5d1c716cca2419aa004e484439c86fe",
            "d9c85f46fb894e7abbf99db7327d82c6",
            "6650d29550b64f82acbf0ec1bd2ee814",
            "55f8a3ccd4ac4a03ab797427ff9c4bee",
            "19264e48214845ebba1183da6c797a0b",
            "bdc52ec158b345b6afcc83206df60dcc",
            "c830f8fd3a4d40419f51059ec304af28",
            "95c5e8e852014cfdb72512a3980568c1",
            "a94f9fc17a4b4ff2b65c977ba1d2b768",
            "4ba210236198453b9ed03a5eaa859d2e",
            "219b5386b81f483cbede03d36d6a0db5",
            "3067eca32a9b44a7abb5f195e8a2a620",
            "c104507a797c4a4ab066448982c3419a",
            "8311ecdfe937423faeb186b80c5a4b0a",
            "95c7f9699821439bbefee1be0e5d6672",
            "1f69768afb49419d80240b1b99176e07",
            "938f021e1c14484cbadcb4190fe1f9ff",
            "ddae89ba9e9747e7bbc558c0a7ed84ad",
            "30ea9a6e2f694523954e311308d59aa5",
            "fd2c885569ca4ef38e08cac82cf7fc0a",
            "b2287d137cf849e9b005b017e85b0c6c",
            "eb70e9168fdd42ababb04ab8cd0905a0",
            "159e09569eac4df4be9322ea37515ab5",
            "868ee4c4fd4f45cbb2822dbed60d9d76",
            "aafdbace09cb4eb98a61637c7a99dbeb",
            "be68eb3183874c4d86e879f660f27ed3",
            "73a48de7acc1409cada4e8006fd91a03",
            "93b88e9932ea4458b040388c6f539164",
            "478cfc323ee540db972d360659436ea4",
            "3d97d9d3158149dea553597d33314cc4",
            "cf410016bae441619bd99f9ba8cc39ad",
            "1f4695b3c4e2426492d8ffa44ebc43c9",
            "b6db443e8d844f83bee014b49228a70b",
            "b6e30e8138ce45e49157def21e74c766",
            "a9c7eecbcda948fda3f2139e42777f1c",
            "fc115c5fecbb49f181956c3d5d0f4461",
            "a64b18fbc3464aedb7300f8f6b73b323",
            "a3c29cd45520438dae2dec5d3e3c9410",
            "c8b815d1dcde4b35ad246192727e2e76",
            "f32680d4290249ce9cbf24b3ef636531",
            "78a8f89e8da24a559936792973d3b553",
            "0708fb76f3ce4ddbbfba857f24d1cbeb",
            "696f964aafe741b7b7d69d7be2ea8658",
            "4986ef175009400e8deed2bc54f5a9a7",
            "0f6d2281ceda48468a56fa4a58d00f61",
            "2d264287bd7445519502d64b065481df"
          ]
        },
        "id": "yfbxnrSUQMLo",
        "outputId": "67fadaff-4ed7-41a3-c3e7-aaf226ef5f32"
      },
      "execution_count": 32,
      "outputs": [
        {
          "output_type": "stream",
          "name": "stdout",
          "text": [
            "tfds.core.DatasetInfo(\n",
            "    name='imdb_reviews',\n",
            "    version=1.0.0,\n",
            "    description='Large Movie Review Dataset.\n",
            "This is a dataset for binary sentiment classification containing substantially more data than previous benchmark datasets. We provide a set of 25,000 highly polar movie reviews for training, and 25,000 for testing. There is additional unlabeled data for use as well.',\n",
            "    homepage='http://ai.stanford.edu/~amaas/data/sentiment/',\n",
            "    features=FeaturesDict({\n",
            "        'label': ClassLabel(shape=(), dtype=tf.int64, num_classes=2),\n",
            "        'text': Text(shape=(), dtype=tf.string),\n",
            "    }),\n",
            "    total_num_examples=100000,\n",
            "    splits={\n",
            "        'test': 25000,\n",
            "        'train': 25000,\n",
            "        'unsupervised': 50000,\n",
            "    },\n",
            "    supervised_keys=('text', 'label'),\n",
            "    citation=\"\"\"@InProceedings{maas-EtAl:2011:ACL-HLT2011,\n",
            "      author    = {Maas, Andrew L.  and  Daly, Raymond E.  and  Pham, Peter T.  and  Huang, Dan  and  Ng, Andrew Y.  and  Potts, Christopher},\n",
            "      title     = {Learning Word Vectors for Sentiment Analysis},\n",
            "      booktitle = {Proceedings of the 49th Annual Meeting of the Association for Computational Linguistics: Human Language Technologies},\n",
            "      month     = {June},\n",
            "      year      = {2011},\n",
            "      address   = {Portland, Oregon, USA},\n",
            "      publisher = {Association for Computational Linguistics},\n",
            "      pages     = {142--150},\n",
            "      url       = {http://www.aclweb.org/anthology/P11-1015}\n",
            "    }\"\"\",\n",
            "    redistribution_info=,\n",
            ")\n",
            "\n",
            "\u001b[1mDownloading and preparing dataset imdb_reviews/plain_text/1.0.0 (download: 80.23 MiB, generated: Unknown size, total: 80.23 MiB) to /root/tensorflow_datasets/imdb_reviews/plain_text/1.0.0...\u001b[0m\n"
          ]
        },
        {
          "output_type": "display_data",
          "data": {
            "application/vnd.jupyter.widget-view+json": {
              "model_id": "ab92dcd8c96b438b9399d273ac28c91f",
              "version_minor": 0,
              "version_major": 2
            },
            "text/plain": [
              "Dl Completed...: 0 url [00:00, ? url/s]"
            ]
          },
          "metadata": {}
        },
        {
          "output_type": "display_data",
          "data": {
            "application/vnd.jupyter.widget-view+json": {
              "model_id": "6ce7d0678c5b4b5c8a00e897cd7cf48c",
              "version_minor": 0,
              "version_major": 2
            },
            "text/plain": [
              "Dl Size...: 0 MiB [00:00, ? MiB/s]"
            ]
          },
          "metadata": {}
        },
        {
          "output_type": "stream",
          "name": "stdout",
          "text": [
            "\n",
            "\n"
          ]
        },
        {
          "output_type": "display_data",
          "data": {
            "application/vnd.jupyter.widget-view+json": {
              "model_id": "4e9a18ba7cb344a1b87b8ba6ebb58114",
              "version_minor": 0,
              "version_major": 2
            },
            "text/plain": [
              "0 examples [00:00, ? examples/s]"
            ]
          },
          "metadata": {}
        },
        {
          "output_type": "stream",
          "name": "stdout",
          "text": [
            "Shuffling and writing examples to /root/tensorflow_datasets/imdb_reviews/plain_text/1.0.0.incomplete2BT0BV/imdb_reviews-train.tfrecord\n"
          ]
        },
        {
          "output_type": "display_data",
          "data": {
            "application/vnd.jupyter.widget-view+json": {
              "model_id": "4d7ae15ab2d44fcfa7f67a50601dd28b",
              "version_minor": 0,
              "version_major": 2
            },
            "text/plain": [
              "  0%|          | 0/25000 [00:00<?, ? examples/s]"
            ]
          },
          "metadata": {}
        },
        {
          "output_type": "display_data",
          "data": {
            "application/vnd.jupyter.widget-view+json": {
              "model_id": "6650d29550b64f82acbf0ec1bd2ee814",
              "version_minor": 0,
              "version_major": 2
            },
            "text/plain": [
              "0 examples [00:00, ? examples/s]"
            ]
          },
          "metadata": {}
        },
        {
          "output_type": "stream",
          "name": "stdout",
          "text": [
            "Shuffling and writing examples to /root/tensorflow_datasets/imdb_reviews/plain_text/1.0.0.incomplete2BT0BV/imdb_reviews-test.tfrecord\n"
          ]
        },
        {
          "output_type": "display_data",
          "data": {
            "application/vnd.jupyter.widget-view+json": {
              "model_id": "8311ecdfe937423faeb186b80c5a4b0a",
              "version_minor": 0,
              "version_major": 2
            },
            "text/plain": [
              "  0%|          | 0/25000 [00:00<?, ? examples/s]"
            ]
          },
          "metadata": {}
        },
        {
          "output_type": "display_data",
          "data": {
            "application/vnd.jupyter.widget-view+json": {
              "model_id": "aafdbace09cb4eb98a61637c7a99dbeb",
              "version_minor": 0,
              "version_major": 2
            },
            "text/plain": [
              "0 examples [00:00, ? examples/s]"
            ]
          },
          "metadata": {}
        },
        {
          "output_type": "stream",
          "name": "stdout",
          "text": [
            "Shuffling and writing examples to /root/tensorflow_datasets/imdb_reviews/plain_text/1.0.0.incomplete2BT0BV/imdb_reviews-unsupervised.tfrecord\n"
          ]
        },
        {
          "output_type": "display_data",
          "data": {
            "application/vnd.jupyter.widget-view+json": {
              "model_id": "fc115c5fecbb49f181956c3d5d0f4461",
              "version_minor": 0,
              "version_major": 2
            },
            "text/plain": [
              "  0%|          | 0/50000 [00:00<?, ? examples/s]"
            ]
          },
          "metadata": {}
        },
        {
          "output_type": "stream",
          "name": "stderr",
          "text": [
            "WARNING:absl:Dataset is using deprecated text encoder API which will be removed soon. Please use the plain_text version of the dataset and migrate to `tensorflow_text`.\n"
          ]
        },
        {
          "output_type": "stream",
          "name": "stdout",
          "text": [
            "\u001b[1mDataset imdb_reviews downloaded and prepared to /root/tensorflow_datasets/imdb_reviews/plain_text/1.0.0. Subsequent calls will reuse this data.\u001b[0m\n"
          ]
        },
        {
          "output_type": "execute_result",
          "data": {
            "text/plain": [
              "dict_keys(['test', 'train', 'unsupervised'])"
            ]
          },
          "metadata": {},
          "execution_count": 32
        }
      ]
    },
    {
      "cell_type": "code",
      "source": [
        "imdb_train = datasets['train']\n",
        "imdb_test = datasets['test']"
      ],
      "metadata": {
        "id": "tlVKA3NtQeAa"
      },
      "execution_count": 33,
      "outputs": []
    },
    {
      "cell_type": "markdown",
      "source": [
        "### Tokenizer와 Encoder\n",
        " * `tfds.deprecated.text.Tokenizer`: https://www.tensorflow.org/datasets/api_docs/python/tfds/deprecated/text/Tokenizer\n",
        " * `tfds.deprecated.text.TokenTextEncoder`: https://www.tensorflow.org/datasets/api_docs/python/tfds/deprecated/text/TokenTextEncoder"
      ],
      "metadata": {
        "id": "9ZTgmOiXQjuZ"
      }
    },
    {
      "cell_type": "code",
      "source": [
        "vocab_set = {'a', 'b', 'c', 'd'}\n",
        "encoder = tfds.deprecated.text.TokenTextEncoder(vocab_set)\n",
        "print(encoder)\n",
        "\n",
        "print(encoder.encode(b'a b c d, , : .'))\n",
        "\n",
        "print(encoder.encode(b'a b c d e f g h i z'))"
      ],
      "metadata": {
        "colab": {
          "base_uri": "https://localhost:8080/"
        },
        "id": "ukuzkJeuQrqA",
        "outputId": "8305463b-a114-4d3c-fdd2-6f8e979bb2f0"
      },
      "execution_count": 34,
      "outputs": [
        {
          "output_type": "stream",
          "name": "stdout",
          "text": [
            "<TokenTextEncoder vocab_size=6>\n",
            "[3, 2, 1, 4]\n",
            "[3, 2, 1, 4, 5, 5, 5, 5, 5, 5]\n"
          ]
        }
      ]
    },
    {
      "cell_type": "markdown",
      "source": [
        "### 케라스 텍스트 전처리"
      ],
      "metadata": {
        "id": "YhiOWpW5Q7sR"
      }
    },
    {
      "cell_type": "code",
      "source": [
        "TOP_K = 200\n",
        "MAX_LEN = 10\n",
        "\n",
        "tokenizer = tf.keras.preprocessing.text.Tokenizer(num_words=TOP_K)\n",
        "\n",
        "tokenizer.fit_on_texts(['this is an example', 'je suis en forme '])\n",
        "sequences = tokenizer.texts_to_sequences(['this is an example', 'je suis en forme '])\n",
        "print(sequences)\n",
        "\n",
        "tf.keras.preprocessing.sequence.pad_sequences(sequences, maxlen=MAX_LEN)"
      ],
      "metadata": {
        "colab": {
          "base_uri": "https://localhost:8080/"
        },
        "id": "pvnyyAu9Q-Mo",
        "outputId": "533b0af0-94f6-4462-b373-548880440264"
      },
      "execution_count": 35,
      "outputs": [
        {
          "output_type": "stream",
          "name": "stdout",
          "text": [
            "[[1, 2, 3, 4], [5, 6, 7, 8]]\n"
          ]
        },
        {
          "output_type": "execute_result",
          "data": {
            "text/plain": [
              "array([[0, 0, 0, 0, 0, 0, 1, 2, 3, 4],\n",
              "       [0, 0, 0, 0, 0, 0, 5, 6, 7, 8]], dtype=int32)"
            ]
          },
          "metadata": {},
          "execution_count": 35
        }
      ]
    },
    {
      "cell_type": "code",
      "source": [
        "TOP_K = 20000\n",
        "MAX_LEN = 500\n",
        "\n",
        "tokenizer = tf.keras.preprocessing.text.Tokenizer(num_words=TOP_K)\n",
        "\n",
        "tokenizer.fit_on_texts(\n",
        "    [example['text'].numpy().decode('utf-8') \n",
        "     for example in imdb_train])\n",
        "\n",
        "x_train = tokenizer.texts_to_sequences(\n",
        "    [example['text'].numpy().decode('utf-8')\n",
        "     for example in imdb_train])\n",
        "\n",
        "print(len(x_train))\n",
        "\n",
        "\n",
        "x_train_padded = tf.keras.preprocessing.sequence.pad_sequences(\n",
        "    x_train, maxlen=MAX_LEN)\n",
        "\n",
        "print(x_train_padded.shape)"
      ],
      "metadata": {
        "colab": {
          "base_uri": "https://localhost:8080/"
        },
        "id": "buX2HjguRPOg",
        "outputId": "1d1aad40-94da-4088-ea47-14085ddd99b8"
      },
      "execution_count": 36,
      "outputs": [
        {
          "output_type": "stream",
          "name": "stdout",
          "text": [
            "25000\n",
            "(25000, 500)\n"
          ]
        }
      ]
    },
    {
      "cell_type": "markdown",
      "source": [
        "### 임베딩"
      ],
      "metadata": {
        "id": "ZqEenZgpR2nQ"
      }
    },
    {
      "cell_type": "code",
      "source": [
        "from tensorflow.keras.layers import Embedding\n",
        "\n",
        "tf.random.set_seed(1)\n",
        "embed = Embedding(input_dim=100, output_dim=4)\n",
        "\n",
        "inp_arr = np.array([1, 98, 5, 6, 67, 45])\n",
        "tf.print(embed(inp_arr))\n",
        "tf.print(embed(inp_arr).shape)\n",
        "\n",
        "tf.print(embed(np.array([1])))"
      ],
      "metadata": {
        "colab": {
          "base_uri": "https://localhost:8080/"
        },
        "id": "Frz_9WjXR4NI",
        "outputId": "151228f8-b76b-4b98-ac2e-fd93b1eec59f"
      },
      "execution_count": 37,
      "outputs": [
        {
          "output_type": "stream",
          "name": "stdout",
          "text": [
            "[[-0.0208060984 0.0142502077 0.0475785471 -0.00649005175]\n",
            " [-0.00420691818 -0.0375086069 -0.00477621704 0.00311584398]\n",
            " [0.028728161 -0.0440448038 -0.0428906195 -0.019158531]\n",
            " [-0.0248817336 0.0408470519 -0.00285203382 -0.0257614851]\n",
            " [0.0443614833 0.00331580639 0.043055404 -0.011118304]\n",
            " [-0.0281324144 0.00720113516 0.0192188732 -0.0186921246]]\n",
            "TensorShape([6, 4])\n",
            "[[-0.0208060984 0.0142502077 0.0475785471 -0.00649005175]]\n"
          ]
        }
      ]
    }
  ]
}
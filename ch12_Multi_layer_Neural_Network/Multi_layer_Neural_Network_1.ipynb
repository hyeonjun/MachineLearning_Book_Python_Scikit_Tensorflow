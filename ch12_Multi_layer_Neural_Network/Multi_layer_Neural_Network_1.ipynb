{
  "nbformat": 4,
  "nbformat_minor": 0,
  "metadata": {
    "colab": {
      "name": "ch12_Multilayer_Neural_Network_1.ipynb",
      "provenance": [],
      "collapsed_sections": [],
      "authorship_tag": "ABX9TyNHWXDt+eVDODEvjzXkR8MK"
    },
    "kernelspec": {
      "name": "python3",
      "display_name": "Python 3"
    },
    "language_info": {
      "name": "python"
    }
  },
  "cells": [
    {
      "cell_type": "code",
      "execution_count": 1,
      "metadata": {
        "id": "yhCoV8ADcf4m"
      },
      "outputs": [],
      "source": [
        "from IPython.display import Image"
      ]
    },
    {
      "cell_type": "markdown",
      "source": [
        "# 12. 다층 인공 신경망 구현\n",
        "* 다층 신경망 개념\n",
        "* 신경망을 훈련시키기 위해 필요한 기본적인 역전파 알고리즘 구현\n",
        "* 이미지 분류 문제를 위해 간단한 다층 신경망 훈련\n",
        "\n",
        "# 12.1 인공 신경망으로 복잡한 함수 모델링\n",
        "* 사진 이미지 태깅(tagging)을 위한 페이스북의 DeepFace\n",
        "* 중국어 음성 검색을 지원하는 바이두의 DeepSpeech\n",
        "* 구글의 새로운 언어 번역 서비스\n",
        "* 신약 개발과 독성 예측에 사용되는 새로운 기법\n",
        "* 훈련된 피부과 전문의와 비슷한 정확도로 피부암을 진단할 수 있는 모바일 애플리케이션\n",
        "* 유전자 서열에서 단백질 3D 구조 예측\n",
        "* 카메라 비디오 스트림 같은 관측 데이터만 사용하여 교통 체증 속에서 운전하는 방법 학습\n",
        "\n",
        "### 12.1.1 단일층 신경망 요약\n"
      ],
      "metadata": {
        "id": "uTcw-Z7FdFZa"
      }
    },
    {
      "cell_type": "code",
      "source": [
        "# 아달린(ADAptive LInear NEuron, Adaline) 알고리즘\n",
        "Image(url='https://git.io/JLdrS', width=600)"
      ],
      "metadata": {
        "colab": {
          "base_uri": "https://localhost:8080/",
          "height": 302
        },
        "id": "w7JBVd5LfwBi",
        "outputId": "59cf51db-f83f-4d1d-e5e1-6ec24c981d7b"
      },
      "execution_count": 2,
      "outputs": [
        {
          "output_type": "execute_result",
          "data": {
            "text/html": [
              "<img src=\"https://git.io/JLdrS\" width=\"600\"/>"
            ],
            "text/plain": [
              "<IPython.core.display.Image object>"
            ]
          },
          "metadata": {},
          "execution_count": 2
        }
      ]
    },
    {
      "cell_type": "markdown",
      "source": [
        "* 이진 분류를 수행하는 아달린 알고리즘. \n",
        "    * 경사 하강법 최적화 알고리즘을 사용하여 모델 가중치를 학습.\n",
        "    * (훈련 데이터셋을 한 번 순회하는) 에포크마다 가중치 벡터 $w$ 업데이트\n",
        "\n",
        "$$\\boldsymbol{w} := \\boldsymbol{w} + \\mathit\\Delta \\boldsymbol{w}$$\n",
        "\n",
        "전체 훈련 데이터셋에 대한 그레이디언트를 계산하고 그레이디언트의 반대 방향으로 진행하도록 모델 가중치를 업데이트.\n",
        "\n",
        "최적의 모델 가중치를 찾기 위해 제곱 오차합(SSE) 비용 함수로 정의된 목적 함수를 최적화한다. 또 학습률을 그레이디언트에 곱한다. 학습률은 비용 함수의 전역 최솟값을 지나치지 않도록 학습 속도를 조절하기 위해 신중하게 선택해야 한다.\n",
        "\n",
        "경사 하강법 최적화에서는 에포크마다 모든 가중치를 동시에 업데이트한다.\n",
        "\n",
        "업데이트할 그레이디언트를 계산하기 위해 활성화 함수를 사용했지만, 예측을 위해서는 임계 함수를 구현하여 연속적인 출력 값을 이진 클래스 레이블로 압축했다.\n",
        "\n",
        "$g(z) >= 0$일 때 1, 그 외 -1이다.\n",
        "\n",
        "* 단일층 네트워크\n",
        "    * 아달린이 입력층과 출력층 두 개의 층으로 구성되어 있지만 입력층과 출력층 사이에 연결이 하나이기 때문에 단일층(single-layer) 네트워크라고 한다.\n",
        "\n",
        "* 확률적 경사 하강법(stochastic gradient descent)\n",
        "    * 모델 학습 가속\n",
        "    * 하나의 훈련 샘플(온라인 학습) 또는 적은 수의 훈련 샘플(미니 매치 학습)을 사용해서 비용을 근사한다.\n",
        "    * 경사 하강법에 비해 더 자주 가중치를 업데이트하기 때문에 학습이 빠르다."
      ],
      "metadata": {
        "id": "GrM--mk_f_Fx"
      }
    },
    {
      "cell_type": "markdown",
      "source": [
        "### 12.1.2 다층 신경망 구조\n",
        "* 완전 연결 네트워크 - 다층 퍼셉트론(Multilayer Perceptron, MLP)\n"
      ],
      "metadata": {
        "id": "amFwTFUiiu-y"
      }
    },
    {
      "cell_type": "code",
      "source": [
        "# 다층 퍼셉트론 - 3개의 층\n",
        "Image(url='https://git.io/JLdrx', width=600)"
      ],
      "metadata": {
        "colab": {
          "base_uri": "https://localhost:8080/",
          "height": 366
        },
        "id": "boq3XcmhjElg",
        "outputId": "0dd8cb67-26d6-4994-c1d2-95f681ea598b"
      },
      "execution_count": 3,
      "outputs": [
        {
          "output_type": "execute_result",
          "data": {
            "text/html": [
              "<img src=\"https://git.io/JLdrx\" width=\"600\"/>"
            ],
            "text/plain": [
              "<IPython.core.display.Image object>"
            ]
          },
          "metadata": {},
          "execution_count": 3
        }
      ]
    },
    {
      "cell_type": "markdown",
      "source": [
        "입력층, 은닉층, 출력층 하나씩 가진 MLP이다. 은닉층의 유닛은 입력층과 완전 연결되어 있고, 출력층은 은닉층과 완전 연결되어 있다. 하나 이상의 은닉층을 가진 네트워크를 심층 인공 신경망(deep artificial neural network)이라고 한다.\n",
        "\n",
        "* 은닉층 추가\n",
        "    * 깊은 네트워크 구조를 만들기 위해 MLP에 몇 개의 은닉층이든 추가할 수 있다.\n",
        "    * 신경망의 층과 유닛 개수는 추가적인 하이퍼파라미터이다.\n",
        "    * 역전차로 계산하는 오차 그래이디언트는 네트워크에 층이 추가될수록 점점 더 작아진다.\n",
        "        * 이런 그레이디언트 소실 문제는 모델을 학습하기 어렵게 만든다.\n",
        "        "
      ],
      "metadata": {
        "id": "diOLyn4-jR74"
      }
    },
    {
      "cell_type": "code",
      "source": [
        "# 다층 퍼셉트론의 표기법\n",
        "Image(url='https://git.io/JLdrp', width=500)"
      ],
      "metadata": {
        "colab": {
          "base_uri": "https://localhost:8080/",
          "height": 364
        },
        "id": "wG7uX8PgkjBx",
        "outputId": "b60a1430-e811-48dc-f627-aa0aa6d02c5a"
      },
      "execution_count": 4,
      "outputs": [
        {
          "output_type": "execute_result",
          "data": {
            "text/html": [
              "<img src=\"https://git.io/JLdrp\" width=\"500\"/>"
            ],
            "text/plain": [
              "<IPython.core.display.Image object>"
            ]
          },
          "metadata": {},
          "execution_count": 4
        }
      ]
    },
    {
      "cell_type": "markdown",
      "source": [
        "### 12.1.3 정방향 계산으로 신경망 활성화 출력 계산\n",
        "* 정방향 계산(forward propagation) 과정\n",
        "    1. 입력층에서 시작해서 정방향으로 훈련 데이터의 패턴을 네트워크에 전파하여 출력을 만든다.\n",
        "    2. 네트워크의 출력을 기반으로 비용 함수를 이용하여 최소화해야 할 오차 계산\n",
        "    3. 네트워크에 있는 모든 가중치에 대한 도함수를 찾아 오차를 역전파하고 모델 업데이트\n",
        "\n",
        "위 세 단계를 여러 에포크동안 반복하고 MLP 가중치를 학습한다. 그 후 클래스 레이블을 예측하기 위해 정방향 계산으로 네트워크의 출력을 만들고 임계 함수를 적용한다. 이 클래스 레이블은 원-핫 인코딩으로 표현된다.\n",
        "\n",
        "활성화 함수는 그레이디언트 기반 방식을 사용하여 뉴런과 연결된 가중치를 학습하기 위해 미분 가능해야 한다. 이미지 분류 같은 복잡한 문제를 해결하기 위해서는 MLP 모델에 비선형 활성화 함수를 사용해야 한다.\n",
        "\n",
        "* 피드포워드(feed forward): 각 층에서 입력을 순환시키지 않고 다음 층으로 전달\n"
      ],
      "metadata": {
        "id": "77g5_fBKlErY"
      }
    },
    {
      "cell_type": "markdown",
      "source": [
        "# 12.2 손글씨 숫자 분류\n",
        "\n",
        "### 12.2.1 MNIST 데이터셋\n",
        "\n",
        "MNIST 데이터셋은 http://yann.lecun.com/exdb/mnist/ 에 공개되어 있으며 다음 네 부분으로 구성되어 있습니다.\n",
        "\n",
        "- 훈련 세트 이미지: train-images-idx3-ubyte.gz(9.9MB, 압축 해제 후 47MB, 60,000개 샘플)\n",
        "- 훈련 세트 레이블: train-labels-idx1-ubyte.gz(29KB, 압축 해제 후 60KB, 60,000개 레이블)\n",
        "- 테스트 세트 이미지: t10k-images-idx3-ubyte.gz(1.6MB, 압축 해제 후 7.8MB, 10,000개 샘플)\n",
        "- 테스트 세트 레이블: t10k-labels-idx1-ubyte.gz(5KB, 압축 해제 후 10KB, 10,000개 레이블)"
      ],
      "metadata": {
        "id": "MnHO506hnPCH"
      }
    },
    {
      "cell_type": "code",
      "source": [
        "!wget http://yann.lecun.com/exdb/mnist/train-images-idx3-ubyte.gz\n",
        "!wget http://yann.lecun.com/exdb/mnist/train-labels-idx1-ubyte.gz\n",
        "!wget http://yann.lecun.com/exdb/mnist/t10k-images-idx3-ubyte.gz\n",
        "!wget http://yann.lecun.com/exdb/mnist/t10k-labels-idx1-ubyte.gz"
      ],
      "metadata": {
        "colab": {
          "base_uri": "https://localhost:8080/"
        },
        "id": "pmOTxM2fnzVQ",
        "outputId": "f8546291-2604-4f2b-d0e6-f5eb32e03e26"
      },
      "execution_count": 5,
      "outputs": [
        {
          "output_type": "stream",
          "name": "stdout",
          "text": [
            "--2022-01-28 19:08:13--  http://yann.lecun.com/exdb/mnist/train-images-idx3-ubyte.gz\n",
            "Resolving yann.lecun.com (yann.lecun.com)... 104.21.29.36, 172.67.171.76, 2606:4700:3036::ac43:ab4c, ...\n",
            "Connecting to yann.lecun.com (yann.lecun.com)|104.21.29.36|:80... connected.\n",
            "HTTP request sent, awaiting response... 200 OK\n",
            "Length: 9912422 (9.5M) [application/x-gzip]\n",
            "Saving to: ‘train-images-idx3-ubyte.gz.1’\n",
            "\n",
            "\r          train-ima   0%[                    ]       0  --.-KB/s               \rtrain-images-idx3-u 100%[===================>]   9.45M  --.-KB/s    in 0.1s    \n",
            "\n",
            "2022-01-28 19:08:14 (76.5 MB/s) - ‘train-images-idx3-ubyte.gz.1’ saved [9912422/9912422]\n",
            "\n",
            "--2022-01-28 19:08:14--  http://yann.lecun.com/exdb/mnist/train-labels-idx1-ubyte.gz\n",
            "Resolving yann.lecun.com (yann.lecun.com)... 104.21.29.36, 172.67.171.76, 2606:4700:3036::ac43:ab4c, ...\n",
            "Connecting to yann.lecun.com (yann.lecun.com)|104.21.29.36|:80... connected.\n",
            "HTTP request sent, awaiting response... 200 OK\n",
            "Length: 28881 (28K) [application/x-gzip]\n",
            "Saving to: ‘train-labels-idx1-ubyte.gz.1’\n",
            "\n",
            "train-labels-idx1-u 100%[===================>]  28.20K  --.-KB/s    in 0s      \n",
            "\n",
            "2022-01-28 19:08:14 (283 MB/s) - ‘train-labels-idx1-ubyte.gz.1’ saved [28881/28881]\n",
            "\n",
            "--2022-01-28 19:08:14--  http://yann.lecun.com/exdb/mnist/t10k-images-idx3-ubyte.gz\n",
            "Resolving yann.lecun.com (yann.lecun.com)... 104.21.29.36, 172.67.171.76, 2606:4700:3036::ac43:ab4c, ...\n",
            "Connecting to yann.lecun.com (yann.lecun.com)|104.21.29.36|:80... connected.\n",
            "HTTP request sent, awaiting response... 200 OK\n",
            "Length: 1648877 (1.6M) [application/x-gzip]\n",
            "Saving to: ‘t10k-images-idx3-ubyte.gz.1’\n",
            "\n",
            "t10k-images-idx3-ub 100%[===================>]   1.57M  --.-KB/s    in 0.05s   \n",
            "\n",
            "2022-01-28 19:08:14 (33.0 MB/s) - ‘t10k-images-idx3-ubyte.gz.1’ saved [1648877/1648877]\n",
            "\n",
            "--2022-01-28 19:08:14--  http://yann.lecun.com/exdb/mnist/t10k-labels-idx1-ubyte.gz\n",
            "Resolving yann.lecun.com (yann.lecun.com)... 104.21.29.36, 172.67.171.76, 2606:4700:3036::ac43:ab4c, ...\n",
            "Connecting to yann.lecun.com (yann.lecun.com)|104.21.29.36|:80... connected.\n",
            "HTTP request sent, awaiting response... 200 OK\n",
            "Length: 4542 (4.4K) [application/x-gzip]\n",
            "Saving to: ‘t10k-labels-idx1-ubyte.gz.1’\n",
            "\n",
            "t10k-labels-idx1-ub 100%[===================>]   4.44K  --.-KB/s    in 0s      \n",
            "\n",
            "2022-01-28 19:08:14 (400 MB/s) - ‘t10k-labels-idx1-ubyte.gz.1’ saved [4542/4542]\n",
            "\n"
          ]
        }
      ]
    },
    {
      "cell_type": "code",
      "source": [
        "# MNIST 데이터 압축 풀기\n",
        "import sys\n",
        "import gzip\n",
        "import shutil\n",
        "import os\n",
        "\n",
        "if (sys.version_info > (3, 0)):\n",
        "    writemode = 'wb'\n",
        "else:\n",
        "    writemode = 'w'\n",
        "\n",
        "zipped_mnist = [f for f in os.listdir() if f.endswith('ubyte.gz')]\n",
        "for z in zipped_mnist:\n",
        "    with gzip.GzipFile(z, mode='rb') as decompressed, open(z[:-3], writemode) as outfile:\n",
        "        outfile.write(decompressed.read())"
      ],
      "metadata": {
        "id": "TbM5NvO4oLxY"
      },
      "execution_count": 6,
      "outputs": []
    },
    {
      "cell_type": "code",
      "source": [
        "# 압축 해제된 MNIST 데이터 불러오기\n",
        "import os\n",
        "import struct\n",
        "import numpy as np\n",
        " \n",
        "def load_mnist(path, kind='train'):\n",
        "    \"\"\"`path`에서 MNIST 데이터 불러오기\"\"\"\n",
        "    labels_path = os.path.join(path, \n",
        "                               '%s-labels-idx1-ubyte' % kind)\n",
        "    images_path = os.path.join(path, \n",
        "                               '%s-images-idx3-ubyte' % kind)\n",
        "        \n",
        "    with open(labels_path, 'rb') as lbpath:\n",
        "        magic, n = struct.unpack('>II', \n",
        "                                 lbpath.read(8))\n",
        "        labels = np.fromfile(lbpath, \n",
        "                             dtype=np.uint8)\n",
        "\n",
        "    with open(images_path, 'rb') as imgpath:\n",
        "        magic, num, rows, cols = struct.unpack(\">IIII\", \n",
        "                                               imgpath.read(16))\n",
        "        images = np.fromfile(imgpath, \n",
        "                             dtype=np.uint8).reshape(len(labels), 784)\n",
        "        images = ((images / 255.) - .5) * 2 # MNIST 픽셀 값은 -1에서 1 사이로 정규화 - 원래는 0에서 255 사이 값.\n",
        " \n",
        "    return images, labels"
      ],
      "metadata": {
        "id": "3y3MkAylovNw"
      },
      "execution_count": 7,
      "outputs": []
    },
    {
      "cell_type": "markdown",
      "source": [
        "* load_mnist 함수는 두 개의 배열을 반환\n",
        "    * images: n * m 차원의 넘파이 배열\n",
        "        * n: 샘플 개수\n",
        "        * m: 특성(픽셀) 개수\n",
        "    * labels: 이미지에 해당하는 타깃 배열\n",
        "    * 훈련 데이터셋은 6만 개의 숫자 샘플을 가지고 있고 테스트 데이터셋은 1만 개의 샘플으 가지고 있다.\n",
        "    * 28 * 28 픽셀 이미지로, 각 픽셀은 회색 톤의 강도를 나타낸다.\n",
        "    * 28 * 28 픽셀을 1차원 행 벡터로 펼져이고, 이 벡터는 이미지 배열에서 한 행이 된다(즉, 28 * 28 = 784개의 행 또는 이미지가 된다).\n",
        "    * 이미지 픽셀을 다룰 때는 평균을 0에 맞추고 [-1, 1] 범위로 조정하는 것이 일반적이다. "
      ],
      "metadata": {
        "id": "tuMfiODSpfnX"
      }
    },
    {
      "cell_type": "code",
      "source": [
        "!ls"
      ],
      "metadata": {
        "colab": {
          "base_uri": "https://localhost:8080/"
        },
        "id": "HSdExfryo4vH",
        "outputId": "2c3c55f8-5e2e-4a19-9d56-9cff7bdbe7e8"
      },
      "execution_count": 8,
      "outputs": [
        {
          "output_type": "stream",
          "name": "stdout",
          "text": [
            "mnist_scaled.npz\t     t10k-labels-idx1-ubyte.gz.1\n",
            "sample_data\t\t     train-images-idx3-ubyte\n",
            "t10k-images-idx3-ubyte\t     train-images-idx3-ubyte.gz\n",
            "t10k-images-idx3-ubyte.gz    train-images-idx3-ubyte.gz.1\n",
            "t10k-images-idx3-ubyte.gz.1  train-labels-idx1-ubyte\n",
            "t10k-labels-idx1-ubyte\t     train-labels-idx1-ubyte.gz\n",
            "t10k-labels-idx1-ubyte.gz    train-labels-idx1-ubyte.gz.1\n"
          ]
        }
      ]
    },
    {
      "cell_type": "code",
      "source": [
        "X_train, y_train = load_mnist('', kind='train')\n",
        "print('행: %d, 열: %d' % (X_train.shape[0], X_train.shape[1]))\n",
        "\n",
        "X_test, y_test = load_mnist('', kind='t10k')\n",
        "print('행: %d, 열: %d' % (X_test.shape[0], X_test.shape[1]))"
      ],
      "metadata": {
        "colab": {
          "base_uri": "https://localhost:8080/"
        },
        "id": "PxA_WmYgo6Ff",
        "outputId": "74e409d7-e3b8-442d-fd46-ebb96af33616"
      },
      "execution_count": 9,
      "outputs": [
        {
          "output_type": "stream",
          "name": "stdout",
          "text": [
            "행: 60000, 열: 784\n",
            "행: 10000, 열: 784\n"
          ]
        }
      ]
    },
    {
      "cell_type": "code",
      "source": [
        "import matplotlib.pyplot as plt"
      ],
      "metadata": {
        "id": "avT0H2fJrs7n"
      },
      "execution_count": 10,
      "outputs": []
    },
    {
      "cell_type": "code",
      "source": [
        "# 숫자 0에서 9까지의 각 클래스 첫 번째 이미지 시각화\n",
        "fig, ax = plt.subplots(nrows=2, ncols=5, sharex=True, sharey=True)\n",
        "ax = ax.flatten()\n",
        "\n",
        "for i in range(10):\n",
        "    img = X_train[y_train == i][0].reshape(28, 28) # 특성 행렬의 픽셀 벡터 784개를 원본 28 * 28 이미지로 크기를 변경\n",
        "    ax[i].imshow(img, cmap='Greys')\n",
        "\n",
        "ax[0].set_xticks([])\n",
        "ax[0].set_yticks([])\n",
        "plt.tight_layout()\n",
        "plt.show()"
      ],
      "metadata": {
        "colab": {
          "base_uri": "https://localhost:8080/",
          "height": 224
        },
        "id": "u3aaP83xpBnP",
        "outputId": "0bbea816-65e8-4e60-ad13-9d4b25db08bf"
      },
      "execution_count": 11,
      "outputs": [
        {
          "output_type": "display_data",
          "data": {
            "image/png": "[encoded data removed]",
            "text/plain": [
              "<Figure size 432x288 with 10 Axes>"
            ]
          },
          "metadata": {}
        }
      ]
    },
    {
      "cell_type": "code",
      "source": [
        "# 손글씨마다 얼마나 차이나는지 확인하기 위해 같은 샘플을 여러 개 출력\n",
        "fig, ax = plt.subplots(nrows=5, ncols=5, sharex=True, sharey=True)\n",
        "ax = ax.flatten()\n",
        "\n",
        "for i in range(25):\n",
        "    img = X_train[y_train == 7][i].reshape(28, 28)\n",
        "    ax[i].imshow(img, cmap='Greys')\n",
        "\n",
        "ax[0].set_xticks([])\n",
        "ax[0].set_yticks([])\n",
        "plt.tight_layout()\n",
        "plt.show()"
      ],
      "metadata": {
        "colab": {
          "base_uri": "https://localhost:8080/",
          "height": 297
        },
        "id": "2oxVxL_psNMf",
        "outputId": "9ff988df-3d26-4d2d-f206-80c47724f1a0"
      },
      "execution_count": 12,
      "outputs": [
        {
          "output_type": "display_data",
          "data": {
            "image/png": "[encoded data removed]",
            "text/plain": [
              "<Figure size 432x288 with 25 Axes>"
            ]
          },
          "metadata": {}
        }
      ]
    },
    {
      "cell_type": "markdown",
      "source": [
        "이전 단꼐를 모두 진행한 후 스케일된 이미지를 새로운 파이썬 세션에서 빠르게 읽을 수 있는 포맷으로 저장하는 것이 좋다. 이렇게 하면 데이터를 읽고 전처리하는 오버헤드를 피할 수 있다. 넘파이 배열을 사용할 때 다차원 배열을 디스크에 저장하는 효율적으로 가장 간편한 방법은 넘파이 savez 함수이다.\n",
        "\n",
        "savez 함수는 pickle 모듈과 비슷하지만, 넘파이 배열을 저장하는 데 최적화되어 있다. savez 함수는 데이터를 압축하여 .npy 포맷 파일을 담고 있는 .npz 파일을 만든다. "
      ],
      "metadata": {
        "id": "8M6GCwqQsm4H"
      }
    },
    {
      "cell_type": "code",
      "source": [
        "np.savez_compressed('mnist_scaled.npz',\n",
        "                    X_train=X_train,\n",
        "                    y_train=y_train,\n",
        "                    X_test=X_test,\n",
        "                    y_test=y_test)\n",
        "\n",
        "mnist = np.load('mnist_scaled.npz')\n",
        "mnist.files"
      ],
      "metadata": {
        "colab": {
          "base_uri": "https://localhost:8080/"
        },
        "id": "r0TkWulmslYG",
        "outputId": "cf51b2dc-985d-466c-bdd0-367704298bd6"
      },
      "execution_count": 13,
      "outputs": [
        {
          "output_type": "execute_result",
          "data": {
            "text/plain": [
              "['X_train', 'y_train', 'X_test', 'y_test']"
            ]
          },
          "metadata": {},
          "execution_count": 13
        }
      ]
    },
    {
      "cell_type": "code",
      "source": [
        "X_train, y_train, X_test, y_test = [mnist[f] for f in ['X_train', 'y_train', 'X_test', 'y_test']]\n",
        "\n",
        "del mnist\n",
        "\n",
        "X_train.shape"
      ],
      "metadata": {
        "colab": {
          "base_uri": "https://localhost:8080/"
        },
        "id": "DQMdZrJUtYHe",
        "outputId": "ad4afd08-06eb-48ba-b4bd-244dca227bfb"
      },
      "execution_count": 14,
      "outputs": [
        {
          "output_type": "execute_result",
          "data": {
            "text/plain": [
              "(60000, 784)"
            ]
          },
          "metadata": {},
          "execution_count": 14
        }
      ]
    },
    {
      "cell_type": "markdown",
      "source": [
        "### 12.2.2 다층 퍼셉트론 구현\n",
        "\n"
      ],
      "metadata": {
        "id": "KtgSWVldtl5L"
      }
    },
    {
      "cell_type": "code",
      "source": [
        "class NeuralNetMLP(object):\n",
        "    \"\"\"\n",
        "    피드포워드 신경망 / 다층 퍼셉트론 분류기\n",
        "\n",
        "    * 매개변수\n",
        "        - n_hidden: int, defualt=30, 은닉 유닛 개수\n",
        "        - l2: float, defualt=0., l2 규제의 람다값, l2=0이면 규제 없음.(기본값)\n",
        "        - epochs: int, defualt=100, 훈련 세트를 반복할 횟수\n",
        "        - eta: float, defualt=0.001, 학습률\n",
        "        - shuffle: bool, defualt=True, 에포크마다 훈련 세트를 섞을지 여부. True이면 데이터를 섞어 순서를 바꾼다.\n",
        "        - minibatch_size: int, defualt=1, 미니 배치의 훈련 샘플 개수\n",
        "        - seed: int, defualt=None, 가중치와 데이터 셔플링을 위한 난수 초깃값\n",
        "\n",
        "    * 속성\n",
        "        - eval_: dict, 훈련 에포크마다 비용, 훈련 정확도, 검증 정확도를 수집하기 위한 딕셔너리\n",
        "    \"\"\"\n",
        "    def __init__(self, n_hidden=30, l2=0, epochs=100,\n",
        "                 eta=0.001, shuffle=True, minibatch_size=1, seed=None):\n",
        "        self.random = np.random.RandomState(seed)\n",
        "        self.n_hidden = n_hidden\n",
        "        self.l2 = l2\n",
        "        self.epochs = epochs\n",
        "        self.eta = eta\n",
        "        self.shuffle = shuffle\n",
        "        self.minibatch_size = minibatch_size\n",
        "    \n",
        "    def _onehot(self, y, n_classes):\n",
        "        \"\"\"\n",
        "        레이블 원-핫 인코딩\n",
        "\n",
        "        * 매개변수\n",
        "            - y: 배열, 크기=[n_samples], 타깃 값.\n",
        "            - n_classes: int, 클래스 개수\n",
        "        \n",
        "        * 반환값\n",
        "            - onehot: 배열, 크기=(n_samples, n_labels)\n",
        "        \"\"\"\n",
        "        onehot = np.zeros((n_classes, y.shape[0]))\n",
        "        for idx, val in enumerate(y.astype(int)):\n",
        "            onehot[val, idx] = 1.\n",
        "        return onehot.T\n",
        "    \n",
        "    def _sigmoid(self, z):\n",
        "        # 로지스틱 함수(시그모이드) 계산\n",
        "        return 1. / (1. + np.exp(-np.clip(z, -250, 250)))\n",
        "    \n",
        "    def _forward(self, X):\n",
        "        # 정방향 계산 수행\n",
        "\n",
        "        # 단계 1: 은닉층의 최종 입력\n",
        "        # [n_samples, n_features] dot [n_features, n_hidden]\n",
        "        # -> [n_samples, n_hidden]\n",
        "        z_h = np.dot(X, self.w_h) + self.b_h\n",
        "\n",
        "        # 단계 2: 은닉층의 활성화 출력\n",
        "        a_h = self._sigmoid(z_h)\n",
        "\n",
        "        # 단계 3: 출력층의 최종 입력\n",
        "        # [n_samples, n_hidden] dot [n_hidden, n_classlabels]\n",
        "        # -> [n_samples, n_classlabels]\n",
        "        z_out = np.dot(a_h, self.w_out) + self.b_out\n",
        "\n",
        "        # 단계 4: 출력층의 활성화 출력\n",
        "        a_out = self._sigmoid(z_out)\n",
        "\n",
        "        return z_h, a_h, z_out, a_out\n",
        "    \n",
        "    def _compute_cost(self, y_enc, output):\n",
        "        \"\"\"\n",
        "        비용 함수 계산\n",
        "\n",
        "        * 매개변수\n",
        "            - y_enc: 배열, 크기=(n_samples, n_labels)\n",
        "                원-핫 인코딩된 클래스 레이블\n",
        "            - output: 배열, 크기=[n_samples, n_output_units]\n",
        "                출력층의 활성화 출력 (정방향 계산)\n",
        "        \n",
        "        * 반환값\n",
        "            - cost: float, 규제가 포함된 비용\n",
        "        \"\"\"\n",
        "        L2_term = (self.l2 *\n",
        "                   (np.sum(self.w_h ** 2.) + \n",
        "                    np.sum(self.w_out ** 2.)))\n",
        "        \n",
        "        term1 = -y_enc * (np.log(output))\n",
        "        term2 = (1. - y_enc) * np.log(1. - output)\n",
        "        cost = np.sum(term1 - term2) + L2_term\n",
        "\n",
        "        \"\"\"\n",
        "        다른 데이터셋에서는 극단적인 (0 또는 1에 가까운) 활성화 값이 나올 수 있다.\n",
        "        파이썬과 넘파이의 수치 연산이 불안정하기 때문에 \"ZeroDivisionError\"가 발생할 수 있다.\n",
        "        즉, log(0)을 평가하는 경우이다.\n",
        "        이 문제를 해결하기 위해 로그 함수에 전달되는 활성화 값에 작은 상수를 더한다.\n",
        "\n",
        "        ex)\n",
        "        term1 = -y_enc * (np.log(output + 1e-5))\n",
        "        term2 = (1. - y_enc) * np.log(1. - output + 1e-5)\n",
        "        \"\"\"\n",
        "        return cost\n",
        "\n",
        "    def predict(self, X):\n",
        "        \"\"\"\n",
        "        클래스 레이블 예측\n",
        "\n",
        "        * 매개변수\n",
        "            - X: 배열, 크기=[n_samples, n_features]\n",
        "                원본 특성의 입력층\n",
        "        \n",
        "        * 반환값\n",
        "            - y_pred: 배열, 크기=[n_samples]\n",
        "                예측된 클래스 레이블\n",
        "        \"\"\"\n",
        "        z_h, a_h, z_out, a_out = self._forward(X)\n",
        "        y_pred = np.argmax(z_out, axis=1)\n",
        "        return y_pred\n",
        "    \n",
        "    def fit(self, X_train, y_train, X_valid, y_valid):\n",
        "        \"\"\"\n",
        "        훈련 데이터셋에서 가중치 학습\n",
        "\n",
        "        * 매개변수\n",
        "            - X_train: 배열, 크기=[n_samples, n_features]\n",
        "                원본 특성의 입력층\n",
        "            - y_train: 배열, 크기=[n_samples]\n",
        "                타깃 클래스 레이블\n",
        "            - X_valid: 배열, 크기=[n_samples, n_features]\n",
        "                훈련하는 동안 검증에 사용할 샘플 특성\n",
        "            - y_valid: 배열, 크기=[n_samples]\n",
        "                훈련하는 동안 검증에 사용할 샘플 레이블\n",
        "            \n",
        "        * 반환값 self\n",
        "        \"\"\"\n",
        "        n_output = np.unique(y_train).shape[0]  # number of class labels\n",
        "        n_features = X_train.shape[1]\n",
        "\n",
        "        ##############################\n",
        "        # 가중치 초기화\n",
        "        ##############################\n",
        "\n",
        "        # 입력층 -> 은닉층 사이의 가중치\n",
        "        self.b_h = np.zeros(self.n_hidden)\n",
        "        self.w_h = self.random.normal(loc=0.0, scale=0.1,\n",
        "                                      size=(n_features, self.n_hidden))\n",
        "        \n",
        "        # 은닉층 -> 출력층 사이의 가중치\n",
        "        self.b_out = np.zeros(n_output)\n",
        "        self.w_out = self.random.normal(loc=0.0, scale=0.1,\n",
        "                                        size=(self.n_hidden, n_output))\n",
        "        \n",
        "        epoch_strlen = len(str(self.epochs))  # 출력 포맷을 위해\n",
        "        self.eval_ = {'cost': [], 'train_acc': [], 'valid_acc': []}\n",
        "\n",
        "        y_train_enc = self._onehot(y_train, n_output)\n",
        "\n",
        "        # 훈련 에포크를 반복한다\n",
        "        for i in range(self.epochs):\n",
        "\n",
        "            # 미니 배치로 반복\n",
        "            indices = np.arange(X_train.shape[0])\n",
        "\n",
        "            if self.shuffle:\n",
        "                self.random.shuffle(indices)\n",
        "\n",
        "            for start_idx in range(0, indices.shape[0] - self.minibatch_size +\n",
        "                                   1, self.minibatch_size):\n",
        "                batch_idx = indices[start_idx:start_idx + self.minibatch_size]\n",
        "\n",
        "                # 정방향 계산\n",
        "                z_h, a_h, z_out, a_out = self._forward(X_train[batch_idx])\n",
        "\n",
        "                ##############################\n",
        "                # 역전파\n",
        "                ##############################\n",
        "\n",
        "                # [n_examples, n_classlabels]\n",
        "                delta_out = a_out - y_train_enc[batch_idx]\n",
        "\n",
        "                # [n_examples, n_hidden]\n",
        "                sigmoid_derivative_h = a_h * (1. - a_h)\n",
        "\n",
        "                # [n_examples, n_classlabels] dot [n_classlabels, n_hidden]\n",
        "                # -> [n_examples, n_hidden]\n",
        "                delta_h = (np.dot(delta_out, self.w_out.T) *\n",
        "                           sigmoid_derivative_h)\n",
        "\n",
        "                # [n_features, n_examples] dot [n_examples, n_hidden]\n",
        "                # -> [n_features, n_hidden]\n",
        "                grad_w_h = np.dot(X_train[batch_idx].T, delta_h)\n",
        "                grad_b_h = np.sum(delta_h, axis=0)\n",
        "\n",
        "                # [n_hidden, n_examples] dot [n_examples, n_classlabels]\n",
        "                # -> [n_hidden, n_classlabels]\n",
        "                grad_w_out = np.dot(a_h.T, delta_out)\n",
        "                grad_b_out = np.sum(delta_out, axis=0)\n",
        "\n",
        "                # 규제와 가중치 업데이트\n",
        "                delta_w_h = (grad_w_h + self.l2*self.w_h)\n",
        "                delta_b_h = grad_b_h # 편향은 규제하지 않는다.\n",
        "                self.w_h -= self.eta * delta_w_h\n",
        "                self.b_h -= self.eta * delta_b_h\n",
        "\n",
        "                delta_w_out = (grad_w_out + self.l2*self.w_out)\n",
        "                delta_b_out = grad_b_out # 편향은 규제 하지 않는다.\n",
        "                self.w_out -= self.eta * delta_w_out\n",
        "                self.b_out -= self.eta * delta_b_out\n",
        "            \n",
        "            ##############################\n",
        "            # 평가\n",
        "            ##############################\n",
        "\n",
        "            # 훈련하는 동안 에포크마다 평가\n",
        "            z_h, a_h, z_out, a_out = self._forward(X_train)\n",
        "            \n",
        "            cost = self._compute_cost(y_enc=y_train_enc,\n",
        "                                      output=a_out)\n",
        "\n",
        "            y_train_pred = self.predict(X_train)\n",
        "            y_valid_pred = self.predict(X_valid)\n",
        "\n",
        "            train_acc = ((np.sum(y_train == y_train_pred)).astype(np.float) /\n",
        "                         X_train.shape[0])\n",
        "            valid_acc = ((np.sum(y_valid == y_valid_pred)).astype(np.float) /\n",
        "                         X_valid.shape[0])\n",
        "\n",
        "            sys.stderr.write('\\r%0*d/%d | 비용: %.2f '\n",
        "                             '| 훈련/검증 정확도: %.2f%%/%.2f%% ' %\n",
        "                             (epoch_strlen, i+1, self.epochs, cost,\n",
        "                              train_acc*100, valid_acc*100))\n",
        "            sys.stderr.flush()\n",
        "\n",
        "            self.eval_['cost'].append(cost)\n",
        "            self.eval_['train_acc'].append(train_acc)\n",
        "            self.eval_['valid_acc'].append(valid_acc)\n",
        "        \n",
        "        return self"
      ],
      "metadata": {
        "id": "6Ixhz8xeuil_"
      },
      "execution_count": 15,
      "outputs": []
    },
    {
      "cell_type": "code",
      "source": [
        "nn = NeuralNetMLP(n_hidden=100,\n",
        "                  l2=0.01,\n",
        "                  epochs=200,\n",
        "                  eta=0.0005,\n",
        "                  minibatch_size=100,\n",
        "                  shuffle=True,\n",
        "                  seed=1)"
      ],
      "metadata": {
        "id": "xZFNx5SBwPfu"
      },
      "execution_count": 16,
      "outputs": []
    },
    {
      "cell_type": "code",
      "source": [
        "nn.fit(X_train=X_train[:55000],\n",
        "       y_train=y_train[:55000],\n",
        "       X_valid=X_train[55000:],\n",
        "       y_valid=y_train[55000:])"
      ],
      "metadata": {
        "colab": {
          "base_uri": "https://localhost:8080/"
        },
        "id": "dyAxhlY5weeG",
        "outputId": "6bd30521-6128-4931-95cf-35b2705ca0b0"
      },
      "execution_count": 17,
      "outputs": [
        {
          "output_type": "stream",
          "name": "stderr",
          "text": [
            "200/200 | 비용: 5065.78 | 훈련/검증 정확도: 99.28%/97.98% "
          ]
        },
        {
          "output_type": "execute_result",
          "data": {
            "text/plain": [
              "<__main__.NeuralNetMLP at 0x7f9f2c26f050>"
            ]
          },
          "metadata": {},
          "execution_count": 17
        }
      ]
    },
    {
      "cell_type": "code",
      "source": [
        "# eval_ 속성을 정의하여 에포크마다 비용, 훈련 정확도, 검증 정확도를 수집했다.\n",
        "# 이를 맷플롯립을 사용하여 시각화.\n",
        "plt.plot(range(nn.epochs), nn.eval_['cost'])\n",
        "plt.ylabel('Cost')\n",
        "plt.xlabel('Epochs')\n",
        "plt.show()"
      ],
      "metadata": {
        "colab": {
          "base_uri": "https://localhost:8080/",
          "height": 279
        },
        "id": "BLojkLxXwr9t",
        "outputId": "2a4dcd7b-2387-4070-b4e3-06294a990264"
      },
      "execution_count": 18,
      "outputs": [
        {
          "output_type": "display_data",
          "data": {
            "image/png": "[encoded data removed]",
            "text/plain": [
              "<Figure size 432x288 with 1 Axes>"
            ]
          },
          "metadata": {
            "needs_background": "light"
          }
        }
      ]
    },
    {
      "cell_type": "markdown",
      "source": [
        "비용은 100번의 에포크 동안 많이 감소한다. 그리고 이후 100번의 에포크에서 천천히 수렴하는 것으로 보인다. 하지만 175번째 200번째 에포크 사이에 약간 경사가 있어 에포크를 추가하여 훈련하면 비용이 더 감소할 것이다."
      ],
      "metadata": {
        "id": "fIn-U6kKxO92"
      }
    },
    {
      "cell_type": "code",
      "source": [
        "# 훈련 정확도와 검증 정확도 시각화\n",
        "plt.plot(range(nn.epochs), nn.eval_['train_acc'], label='Training')\n",
        "plt.plot(range(nn.epochs), nn.eval_['valid_acc'], label='Validation', linestyle='--')\n",
        "plt.xlabel('Epochs')\n",
        "plt.ylabel('Accuracy')\n",
        "plt.legend()\n",
        "plt.show()"
      ],
      "metadata": {
        "colab": {
          "base_uri": "https://localhost:8080/",
          "height": 283
        },
        "id": "FDPoRc1YxcLt",
        "outputId": "b83d5727-e79f-485f-a030-de4635e32680"
      },
      "execution_count": 19,
      "outputs": [
        {
          "output_type": "display_data",
          "data": {
            "image/png": "[encoded data removed]",
            "text/plain": [
              "<Figure size 432x288 with 1 Axes>"
            ]
          },
          "metadata": {
            "needs_background": "light"
          }
        }
      ]
    },
    {
      "cell_type": "markdown",
      "source": [
        "네트워크 훈련 에포크가 늘어날수록 훈련 정확도와 검증 정확도 사이 간격이 증가한다는 것을 보여준다. 약 50번째 에포크에서 훈련 정확도와 검증 정확도 값이 동일하고 그 이후에 네트워크는 훈련 데이터셋에 과대적합되기 시작한다.\n",
        "\n",
        "* 과대적합 줄이는 방법\n",
        "    * 규제 강도 높이기\n",
        "    * 드롭아웃(dropout)"
      ],
      "metadata": {
        "id": "i9myXe90x2U_"
      }
    },
    {
      "cell_type": "code",
      "source": [
        "# 테스트 데이터셋에서 예측 정확도를 계산하여 모델 일반화 성능 평가\n",
        "y_test_pred = nn.predict(X_test)\n",
        "acc = (np.sum(y_test == y_test_pred).astype(np.float64) / X_test.shape[0])\n",
        "print('테스트 정확도: %.2f%%' % (acc * 100))"
      ],
      "metadata": {
        "colab": {
          "base_uri": "https://localhost:8080/"
        },
        "id": "mJKWtBGmyXFF",
        "outputId": "5a895618-1f84-436f-9e3c-ed6400e2c02d"
      },
      "execution_count": 20,
      "outputs": [
        {
          "output_type": "stream",
          "name": "stdout",
          "text": [
            "테스트 정확도: 97.54%\n"
          ]
        }
      ]
    },
    {
      "cell_type": "code",
      "source": [
        "# 예측이 틀린 샘플들 확인\n",
        "miscl_img = X_test[y_test != y_test_pred][:25]\n",
        "correct_lab = y_test[y_test != y_test_pred][:25]\n",
        "miscl_lab = y_test_pred[y_test != y_test_pred][:25]\n",
        "\n",
        "fig, ax = plt.subplots(nrows=5, ncols=5,            # 5 * 5 격자 그래프\n",
        "                       sharex=True, sharey=True)\n",
        "ax = ax.flatten()\n",
        "for i in range(25):\n",
        "    img = miscl_img[i].reshape(28, 28)\n",
        "    ax[i].imshow(img, cmap='Greys',\n",
        "                 interpolation='nearest')\n",
        "    ax[i].set_title('%d) t: %d p: %d' % (i+1, correct_lab[i], miscl_lab[i])) # 그래프 번호, 클래스 레이블, 예측된 클래스 레이블\n",
        "\n",
        "ax[0].set_xticks([])\n",
        "ax[0].set_yticks([])\n",
        "plt.tight_layout()\n",
        "plt.show()"
      ],
      "metadata": {
        "colab": {
          "base_uri": "https://localhost:8080/",
          "height": 297
        },
        "id": "zFuDsI-ty1PE",
        "outputId": "cd99bb2b-ede6-4b01-c14e-10fbda8a98e0"
      },
      "execution_count": 21,
      "outputs": [
        {
          "output_type": "display_data",
          "data": {
            "image/png": "[encoded data removed]",
            "text/plain": [
              "<Figure size 432x288 with 25 Axes>"
            ]
          },
          "metadata": {}
        }
      ]
    }
  ]
}
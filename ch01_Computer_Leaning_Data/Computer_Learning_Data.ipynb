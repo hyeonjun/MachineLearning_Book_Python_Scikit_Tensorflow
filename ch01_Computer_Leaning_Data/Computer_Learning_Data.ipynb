{
  "nbformat": 4,
  "nbformat_minor": 0,
  "metadata": {
    "colab": {
      "name": "ch01_Learning_Data.ipynb",
      "provenance": [],
      "authorship_tag": "ABX9TyPz+cBVx+J3iL2vLPawEju2"
    },
    "kernelspec": {
      "name": "python3",
      "display_name": "Python 3"
    },
    "language_info": {
      "name": "python"
    }
  },
  "cells": [
    {
      "cell_type": "markdown",
      "source": [
        "# 컴퓨터는 데이터를 배운다\n",
        "\n",
        "### 1.1 데이터를 지식으로 바꾸는 지능적인 시스템 구축\n",
        "* 인공 지능 > 머신 러닝\n",
        "* 수동으로 만드는 규칙 > 데이터에서 규칙(지식)을 도출\n",
        "\n",
        "### 1.2 머신 러닝의 세 가지 종류\n",
        "* 지도 학습\n",
        "    * 레이블된 데이터\n",
        "    * 직접 피드백\n",
        "    * 출력 및 미래 예측\n",
        "* 비지도 학습\n",
        "    * 레이블 및 타깃 없음\n",
        "    * 피드백 없음\n",
        "    * 데이터에서 숨겨진 구조 찾기\n",
        "* 강화 학습\n",
        "    * 결정 과정\n",
        "    * 보상 시스템\n",
        "    * 연속된 행동에서 학습\n",
        "\n",
        "#### 1.2.1 지도 학습으로 미래 예측\n",
        "\n",
        "* 지도 학습의 주요 목적 : 레이블(Lable)된 훈련 데이터에서 모델을 학습하여 본 적 없는 미래 데이터에 대해 예측을 만드는 것.\n",
        "* 지도(supervised)는 희망하는 출력 신호(레이블)가 있는 일련의 샘플(데이터 입력)을 의미.\n",
        "* 분류(Classification) : 개별 클래스 레이블이 있는 지도 학습\n",
        "* 회귀(Regression) : 연속적인 값을 출력\n",
        "\n"
      ],
      "metadata": {
        "id": "ENjxPfkMfRDl"
      }
    },
    {
      "cell_type": "code",
      "execution_count": 1,
      "metadata": {
        "colab": {
          "base_uri": "https://localhost:8080/",
          "height": 309
        },
        "id": "y6PZrTR9cnuJ",
        "outputId": "0517d8f6-c907-40d9-faf1-3a9c818ea915"
      },
      "outputs": [
        {
          "output_type": "execute_result",
          "data": {
            "text/html": [
              "<img src=\"https://git.io/JtIQH\" width=\"500\"/>"
            ],
            "text/plain": [
              "<IPython.core.display.Image object>"
            ]
          },
          "metadata": {},
          "execution_count": 1
        }
      ],
      "source": [
        "from IPython.display import Image\n",
        "Image(url='https://git.io/JtIQH', width=500) "
      ]
    },
    {
      "cell_type": "markdown",
      "source": [
        "##### 분류 : 클래스 레이블 예측\n",
        "* 과거의 관측을 기반으로 새로운 샘플의 범주형 클래스 레이블을 예측하는 것.\n",
        "* 클래스 레이블은 이산적(discrete)이고 순서가 없어 샘플이 속한 그룹으로 이해할 수 있음.\n",
        "* 이진 분류(binary classification)\n",
        "    * 양성 클래스 / 음성 클래스\n",
        "* 다중 분류(multiclass classification)\n",
        "* 클래스를 나누는 점선 : 결정 경계(decision boundary)"
      ],
      "metadata": {
        "id": "b0QU6nLbhHiW"
      }
    },
    {
      "cell_type": "code",
      "source": [
        "Image(url='https://git.io/JtIQ5', width=300) "
      ],
      "metadata": {
        "colab": {
          "base_uri": "https://localhost:8080/",
          "height": 302
        },
        "id": "4myGuu-uh3Kk",
        "outputId": "272c1341-0e04-4de8-895e-c8c4b2a12318"
      },
      "execution_count": 2,
      "outputs": [
        {
          "output_type": "execute_result",
          "data": {
            "text/html": [
              "<img src=\"https://git.io/JtIQ5\" width=\"300\"/>"
            ],
            "text/plain": [
              "<IPython.core.display.Image object>"
            ]
          },
          "metadata": {},
          "execution_count": 2
        }
      ]
    },
    {
      "cell_type": "markdown",
      "source": [
        "##### 회귀 : 연속적인 출력 값 예측\n",
        "* **예측 변수**(predictor varialbe, **설명 변수**(explanatory variable))와 연속적인 **반응 변수**(response variable, **결과**)가 주어졌을 때 출력 값을 예측하기 위해 두 변수 사이의 관계를 찾는다. => 예측 변수(특성) vs 반응 변수(타깃)\n",
        "* 선형 회귀(linear regression)\n"
      ],
      "metadata": {
        "id": "N7LGYwEKh0a8"
      }
    },
    {
      "cell_type": "code",
      "source": [
        "Image(url='https://git.io/JtIQd', width=300) "
      ],
      "metadata": {
        "colab": {
          "base_uri": "https://localhost:8080/",
          "height": 309
        },
        "id": "QEYGy2Pvh46c",
        "outputId": "29f53129-6d21-4c5e-feaf-8b255fcd49c5"
      },
      "execution_count": 3,
      "outputs": [
        {
          "output_type": "execute_result",
          "data": {
            "text/html": [
              "<img src=\"https://git.io/JtIQd\" width=\"300\"/>"
            ],
            "text/plain": [
              "<IPython.core.display.Image object>"
            ]
          },
          "metadata": {},
          "execution_count": 3
        }
      ]
    },
    {
      "cell_type": "markdown",
      "source": [
        "#### 1.2.2 강화 학습으로 반응형 문제 해결\n",
        "* 환경과 상호 작용하여 시스템(에이전트(agent)) 성능을 향상하는 것\n",
        "* 환경의 현재 상태 정보는 보상(reward) 신호를 포함\n",
        "* 강화학습의 피드백 : 보상 함수로 얼마나 행동이 좋은지를 측정한 값\n"
      ],
      "metadata": {
        "id": "3ki1cI6_kwzU"
      }
    },
    {
      "cell_type": "code",
      "source": [
        "Image(url='https://git.io/JtIQN', width=300) "
      ],
      "metadata": {
        "colab": {
          "base_uri": "https://localhost:8080/",
          "height": 171
        },
        "id": "-SymfYPtk5pF",
        "outputId": "07223484-9669-4527-a05a-9f8c350f6483"
      },
      "execution_count": 4,
      "outputs": [
        {
          "output_type": "execute_result",
          "data": {
            "text/html": [
              "<img src=\"https://git.io/JtIQN\" width=\"300\"/>"
            ],
            "text/plain": [
              "<IPython.core.display.Image object>"
            ]
          },
          "metadata": {},
          "execution_count": 4
        }
      ]
    },
    {
      "cell_type": "markdown",
      "source": [
        "#### 비지도 학습으로 숨겨진 구조 발견\n",
        "* 레이블되지 않거나 구조를 알 수 없는 데이터를 다룸\n",
        "* 알려진 출력 값이나 보상 함수의 도움을 받지 않고 의미 있는 정보를 추출하기 위해 데이터 구조 탐색\n",
        "\n",
        "##### 군집(clustering) : 서브그룹 찾기\n",
        "* 사전 정보 없이 쌓여 있는 그룹 정보를 의미 서브그룹 또는 클러스터(cluster)로 조직하는 탐색적 데이터 분석 기법\n"
      ],
      "metadata": {
        "id": "FVZPaGqEl0hV"
      }
    },
    {
      "cell_type": "code",
      "source": [
        "Image(url='https://git.io/JtIQx', width=300) "
      ],
      "metadata": {
        "colab": {
          "base_uri": "https://localhost:8080/",
          "height": 303
        },
        "id": "scA49AuQl8ne",
        "outputId": "63ecefa5-eb45-4dd3-c06f-febc12621d6b"
      },
      "execution_count": 5,
      "outputs": [
        {
          "output_type": "execute_result",
          "data": {
            "text/html": [
              "<img src=\"https://git.io/JtIQx\" width=\"300\"/>"
            ],
            "text/plain": [
              "<IPython.core.display.Image object>"
            ]
          },
          "metadata": {},
          "execution_count": 5
        }
      ]
    },
    {
      "cell_type": "markdown",
      "source": [
        "##### 차원 축소(dimensionality reduction) : 데이터 압축\n",
        "* 고차원 데이터의 경우 매우 많은 측정 지표가 있는데, 이때 차원의 크기를 줄이는 것\n",
        "*  잡음(noise) 데이터를 제거하기 위해 특성 전처리 단계에서 종종 적용하는 방법 "
      ],
      "metadata": {
        "id": "KsTIb9KRmtTu"
      }
    },
    {
      "cell_type": "code",
      "source": [
        "Image(url='https://git.io/JtIQp', width=500) "
      ],
      "metadata": {
        "colab": {
          "base_uri": "https://localhost:8080/",
          "height": 214
        },
        "id": "J4hVMl-cnamm",
        "outputId": "fca15ced-db17-4dd9-fa72-417a27660bc0"
      },
      "execution_count": 6,
      "outputs": [
        {
          "output_type": "execute_result",
          "data": {
            "text/html": [
              "<img src=\"https://git.io/JtIQp\" width=\"500\"/>"
            ],
            "text/plain": [
              "<IPython.core.display.Image object>"
            ]
          },
          "metadata": {},
          "execution_count": 6
        }
      ]
    },
    {
      "cell_type": "markdown",
      "source": [
        "#### 1.3.1 이 책에서 사용하는 표기법과 규칙\n"
      ],
      "metadata": {
        "id": "jY8oVn-wnevc"
      }
    },
    {
      "cell_type": "code",
      "source": [
        "Image(url='https://git.io/JtI7e', width=500) "
      ],
      "metadata": {
        "colab": {
          "base_uri": "https://localhost:8080/",
          "height": 403
        },
        "id": "CsMHGgoYnlvs",
        "outputId": "19c480be-264e-4c45-b007-f8e9fa7522d6"
      },
      "execution_count": 7,
      "outputs": [
        {
          "output_type": "execute_result",
          "data": {
            "text/html": [
              "<img src=\"https://git.io/JtI7e\" width=\"500\"/>"
            ],
            "text/plain": [
              "<IPython.core.display.Image object>"
            ]
          },
          "metadata": {},
          "execution_count": 7
        }
      ]
    },
    {
      "cell_type": "markdown",
      "source": [
        "![image.png](data:image/png;base64,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)"
      ],
      "metadata": {
        "id": "jLIqhDDeouw0"
      }
    },
    {
      "cell_type": "markdown",
      "source": [
        "#### 1.3.2 머신러닝 용어\n",
        "* 훈련 샘플 : 데이터셋을 나타내는 테이블의 행.(= 관측, 레코드, 인스턴스, 예시), 훈련 예시의 집합을 의미\n",
        "* 훈련 : 모텔 피팅(fitting), 모수 모델(parametric model)의 경우 파라미터 추정(parameter estimation)과 비슷\n",
        "* 특성(x) : 데이터 테이블이나 데이터 행렬의 열.(= 예측 변수, 변수, 입력, 속성, 공변량)\n",
        "* 타깃(y) : (= 결과, 출력, 반응 변수, 종속 변수, (클래스) 레이블, 정답)\n",
        "* 손실 함수 : (= 비용함수), 일부 자료에서는 손실 함수를 하나의 데이터 포인트에 대해 측정한 손실로 사용하고, 비용 함수는 전체 데이터셋에 대해 계산한 손실(평균 또는 합)로 사용."
      ],
      "metadata": {
        "id": "76b3RWG7n4JM"
      }
    },
    {
      "cell_type": "markdown",
      "source": [
        "### 1.4 머신 러닝 시스템 구축 로드맵\n"
      ],
      "metadata": {
        "id": "RmEzpt-YpL5k"
      }
    },
    {
      "cell_type": "code",
      "source": [
        "Image(url='https://git.io/JtI7J', width=700) "
      ],
      "metadata": {
        "colab": {
          "base_uri": "https://localhost:8080/",
          "height": 530
        },
        "id": "4qVKuaqypdd1",
        "outputId": "c4327632-bde8-46a6-8a68-38f776c9d5ad"
      },
      "execution_count": 8,
      "outputs": [
        {
          "output_type": "execute_result",
          "data": {
            "text/html": [
              "<img src=\"https://git.io/JtI7J\" width=\"700\"/>"
            ],
            "text/plain": [
              "<IPython.core.display.Image object>"
            ]
          },
          "metadata": {},
          "execution_count": 8
        }
      ]
    },
    {
      "cell_type": "markdown",
      "source": [
        "#### 1.4.1 전처리 : 데이터 형태 갖추기\n",
        "* 스케일 조정 : 최적의 성능 내기 위해 선택된 특성이 같은 스케일을 가져야 한다 -> 특성을 [0, 1] 범위로 변환 or 평균이 0이고 단위 분산을 가진 표준 정규 분포(Standard normal distribution)\n",
        "* 차원 축소 : 선택된 특성의 상관관계가 매우 높아 어느 정도 중복된 정보를 가질 수 있으므로, 저차원 부분 공간으로 압축\n",
        "* 랜덤한 훈련 데이터셋과 테스트 데이터셋으로 나눔\n",
        "\n",
        "#### 1.4.2 예측 모델 훈련과 선택\n",
        "* 성능 측정 지표 : 정확도(accuracy)\n",
        "* 어떤 모델이 잘 동작하는지 : 교차 검증 기법\n",
        "* 하이퍼파라미터 최적화 기법\n",
        "\n",
        "#### 1.4.3 모델을 평가하고 본 적 없는 샘플로 예측\n",
        "* 성능 예측 : 일반화 오차(일반화 성능)\n",
        "* 훈련 데이터셋에서 사용한 전처리 파라미터로 테스트 데이터셋/ 실제 데이터 변환"
      ],
      "metadata": {
        "id": "ux4ZQh-Up1a8"
      }
    }
  ]
}
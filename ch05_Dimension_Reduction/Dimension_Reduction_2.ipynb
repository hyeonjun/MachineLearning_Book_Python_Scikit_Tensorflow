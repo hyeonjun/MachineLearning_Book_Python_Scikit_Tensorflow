{
  "nbformat": 4,
  "nbformat_minor": 0,
  "metadata": {
    "colab": {
      "name": "ch05_Dimension_Reduction_2.ipynb",
      "provenance": [],
      "authorship_tag": "ABX9TyO/f6pHI2FKCXyT5M0G/QvX"
    },
    "kernelspec": {
      "name": "python3",
      "display_name": "Python 3"
    },
    "language_info": {
      "name": "python"
    }
  },
  "cells": [
    {
      "cell_type": "code",
      "source": [
        "from IPython.display import Image"
      ],
      "metadata": {
        "id": "4hYebCZpzoG5"
      },
      "execution_count": 1,
      "outputs": []
    },
    {
      "cell_type": "markdown",
      "source": [
        "# 5.2 선형 판별 분석을 통한 지도 방식의 데이터 압축\n",
        "선형 판별 분석(Linear Discriminant Analysis, LDA)은 규제가 없는 모델에서 차원의 저주로 인한 과대적합 정도를 줄이고 계산 효율성을 높이기 위한 특성 추출의 기법으로 사용할 수 있다.\n",
        "\n",
        "* PCA : 데이터셋에 있는 분산이 최대인 직교 성분 축을 찾는다\n",
        "* LDA : 클래스를 최적으로 구분할 수 있는 특성 부분 공간을 찾는다.\n",
        "\n",
        "### 5.2.1 주성분 분석 vs 선형 판별 분석\n",
        "* PCA와 LDA 모두 데이터셋의 차원 개수를 출 수 있는 선형 변환 기법이다.\n",
        "* PCA\n",
        "    * 비지도 학습\n",
        "* LDA\n",
        "    * 지도 학습\n",
        "* LDA가 PCA보다 분류 작업에서 더 뛰어난 특성 추출 기법이다."
      ],
      "metadata": {
        "id": "l1TXceY8xUK7"
      }
    },
    {
      "cell_type": "code",
      "execution_count": 2,
      "metadata": {
        "colab": {
          "base_uri": "https://localhost:8080/",
          "height": 365
        },
        "id": "rkrPx8NCw8Aq",
        "outputId": "d5c0c31e-e4e5-4dbb-e6fa-2d8353d3fcbd"
      },
      "outputs": [
        {
          "output_type": "execute_result",
          "data": {
            "text/html": [
              "<img src=\"https://git.io/Jtsv8\" width=\"400\"/>"
            ],
            "text/plain": [
              "<IPython.core.display.Image object>"
            ]
          },
          "metadata": {},
          "execution_count": 2
        }
      ],
      "source": [
        "# 선형 판별 분석\n",
        "# 클래스 1의 샘플은 동그라미, 클래스 2의 샘플은 덧셈 기호\n",
        "Image(url='https://git.io/Jtsv8', width=400) "
      ]
    },
    {
      "cell_type": "markdown",
      "source": [
        "x축(LD 1)으로 투영하는 선형 판별 벡터는 두 개의 정규 분포 클래스르 잘 구분. y축(LD 2)으로 투영하는 선형 판별 벡터는 데이터셋에 있는 분산을 많이 잡아내지만 클래스 판별 정보가 없기 때문에 좋은 선형 판별 벡터가 되지 못한다.\n",
        "\n",
        "### 5.2.2 선형 판별 분석의 내부 동작 방식\n",
        "1. 표준화 전처리\n",
        "2. 클래스별 평균 벡터 계산\n",
        "3. 클래스 간 산포 행렬 $\\boldsymbol S_B$와 클래스 내 산포 행렬 $\\boldsymbol S_W$\n",
        "4. $\\boldsymbol S_W^{-1}\\boldsymbol S_B$ 행렬의 고유값\n",
        "5. 고유값을 내림차순 정렬\n",
        "6. 고유값이 가장 큰 k개의 고유 벡터를 선택하여 변환 행렬 $W$를 구성. 이 행렬의 열이 고유 벡터이다.\n",
        "7. 변환 행렬 $W$를 사용하여 샘플을 새로운 특성 부분 공간으로 투영.\n",
        "\n",
        "### 5.2.3 산포 행렬 계산\n"
      ],
      "metadata": {
        "id": "JcWkR9Kkz2fA"
      }
    },
    {
      "cell_type": "code",
      "source": [
        "import pandas as pd\n",
        "from sklearn.model_selection import train_test_split\n",
        "from sklearn.preprocessing import StandardScaler\n",
        "\n",
        "df_wine = pd.read_csv('https://archive.ics.uci.edu/ml/machine-learning-databases/wine/wine.data', header=None)\n",
        "df_wine.columns = ['Class label', 'Alcohol', 'Malic acid', 'Ash',\n",
        "                   'Alcalinity of ash', 'Magnesium', 'Total phenols',\n",
        "                   'Flavanoids', 'Nonflavanoid phenols', 'Proanthocyanins',\n",
        "                   'Color intensity', 'Hue',\n",
        "                   'OD280/OD315 of diluted wines', 'Proline']\n",
        "\n",
        "X, y = df_wine.iloc[:, 1:].values, df_wine.iloc[:, 0].values\n",
        "X_train, X_test, y_train, y_test = train_test_split(X, y, test_size=0.3, stratify=y, random_state=0)\n",
        "\n",
        "sc = StandardScaler()\n",
        "X_train_std = sc.fit_transform(X_train)\n",
        "X_test_std = sc.transform(X_test)"
      ],
      "metadata": {
        "id": "AoxinOkJ1F9v"
      },
      "execution_count": 3,
      "outputs": []
    },
    {
      "cell_type": "markdown",
      "source": [
        "* 각 클래스에 대한 평균 벡터 계산"
      ],
      "metadata": {
        "id": "H_9-nfeC09jQ"
      }
    },
    {
      "cell_type": "code",
      "source": [
        "import numpy as np\n",
        "\n",
        "np.set_printoptions(precision=4)\n",
        "\n",
        "mean_vecs = []\n",
        "for label in range(1, 4):\n",
        "    mean_vecs.append(np.mean(X_train_std[y_train == label], axis=0))\n",
        "    print('MV %s: %s\\n' % (label, mean_vecs[label - 1]))"
      ],
      "metadata": {
        "colab": {
          "base_uri": "https://localhost:8080/"
        },
        "id": "4l5guHtX1jIY",
        "outputId": "e922f8d1-b67d-4eae-edfc-2c9e95edd77d"
      },
      "execution_count": 4,
      "outputs": [
        {
          "output_type": "stream",
          "name": "stdout",
          "text": [
            "MV 1: [ 0.9066 -0.3497  0.3201 -0.7189  0.5056  0.8807  0.9589 -0.5516  0.5416\n",
            "  0.2338  0.5897  0.6563  1.2075]\n",
            "\n",
            "MV 2: [-0.8749 -0.2848 -0.3735  0.3157 -0.3848 -0.0433  0.0635 -0.0946  0.0703\n",
            " -0.8286  0.3144  0.3608 -0.7253]\n",
            "\n",
            "MV 3: [ 0.1992  0.866   0.1682  0.4148 -0.0451 -1.0286 -1.2876  0.8287 -0.7795\n",
            "  0.9649 -1.209  -1.3622 -0.4013]\n",
            "\n"
          ]
        }
      ]
    },
    {
      "cell_type": "markdown",
      "source": [
        "* 평균 벡터를 사용하여 클래스 내 산포 행렬 $S_{W}$ 계산\n",
        "$\\boldsymbol S_W=\\sum_{i=1}^c \\boldsymbol S_i$\n",
        "\n",
        "* 이 행렬은 개별 클래스 $i$의 산포 행렬 $S_{i}$를 더해 구한다\n",
        "$\\boldsymbol S_i=\\sum_{x\\in D_i}(\\boldsymbol x-\\boldsymbol m_i)^T(\\boldsymbol x-\\boldsymbol m_i)$"
      ],
      "metadata": {
        "id": "Q0UyVx3D15ef"
      }
    },
    {
      "cell_type": "code",
      "source": [
        "d = 13 # 특성의 수\n",
        "S_W = np.zeros((d, d))\n",
        "for label, mv in zip(range(1, 4), mean_vecs):\n",
        "    class_scatter = np.zeros((d, d))  # 각 클래스에 대한 산포 행렬\n",
        "    for row in X_train_std[y_train == label]:\n",
        "        row, mv = row.reshape(d, 1), mv.reshape(d, 1)  # 열 벡터를 만든다\n",
        "        class_scatter += (row - mv).dot((row - mv).T)\n",
        "    S_W += class_scatter # 클래스 산포 행렬을 더한다\n",
        "\n",
        "print('클래스 내의 산포 행렬: %sx%s' % (S_W.shape[0], S_W.shape[1]))"
      ],
      "metadata": {
        "colab": {
          "base_uri": "https://localhost:8080/"
        },
        "id": "-WIvbXTX2Ld4",
        "outputId": "67e9e7b3-82a3-48e8-976b-4f996c3b4491"
      },
      "execution_count": 5,
      "outputs": [
        {
          "output_type": "stream",
          "name": "stdout",
          "text": [
            "클래스 내의 산포 행렬: 13x13\n"
          ]
        }
      ]
    },
    {
      "cell_type": "markdown",
      "source": [
        "클래스가 균일하게 분포되어 있지 않기 때문에 공분산 행렬을 사용하는 것이 더 낫다."
      ],
      "metadata": {
        "id": "H1CBynSc2ynX"
      }
    },
    {
      "cell_type": "code",
      "source": [
        "print('클래스 레이블 분포: %s' % np.bincount(y_train)[1:])"
      ],
      "metadata": {
        "colab": {
          "base_uri": "https://localhost:8080/"
        },
        "id": "LrVCDm7R2_5_",
        "outputId": "c3d47df7-995a-481a-800f-924dde6da5f9"
      },
      "execution_count": 6,
      "outputs": [
        {
          "output_type": "stream",
          "name": "stdout",
          "text": [
            "클래스 레이블 분포: [41 50 33]\n"
          ]
        }
      ]
    },
    {
      "cell_type": "markdown",
      "source": [
        "개별 산포 행렬 $S_{i}$를 산포 행렬 $S_{W}$로 모두 더하기 전에 스케일을 조정해야한다. 공분산 행렬은 산포 행렬의 정규화 버전이다.\n",
        "\n",
        "$\\sum_i=\\dfrac{1}{n_i}\\boldsymbol S_i=\\dfrac{1}{n_i}\\sum_{x\\in D_i}(\\boldsymbol x-\\boldsymbol m_i)^T(\\boldsymbol x-\\boldsymbol m_i)$"
      ],
      "metadata": {
        "id": "9F89nrfq3HWA"
      }
    },
    {
      "cell_type": "code",
      "source": [
        "d = 13  # 특성의 수\n",
        "S_W = np.zeros((d, d))\n",
        "for label, mv in zip(range(1, 4), mean_vecs):\n",
        "    class_scatter = np.cov(X_train_std[y_train == label].T)\n",
        "    S_W += class_scatter\n",
        "\n",
        "print('스케일 조정된 클래스 내의 산포 행렬: %sx%s' % (S_W.shape[0], S_W.shape[1]))"
      ],
      "metadata": {
        "colab": {
          "base_uri": "https://localhost:8080/"
        },
        "id": "uxFHXy1A3aZP",
        "outputId": "dc3995d7-df1f-490e-af32-326cf2b35735"
      },
      "execution_count": 7,
      "outputs": [
        {
          "output_type": "stream",
          "name": "stdout",
          "text": [
            "스케일 조정된 클래스 내의 산포 행렬: 13x13\n"
          ]
        }
      ]
    },
    {
      "cell_type": "markdown",
      "source": [
        "클래스 간 산포 행렬을 계산\n",
        "\n",
        "$\\boldsymbol S_B=\\sum_{i=1}^c n_i(\\boldsymbol m_i-\\boldsymbol m)^T(\\boldsymbol m_i-\\boldsymbol m)$\n",
        "\n",
        "m은 모든 클래스의 샘플을 포함하여 계산된 전체 평균이다."
      ],
      "metadata": {
        "id": "Lo7L0Yt73tsH"
      }
    },
    {
      "cell_type": "code",
      "source": [
        "mean_overall = np.mean(X_train_std, axis=0)\n",
        "mean_overall = mean_overall.reshape(d, 1)  # 열 벡터로 만들기\n",
        "d = 13  # 특성 개수\n",
        "S_B = np.zeros((d, d))\n",
        "for i, mean_vec in enumerate(mean_vecs):\n",
        "    n = X_train_std[y_train == i + 1, :].shape[0]\n",
        "    mean_vec = mean_vec.reshape(d, 1)  # 열 벡터로 만들기\n",
        "    S_B += n * (mean_vec - mean_overall).dot((mean_vec - mean_overall).T)\n",
        "\n",
        "print('클래스 간의 산포 행렬: %sx%s' % (S_B.shape[0], S_B.shape[1]))"
      ],
      "metadata": {
        "colab": {
          "base_uri": "https://localhost:8080/"
        },
        "id": "QCEgzKex3tEf",
        "outputId": "1a69c167-c8e8-484e-84de-2ffbdf2248b3"
      },
      "execution_count": 8,
      "outputs": [
        {
          "output_type": "stream",
          "name": "stdout",
          "text": [
            "클래스 간의 산포 행렬: 13x13\n"
          ]
        }
      ]
    },
    {
      "cell_type": "markdown",
      "source": [
        "### 5.2.4 새로운 특성 부분 공간을 위해 선형 판별 벡터 선택\n",
        "\n",
        "* 공분산 행렬에 대한 고유값 분해를 수행하는 대신 행렬 $\\boldsymbol S_W^{-1}\\boldsymbol S_B$의 고유값 계산."
      ],
      "metadata": {
        "id": "M9lSQ-qY4mbH"
      }
    },
    {
      "cell_type": "code",
      "source": [
        "eigen_vals, eigen_vecs = np.linalg.eig(np.linalg.inv(S_W).dot(S_B))"
      ],
      "metadata": {
        "id": "DmwYZQ-_44w2"
      },
      "execution_count": 9,
      "outputs": []
    },
    {
      "cell_type": "markdown",
      "source": [
        "* 고유 벡터와 고유값 쌍으로 계산한 후 내림차순으로 고유값 정렬"
      ],
      "metadata": {
        "id": "lp0o5X3s4_T-"
      }
    },
    {
      "cell_type": "code",
      "source": [
        "# (고윳값, 고유벡터) 튜플의 리스트를 만듭니다.\n",
        "eigen_pairs = [(np.abs(eigen_vals[i]), eigen_vecs[:, i]) for i in range(len(eigen_vals))]\n",
        "# (고윳값, 고유벡터) 튜플을 큰 값에서 작은 값 순서대로 정렬합니다.\n",
        "eigen_pairs = sorted(eigen_pairs, key=lambda k: k[0], reverse=True)\n",
        "\n",
        "# 고윳값의 역순으로 올바르게 정렬되었는지 확인합니다.\n",
        "print('내림차순의 고윳값:\\n')\n",
        "for eigen_val in eigen_pairs:\n",
        "    print(eigen_val[0])"
      ],
      "metadata": {
        "colab": {
          "base_uri": "https://localhost:8080/"
        },
        "id": "8Id4iHIO5Dce",
        "outputId": "028bbce2-6fa1-42c9-f8da-d035130b9c8e"
      },
      "execution_count": 10,
      "outputs": [
        {
          "output_type": "stream",
          "name": "stdout",
          "text": [
            "내림차순의 고윳값:\n",
            "\n",
            "349.617808905994\n",
            "172.76152218979388\n",
            "5.752274263076048e-14\n",
            "2.1571131987029847e-14\n",
            "1.4176390454331418e-14\n",
            "1.4176390454331418e-14\n",
            "1.3113892875332047e-14\n",
            "6.72899962596985e-15\n",
            "2.7618238467023757e-15\n",
            "2.7618238467023757e-15\n",
            "1.6797278899409034e-15\n",
            "1.2703744468254194e-15\n",
            "0.0\n"
          ]
        }
      ]
    },
    {
      "cell_type": "markdown",
      "source": [
        "LDA에서 선형 판별 벡터는 최대 c-1개이다. c는 클래스 레이블의 개수이다. 클래스 내 산포 행렬 $S_{B}$가 랭크 1 또는 그 이하인 c개의 행렬을 합한 것이기 때문이다. 0이 아닌 고유값이 두 개만 있는 것을 볼 수 있다.\n",
        "\n",
        "* 공선성\n",
        "    * 드물게 완벽하게 공선성을 가지는 경우(모든 샘플이 동일 선상에 위치한 경우) 공분산 행렬의 랭크는 1이다. 이때는 0이 아닌 고유값을 가진 고유 벡터가 하나만 만들어진다."
      ],
      "metadata": {
        "id": "FpKg1Wsp6J23"
      }
    },
    {
      "cell_type": "code",
      "source": [
        "import matplotlib.pyplot as plt\n",
        "\n",
        "tot = sum(eigen_vals.real)\n",
        "discr = [(i/tot) for i in sorted(eigen_vals.real, reverse=True)]\n",
        "cum_discr = np.cumsum(discr)\n",
        "\n",
        "plt.bar(range(1, 14), discr, alpha=0.5, align='center', label='Individual \"discriminability\"')\n",
        "plt.step(range(1, 14), cum_discr, where='mid', label='Cumulative \"discriminability\"')\n",
        "plt.ylabel('\"Discriminability\" ratio')\n",
        "plt.xlabel('Linear discriminants')\n",
        "plt.ylim([-0.1, 1.1])\n",
        "plt.legend(loc='best')\n",
        "plt.tight_layout()\n",
        "plt.show()"
      ],
      "metadata": {
        "colab": {
          "base_uri": "https://localhost:8080/",
          "height": 297
        },
        "id": "eKGSXqEO6i-f",
        "outputId": "7c4ab8b3-896c-43f8-af45-c58a195e1e41"
      },
      "execution_count": 11,
      "outputs": [
        {
          "output_type": "display_data",
          "data": {
            "image/png": "[encoded data removed]",
            "text/plain": [
              "<Figure size 432x288 with 1 Axes>"
            ]
          },
          "metadata": {
            "needs_background": "light"
          }
        }
      ]
    },
    {
      "cell_type": "markdown",
      "source": [
        "처음 두 개의 선형 판별 벡터가 Wine 데이터셋에 있는 정보 중 거의 100%를 잡아낸다.\n",
        "\n",
        "* 두 개의 판별 고유 벡터를 열로 쌓아 변환 행렬 W를 만든다."
      ],
      "metadata": {
        "id": "k5_y1thp7EfO"
      }
    },
    {
      "cell_type": "code",
      "source": [
        "w = np.hstack((eigen_pairs[0][1][:, np.newaxis].real,\n",
        "               eigen_pairs[1][1][:, np.newaxis].real))\n",
        "print('행렬 W:\\n', w)"
      ],
      "metadata": {
        "colab": {
          "base_uri": "https://localhost:8080/"
        },
        "id": "RUDded_F7Ndo",
        "outputId": "1bad9d2b-5e40-4dc7-a691-1fa2f1b6b4a9"
      },
      "execution_count": 12,
      "outputs": [
        {
          "output_type": "stream",
          "name": "stdout",
          "text": [
            "행렬 W:\n",
            " [[-0.1481 -0.4092]\n",
            " [ 0.0908 -0.1577]\n",
            " [-0.0168 -0.3537]\n",
            " [ 0.1484  0.3223]\n",
            " [-0.0163 -0.0817]\n",
            " [ 0.1913  0.0842]\n",
            " [-0.7338  0.2823]\n",
            " [-0.075  -0.0102]\n",
            " [ 0.0018  0.0907]\n",
            " [ 0.294  -0.2152]\n",
            " [-0.0328  0.2747]\n",
            " [-0.3547 -0.0124]\n",
            " [-0.3915 -0.5958]]\n"
          ]
        }
      ]
    },
    {
      "cell_type": "markdown",
      "source": [
        "### 5.2.5 새로운 특성 곤간으로 샘플 투영\n",
        "변환 행렬 W를 훈련 데이터셋에 곱해 데이터를 변환.\n",
        "\n",
        "$\\boldsymbol X'=\\boldsymbol X \\boldsymbol W$\n"
      ],
      "metadata": {
        "id": "R-bTAHZf7eLm"
      }
    },
    {
      "cell_type": "code",
      "source": [
        "X_train_lda = X_train_std.dot(w)\n",
        "colors = ['r', 'b', 'g']\n",
        "markers = ['s', 'x', 'o']\n",
        "\n",
        "for l, c, m in zip(np.unique(y_train), colors, markers):\n",
        "    plt.scatter(X_train_lda[y_train == l, 0],\n",
        "                X_train_lda[y_train == l, 1] * (-1),\n",
        "                c=c, label=l, marker=m)\n",
        "\n",
        "plt.xlabel('LD 1')\n",
        "plt.ylabel('LD 2')\n",
        "plt.legend(loc='lower right')\n",
        "plt.tight_layout()\n",
        "plt.show()"
      ],
      "metadata": {
        "colab": {
          "base_uri": "https://localhost:8080/",
          "height": 297
        },
        "id": "HCDQP0Bg7xku",
        "outputId": "feb5585c-1c26-4a7b-c8c4-19bca5e971aa"
      },
      "execution_count": 13,
      "outputs": [
        {
          "output_type": "display_data",
          "data": {
            "image/png": "[encoded data removed]",
            "text/plain": [
              "<Figure size 432x288 with 1 Axes>"
            ]
          },
          "metadata": {
            "needs_background": "light"
          }
        }
      ]
    },
    {
      "cell_type": "markdown",
      "source": [
        "세 개의 와인 클래스를 새로운 특성 부분 공간에서 선형적으로 완벽하게 구분할 수 있다."
      ],
      "metadata": {
        "id": "_f-kcMeZ8SLm"
      }
    },
    {
      "cell_type": "code",
      "source": [
        "from matplotlib.colors import ListedColormap\n",
        "\n",
        "def plot_decision_regions(X, y, classifier, resolution=0.02):\n",
        "\n",
        "    # 마커와 컬러맵을 준비합니다\n",
        "    markers = ('s', 'x', 'o', '^', 'v')\n",
        "    colors = ('red', 'blue', 'lightgreen', 'gray', 'cyan')\n",
        "    cmap = ListedColormap(colors[:len(np.unique(y))])\n",
        "\n",
        "    # 결정 경계를 그립니다\n",
        "    x1_min, x1_max = X[:, 0].min() - 1, X[:, 0].max() + 1\n",
        "    x2_min, x2_max = X[:, 1].min() - 1, X[:, 1].max() + 1\n",
        "    xx1, xx2 = np.meshgrid(np.arange(x1_min, x1_max, resolution),\n",
        "                           np.arange(x2_min, x2_max, resolution))\n",
        "    Z = classifier.predict(np.array([xx1.ravel(), xx2.ravel()]).T)\n",
        "    Z = Z.reshape(xx1.shape)\n",
        "    plt.contourf(xx1, xx2, Z, alpha=0.4, cmap=cmap)\n",
        "    plt.xlim(xx1.min(), xx1.max())\n",
        "    plt.ylim(xx2.min(), xx2.max())\n",
        "\n",
        "    # 클래스별로 샘플을 그립니다\n",
        "    for idx, cl in enumerate(np.unique(y)):\n",
        "        plt.scatter(x=X[y == cl, 0], \n",
        "                    y=X[y == cl, 1],\n",
        "                    alpha=0.6, \n",
        "                    color=cmap(idx),\n",
        "                    edgecolor=None if idx==1 else 'black',\n",
        "                    marker=markers[idx], \n",
        "                    label=cl)"
      ],
      "metadata": {
        "id": "G1TrzPcv80_t"
      },
      "execution_count": 14,
      "outputs": []
    },
    {
      "cell_type": "markdown",
      "source": [
        "### 5.2.6 사이킷런의 LDA"
      ],
      "metadata": {
        "id": "vs7Cf5Fb8XPG"
      }
    },
    {
      "cell_type": "code",
      "source": [
        "from sklearn.discriminant_analysis import LinearDiscriminantAnalysis as LDA\n",
        "\n",
        "lda = LDA(n_components=2)\n",
        "X_train_lda = lda.fit_transform(X_train_std, y_train)"
      ],
      "metadata": {
        "id": "qYAux2bJ8Iq_"
      },
      "execution_count": 15,
      "outputs": []
    },
    {
      "cell_type": "code",
      "source": [
        "# LDA로 변환한 저차원 훈련 데이터셋에 로지스틱 회귀 분류\n",
        "from sklearn.linear_model import LogisticRegression\n",
        "\n",
        "lr = LogisticRegression(random_state=1)\n",
        "lr = lr.fit(X_train_lda, y_train)\n",
        "\n",
        "plot_decision_regions(X_train_lda, y_train, classifier=lr)\n",
        "plt.xlabel('LD 1')\n",
        "plt.ylabel('LD 2')\n",
        "plt.legend(loc='lower left')\n",
        "plt.tight_layout()\n",
        "plt.show()"
      ],
      "metadata": {
        "colab": {
          "base_uri": "https://localhost:8080/",
          "height": 297
        },
        "id": "16AJfN3l8m8t",
        "outputId": "73769099-56be-4f84-b572-746ce774dc7c"
      },
      "execution_count": 16,
      "outputs": [
        {
          "output_type": "display_data",
          "data": {
            "image/png": "[encoded data removed]",
            "text/plain": [
              "<Figure size 432x288 with 1 Axes>"
            ]
          },
          "metadata": {
            "needs_background": "light"
          }
        }
      ]
    },
    {
      "cell_type": "code",
      "source": [
        "# 테스트 데이터셋 결과\n",
        "X_test_lda = lda.transform(X_test_std)\n",
        "\n",
        "plot_decision_regions(X_test_lda, y_test, classifier=lr)\n",
        "plt.xlabel('LD 1')\n",
        "plt.ylabel('LD 2')\n",
        "plt.legend(loc='lower left')\n",
        "plt.tight_layout()\n",
        "plt.show()"
      ],
      "metadata": {
        "colab": {
          "base_uri": "https://localhost:8080/",
          "height": 297
        },
        "id": "7jyTcQIu9kQV",
        "outputId": "2b923ea7-2dbf-44a1-9d2f-0514d92fa00f"
      },
      "execution_count": 17,
      "outputs": [
        {
          "output_type": "display_data",
          "data": {
            "image/png": "[encoded data removed]",
            "text/plain": [
              "<Figure size 432x288 with 1 Axes>"
            ]
          },
          "metadata": {
            "needs_background": "light"
          }
        }
      ]
    },
    {
      "cell_type": "markdown",
      "source": [
        "#### 사이킷런의 LDA 구현 방식\n",
        "* 전체 평균과 클래스별 평균 사이의 관계\n",
        "\n",
        "    $m = \\sum_{i=1}^c \\frac{n_i}{n} m_i$\n",
        "\n",
        "* 이를 클래스 내 산포 행렬 $S_{W}$에 적용하고 클래스별 산포 행렬 $S_{i}$를 클래스별 공분산 행렬 $\\Sigma_i$로 정의하면 다음과 같이 쓸 수 있다.\n",
        "\n",
        "    $S_W = \\sum_{i=1}^c \\frac{n_i}{n} S_i = \\sum_{i=1}^c \\frac{n_i}{n} \\Sigma_i$"
      ],
      "metadata": {
        "id": "B7H80S7TA9-l"
      }
    },
    {
      "cell_type": "code",
      "source": [
        "# 먼저 클래스 비율을 계산하고 그 다음 클래스 내 산포 행렬 계산\n",
        "y_uniq, y_count = np.unique(y_train, return_counts=True)\n",
        "priors = y_count / X_train_std.shape[0]\n",
        "priors"
      ],
      "metadata": {
        "colab": {
          "base_uri": "https://localhost:8080/"
        },
        "id": "DD3M1Fp0_lSn",
        "outputId": "9f36eb26-3acb-41f0-bde6-28fc1bab2893"
      },
      "execution_count": 18,
      "outputs": [
        {
          "output_type": "execute_result",
          "data": {
            "text/plain": [
              "array([0.3306, 0.4032, 0.2661])"
            ]
          },
          "metadata": {},
          "execution_count": 18
        }
      ]
    },
    {
      "cell_type": "code",
      "source": [
        "s_w = np.zeros((X_train_std.shape[1], X_train_std.shape[1]))\n",
        "for i, label in enumerate(y_uniq):\n",
        "    # 1/(n-1)이 아니라 1/n로 나눈 공분산 행렬을 얻기 위해 bias=True로 지정한다.\n",
        "    s_w += priors[i] * np.cov(X_train_std[y_train == label].T, bias=True)"
      ],
      "metadata": {
        "id": "eRxK5kvYBZjM"
      },
      "execution_count": 19,
      "outputs": []
    },
    {
      "cell_type": "markdown",
      "source": [
        "* np.cov() 함수는 공분산 행렬을 계산할 때 $\\dfrac{1}{n-1}$을 곱한다. bias=True로 설정하면 $\\dfrac{1}{n}$을 곱하도록 바꿀 수 있다.\n",
        "\n",
        "    클래스 간의 산포 행렬도 클래스 비율을 곱해 계산.\n",
        "\n",
        "    $S_B = \\sum_{i=1}^{c}\\frac{n_i}{n}(m_i-m)(m_i-m)^T$"
      ],
      "metadata": {
        "id": "p-2SeIhwCPKP"
      }
    },
    {
      "cell_type": "code",
      "source": [
        "s_b = np.zeros((X_train_std.shape[1], X_train_std.shape[1]))\n",
        "for i, mean_vec in enumerate(mean_vecs):\n",
        "    n = X_train_std[y_train == i + 1].shape[0]\n",
        "    mean_vec = mean_vec.reshape(-1, 1)\n",
        "    s_b += priors[i] * (mean_vec - mean_overall).dot((mean_vec - mean_overall).T)"
      ],
      "metadata": {
        "id": "YFH2qFa2CkHX"
      },
      "execution_count": 20,
      "outputs": []
    },
    {
      "cell_type": "markdown",
      "source": [
        "$S^{-1}_{W}S_{B}$를 직접 구해 고유값 분해를 하는 대신 scipy.linalg.eigh 함수에 $S_{B}$와 $S_{W}$를 전달하면 $S_{B}w=λS_{W}w$식의 고유값을 바로 계산할 수 있다. 계산 후 고유값 크기의 역순으로 고유 벡터를 정렬할여 최종 고유 벡터를 구한다."
      ],
      "metadata": {
        "id": "UJ2FWSEADMEM"
      }
    },
    {
      "cell_type": "code",
      "source": [
        "import scipy\n",
        "ei_val, ei_vec = scipy.linalg.eigh(s_b, s_w)\n",
        "ei_vec = ei_vec[:, np.argsort(ei_val)[::-1]]"
      ],
      "metadata": {
        "id": "g-Xt2E2fDqD9"
      },
      "execution_count": 21,
      "outputs": []
    },
    {
      "cell_type": "markdown",
      "source": [
        "* LinearDiscriminantAnalysis 클래스의 결과와 같은지 확인\n",
        "\n",
        "이 데이터셋의 클래스는 세 개이기 때문에 n_components를 설정하지 않아도 자동으로 두 개의 고유 벡터만 사용."
      ],
      "metadata": {
        "id": "iR3aII7YD337"
      }
    },
    {
      "cell_type": "code",
      "source": [
        "lda_eigen = LDA(solver='eigen')\n",
        "lda_eigen.fit(X_train_std, y_train)"
      ],
      "metadata": {
        "colab": {
          "base_uri": "https://localhost:8080/"
        },
        "id": "jJQ0-4PoD86c",
        "outputId": "f40313eb-025d-4efc-bbad-463da8b47303"
      },
      "execution_count": 22,
      "outputs": [
        {
          "output_type": "execute_result",
          "data": {
            "text/plain": [
              "LinearDiscriminantAnalysis(solver='eigen')"
            ]
          },
          "metadata": {},
          "execution_count": 22
        }
      ]
    },
    {
      "cell_type": "code",
      "source": [
        "# 클래스 내의 산포 행렬은 lda_eigen 객체의 covariance_ 속성에 저장.\n",
        "np.allclose(s_w, lda_eigen.covariance_)"
      ],
      "metadata": {
        "colab": {
          "base_uri": "https://localhost:8080/"
        },
        "id": "fEhEknG8ELYL",
        "outputId": "be10975d-f710-47a5-899f-b3967f75c994"
      },
      "execution_count": 23,
      "outputs": [
        {
          "output_type": "execute_result",
          "data": {
            "text/plain": [
              "True"
            ]
          },
          "metadata": {},
          "execution_count": 23
        }
      ]
    },
    {
      "cell_type": "markdown",
      "source": [
        "* 클래스 간의 산포 행렬은 따로 제공되지는 않지만 총 산포 행렬(total scatter matrix) $S_T$에서 클래스 내 산포 행렬 $S_W$를 빼서 구할 수 있다.\n",
        "\n",
        "    $\\boldsymbol S_B = \\boldsymbol S_T - \\boldsymbol S_W$"
      ],
      "metadata": {
        "id": "Ue2Rlg60EdON"
      }
    },
    {
      "cell_type": "code",
      "source": [
        "Sb = np.cov(X_train_std.T, bias=True) - lda_eigen.covariance_\n",
        "np.allclose(Sb, s_b)"
      ],
      "metadata": {
        "colab": {
          "base_uri": "https://localhost:8080/"
        },
        "id": "96p3VmI0Espl",
        "outputId": "167d607b-0d3b-4427-aa13-b1099a779b6e"
      },
      "execution_count": 24,
      "outputs": [
        {
          "output_type": "execute_result",
          "data": {
            "text/plain": [
              "True"
            ]
          },
          "metadata": {},
          "execution_count": 24
        }
      ]
    },
    {
      "cell_type": "markdown",
      "source": [
        "* 구해진 고유 벡터는 scalings_ 속성에 저장되어 있다. 클래스가 3개 이므로 두 개의 고유 벡터(선형 판별 벡터)를 비교"
      ],
      "metadata": {
        "id": "3bO6CN7VEz6u"
      }
    },
    {
      "cell_type": "code",
      "source": [
        "np.allclose(lda_eigen.scalings_[:, :2], ei_vec[:, :2])"
      ],
      "metadata": {
        "colab": {
          "base_uri": "https://localhost:8080/"
        },
        "id": "3Dw0V7MWE7Tj",
        "outputId": "ca9c6574-1831-482e-c587-f2020febbd62"
      },
      "execution_count": 25,
      "outputs": [
        {
          "output_type": "execute_result",
          "data": {
            "text/plain": [
              "True"
            ]
          },
          "metadata": {},
          "execution_count": 25
        }
      ]
    },
    {
      "cell_type": "markdown",
      "source": [
        "* transform 메서드는 단순히 샘플와 고유 벡터의 점곱으로 구현할 수 있다"
      ],
      "metadata": {
        "id": "H998n_fYFC_D"
      }
    },
    {
      "cell_type": "code",
      "source": [
        "np.allclose(lda_eigen.transform(X_test_std), np.dot(X_test_std, ei_vec[:, :2]))"
      ],
      "metadata": {
        "colab": {
          "base_uri": "https://localhost:8080/"
        },
        "id": "QWfVD_unFIFT",
        "outputId": "deb7ca16-3f7a-4930-9c94-91938e51f2c0"
      },
      "execution_count": 26,
      "outputs": [
        {
          "output_type": "execute_result",
          "data": {
            "text/plain": [
              "True"
            ]
          },
          "metadata": {},
          "execution_count": 26
        }
      ]
    },
    {
      "cell_type": "markdown",
      "source": [
        "LinearDiscriminantAnalysis 클래스의 solver 매개변수 기본값은 'svd'로 특이 값 분해를 사용. 산포 행렬을 직접 계산하지 않기 때문에 특성이 많은 데이터셋에도 잘 작동한다."
      ],
      "metadata": {
        "id": "3iCJVm5pFO47"
      }
    }
  ]
}
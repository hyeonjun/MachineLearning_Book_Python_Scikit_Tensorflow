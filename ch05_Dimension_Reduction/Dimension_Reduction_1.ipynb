{
  "nbformat": 4,
  "nbformat_minor": 0,
  "metadata": {
    "colab": {
      "name": "ch05_Dimension_Reduction_1.ipynb",
      "provenance": [],
      "collapsed_sections": [],
      "authorship_tag": "ABX9TyM35VhHNDmWP11cgwHhXwVQ"
    },
    "kernelspec": {
      "name": "python3",
      "display_name": "Python 3"
    },
    "language_info": {
      "name": "python"
    }
  },
  "cells": [
    {
      "cell_type": "code",
      "execution_count": 1,
      "metadata": {
        "id": "2PyWDUvFBPUA"
      },
      "outputs": [],
      "source": [
        "from IPython.display import Image"
      ]
    },
    {
      "cell_type": "markdown",
      "source": [
        "# 5 차원 축소를 사용한 데이터 압축\n",
        "\n",
        "# 5.1 주성분 분석을 통한 비지도 차원 축소\n",
        "* 특성 선택\n",
        "    * ex) 순차 후진 선택\n",
        "    * 원본 특성 유지\n",
        "* 특성 추출\n",
        "    * 새로운 특성 공간으로 데이터 변환 또는 투영\n",
        "    * 대부분의 관련 있는 정보를 유지하면서 데이터 압축\n",
        "    * 저장 공간 절약, 계산 효율성 향상, 차원의 저주 문제 감소 => 예측 성능 향상\n",
        "        * 특히 규제가 없는 모델로 작업할 시 더욱 좋음\n",
        "\n",
        "### 5.1.1 주성분 분석의 주요 단계\n",
        "* PCA - 비지도 선형 변환 기법\n",
        "    * 탐색적 데이터 분석, 주식 거래 시장의 잡음 제거, 생물정보학 분야에서 게놈 데이터나 유전자 발현 분석 등\n",
        "    * 특성 사이의 상관관계를 기반으로 하여 데이터에 있는 어떤 패턴을 찾을 수 있음.\n",
        "        * 고차원 데이터에서 분산이 가장 큰 방향으로 찾고 좀 더 작거나 같은 수의 치원을 갖는 새로운 부분 공간으로 이를 투영.\n",
        "        * 새로운 부분 공간의 직교 좌표(주성분)는 주어진 조건하에서 분산이 최대인 방향으로 해석\n",
        "        "
      ],
      "metadata": {
        "id": "kuPY7lw6B7R2"
      }
    },
    {
      "cell_type": "code",
      "source": [
        "# 원본 특성에서 찾는 주성분\n",
        "Image(url='https://git.io/JtsvW', width=400) "
      ],
      "metadata": {
        "colab": {
          "base_uri": "https://localhost:8080/",
          "height": 385
        },
        "id": "-zbMKRjTDpkm",
        "outputId": "830bc290-fe2b-4131-ba3e-c800c0d27c1b"
      },
      "execution_count": 2,
      "outputs": [
        {
          "output_type": "execute_result",
          "data": {
            "text/html": [
              "<img src=\"https://git.io/JtsvW\" width=\"400\"/>"
            ],
            "text/plain": [
              "<IPython.core.display.Image object>"
            ]
          },
          "metadata": {},
          "execution_count": 2
        }
      ]
    },
    {
      "cell_type": "markdown",
      "source": [
        "$x_{1}$과 $x_{2}$는 원본 특성 축이고 PC1과 PC2는 주성분이다.\n",
        "\n",
        "PCA 차원 축소를 하기 위해 $d * k$ 차원의 변환 행렬 $W$를 만든다. 이 행렬로 훈련 샘플의 특성 벡터 $x$를 새로운 $k$ 차원의 특성 부분 공간으로 매핑. 이 부분 공간은 원본 $d$차원의 특성 공간보다 작은 차원을 가진다.\n",
        "\n",
        "$\\boldsymbol{x}\\boldsymbol{W}=\\boldsymbol{z}$\n",
        "\n",
        "원본 d 차원 데이터를 새로운 k 차원의 부분 공간으로 변환하여 만들어진 첫 번째 주성분이 가장 큰 분산을 가진다. 모든 주성분은 다른 주성분과 상관관계가 없다는(직교한다는) 제약하에 가장 큰 분산을 가진다. 입력 특성에 상관관계가 있더라도 주성분은 서로 직교할 것이다.\n",
        "\n",
        "PCA 방향은 데이터 스케일에 매우 민감하다. 특성의 스케일이 다르고 모든 특성의 중요도를 동일하게 취급하기 위해 PCA 적용전 특성을 **표준화 처리**해야한다.\n",
        "\n",
        "* PCA 단계\n",
        "    1. d 차원 데이터셋을 표준화 전처리한다.\n",
        "    2. 공분산 행렬을 만든다\n",
        "    3. 공분산 행렬을 고유 벡터와 고윳값으로 분해\n",
        "    4. 고유값을 내림차순으로 정렬하고 그에 해당하는 고유 벡터의 순위를 매김\n",
        "    5. 고유값이 가장 큰 k개의 고유 벡터 선택. k는 새로운 특성 부분 공간의 차원\n",
        "    6. 최상위 k개의 고유 벡터로 투영 행렬 W를 만듬\n",
        "    7. 투영 행렬 W를 사용해 d 차원 입력 데이터셋 X를 새로운 k 차원의 특성 부분 공간으로 변환\n",
        "\n",
        "### 5.1.2 주성분 추출 단계"
      ],
      "metadata": {
        "id": "Itn8XrW0EbX0"
      }
    },
    {
      "cell_type": "code",
      "source": [
        "import pandas as pd\n",
        "\n",
        "df_wine = pd.read_csv('https://archive.ics.uci.edu/ml/machine-learning-databases/wine/wine.data', header=None)\n",
        "df_wine.columns = ['Class label', 'Alcohol', 'Malic acid', 'Ash',\n",
        "                   'Alcalinity of ash', 'Magnesium', 'Total phenols',\n",
        "                   'Flavanoids', 'Nonflavanoid phenols', 'Proanthocyanins',\n",
        "                   'Color intensity', 'Hue',\n",
        "                   'OD280/OD315 of diluted wines', 'Proline']\n",
        "df_wine.head()"
      ],
      "metadata": {
        "colab": {
          "base_uri": "https://localhost:8080/",
          "height": 267
        },
        "id": "yBjSMjfKGV97",
        "outputId": "4d2a4293-c320-453c-9d49-e87e3011dc0c"
      },
      "execution_count": 3,
      "outputs": [
        {
          "output_type": "execute_result",
          "data": {
            "text/html": [
              "\n",
              "  <div id=\"df-b40a308d-9067-4d4c-896b-eb39cc56e095\">\n",
              "    <div class=\"colab-df-container\">\n",
              "      <div>\n",
              "<style scoped>\n",
              "    .dataframe tbody tr th:only-of-type {\n",
              "        vertical-align: middle;\n",
              "    }\n",
              "\n",
              "    .dataframe tbody tr th {\n",
              "        vertical-align: top;\n",
              "    }\n",
              "\n",
              "    .dataframe thead th {\n",
              "        text-align: right;\n",
              "    }\n",
              "</style>\n",
              "<table border=\"1\" class=\"dataframe\">\n",
              "  <thead>\n",
              "    <tr style=\"text-align: right;\">\n",
              "      <th></th>\n",
              "      <th>Class label</th>\n",
              "      <th>Alcohol</th>\n",
              "      <th>Malic acid</th>\n",
              "      <th>Ash</th>\n",
              "      <th>Alcalinity of ash</th>\n",
              "      <th>Magnesium</th>\n",
              "      <th>Total phenols</th>\n",
              "      <th>Flavanoids</th>\n",
              "      <th>Nonflavanoid phenols</th>\n",
              "      <th>Proanthocyanins</th>\n",
              "      <th>Color intensity</th>\n",
              "      <th>Hue</th>\n",
              "      <th>OD280/OD315 of diluted wines</th>\n",
              "      <th>Proline</th>\n",
              "    </tr>\n",
              "  </thead>\n",
              "  <tbody>\n",
              "    <tr>\n",
              "      <th>0</th>\n",
              "      <td>1</td>\n",
              "      <td>14.23</td>\n",
              "      <td>1.71</td>\n",
              "      <td>2.43</td>\n",
              "      <td>15.6</td>\n",
              "      <td>127</td>\n",
              "      <td>2.80</td>\n",
              "      <td>3.06</td>\n",
              "      <td>0.28</td>\n",
              "      <td>2.29</td>\n",
              "      <td>5.64</td>\n",
              "      <td>1.04</td>\n",
              "      <td>3.92</td>\n",
              "      <td>1065</td>\n",
              "    </tr>\n",
              "    <tr>\n",
              "      <th>1</th>\n",
              "      <td>1</td>\n",
              "      <td>13.20</td>\n",
              "      <td>1.78</td>\n",
              "      <td>2.14</td>\n",
              "      <td>11.2</td>\n",
              "      <td>100</td>\n",
              "      <td>2.65</td>\n",
              "      <td>2.76</td>\n",
              "      <td>0.26</td>\n",
              "      <td>1.28</td>\n",
              "      <td>4.38</td>\n",
              "      <td>1.05</td>\n",
              "      <td>3.40</td>\n",
              "      <td>1050</td>\n",
              "    </tr>\n",
              "    <tr>\n",
              "      <th>2</th>\n",
              "      <td>1</td>\n",
              "      <td>13.16</td>\n",
              "      <td>2.36</td>\n",
              "      <td>2.67</td>\n",
              "      <td>18.6</td>\n",
              "      <td>101</td>\n",
              "      <td>2.80</td>\n",
              "      <td>3.24</td>\n",
              "      <td>0.30</td>\n",
              "      <td>2.81</td>\n",
              "      <td>5.68</td>\n",
              "      <td>1.03</td>\n",
              "      <td>3.17</td>\n",
              "      <td>1185</td>\n",
              "    </tr>\n",
              "    <tr>\n",
              "      <th>3</th>\n",
              "      <td>1</td>\n",
              "      <td>14.37</td>\n",
              "      <td>1.95</td>\n",
              "      <td>2.50</td>\n",
              "      <td>16.8</td>\n",
              "      <td>113</td>\n",
              "      <td>3.85</td>\n",
              "      <td>3.49</td>\n",
              "      <td>0.24</td>\n",
              "      <td>2.18</td>\n",
              "      <td>7.80</td>\n",
              "      <td>0.86</td>\n",
              "      <td>3.45</td>\n",
              "      <td>1480</td>\n",
              "    </tr>\n",
              "    <tr>\n",
              "      <th>4</th>\n",
              "      <td>1</td>\n",
              "      <td>13.24</td>\n",
              "      <td>2.59</td>\n",
              "      <td>2.87</td>\n",
              "      <td>21.0</td>\n",
              "      <td>118</td>\n",
              "      <td>2.80</td>\n",
              "      <td>2.69</td>\n",
              "      <td>0.39</td>\n",
              "      <td>1.82</td>\n",
              "      <td>4.32</td>\n",
              "      <td>1.04</td>\n",
              "      <td>2.93</td>\n",
              "      <td>735</td>\n",
              "    </tr>\n",
              "  </tbody>\n",
              "</table>\n",
              "</div>\n",
              "      <button class=\"colab-df-convert\" onclick=\"convertToInteractive('df-b40a308d-9067-4d4c-896b-eb39cc56e095')\"\n",
              "              title=\"Convert this dataframe to an interactive table.\"\n",
              "              style=\"display:none;\">\n",
              "        \n",
              "  <svg xmlns=\"http://www.w3.org/2000/svg\" height=\"24px\"viewBox=\"0 0 24 24\"\n",
              "       width=\"24px\">\n",
              "    <path d=\"M0 0h24v24H0V0z\" fill=\"none\"/>\n",
              "    <path d=\"M18.56 5.44l.94 2.06.94-2.06 2.06-.94-2.06-.94-.94-2.06-.94 2.06-2.06.94zm-11 1L8.5 8.5l.94-2.06 2.06-.94-2.06-.94L8.5 2.5l-.94 2.06-2.06.94zm10 10l.94 2.06.94-2.06 2.06-.94-2.06-.94-.94-2.06-.94 2.06-2.06.94z\"/><path d=\"M17.41 7.96l-1.37-1.37c-.4-.4-.92-.59-1.43-.59-.52 0-1.04.2-1.43.59L10.3 9.45l-7.72 7.72c-.78.78-.78 2.05 0 2.83L4 21.41c.39.39.9.59 1.41.59.51 0 1.02-.2 1.41-.59l7.78-7.78 2.81-2.81c.8-.78.8-2.07 0-2.86zM5.41 20L4 18.59l7.72-7.72 1.47 1.35L5.41 20z\"/>\n",
              "  </svg>\n",
              "      </button>\n",
              "      \n",
              "  <style>\n",
              "    .colab-df-container {\n",
              "      display:flex;\n",
              "      flex-wrap:wrap;\n",
              "      gap: 12px;\n",
              "    }\n",
              "\n",
              "    .colab-df-convert {\n",
              "      background-color: #E8F0FE;\n",
              "      border: none;\n",
              "      border-radius: 50%;\n",
              "      cursor: pointer;\n",
              "      display: none;\n",
              "      fill: #1967D2;\n",
              "      height: 32px;\n",
              "      padding: 0 0 0 0;\n",
              "      width: 32px;\n",
              "    }\n",
              "\n",
              "    .colab-df-convert:hover {\n",
              "      background-color: #E2EBFA;\n",
              "      box-shadow: 0px 1px 2px rgba(60, 64, 67, 0.3), 0px 1px 3px 1px rgba(60, 64, 67, 0.15);\n",
              "      fill: #174EA6;\n",
              "    }\n",
              "\n",
              "    [theme=dark] .colab-df-convert {\n",
              "      background-color: #3B4455;\n",
              "      fill: #D2E3FC;\n",
              "    }\n",
              "\n",
              "    [theme=dark] .colab-df-convert:hover {\n",
              "      background-color: #434B5C;\n",
              "      box-shadow: 0px 1px 3px 1px rgba(0, 0, 0, 0.15);\n",
              "      filter: drop-shadow(0px 1px 2px rgba(0, 0, 0, 0.3));\n",
              "      fill: #FFFFFF;\n",
              "    }\n",
              "  </style>\n",
              "\n",
              "      <script>\n",
              "        const buttonEl =\n",
              "          document.querySelector('#df-b40a308d-9067-4d4c-896b-eb39cc56e095 button.colab-df-convert');\n",
              "        buttonEl.style.display =\n",
              "          google.colab.kernel.accessAllowed ? 'block' : 'none';\n",
              "\n",
              "        async function convertToInteractive(key) {\n",
              "          const element = document.querySelector('#df-b40a308d-9067-4d4c-896b-eb39cc56e095');\n",
              "          const dataTable =\n",
              "            await google.colab.kernel.invokeFunction('convertToInteractive',\n",
              "                                                     [key], {});\n",
              "          if (!dataTable) return;\n",
              "\n",
              "          const docLinkHtml = 'Like what you see? Visit the ' +\n",
              "            '<a target=\"_blank\" href=https://colab.research.google.com/notebooks/data_table.ipynb>data table notebook</a>'\n",
              "            + ' to learn more about interactive tables.';\n",
              "          element.innerHTML = '';\n",
              "          dataTable['output_type'] = 'display_data';\n",
              "          await google.colab.output.renderOutput(dataTable, element);\n",
              "          const docLink = document.createElement('div');\n",
              "          docLink.innerHTML = docLinkHtml;\n",
              "          element.appendChild(docLink);\n",
              "        }\n",
              "      </script>\n",
              "    </div>\n",
              "  </div>\n",
              "  "
            ],
            "text/plain": [
              "   Class label  Alcohol  ...  OD280/OD315 of diluted wines  Proline\n",
              "0            1    14.23  ...                          3.92     1065\n",
              "1            1    13.20  ...                          3.40     1050\n",
              "2            1    13.16  ...                          3.17     1185\n",
              "3            1    14.37  ...                          3.45     1480\n",
              "4            1    13.24  ...                          2.93      735\n",
              "\n",
              "[5 rows x 14 columns]"
            ]
          },
          "metadata": {},
          "execution_count": 3
        }
      ]
    },
    {
      "cell_type": "code",
      "source": [
        "from sklearn.model_selection import train_test_split\n",
        "X, y = df_wine.iloc[:, 1:].values, df_wine.iloc[:, 0].values\n",
        "X_train, X_test, y_train, y_test = train_test_split(X, y, test_size=0.3, stratify=y, random_state=0)\n",
        "\n",
        "# 1. 특성 표준화\n",
        "from sklearn.preprocessing import StandardScaler\n",
        "sc = StandardScaler()\n",
        "X_train_std = sc.fit_transform(X_train)\n",
        "X_test_std = sc.transform(X_test)"
      ],
      "metadata": {
        "id": "bSFhkgBsGhNy"
      },
      "execution_count": 4,
      "outputs": []
    },
    {
      "cell_type": "code",
      "source": [
        "# 2. 공분산 행렬의 고유값 분해\n",
        "import numpy as np\n",
        "cov_mat = np.cov(X_train_std.T) # np.cov()를 사용하여 표준화 전처리된 훈련 데이터셋의 공분산 행렬 계산\n",
        "eigen_vals, eigen_vecs = np.linalg.eig(cov_mat) # np.linalg.eig()를 사용하여 고유값 분해 수행\n",
        "# eigen_vals : 13개의 고유값이 들어 있는 벡터\n",
        "# eigen_vecs : 각 고유값에에 대응하는 고유 벡터가 열에 저장된 13 X 31 차원 행렬\n",
        "print('고윳값 :', eigen_vals)"
      ],
      "metadata": {
        "colab": {
          "base_uri": "https://localhost:8080/"
        },
        "id": "xSmAd6wXH30l",
        "outputId": "0c2df6a9-579a-4d77-d7d3-5da3a3ccabe5"
      },
      "execution_count": 5,
      "outputs": [
        {
          "output_type": "stream",
          "name": "stdout",
          "text": [
            "고윳값 : [4.84274532 2.41602459 1.54845825 0.96120438 0.84166161 0.6620634\n",
            " 0.51828472 0.34650377 0.3131368  0.10754642 0.21357215 0.15362835\n",
            " 0.1808613 ]\n"
          ]
        }
      ]
    },
    {
      "cell_type": "markdown",
      "source": [
        "* 고윳값 분해 - 넘파이\n",
        "    * numpy.linalg.eig 함수를 사용해 대칭 공분산 행렬을 고유값과 고유벡터로 분해.\n",
        "    * 최적은 아님. 에르미트(Hermetian) 행렬을 위해서 설계된 `numpy.linalg.eigh`를 사용하는 것이 더 좋다. 이 함수는 항상 실수 고윳값을 반환."
      ],
      "metadata": {
        "id": "eoYn4LyJb6n-"
      }
    },
    {
      "cell_type": "markdown",
      "source": [
        "### 5.1.3 총 분산과 설명된 분산\n",
        "* 데이터셋 차원을 새로운 특성 부분 공간으로 압축하여 줄여야 하기에 가장 많은 정보(분산)를 가진 고유 벡터(주성분) 일부만 선택.\n",
        "* 고유값은 고유 벡터의 크기를 결정하므로 고유값을 내림차순으로 형렬하여 최상위 k개의 고유벡터 선택."
      ],
      "metadata": {
        "id": "m6pB4_Pvcnjm"
      }
    },
    {
      "cell_type": "code",
      "source": [
        "tot = sum(eigen_vals) # 전제 고윳값 합\n",
        "var_exp = [(i / tot) for i in sorted(eigen_vals, reverse=True)] # 설명된 분산 비율\n",
        "cum_var_exp = np.cumsum(var_exp) # 분산의 누적합"
      ],
      "metadata": {
        "id": "8q-dchF3deK-"
      },
      "execution_count": 6,
      "outputs": []
    },
    {
      "cell_type": "code",
      "source": [
        "import matplotlib.pyplot as plt\n",
        "\n",
        "plt.bar(range(1, 14), var_exp, alpha=0.5, align='center', label='Individual explained variance')\n",
        "plt.step(range(1, 14), cum_var_exp, where='mid', label='Cumulative explained variance')\n",
        "plt.ylabel('Explained variance ratio')\n",
        "plt.xlabel('Principal component index')\n",
        "plt.legend(loc='best')\n",
        "plt.tight_layout()\n",
        "plt.show()"
      ],
      "metadata": {
        "colab": {
          "base_uri": "https://localhost:8080/",
          "height": 297
        },
        "id": "Wn05ALvsd-U9",
        "outputId": "02d6857e-8f38-408c-9188-c77155e07805"
      },
      "execution_count": 7,
      "outputs": [
        {
          "output_type": "display_data",
          "data": {
            "image/png": "[encoded data removed]",
            "text/plain": [
              "<Figure size 432x288 with 1 Axes>"
            ]
          },
          "metadata": {
            "needs_background": "light"
          }
        }
      ]
    },
    {
      "cell_type": "markdown",
      "source": [
        "### 5.1.4 특성 변환\n",
        "고유값의 내림차순으로 고유 벡터를 정렬하고 선택된 고유 벡터로 투영 행렬을 구성한다. 이 투영 행렬을 사용하여 데이터를 저차원 부분 공간으로 변환."
      ],
      "metadata": {
        "id": "J27YYYLmevDu"
      }
    },
    {
      "cell_type": "code",
      "source": [
        "# (고유값, 고유 벡터) 튜플의 리스트를 만든다\n",
        "eigen_pairs = [(np.abs(eigen_vals[i]), eigen_vecs[:, i]) for i in range(len(eigen_vals))]\n",
        "# 높은 값에서 낮은 값으로 (고유값, 고유 벡터) 튜플을 정렬\n",
        "eigen_pairs.sort(key=lambda k:k[0], reverse=True)"
      ],
      "metadata": {
        "id": "wSnuBPP0ffdG"
      },
      "execution_count": 8,
      "outputs": []
    },
    {
      "cell_type": "code",
      "source": [
        "# 가장 큰 두 개의 고유값에 해당하는 고유 벡터 선택\n",
        "w = np.hstack((eigen_pairs[0][1][:, np.newaxis],\n",
        "               eigen_pairs[1][1][:, np.newaxis]))\n",
        "print('투영 행렬 W\\n', w)"
      ],
      "metadata": {
        "colab": {
          "base_uri": "https://localhost:8080/"
        },
        "id": "TEbJQDzJgHPv",
        "outputId": "193d8138-1dd3-4b92-f281-28b048304d59"
      },
      "execution_count": 9,
      "outputs": [
        {
          "output_type": "stream",
          "name": "stdout",
          "text": [
            "투영 행렬 W\n",
            " [[-0.13724218  0.50303478]\n",
            " [ 0.24724326  0.16487119]\n",
            " [-0.02545159  0.24456476]\n",
            " [ 0.20694508 -0.11352904]\n",
            " [-0.15436582  0.28974518]\n",
            " [-0.39376952  0.05080104]\n",
            " [-0.41735106 -0.02287338]\n",
            " [ 0.30572896  0.09048885]\n",
            " [-0.30668347  0.00835233]\n",
            " [ 0.07554066  0.54977581]\n",
            " [-0.32613263 -0.20716433]\n",
            " [-0.36861022 -0.24902536]\n",
            " [-0.29669651  0.38022942]]\n"
          ]
        }
      ]
    },
    {
      "cell_type": "markdown",
      "source": [
        "* 거울 투영(mirrored projection)\n",
        "\n",
        "사용하는 Numpy와 LAPACK 버전에 따라 부호가 반대인 행렬 W를 얻을 수 있다. $v$가 행렬 $\\Sigma$의 고유벡터라면 다음을 얻을 수 있다.\n",
        "\n",
        "$\\Sigma v = \\lambda v,$\n",
        "\n",
        "여기서 $\\lambda$는 고윳값이다.\n",
        "\n",
        "$$\\Sigma \\cdot (-v) = -\\Sigma v = -\\lambda v = \\lambda \\cdot (-v).$$이기 때문에 $-v$도 동일한 고윳값을 가진 고유벡터입니다."
      ],
      "metadata": {
        "id": "no_wHrzPgkEk"
      }
    },
    {
      "cell_type": "code",
      "source": [
        "# 투영 행렬을 사용하면 샘플x(13차원의 행 벡터)를 PCA 부분 공간(두 개의 주성분)을 투영하여 x`를 얻을 수 있다.\n",
        "# 두 개의 특성으로 구성된 2차원 샘플 벡터이다.\n",
        "X_train_std[0].dot(w)"
      ],
      "metadata": {
        "colab": {
          "base_uri": "https://localhost:8080/"
        },
        "id": "Pj3lIHuchF-1",
        "outputId": "d137f132-6e9c-4ea1-f611-eff3da666a46"
      },
      "execution_count": 10,
      "outputs": [
        {
          "output_type": "execute_result",
          "data": {
            "text/plain": [
              "array([2.38299011, 0.45458499])"
            ]
          },
          "metadata": {},
          "execution_count": 10
        }
      ]
    },
    {
      "cell_type": "code",
      "source": [
        "# 전체 124 * 13 차원의 훈련 데이터셋을 행렬 점곱으로 두 개의 주성분에 투영할 수 있다\n",
        "# X` = XW\n",
        "X_train_pca = X_train_std.dot(w)"
      ],
      "metadata": {
        "id": "r6LJqkPKhar9"
      },
      "execution_count": 11,
      "outputs": []
    },
    {
      "cell_type": "code",
      "source": [
        "# 142 * 2 차원의 행렬로 변환된 Wine 훈련 데이터셋을 2차원 산점도 시각화\n",
        "colors = ['r', 'b', 'g']\n",
        "markers = ['s', 'x', 'o']\n",
        "for l, c, m in zip(np.unique(y_train), colors, markers):\n",
        "    plt.scatter(X_train_pca[y_train==l, 0],\n",
        "                X_train_pca[y_train==l, 1],\n",
        "                c=c, label=l, marker=m)\n",
        "plt.xlabel('PC 1')\n",
        "plt.ylabel('PC 2')\n",
        "plt.legend(loc='lower left')\n",
        "plt.tight_layout()\n",
        "plt.show()"
      ],
      "metadata": {
        "colab": {
          "base_uri": "https://localhost:8080/",
          "height": 297
        },
        "id": "uOZsfF9NhnRU",
        "outputId": "76f16039-324d-4b3c-c894-402f4b2297d0"
      },
      "execution_count": 12,
      "outputs": [
        {
          "output_type": "display_data",
          "data": {
            "image/png": "[encoded data removed]",
            "text/plain": [
              "<Figure size 432x288 with 1 Axes>"
            ]
          },
          "metadata": {
            "needs_background": "light"
          }
        }
      ]
    },
    {
      "cell_type": "markdown",
      "source": [
        "### 5.1.5 사이킷런의 주성분 분석\n",
        "* 사이킷런의 PCA 클래스\n",
        "    * 훈련 데이터를 사용하여 모델을 훈련하고 같은 모델 파라미터를 사용하여 훈련 데이터셋과 테스트 데이터셋을 변환.\n",
        "    * 파라미터\n",
        "        * n_components : PCA로 변환할 차원의 수\n",
        "사이킷런의 PCA 클래스를 Wine 데이터셋의 훈련 데이터셋에 적용하고 로지스틱 회귀로 변환된 샘플 데이터를 분류."
      ],
      "metadata": {
        "id": "jBkx1l8DizYM"
      }
    },
    {
      "cell_type": "code",
      "source": [
        "from matplotlib.colors import ListedColormap\n",
        "\n",
        "def plot_decision_regions(X, y, classifier, resolution=0.02):\n",
        "    # 마커와 컬러맵을 준비\n",
        "    markers = ('s', 'x', 'o', '^', 'v')\n",
        "    colors = ('red', 'blue', 'lightgreen', 'gray', 'cyan')\n",
        "    cmap = ListedColormap(colors[:len(np.unique(y))])\n",
        "\n",
        "    # 결정 경계를 그린다\n",
        "    x1_min, x1_max = X[:, 0].min() - 1, X[:, 0].max() + 1\n",
        "    x2_min, x2_max = X[:, 1].min() - 1, X[:, 1].max() + 1\n",
        "    xx1, xx2 = np.meshgrid(np.arange(x1_min, x1_max, resolution),\n",
        "                           np.arange(x2_min, x2_max, resolution))\n",
        "    Z = classifier.predict(np.array([xx1.ravel(), xx2.ravel()]).T)\n",
        "    Z = Z.reshape(xx1.shape)\n",
        "    plt.contourf(xx1, xx2, Z, alpha=0.4, cmap=cmap)\n",
        "    plt.xlim(xx1.min(), xx1.max())\n",
        "    plt.ylim(xx2.min(), xx2.max())\n",
        "\n",
        "    # 클래스별로 샘플을 그린다\n",
        "    for idx, cl in enumerate(np.unique(y)):\n",
        "        plt.scatter(x=X[y == cl, 0], \n",
        "                    y=X[y == cl, 1],\n",
        "                    alpha=0.6, \n",
        "                    color=cmap(idx),\n",
        "                    edgecolor=None if idx==1 else 'black',\n",
        "                    marker=markers[idx], \n",
        "                    label=cl)"
      ],
      "metadata": {
        "id": "NydF--OWmW1U"
      },
      "execution_count": 13,
      "outputs": []
    },
    {
      "cell_type": "code",
      "source": [
        "from sklearn.decomposition import PCA\n",
        "\n",
        "pca = PCA()\n",
        "X_train_pca = pca.fit_transform(X_train_std)\n",
        "pca.explained_variance_ratio_"
      ],
      "metadata": {
        "colab": {
          "base_uri": "https://localhost:8080/"
        },
        "id": "JIh4tIi3sY_6",
        "outputId": "6d3a3dcd-2003-4082-fb56-15011417980d"
      },
      "execution_count": 14,
      "outputs": [
        {
          "output_type": "execute_result",
          "data": {
            "text/plain": [
              "array([0.36951469, 0.18434927, 0.11815159, 0.07334252, 0.06422108,\n",
              "       0.05051724, 0.03954654, 0.02643918, 0.02389319, 0.01629614,\n",
              "       0.01380021, 0.01172226, 0.00820609])"
            ]
          },
          "metadata": {},
          "execution_count": 14
        }
      ]
    },
    {
      "cell_type": "code",
      "source": [
        "plt.bar(range(1, 14), pca.explained_variance_ratio_, alpha=0.5, align='center')\n",
        "plt.step(range(1, 14), np.cumsum(pca.explained_variance_ratio_), where='mid')\n",
        "plt.ylabel('Explained variance ratio')\n",
        "plt.xlabel('Principal components')\n",
        "\n",
        "plt.show()"
      ],
      "metadata": {
        "colab": {
          "base_uri": "https://localhost:8080/",
          "height": 279
        },
        "id": "58AUCYggsAGF",
        "outputId": "8aa21444-793c-482b-a29a-6b8edf9d97c7"
      },
      "execution_count": 15,
      "outputs": [
        {
          "output_type": "display_data",
          "data": {
            "image/png": "[encoded data removed]",
            "text/plain": [
              "<Figure size 432x288 with 1 Axes>"
            ]
          },
          "metadata": {
            "needs_background": "light"
          }
        }
      ]
    },
    {
      "cell_type": "markdown",
      "source": [
        "* 처음 두 개의 주성분을 사용하여 로지스틱 회귀 분류기를 훈련.\n"
      ],
      "metadata": {
        "id": "WyZ-IVgvousE"
      }
    },
    {
      "cell_type": "code",
      "source": [
        "from sklearn.linear_model import LogisticRegression\n",
        "\n",
        "# PCA 변환기와 로지스틱 회귀 추정기를 초기화\n",
        "pca = PCA(n_components=2)\n",
        "lr = LogisticRegression(random_state=0)\n",
        "\n",
        "# 차원 축소\n",
        "X_train_pca = pca.fit_transform(X_train_std)\n",
        "X_test_pca = pca.transform(X_test_std)"
      ],
      "metadata": {
        "id": "TkS8k7A5ptZ8"
      },
      "execution_count": 16,
      "outputs": []
    },
    {
      "cell_type": "code",
      "source": [
        "plt.scatter(X_train_pca[:, 0], X_train_pca[:, 1])\n",
        "plt.xlabel('PC 1')\n",
        "plt.ylabel('PC 2')\n",
        "plt.show()"
      ],
      "metadata": {
        "colab": {
          "base_uri": "https://localhost:8080/",
          "height": 279
        },
        "id": "b0fXBwFDsiua",
        "outputId": "669ad6fb-a2a3-4958-b304-fbe2ddafbe85"
      },
      "execution_count": 17,
      "outputs": [
        {
          "output_type": "display_data",
          "data": {
            "image/png": "[encoded data removed]",
            "text/plain": [
              "<Figure size 432x288 with 1 Axes>"
            ]
          },
          "metadata": {
            "needs_background": "light"
          }
        }
      ]
    },
    {
      "cell_type": "code",
      "source": [
        "# 축소된 데이터셋으로 로지스틱 회귀 모델 훈련\n",
        "lr.fit(X_train_pca, y_train)\n",
        "plot_decision_regions(X_train_pca, y_train, classifier=lr)\n",
        "plt.xlabel('PC 1')\n",
        "plt.ylabel('PC 2')\n",
        "plt.legend(loc='lower left')\n",
        "plt.tight_layout()\n",
        "plt.show()"
      ],
      "metadata": {
        "colab": {
          "base_uri": "https://localhost:8080/",
          "height": 297
        },
        "id": "O4ipzsUspEWb",
        "outputId": "987e49f3-abd8-471f-f54a-b4124749bb7a"
      },
      "execution_count": 18,
      "outputs": [
        {
          "output_type": "display_data",
          "data": {
            "image/png": "[encoded data removed]",
            "text/plain": [
              "<Figure size 432x288 with 1 Axes>"
            ]
          },
          "metadata": {
            "needs_background": "light"
          }
        }
      ]
    },
    {
      "cell_type": "code",
      "source": [
        "plot_decision_regions(X_test_pca, y_test, classifier=lr)\n",
        "plt.xlabel('PC 1')\n",
        "plt.ylabel('PC 2')\n",
        "plt.legend(loc='lower left')\n",
        "plt.tight_layout()\n",
        "plt.show()"
      ],
      "metadata": {
        "colab": {
          "base_uri": "https://localhost:8080/",
          "height": 297
        },
        "id": "brW_MlFBtG2y",
        "outputId": "7945d33f-86fa-4167-f690-bc45965a6aff"
      },
      "execution_count": 19,
      "outputs": [
        {
          "output_type": "display_data",
          "data": {
            "image/png": "[encoded data removed]",
            "text/plain": [
              "<Figure size 432x288 with 1 Axes>"
            ]
          },
          "metadata": {
            "needs_background": "light"
          }
        }
      ]
    },
    {
      "cell_type": "markdown",
      "source": [
        "전체 주성분의 설명된 분산 비율을 알고싶다면 n_components 매개변수를 None으로 지정하고 PCA 클래스 객체를 만든다. explained_variance_ratio_ 속성에서 모든 주성분의 설명된 분산 비율을 확인할 수 있다."
      ],
      "metadata": {
        "id": "W2Bhq4bJtbUr"
      }
    },
    {
      "cell_type": "code",
      "source": [
        "pca = PCA(n_components=None)\n",
        "X_train_pca = pca.fit_transform(X_train_std)\n",
        "pca.explained_variance_ratio_"
      ],
      "metadata": {
        "colab": {
          "base_uri": "https://localhost:8080/"
        },
        "id": "xnslUX8btpjR",
        "outputId": "120b4e7a-ca1e-40a7-8998-5537c7ea1d51"
      },
      "execution_count": 20,
      "outputs": [
        {
          "output_type": "execute_result",
          "data": {
            "text/plain": [
              "array([0.36951469, 0.18434927, 0.11815159, 0.07334252, 0.06422108,\n",
              "       0.05051724, 0.03954654, 0.02643918, 0.02389319, 0.01629614,\n",
              "       0.01380021, 0.01172226, 0.00820609])"
            ]
          },
          "metadata": {},
          "execution_count": 20
        }
      ]
    },
    {
      "cell_type": "markdown",
      "source": [
        "PCA 클래스의 객체를 만들 때 n_components=None이라고 지정했기 때문에 차원 축소를 수행하는 대신 분산의 크기 순서대로 모든 주성분이 반환된다.\n",
        "\n",
        "`n_components`에 (0, 1) 사이 실수를 입력하면 설명된 분산의 비율을 나타내며 자동으로 이 비율을 달성하기 위해 필요한 주성분 개수를 선택한다."
      ],
      "metadata": {
        "id": "U7XV_nVGtzfS"
      }
    },
    {
      "cell_type": "code",
      "source": [
        "pca = PCA(n_components=0.95)\n",
        "pca.fit(X_train_std)\n",
        "print('주성분 개수:', pca.n_components_)\n",
        "print('설명된 분산 비율:', np.sum(pca.explained_variance_ratio_))"
      ],
      "metadata": {
        "colab": {
          "base_uri": "https://localhost:8080/"
        },
        "id": "3QyrbtNGuNXh",
        "outputId": "433b4c34-fce5-4712-e8f2-23584f07bcd9"
      },
      "execution_count": 21,
      "outputs": [
        {
          "output_type": "stream",
          "name": "stdout",
          "text": [
            "주성분 개수: 10\n",
            "설명된 분산 비율: 0.9662714406558741\n"
          ]
        }
      ]
    },
    {
      "cell_type": "markdown",
      "source": [
        "n_components='mle'로 지정하면 토마스 민카(Thomas Minka)가 제안한 차원 선택 방식을 사용한다."
      ],
      "metadata": {
        "id": "CS_5p9AuuUnw"
      }
    },
    {
      "cell_type": "code",
      "source": [
        "pca = PCA(n_components='mle')\n",
        "pca.fit(X_train_std)\n",
        "print('주성분 개수:', pca.n_components_)\n",
        "print('설명된 분산 비율:', np.sum(pca.explained_variance_ratio_))"
      ],
      "metadata": {
        "colab": {
          "base_uri": "https://localhost:8080/"
        },
        "id": "YfQsI9R0udAx",
        "outputId": "7ad5f5d1-444a-42ad-a5a9-1c19526cfab8"
      },
      "execution_count": 22,
      "outputs": [
        {
          "output_type": "stream",
          "name": "stdout",
          "text": [
            "주성분 개수: 9\n",
            "설명된 분산 비율: 0.9499753029186231\n"
          ]
        }
      ]
    },
    {
      "cell_type": "markdown",
      "source": [
        "* `PCA` 제약\n",
        "    * 배치로만 실행되기 때문에 대용량 데이터셋을 처리하려면 많은 메모리가 필요.\n",
        "\n",
        "* `IncrementalPCA`을 사용하면 데이터셋의 일부를 사용하여 반복적으로 훈련할 수 있다.\n",
        "    * `partial_fit()` 메서드 : 네트워크나 로컬 파일 시스템을부터 조금씩 데이터를 받아 훈련.\n",
        "    * `fit()` 메서드 : `numpy.memmap`을 사용하여 로컬 파일로부터 데이터를 조금씩 읽어온다. 한 번에 읽어올 데이터 크기는 `IncrementalPCA` 클래스의 `batch_size`로 지정. 기본값을 특성 개수의 5배이다.\n",
        "    * `n_components` 매개변수는 정수값만 입력할 수 있다."
      ],
      "metadata": {
        "id": "9ZXXfk7TukDq"
      }
    },
    {
      "cell_type": "code",
      "source": [
        "from sklearn.decomposition import IncrementalPCA\n",
        "\n",
        "ipca = IncrementalPCA(n_components=9)\n",
        "for batch in range(len(X_train_std)//25+1):\n",
        "    X_batch = X_train_std[batch*25:(batch+1)*25]\n",
        "    ipca.partial_fit(X_batch)\n",
        "\n",
        "print('주성분 개수:', ipca.n_components_)\n",
        "print('설명된 분산 비율:', np.sum(ipca.explained_variance_ratio_))"
      ],
      "metadata": {
        "colab": {
          "base_uri": "https://localhost:8080/"
        },
        "id": "X1PFpz5AvdQR",
        "outputId": "1a137fdc-dfdc-4ca1-bc97-f9d776ddddd5"
      },
      "execution_count": 23,
      "outputs": [
        {
          "output_type": "stream",
          "name": "stdout",
          "text": [
            "주성분 개수: 9\n",
            "설명된 분산 비율: 0.9478392700446643\n"
          ]
        }
      ]
    }
  ]
}
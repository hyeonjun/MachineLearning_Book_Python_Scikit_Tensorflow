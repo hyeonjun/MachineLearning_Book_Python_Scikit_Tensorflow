{
  "nbformat": 4,
  "nbformat_minor": 0,
  "metadata": {
    "colab": {
      "name": "Evaluation_HyperParameterTuning_1.ipynb",
      "provenance": [],
      "authorship_tag": "ABX9TyMo6YLxxC1iNxXPJWMARlaS"
    },
    "kernelspec": {
      "name": "python3",
      "display_name": "Python 3"
    },
    "language_info": {
      "name": "python"
    }
  },
  "cells": [
    {
      "cell_type": "code",
      "execution_count": 1,
      "metadata": {
        "id": "V4K3flwX4y12"
      },
      "outputs": [],
      "source": [
        "from IPython.display import Image"
      ]
    },
    {
      "cell_type": "markdown",
      "source": [
        "# 6. 모델 평과와 하이퍼파라미터 튜닝\n",
        "\n",
        "# 6.1 파이프라인을 사용한 효율적인 워크플로\n",
        "* 사이킷런의 Pipeline 클래스\n",
        "\n",
        "### 6.1.1 위스콘신 유방암 데이터셋"
      ],
      "metadata": {
        "id": "5o0KJ48l5z-H"
      }
    },
    {
      "cell_type": "code",
      "source": [
        "import pandas as pd\n",
        "\n",
        "df = pd.read_csv('https://archive.ics.uci.edu/ml/machine-learning-databases/breast-cancer-wisconsin/wdbc.data', header=None)\n",
        "print(df.shape)\n",
        "df.head()"
      ],
      "metadata": {
        "colab": {
          "base_uri": "https://localhost:8080/",
          "height": 288
        },
        "id": "mSr22n8m6Ywt",
        "outputId": "c0102194-9f2c-4854-fc0b-ea0a1a7bf5de"
      },
      "execution_count": 2,
      "outputs": [
        {
          "output_type": "stream",
          "name": "stdout",
          "text": [
            "(569, 32)\n"
          ]
        },
        {
          "output_type": "execute_result",
          "data": {
            "text/html": [
              "\n",
              "  <div id=\"df-f664bd59-163a-41f3-a03e-5055b7184726\">\n",
              "    <div class=\"colab-df-container\">\n",
              "      <div>\n",
              "<style scoped>\n",
              "    .dataframe tbody tr th:only-of-type {\n",
              "        vertical-align: middle;\n",
              "    }\n",
              "\n",
              "    .dataframe tbody tr th {\n",
              "        vertical-align: top;\n",
              "    }\n",
              "\n",
              "    .dataframe thead th {\n",
              "        text-align: right;\n",
              "    }\n",
              "</style>\n",
              "<table border=\"1\" class=\"dataframe\">\n",
              "  <thead>\n",
              "    <tr style=\"text-align: right;\">\n",
              "      <th></th>\n",
              "      <th>0</th>\n",
              "      <th>1</th>\n",
              "      <th>2</th>\n",
              "      <th>3</th>\n",
              "      <th>4</th>\n",
              "      <th>5</th>\n",
              "      <th>6</th>\n",
              "      <th>7</th>\n",
              "      <th>8</th>\n",
              "      <th>9</th>\n",
              "      <th>10</th>\n",
              "      <th>11</th>\n",
              "      <th>12</th>\n",
              "      <th>13</th>\n",
              "      <th>14</th>\n",
              "      <th>15</th>\n",
              "      <th>16</th>\n",
              "      <th>17</th>\n",
              "      <th>18</th>\n",
              "      <th>19</th>\n",
              "      <th>20</th>\n",
              "      <th>21</th>\n",
              "      <th>22</th>\n",
              "      <th>23</th>\n",
              "      <th>24</th>\n",
              "      <th>25</th>\n",
              "      <th>26</th>\n",
              "      <th>27</th>\n",
              "      <th>28</th>\n",
              "      <th>29</th>\n",
              "      <th>30</th>\n",
              "      <th>31</th>\n",
              "    </tr>\n",
              "  </thead>\n",
              "  <tbody>\n",
              "    <tr>\n",
              "      <th>0</th>\n",
              "      <td>842302</td>\n",
              "      <td>M</td>\n",
              "      <td>17.99</td>\n",
              "      <td>10.38</td>\n",
              "      <td>122.80</td>\n",
              "      <td>1001.0</td>\n",
              "      <td>0.11840</td>\n",
              "      <td>0.27760</td>\n",
              "      <td>0.3001</td>\n",
              "      <td>0.14710</td>\n",
              "      <td>0.2419</td>\n",
              "      <td>0.07871</td>\n",
              "      <td>1.0950</td>\n",
              "      <td>0.9053</td>\n",
              "      <td>8.589</td>\n",
              "      <td>153.40</td>\n",
              "      <td>0.006399</td>\n",
              "      <td>0.04904</td>\n",
              "      <td>0.05373</td>\n",
              "      <td>0.01587</td>\n",
              "      <td>0.03003</td>\n",
              "      <td>0.006193</td>\n",
              "      <td>25.38</td>\n",
              "      <td>17.33</td>\n",
              "      <td>184.60</td>\n",
              "      <td>2019.0</td>\n",
              "      <td>0.1622</td>\n",
              "      <td>0.6656</td>\n",
              "      <td>0.7119</td>\n",
              "      <td>0.2654</td>\n",
              "      <td>0.4601</td>\n",
              "      <td>0.11890</td>\n",
              "    </tr>\n",
              "    <tr>\n",
              "      <th>1</th>\n",
              "      <td>842517</td>\n",
              "      <td>M</td>\n",
              "      <td>20.57</td>\n",
              "      <td>17.77</td>\n",
              "      <td>132.90</td>\n",
              "      <td>1326.0</td>\n",
              "      <td>0.08474</td>\n",
              "      <td>0.07864</td>\n",
              "      <td>0.0869</td>\n",
              "      <td>0.07017</td>\n",
              "      <td>0.1812</td>\n",
              "      <td>0.05667</td>\n",
              "      <td>0.5435</td>\n",
              "      <td>0.7339</td>\n",
              "      <td>3.398</td>\n",
              "      <td>74.08</td>\n",
              "      <td>0.005225</td>\n",
              "      <td>0.01308</td>\n",
              "      <td>0.01860</td>\n",
              "      <td>0.01340</td>\n",
              "      <td>0.01389</td>\n",
              "      <td>0.003532</td>\n",
              "      <td>24.99</td>\n",
              "      <td>23.41</td>\n",
              "      <td>158.80</td>\n",
              "      <td>1956.0</td>\n",
              "      <td>0.1238</td>\n",
              "      <td>0.1866</td>\n",
              "      <td>0.2416</td>\n",
              "      <td>0.1860</td>\n",
              "      <td>0.2750</td>\n",
              "      <td>0.08902</td>\n",
              "    </tr>\n",
              "    <tr>\n",
              "      <th>2</th>\n",
              "      <td>84300903</td>\n",
              "      <td>M</td>\n",
              "      <td>19.69</td>\n",
              "      <td>21.25</td>\n",
              "      <td>130.00</td>\n",
              "      <td>1203.0</td>\n",
              "      <td>0.10960</td>\n",
              "      <td>0.15990</td>\n",
              "      <td>0.1974</td>\n",
              "      <td>0.12790</td>\n",
              "      <td>0.2069</td>\n",
              "      <td>0.05999</td>\n",
              "      <td>0.7456</td>\n",
              "      <td>0.7869</td>\n",
              "      <td>4.585</td>\n",
              "      <td>94.03</td>\n",
              "      <td>0.006150</td>\n",
              "      <td>0.04006</td>\n",
              "      <td>0.03832</td>\n",
              "      <td>0.02058</td>\n",
              "      <td>0.02250</td>\n",
              "      <td>0.004571</td>\n",
              "      <td>23.57</td>\n",
              "      <td>25.53</td>\n",
              "      <td>152.50</td>\n",
              "      <td>1709.0</td>\n",
              "      <td>0.1444</td>\n",
              "      <td>0.4245</td>\n",
              "      <td>0.4504</td>\n",
              "      <td>0.2430</td>\n",
              "      <td>0.3613</td>\n",
              "      <td>0.08758</td>\n",
              "    </tr>\n",
              "    <tr>\n",
              "      <th>3</th>\n",
              "      <td>84348301</td>\n",
              "      <td>M</td>\n",
              "      <td>11.42</td>\n",
              "      <td>20.38</td>\n",
              "      <td>77.58</td>\n",
              "      <td>386.1</td>\n",
              "      <td>0.14250</td>\n",
              "      <td>0.28390</td>\n",
              "      <td>0.2414</td>\n",
              "      <td>0.10520</td>\n",
              "      <td>0.2597</td>\n",
              "      <td>0.09744</td>\n",
              "      <td>0.4956</td>\n",
              "      <td>1.1560</td>\n",
              "      <td>3.445</td>\n",
              "      <td>27.23</td>\n",
              "      <td>0.009110</td>\n",
              "      <td>0.07458</td>\n",
              "      <td>0.05661</td>\n",
              "      <td>0.01867</td>\n",
              "      <td>0.05963</td>\n",
              "      <td>0.009208</td>\n",
              "      <td>14.91</td>\n",
              "      <td>26.50</td>\n",
              "      <td>98.87</td>\n",
              "      <td>567.7</td>\n",
              "      <td>0.2098</td>\n",
              "      <td>0.8663</td>\n",
              "      <td>0.6869</td>\n",
              "      <td>0.2575</td>\n",
              "      <td>0.6638</td>\n",
              "      <td>0.17300</td>\n",
              "    </tr>\n",
              "    <tr>\n",
              "      <th>4</th>\n",
              "      <td>84358402</td>\n",
              "      <td>M</td>\n",
              "      <td>20.29</td>\n",
              "      <td>14.34</td>\n",
              "      <td>135.10</td>\n",
              "      <td>1297.0</td>\n",
              "      <td>0.10030</td>\n",
              "      <td>0.13280</td>\n",
              "      <td>0.1980</td>\n",
              "      <td>0.10430</td>\n",
              "      <td>0.1809</td>\n",
              "      <td>0.05883</td>\n",
              "      <td>0.7572</td>\n",
              "      <td>0.7813</td>\n",
              "      <td>5.438</td>\n",
              "      <td>94.44</td>\n",
              "      <td>0.011490</td>\n",
              "      <td>0.02461</td>\n",
              "      <td>0.05688</td>\n",
              "      <td>0.01885</td>\n",
              "      <td>0.01756</td>\n",
              "      <td>0.005115</td>\n",
              "      <td>22.54</td>\n",
              "      <td>16.67</td>\n",
              "      <td>152.20</td>\n",
              "      <td>1575.0</td>\n",
              "      <td>0.1374</td>\n",
              "      <td>0.2050</td>\n",
              "      <td>0.4000</td>\n",
              "      <td>0.1625</td>\n",
              "      <td>0.2364</td>\n",
              "      <td>0.07678</td>\n",
              "    </tr>\n",
              "  </tbody>\n",
              "</table>\n",
              "</div>\n",
              "      <button class=\"colab-df-convert\" onclick=\"convertToInteractive('df-f664bd59-163a-41f3-a03e-5055b7184726')\"\n",
              "              title=\"Convert this dataframe to an interactive table.\"\n",
              "              style=\"display:none;\">\n",
              "        \n",
              "  <svg xmlns=\"http://www.w3.org/2000/svg\" height=\"24px\"viewBox=\"0 0 24 24\"\n",
              "       width=\"24px\">\n",
              "    <path d=\"M0 0h24v24H0V0z\" fill=\"none\"/>\n",
              "    <path d=\"M18.56 5.44l.94 2.06.94-2.06 2.06-.94-2.06-.94-.94-2.06-.94 2.06-2.06.94zm-11 1L8.5 8.5l.94-2.06 2.06-.94-2.06-.94L8.5 2.5l-.94 2.06-2.06.94zm10 10l.94 2.06.94-2.06 2.06-.94-2.06-.94-.94-2.06-.94 2.06-2.06.94z\"/><path d=\"M17.41 7.96l-1.37-1.37c-.4-.4-.92-.59-1.43-.59-.52 0-1.04.2-1.43.59L10.3 9.45l-7.72 7.72c-.78.78-.78 2.05 0 2.83L4 21.41c.39.39.9.59 1.41.59.51 0 1.02-.2 1.41-.59l7.78-7.78 2.81-2.81c.8-.78.8-2.07 0-2.86zM5.41 20L4 18.59l7.72-7.72 1.47 1.35L5.41 20z\"/>\n",
              "  </svg>\n",
              "      </button>\n",
              "      \n",
              "  <style>\n",
              "    .colab-df-container {\n",
              "      display:flex;\n",
              "      flex-wrap:wrap;\n",
              "      gap: 12px;\n",
              "    }\n",
              "\n",
              "    .colab-df-convert {\n",
              "      background-color: #E8F0FE;\n",
              "      border: none;\n",
              "      border-radius: 50%;\n",
              "      cursor: pointer;\n",
              "      display: none;\n",
              "      fill: #1967D2;\n",
              "      height: 32px;\n",
              "      padding: 0 0 0 0;\n",
              "      width: 32px;\n",
              "    }\n",
              "\n",
              "    .colab-df-convert:hover {\n",
              "      background-color: #E2EBFA;\n",
              "      box-shadow: 0px 1px 2px rgba(60, 64, 67, 0.3), 0px 1px 3px 1px rgba(60, 64, 67, 0.15);\n",
              "      fill: #174EA6;\n",
              "    }\n",
              "\n",
              "    [theme=dark] .colab-df-convert {\n",
              "      background-color: #3B4455;\n",
              "      fill: #D2E3FC;\n",
              "    }\n",
              "\n",
              "    [theme=dark] .colab-df-convert:hover {\n",
              "      background-color: #434B5C;\n",
              "      box-shadow: 0px 1px 3px 1px rgba(0, 0, 0, 0.15);\n",
              "      filter: drop-shadow(0px 1px 2px rgba(0, 0, 0, 0.3));\n",
              "      fill: #FFFFFF;\n",
              "    }\n",
              "  </style>\n",
              "\n",
              "      <script>\n",
              "        const buttonEl =\n",
              "          document.querySelector('#df-f664bd59-163a-41f3-a03e-5055b7184726 button.colab-df-convert');\n",
              "        buttonEl.style.display =\n",
              "          google.colab.kernel.accessAllowed ? 'block' : 'none';\n",
              "\n",
              "        async function convertToInteractive(key) {\n",
              "          const element = document.querySelector('#df-f664bd59-163a-41f3-a03e-5055b7184726');\n",
              "          const dataTable =\n",
              "            await google.colab.kernel.invokeFunction('convertToInteractive',\n",
              "                                                     [key], {});\n",
              "          if (!dataTable) return;\n",
              "\n",
              "          const docLinkHtml = 'Like what you see? Visit the ' +\n",
              "            '<a target=\"_blank\" href=https://colab.research.google.com/notebooks/data_table.ipynb>data table notebook</a>'\n",
              "            + ' to learn more about interactive tables.';\n",
              "          element.innerHTML = '';\n",
              "          dataTable['output_type'] = 'display_data';\n",
              "          await google.colab.output.renderOutput(dataTable, element);\n",
              "          const docLink = document.createElement('div');\n",
              "          docLink.innerHTML = docLinkHtml;\n",
              "          element.appendChild(docLink);\n",
              "        }\n",
              "      </script>\n",
              "    </div>\n",
              "  </div>\n",
              "  "
            ],
            "text/plain": [
              "         0  1      2      3       4   ...      27      28      29      30       31\n",
              "0    842302  M  17.99  10.38  122.80  ...  0.6656  0.7119  0.2654  0.4601  0.11890\n",
              "1    842517  M  20.57  17.77  132.90  ...  0.1866  0.2416  0.1860  0.2750  0.08902\n",
              "2  84300903  M  19.69  21.25  130.00  ...  0.4245  0.4504  0.2430  0.3613  0.08758\n",
              "3  84348301  M  11.42  20.38   77.58  ...  0.8663  0.6869  0.2575  0.6638  0.17300\n",
              "4  84358402  M  20.29  14.34  135.10  ...  0.2050  0.4000  0.1625  0.2364  0.07678\n",
              "\n",
              "[5 rows x 32 columns]"
            ]
          },
          "metadata": {},
          "execution_count": 2
        }
      ]
    },
    {
      "cell_type": "markdown",
      "source": [
        "* 악성과 양성인 종양 세포 샘플 569개\n",
        "    * 0 : 고유 ID 번호\n",
        "    * 1 : 진단 결과(M=악성, B=양성)\n",
        "    * 3~32 : 세포 핵의 디지털 이미지에서 계산된 30개의 실수 값 특성"
      ],
      "metadata": {
        "id": "j5U5yFqp6lJV"
      }
    },
    {
      "cell_type": "code",
      "source": [
        "from sklearn.preprocessing import LabelEncoder\n",
        "\n",
        "X = df.loc[:, 2:].values\n",
        "y = df.loc[:, 1].values\n",
        "le = LabelEncoder()\n",
        "y = le.fit_transform(y)\n",
        "le.classes_"
      ],
      "metadata": {
        "colab": {
          "base_uri": "https://localhost:8080/"
        },
        "id": "oHXu9TWy7Bad",
        "outputId": "f783c117-35a1-44eb-975e-ddffa174ba37"
      },
      "execution_count": 3,
      "outputs": [
        {
          "output_type": "execute_result",
          "data": {
            "text/plain": [
              "array(['B', 'M'], dtype=object)"
            ]
          },
          "metadata": {},
          "execution_count": 3
        }
      ]
    },
    {
      "cell_type": "markdown",
      "source": [
        "클래스 레이블(진단 결과)을 배열 y에 인코딩하면 악성 종양은 클래스1로 표현되고 양성 종양은 클래스 0으로 표현된다."
      ],
      "metadata": {
        "id": "jOKJRLpJ7S3F"
      }
    },
    {
      "cell_type": "code",
      "source": [
        "le.transform(['M', 'B'])"
      ],
      "metadata": {
        "colab": {
          "base_uri": "https://localhost:8080/"
        },
        "id": "NEGCye1e7ii9",
        "outputId": "67da8e54-19be-4dbf-87f8-e4d34211e8e6"
      },
      "execution_count": 4,
      "outputs": [
        {
          "output_type": "execute_result",
          "data": {
            "text/plain": [
              "array([1, 0])"
            ]
          },
          "metadata": {},
          "execution_count": 4
        }
      ]
    },
    {
      "cell_type": "code",
      "source": [
        "from sklearn.model_selection import train_test_split\n",
        "\n",
        "X_train, X_test, y_train, y_test = train_test_split(X, y, test_size=0.2, stratify=y, random_state=1)"
      ],
      "metadata": {
        "id": "zJjRCveL7oS1"
      },
      "execution_count": 5,
      "outputs": []
    },
    {
      "cell_type": "markdown",
      "source": [
        "### 6.1.2 파이프라인으로 변환기와 추정기 연결\n",
        "* 주성분 분석을 통해 초기 차원 30차원에서 좀 더 낮은 2차원 부분 공간으로 데이터를 압축.\n",
        "* 선형 분류기에 주입 전, 특성 표준화\n",
        "\n",
        "훈련 데이터셋과 테스트 데이터셋을 각각 학습하고 변환하는 단계를 구성하는 대신 StandardScale, PCA, LogisticRegression 객체를 하나의 파이프라인 연결."
      ],
      "metadata": {
        "id": "gIXC5zbS70yl"
      }
    },
    {
      "cell_type": "code",
      "source": [
        "from sklearn.preprocessing import StandardScaler\n",
        "from sklearn.decomposition import PCA\n",
        "from sklearn.linear_model import LogisticRegression\n",
        "from sklearn.pipeline import make_pipeline\n",
        "\n",
        "pipe_lr = make_pipeline(StandardScaler(), PCA(n_components=2), LogisticRegression(random_state=1))\n",
        "pipe_lr.fit(X_train, y_train)\n",
        "print('테스트 정확도: %.3f' % pipe_lr.score(X_test, y_test))"
      ],
      "metadata": {
        "colab": {
          "base_uri": "https://localhost:8080/"
        },
        "id": "31eKnZT78nvl",
        "outputId": "49ede6ec-79cd-4f82-83a2-fd3e3ca914c1"
      },
      "execution_count": 6,
      "outputs": [
        {
          "output_type": "stream",
          "name": "stdout",
          "text": [
            "테스트 정확도: 0.956\n"
          ]
        }
      ]
    },
    {
      "cell_type": "code",
      "source": [
        "# 사이킷런의 파이프라인 작동 방식\n",
        "Image(url='https://git.io/JtsTr', width=500) "
      ],
      "metadata": {
        "colab": {
          "base_uri": "https://localhost:8080/",
          "height": 398
        },
        "id": "DgMmV_1T9SsN",
        "outputId": "15a0d219-3708-4bf1-e9e4-13282c627ce8"
      },
      "execution_count": 7,
      "outputs": [
        {
          "output_type": "execute_result",
          "data": {
            "text/html": [
              "<img src=\"https://git.io/JtsTr\" width=\"500\"/>"
            ],
            "text/plain": [
              "<IPython.core.display.Image object>"
            ]
          },
          "metadata": {},
          "execution_count": 7
        }
      ]
    },
    {
      "cell_type": "code",
      "source": [
        "# 사이킷런의 추정기 객체 시각화\n",
        "import matplotlib.pyplot as plt\n",
        "from sklearn import set_config\n",
        "set_config(display='diagram')\n",
        "pipe_lr"
      ],
      "metadata": {
        "colab": {
          "base_uri": "https://localhost:8080/",
          "height": 161
        },
        "id": "wPUutav49ZxN",
        "outputId": "408a0d7c-0649-485a-a63d-0fa65a45c867"
      },
      "execution_count": 8,
      "outputs": [
        {
          "output_type": "execute_result",
          "data": {
            "text/html": [
              "<style>#sk-06b0b893-ef33-4ad1-80d8-c18f4b3b1f3c {color: black;background-color: white;}#sk-06b0b893-ef33-4ad1-80d8-c18f4b3b1f3c pre{padding: 0;}#sk-06b0b893-ef33-4ad1-80d8-c18f4b3b1f3c div.sk-toggleable {background-color: white;}#sk-06b0b893-ef33-4ad1-80d8-c18f4b3b1f3c label.sk-toggleable__label {cursor: pointer;display: block;width: 100%;margin-bottom: 0;padding: 0.3em;box-sizing: border-box;text-align: center;}#sk-06b0b893-ef33-4ad1-80d8-c18f4b3b1f3c label.sk-toggleable__label-arrow:before {content: \"▸\";float: left;margin-right: 0.25em;color: #696969;}#sk-06b0b893-ef33-4ad1-80d8-c18f4b3b1f3c label.sk-toggleable__label-arrow:hover:before {color: black;}#sk-06b0b893-ef33-4ad1-80d8-c18f4b3b1f3c div.sk-estimator:hover label.sk-toggleable__label-arrow:before {color: black;}#sk-06b0b893-ef33-4ad1-80d8-c18f4b3b1f3c div.sk-toggleable__content {max-height: 0;max-width: 0;overflow: hidden;text-align: left;background-color: #f0f8ff;}#sk-06b0b893-ef33-4ad1-80d8-c18f4b3b1f3c div.sk-toggleable__content pre {margin: 0.2em;color: black;border-radius: 0.25em;background-color: #f0f8ff;}#sk-06b0b893-ef33-4ad1-80d8-c18f4b3b1f3c input.sk-toggleable__control:checked~div.sk-toggleable__content {max-height: 200px;max-width: 100%;overflow: auto;}#sk-06b0b893-ef33-4ad1-80d8-c18f4b3b1f3c input.sk-toggleable__control:checked~label.sk-toggleable__label-arrow:before {content: \"▾\";}#sk-06b0b893-ef33-4ad1-80d8-c18f4b3b1f3c div.sk-estimator input.sk-toggleable__control:checked~label.sk-toggleable__label {background-color: #d4ebff;}#sk-06b0b893-ef33-4ad1-80d8-c18f4b3b1f3c div.sk-label input.sk-toggleable__control:checked~label.sk-toggleable__label {background-color: #d4ebff;}#sk-06b0b893-ef33-4ad1-80d8-c18f4b3b1f3c input.sk-hidden--visually {border: 0;clip: rect(1px 1px 1px 1px);clip: rect(1px, 1px, 1px, 1px);height: 1px;margin: -1px;overflow: hidden;padding: 0;position: absolute;width: 1px;}#sk-06b0b893-ef33-4ad1-80d8-c18f4b3b1f3c div.sk-estimator {font-family: monospace;background-color: #f0f8ff;border: 1px dotted black;border-radius: 0.25em;box-sizing: border-box;margin-bottom: 0.5em;}#sk-06b0b893-ef33-4ad1-80d8-c18f4b3b1f3c div.sk-estimator:hover {background-color: #d4ebff;}#sk-06b0b893-ef33-4ad1-80d8-c18f4b3b1f3c div.sk-parallel-item::after {content: \"\";width: 100%;border-bottom: 1px solid gray;flex-grow: 1;}#sk-06b0b893-ef33-4ad1-80d8-c18f4b3b1f3c div.sk-label:hover label.sk-toggleable__label {background-color: #d4ebff;}#sk-06b0b893-ef33-4ad1-80d8-c18f4b3b1f3c div.sk-serial::before {content: \"\";position: absolute;border-left: 1px solid gray;box-sizing: border-box;top: 2em;bottom: 0;left: 50%;}#sk-06b0b893-ef33-4ad1-80d8-c18f4b3b1f3c div.sk-serial {display: flex;flex-direction: column;align-items: center;background-color: white;padding-right: 0.2em;padding-left: 0.2em;}#sk-06b0b893-ef33-4ad1-80d8-c18f4b3b1f3c div.sk-item {z-index: 1;}#sk-06b0b893-ef33-4ad1-80d8-c18f4b3b1f3c div.sk-parallel {display: flex;align-items: stretch;justify-content: center;background-color: white;}#sk-06b0b893-ef33-4ad1-80d8-c18f4b3b1f3c div.sk-parallel::before {content: \"\";position: absolute;border-left: 1px solid gray;box-sizing: border-box;top: 2em;bottom: 0;left: 50%;}#sk-06b0b893-ef33-4ad1-80d8-c18f4b3b1f3c div.sk-parallel-item {display: flex;flex-direction: column;position: relative;background-color: white;}#sk-06b0b893-ef33-4ad1-80d8-c18f4b3b1f3c div.sk-parallel-item:first-child::after {align-self: flex-end;width: 50%;}#sk-06b0b893-ef33-4ad1-80d8-c18f4b3b1f3c div.sk-parallel-item:last-child::after {align-self: flex-start;width: 50%;}#sk-06b0b893-ef33-4ad1-80d8-c18f4b3b1f3c div.sk-parallel-item:only-child::after {width: 0;}#sk-06b0b893-ef33-4ad1-80d8-c18f4b3b1f3c div.sk-dashed-wrapped {border: 1px dashed gray;margin: 0 0.4em 0.5em 0.4em;box-sizing: border-box;padding-bottom: 0.4em;background-color: white;position: relative;}#sk-06b0b893-ef33-4ad1-80d8-c18f4b3b1f3c div.sk-label label {font-family: monospace;font-weight: bold;background-color: white;display: inline-block;line-height: 1.2em;}#sk-06b0b893-ef33-4ad1-80d8-c18f4b3b1f3c div.sk-label-container {position: relative;z-index: 2;text-align: center;}#sk-06b0b893-ef33-4ad1-80d8-c18f4b3b1f3c div.sk-container {/* jupyter's `normalize.less` sets `[hidden] { display: none; }` but bootstrap.min.css set `[hidden] { display: none !important; }` so we also need the `!important` here to be able to override the default hidden behavior on the sphinx rendered scikit-learn.org. See: https://github.com/scikit-learn/scikit-learn/issues/21755 */display: inline-block !important;position: relative;}#sk-06b0b893-ef33-4ad1-80d8-c18f4b3b1f3c div.sk-text-repr-fallback {display: none;}</style><div id=\"sk-06b0b893-ef33-4ad1-80d8-c18f4b3b1f3c\" class=\"sk-top-container\"><div class=\"sk-text-repr-fallback\"><pre>Pipeline(steps=[(&#x27;standardscaler&#x27;, StandardScaler()),\n",
              "                (&#x27;pca&#x27;, PCA(n_components=2)),\n",
              "                (&#x27;logisticregression&#x27;, LogisticRegression(random_state=1))])</pre><b>Please rerun this cell to show the HTML repr or trust the notebook.</b></div><div class=\"sk-container\" hidden><div class=\"sk-item sk-dashed-wrapped\"><div class=\"sk-label-container\"><div class=\"sk-label sk-toggleable\"><input class=\"sk-toggleable__control sk-hidden--visually\" id=\"c652a1eb-4c37-42b5-8c4c-44e7b92903bb\" type=\"checkbox\" ><label for=\"c652a1eb-4c37-42b5-8c4c-44e7b92903bb\" class=\"sk-toggleable__label sk-toggleable__label-arrow\">Pipeline</label><div class=\"sk-toggleable__content\"><pre>Pipeline(steps=[(&#x27;standardscaler&#x27;, StandardScaler()),\n",
              "                (&#x27;pca&#x27;, PCA(n_components=2)),\n",
              "                (&#x27;logisticregression&#x27;, LogisticRegression(random_state=1))])</pre></div></div></div><div class=\"sk-serial\"><div class=\"sk-item\"><div class=\"sk-estimator sk-toggleable\"><input class=\"sk-toggleable__control sk-hidden--visually\" id=\"80d1821e-9957-47b4-8538-8c3d9ea9bc2e\" type=\"checkbox\" ><label for=\"80d1821e-9957-47b4-8538-8c3d9ea9bc2e\" class=\"sk-toggleable__label sk-toggleable__label-arrow\">StandardScaler</label><div class=\"sk-toggleable__content\"><pre>StandardScaler()</pre></div></div></div><div class=\"sk-item\"><div class=\"sk-estimator sk-toggleable\"><input class=\"sk-toggleable__control sk-hidden--visually\" id=\"e9e314f4-5ba3-463e-8ef4-eb738f798f5e\" type=\"checkbox\" ><label for=\"e9e314f4-5ba3-463e-8ef4-eb738f798f5e\" class=\"sk-toggleable__label sk-toggleable__label-arrow\">PCA</label><div class=\"sk-toggleable__content\"><pre>PCA(n_components=2)</pre></div></div></div><div class=\"sk-item\"><div class=\"sk-estimator sk-toggleable\"><input class=\"sk-toggleable__control sk-hidden--visually\" id=\"3b242e3a-6ded-4c9f-86c1-48b3f7941d92\" type=\"checkbox\" ><label for=\"3b242e3a-6ded-4c9f-86c1-48b3f7941d92\" class=\"sk-toggleable__label sk-toggleable__label-arrow\">LogisticRegression</label><div class=\"sk-toggleable__content\"><pre>LogisticRegression(random_state=1)</pre></div></div></div></div></div></div></div>"
            ],
            "text/plain": [
              "Pipeline(steps=[('standardscaler', StandardScaler()),\n",
              "                ('pca', PCA(n_components=2)),\n",
              "                ('logisticregression', LogisticRegression(random_state=1))])"
            ]
          },
          "metadata": {},
          "execution_count": 8
        }
      ]
    },
    {
      "cell_type": "markdown",
      "source": [
        "# 6.2 k-겹 교차 검증을 사용한 모델 성능 평가\n",
        "* 교차 검증 기법\n",
        "    * 홀드아웃 교차 검증(holdout cross-validation)\n",
        "    * k-겹 교차 검증(k-fold cross-validation)\n",
        "\n",
        "### 6.2.1 홀드아웃 방법\n",
        "* 훈련 데이터셋, 검증 데이터셋, 테스트 데이터셋 세 개의 부분으로 나눈다.\n",
        "    * 훈련 데이터셋 : 여러가지 모델을 훈련하는 데 사용\n",
        "    * 검증 데이터셋 : 모델 선택에 사용\n",
        "* 새로운 데이터에 대한 일반화 능력을 덜 편향되게 추정할 수 있다는 장점이 있다.\n"
      ],
      "metadata": {
        "id": "LlAGlG9-9oPd"
      }
    },
    {
      "cell_type": "markdown",
      "source": [
        "홀드아웃 방법은 훈련 데이터를 훈련 데이터셋과 검증 데이터셋으로 나누는 방법에 따라 성능 추정이 민감할 수 있다는 것이 단점이다."
      ],
      "metadata": {
        "id": "5W_F0fts_ddU"
      }
    },
    {
      "cell_type": "markdown",
      "source": [
        "### 6.2.2 k-겹 교차 검증\n",
        "1. k-겹 교차 검증에서는 중복을 허용하지 않고 훈련 데이터셋을 k개의 폴드로 랜덤하게 나눈다.\n",
        "2. k-1 개의 폴드로 모델을 훈련하고 나머지 하나의 폴드로 성능 평가.\n",
        "3. 1, 2 과정을 k번 반복하여 k개의 모델과 성능 추청을 얻는다.\n",
        "4. 서로 다른 독립적인 폴드에서 얻은 성능 추정을 기반으로 모델 평균 성능을 계산한다.\n"
      ],
      "metadata": {
        "id": "irvZ58TZ_t08"
      }
    },
    {
      "cell_type": "code",
      "source": [
        "# 홀드아웃 교차 검증\n",
        "Image(url='https://git.io/JtsT6', width=500) "
      ],
      "metadata": {
        "colab": {
          "base_uri": "https://localhost:8080/",
          "height": 298
        },
        "id": "vJGd4oVS_ZD9",
        "outputId": "2c554213-71b3-4922-80f9-52e37936a50d"
      },
      "execution_count": 9,
      "outputs": [
        {
          "output_type": "execute_result",
          "data": {
            "text/html": [
              "<img src=\"https://git.io/JtsT6\" width=\"500\"/>"
            ],
            "text/plain": [
              "<IPython.core.display.Image object>"
            ]
          },
          "metadata": {},
          "execution_count": 9
        }
      ]
    },
    {
      "cell_type": "markdown",
      "source": [
        "* LOOCV 방법\n",
        "    * Leave-One-Out Cross-Validation\n",
        "    * 폴드 개수가 훈련 샘플 개수와 같다. (k=n)\n",
        "    * 하나의 훈련 샘플이 각 반복에서 테스트로 사용\n",
        "    * 아주 작은 데이터셋을 사용할 때 권장\n",
        "\n",
        "기본 k-겹 교차 검증 방법보다 좀 더 향상된 방법은 계층적 k-겹 교차 검증이다. 좀 더 나은 편향과 분산 추정을 만든다.\n",
        "\n",
        "* 계층적 교차 검증\n",
        "    * 각 폴드에서 클래스 비율이 전체 훈련 데이터셋에 클래스 비율을 대표하도록 유지\n",
        "    * 사이킷런의 StratifiedKFold\n",
        "        * shuffle 매개 변수를 True로 지정하면 폴드를 나누기 전에 샘플을 섞는다. default=False\n",
        "        * shuffle=False일 때 random_state 매개변수를 지정하면 경고 발생.\n",
        "        "
      ],
      "metadata": {
        "id": "kt4F5qkrAhYT"
      }
    },
    {
      "cell_type": "code",
      "source": [
        "import numpy as np\n",
        "from sklearn.model_selection import StratifiedKFold\n",
        "\n",
        "kfold = StratifiedKFold(n_splits=10).split(X_train, y_train)\n",
        "\n",
        "scores = []\n",
        "for k, (train, test) in enumerate(kfold):\n",
        "    pipe_lr.fit(X_train[train], y_train[train])\n",
        "    score = pipe_lr.score(X_train[test], y_train[test])\n",
        "    scores.append(score)\n",
        "    print('폴드: %2d, 클래스 분포: %s, 정확도: %.3f' % (k+1,\n",
        "          np.bincount(y_train[train]), score))\n",
        "    \n",
        "print('\\nCV 정확도: %.3f +/- %.3f' % (np.mean(scores), np.std(scores)))"
      ],
      "metadata": {
        "colab": {
          "base_uri": "https://localhost:8080/"
        },
        "id": "wD0Cd2S0B_fb",
        "outputId": "01282ace-3888-4e89-e516-2796871f583f"
      },
      "execution_count": 10,
      "outputs": [
        {
          "output_type": "stream",
          "name": "stdout",
          "text": [
            "폴드:  1, 클래스 분포: [256 153], 정확도: 0.935\n",
            "폴드:  2, 클래스 분포: [256 153], 정확도: 0.935\n",
            "폴드:  3, 클래스 분포: [256 153], 정확도: 0.957\n",
            "폴드:  4, 클래스 분포: [256 153], 정확도: 0.957\n",
            "폴드:  5, 클래스 분포: [256 153], 정확도: 0.935\n",
            "폴드:  6, 클래스 분포: [257 153], 정확도: 0.956\n",
            "폴드:  7, 클래스 분포: [257 153], 정확도: 0.978\n",
            "폴드:  8, 클래스 분포: [257 153], 정확도: 0.933\n",
            "폴드:  9, 클래스 분포: [257 153], 정확도: 0.956\n",
            "폴드: 10, 클래스 분포: [257 153], 정확도: 0.956\n",
            "\n",
            "CV 정확도: 0.950 +/- 0.014\n"
          ]
        }
      ]
    },
    {
      "cell_type": "markdown",
      "source": [
        "sklearn.model_selection 모듈에 있는 StratifiedKFold 클래스를 훈련 데이터셋의 y_train 클래스 레이블을 전달하여 초기화.\n",
        "\n",
        "* n_splits : 폴드 개수 지정"
      ],
      "metadata": {
        "id": "dctepFAmCxM8"
      }
    },
    {
      "cell_type": "code",
      "source": [
        "# 계층별 k-겹 교차 검증을 사용하여 모델 평가\n",
        "from sklearn.model_selection import cross_val_score\n",
        "\n",
        "scores = cross_val_score(estimator=pipe_lr, X=X_train, y=y_train, cv=10, n_jobs=1)\n",
        "print('CV 정확도 점수: %s' % scores)\n",
        "print('CV 정확도: %.3f +/- %.3f' % (np.mean(scores), np.std(scores)))"
      ],
      "metadata": {
        "colab": {
          "base_uri": "https://localhost:8080/"
        },
        "id": "KkF0ZU4DDZ1z",
        "outputId": "07441919-8c81-4242-cad9-283ed570aca7"
      },
      "execution_count": 11,
      "outputs": [
        {
          "output_type": "stream",
          "name": "stdout",
          "text": [
            "CV 정확도 점수: [0.93478261 0.93478261 0.95652174 0.95652174 0.93478261 0.95555556\n",
            " 0.97777778 0.93333333 0.95555556 0.95555556]\n",
            "CV 정확도: 0.950 +/- 0.014\n"
          ]
        }
      ]
    },
    {
      "cell_type": "code",
      "source": [
        "# 교차 검증에 여러 측정 지표를 사용할 수 있는 cross_validate\n",
        "from sklearn.model_selection import cross_validate\n",
        "\n",
        "scores = cross_validate(estimator=pipe_lr, X=X_train, y=y_train, scoring=['accuracy'], cv=10, n_jobs=-1)\n",
        "print('CV 정확도 점수: %s' % scores['test_accuracy'])\n",
        "print('CV 정확도: %.3f +/- %.3f' % (np.mean(scores['test_accuracy']), np.std(scores['test_accuracy'])))"
      ],
      "metadata": {
        "colab": {
          "base_uri": "https://localhost:8080/"
        },
        "id": "ka-3nPHLEAej",
        "outputId": "97facc08-5880-41a2-c7c3-53232c04565f"
      },
      "execution_count": 12,
      "outputs": [
        {
          "output_type": "stream",
          "name": "stdout",
          "text": [
            "CV 정확도 점수: [0.93478261 0.93478261 0.95652174 0.95652174 0.93478261 0.95555556\n",
            " 0.97777778 0.93333333 0.95555556 0.95555556]\n",
            "CV 정확도: 0.950 +/- 0.014\n"
          ]
        }
      ]
    },
    {
      "cell_type": "markdown",
      "source": [
        "`cross_val_predict` 함수는 `cross_val_score`와 비슷한 인터페이스를 제공하지만 훈련 데이터셋의 각 샘플이 테스트 폴드가 되었을 때 만들어진 예측을 반환. 따라서 cross_val_predict 함수의 결과를 사용하여 모델의 성능(정확도)을 계산하면 cross_val_score 함수의 결과와 다르며 바람직한 일반화 성능 추청이 아니다."
      ],
      "metadata": {
        "id": "_WqT7fK1EjmD"
      }
    },
    {
      "cell_type": "code",
      "source": [
        "from sklearn.model_selection import cross_val_predict\n",
        "\n",
        "preds = cross_val_predict(estimator=pipe_lr, X=X_train, y=y_train, cv=10, n_jobs=-1)\n",
        "preds[:10]"
      ],
      "metadata": {
        "colab": {
          "base_uri": "https://localhost:8080/"
        },
        "id": "ZLOlGTU0E-z8",
        "outputId": "62d5b533-29e9-4924-edb4-613fe2be6ef8"
      },
      "execution_count": 13,
      "outputs": [
        {
          "output_type": "execute_result",
          "data": {
            "text/plain": [
              "array([0, 0, 0, 0, 0, 0, 0, 1, 1, 1])"
            ]
          },
          "metadata": {},
          "execution_count": 13
        }
      ]
    },
    {
      "cell_type": "markdown",
      "source": [
        "`method` 매개변수에 반환될 값을 계산하기 위한 모델의 메서드를 지정할 수 있다.\n",
        "* method='predict_proba' : 예측 확률 반환\n",
        "* 'predict_proba', 'predict', 'predict_log_proba', 'decision_function' 등\n",
        "* default='predict'"
      ],
      "metadata": {
        "id": "381gy9hxFNMy"
      }
    },
    {
      "cell_type": "code",
      "source": [
        "from sklearn.model_selection import cross_val_predict\n",
        "\n",
        "preds = cross_val_predict(estimator=pipe_lr, X=X_train, y=y_train, method='predict_proba', n_jobs=-1)\n",
        "preds[:10]"
      ],
      "metadata": {
        "colab": {
          "base_uri": "https://localhost:8080/"
        },
        "id": "dDaCqNdeFpDS",
        "outputId": "11742cd2-c89d-4b09-b95e-11ded880b4b7"
      },
      "execution_count": 14,
      "outputs": [
        {
          "output_type": "execute_result",
          "data": {
            "text/plain": [
              "array([[9.94155991e-01, 5.84400909e-03],\n",
              "       [7.31384063e-01, 2.68615937e-01],\n",
              "       [9.69885576e-01, 3.01144241e-02],\n",
              "       [8.40624737e-01, 1.59375263e-01],\n",
              "       [9.97603229e-01, 2.39677100e-03],\n",
              "       [9.99781102e-01, 2.18898446e-04],\n",
              "       [9.99162903e-01, 8.37097403e-04],\n",
              "       [1.22472302e-06, 9.99998775e-01],\n",
              "       [1.04992527e-01, 8.95007473e-01],\n",
              "       [3.78721109e-04, 9.99621279e-01]])"
            ]
          },
          "metadata": {},
          "execution_count": 14
        }
      ]
    }
  ]
}
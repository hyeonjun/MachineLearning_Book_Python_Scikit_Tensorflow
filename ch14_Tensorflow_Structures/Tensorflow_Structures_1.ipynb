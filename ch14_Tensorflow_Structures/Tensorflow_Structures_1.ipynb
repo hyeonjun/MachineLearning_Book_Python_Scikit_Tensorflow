{
  "nbformat": 4,
  "nbformat_minor": 0,
  "metadata": {
    "colab": {
      "name": "ch14_Tensorflow_Structures_1.ipynb",
      "provenance": [],
      "authorship_tag": "ABX9TyMzXNeo/VLXazleBhiaxJqN"
    },
    "kernelspec": {
      "name": "python3",
      "display_name": "Python 3"
    },
    "language_info": {
      "name": "python"
    }
  },
  "cells": [
    {
      "cell_type": "code",
      "source": [
        "!pip install --upgrade mlxtend"
      ],
      "metadata": {
        "colab": {
          "base_uri": "https://localhost:8080/"
        },
        "id": "qH1izuWP6dVK",
        "outputId": "0bec8a58-f337-4076-90d8-8b9e1c9a078f"
      },
      "execution_count": 1,
      "outputs": [
        {
          "output_type": "stream",
          "name": "stdout",
          "text": [
            "Requirement already satisfied: mlxtend in /usr/local/lib/python3.7/dist-packages (0.14.0)\n",
            "Collecting mlxtend\n",
            "  Downloading mlxtend-0.19.0-py2.py3-none-any.whl (1.3 MB)\n",
            "\u001b[K     |████████████████████████████████| 1.3 MB 31.1 MB/s \n",
            "\u001b[?25hRequirement already satisfied: setuptools in /usr/local/lib/python3.7/dist-packages (from mlxtend) (57.4.0)\n",
            "Requirement already satisfied: scipy>=1.2.1 in /usr/local/lib/python3.7/dist-packages (from mlxtend) (1.4.1)\n",
            "Requirement already satisfied: scikit-learn>=0.20.3 in /usr/local/lib/python3.7/dist-packages (from mlxtend) (1.0.2)\n",
            "Requirement already satisfied: matplotlib>=3.0.0 in /usr/local/lib/python3.7/dist-packages (from mlxtend) (3.2.2)\n",
            "Requirement already satisfied: pandas>=0.24.2 in /usr/local/lib/python3.7/dist-packages (from mlxtend) (1.3.5)\n",
            "Requirement already satisfied: numpy>=1.16.2 in /usr/local/lib/python3.7/dist-packages (from mlxtend) (1.19.5)\n",
            "Requirement already satisfied: joblib>=0.13.2 in /usr/local/lib/python3.7/dist-packages (from mlxtend) (1.1.0)\n",
            "Requirement already satisfied: kiwisolver>=1.0.1 in /usr/local/lib/python3.7/dist-packages (from matplotlib>=3.0.0->mlxtend) (1.3.2)\n",
            "Requirement already satisfied: cycler>=0.10 in /usr/local/lib/python3.7/dist-packages (from matplotlib>=3.0.0->mlxtend) (0.11.0)\n",
            "Requirement already satisfied: python-dateutil>=2.1 in /usr/local/lib/python3.7/dist-packages (from matplotlib>=3.0.0->mlxtend) (2.8.2)\n",
            "Requirement already satisfied: pyparsing!=2.0.4,!=2.1.2,!=2.1.6,>=2.0.1 in /usr/local/lib/python3.7/dist-packages (from matplotlib>=3.0.0->mlxtend) (3.0.7)\n",
            "Requirement already satisfied: pytz>=2017.3 in /usr/local/lib/python3.7/dist-packages (from pandas>=0.24.2->mlxtend) (2018.9)\n",
            "Requirement already satisfied: six>=1.5 in /usr/local/lib/python3.7/dist-packages (from python-dateutil>=2.1->matplotlib>=3.0.0->mlxtend) (1.15.0)\n",
            "Requirement already satisfied: threadpoolctl>=2.0.0 in /usr/local/lib/python3.7/dist-packages (from scikit-learn>=0.20.3->mlxtend) (3.1.0)\n",
            "Installing collected packages: mlxtend\n",
            "  Attempting uninstall: mlxtend\n",
            "    Found existing installation: mlxtend 0.14.0\n",
            "    Uninstalling mlxtend-0.14.0:\n",
            "      Successfully uninstalled mlxtend-0.14.0\n",
            "Successfully installed mlxtend-0.19.0\n"
          ]
        }
      ]
    },
    {
      "cell_type": "code",
      "source": [
        "from IPython.display import Image"
      ],
      "metadata": {
        "id": "h0UWwE_76ePC"
      },
      "execution_count": 2,
      "outputs": []
    },
    {
      "cell_type": "markdown",
      "source": [
        "# 14. 텐서플로 구조\n",
        "* 텐서플로 v2 그래프\n",
        "* 그래프 컴파일을 위한 함수 데코레이션\n",
        "* 텐서플로 변수 사용\n",
        "* 고전적인 XOR 문제로 모델 수용 능력 이해\n",
        "* 케라스의 Model 클래스와 함수형 API를 사용한 복잡한 신경만 모델\n",
        "* 자동 미분과 tf.GradientTape를 사용한 그레이디언트\n",
        "* tf.estimator"
      ],
      "metadata": {
        "id": "vPQYUhqF5JXt"
      }
    },
    {
      "cell_type": "markdown",
      "source": [
        "# 14.2 텐서플로의 계산 그래프\n",
        "* 텐서플로 v2의 즉시 실행과 동적 계산 그래프로 마이그레이션\n",
        "\n",
        "### 14.2.1 계산 그래프 이해\n",
        "* 텐서플로는 계산 그래프에 크게 의존한다\n",
        "* 계산 그래프를 사용하여 입력에서 출력까지 텐서 간의 관계를 유도"
      ],
      "metadata": {
        "id": "Pe-cJ6xl5oe7"
      }
    },
    {
      "cell_type": "code",
      "execution_count": 3,
      "metadata": {
        "colab": {
          "base_uri": "https://localhost:8080/",
          "height": 422
        },
        "id": "QKPznk1H5EHY",
        "outputId": "8d4da1d2-5fcf-40e7-9b1c-4cf3d0ab1184"
      },
      "outputs": [
        {
          "output_type": "execute_result",
          "data": {
            "text/html": [
              "<img src=\"https://git.io/JL52v\" width=\"500\"/>"
            ],
            "text/plain": [
              "<IPython.core.display.Image object>"
            ]
          },
          "metadata": {},
          "execution_count": 3
        }
      ],
      "source": [
        "# 랭크 0(스칼라)인 텐서 a, b, c를 사용하여 z = 2*(a-b)+c\n",
        "Image(url='https://git.io/JL52v', width=500)"
      ]
    },
    {
      "cell_type": "markdown",
      "source": [
        "### 14.2.2 텐서플로 v1.x에서의 그래프\n",
        "* 프로세스\n",
        "    1. 새로운 빈 계산 그래프를 만든다\n",
        "    2. 이 계산 그래프에 노드(텐서나 연산)를 추가\n",
        "    3. 그래프를 평가(실행)한다\n",
        "        1. 새로운 세션을 시작한다\n",
        "        2. 그래프 내 변수를 초기화한다.\n",
        "        3. 이 세션에서 계산 그래프를 실행한다."
      ],
      "metadata": {
        "id": "5UFxNzJS7BAC"
      }
    },
    {
      "cell_type": "code",
      "source": [
        "import tensorflow as tf\n",
        "import numpy as np\n",
        "import pandas as pd\n",
        "import matplotlib.pyplot as plt"
      ],
      "metadata": {
        "id": "OqMzYGj17dna"
      },
      "execution_count": 5,
      "outputs": []
    },
    {
      "cell_type": "code",
      "source": [
        "# z = 2 * (a-b) + c 그래프\n",
        "g = tf.Graph() # 그래프 정의\n",
        "with g.as_default(): # 그래프 g에 노드 추가\n",
        "    a = tf.constant(1, name='a')\n",
        "    b = tf.constant(2, name='b')\n",
        "    c = tf.constant(3, name='c')\n",
        "    z = 2 * (a - b) + c\n",
        "\n",
        "with tf.compat.v1.Session(graph=g) as sess: # 그래프를 실행하여 텐서 z 평가\n",
        "    print('결과: z=', sess.run(z))\n",
        "    print('결과: z=', z.eval())"
      ],
      "metadata": {
        "colab": {
          "base_uri": "https://localhost:8080/"
        },
        "id": "drOO0_4s7lOp",
        "outputId": "86de9185-a6fc-41aa-a318-152d669824ff"
      },
      "execution_count": 6,
      "outputs": [
        {
          "output_type": "stream",
          "name": "stdout",
          "text": [
            "결과: z= 1\n",
            "결과: z= 1\n"
          ]
        }
      ]
    },
    {
      "cell_type": "markdown",
      "source": [
        "### 14.2.3 텐서플로 v2로 이전\n",
        "* 동적 그래프(즉시 실행)\n",
        "    * 바로바로 연산 평가 가능\n",
        "    * 그래프와 세션을 명시적으로 만들 필요가 없고 개발 작업 흐름이 훨씬 간편"
      ],
      "metadata": {
        "id": "5eO1OyzX8-Jy"
      }
    },
    {
      "cell_type": "code",
      "source": [
        "a = tf.constant(1, name='a')\n",
        "b = tf.constant(2, name='b')\n",
        "c = tf.constant(3, name='c')\n",
        "z = 2 * (a-b) + c\n",
        "tf.print('결과: z=', z)"
      ],
      "metadata": {
        "colab": {
          "base_uri": "https://localhost:8080/"
        },
        "id": "gA7Q6aoa9Mgh",
        "outputId": "3e11a280-070d-43e1-da18-6f6f8a9e03c5"
      },
      "execution_count": 8,
      "outputs": [
        {
          "output_type": "stream",
          "name": "stdout",
          "text": [
            "결과: z= 1\n"
          ]
        }
      ]
    },
    {
      "cell_type": "markdown",
      "source": [
        "### 14.2.4 입력 데이터를 모델에 주입: 텐서플로 v1.x\n",
        "* 입력 데이터를 모델에 전달하기 위해 플레이스홀더 변수를 만들어야 한다."
      ],
      "metadata": {
        "id": "0frQkV069bog"
      }
    },
    {
      "cell_type": "code",
      "source": [
        "g = tf.Graph()\n",
        "with g.as_default():\n",
        "    a = tf.compat.v1.placeholder(shape=None, dtype=tf.int32, name='tf_a')\n",
        "    b = tf.compat.v1.placeholder(shape=None, dtype=tf.int32, name='tf_b')\n",
        "    c = tf.compat.v1.placeholder(shape=None, dtype=tf.int32, name='tf_c')\n",
        "    z = 2*(a - b) + c\n",
        "\n",
        "with tf.compat.v1.Session(graph=g) as sess:\n",
        "    feed_dict = {a:1, b:2, c:3}\n",
        "    print('결과: z =', sess.run(z, feed_dict=feed_dict))"
      ],
      "metadata": {
        "colab": {
          "base_uri": "https://localhost:8080/"
        },
        "id": "lZdw-Rxo9rIh",
        "outputId": "2e4b0d48-be84-4829-9523-3da6680c0252"
      },
      "execution_count": 9,
      "outputs": [
        {
          "output_type": "stream",
          "name": "stdout",
          "text": [
            "결과: z = 1\n"
          ]
        }
      ]
    },
    {
      "cell_type": "markdown",
      "source": [
        "### 14.2.5 입력 데이터를 모델에 주입: 텐서플로 v2\n",
        "* 파이썬 변수나 넘파이 배열을 모델에 데이터로 바로 주입 가능"
      ],
      "metadata": {
        "id": "flix97SF9gCo"
      }
    },
    {
      "cell_type": "code",
      "source": [
        "def compute_z(a, b, c):\n",
        "    r1 = tf.subtract(a, b)\n",
        "    r2 = tf.multiply(2, r1)\n",
        "    z = tf.add(r2, c)\n",
        "    return z\n",
        "\n",
        "tf.print('스칼라 입력:', compute_z(1, 2, 3))\n",
        "tf.print('랭크 1 입력:', compute_z([1], [2], [3]))\n",
        "tf.print('랭크 2 입력:', compute_z([[1]], [[2]], [[3]]))"
      ],
      "metadata": {
        "colab": {
          "base_uri": "https://localhost:8080/"
        },
        "id": "ToV3LCnj-CzY",
        "outputId": "0238316f-3f16-47e2-9184-ab72b1adea0c"
      },
      "execution_count": 10,
      "outputs": [
        {
          "output_type": "stream",
          "name": "stdout",
          "text": [
            "스칼라 입력: 1\n",
            "랭크 1 입력: [1]\n",
            "랭크 2 입력: [[1]]\n"
          ]
        }
      ]
    },
    {
      "cell_type": "markdown",
      "source": [
        "### 14.2.6 함수 데코레이터로 계산 성능 높이기\n",
        "* 파이썬 코드를 텐서플로 그래프 코드로 자동 변환해주는 AutoGraph 도구를 제공\n",
        "* 계산 효율을 위한 보통의 파이썬 함수를 텐서플로의 정적 그래프로 컴파일 방법"
      ],
      "metadata": {
        "id": "MWyDl_ra-Sb9"
      }
    },
    {
      "cell_type": "code",
      "source": [
        "@tf.function # 동적 타이핑 처리\n",
        "def compute_z(a, b, c):\n",
        "    r1 = tf.subtract(a, b)\n",
        "    r2 = tf.multiply(2, r1)\n",
        "    z = tf.add(r2, c)\n",
        "    return z\n",
        "\n",
        "tf.print('스칼라 입력:', compute_z(1, 2, 3))\n",
        "tf.print('랭크 1 입력:', compute_z([1], [2], [3]))\n",
        "tf.print('랭크 2 입력:', compute_z([[1]], [[2]], [[3]]))"
      ],
      "metadata": {
        "colab": {
          "base_uri": "https://localhost:8080/"
        },
        "id": "JRGTDDCE_Ixf",
        "outputId": "63b8ed3a-3aaa-4ef2-ae4a-372302463f6c"
      },
      "execution_count": 11,
      "outputs": [
        {
          "output_type": "stream",
          "name": "stdout",
          "text": [
            "스칼라 입력: 1\n",
            "랭크 1 입력: [1]\n",
            "랭크 2 입력: [[1]]\n"
          ]
        }
      ]
    },
    {
      "cell_type": "markdown",
      "source": [
        "* 입력 매개변수를 기반으로 그래프를 구성하기 위해 트레이싱 기법 사용\n",
        "    * 트레이싱 기법을 사용해 함수 호출에 사용된 입력 시그니처를 기반으로 키의 튜플을 생성\n",
        "    * 키 생성\n",
        "        * tf.Tensor 매개변수이면 키는 크기와 데이터 타입을 기반으로 한다.\n",
        "        * 리스트와 같은 파이썬 타입이면 id() 함수를 사용하여 키를 생성.\n",
        "        * 파이썬 원시 자료형이면 키는 입력 값을 기반으로 한다.\n"
      ],
      "metadata": {
        "id": "wSMRtJBs_x1P"
      }
    },
    {
      "cell_type": "code",
      "source": [
        "@tf.function(input_signature=(tf.TensorSpec(shape=[None], dtype=tf.int32),\n",
        "                              tf.TensorSpec(shape=[None], dtype=tf.int32),\n",
        "                              tf.TensorSpec(shape=[None], dtype=tf.int32),))\n",
        "\n",
        "def compute_z(a, b, c):\n",
        "    r1 = tf.subtract(a, b)\n",
        "    r2 = tf.multiply(2, r1)\n",
        "    z = tf.add(r2, c)\n",
        "    return z\n",
        "\n",
        "# 랭크1 텐서(또는 랭크 1 텐서로 바꿀 수 있는 리스트)를 사용하여 함수 호출 가능\n",
        "tf.print('랭크 1 입력:', compute_z([1], [2], [3]))\n",
        "tf.print('랭크 1 입력:', compute_z([1, 2], [2, 4], [3, 6]))"
      ],
      "metadata": {
        "colab": {
          "base_uri": "https://localhost:8080/"
        },
        "id": "2ZbLghtHALsP",
        "outputId": "c1caad6b-72e2-45ab-f8c1-72e084ceb33a"
      },
      "execution_count": 12,
      "outputs": [
        {
          "output_type": "stream",
          "name": "stdout",
          "text": [
            "랭크 1 입력: [1]\n",
            "랭크 1 입력: [1 2]\n"
          ]
        }
      ]
    },
    {
      "cell_type": "markdown",
      "source": [
        "* 1이 아닌 랭크를 가진 텐서를 사용하여 호출하면 지정된 입력 시그니처와 맞지 않아 에러 발생\n",
        "        tf.print('Rank 0 Inputs:', compute_z(1, 2, 3))\n",
        "        tf.print('Rank 2 Inputs:', compute_z([[1], [2]], [[2], [4]], [[3], [6]]))"
      ],
      "metadata": {
        "id": "r_C75wflBbiW"
      }
    },
    {
      "cell_type": "markdown",
      "source": [
        "# 14.3 모델 파라미터를 저장하고 업데이트하기 위한 텐서플로 변수 객체\n",
        "* Variable: 훈련하는 동안 모델 파라미터를 저장하고 업데이트할 수 있는 특별한 Tensor 객체."
      ],
      "metadata": {
        "id": "nrcAteTDBUPG"
      }
    },
    {
      "cell_type": "code",
      "source": [
        "a = tf.Variable(initial_value=3.14, name='var_a')\n",
        "b = tf.Variable(initial_value=[1, 2, 3], name='var_b')\n",
        "c = tf.Variable(initial_value=[True, False], dtype=tf.bool)\n",
        "d = tf.Variable(initial_value=['abc'], dtype=tf.string)\n",
        "print(a)\n",
        "print(b)\n",
        "print(c)\n",
        "print(d)"
      ],
      "metadata": {
        "colab": {
          "base_uri": "https://localhost:8080/"
        },
        "id": "90J4f6CDBvH-",
        "outputId": "c5870595-5b9e-43cb-c557-13a52c443445"
      },
      "execution_count": 16,
      "outputs": [
        {
          "output_type": "stream",
          "name": "stdout",
          "text": [
            "<tf.Variable 'var_a:0' shape=() dtype=float32, numpy=3.14>\n",
            "<tf.Variable 'var_b:0' shape=(3,) dtype=int32, numpy=array([1, 2, 3], dtype=int32)>\n",
            "<tf.Variable 'Variable:0' shape=(2,) dtype=bool, numpy=array([ True, False])>\n",
            "<tf.Variable 'Variable:0' shape=(1,) dtype=string, numpy=array([b'abc'], dtype=object)>\n"
          ]
        }
      ]
    },
    {
      "cell_type": "markdown",
      "source": [
        "Variable을 만들 때 항상 초기값을 제공해야 한다. 변수는 trainable 속성을 가지며 기본값은 True이다. 케라스 같은 API는 이 속성을 사용해서 훈련하는 변수와 훈련하지 않는 변수를 관리한다."
      ],
      "metadata": {
        "id": "r3fAKu6vCOuG"
      }
    },
    {
      "cell_type": "code",
      "source": [
        "w = tf.Variable([1, 2, 3], trainable=False)\n",
        "print(w.trainable) # 훈련하지 않는 변수"
      ],
      "metadata": {
        "colab": {
          "base_uri": "https://localhost:8080/"
        },
        "id": "cIUyG0wwCiy_",
        "outputId": "176c1b06-6c8a-4955-b3f1-498c58c12480"
      },
      "execution_count": 17,
      "outputs": [
        {
          "output_type": "stream",
          "name": "stdout",
          "text": [
            "False\n"
          ]
        }
      ]
    },
    {
      "cell_type": "code",
      "source": [
        "# Variable 값은 .assign(), .assign_add() 메서드 등과 같은 연산을 실행하여 수정\n",
        "print(w.assign([3, 1, 4], read_value=True))\n",
        "w.assign_add([2, -1, 2], read_value=False)\n",
        "print(w.value())"
      ],
      "metadata": {
        "colab": {
          "base_uri": "https://localhost:8080/"
        },
        "id": "L0CHwWJECwMk",
        "outputId": "1a63a925-68bd-4fb6-c932-56b66b285911"
      },
      "execution_count": 18,
      "outputs": [
        {
          "output_type": "stream",
          "name": "stdout",
          "text": [
            "<tf.Variable 'UnreadVariable' shape=(3,) dtype=int32, numpy=array([3, 1, 4], dtype=int32)>\n",
            "tf.Tensor([5 0 6], shape=(3,), dtype=int32)\n"
          ]
        }
      ]
    },
    {
      "cell_type": "code",
      "source": [
        "# 고전적인 랜덤 초기화 방법\n",
        "# 원하는 출력 텐서 크기를 지정하여 이 객체를 호출\n",
        "tf.random.set_seed(1)\n",
        "init = tf.keras.initializers.GlorotNormal()\n",
        "tf.print(init(shape=(3,)))"
      ],
      "metadata": {
        "colab": {
          "base_uri": "https://localhost:8080/"
        },
        "id": "EGXPnEKcDKz9",
        "outputId": "52b76d6e-4be8-4239-9d80-3f9b356c1768"
      },
      "execution_count": 19,
      "outputs": [
        {
          "output_type": "stream",
          "name": "stdout",
          "text": [
            "[-0.722795904 1.01456821 0.251808226]\n"
          ]
        }
      ]
    },
    {
      "cell_type": "code",
      "source": [
        "# 위 객체를 사용하여 2 * 3 크기의 Variable을 초기화\n",
        "v = tf.Variable(init(shape=(2, 3)))\n",
        "tf.print(v)"
      ],
      "metadata": {
        "colab": {
          "base_uri": "https://localhost:8080/"
        },
        "id": "bsn8jN8iDcG0",
        "outputId": "0f8e6046-2a3b-41e8-d36e-1704a716acc8"
      },
      "execution_count": 20,
      "outputs": [
        {
          "output_type": "stream",
          "name": "stdout",
          "text": [
            "[[0.28982234 -0.782292783 -0.0453658961]\n",
            " [0.960991383 -0.120003454 0.708528221]]\n"
          ]
        }
      ]
    },
    {
      "cell_type": "code",
      "source": [
        "class MyModule(tf.Module):\n",
        "    def __init__(self):\n",
        "        init = tf.keras.initializers.GlorotNormal()\n",
        "        self.w1 = tf.Variable(init(shape=(2, 3)), trainable=True)\n",
        "        self.w2 = tf.Variable(init(shape=(1, 2)), trainable=False)\n",
        "\n",
        "m = MyModule()\n",
        "print('모든 변수: ', [v.shape for v in m.variables])\n",
        "print('훈련 가능한 변수: ', [v.shape for v in m.trainable_variables])"
      ],
      "metadata": {
        "colab": {
          "base_uri": "https://localhost:8080/"
        },
        "id": "FdsuZgZ8DuME",
        "outputId": "e2189c86-c4a7-4db4-b39f-92f7eae29f7f"
      },
      "execution_count": 21,
      "outputs": [
        {
          "output_type": "stream",
          "name": "stdout",
          "text": [
            "모든 변수:  [TensorShape([2, 3]), TensorShape([1, 2])]\n",
            "훈련 가능한 변수:  [TensorShape([2, 3])]\n"
          ]
        }
      ]
    },
    {
      "cell_type": "code",
      "source": [
        "# @tf.function : 트레이싱과 그래프 생성을 통해 Variable 객체를 사용\n",
        "# 텐서플로는 데코레이터가 적용된 함수 안에서 Variable 객체를 만들지 못하게 하려고 에러 발생함.\n",
        "@tf.function\n",
        "def f(x):\n",
        "    w = tf.Variable([1, 2, 3])\n",
        "f([1])"
      ],
      "metadata": {
        "colab": {
          "base_uri": "https://localhost:8080/",
          "height": 469
        },
        "id": "V4KDK-0XEQ31",
        "outputId": "0240e32f-cfe7-4101-f8e8-52d5044f1ed6"
      },
      "execution_count": 22,
      "outputs": [
        {
          "output_type": "error",
          "ename": "ValueError",
          "evalue": "ignored",
          "traceback": [
            "\u001b[0;31m---------------------------------------------------------------------------\u001b[0m",
            "\u001b[0;31mValueError\u001b[0m                                Traceback (most recent call last)",
            "\u001b[0;32m<ipython-input-22-3c19bcb9eee2>\u001b[0m in \u001b[0;36m<module>\u001b[0;34m()\u001b[0m\n\u001b[1;32m      4\u001b[0m \u001b[0;32mdef\u001b[0m \u001b[0mf\u001b[0m\u001b[0;34m(\u001b[0m\u001b[0mx\u001b[0m\u001b[0;34m)\u001b[0m\u001b[0;34m:\u001b[0m\u001b[0;34m\u001b[0m\u001b[0;34m\u001b[0m\u001b[0m\n\u001b[1;32m      5\u001b[0m     \u001b[0mw\u001b[0m \u001b[0;34m=\u001b[0m \u001b[0mtf\u001b[0m\u001b[0;34m.\u001b[0m\u001b[0mVariable\u001b[0m\u001b[0;34m(\u001b[0m\u001b[0;34m[\u001b[0m\u001b[0;36m1\u001b[0m\u001b[0;34m,\u001b[0m \u001b[0;36m2\u001b[0m\u001b[0;34m,\u001b[0m \u001b[0;36m3\u001b[0m\u001b[0;34m]\u001b[0m\u001b[0;34m)\u001b[0m\u001b[0;34m\u001b[0m\u001b[0;34m\u001b[0m\u001b[0m\n\u001b[0;32m----> 6\u001b[0;31m \u001b[0mf\u001b[0m\u001b[0;34m(\u001b[0m\u001b[0;34m[\u001b[0m\u001b[0;36m1\u001b[0m\u001b[0;34m]\u001b[0m\u001b[0;34m)\u001b[0m\u001b[0;34m\u001b[0m\u001b[0;34m\u001b[0m\u001b[0m\n\u001b[0m",
            "\u001b[0;32m/usr/local/lib/python3.7/dist-packages/tensorflow/python/util/traceback_utils.py\u001b[0m in \u001b[0;36merror_handler\u001b[0;34m(*args, **kwargs)\u001b[0m\n\u001b[1;32m    151\u001b[0m     \u001b[0;32mexcept\u001b[0m \u001b[0mException\u001b[0m \u001b[0;32mas\u001b[0m \u001b[0me\u001b[0m\u001b[0;34m:\u001b[0m\u001b[0;34m\u001b[0m\u001b[0;34m\u001b[0m\u001b[0m\n\u001b[1;32m    152\u001b[0m       \u001b[0mfiltered_tb\u001b[0m \u001b[0;34m=\u001b[0m \u001b[0m_process_traceback_frames\u001b[0m\u001b[0;34m(\u001b[0m\u001b[0me\u001b[0m\u001b[0;34m.\u001b[0m\u001b[0m__traceback__\u001b[0m\u001b[0;34m)\u001b[0m\u001b[0;34m\u001b[0m\u001b[0;34m\u001b[0m\u001b[0m\n\u001b[0;32m--> 153\u001b[0;31m       \u001b[0;32mraise\u001b[0m \u001b[0me\u001b[0m\u001b[0;34m.\u001b[0m\u001b[0mwith_traceback\u001b[0m\u001b[0;34m(\u001b[0m\u001b[0mfiltered_tb\u001b[0m\u001b[0;34m)\u001b[0m \u001b[0;32mfrom\u001b[0m \u001b[0;32mNone\u001b[0m\u001b[0;34m\u001b[0m\u001b[0;34m\u001b[0m\u001b[0m\n\u001b[0m\u001b[1;32m    154\u001b[0m     \u001b[0;32mfinally\u001b[0m\u001b[0;34m:\u001b[0m\u001b[0;34m\u001b[0m\u001b[0;34m\u001b[0m\u001b[0m\n\u001b[1;32m    155\u001b[0m       \u001b[0;32mdel\u001b[0m \u001b[0mfiltered_tb\u001b[0m\u001b[0;34m\u001b[0m\u001b[0;34m\u001b[0m\u001b[0m\n",
            "\u001b[0;32m/usr/local/lib/python3.7/dist-packages/tensorflow/python/framework/func_graph.py\u001b[0m in \u001b[0;36mautograph_handler\u001b[0;34m(*args, **kwargs)\u001b[0m\n\u001b[1;32m   1127\u001b[0m           \u001b[0;32mexcept\u001b[0m \u001b[0mException\u001b[0m \u001b[0;32mas\u001b[0m \u001b[0me\u001b[0m\u001b[0;34m:\u001b[0m  \u001b[0;31m# pylint:disable=broad-except\u001b[0m\u001b[0;34m\u001b[0m\u001b[0;34m\u001b[0m\u001b[0m\n\u001b[1;32m   1128\u001b[0m             \u001b[0;32mif\u001b[0m \u001b[0mhasattr\u001b[0m\u001b[0;34m(\u001b[0m\u001b[0me\u001b[0m\u001b[0;34m,\u001b[0m \u001b[0;34m\"ag_error_metadata\"\u001b[0m\u001b[0;34m)\u001b[0m\u001b[0;34m:\u001b[0m\u001b[0;34m\u001b[0m\u001b[0;34m\u001b[0m\u001b[0m\n\u001b[0;32m-> 1129\u001b[0;31m               \u001b[0;32mraise\u001b[0m \u001b[0me\u001b[0m\u001b[0;34m.\u001b[0m\u001b[0mag_error_metadata\u001b[0m\u001b[0;34m.\u001b[0m\u001b[0mto_exception\u001b[0m\u001b[0;34m(\u001b[0m\u001b[0me\u001b[0m\u001b[0;34m)\u001b[0m\u001b[0;34m\u001b[0m\u001b[0;34m\u001b[0m\u001b[0m\n\u001b[0m\u001b[1;32m   1130\u001b[0m             \u001b[0;32melse\u001b[0m\u001b[0;34m:\u001b[0m\u001b[0;34m\u001b[0m\u001b[0;34m\u001b[0m\u001b[0m\n\u001b[1;32m   1131\u001b[0m               \u001b[0;32mraise\u001b[0m\u001b[0;34m\u001b[0m\u001b[0;34m\u001b[0m\u001b[0m\n",
            "\u001b[0;31mValueError\u001b[0m: in user code:\n\n    File \"<ipython-input-22-3c19bcb9eee2>\", line 5, in f  *\n        w = tf.Variable([1, 2, 3])\n\n    ValueError: tf.function only supports singleton tf.Variables created on the first call. Make sure the tf.Variable is only created once or created outside tf.function. See https://www.tensorflow.org/guide/function#creating_tfvariables for more information.\n"
          ]
        }
      ]
    },
    {
      "cell_type": "code",
      "source": [
        "# 에러를 피하는 방법\n",
        "# 데코레이터가 적용된 함수 밖에서 Variable 객체를 정의하고 함수에서 사용\n",
        "w = tf.Variable(tf.random.uniform((3, 3)))\n",
        "@tf.function\n",
        "def compute_z(x):\n",
        "    return tf.matmul(w, x)\n",
        "x = tf.constant([[1], [2], [3]], dtype=tf.float32)\n",
        "tf.print(compute_z(x))"
      ],
      "metadata": {
        "colab": {
          "base_uri": "https://localhost:8080/"
        },
        "id": "ymRZ9qi1EowE",
        "outputId": "9f4e9135-fcef-492f-f0b6-f35c0965950e"
      },
      "execution_count": 24,
      "outputs": [
        {
          "output_type": "stream",
          "name": "stdout",
          "text": [
            "[[1.20935762]\n",
            " [3.89828062]\n",
            " [1.65398622]]\n"
          ]
        }
      ]
    }
  ]
}
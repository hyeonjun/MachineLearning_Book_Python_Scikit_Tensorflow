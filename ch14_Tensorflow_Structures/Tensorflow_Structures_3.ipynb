{
  "nbformat": 4,
  "nbformat_minor": 0,
  "metadata": {
    "colab": {
      "name": "ch14_Tensorflow_Structures_3.ipynb",
      "provenance": [],
      "collapsed_sections": [],
      "authorship_tag": "ABX9TyMNzAT+iJrYJLO8t8QSwLb+"
    },
    "kernelspec": {
      "name": "python3",
      "display_name": "Python 3"
    },
    "language_info": {
      "name": "python"
    },
    "widgets": {
      "application/vnd.jupyter.widget-state+json": {
        "02f22ae963af4ebaa16e302bdcce9f83": {
          "model_module": "@jupyter-widgets/controls",
          "model_name": "HBoxModel",
          "model_module_version": "1.5.0",
          "state": {
            "_view_name": "HBoxView",
            "_dom_classes": [],
            "_model_name": "HBoxModel",
            "_view_module": "@jupyter-widgets/controls",
            "_model_module_version": "1.5.0",
            "_view_count": null,
            "_view_module_version": "1.5.0",
            "box_style": "",
            "layout": "IPY_MODEL_f91fa0abf64c41df97f1bcaa76d583ca",
            "_model_module": "@jupyter-widgets/controls",
            "children": [
              "IPY_MODEL_80ceacb39ea74225b195ef5bc17e3cb2",
              "IPY_MODEL_5ab5b98a3f184cffb6466f3bf9552c3f",
              "IPY_MODEL_6fbf39ca23b642409c8654f27c660999"
            ]
          }
        },
        "f91fa0abf64c41df97f1bcaa76d583ca": {
          "model_module": "@jupyter-widgets/base",
          "model_name": "LayoutModel",
          "model_module_version": "1.2.0",
          "state": {
            "_view_name": "LayoutView",
            "grid_template_rows": null,
            "right": null,
            "justify_content": null,
            "_view_module": "@jupyter-widgets/base",
            "overflow": null,
            "_model_module_version": "1.2.0",
            "_view_count": null,
            "flex_flow": null,
            "width": null,
            "min_width": null,
            "border": null,
            "align_items": null,
            "bottom": null,
            "_model_module": "@jupyter-widgets/base",
            "top": null,
            "grid_column": null,
            "overflow_y": null,
            "overflow_x": null,
            "grid_auto_flow": null,
            "grid_area": null,
            "grid_template_columns": null,
            "flex": null,
            "_model_name": "LayoutModel",
            "justify_items": null,
            "grid_row": null,
            "max_height": null,
            "align_content": null,
            "visibility": null,
            "align_self": null,
            "height": null,
            "min_height": null,
            "padding": null,
            "grid_auto_rows": null,
            "grid_gap": null,
            "max_width": null,
            "order": null,
            "_view_module_version": "1.2.0",
            "grid_template_areas": null,
            "object_position": null,
            "object_fit": null,
            "grid_auto_columns": null,
            "margin": null,
            "display": null,
            "left": null
          }
        },
        "80ceacb39ea74225b195ef5bc17e3cb2": {
          "model_module": "@jupyter-widgets/controls",
          "model_name": "HTMLModel",
          "model_module_version": "1.5.0",
          "state": {
            "_view_name": "HTMLView",
            "style": "IPY_MODEL_758c09e5679a47198e155723da1a5ea8",
            "_dom_classes": [],
            "description": "",
            "_model_name": "HTMLModel",
            "placeholder": "​",
            "_view_module": "@jupyter-widgets/controls",
            "_model_module_version": "1.5.0",
            "value": "Dl Completed...: 100%",
            "_view_count": null,
            "_view_module_version": "1.5.0",
            "description_tooltip": null,
            "_model_module": "@jupyter-widgets/controls",
            "layout": "IPY_MODEL_ea83e728df7c445e97c5914b2fbbd341"
          }
        },
        "5ab5b98a3f184cffb6466f3bf9552c3f": {
          "model_module": "@jupyter-widgets/controls",
          "model_name": "FloatProgressModel",
          "model_module_version": "1.5.0",
          "state": {
            "_view_name": "ProgressView",
            "style": "IPY_MODEL_9dfa9a677e2245a79ddfd2ef5f525ab1",
            "_dom_classes": [],
            "description": "",
            "_model_name": "FloatProgressModel",
            "bar_style": "success",
            "max": 4,
            "_view_module": "@jupyter-widgets/controls",
            "_model_module_version": "1.5.0",
            "value": 4,
            "_view_count": null,
            "_view_module_version": "1.5.0",
            "orientation": "horizontal",
            "min": 0,
            "description_tooltip": null,
            "_model_module": "@jupyter-widgets/controls",
            "layout": "IPY_MODEL_52892acd59ff4bdf9be53302e164f403"
          }
        },
        "6fbf39ca23b642409c8654f27c660999": {
          "model_module": "@jupyter-widgets/controls",
          "model_name": "HTMLModel",
          "model_module_version": "1.5.0",
          "state": {
            "_view_name": "HTMLView",
            "style": "IPY_MODEL_4b6ebd5a16f54a05b8b953f9b482e77f",
            "_dom_classes": [],
            "description": "",
            "_model_name": "HTMLModel",
            "placeholder": "​",
            "_view_module": "@jupyter-widgets/controls",
            "_model_module_version": "1.5.0",
            "value": " 4/4 [00:00&lt;00:00,  4.42 file/s]",
            "_view_count": null,
            "_view_module_version": "1.5.0",
            "description_tooltip": null,
            "_model_module": "@jupyter-widgets/controls",
            "layout": "IPY_MODEL_73395fa9bd404a0cafa5571aac151737"
          }
        },
        "758c09e5679a47198e155723da1a5ea8": {
          "model_module": "@jupyter-widgets/controls",
          "model_name": "DescriptionStyleModel",
          "model_module_version": "1.5.0",
          "state": {
            "_view_name": "StyleView",
            "_model_name": "DescriptionStyleModel",
            "description_width": "",
            "_view_module": "@jupyter-widgets/base",
            "_model_module_version": "1.5.0",
            "_view_count": null,
            "_view_module_version": "1.2.0",
            "_model_module": "@jupyter-widgets/controls"
          }
        },
        "ea83e728df7c445e97c5914b2fbbd341": {
          "model_module": "@jupyter-widgets/base",
          "model_name": "LayoutModel",
          "model_module_version": "1.2.0",
          "state": {
            "_view_name": "LayoutView",
            "grid_template_rows": null,
            "right": null,
            "justify_content": null,
            "_view_module": "@jupyter-widgets/base",
            "overflow": null,
            "_model_module_version": "1.2.0",
            "_view_count": null,
            "flex_flow": null,
            "width": null,
            "min_width": null,
            "border": null,
            "align_items": null,
            "bottom": null,
            "_model_module": "@jupyter-widgets/base",
            "top": null,
            "grid_column": null,
            "overflow_y": null,
            "overflow_x": null,
            "grid_auto_flow": null,
            "grid_area": null,
            "grid_template_columns": null,
            "flex": null,
            "_model_name": "LayoutModel",
            "justify_items": null,
            "grid_row": null,
            "max_height": null,
            "align_content": null,
            "visibility": null,
            "align_self": null,
            "height": null,
            "min_height": null,
            "padding": null,
            "grid_auto_rows": null,
            "grid_gap": null,
            "max_width": null,
            "order": null,
            "_view_module_version": "1.2.0",
            "grid_template_areas": null,
            "object_position": null,
            "object_fit": null,
            "grid_auto_columns": null,
            "margin": null,
            "display": null,
            "left": null
          }
        },
        "9dfa9a677e2245a79ddfd2ef5f525ab1": {
          "model_module": "@jupyter-widgets/controls",
          "model_name": "ProgressStyleModel",
          "model_module_version": "1.5.0",
          "state": {
            "_view_name": "StyleView",
            "_model_name": "ProgressStyleModel",
            "description_width": "",
            "_view_module": "@jupyter-widgets/base",
            "_model_module_version": "1.5.0",
            "_view_count": null,
            "_view_module_version": "1.2.0",
            "bar_color": null,
            "_model_module": "@jupyter-widgets/controls"
          }
        },
        "52892acd59ff4bdf9be53302e164f403": {
          "model_module": "@jupyter-widgets/base",
          "model_name": "LayoutModel",
          "model_module_version": "1.2.0",
          "state": {
            "_view_name": "LayoutView",
            "grid_template_rows": null,
            "right": null,
            "justify_content": null,
            "_view_module": "@jupyter-widgets/base",
            "overflow": null,
            "_model_module_version": "1.2.0",
            "_view_count": null,
            "flex_flow": null,
            "width": null,
            "min_width": null,
            "border": null,
            "align_items": null,
            "bottom": null,
            "_model_module": "@jupyter-widgets/base",
            "top": null,
            "grid_column": null,
            "overflow_y": null,
            "overflow_x": null,
            "grid_auto_flow": null,
            "grid_area": null,
            "grid_template_columns": null,
            "flex": null,
            "_model_name": "LayoutModel",
            "justify_items": null,
            "grid_row": null,
            "max_height": null,
            "align_content": null,
            "visibility": null,
            "align_self": null,
            "height": null,
            "min_height": null,
            "padding": null,
            "grid_auto_rows": null,
            "grid_gap": null,
            "max_width": null,
            "order": null,
            "_view_module_version": "1.2.0",
            "grid_template_areas": null,
            "object_position": null,
            "object_fit": null,
            "grid_auto_columns": null,
            "margin": null,
            "display": null,
            "left": null
          }
        },
        "4b6ebd5a16f54a05b8b953f9b482e77f": {
          "model_module": "@jupyter-widgets/controls",
          "model_name": "DescriptionStyleModel",
          "model_module_version": "1.5.0",
          "state": {
            "_view_name": "StyleView",
            "_model_name": "DescriptionStyleModel",
            "description_width": "",
            "_view_module": "@jupyter-widgets/base",
            "_model_module_version": "1.5.0",
            "_view_count": null,
            "_view_module_version": "1.2.0",
            "_model_module": "@jupyter-widgets/controls"
          }
        },
        "73395fa9bd404a0cafa5571aac151737": {
          "model_module": "@jupyter-widgets/base",
          "model_name": "LayoutModel",
          "model_module_version": "1.2.0",
          "state": {
            "_view_name": "LayoutView",
            "grid_template_rows": null,
            "right": null,
            "justify_content": null,
            "_view_module": "@jupyter-widgets/base",
            "overflow": null,
            "_model_module_version": "1.2.0",
            "_view_count": null,
            "flex_flow": null,
            "width": null,
            "min_width": null,
            "border": null,
            "align_items": null,
            "bottom": null,
            "_model_module": "@jupyter-widgets/base",
            "top": null,
            "grid_column": null,
            "overflow_y": null,
            "overflow_x": null,
            "grid_auto_flow": null,
            "grid_area": null,
            "grid_template_columns": null,
            "flex": null,
            "_model_name": "LayoutModel",
            "justify_items": null,
            "grid_row": null,
            "max_height": null,
            "align_content": null,
            "visibility": null,
            "align_self": null,
            "height": null,
            "min_height": null,
            "padding": null,
            "grid_auto_rows": null,
            "grid_gap": null,
            "max_width": null,
            "order": null,
            "_view_module_version": "1.2.0",
            "grid_template_areas": null,
            "object_position": null,
            "object_fit": null,
            "grid_auto_columns": null,
            "margin": null,
            "display": null,
            "left": null
          }
        }
      }
    }
  },
  "cells": [
    {
      "cell_type": "code",
      "execution_count": 1,
      "metadata": {
        "id": "9CqZ_CyNBrXZ"
      },
      "outputs": [],
      "source": [
        "import numpy as np\n",
        "import tensorflow as tf\n",
        "import pandas as pd\n",
        "\n",
        "from IPython.display import Image"
      ]
    },
    {
      "cell_type": "code",
      "source": [
        "tf.__version__"
      ],
      "metadata": {
        "colab": {
          "base_uri": "https://localhost:8080/",
          "height": 35
        },
        "id": "hZxNKha7eTJB",
        "outputId": "42f29d61-48f9-410f-ce05-16156d4a0555"
      },
      "execution_count": 2,
      "outputs": [
        {
          "output_type": "execute_result",
          "data": {
            "application/vnd.google.colaboratory.intrinsic+json": {
              "type": "string"
            },
            "text/plain": [
              "'2.7.0'"
            ]
          },
          "metadata": {},
          "execution_count": 2
        }
      ]
    },
    {
      "cell_type": "markdown",
      "source": [
        "# 14.6 텐서플로 추정기\n",
        "* tf.estimator API\n",
        "    * 훈련, 예측(추론), 평가와 같은 머신러닝 작업의 기본단계를 캡슐화\n",
        "    * 확장성 높음\n",
        "    * 주요 코도를 변경하지 않고 다양한 플랫폼에서 모델을 실행할 수 있도록 지원\n",
        "    * 널리 사용하는 일부 머신 러닝과 딥러닝 구조를 미리 구현한 추정기 제공\n"
      ],
      "metadata": {
        "id": "AfqXHqktBu55"
      }
    },
    {
      "cell_type": "markdown",
      "source": [
        "### 14.6.1 특성 열 사용\n",
        "머신러닝과 딥러닝 애플리케이션에서 다양한 종류의 특성을 볼 수 있다. 연속 특성, 순서가 없는 범주형 특성, 순서가 있는 범주형 특성이 있다. 수치형 데이터는 연속적이거나 이산적일 수 있지만 텐서플로 API에서는 '수치형' 데이터는 특별히 부동 소수 형태의 연속적인 데이터를 나타낸다.\n",
        "\n",
        "가끔 특성 집합은 다양한 특성 종류가 혼합되어 구성된다. 텐서플로 추정기는 이런 모든 종류의 특성을 다루도록 설계되어 있지만 각 특정이 추정기에서 어떻게 해석되어야 하는지 지정해 주어야 한다."
      ],
      "metadata": {
        "id": "iuX6xHTQDO4I"
      }
    },
    {
      "cell_type": "code",
      "source": [
        "Image(url='https://git.io/JL56E', width=700)"
      ],
      "metadata": {
        "colab": {
          "base_uri": "https://localhost:8080/",
          "height": 397
        },
        "id": "ZJZ9PuXLEUIR",
        "outputId": "3bf4b468-71cb-4f5c-cc95-b61958dfc722"
      },
      "execution_count": 3,
      "outputs": [
        {
          "output_type": "execute_result",
          "data": {
            "text/html": [
              "<img src=\"https://git.io/JL56E\" width=\"700\"/>"
            ],
            "text/plain": [
              "<IPython.core.display.Image object>"
            ]
          },
          "metadata": {},
          "execution_count": 3
        }
      ]
    },
    {
      "cell_type": "markdown",
      "source": [
        "위 그림에 있는 특성(model year, cylinders, displacement, horsepower, weight, accelecration ,origin)은 Auto MPG 데이터셋 특성이다. 이 데이터셋은 머신러닝 벤치마크 데이터셋은 갤런당 마일(MPG) 단위로 자동차의 연료 효율성을 예측하는 문제이다.\n",
        "\n",
        "Auto MPG 데이터셋 중 다섯 개의 특성(cylinders, displacement, horsepower, weight, acceleration)은 수치형 (연속적인) 특성이다. model year는 순서가 있는 범주형 특성으로 볼 수 있다. 마지막으로 origin은 순서가 없는 특성이며 각각 US, 유럽, 일본을 의미하는 1, 2, 3 세 개의 값이 가능하다."
      ],
      "metadata": {
        "id": "0Id7kOXvEeKj"
      }
    },
    {
      "cell_type": "code",
      "source": [
        "dataset_path = tf.keras.utils.get_file(\"auto-mpg.data\", \n",
        "                                       (\"http://archive.ics.uci.edu/ml/machine-learning-databases/auto-mpg/auto-mpg.data\"))\n",
        "column_names = ['MPG', 'Cylinders', 'Displacement', 'Horsepower',\n",
        "                'Weight', 'Acceleration', 'ModelYear', 'Origin']\n",
        "\n",
        "df = pd.read_csv(dataset_path, names=column_names,\n",
        "                 na_values = \"?\", comment='\\t',\n",
        "                 sep=\" \", skipinitialspace=True)\n",
        "df.tail()"
      ],
      "metadata": {
        "colab": {
          "base_uri": "https://localhost:8080/",
          "height": 206
        },
        "id": "QaFxh6-IFZkB",
        "outputId": "f5aced93-d64a-4f43-83ef-276cca54f26d"
      },
      "execution_count": 4,
      "outputs": [
        {
          "output_type": "execute_result",
          "data": {
            "text/html": [
              "\n",
              "  <div id=\"df-7a30649e-64a9-47c0-9ed9-48658c59d990\">\n",
              "    <div class=\"colab-df-container\">\n",
              "      <div>\n",
              "<style scoped>\n",
              "    .dataframe tbody tr th:only-of-type {\n",
              "        vertical-align: middle;\n",
              "    }\n",
              "\n",
              "    .dataframe tbody tr th {\n",
              "        vertical-align: top;\n",
              "    }\n",
              "\n",
              "    .dataframe thead th {\n",
              "        text-align: right;\n",
              "    }\n",
              "</style>\n",
              "<table border=\"1\" class=\"dataframe\">\n",
              "  <thead>\n",
              "    <tr style=\"text-align: right;\">\n",
              "      <th></th>\n",
              "      <th>MPG</th>\n",
              "      <th>Cylinders</th>\n",
              "      <th>Displacement</th>\n",
              "      <th>Horsepower</th>\n",
              "      <th>Weight</th>\n",
              "      <th>Acceleration</th>\n",
              "      <th>ModelYear</th>\n",
              "      <th>Origin</th>\n",
              "    </tr>\n",
              "  </thead>\n",
              "  <tbody>\n",
              "    <tr>\n",
              "      <th>393</th>\n",
              "      <td>27.0</td>\n",
              "      <td>4</td>\n",
              "      <td>140.0</td>\n",
              "      <td>86.0</td>\n",
              "      <td>2790.0</td>\n",
              "      <td>15.6</td>\n",
              "      <td>82</td>\n",
              "      <td>1</td>\n",
              "    </tr>\n",
              "    <tr>\n",
              "      <th>394</th>\n",
              "      <td>44.0</td>\n",
              "      <td>4</td>\n",
              "      <td>97.0</td>\n",
              "      <td>52.0</td>\n",
              "      <td>2130.0</td>\n",
              "      <td>24.6</td>\n",
              "      <td>82</td>\n",
              "      <td>2</td>\n",
              "    </tr>\n",
              "    <tr>\n",
              "      <th>395</th>\n",
              "      <td>32.0</td>\n",
              "      <td>4</td>\n",
              "      <td>135.0</td>\n",
              "      <td>84.0</td>\n",
              "      <td>2295.0</td>\n",
              "      <td>11.6</td>\n",
              "      <td>82</td>\n",
              "      <td>1</td>\n",
              "    </tr>\n",
              "    <tr>\n",
              "      <th>396</th>\n",
              "      <td>28.0</td>\n",
              "      <td>4</td>\n",
              "      <td>120.0</td>\n",
              "      <td>79.0</td>\n",
              "      <td>2625.0</td>\n",
              "      <td>18.6</td>\n",
              "      <td>82</td>\n",
              "      <td>1</td>\n",
              "    </tr>\n",
              "    <tr>\n",
              "      <th>397</th>\n",
              "      <td>31.0</td>\n",
              "      <td>4</td>\n",
              "      <td>119.0</td>\n",
              "      <td>82.0</td>\n",
              "      <td>2720.0</td>\n",
              "      <td>19.4</td>\n",
              "      <td>82</td>\n",
              "      <td>1</td>\n",
              "    </tr>\n",
              "  </tbody>\n",
              "</table>\n",
              "</div>\n",
              "      <button class=\"colab-df-convert\" onclick=\"convertToInteractive('df-7a30649e-64a9-47c0-9ed9-48658c59d990')\"\n",
              "              title=\"Convert this dataframe to an interactive table.\"\n",
              "              style=\"display:none;\">\n",
              "        \n",
              "  <svg xmlns=\"http://www.w3.org/2000/svg\" height=\"24px\"viewBox=\"0 0 24 24\"\n",
              "       width=\"24px\">\n",
              "    <path d=\"M0 0h24v24H0V0z\" fill=\"none\"/>\n",
              "    <path d=\"M18.56 5.44l.94 2.06.94-2.06 2.06-.94-2.06-.94-.94-2.06-.94 2.06-2.06.94zm-11 1L8.5 8.5l.94-2.06 2.06-.94-2.06-.94L8.5 2.5l-.94 2.06-2.06.94zm10 10l.94 2.06.94-2.06 2.06-.94-2.06-.94-.94-2.06-.94 2.06-2.06.94z\"/><path d=\"M17.41 7.96l-1.37-1.37c-.4-.4-.92-.59-1.43-.59-.52 0-1.04.2-1.43.59L10.3 9.45l-7.72 7.72c-.78.78-.78 2.05 0 2.83L4 21.41c.39.39.9.59 1.41.59.51 0 1.02-.2 1.41-.59l7.78-7.78 2.81-2.81c.8-.78.8-2.07 0-2.86zM5.41 20L4 18.59l7.72-7.72 1.47 1.35L5.41 20z\"/>\n",
              "  </svg>\n",
              "      </button>\n",
              "      \n",
              "  <style>\n",
              "    .colab-df-container {\n",
              "      display:flex;\n",
              "      flex-wrap:wrap;\n",
              "      gap: 12px;\n",
              "    }\n",
              "\n",
              "    .colab-df-convert {\n",
              "      background-color: #E8F0FE;\n",
              "      border: none;\n",
              "      border-radius: 50%;\n",
              "      cursor: pointer;\n",
              "      display: none;\n",
              "      fill: #1967D2;\n",
              "      height: 32px;\n",
              "      padding: 0 0 0 0;\n",
              "      width: 32px;\n",
              "    }\n",
              "\n",
              "    .colab-df-convert:hover {\n",
              "      background-color: #E2EBFA;\n",
              "      box-shadow: 0px 1px 2px rgba(60, 64, 67, 0.3), 0px 1px 3px 1px rgba(60, 64, 67, 0.15);\n",
              "      fill: #174EA6;\n",
              "    }\n",
              "\n",
              "    [theme=dark] .colab-df-convert {\n",
              "      background-color: #3B4455;\n",
              "      fill: #D2E3FC;\n",
              "    }\n",
              "\n",
              "    [theme=dark] .colab-df-convert:hover {\n",
              "      background-color: #434B5C;\n",
              "      box-shadow: 0px 1px 3px 1px rgba(0, 0, 0, 0.15);\n",
              "      filter: drop-shadow(0px 1px 2px rgba(0, 0, 0, 0.3));\n",
              "      fill: #FFFFFF;\n",
              "    }\n",
              "  </style>\n",
              "\n",
              "      <script>\n",
              "        const buttonEl =\n",
              "          document.querySelector('#df-7a30649e-64a9-47c0-9ed9-48658c59d990 button.colab-df-convert');\n",
              "        buttonEl.style.display =\n",
              "          google.colab.kernel.accessAllowed ? 'block' : 'none';\n",
              "\n",
              "        async function convertToInteractive(key) {\n",
              "          const element = document.querySelector('#df-7a30649e-64a9-47c0-9ed9-48658c59d990');\n",
              "          const dataTable =\n",
              "            await google.colab.kernel.invokeFunction('convertToInteractive',\n",
              "                                                     [key], {});\n",
              "          if (!dataTable) return;\n",
              "\n",
              "          const docLinkHtml = 'Like what you see? Visit the ' +\n",
              "            '<a target=\"_blank\" href=https://colab.research.google.com/notebooks/data_table.ipynb>data table notebook</a>'\n",
              "            + ' to learn more about interactive tables.';\n",
              "          element.innerHTML = '';\n",
              "          dataTable['output_type'] = 'display_data';\n",
              "          await google.colab.output.renderOutput(dataTable, element);\n",
              "          const docLink = document.createElement('div');\n",
              "          docLink.innerHTML = docLinkHtml;\n",
              "          element.appendChild(docLink);\n",
              "        }\n",
              "      </script>\n",
              "    </div>\n",
              "  </div>\n",
              "  "
            ],
            "text/plain": [
              "      MPG  Cylinders  Displacement  ...  Acceleration  ModelYear  Origin\n",
              "393  27.0          4         140.0  ...          15.6         82       1\n",
              "394  44.0          4          97.0  ...          24.6         82       2\n",
              "395  32.0          4         135.0  ...          11.6         82       1\n",
              "396  28.0          4         120.0  ...          18.6         82       1\n",
              "397  31.0          4         119.0  ...          19.4         82       1\n",
              "\n",
              "[5 rows x 8 columns]"
            ]
          },
          "metadata": {},
          "execution_count": 4
        }
      ]
    },
    {
      "cell_type": "code",
      "source": [
        "# 결측값\n",
        "df.isna().sum()"
      ],
      "metadata": {
        "colab": {
          "base_uri": "https://localhost:8080/"
        },
        "id": "NkMKCSkTFprQ",
        "outputId": "b5889977-4bd7-45f3-b0eb-e6fca3533dcb"
      },
      "execution_count": 5,
      "outputs": [
        {
          "output_type": "execute_result",
          "data": {
            "text/plain": [
              "MPG             0\n",
              "Cylinders       0\n",
              "Displacement    0\n",
              "Horsepower      6\n",
              "Weight          0\n",
              "Acceleration    0\n",
              "ModelYear       0\n",
              "Origin          0\n",
              "dtype: int64"
            ]
          },
          "metadata": {},
          "execution_count": 5
        }
      ]
    },
    {
      "cell_type": "code",
      "source": [
        "# 결측 열 삭제\n",
        "df = df.dropna()\n",
        "df = df.reset_index(drop=True)\n",
        "df.tail()"
      ],
      "metadata": {
        "colab": {
          "base_uri": "https://localhost:8080/",
          "height": 206
        },
        "id": "ox754CnTFwWg",
        "outputId": "b59aee22-ec6a-4ef6-aa18-651a31026e1e"
      },
      "execution_count": 6,
      "outputs": [
        {
          "output_type": "execute_result",
          "data": {
            "text/html": [
              "\n",
              "  <div id=\"df-64f49ee4-0cff-481e-9008-b482b9f6beb8\">\n",
              "    <div class=\"colab-df-container\">\n",
              "      <div>\n",
              "<style scoped>\n",
              "    .dataframe tbody tr th:only-of-type {\n",
              "        vertical-align: middle;\n",
              "    }\n",
              "\n",
              "    .dataframe tbody tr th {\n",
              "        vertical-align: top;\n",
              "    }\n",
              "\n",
              "    .dataframe thead th {\n",
              "        text-align: right;\n",
              "    }\n",
              "</style>\n",
              "<table border=\"1\" class=\"dataframe\">\n",
              "  <thead>\n",
              "    <tr style=\"text-align: right;\">\n",
              "      <th></th>\n",
              "      <th>MPG</th>\n",
              "      <th>Cylinders</th>\n",
              "      <th>Displacement</th>\n",
              "      <th>Horsepower</th>\n",
              "      <th>Weight</th>\n",
              "      <th>Acceleration</th>\n",
              "      <th>ModelYear</th>\n",
              "      <th>Origin</th>\n",
              "    </tr>\n",
              "  </thead>\n",
              "  <tbody>\n",
              "    <tr>\n",
              "      <th>387</th>\n",
              "      <td>27.0</td>\n",
              "      <td>4</td>\n",
              "      <td>140.0</td>\n",
              "      <td>86.0</td>\n",
              "      <td>2790.0</td>\n",
              "      <td>15.6</td>\n",
              "      <td>82</td>\n",
              "      <td>1</td>\n",
              "    </tr>\n",
              "    <tr>\n",
              "      <th>388</th>\n",
              "      <td>44.0</td>\n",
              "      <td>4</td>\n",
              "      <td>97.0</td>\n",
              "      <td>52.0</td>\n",
              "      <td>2130.0</td>\n",
              "      <td>24.6</td>\n",
              "      <td>82</td>\n",
              "      <td>2</td>\n",
              "    </tr>\n",
              "    <tr>\n",
              "      <th>389</th>\n",
              "      <td>32.0</td>\n",
              "      <td>4</td>\n",
              "      <td>135.0</td>\n",
              "      <td>84.0</td>\n",
              "      <td>2295.0</td>\n",
              "      <td>11.6</td>\n",
              "      <td>82</td>\n",
              "      <td>1</td>\n",
              "    </tr>\n",
              "    <tr>\n",
              "      <th>390</th>\n",
              "      <td>28.0</td>\n",
              "      <td>4</td>\n",
              "      <td>120.0</td>\n",
              "      <td>79.0</td>\n",
              "      <td>2625.0</td>\n",
              "      <td>18.6</td>\n",
              "      <td>82</td>\n",
              "      <td>1</td>\n",
              "    </tr>\n",
              "    <tr>\n",
              "      <th>391</th>\n",
              "      <td>31.0</td>\n",
              "      <td>4</td>\n",
              "      <td>119.0</td>\n",
              "      <td>82.0</td>\n",
              "      <td>2720.0</td>\n",
              "      <td>19.4</td>\n",
              "      <td>82</td>\n",
              "      <td>1</td>\n",
              "    </tr>\n",
              "  </tbody>\n",
              "</table>\n",
              "</div>\n",
              "      <button class=\"colab-df-convert\" onclick=\"convertToInteractive('df-64f49ee4-0cff-481e-9008-b482b9f6beb8')\"\n",
              "              title=\"Convert this dataframe to an interactive table.\"\n",
              "              style=\"display:none;\">\n",
              "        \n",
              "  <svg xmlns=\"http://www.w3.org/2000/svg\" height=\"24px\"viewBox=\"0 0 24 24\"\n",
              "       width=\"24px\">\n",
              "    <path d=\"M0 0h24v24H0V0z\" fill=\"none\"/>\n",
              "    <path d=\"M18.56 5.44l.94 2.06.94-2.06 2.06-.94-2.06-.94-.94-2.06-.94 2.06-2.06.94zm-11 1L8.5 8.5l.94-2.06 2.06-.94-2.06-.94L8.5 2.5l-.94 2.06-2.06.94zm10 10l.94 2.06.94-2.06 2.06-.94-2.06-.94-.94-2.06-.94 2.06-2.06.94z\"/><path d=\"M17.41 7.96l-1.37-1.37c-.4-.4-.92-.59-1.43-.59-.52 0-1.04.2-1.43.59L10.3 9.45l-7.72 7.72c-.78.78-.78 2.05 0 2.83L4 21.41c.39.39.9.59 1.41.59.51 0 1.02-.2 1.41-.59l7.78-7.78 2.81-2.81c.8-.78.8-2.07 0-2.86zM5.41 20L4 18.59l7.72-7.72 1.47 1.35L5.41 20z\"/>\n",
              "  </svg>\n",
              "      </button>\n",
              "      \n",
              "  <style>\n",
              "    .colab-df-container {\n",
              "      display:flex;\n",
              "      flex-wrap:wrap;\n",
              "      gap: 12px;\n",
              "    }\n",
              "\n",
              "    .colab-df-convert {\n",
              "      background-color: #E8F0FE;\n",
              "      border: none;\n",
              "      border-radius: 50%;\n",
              "      cursor: pointer;\n",
              "      display: none;\n",
              "      fill: #1967D2;\n",
              "      height: 32px;\n",
              "      padding: 0 0 0 0;\n",
              "      width: 32px;\n",
              "    }\n",
              "\n",
              "    .colab-df-convert:hover {\n",
              "      background-color: #E2EBFA;\n",
              "      box-shadow: 0px 1px 2px rgba(60, 64, 67, 0.3), 0px 1px 3px 1px rgba(60, 64, 67, 0.15);\n",
              "      fill: #174EA6;\n",
              "    }\n",
              "\n",
              "    [theme=dark] .colab-df-convert {\n",
              "      background-color: #3B4455;\n",
              "      fill: #D2E3FC;\n",
              "    }\n",
              "\n",
              "    [theme=dark] .colab-df-convert:hover {\n",
              "      background-color: #434B5C;\n",
              "      box-shadow: 0px 1px 3px 1px rgba(0, 0, 0, 0.15);\n",
              "      filter: drop-shadow(0px 1px 2px rgba(0, 0, 0, 0.3));\n",
              "      fill: #FFFFFF;\n",
              "    }\n",
              "  </style>\n",
              "\n",
              "      <script>\n",
              "        const buttonEl =\n",
              "          document.querySelector('#df-64f49ee4-0cff-481e-9008-b482b9f6beb8 button.colab-df-convert');\n",
              "        buttonEl.style.display =\n",
              "          google.colab.kernel.accessAllowed ? 'block' : 'none';\n",
              "\n",
              "        async function convertToInteractive(key) {\n",
              "          const element = document.querySelector('#df-64f49ee4-0cff-481e-9008-b482b9f6beb8');\n",
              "          const dataTable =\n",
              "            await google.colab.kernel.invokeFunction('convertToInteractive',\n",
              "                                                     [key], {});\n",
              "          if (!dataTable) return;\n",
              "\n",
              "          const docLinkHtml = 'Like what you see? Visit the ' +\n",
              "            '<a target=\"_blank\" href=https://colab.research.google.com/notebooks/data_table.ipynb>data table notebook</a>'\n",
              "            + ' to learn more about interactive tables.';\n",
              "          element.innerHTML = '';\n",
              "          dataTable['output_type'] = 'display_data';\n",
              "          await google.colab.output.renderOutput(dataTable, element);\n",
              "          const docLink = document.createElement('div');\n",
              "          docLink.innerHTML = docLinkHtml;\n",
              "          element.appendChild(docLink);\n",
              "        }\n",
              "      </script>\n",
              "    </div>\n",
              "  </div>\n",
              "  "
            ],
            "text/plain": [
              "      MPG  Cylinders  Displacement  ...  Acceleration  ModelYear  Origin\n",
              "387  27.0          4         140.0  ...          15.6         82       1\n",
              "388  44.0          4          97.0  ...          24.6         82       2\n",
              "389  32.0          4         135.0  ...          11.6         82       1\n",
              "390  28.0          4         120.0  ...          18.6         82       1\n",
              "391  31.0          4         119.0  ...          19.4         82       1\n",
              "\n",
              "[5 rows x 8 columns]"
            ]
          },
          "metadata": {},
          "execution_count": 6
        }
      ]
    },
    {
      "cell_type": "code",
      "source": [
        "import sklearn\n",
        "from sklearn.model_selection import train_test_split\n",
        "\n",
        "# 훈련/테스트 분할\n",
        "df_train, df_test = train_test_split(df, train_size=0.8)\n",
        "train_stats = df_train.describe().transpose()\n",
        "train_stats"
      ],
      "metadata": {
        "colab": {
          "base_uri": "https://localhost:8080/",
          "height": 300
        },
        "id": "a4VLbB4QGHU4",
        "outputId": "8cd55769-b31b-4109-8f3e-9747f66bfcbb"
      },
      "execution_count": 7,
      "outputs": [
        {
          "output_type": "execute_result",
          "data": {
            "text/html": [
              "\n",
              "  <div id=\"df-e8cc97d2-423f-41b1-8310-7d4e12db1984\">\n",
              "    <div class=\"colab-df-container\">\n",
              "      <div>\n",
              "<style scoped>\n",
              "    .dataframe tbody tr th:only-of-type {\n",
              "        vertical-align: middle;\n",
              "    }\n",
              "\n",
              "    .dataframe tbody tr th {\n",
              "        vertical-align: top;\n",
              "    }\n",
              "\n",
              "    .dataframe thead th {\n",
              "        text-align: right;\n",
              "    }\n",
              "</style>\n",
              "<table border=\"1\" class=\"dataframe\">\n",
              "  <thead>\n",
              "    <tr style=\"text-align: right;\">\n",
              "      <th></th>\n",
              "      <th>count</th>\n",
              "      <th>mean</th>\n",
              "      <th>std</th>\n",
              "      <th>min</th>\n",
              "      <th>25%</th>\n",
              "      <th>50%</th>\n",
              "      <th>75%</th>\n",
              "      <th>max</th>\n",
              "    </tr>\n",
              "  </thead>\n",
              "  <tbody>\n",
              "    <tr>\n",
              "      <th>MPG</th>\n",
              "      <td>313.0</td>\n",
              "      <td>23.316933</td>\n",
              "      <td>7.882405</td>\n",
              "      <td>9.0</td>\n",
              "      <td>17.0</td>\n",
              "      <td>22.4</td>\n",
              "      <td>29.0</td>\n",
              "      <td>46.6</td>\n",
              "    </tr>\n",
              "    <tr>\n",
              "      <th>Cylinders</th>\n",
              "      <td>313.0</td>\n",
              "      <td>5.501597</td>\n",
              "      <td>1.728577</td>\n",
              "      <td>3.0</td>\n",
              "      <td>4.0</td>\n",
              "      <td>4.0</td>\n",
              "      <td>8.0</td>\n",
              "      <td>8.0</td>\n",
              "    </tr>\n",
              "    <tr>\n",
              "      <th>Displacement</th>\n",
              "      <td>313.0</td>\n",
              "      <td>196.017572</td>\n",
              "      <td>106.500183</td>\n",
              "      <td>68.0</td>\n",
              "      <td>98.0</td>\n",
              "      <td>151.0</td>\n",
              "      <td>302.0</td>\n",
              "      <td>455.0</td>\n",
              "    </tr>\n",
              "    <tr>\n",
              "      <th>Horsepower</th>\n",
              "      <td>313.0</td>\n",
              "      <td>105.150160</td>\n",
              "      <td>39.467852</td>\n",
              "      <td>46.0</td>\n",
              "      <td>75.0</td>\n",
              "      <td>95.0</td>\n",
              "      <td>130.0</td>\n",
              "      <td>230.0</td>\n",
              "    </tr>\n",
              "    <tr>\n",
              "      <th>Weight</th>\n",
              "      <td>313.0</td>\n",
              "      <td>2982.584665</td>\n",
              "      <td>868.540671</td>\n",
              "      <td>1613.0</td>\n",
              "      <td>2220.0</td>\n",
              "      <td>2795.0</td>\n",
              "      <td>3632.0</td>\n",
              "      <td>5140.0</td>\n",
              "    </tr>\n",
              "    <tr>\n",
              "      <th>Acceleration</th>\n",
              "      <td>313.0</td>\n",
              "      <td>15.504153</td>\n",
              "      <td>2.785899</td>\n",
              "      <td>8.0</td>\n",
              "      <td>13.7</td>\n",
              "      <td>15.5</td>\n",
              "      <td>17.0</td>\n",
              "      <td>24.8</td>\n",
              "    </tr>\n",
              "    <tr>\n",
              "      <th>ModelYear</th>\n",
              "      <td>313.0</td>\n",
              "      <td>75.833866</td>\n",
              "      <td>3.648569</td>\n",
              "      <td>70.0</td>\n",
              "      <td>73.0</td>\n",
              "      <td>76.0</td>\n",
              "      <td>79.0</td>\n",
              "      <td>82.0</td>\n",
              "    </tr>\n",
              "    <tr>\n",
              "      <th>Origin</th>\n",
              "      <td>313.0</td>\n",
              "      <td>1.584665</td>\n",
              "      <td>0.816509</td>\n",
              "      <td>1.0</td>\n",
              "      <td>1.0</td>\n",
              "      <td>1.0</td>\n",
              "      <td>2.0</td>\n",
              "      <td>3.0</td>\n",
              "    </tr>\n",
              "  </tbody>\n",
              "</table>\n",
              "</div>\n",
              "      <button class=\"colab-df-convert\" onclick=\"convertToInteractive('df-e8cc97d2-423f-41b1-8310-7d4e12db1984')\"\n",
              "              title=\"Convert this dataframe to an interactive table.\"\n",
              "              style=\"display:none;\">\n",
              "        \n",
              "  <svg xmlns=\"http://www.w3.org/2000/svg\" height=\"24px\"viewBox=\"0 0 24 24\"\n",
              "       width=\"24px\">\n",
              "    <path d=\"M0 0h24v24H0V0z\" fill=\"none\"/>\n",
              "    <path d=\"M18.56 5.44l.94 2.06.94-2.06 2.06-.94-2.06-.94-.94-2.06-.94 2.06-2.06.94zm-11 1L8.5 8.5l.94-2.06 2.06-.94-2.06-.94L8.5 2.5l-.94 2.06-2.06.94zm10 10l.94 2.06.94-2.06 2.06-.94-2.06-.94-.94-2.06-.94 2.06-2.06.94z\"/><path d=\"M17.41 7.96l-1.37-1.37c-.4-.4-.92-.59-1.43-.59-.52 0-1.04.2-1.43.59L10.3 9.45l-7.72 7.72c-.78.78-.78 2.05 0 2.83L4 21.41c.39.39.9.59 1.41.59.51 0 1.02-.2 1.41-.59l7.78-7.78 2.81-2.81c.8-.78.8-2.07 0-2.86zM5.41 20L4 18.59l7.72-7.72 1.47 1.35L5.41 20z\"/>\n",
              "  </svg>\n",
              "      </button>\n",
              "      \n",
              "  <style>\n",
              "    .colab-df-container {\n",
              "      display:flex;\n",
              "      flex-wrap:wrap;\n",
              "      gap: 12px;\n",
              "    }\n",
              "\n",
              "    .colab-df-convert {\n",
              "      background-color: #E8F0FE;\n",
              "      border: none;\n",
              "      border-radius: 50%;\n",
              "      cursor: pointer;\n",
              "      display: none;\n",
              "      fill: #1967D2;\n",
              "      height: 32px;\n",
              "      padding: 0 0 0 0;\n",
              "      width: 32px;\n",
              "    }\n",
              "\n",
              "    .colab-df-convert:hover {\n",
              "      background-color: #E2EBFA;\n",
              "      box-shadow: 0px 1px 2px rgba(60, 64, 67, 0.3), 0px 1px 3px 1px rgba(60, 64, 67, 0.15);\n",
              "      fill: #174EA6;\n",
              "    }\n",
              "\n",
              "    [theme=dark] .colab-df-convert {\n",
              "      background-color: #3B4455;\n",
              "      fill: #D2E3FC;\n",
              "    }\n",
              "\n",
              "    [theme=dark] .colab-df-convert:hover {\n",
              "      background-color: #434B5C;\n",
              "      box-shadow: 0px 1px 3px 1px rgba(0, 0, 0, 0.15);\n",
              "      filter: drop-shadow(0px 1px 2px rgba(0, 0, 0, 0.3));\n",
              "      fill: #FFFFFF;\n",
              "    }\n",
              "  </style>\n",
              "\n",
              "      <script>\n",
              "        const buttonEl =\n",
              "          document.querySelector('#df-e8cc97d2-423f-41b1-8310-7d4e12db1984 button.colab-df-convert');\n",
              "        buttonEl.style.display =\n",
              "          google.colab.kernel.accessAllowed ? 'block' : 'none';\n",
              "\n",
              "        async function convertToInteractive(key) {\n",
              "          const element = document.querySelector('#df-e8cc97d2-423f-41b1-8310-7d4e12db1984');\n",
              "          const dataTable =\n",
              "            await google.colab.kernel.invokeFunction('convertToInteractive',\n",
              "                                                     [key], {});\n",
              "          if (!dataTable) return;\n",
              "\n",
              "          const docLinkHtml = 'Like what you see? Visit the ' +\n",
              "            '<a target=\"_blank\" href=https://colab.research.google.com/notebooks/data_table.ipynb>data table notebook</a>'\n",
              "            + ' to learn more about interactive tables.';\n",
              "          element.innerHTML = '';\n",
              "          dataTable['output_type'] = 'display_data';\n",
              "          await google.colab.output.renderOutput(dataTable, element);\n",
              "          const docLink = document.createElement('div');\n",
              "          docLink.innerHTML = docLinkHtml;\n",
              "          element.appendChild(docLink);\n",
              "        }\n",
              "      </script>\n",
              "    </div>\n",
              "  </div>\n",
              "  "
            ],
            "text/plain": [
              "              count         mean         std  ...     50%     75%     max\n",
              "MPG           313.0    23.316933    7.882405  ...    22.4    29.0    46.6\n",
              "Cylinders     313.0     5.501597    1.728577  ...     4.0     8.0     8.0\n",
              "Displacement  313.0   196.017572  106.500183  ...   151.0   302.0   455.0\n",
              "Horsepower    313.0   105.150160   39.467852  ...    95.0   130.0   230.0\n",
              "Weight        313.0  2982.584665  868.540671  ...  2795.0  3632.0  5140.0\n",
              "Acceleration  313.0    15.504153    2.785899  ...    15.5    17.0    24.8\n",
              "ModelYear     313.0    75.833866    3.648569  ...    76.0    79.0    82.0\n",
              "Origin        313.0     1.584665    0.816509  ...     1.0     2.0     3.0\n",
              "\n",
              "[8 rows x 8 columns]"
            ]
          },
          "metadata": {},
          "execution_count": 7
        }
      ]
    },
    {
      "cell_type": "code",
      "source": [
        "# 수치형 특성\n",
        "numeric_column_names = ['Cylinders', 'Displacement', 'Horsepower', 'Weight', 'Acceleration']\n",
        "df_train_norm, df_test_norm = df_train.copy(), df_test.copy()\n",
        "\n",
        "for col_name in numeric_column_names:\n",
        "    mean = train_stats.loc[col_name, 'mean']\n",
        "    std  = train_stats.loc[col_name, 'std']\n",
        "    df_train_norm.loc[:, col_name] = (df_train_norm.loc[:, col_name] - mean)/std\n",
        "    df_test_norm.loc[:, col_name] = (df_test_norm.loc[:, col_name] - mean)/std\n",
        "    \n",
        "df_train_norm.tail()"
      ],
      "metadata": {
        "colab": {
          "base_uri": "https://localhost:8080/",
          "height": 206
        },
        "id": "S5fKQliAGgCQ",
        "outputId": "fcd0fdcc-7fab-4477-a5c7-055cde28590b"
      },
      "execution_count": 8,
      "outputs": [
        {
          "output_type": "execute_result",
          "data": {
            "text/html": [
              "\n",
              "  <div id=\"df-b545a83a-e708-499d-83cc-39627e3690df\">\n",
              "    <div class=\"colab-df-container\">\n",
              "      <div>\n",
              "<style scoped>\n",
              "    .dataframe tbody tr th:only-of-type {\n",
              "        vertical-align: middle;\n",
              "    }\n",
              "\n",
              "    .dataframe tbody tr th {\n",
              "        vertical-align: top;\n",
              "    }\n",
              "\n",
              "    .dataframe thead th {\n",
              "        text-align: right;\n",
              "    }\n",
              "</style>\n",
              "<table border=\"1\" class=\"dataframe\">\n",
              "  <thead>\n",
              "    <tr style=\"text-align: right;\">\n",
              "      <th></th>\n",
              "      <th>MPG</th>\n",
              "      <th>Cylinders</th>\n",
              "      <th>Displacement</th>\n",
              "      <th>Horsepower</th>\n",
              "      <th>Weight</th>\n",
              "      <th>Acceleration</th>\n",
              "      <th>ModelYear</th>\n",
              "      <th>Origin</th>\n",
              "    </tr>\n",
              "  </thead>\n",
              "  <tbody>\n",
              "    <tr>\n",
              "      <th>176</th>\n",
              "      <td>23.0</td>\n",
              "      <td>-0.868690</td>\n",
              "      <td>-0.713779</td>\n",
              "      <td>-0.434535</td>\n",
              "      <td>-0.029457</td>\n",
              "      <td>0.536935</td>\n",
              "      <td>75</td>\n",
              "      <td>2</td>\n",
              "    </tr>\n",
              "    <tr>\n",
              "      <th>39</th>\n",
              "      <td>14.0</td>\n",
              "      <td>1.445352</td>\n",
              "      <td>1.455232</td>\n",
              "      <td>1.212375</td>\n",
              "      <td>1.348717</td>\n",
              "      <td>-0.719392</td>\n",
              "      <td>71</td>\n",
              "      <td>1</td>\n",
              "    </tr>\n",
              "    <tr>\n",
              "      <th>265</th>\n",
              "      <td>27.5</td>\n",
              "      <td>-0.868690</td>\n",
              "      <td>-0.582324</td>\n",
              "      <td>-0.257175</td>\n",
              "      <td>-0.486546</td>\n",
              "      <td>-0.468127</td>\n",
              "      <td>78</td>\n",
              "      <td>3</td>\n",
              "    </tr>\n",
              "    <tr>\n",
              "      <th>93</th>\n",
              "      <td>13.0</td>\n",
              "      <td>1.445352</td>\n",
              "      <td>2.290911</td>\n",
              "      <td>2.783274</td>\n",
              "      <td>2.017655</td>\n",
              "      <td>-1.616768</td>\n",
              "      <td>73</td>\n",
              "      <td>1</td>\n",
              "    </tr>\n",
              "    <tr>\n",
              "      <th>149</th>\n",
              "      <td>31.0</td>\n",
              "      <td>-0.868690</td>\n",
              "      <td>-1.098755</td>\n",
              "      <td>-0.966614</td>\n",
              "      <td>-1.131305</td>\n",
              "      <td>0.177984</td>\n",
              "      <td>74</td>\n",
              "      <td>2</td>\n",
              "    </tr>\n",
              "  </tbody>\n",
              "</table>\n",
              "</div>\n",
              "      <button class=\"colab-df-convert\" onclick=\"convertToInteractive('df-b545a83a-e708-499d-83cc-39627e3690df')\"\n",
              "              title=\"Convert this dataframe to an interactive table.\"\n",
              "              style=\"display:none;\">\n",
              "        \n",
              "  <svg xmlns=\"http://www.w3.org/2000/svg\" height=\"24px\"viewBox=\"0 0 24 24\"\n",
              "       width=\"24px\">\n",
              "    <path d=\"M0 0h24v24H0V0z\" fill=\"none\"/>\n",
              "    <path d=\"M18.56 5.44l.94 2.06.94-2.06 2.06-.94-2.06-.94-.94-2.06-.94 2.06-2.06.94zm-11 1L8.5 8.5l.94-2.06 2.06-.94-2.06-.94L8.5 2.5l-.94 2.06-2.06.94zm10 10l.94 2.06.94-2.06 2.06-.94-2.06-.94-.94-2.06-.94 2.06-2.06.94z\"/><path d=\"M17.41 7.96l-1.37-1.37c-.4-.4-.92-.59-1.43-.59-.52 0-1.04.2-1.43.59L10.3 9.45l-7.72 7.72c-.78.78-.78 2.05 0 2.83L4 21.41c.39.39.9.59 1.41.59.51 0 1.02-.2 1.41-.59l7.78-7.78 2.81-2.81c.8-.78.8-2.07 0-2.86zM5.41 20L4 18.59l7.72-7.72 1.47 1.35L5.41 20z\"/>\n",
              "  </svg>\n",
              "      </button>\n",
              "      \n",
              "  <style>\n",
              "    .colab-df-container {\n",
              "      display:flex;\n",
              "      flex-wrap:wrap;\n",
              "      gap: 12px;\n",
              "    }\n",
              "\n",
              "    .colab-df-convert {\n",
              "      background-color: #E8F0FE;\n",
              "      border: none;\n",
              "      border-radius: 50%;\n",
              "      cursor: pointer;\n",
              "      display: none;\n",
              "      fill: #1967D2;\n",
              "      height: 32px;\n",
              "      padding: 0 0 0 0;\n",
              "      width: 32px;\n",
              "    }\n",
              "\n",
              "    .colab-df-convert:hover {\n",
              "      background-color: #E2EBFA;\n",
              "      box-shadow: 0px 1px 2px rgba(60, 64, 67, 0.3), 0px 1px 3px 1px rgba(60, 64, 67, 0.15);\n",
              "      fill: #174EA6;\n",
              "    }\n",
              "\n",
              "    [theme=dark] .colab-df-convert {\n",
              "      background-color: #3B4455;\n",
              "      fill: #D2E3FC;\n",
              "    }\n",
              "\n",
              "    [theme=dark] .colab-df-convert:hover {\n",
              "      background-color: #434B5C;\n",
              "      box-shadow: 0px 1px 3px 1px rgba(0, 0, 0, 0.15);\n",
              "      filter: drop-shadow(0px 1px 2px rgba(0, 0, 0, 0.3));\n",
              "      fill: #FFFFFF;\n",
              "    }\n",
              "  </style>\n",
              "\n",
              "      <script>\n",
              "        const buttonEl =\n",
              "          document.querySelector('#df-b545a83a-e708-499d-83cc-39627e3690df button.colab-df-convert');\n",
              "        buttonEl.style.display =\n",
              "          google.colab.kernel.accessAllowed ? 'block' : 'none';\n",
              "\n",
              "        async function convertToInteractive(key) {\n",
              "          const element = document.querySelector('#df-b545a83a-e708-499d-83cc-39627e3690df');\n",
              "          const dataTable =\n",
              "            await google.colab.kernel.invokeFunction('convertToInteractive',\n",
              "                                                     [key], {});\n",
              "          if (!dataTable) return;\n",
              "\n",
              "          const docLinkHtml = 'Like what you see? Visit the ' +\n",
              "            '<a target=\"_blank\" href=https://colab.research.google.com/notebooks/data_table.ipynb>data table notebook</a>'\n",
              "            + ' to learn more about interactive tables.';\n",
              "          element.innerHTML = '';\n",
              "          dataTable['output_type'] = 'display_data';\n",
              "          await google.colab.output.renderOutput(dataTable, element);\n",
              "          const docLink = document.createElement('div');\n",
              "          docLink.innerHTML = docLinkHtml;\n",
              "          element.appendChild(docLink);\n",
              "        }\n",
              "      </script>\n",
              "    </div>\n",
              "  </div>\n",
              "  "
            ],
            "text/plain": [
              "      MPG  Cylinders  Displacement  ...  Acceleration  ModelYear  Origin\n",
              "176  23.0  -0.868690     -0.713779  ...      0.536935         75       2\n",
              "39   14.0   1.445352      1.455232  ...     -0.719392         71       1\n",
              "265  27.5  -0.868690     -0.582324  ...     -0.468127         78       3\n",
              "93   13.0   1.445352      2.290911  ...     -1.616768         73       1\n",
              "149  31.0  -0.868690     -1.098755  ...      0.177984         74       2\n",
              "\n",
              "[5 rows x 8 columns]"
            ]
          },
          "metadata": {},
          "execution_count": 8
        }
      ]
    },
    {
      "cell_type": "markdown",
      "source": [
        "numeric_column_names 리스트에 있는 열은 모두 float 타입의 열이다. 이 열들은 연속적인 특성으로 구성될 것이다. 텐서플로의 feature_column 함수를 사용하여 이 연속적인 특성을 텐서플로의 추정기가 다룰 수 있는 특성 열 데이터 구조로 변환한다."
      ],
      "metadata": {
        "id": "Zwr7I4yEHJmB"
      }
    },
    {
      "cell_type": "code",
      "source": [
        "numeric_features = []\n",
        "\n",
        "for col_name in numeric_column_names:\n",
        "    numeric_features.append(tf.feature_column.numeric_column(key=col_name))\n",
        "    \n",
        "numeric_features"
      ],
      "metadata": {
        "colab": {
          "base_uri": "https://localhost:8080/"
        },
        "id": "fwt2vq7tHdQ4",
        "outputId": "ca390ccd-1690-4e50-da8e-a1fc28f12bdd"
      },
      "execution_count": 9,
      "outputs": [
        {
          "output_type": "execute_result",
          "data": {
            "text/plain": [
              "[NumericColumn(key='Cylinders', shape=(1,), default_value=None, dtype=tf.float32, normalizer_fn=None),\n",
              " NumericColumn(key='Displacement', shape=(1,), default_value=None, dtype=tf.float32, normalizer_fn=None),\n",
              " NumericColumn(key='Horsepower', shape=(1,), default_value=None, dtype=tf.float32, normalizer_fn=None),\n",
              " NumericColumn(key='Weight', shape=(1,), default_value=None, dtype=tf.float32, normalizer_fn=None),\n",
              " NumericColumn(key='Acceleration', shape=(1,), default_value=None, dtype=tf.float32, normalizer_fn=None)]"
            ]
          },
          "metadata": {},
          "execution_count": 9
        }
      ]
    },
    {
      "cell_type": "markdown",
      "source": [
        "훈련 모델의 학습 작업을 단순화하기 위해 model year 정보를 그룹으로 묶어 버킷으로 나눈다.\n",
        "\n",
        "* 버킷\n",
        "    * 0: year < 73\n",
        "    * 1: 73 <= year <= 76\n",
        "    * 2: 76 <= year <= 79\n",
        "    * 3: year >= 79\n",
        "\n",
        "자동차를 세 개의 버킷으로 그룹짓기 위해 먼저 원본 model year를 기본으로 수치 특성을 정의한다. 그다음 이 수치 특성을 [73, 76, 79] 세 개의 분할 기준을 정한 bucketized_column 함수에 전달한다. 이 값은 분할의 오른쪽 기준이다. 이 기준은 한쪽만 닫힌 구간으로 사용된다.\n",
        "\n",
        "=> (-∞, 73), [73, 76), [76, 79), [79, ∞)"
      ],
      "metadata": {
        "id": "JSwKceeZHp8Y"
      }
    },
    {
      "cell_type": "code",
      "source": [
        "feature_year = tf.feature_column.numeric_column(key=\"ModelYear\")\n",
        "bucketized_features = []\n",
        "bucketized_features.append(\n",
        "    tf.feature_column.bucketized_column(\n",
        "        source_column=feature_year,\n",
        "        boundaries=[73, 76, 79]))\n",
        "print(bucketized_features)"
      ],
      "metadata": {
        "colab": {
          "base_uri": "https://localhost:8080/"
        },
        "id": "-sYfrcHkJaSy",
        "outputId": "86fcc9e5-6cc3-44d6-952b-ff963ccfff58"
      },
      "execution_count": 10,
      "outputs": [
        {
          "output_type": "stream",
          "name": "stdout",
          "text": [
            "[BucketizedColumn(source_column=NumericColumn(key='ModelYear', shape=(1,), default_value=None, dtype=tf.float32, normalizer_fn=None), boundaries=(73, 76, 79))]\n"
          ]
        }
      ]
    },
    {
      "cell_type": "markdown",
      "source": [
        "순서가 없는 범주 특성 Origin을 위해 리스트를 정의한다. 텐서플로에는 범주형 특성 열을 만드는 방법이 여러가지 있다.\n",
        "\n",
        "* `tf.feature_column.categorical_column_with_vocabulary_list`\n",
        " * 가능한 고유 범주 이름을 입력으로 제공할 수 있다.\n",
        "\n",
        "* `tf.feature_column.categorical_column_with_vocabulary_file`\n",
        " * 범주 리스트가 너무 클 경우 사용\n",
        " * 모든 범주/단어가 들어 있는 파일을 제공하여 메모리에 모든 가능한 단어 목록을 유지할 필요가 없다.\n",
        "\n",
        "* `tf.feature_column.categorical_column_with_identity`\n",
        " * 특성이 [0, num_categories) 범위의 범주 인덱스에 이미 매핑되어 있을 경우 사용\n",
        "\n",
        "특성 Origin이 (0, 1, 2가 아니라) 정수 1, 2, 3으로 주어지기 때문에 `categorical_column_with_identity`인 범주 인덱스에 맞지 않는다. 인덱스는 0부터 시작해야하기 때문이다."
      ],
      "metadata": {
        "id": "vNv1lirbIzNw"
      }
    },
    {
      "cell_type": "code",
      "source": [
        "feature_origin = tf.feature_column.categorical_column_with_vocabulary_list(\n",
        "    key='Origin',\n",
        "    vocabulary_list=[1, 2, 3])\n",
        "\n",
        "categorical_indicator_features = []\n",
        "categorical_indicator_features.append(tf.feature_column.indicator_column(feature_origin))\n",
        "print(categorical_indicator_features)"
      ],
      "metadata": {
        "colab": {
          "base_uri": "https://localhost:8080/"
        },
        "id": "adkeb4eLL56h",
        "outputId": "53aff264-b9a2-447b-8db3-a8a12f73eba1"
      },
      "execution_count": 11,
      "outputs": [
        {
          "output_type": "stream",
          "name": "stdout",
          "text": [
            "[IndicatorColumn(categorical_column=VocabularyListCategoricalColumn(key='Origin', vocabulary_list=(1, 2, 3), dtype=tf.int64, default_value=-1, num_oov_buckets=0))]\n"
          ]
        }
      ]
    },
    {
      "cell_type": "markdown",
      "source": [
        "DNNClassifier와 DNNRegressor 같은 추정기는 소위 밀집 열(dense column)만 받는다. 따라서 다음 단계는 이 범주 특성 열을 밀집 열을 바꾸는 것이다.\n",
        "\n",
        "* embedding_column 함수\n",
        "    * 임베딩 열로 바꿈\n",
        "    * 임베딩 열은 각 인덱스를 float 타입의 랜덤한 수치 벡터로 매핑한다. 이 벡터는 훈련될 수 있다.\n",
        "* indicator_column 함수\n",
        "    * 인디케이터 열로 바꿈\n",
        "    * 인디케이터 열: 범주 인덱스를 원-핫 인코딩된 벡터로 바꾼다.\n",
        "        * ex, 인덱스 0은 [1, 0, 0]으로 인코딩되고, 인덱스 1은 [0, 1, 0]으로 인코딩되는 식이다.\n",
        "\n",
        "범주 개수가 많을 때는 범주 개수보다 적은 차원의 임베딩 열을 사용하여 성능을 높일 수 있다."
      ],
      "metadata": {
        "id": "q5vlQ4UoMsfx"
      }
    },
    {
      "cell_type": "code",
      "source": [
        "# 인디케이터 열을 사용하여 범주형 특성 -> 밀집 열\n",
        "categorical_indicator_features = []\n",
        "categorical_indicator_features.append(\n",
        "    tf.feature_column.indicator_column(feature_origin))"
      ],
      "metadata": {
        "id": "5mdeJ6FwNW-Z"
      },
      "execution_count": 12,
      "outputs": []
    },
    {
      "cell_type": "markdown",
      "source": [
        "### 14.6.2 사전에 준비된 추정기로 머신 러닝 수행\n",
        "* 단계\n",
        " 1. 데이터 로딩을 위해 입력 함수 정의\n",
        " 2. 추정기와 데이터 사이를 연결하기 위해 특성 열 정의\n",
        " 3. 추정기 객체를 만들거나 케라스 모델을 추정기로 바꾸기\n",
        " 4. 추정기 사용: train(), evaluate(), predict()\n",
        "\n",
        "첫 번째 단계에서 데이터를 처리하는 함수를 정의해야한다. 이 함수는 입력 특성과 레이블(MPG)을 담은 튜플로 구성된 텐서플로 데이터셋을 반환한다. 특성은 딕셔너리로 구성되어야 하고 이 딕셔너리 키는 특성 열의 이름과 맞아야한다."
      ],
      "metadata": {
        "id": "pbqIZ11sNoEY"
      }
    },
    {
      "cell_type": "code",
      "source": [
        "# 첫 번째 단계를 시작하기 위해 훈련 데이터를 위한 입력 함수 정의\n",
        "def train_input_fn(df_train, batch_size=8):\n",
        "    df = df_train.copy()\n",
        "    train_x, train_y = df, df.pop('MPG')\n",
        "    dataset = tf.data.Dataset.from_tensor_slices((dict(train_x), train_y))\n",
        "    # 셔플, 반복, 배치\n",
        "    return dataset.shuffle(1000).repeat().batch(batch_size)\n",
        "\n",
        "# 확인\n",
        "ds = train_input_fn(df_train_norm)\n",
        "batch = next(iter(ds))\n",
        "print('Keys:', batch[0].keys())\n",
        "print('ModelYear:', batch[0]['ModelYear'])"
      ],
      "metadata": {
        "colab": {
          "base_uri": "https://localhost:8080/"
        },
        "id": "3uoOjC3AOuLA",
        "outputId": "5a8d2bd2-1313-48d1-8b73-1d27c28455b9"
      },
      "execution_count": 13,
      "outputs": [
        {
          "output_type": "stream",
          "name": "stdout",
          "text": [
            "Keys: dict_keys(['Cylinders', 'Displacement', 'Horsepower', 'Weight', 'Acceleration', 'ModelYear', 'Origin'])\n",
            "ModelYear: tf.Tensor([74 71 73 78 70 74 76 78], shape=(8,), dtype=int64)\n"
          ]
        }
      ]
    },
    {
      "cell_type": "markdown",
      "source": [
        "두 번째 단계는 특성 열을 정의한다. 연속적인 특성을 담은 리스트, 버킷으로 나눈 특성 열을 위한 리스트, 범주 특성 열을 위한 리스트들을 연결하여 모든 특성 열을 담은 리스트를 만든다."
      ],
      "metadata": {
        "id": "U_mD5tD-PoJ4"
      }
    },
    {
      "cell_type": "code",
      "source": [
        "all_feature_columns = (numeric_features + \n",
        "                       bucketized_features + \n",
        "                       categorical_indicator_features)\n",
        "print(all_feature_columns)"
      ],
      "metadata": {
        "colab": {
          "base_uri": "https://localhost:8080/"
        },
        "id": "We9y6vniQwXD",
        "outputId": "1c6f2430-c180-476c-94fd-f1ac65e6e014"
      },
      "execution_count": 14,
      "outputs": [
        {
          "output_type": "stream",
          "name": "stdout",
          "text": [
            "[NumericColumn(key='Cylinders', shape=(1,), default_value=None, dtype=tf.float32, normalizer_fn=None), NumericColumn(key='Displacement', shape=(1,), default_value=None, dtype=tf.float32, normalizer_fn=None), NumericColumn(key='Horsepower', shape=(1,), default_value=None, dtype=tf.float32, normalizer_fn=None), NumericColumn(key='Weight', shape=(1,), default_value=None, dtype=tf.float32, normalizer_fn=None), NumericColumn(key='Acceleration', shape=(1,), default_value=None, dtype=tf.float32, normalizer_fn=None), BucketizedColumn(source_column=NumericColumn(key='ModelYear', shape=(1,), default_value=None, dtype=tf.float32, normalizer_fn=None), boundaries=(73, 76, 79)), IndicatorColumn(categorical_column=VocabularyListCategoricalColumn(key='Origin', vocabulary_list=(1, 2, 3), dtype=tf.int64, default_value=-1, num_oov_buckets=0))]\n"
          ]
        }
      ]
    },
    {
      "cell_type": "markdown",
      "source": [
        "세 번째 단계에서 추정기를 만든다. MPG 값을 예측하는 것은 전형적인 회귀 문제이므로 tf.estimator.DNNRegressor를 사용한다. 회귀 추정기를 만들 때 특성 열의 리슽와 은닉층의 은닉 유닛 개수를 hidden_units 매개변수에 지정해야 한다."
      ],
      "metadata": {
        "id": "77WIjfaWQ4Xp"
      }
    },
    {
      "cell_type": "code",
      "source": [
        "# 두 개의 은닉층을 사용\n",
        "# 첫 번째 은닉층은 32개의 유닛, 두 번째 은닉층은 열 개의 유닛을 가진다.\n",
        "regressor = tf.estimator.DNNRegressor(\n",
        "    feature_columns=all_feature_columns,\n",
        "    hidden_units=[32, 10],\n",
        "    model_dir='models/autompg-dnnregressor/') # model_dir: 모델 파라미터가 저장된 디렉터리를 지정"
      ],
      "metadata": {
        "colab": {
          "base_uri": "https://localhost:8080/"
        },
        "id": "b0zMdgHiRPJy",
        "outputId": "165bd3a7-9bf5-4fce-ebfc-5d115893a155"
      },
      "execution_count": 15,
      "outputs": [
        {
          "output_type": "stream",
          "name": "stdout",
          "text": [
            "INFO:tensorflow:Using default config.\n",
            "INFO:tensorflow:Using config: {'_model_dir': 'models/autompg-dnnregressor/', '_tf_random_seed': None, '_save_summary_steps': 100, '_save_checkpoints_steps': None, '_save_checkpoints_secs': 600, '_session_config': allow_soft_placement: true\n",
            "graph_options {\n",
            "  rewrite_options {\n",
            "    meta_optimizer_iterations: ONE\n",
            "  }\n",
            "}\n",
            ", '_keep_checkpoint_max': 5, '_keep_checkpoint_every_n_hours': 10000, '_log_step_count_steps': 100, '_train_distribute': None, '_device_fn': None, '_protocol': None, '_eval_distribute': None, '_experimental_distribute': None, '_experimental_max_worker_delay_secs': None, '_session_creation_timeout_secs': 7200, '_checkpoint_save_graph_def': True, '_service': None, '_cluster_spec': ClusterSpec({}), '_task_type': 'worker', '_task_id': 0, '_global_id_in_cluster': 0, '_master': '', '_evaluation_master': '', '_is_chief': True, '_num_ps_replicas': 0, '_num_worker_replicas': 1}\n"
          ]
        }
      ]
    },
    {
      "cell_type": "markdown",
      "source": [
        "추정기의 장점 중 하나는 훈련하는 동안 자동으로 모델의 체크포인트 파일을 저장하는 것이다. 따라서 예기치 않은 이유로 모델 훈련이 중지되었을 때 마지막으로 저장된 체크포인트를 로드하여 훈련을 이어 갈 수 있다. 체크포인트 파일은 model_dir 매개변수로 지정된 디렉터리에 저장된다. model_dir 매개변수를 지정하지 않았다면 추정기가 랜덤한 임시폴더를 만들어 체크포인트를 저장한다.\n",
        "\n",
        "세 개의 기본 단계를 끝내야 추정기를 사용하여 훈련, 평가, 예측을 수행할 수있다. 이 회귀 추정기는 train() 메서드로 훈련한다. 이 메서드는 앞에서 정의한 입력 함수가 필요하다."
      ],
      "metadata": {
        "id": "re9lJKOaS6xR"
      }
    },
    {
      "cell_type": "code",
      "source": [
        "EPOCHS = 1000\n",
        "BATCH_SIZE = 8\n",
        "total_steps = EPOCHS * int(np.ceil(len(df_train) / BATCH_SIZE))\n",
        "print('훈련 스텝:', total_steps)\n",
        "\n",
        "regressor.train(\n",
        "    input_fn=lambda:train_input_fn(df_train_norm, batch_size=BATCH_SIZE),\n",
        "    steps=total_steps)"
      ],
      "metadata": {
        "colab": {
          "base_uri": "https://localhost:8080/"
        },
        "id": "7mKZvb7JTpVw",
        "outputId": "adb852bc-92ad-4bc7-e0d5-63e6b8175cf9"
      },
      "execution_count": 16,
      "outputs": [
        {
          "output_type": "stream",
          "name": "stdout",
          "text": [
            "훈련 스텝: 40000\n",
            "WARNING:tensorflow:From /usr/local/lib/python3.7/dist-packages/tensorflow/python/training/training_util.py:401: Variable.initialized_value (from tensorflow.python.ops.variables) is deprecated and will be removed in a future version.\n",
            "Instructions for updating:\n",
            "Use Variable.read_value. Variables in 2.X are initialized automatically both in eager and graph (inside tf.defun) contexts.\n",
            "INFO:tensorflow:Calling model_fn.\n",
            "WARNING:tensorflow:From /usr/local/lib/python3.7/dist-packages/keras/optimizer_v2/adagrad.py:84: calling Constant.__init__ (from tensorflow.python.ops.init_ops) with dtype is deprecated and will be removed in a future version.\n",
            "Instructions for updating:\n",
            "Call initializer instance with the dtype argument instead of passing it to the constructor\n",
            "INFO:tensorflow:Done calling model_fn.\n",
            "INFO:tensorflow:Create CheckpointSaverHook.\n",
            "INFO:tensorflow:Graph was finalized.\n",
            "INFO:tensorflow:Restoring parameters from models/autompg-dnnregressor/model.ckpt-40000\n",
            "WARNING:tensorflow:From /usr/local/lib/python3.7/dist-packages/tensorflow/python/training/saver.py:1165: get_checkpoint_mtimes (from tensorflow.python.training.checkpoint_management) is deprecated and will be removed in a future version.\n",
            "Instructions for updating:\n",
            "Use standard file utilities to get mtimes.\n",
            "INFO:tensorflow:Running local_init_op.\n",
            "INFO:tensorflow:Done running local_init_op.\n",
            "INFO:tensorflow:Calling checkpoint listeners before saving checkpoint 40000...\n",
            "INFO:tensorflow:Saving checkpoints for 40000 into models/autompg-dnnregressor/model.ckpt.\n",
            "INFO:tensorflow:Calling checkpoint listeners after saving checkpoint 40000...\n",
            "INFO:tensorflow:loss = 15.040594, step = 40000\n",
            "INFO:tensorflow:global_step/sec: 278.392\n",
            "INFO:tensorflow:loss = 11.054117, step = 40100 (0.365 sec)\n",
            "INFO:tensorflow:global_step/sec: 513.065\n",
            "INFO:tensorflow:loss = 35.418877, step = 40200 (0.194 sec)\n",
            "INFO:tensorflow:global_step/sec: 816.001\n",
            "INFO:tensorflow:loss = 6.9680862, step = 40300 (0.122 sec)\n",
            "INFO:tensorflow:global_step/sec: 918.667\n",
            "INFO:tensorflow:loss = 12.462916, step = 40400 (0.109 sec)\n",
            "INFO:tensorflow:global_step/sec: 787.965\n",
            "INFO:tensorflow:loss = 16.65785, step = 40500 (0.124 sec)\n",
            "INFO:tensorflow:global_step/sec: 904.194\n",
            "INFO:tensorflow:loss = 21.464092, step = 40600 (0.111 sec)\n",
            "INFO:tensorflow:global_step/sec: 850.01\n",
            "INFO:tensorflow:loss = 17.222527, step = 40700 (0.120 sec)\n",
            "INFO:tensorflow:global_step/sec: 878.146\n",
            "INFO:tensorflow:loss = 4.9575467, step = 40800 (0.112 sec)\n",
            "INFO:tensorflow:global_step/sec: 864.457\n",
            "INFO:tensorflow:loss = 26.438099, step = 40900 (0.117 sec)\n",
            "INFO:tensorflow:global_step/sec: 844.526\n",
            "INFO:tensorflow:loss = 10.389273, step = 41000 (0.117 sec)\n",
            "INFO:tensorflow:global_step/sec: 916.433\n",
            "INFO:tensorflow:loss = 4.8171234, step = 41100 (0.112 sec)\n",
            "INFO:tensorflow:global_step/sec: 909.541\n",
            "INFO:tensorflow:loss = 28.665758, step = 41200 (0.109 sec)\n",
            "INFO:tensorflow:global_step/sec: 894.3\n",
            "INFO:tensorflow:loss = 12.908285, step = 41300 (0.108 sec)\n",
            "INFO:tensorflow:global_step/sec: 827.957\n",
            "INFO:tensorflow:loss = 10.064754, step = 41400 (0.125 sec)\n",
            "INFO:tensorflow:global_step/sec: 916.275\n",
            "INFO:tensorflow:loss = 21.183443, step = 41500 (0.109 sec)\n",
            "INFO:tensorflow:global_step/sec: 834.516\n",
            "INFO:tensorflow:loss = 12.790778, step = 41600 (0.120 sec)\n",
            "INFO:tensorflow:global_step/sec: 881.595\n",
            "INFO:tensorflow:loss = 16.606544, step = 41700 (0.110 sec)\n",
            "INFO:tensorflow:global_step/sec: 902.273\n",
            "INFO:tensorflow:loss = 9.620804, step = 41800 (0.110 sec)\n",
            "INFO:tensorflow:global_step/sec: 940.84\n",
            "INFO:tensorflow:loss = 5.407093, step = 41900 (0.106 sec)\n",
            "INFO:tensorflow:global_step/sec: 905.852\n",
            "INFO:tensorflow:loss = 29.417507, step = 42000 (0.114 sec)\n",
            "INFO:tensorflow:global_step/sec: 950.805\n",
            "INFO:tensorflow:loss = 23.774557, step = 42100 (0.105 sec)\n",
            "INFO:tensorflow:global_step/sec: 817.353\n",
            "INFO:tensorflow:loss = 8.909967, step = 42200 (0.122 sec)\n",
            "INFO:tensorflow:global_step/sec: 808.1\n",
            "INFO:tensorflow:loss = 9.22803, step = 42300 (0.125 sec)\n",
            "WARNING:tensorflow:It seems that global step (tf.train.get_global_step) has not been increased. Current value (could be stable): 42378 vs previous value: 42378. You could increase the global step by passing tf.train.get_global_step() to Optimizer.apply_gradients or Optimizer.minimize.\n",
            "INFO:tensorflow:global_step/sec: 843.59\n",
            "INFO:tensorflow:loss = 21.19252, step = 42400 (0.117 sec)\n",
            "INFO:tensorflow:global_step/sec: 904.368\n",
            "INFO:tensorflow:loss = 8.678258, step = 42500 (0.111 sec)\n",
            "INFO:tensorflow:global_step/sec: 918.561\n",
            "INFO:tensorflow:loss = 38.167168, step = 42600 (0.109 sec)\n",
            "INFO:tensorflow:global_step/sec: 873.992\n",
            "INFO:tensorflow:loss = 8.08421, step = 42700 (0.115 sec)\n",
            "INFO:tensorflow:global_step/sec: 847.077\n",
            "INFO:tensorflow:loss = 9.184675, step = 42800 (0.115 sec)\n",
            "INFO:tensorflow:global_step/sec: 915.637\n",
            "INFO:tensorflow:loss = 30.494743, step = 42900 (0.112 sec)\n",
            "INFO:tensorflow:global_step/sec: 862.039\n",
            "INFO:tensorflow:loss = 24.164978, step = 43000 (0.112 sec)\n",
            "INFO:tensorflow:global_step/sec: 962.102\n",
            "INFO:tensorflow:loss = 36.101765, step = 43100 (0.107 sec)\n",
            "INFO:tensorflow:global_step/sec: 843.719\n",
            "INFO:tensorflow:loss = 3.2391033, step = 43200 (0.118 sec)\n",
            "INFO:tensorflow:global_step/sec: 954.587\n",
            "INFO:tensorflow:loss = 19.597372, step = 43300 (0.106 sec)\n",
            "INFO:tensorflow:global_step/sec: 949.806\n",
            "INFO:tensorflow:loss = 15.044328, step = 43400 (0.104 sec)\n",
            "INFO:tensorflow:global_step/sec: 910.153\n",
            "INFO:tensorflow:loss = 8.535608, step = 43500 (0.111 sec)\n",
            "INFO:tensorflow:global_step/sec: 932.669\n",
            "INFO:tensorflow:loss = 1.6975155, step = 43600 (0.104 sec)\n",
            "INFO:tensorflow:global_step/sec: 920.346\n",
            "INFO:tensorflow:loss = 7.9923368, step = 43700 (0.111 sec)\n",
            "INFO:tensorflow:global_step/sec: 781.2\n",
            "INFO:tensorflow:loss = 11.290005, step = 43800 (0.128 sec)\n",
            "INFO:tensorflow:global_step/sec: 942.809\n",
            "INFO:tensorflow:loss = 7.6797957, step = 43900 (0.106 sec)\n",
            "INFO:tensorflow:global_step/sec: 884.072\n",
            "INFO:tensorflow:loss = 8.541958, step = 44000 (0.110 sec)\n",
            "INFO:tensorflow:global_step/sec: 751.917\n",
            "INFO:tensorflow:loss = 7.8762093, step = 44100 (0.138 sec)\n",
            "INFO:tensorflow:global_step/sec: 887.347\n",
            "INFO:tensorflow:loss = 4.3577404, step = 44200 (0.113 sec)\n",
            "INFO:tensorflow:global_step/sec: 827.279\n",
            "INFO:tensorflow:loss = 17.373272, step = 44300 (0.116 sec)\n",
            "INFO:tensorflow:global_step/sec: 874.901\n",
            "INFO:tensorflow:loss = 5.3307915, step = 44400 (0.118 sec)\n",
            "INFO:tensorflow:global_step/sec: 844.864\n",
            "INFO:tensorflow:loss = 15.087406, step = 44500 (0.118 sec)\n",
            "INFO:tensorflow:global_step/sec: 850.215\n",
            "INFO:tensorflow:loss = 9.813283, step = 44600 (0.120 sec)\n",
            "INFO:tensorflow:global_step/sec: 845.057\n",
            "INFO:tensorflow:loss = 9.217035, step = 44700 (0.113 sec)\n",
            "INFO:tensorflow:global_step/sec: 879.899\n",
            "INFO:tensorflow:loss = 50.26208, step = 44800 (0.117 sec)\n",
            "INFO:tensorflow:global_step/sec: 897.967\n",
            "INFO:tensorflow:loss = 3.996199, step = 44900 (0.113 sec)\n",
            "INFO:tensorflow:global_step/sec: 875.281\n",
            "INFO:tensorflow:loss = 7.132482, step = 45000 (0.113 sec)\n",
            "INFO:tensorflow:global_step/sec: 807.299\n",
            "INFO:tensorflow:loss = 8.740825, step = 45100 (0.125 sec)\n",
            "INFO:tensorflow:global_step/sec: 878.48\n",
            "INFO:tensorflow:loss = 11.318545, step = 45200 (0.113 sec)\n",
            "INFO:tensorflow:global_step/sec: 783.007\n",
            "INFO:tensorflow:loss = 36.07921, step = 45300 (0.128 sec)\n",
            "INFO:tensorflow:global_step/sec: 764.083\n",
            "INFO:tensorflow:loss = 9.727965, step = 45400 (0.127 sec)\n",
            "INFO:tensorflow:global_step/sec: 891.57\n",
            "INFO:tensorflow:loss = 10.120991, step = 45500 (0.113 sec)\n",
            "INFO:tensorflow:global_step/sec: 795.655\n",
            "INFO:tensorflow:loss = 27.03455, step = 45600 (0.129 sec)\n",
            "INFO:tensorflow:global_step/sec: 880.398\n",
            "INFO:tensorflow:loss = 29.422768, step = 45700 (0.113 sec)\n",
            "INFO:tensorflow:global_step/sec: 805.697\n",
            "INFO:tensorflow:loss = 18.64835, step = 45800 (0.124 sec)\n",
            "INFO:tensorflow:global_step/sec: 894.253\n",
            "INFO:tensorflow:loss = 44.086834, step = 45900 (0.111 sec)\n",
            "INFO:tensorflow:global_step/sec: 905.825\n",
            "INFO:tensorflow:loss = 18.716917, step = 46000 (0.111 sec)\n",
            "INFO:tensorflow:global_step/sec: 939.765\n",
            "INFO:tensorflow:loss = 2.0287125, step = 46100 (0.107 sec)\n",
            "INFO:tensorflow:global_step/sec: 911.748\n",
            "INFO:tensorflow:loss = 2.951851, step = 46200 (0.109 sec)\n",
            "INFO:tensorflow:global_step/sec: 848.496\n",
            "INFO:tensorflow:loss = 16.535501, step = 46300 (0.119 sec)\n",
            "INFO:tensorflow:global_step/sec: 887.777\n",
            "INFO:tensorflow:loss = 9.806429, step = 46400 (0.108 sec)\n",
            "INFO:tensorflow:global_step/sec: 938.84\n",
            "INFO:tensorflow:loss = 19.564837, step = 46500 (0.111 sec)\n",
            "INFO:tensorflow:global_step/sec: 956.793\n",
            "INFO:tensorflow:loss = 12.333429, step = 46600 (0.103 sec)\n",
            "INFO:tensorflow:global_step/sec: 757.09\n",
            "INFO:tensorflow:loss = 10.696776, step = 46700 (0.133 sec)\n",
            "INFO:tensorflow:global_step/sec: 865.471\n",
            "INFO:tensorflow:loss = 15.010867, step = 46800 (0.116 sec)\n",
            "INFO:tensorflow:global_step/sec: 886.546\n",
            "INFO:tensorflow:loss = 48.965282, step = 46900 (0.114 sec)\n",
            "INFO:tensorflow:global_step/sec: 855.741\n",
            "INFO:tensorflow:loss = 12.516323, step = 47000 (0.115 sec)\n",
            "INFO:tensorflow:global_step/sec: 931.217\n",
            "INFO:tensorflow:loss = 35.061726, step = 47100 (0.105 sec)\n",
            "INFO:tensorflow:global_step/sec: 925.319\n",
            "INFO:tensorflow:loss = 22.423851, step = 47200 (0.111 sec)\n",
            "INFO:tensorflow:global_step/sec: 906.359\n",
            "INFO:tensorflow:loss = 7.20333, step = 47300 (0.111 sec)\n",
            "INFO:tensorflow:global_step/sec: 866.984\n",
            "INFO:tensorflow:loss = 24.625948, step = 47400 (0.112 sec)\n",
            "INFO:tensorflow:global_step/sec: 946.255\n",
            "INFO:tensorflow:loss = 8.290537, step = 47500 (0.108 sec)\n",
            "INFO:tensorflow:global_step/sec: 845.888\n",
            "INFO:tensorflow:loss = 1.4627825, step = 47600 (0.119 sec)\n",
            "INFO:tensorflow:global_step/sec: 915.128\n",
            "INFO:tensorflow:loss = 16.243511, step = 47700 (0.109 sec)\n",
            "INFO:tensorflow:global_step/sec: 940.307\n",
            "INFO:tensorflow:loss = 16.464697, step = 47800 (0.103 sec)\n",
            "INFO:tensorflow:global_step/sec: 853.542\n",
            "INFO:tensorflow:loss = 4.844937, step = 47900 (0.121 sec)\n",
            "INFO:tensorflow:global_step/sec: 872.91\n",
            "INFO:tensorflow:loss = 43.69319, step = 48000 (0.111 sec)\n",
            "INFO:tensorflow:global_step/sec: 929.438\n",
            "INFO:tensorflow:loss = 27.151642, step = 48100 (0.108 sec)\n",
            "INFO:tensorflow:global_step/sec: 869.668\n",
            "INFO:tensorflow:loss = 37.71463, step = 48200 (0.117 sec)\n",
            "INFO:tensorflow:global_step/sec: 899.141\n",
            "INFO:tensorflow:loss = 45.998825, step = 48300 (0.111 sec)\n",
            "INFO:tensorflow:global_step/sec: 960.219\n",
            "INFO:tensorflow:loss = 6.774705, step = 48400 (0.104 sec)\n",
            "WARNING:tensorflow:It seems that global step (tf.train.get_global_step) has not been increased. Current value (could be stable): 48413 vs previous value: 48413. You could increase the global step by passing tf.train.get_global_step() to Optimizer.apply_gradients or Optimizer.minimize.\n",
            "INFO:tensorflow:global_step/sec: 800.687\n",
            "INFO:tensorflow:loss = 18.657192, step = 48500 (0.126 sec)\n",
            "INFO:tensorflow:global_step/sec: 841.604\n",
            "INFO:tensorflow:loss = 11.7702, step = 48600 (0.118 sec)\n",
            "INFO:tensorflow:global_step/sec: 859.726\n",
            "INFO:tensorflow:loss = 12.293403, step = 48700 (0.117 sec)\n",
            "INFO:tensorflow:global_step/sec: 900.606\n",
            "INFO:tensorflow:loss = 26.907063, step = 48800 (0.108 sec)\n",
            "INFO:tensorflow:global_step/sec: 949.765\n",
            "INFO:tensorflow:loss = 17.116508, step = 48900 (0.108 sec)\n",
            "WARNING:tensorflow:It seems that global step (tf.train.get_global_step) has not been increased. Current value (could be stable): 48906 vs previous value: 48906. You could increase the global step by passing tf.train.get_global_step() to Optimizer.apply_gradients or Optimizer.minimize.\n",
            "INFO:tensorflow:global_step/sec: 896.918\n",
            "INFO:tensorflow:loss = 9.542599, step = 49000 (0.112 sec)\n",
            "INFO:tensorflow:global_step/sec: 825.376\n",
            "INFO:tensorflow:loss = 4.823527, step = 49100 (0.121 sec)\n",
            "INFO:tensorflow:global_step/sec: 924.658\n",
            "INFO:tensorflow:loss = 21.321018, step = 49200 (0.105 sec)\n",
            "INFO:tensorflow:global_step/sec: 876.787\n",
            "INFO:tensorflow:loss = 8.772993, step = 49300 (0.119 sec)\n",
            "INFO:tensorflow:global_step/sec: 835.777\n",
            "INFO:tensorflow:loss = 8.4370165, step = 49400 (0.118 sec)\n",
            "INFO:tensorflow:global_step/sec: 821.482\n",
            "INFO:tensorflow:loss = 15.170502, step = 49500 (0.122 sec)\n",
            "INFO:tensorflow:global_step/sec: 902.643\n",
            "INFO:tensorflow:loss = 12.923411, step = 49600 (0.108 sec)\n",
            "INFO:tensorflow:global_step/sec: 900.369\n",
            "INFO:tensorflow:loss = 5.796812, step = 49700 (0.114 sec)\n",
            "INFO:tensorflow:global_step/sec: 893.213\n",
            "INFO:tensorflow:loss = 48.43344, step = 49800 (0.112 sec)\n",
            "INFO:tensorflow:global_step/sec: 945.393\n",
            "INFO:tensorflow:loss = 5.5388975, step = 49900 (0.106 sec)\n",
            "INFO:tensorflow:global_step/sec: 945.176\n",
            "INFO:tensorflow:loss = 6.4082427, step = 50000 (0.106 sec)\n",
            "INFO:tensorflow:global_step/sec: 820.379\n",
            "INFO:tensorflow:loss = 20.005602, step = 50100 (0.122 sec)\n",
            "INFO:tensorflow:global_step/sec: 932.526\n",
            "INFO:tensorflow:loss = 24.529722, step = 50200 (0.107 sec)\n",
            "WARNING:tensorflow:It seems that global step (tf.train.get_global_step) has not been increased. Current value (could be stable): 50213 vs previous value: 50213. You could increase the global step by passing tf.train.get_global_step() to Optimizer.apply_gradients or Optimizer.minimize.\n",
            "INFO:tensorflow:global_step/sec: 785.303\n",
            "INFO:tensorflow:loss = 29.555426, step = 50300 (0.124 sec)\n",
            "INFO:tensorflow:global_step/sec: 906.826\n",
            "INFO:tensorflow:loss = 13.021227, step = 50400 (0.116 sec)\n",
            "INFO:tensorflow:global_step/sec: 874.396\n",
            "INFO:tensorflow:loss = 3.5751472, step = 50500 (0.112 sec)\n",
            "INFO:tensorflow:global_step/sec: 883.841\n",
            "INFO:tensorflow:loss = 27.20986, step = 50600 (0.114 sec)\n",
            "INFO:tensorflow:global_step/sec: 898.975\n",
            "INFO:tensorflow:loss = 11.4218025, step = 50700 (0.111 sec)\n",
            "INFO:tensorflow:global_step/sec: 864.219\n",
            "INFO:tensorflow:loss = 10.596546, step = 50800 (0.116 sec)\n",
            "INFO:tensorflow:global_step/sec: 878.383\n",
            "INFO:tensorflow:loss = 4.8873763, step = 50900 (0.113 sec)\n",
            "INFO:tensorflow:global_step/sec: 818.054\n",
            "INFO:tensorflow:loss = 13.179701, step = 51000 (0.120 sec)\n",
            "INFO:tensorflow:global_step/sec: 828.853\n",
            "INFO:tensorflow:loss = 10.152597, step = 51100 (0.120 sec)\n",
            "INFO:tensorflow:global_step/sec: 757.788\n",
            "INFO:tensorflow:loss = 7.6658154, step = 51200 (0.136 sec)\n",
            "WARNING:tensorflow:It seems that global step (tf.train.get_global_step) has not been increased. Current value (could be stable): 51216 vs previous value: 51216. You could increase the global step by passing tf.train.get_global_step() to Optimizer.apply_gradients or Optimizer.minimize.\n",
            "INFO:tensorflow:global_step/sec: 782.175\n",
            "INFO:tensorflow:loss = 16.986082, step = 51300 (0.127 sec)\n",
            "INFO:tensorflow:global_step/sec: 888.667\n",
            "INFO:tensorflow:loss = 11.076303, step = 51400 (0.111 sec)\n",
            "INFO:tensorflow:global_step/sec: 896.372\n",
            "INFO:tensorflow:loss = 19.820293, step = 51500 (0.110 sec)\n",
            "INFO:tensorflow:global_step/sec: 888.547\n",
            "INFO:tensorflow:loss = 13.264538, step = 51600 (0.115 sec)\n",
            "INFO:tensorflow:global_step/sec: 898.174\n",
            "INFO:tensorflow:loss = 10.917122, step = 51700 (0.112 sec)\n",
            "INFO:tensorflow:global_step/sec: 854.453\n",
            "INFO:tensorflow:loss = 22.994324, step = 51800 (0.117 sec)\n",
            "INFO:tensorflow:global_step/sec: 871.611\n",
            "INFO:tensorflow:loss = 5.8769083, step = 51900 (0.112 sec)\n",
            "INFO:tensorflow:global_step/sec: 826.104\n",
            "INFO:tensorflow:loss = 13.319597, step = 52000 (0.125 sec)\n",
            "INFO:tensorflow:global_step/sec: 798.222\n",
            "INFO:tensorflow:loss = 23.369007, step = 52100 (0.124 sec)\n",
            "INFO:tensorflow:global_step/sec: 885.521\n",
            "INFO:tensorflow:loss = 19.53672, step = 52200 (0.114 sec)\n",
            "INFO:tensorflow:global_step/sec: 885.932\n",
            "INFO:tensorflow:loss = 3.7293372, step = 52300 (0.112 sec)\n",
            "INFO:tensorflow:global_step/sec: 890.821\n",
            "INFO:tensorflow:loss = 37.615623, step = 52400 (0.113 sec)\n",
            "INFO:tensorflow:global_step/sec: 932.507\n",
            "INFO:tensorflow:loss = 16.220852, step = 52500 (0.107 sec)\n",
            "INFO:tensorflow:global_step/sec: 939.862\n",
            "INFO:tensorflow:loss = 30.738518, step = 52600 (0.105 sec)\n",
            "INFO:tensorflow:global_step/sec: 910.643\n",
            "INFO:tensorflow:loss = 6.802206, step = 52700 (0.111 sec)\n",
            "INFO:tensorflow:global_step/sec: 925.905\n",
            "INFO:tensorflow:loss = 25.577053, step = 52800 (0.105 sec)\n",
            "INFO:tensorflow:global_step/sec: 904.838\n",
            "INFO:tensorflow:loss = 14.459419, step = 52900 (0.114 sec)\n",
            "INFO:tensorflow:global_step/sec: 748.428\n",
            "INFO:tensorflow:loss = 4.4590034, step = 53000 (0.134 sec)\n",
            "INFO:tensorflow:global_step/sec: 865.515\n",
            "INFO:tensorflow:loss = 32.401054, step = 53100 (0.117 sec)\n",
            "INFO:tensorflow:global_step/sec: 837.691\n",
            "INFO:tensorflow:loss = 4.9571323, step = 53200 (0.118 sec)\n",
            "INFO:tensorflow:global_step/sec: 821.186\n",
            "INFO:tensorflow:loss = 19.383293, step = 53300 (0.121 sec)\n",
            "INFO:tensorflow:global_step/sec: 887.866\n",
            "INFO:tensorflow:loss = 9.045849, step = 53400 (0.114 sec)\n",
            "INFO:tensorflow:global_step/sec: 886.441\n",
            "INFO:tensorflow:loss = 31.933306, step = 53500 (0.112 sec)\n",
            "INFO:tensorflow:global_step/sec: 838.777\n",
            "INFO:tensorflow:loss = 5.5719066, step = 53600 (0.121 sec)\n",
            "INFO:tensorflow:global_step/sec: 832.719\n",
            "INFO:tensorflow:loss = 26.109676, step = 53700 (0.118 sec)\n",
            "INFO:tensorflow:global_step/sec: 812.769\n",
            "INFO:tensorflow:loss = 1.6875058, step = 53800 (0.122 sec)\n",
            "INFO:tensorflow:global_step/sec: 858.528\n",
            "INFO:tensorflow:loss = 9.939233, step = 53900 (0.118 sec)\n",
            "INFO:tensorflow:global_step/sec: 867.824\n",
            "INFO:tensorflow:loss = 14.137077, step = 54000 (0.112 sec)\n",
            "INFO:tensorflow:global_step/sec: 814.474\n",
            "INFO:tensorflow:loss = 6.157922, step = 54100 (0.127 sec)\n",
            "INFO:tensorflow:global_step/sec: 883.184\n",
            "INFO:tensorflow:loss = 10.749579, step = 54200 (0.109 sec)\n",
            "INFO:tensorflow:global_step/sec: 887.208\n",
            "INFO:tensorflow:loss = 2.7754703, step = 54300 (0.115 sec)\n",
            "INFO:tensorflow:global_step/sec: 865.655\n",
            "INFO:tensorflow:loss = 24.105879, step = 54400 (0.113 sec)\n",
            "INFO:tensorflow:global_step/sec: 766.807\n",
            "INFO:tensorflow:loss = 31.973995, step = 54500 (0.134 sec)\n",
            "INFO:tensorflow:global_step/sec: 906.369\n",
            "INFO:tensorflow:loss = 14.242989, step = 54600 (0.107 sec)\n",
            "INFO:tensorflow:global_step/sec: 765.768\n",
            "INFO:tensorflow:loss = 3.7960446, step = 54700 (0.134 sec)\n",
            "INFO:tensorflow:global_step/sec: 869.616\n",
            "INFO:tensorflow:loss = 25.13427, step = 54800 (0.111 sec)\n",
            "INFO:tensorflow:global_step/sec: 924.293\n",
            "INFO:tensorflow:loss = 28.858274, step = 54900 (0.111 sec)\n",
            "INFO:tensorflow:global_step/sec: 849.441\n",
            "INFO:tensorflow:loss = 6.34334, step = 55000 (0.115 sec)\n",
            "INFO:tensorflow:global_step/sec: 927.56\n",
            "INFO:tensorflow:loss = 33.07292, step = 55100 (0.110 sec)\n",
            "INFO:tensorflow:global_step/sec: 868.535\n",
            "INFO:tensorflow:loss = 14.132038, step = 55200 (0.115 sec)\n",
            "INFO:tensorflow:global_step/sec: 893.839\n",
            "INFO:tensorflow:loss = 11.340562, step = 55300 (0.111 sec)\n",
            "INFO:tensorflow:global_step/sec: 868.427\n",
            "INFO:tensorflow:loss = 8.853468, step = 55400 (0.113 sec)\n",
            "INFO:tensorflow:global_step/sec: 857.256\n",
            "INFO:tensorflow:loss = 25.676924, step = 55500 (0.116 sec)\n",
            "INFO:tensorflow:global_step/sec: 748.59\n",
            "INFO:tensorflow:loss = 5.381141, step = 55600 (0.135 sec)\n",
            "INFO:tensorflow:global_step/sec: 884.218\n",
            "INFO:tensorflow:loss = 15.947365, step = 55700 (0.114 sec)\n",
            "INFO:tensorflow:global_step/sec: 933.842\n",
            "INFO:tensorflow:loss = 36.20384, step = 55800 (0.107 sec)\n",
            "INFO:tensorflow:global_step/sec: 929.933\n",
            "INFO:tensorflow:loss = 16.272964, step = 55900 (0.107 sec)\n",
            "INFO:tensorflow:global_step/sec: 825.831\n",
            "INFO:tensorflow:loss = 36.938293, step = 56000 (0.122 sec)\n",
            "INFO:tensorflow:global_step/sec: 925.85\n",
            "INFO:tensorflow:loss = 15.051791, step = 56100 (0.108 sec)\n",
            "INFO:tensorflow:global_step/sec: 905.659\n",
            "INFO:tensorflow:loss = 5.676567, step = 56200 (0.107 sec)\n",
            "INFO:tensorflow:global_step/sec: 861.195\n",
            "INFO:tensorflow:loss = 25.009892, step = 56300 (0.120 sec)\n",
            "INFO:tensorflow:global_step/sec: 828.426\n",
            "INFO:tensorflow:loss = 8.507364, step = 56400 (0.120 sec)\n",
            "INFO:tensorflow:global_step/sec: 806.85\n",
            "INFO:tensorflow:loss = 5.67981, step = 56500 (0.124 sec)\n",
            "INFO:tensorflow:global_step/sec: 886.897\n",
            "INFO:tensorflow:loss = 6.1219416, step = 56600 (0.110 sec)\n",
            "INFO:tensorflow:global_step/sec: 907.102\n",
            "INFO:tensorflow:loss = 3.4107528, step = 56700 (0.114 sec)\n",
            "INFO:tensorflow:global_step/sec: 932.606\n",
            "INFO:tensorflow:loss = 10.356425, step = 56800 (0.107 sec)\n",
            "INFO:tensorflow:global_step/sec: 884.167\n",
            "INFO:tensorflow:loss = 2.8727226, step = 56900 (0.110 sec)\n",
            "INFO:tensorflow:global_step/sec: 898.151\n",
            "INFO:tensorflow:loss = 13.067788, step = 57000 (0.114 sec)\n",
            "INFO:tensorflow:global_step/sec: 861.802\n",
            "INFO:tensorflow:loss = 1.1520648, step = 57100 (0.114 sec)\n",
            "INFO:tensorflow:global_step/sec: 880.184\n",
            "INFO:tensorflow:loss = 21.523363, step = 57200 (0.114 sec)\n",
            "INFO:tensorflow:global_step/sec: 883.946\n",
            "INFO:tensorflow:loss = 10.643513, step = 57300 (0.113 sec)\n",
            "INFO:tensorflow:global_step/sec: 889.217\n",
            "INFO:tensorflow:loss = 37.09138, step = 57400 (0.113 sec)\n",
            "INFO:tensorflow:global_step/sec: 901.611\n",
            "INFO:tensorflow:loss = 12.347175, step = 57500 (0.111 sec)\n",
            "INFO:tensorflow:global_step/sec: 941.068\n",
            "INFO:tensorflow:loss = 17.045078, step = 57600 (0.109 sec)\n",
            "INFO:tensorflow:global_step/sec: 920.718\n",
            "INFO:tensorflow:loss = 9.69676, step = 57700 (0.105 sec)\n",
            "INFO:tensorflow:global_step/sec: 929.974\n",
            "INFO:tensorflow:loss = 10.85019, step = 57800 (0.110 sec)\n",
            "INFO:tensorflow:global_step/sec: 860.317\n",
            "INFO:tensorflow:loss = 7.8047104, step = 57900 (0.118 sec)\n",
            "INFO:tensorflow:global_step/sec: 918.476\n",
            "INFO:tensorflow:loss = 8.997543, step = 58000 (0.108 sec)\n",
            "INFO:tensorflow:global_step/sec: 866.44\n",
            "INFO:tensorflow:loss = 7.2790647, step = 58100 (0.115 sec)\n",
            "INFO:tensorflow:global_step/sec: 821.749\n",
            "INFO:tensorflow:loss = 6.6873436, step = 58200 (0.123 sec)\n",
            "INFO:tensorflow:global_step/sec: 810.877\n",
            "INFO:tensorflow:loss = 6.7342978, step = 58300 (0.120 sec)\n",
            "INFO:tensorflow:global_step/sec: 930.156\n",
            "INFO:tensorflow:loss = 4.9204607, step = 58400 (0.112 sec)\n",
            "INFO:tensorflow:global_step/sec: 898.344\n",
            "INFO:tensorflow:loss = 27.780792, step = 58500 (0.108 sec)\n",
            "INFO:tensorflow:global_step/sec: 879.466\n",
            "INFO:tensorflow:loss = 3.579958, step = 58600 (0.114 sec)\n",
            "INFO:tensorflow:global_step/sec: 938.838\n",
            "INFO:tensorflow:loss = 14.872935, step = 58700 (0.107 sec)\n",
            "INFO:tensorflow:global_step/sec: 892.84\n",
            "INFO:tensorflow:loss = 40.532806, step = 58800 (0.112 sec)\n",
            "INFO:tensorflow:global_step/sec: 924.917\n",
            "INFO:tensorflow:loss = 36.41828, step = 58900 (0.108 sec)\n",
            "INFO:tensorflow:global_step/sec: 954.075\n",
            "INFO:tensorflow:loss = 33.85826, step = 59000 (0.105 sec)\n",
            "INFO:tensorflow:global_step/sec: 875.806\n",
            "INFO:tensorflow:loss = 24.172184, step = 59100 (0.115 sec)\n",
            "INFO:tensorflow:global_step/sec: 843.999\n",
            "INFO:tensorflow:loss = 10.618198, step = 59200 (0.117 sec)\n",
            "INFO:tensorflow:global_step/sec: 952.033\n",
            "INFO:tensorflow:loss = 17.740368, step = 59300 (0.106 sec)\n",
            "INFO:tensorflow:global_step/sec: 890.45\n",
            "INFO:tensorflow:loss = 6.285267, step = 59400 (0.112 sec)\n",
            "INFO:tensorflow:global_step/sec: 955.074\n",
            "INFO:tensorflow:loss = 19.86949, step = 59500 (0.106 sec)\n",
            "INFO:tensorflow:global_step/sec: 923.782\n",
            "INFO:tensorflow:loss = 7.3703575, step = 59600 (0.104 sec)\n",
            "INFO:tensorflow:global_step/sec: 890.391\n",
            "INFO:tensorflow:loss = 13.011814, step = 59700 (0.117 sec)\n",
            "INFO:tensorflow:global_step/sec: 904.052\n",
            "INFO:tensorflow:loss = 15.072697, step = 59800 (0.109 sec)\n",
            "INFO:tensorflow:global_step/sec: 901.853\n",
            "INFO:tensorflow:loss = 10.406544, step = 59900 (0.112 sec)\n",
            "INFO:tensorflow:global_step/sec: 901.404\n",
            "INFO:tensorflow:loss = 19.492754, step = 60000 (0.107 sec)\n",
            "INFO:tensorflow:global_step/sec: 827.586\n",
            "INFO:tensorflow:loss = 16.979895, step = 60100 (0.125 sec)\n",
            "INFO:tensorflow:global_step/sec: 868.976\n",
            "INFO:tensorflow:loss = 13.9217615, step = 60200 (0.111 sec)\n",
            "INFO:tensorflow:global_step/sec: 948.693\n",
            "INFO:tensorflow:loss = 16.782942, step = 60300 (0.109 sec)\n",
            "INFO:tensorflow:global_step/sec: 878.668\n",
            "INFO:tensorflow:loss = 16.840055, step = 60400 (0.110 sec)\n",
            "INFO:tensorflow:global_step/sec: 927.41\n",
            "INFO:tensorflow:loss = 9.611033, step = 60500 (0.110 sec)\n",
            "INFO:tensorflow:global_step/sec: 905.172\n",
            "INFO:tensorflow:loss = 21.835981, step = 60600 (0.111 sec)\n",
            "INFO:tensorflow:global_step/sec: 929.636\n",
            "INFO:tensorflow:loss = 17.10269, step = 60700 (0.108 sec)\n",
            "INFO:tensorflow:global_step/sec: 878.751\n",
            "INFO:tensorflow:loss = 5.51904, step = 60800 (0.113 sec)\n",
            "INFO:tensorflow:global_step/sec: 888.88\n",
            "INFO:tensorflow:loss = 13.61724, step = 60900 (0.113 sec)\n",
            "INFO:tensorflow:global_step/sec: 792.579\n",
            "INFO:tensorflow:loss = 8.919796, step = 61000 (0.126 sec)\n",
            "INFO:tensorflow:global_step/sec: 865.874\n",
            "INFO:tensorflow:loss = 5.2448635, step = 61100 (0.115 sec)\n",
            "INFO:tensorflow:global_step/sec: 921.987\n",
            "INFO:tensorflow:loss = 14.4774685, step = 61200 (0.110 sec)\n",
            "INFO:tensorflow:global_step/sec: 903.055\n",
            "INFO:tensorflow:loss = 30.35181, step = 61300 (0.110 sec)\n",
            "INFO:tensorflow:global_step/sec: 865.49\n",
            "INFO:tensorflow:loss = 20.544506, step = 61400 (0.116 sec)\n",
            "INFO:tensorflow:global_step/sec: 910.797\n",
            "INFO:tensorflow:loss = 6.0014954, step = 61500 (0.107 sec)\n",
            "INFO:tensorflow:global_step/sec: 950.083\n",
            "INFO:tensorflow:loss = 58.25333, step = 61600 (0.108 sec)\n",
            "INFO:tensorflow:global_step/sec: 892.7\n",
            "INFO:tensorflow:loss = 25.591442, step = 61700 (0.112 sec)\n",
            "INFO:tensorflow:global_step/sec: 868.785\n",
            "INFO:tensorflow:loss = 1.7306263, step = 61800 (0.114 sec)\n",
            "INFO:tensorflow:global_step/sec: 764.856\n",
            "INFO:tensorflow:loss = 14.3382015, step = 61900 (0.131 sec)\n",
            "INFO:tensorflow:global_step/sec: 895.585\n",
            "INFO:tensorflow:loss = 10.428684, step = 62000 (0.110 sec)\n",
            "INFO:tensorflow:global_step/sec: 906.463\n",
            "INFO:tensorflow:loss = 22.122433, step = 62100 (0.115 sec)\n",
            "INFO:tensorflow:global_step/sec: 834.97\n",
            "INFO:tensorflow:loss = 22.50349, step = 62200 (0.115 sec)\n",
            "INFO:tensorflow:global_step/sec: 896.646\n",
            "INFO:tensorflow:loss = 3.6010027, step = 62300 (0.112 sec)\n",
            "INFO:tensorflow:global_step/sec: 834.151\n",
            "INFO:tensorflow:loss = 17.427761, step = 62400 (0.123 sec)\n",
            "INFO:tensorflow:global_step/sec: 809.524\n",
            "INFO:tensorflow:loss = 6.9691234, step = 62500 (0.124 sec)\n",
            "INFO:tensorflow:global_step/sec: 913.167\n",
            "INFO:tensorflow:loss = 6.383311, step = 62600 (0.110 sec)\n",
            "INFO:tensorflow:global_step/sec: 883.614\n",
            "INFO:tensorflow:loss = 8.838135, step = 62700 (0.113 sec)\n",
            "INFO:tensorflow:global_step/sec: 811.631\n",
            "INFO:tensorflow:loss = 1.9100494, step = 62800 (0.120 sec)\n",
            "INFO:tensorflow:global_step/sec: 925.135\n",
            "INFO:tensorflow:loss = 17.911118, step = 62900 (0.111 sec)\n",
            "INFO:tensorflow:global_step/sec: 931.48\n",
            "INFO:tensorflow:loss = 20.920155, step = 63000 (0.108 sec)\n",
            "INFO:tensorflow:global_step/sec: 860.026\n",
            "INFO:tensorflow:loss = 17.780737, step = 63100 (0.117 sec)\n",
            "INFO:tensorflow:global_step/sec: 866.783\n",
            "INFO:tensorflow:loss = 5.8622675, step = 63200 (0.111 sec)\n",
            "INFO:tensorflow:global_step/sec: 872.43\n",
            "INFO:tensorflow:loss = 12.517168, step = 63300 (0.118 sec)\n",
            "INFO:tensorflow:global_step/sec: 881.451\n",
            "INFO:tensorflow:loss = 13.142774, step = 63400 (0.114 sec)\n",
            "INFO:tensorflow:global_step/sec: 909.906\n",
            "INFO:tensorflow:loss = 45.09196, step = 63500 (0.106 sec)\n",
            "INFO:tensorflow:global_step/sec: 843.97\n",
            "INFO:tensorflow:loss = 5.8285284, step = 63600 (0.119 sec)\n",
            "INFO:tensorflow:global_step/sec: 783.972\n",
            "INFO:tensorflow:loss = 27.178886, step = 63700 (0.131 sec)\n",
            "INFO:tensorflow:global_step/sec: 865.996\n",
            "INFO:tensorflow:loss = 10.342156, step = 63800 (0.112 sec)\n",
            "INFO:tensorflow:global_step/sec: 908.45\n",
            "INFO:tensorflow:loss = 22.405577, step = 63900 (0.115 sec)\n",
            "INFO:tensorflow:global_step/sec: 787.383\n",
            "INFO:tensorflow:loss = 29.95025, step = 64000 (0.127 sec)\n",
            "INFO:tensorflow:global_step/sec: 884.13\n",
            "INFO:tensorflow:loss = 9.133316, step = 64100 (0.112 sec)\n",
            "INFO:tensorflow:global_step/sec: 759.543\n",
            "INFO:tensorflow:loss = 5.2115946, step = 64200 (0.131 sec)\n",
            "INFO:tensorflow:global_step/sec: 819.283\n",
            "INFO:tensorflow:loss = 23.551882, step = 64300 (0.119 sec)\n",
            "INFO:tensorflow:global_step/sec: 825.912\n",
            "INFO:tensorflow:loss = 23.493126, step = 64400 (0.121 sec)\n",
            "INFO:tensorflow:global_step/sec: 869.309\n",
            "INFO:tensorflow:loss = 31.85213, step = 64500 (0.115 sec)\n",
            "INFO:tensorflow:global_step/sec: 759.806\n",
            "INFO:tensorflow:loss = 26.041245, step = 64600 (0.136 sec)\n",
            "INFO:tensorflow:global_step/sec: 766.96\n",
            "INFO:tensorflow:loss = 23.161564, step = 64700 (0.126 sec)\n",
            "INFO:tensorflow:global_step/sec: 821.023\n",
            "INFO:tensorflow:loss = 10.591122, step = 64800 (0.126 sec)\n",
            "INFO:tensorflow:global_step/sec: 844.008\n",
            "INFO:tensorflow:loss = 34.032253, step = 64900 (0.115 sec)\n",
            "INFO:tensorflow:global_step/sec: 705.259\n",
            "INFO:tensorflow:loss = 34.639225, step = 65000 (0.147 sec)\n",
            "INFO:tensorflow:global_step/sec: 710.752\n",
            "INFO:tensorflow:loss = 9.472299, step = 65100 (0.135 sec)\n",
            "INFO:tensorflow:global_step/sec: 808.937\n",
            "INFO:tensorflow:loss = 4.549372, step = 65200 (0.128 sec)\n",
            "INFO:tensorflow:global_step/sec: 836.774\n",
            "INFO:tensorflow:loss = 5.315897, step = 65300 (0.118 sec)\n",
            "INFO:tensorflow:global_step/sec: 799.434\n",
            "INFO:tensorflow:loss = 2.3599615, step = 65400 (0.125 sec)\n",
            "INFO:tensorflow:global_step/sec: 938.735\n",
            "INFO:tensorflow:loss = 1.6161224, step = 65500 (0.107 sec)\n",
            "INFO:tensorflow:global_step/sec: 876.077\n",
            "INFO:tensorflow:loss = 13.313108, step = 65600 (0.114 sec)\n",
            "INFO:tensorflow:global_step/sec: 891.771\n",
            "INFO:tensorflow:loss = 12.397101, step = 65700 (0.113 sec)\n",
            "INFO:tensorflow:global_step/sec: 855.904\n",
            "INFO:tensorflow:loss = 19.382574, step = 65800 (0.117 sec)\n",
            "INFO:tensorflow:global_step/sec: 749.529\n",
            "INFO:tensorflow:loss = 20.268932, step = 65900 (0.132 sec)\n",
            "INFO:tensorflow:global_step/sec: 776.914\n",
            "INFO:tensorflow:loss = 9.469709, step = 66000 (0.133 sec)\n",
            "INFO:tensorflow:global_step/sec: 808.324\n",
            "INFO:tensorflow:loss = 16.510033, step = 66100 (0.116 sec)\n",
            "INFO:tensorflow:global_step/sec: 762.942\n",
            "INFO:tensorflow:loss = 11.043126, step = 66200 (0.134 sec)\n",
            "INFO:tensorflow:global_step/sec: 897.579\n",
            "INFO:tensorflow:loss = 39.960785, step = 66300 (0.113 sec)\n",
            "INFO:tensorflow:global_step/sec: 828.241\n",
            "INFO:tensorflow:loss = 53.1956, step = 66400 (0.120 sec)\n",
            "INFO:tensorflow:global_step/sec: 889.834\n",
            "INFO:tensorflow:loss = 8.876391, step = 66500 (0.113 sec)\n",
            "INFO:tensorflow:global_step/sec: 894.917\n",
            "INFO:tensorflow:loss = 13.172843, step = 66600 (0.114 sec)\n",
            "INFO:tensorflow:global_step/sec: 819.688\n",
            "INFO:tensorflow:loss = 5.560988, step = 66700 (0.120 sec)\n",
            "INFO:tensorflow:global_step/sec: 812.867\n",
            "INFO:tensorflow:loss = 13.731372, step = 66800 (0.123 sec)\n",
            "INFO:tensorflow:global_step/sec: 812.379\n",
            "INFO:tensorflow:loss = 8.536588, step = 66900 (0.123 sec)\n",
            "INFO:tensorflow:global_step/sec: 879.263\n",
            "INFO:tensorflow:loss = 7.2211637, step = 67000 (0.114 sec)\n",
            "INFO:tensorflow:global_step/sec: 836.742\n",
            "INFO:tensorflow:loss = 6.3629937, step = 67100 (0.116 sec)\n",
            "INFO:tensorflow:global_step/sec: 951.025\n",
            "INFO:tensorflow:loss = 16.263182, step = 67200 (0.105 sec)\n",
            "INFO:tensorflow:global_step/sec: 884.641\n",
            "INFO:tensorflow:loss = 14.760045, step = 67300 (0.116 sec)\n",
            "INFO:tensorflow:global_step/sec: 920.363\n",
            "INFO:tensorflow:loss = 6.4760046, step = 67400 (0.106 sec)\n",
            "INFO:tensorflow:global_step/sec: 907.797\n",
            "INFO:tensorflow:loss = 9.244505, step = 67500 (0.113 sec)\n",
            "INFO:tensorflow:global_step/sec: 927.699\n",
            "INFO:tensorflow:loss = 20.696953, step = 67600 (0.107 sec)\n",
            "INFO:tensorflow:global_step/sec: 882.066\n",
            "INFO:tensorflow:loss = 7.2785716, step = 67700 (0.114 sec)\n",
            "INFO:tensorflow:global_step/sec: 895.687\n",
            "INFO:tensorflow:loss = 4.119021, step = 67800 (0.112 sec)\n",
            "INFO:tensorflow:global_step/sec: 851.072\n",
            "INFO:tensorflow:loss = 8.261314, step = 67900 (0.117 sec)\n",
            "INFO:tensorflow:global_step/sec: 845.275\n",
            "INFO:tensorflow:loss = 3.1592538, step = 68000 (0.118 sec)\n",
            "INFO:tensorflow:global_step/sec: 817.624\n",
            "INFO:tensorflow:loss = 9.861323, step = 68100 (0.122 sec)\n",
            "INFO:tensorflow:global_step/sec: 920.777\n",
            "INFO:tensorflow:loss = 6.056617, step = 68200 (0.106 sec)\n",
            "INFO:tensorflow:global_step/sec: 896.437\n",
            "INFO:tensorflow:loss = 55.234577, step = 68300 (0.112 sec)\n",
            "INFO:tensorflow:global_step/sec: 938.006\n",
            "INFO:tensorflow:loss = 6.17729, step = 68400 (0.106 sec)\n",
            "INFO:tensorflow:global_step/sec: 852.704\n",
            "INFO:tensorflow:loss = 5.8547287, step = 68500 (0.122 sec)\n",
            "INFO:tensorflow:global_step/sec: 388.828\n",
            "INFO:tensorflow:loss = 18.112759, step = 68600 (0.252 sec)\n",
            "INFO:tensorflow:global_step/sec: 797.011\n",
            "INFO:tensorflow:loss = 13.710107, step = 68700 (0.126 sec)\n",
            "INFO:tensorflow:global_step/sec: 848.078\n",
            "INFO:tensorflow:loss = 15.0436125, step = 68800 (0.118 sec)\n",
            "INFO:tensorflow:global_step/sec: 814.983\n",
            "INFO:tensorflow:loss = 4.4767656, step = 68900 (0.123 sec)\n",
            "INFO:tensorflow:global_step/sec: 868.56\n",
            "INFO:tensorflow:loss = 12.911425, step = 69000 (0.115 sec)\n",
            "INFO:tensorflow:global_step/sec: 962.023\n",
            "INFO:tensorflow:loss = 5.272772, step = 69100 (0.107 sec)\n",
            "INFO:tensorflow:global_step/sec: 848.1\n",
            "INFO:tensorflow:loss = 9.329429, step = 69200 (0.115 sec)\n",
            "INFO:tensorflow:global_step/sec: 840.609\n",
            "INFO:tensorflow:loss = 10.725443, step = 69300 (0.119 sec)\n",
            "INFO:tensorflow:global_step/sec: 945.83\n",
            "INFO:tensorflow:loss = 9.812816, step = 69400 (0.106 sec)\n",
            "INFO:tensorflow:global_step/sec: 922.32\n",
            "INFO:tensorflow:loss = 10.680153, step = 69500 (0.108 sec)\n",
            "INFO:tensorflow:global_step/sec: 870.531\n",
            "INFO:tensorflow:loss = 22.212349, step = 69600 (0.115 sec)\n",
            "INFO:tensorflow:global_step/sec: 853.745\n",
            "INFO:tensorflow:loss = 8.190407, step = 69700 (0.117 sec)\n",
            "INFO:tensorflow:global_step/sec: 949.075\n",
            "INFO:tensorflow:loss = 4.6728535, step = 69800 (0.106 sec)\n",
            "INFO:tensorflow:global_step/sec: 880.479\n",
            "INFO:tensorflow:loss = 4.1218305, step = 69900 (0.113 sec)\n",
            "INFO:tensorflow:global_step/sec: 905.522\n",
            "INFO:tensorflow:loss = 6.8883033, step = 70000 (0.111 sec)\n",
            "INFO:tensorflow:global_step/sec: 886.588\n",
            "INFO:tensorflow:loss = 45.30684, step = 70100 (0.112 sec)\n",
            "INFO:tensorflow:global_step/sec: 931.751\n",
            "INFO:tensorflow:loss = 13.626922, step = 70200 (0.107 sec)\n",
            "INFO:tensorflow:global_step/sec: 928.683\n",
            "INFO:tensorflow:loss = 4.566076, step = 70300 (0.108 sec)\n",
            "INFO:tensorflow:global_step/sec: 814.349\n",
            "INFO:tensorflow:loss = 9.985073, step = 70400 (0.123 sec)\n",
            "INFO:tensorflow:global_step/sec: 883.398\n",
            "INFO:tensorflow:loss = 31.449871, step = 70500 (0.113 sec)\n",
            "INFO:tensorflow:global_step/sec: 831.271\n",
            "INFO:tensorflow:loss = 6.3634696, step = 70600 (0.120 sec)\n",
            "INFO:tensorflow:global_step/sec: 919.888\n",
            "INFO:tensorflow:loss = 26.55259, step = 70700 (0.111 sec)\n",
            "INFO:tensorflow:global_step/sec: 873.113\n",
            "INFO:tensorflow:loss = 9.720778, step = 70800 (0.112 sec)\n",
            "INFO:tensorflow:global_step/sec: 956.564\n",
            "INFO:tensorflow:loss = 33.125484, step = 70900 (0.105 sec)\n",
            "INFO:tensorflow:global_step/sec: 922.034\n",
            "INFO:tensorflow:loss = 11.410674, step = 71000 (0.108 sec)\n",
            "INFO:tensorflow:global_step/sec: 899.478\n",
            "INFO:tensorflow:loss = 15.144978, step = 71100 (0.111 sec)\n",
            "INFO:tensorflow:global_step/sec: 840.456\n",
            "INFO:tensorflow:loss = 10.480275, step = 71200 (0.119 sec)\n",
            "INFO:tensorflow:global_step/sec: 862.399\n",
            "INFO:tensorflow:loss = 15.064694, step = 71300 (0.117 sec)\n",
            "INFO:tensorflow:global_step/sec: 884.492\n",
            "INFO:tensorflow:loss = 4.830689, step = 71400 (0.117 sec)\n",
            "INFO:tensorflow:global_step/sec: 728.647\n",
            "INFO:tensorflow:loss = 9.585427, step = 71500 (0.134 sec)\n",
            "INFO:tensorflow:global_step/sec: 824.177\n",
            "INFO:tensorflow:loss = 11.942232, step = 71600 (0.120 sec)\n",
            "INFO:tensorflow:global_step/sec: 887.494\n",
            "INFO:tensorflow:loss = 17.724728, step = 71700 (0.116 sec)\n",
            "INFO:tensorflow:global_step/sec: 939.788\n",
            "INFO:tensorflow:loss = 7.6096883, step = 71800 (0.103 sec)\n",
            "INFO:tensorflow:global_step/sec: 896.911\n",
            "INFO:tensorflow:loss = 9.579227, step = 71900 (0.111 sec)\n",
            "INFO:tensorflow:global_step/sec: 858.765\n",
            "INFO:tensorflow:loss = 38.383797, step = 72000 (0.117 sec)\n",
            "INFO:tensorflow:global_step/sec: 886.146\n",
            "INFO:tensorflow:loss = 15.738462, step = 72100 (0.113 sec)\n",
            "INFO:tensorflow:global_step/sec: 895.197\n",
            "INFO:tensorflow:loss = 34.210915, step = 72200 (0.112 sec)\n",
            "INFO:tensorflow:global_step/sec: 932.723\n",
            "INFO:tensorflow:loss = 15.749787, step = 72300 (0.106 sec)\n",
            "INFO:tensorflow:global_step/sec: 714.445\n",
            "INFO:tensorflow:loss = 11.903336, step = 72400 (0.142 sec)\n",
            "INFO:tensorflow:global_step/sec: 892.865\n",
            "INFO:tensorflow:loss = 5.5905943, step = 72500 (0.110 sec)\n",
            "INFO:tensorflow:global_step/sec: 885.022\n",
            "INFO:tensorflow:loss = 9.749224, step = 72600 (0.113 sec)\n",
            "INFO:tensorflow:global_step/sec: 977.985\n",
            "INFO:tensorflow:loss = 5.932667, step = 72700 (0.107 sec)\n",
            "INFO:tensorflow:global_step/sec: 885.986\n",
            "INFO:tensorflow:loss = 20.294523, step = 72800 (0.108 sec)\n",
            "INFO:tensorflow:global_step/sec: 960.996\n",
            "INFO:tensorflow:loss = 9.353275, step = 72900 (0.109 sec)\n",
            "INFO:tensorflow:global_step/sec: 927.139\n",
            "INFO:tensorflow:loss = 4.9227257, step = 73000 (0.104 sec)\n",
            "INFO:tensorflow:global_step/sec: 895.431\n",
            "INFO:tensorflow:loss = 2.1741555, step = 73100 (0.111 sec)\n",
            "INFO:tensorflow:global_step/sec: 934.541\n",
            "INFO:tensorflow:loss = 3.9066513, step = 73200 (0.108 sec)\n",
            "INFO:tensorflow:global_step/sec: 792.958\n",
            "INFO:tensorflow:loss = 13.465742, step = 73300 (0.126 sec)\n",
            "INFO:tensorflow:global_step/sec: 864.766\n",
            "INFO:tensorflow:loss = 27.824146, step = 73400 (0.114 sec)\n",
            "INFO:tensorflow:global_step/sec: 920.583\n",
            "INFO:tensorflow:loss = 49.91153, step = 73500 (0.109 sec)\n",
            "INFO:tensorflow:global_step/sec: 867.653\n",
            "INFO:tensorflow:loss = 1.470522, step = 73600 (0.117 sec)\n",
            "INFO:tensorflow:global_step/sec: 856.374\n",
            "INFO:tensorflow:loss = 24.92723, step = 73700 (0.115 sec)\n",
            "INFO:tensorflow:global_step/sec: 869.246\n",
            "INFO:tensorflow:loss = 7.4820547, step = 73800 (0.115 sec)\n",
            "INFO:tensorflow:global_step/sec: 942.246\n",
            "INFO:tensorflow:loss = 11.048886, step = 73900 (0.107 sec)\n",
            "INFO:tensorflow:global_step/sec: 920.825\n",
            "INFO:tensorflow:loss = 9.04464, step = 74000 (0.108 sec)\n",
            "INFO:tensorflow:global_step/sec: 903.994\n",
            "INFO:tensorflow:loss = 7.1571813, step = 74100 (0.113 sec)\n",
            "INFO:tensorflow:global_step/sec: 794.91\n",
            "INFO:tensorflow:loss = 13.174704, step = 74200 (0.127 sec)\n",
            "INFO:tensorflow:global_step/sec: 901.351\n",
            "INFO:tensorflow:loss = 7.7699304, step = 74300 (0.108 sec)\n",
            "INFO:tensorflow:global_step/sec: 924.581\n",
            "INFO:tensorflow:loss = 11.279662, step = 74400 (0.107 sec)\n",
            "INFO:tensorflow:global_step/sec: 933.73\n",
            "INFO:tensorflow:loss = 9.606119, step = 74500 (0.111 sec)\n",
            "INFO:tensorflow:global_step/sec: 859.494\n",
            "INFO:tensorflow:loss = 11.049485, step = 74600 (0.114 sec)\n",
            "INFO:tensorflow:global_step/sec: 933.219\n",
            "INFO:tensorflow:loss = 4.118657, step = 74700 (0.106 sec)\n",
            "INFO:tensorflow:global_step/sec: 940.669\n",
            "INFO:tensorflow:loss = 12.514889, step = 74800 (0.108 sec)\n",
            "INFO:tensorflow:global_step/sec: 943.344\n",
            "INFO:tensorflow:loss = 3.1182718, step = 74900 (0.104 sec)\n",
            "INFO:tensorflow:global_step/sec: 913.01\n",
            "INFO:tensorflow:loss = 7.718191, step = 75000 (0.113 sec)\n",
            "INFO:tensorflow:global_step/sec: 826.212\n",
            "INFO:tensorflow:loss = 10.060829, step = 75100 (0.119 sec)\n",
            "INFO:tensorflow:global_step/sec: 960.982\n",
            "INFO:tensorflow:loss = 17.601807, step = 75200 (0.102 sec)\n",
            "INFO:tensorflow:global_step/sec: 886.715\n",
            "INFO:tensorflow:loss = 1.7766923, step = 75300 (0.115 sec)\n",
            "INFO:tensorflow:global_step/sec: 924.257\n",
            "INFO:tensorflow:loss = 6.187354, step = 75400 (0.106 sec)\n",
            "INFO:tensorflow:global_step/sec: 860.596\n",
            "INFO:tensorflow:loss = 20.948761, step = 75500 (0.116 sec)\n",
            "INFO:tensorflow:global_step/sec: 904.481\n",
            "INFO:tensorflow:loss = 15.183739, step = 75600 (0.111 sec)\n",
            "INFO:tensorflow:global_step/sec: 875.725\n",
            "INFO:tensorflow:loss = 6.3920517, step = 75700 (0.114 sec)\n",
            "INFO:tensorflow:global_step/sec: 882.408\n",
            "INFO:tensorflow:loss = 20.569767, step = 75800 (0.113 sec)\n",
            "INFO:tensorflow:global_step/sec: 949.064\n",
            "INFO:tensorflow:loss = 2.6639729, step = 75900 (0.105 sec)\n",
            "INFO:tensorflow:global_step/sec: 811.635\n",
            "INFO:tensorflow:loss = 12.957594, step = 76000 (0.127 sec)\n",
            "INFO:tensorflow:global_step/sec: 886.063\n",
            "INFO:tensorflow:loss = 7.905313, step = 76100 (0.112 sec)\n",
            "INFO:tensorflow:global_step/sec: 901.452\n",
            "INFO:tensorflow:loss = 25.30005, step = 76200 (0.109 sec)\n",
            "INFO:tensorflow:global_step/sec: 957.245\n",
            "INFO:tensorflow:loss = 14.219747, step = 76300 (0.104 sec)\n",
            "INFO:tensorflow:global_step/sec: 908.011\n",
            "INFO:tensorflow:loss = 22.24588, step = 76400 (0.110 sec)\n",
            "INFO:tensorflow:global_step/sec: 846.694\n",
            "INFO:tensorflow:loss = 2.2870517, step = 76500 (0.118 sec)\n",
            "INFO:tensorflow:global_step/sec: 907.699\n",
            "INFO:tensorflow:loss = 20.51014, step = 76600 (0.114 sec)\n",
            "INFO:tensorflow:global_step/sec: 916.892\n",
            "INFO:tensorflow:loss = 39.167152, step = 76700 (0.105 sec)\n",
            "INFO:tensorflow:global_step/sec: 899.534\n",
            "INFO:tensorflow:loss = 8.872658, step = 76800 (0.111 sec)\n",
            "INFO:tensorflow:global_step/sec: 819.366\n",
            "INFO:tensorflow:loss = 10.298394, step = 76900 (0.122 sec)\n",
            "INFO:tensorflow:global_step/sec: 953.374\n",
            "INFO:tensorflow:loss = 17.479776, step = 77000 (0.106 sec)\n",
            "INFO:tensorflow:global_step/sec: 906.541\n",
            "INFO:tensorflow:loss = 13.302572, step = 77100 (0.109 sec)\n",
            "INFO:tensorflow:global_step/sec: 928.214\n",
            "INFO:tensorflow:loss = 3.6541052, step = 77200 (0.107 sec)\n",
            "INFO:tensorflow:global_step/sec: 960.861\n",
            "INFO:tensorflow:loss = 23.553516, step = 77300 (0.104 sec)\n",
            "INFO:tensorflow:global_step/sec: 874.52\n",
            "INFO:tensorflow:loss = 40.79437, step = 77400 (0.116 sec)\n",
            "INFO:tensorflow:global_step/sec: 845.125\n",
            "INFO:tensorflow:loss = 7.762822, step = 77500 (0.117 sec)\n",
            "INFO:tensorflow:global_step/sec: 874.314\n",
            "INFO:tensorflow:loss = 11.50451, step = 77600 (0.114 sec)\n",
            "INFO:tensorflow:global_step/sec: 867.226\n",
            "INFO:tensorflow:loss = 3.3563514, step = 77700 (0.116 sec)\n",
            "INFO:tensorflow:global_step/sec: 818.097\n",
            "INFO:tensorflow:loss = 14.30328, step = 77800 (0.122 sec)\n",
            "INFO:tensorflow:global_step/sec: 805.124\n",
            "INFO:tensorflow:loss = 12.931956, step = 77900 (0.126 sec)\n",
            "INFO:tensorflow:global_step/sec: 874.781\n",
            "INFO:tensorflow:loss = 5.3062234, step = 78000 (0.112 sec)\n",
            "INFO:tensorflow:global_step/sec: 890.098\n",
            "INFO:tensorflow:loss = 11.698071, step = 78100 (0.113 sec)\n",
            "INFO:tensorflow:global_step/sec: 873.102\n",
            "INFO:tensorflow:loss = 3.8454475, step = 78200 (0.115 sec)\n",
            "INFO:tensorflow:global_step/sec: 853.37\n",
            "INFO:tensorflow:loss = 11.750895, step = 78300 (0.116 sec)\n",
            "INFO:tensorflow:global_step/sec: 892.468\n",
            "INFO:tensorflow:loss = 10.061492, step = 78400 (0.112 sec)\n",
            "INFO:tensorflow:global_step/sec: 929.597\n",
            "INFO:tensorflow:loss = 30.573662, step = 78500 (0.108 sec)\n",
            "INFO:tensorflow:global_step/sec: 878.455\n",
            "INFO:tensorflow:loss = 5.313492, step = 78600 (0.114 sec)\n",
            "INFO:tensorflow:global_step/sec: 760.56\n",
            "INFO:tensorflow:loss = 3.4150558, step = 78700 (0.131 sec)\n",
            "INFO:tensorflow:global_step/sec: 866.552\n",
            "INFO:tensorflow:loss = 27.987999, step = 78800 (0.116 sec)\n",
            "INFO:tensorflow:global_step/sec: 915.367\n",
            "INFO:tensorflow:loss = 4.1802645, step = 78900 (0.112 sec)\n",
            "INFO:tensorflow:global_step/sec: 936.103\n",
            "INFO:tensorflow:loss = 16.986061, step = 79000 (0.104 sec)\n",
            "INFO:tensorflow:global_step/sec: 850.268\n",
            "INFO:tensorflow:loss = 10.502787, step = 79100 (0.119 sec)\n",
            "INFO:tensorflow:global_step/sec: 801.316\n",
            "INFO:tensorflow:loss = 27.776474, step = 79200 (0.123 sec)\n",
            "INFO:tensorflow:global_step/sec: 818.018\n",
            "INFO:tensorflow:loss = 19.924225, step = 79300 (0.122 sec)\n",
            "INFO:tensorflow:global_step/sec: 860.495\n",
            "INFO:tensorflow:loss = 9.424786, step = 79400 (0.116 sec)\n",
            "INFO:tensorflow:global_step/sec: 895.18\n",
            "INFO:tensorflow:loss = 33.548786, step = 79500 (0.114 sec)\n",
            "INFO:tensorflow:global_step/sec: 775.933\n",
            "INFO:tensorflow:loss = 32.603817, step = 79600 (0.127 sec)\n",
            "INFO:tensorflow:global_step/sec: 927.576\n",
            "INFO:tensorflow:loss = 10.396673, step = 79700 (0.109 sec)\n",
            "INFO:tensorflow:global_step/sec: 867.824\n",
            "INFO:tensorflow:loss = 6.1293726, step = 79800 (0.114 sec)\n",
            "INFO:tensorflow:global_step/sec: 826.207\n",
            "INFO:tensorflow:loss = 7.7817607, step = 79900 (0.121 sec)\n",
            "INFO:tensorflow:Calling checkpoint listeners before saving checkpoint 80000...\n",
            "INFO:tensorflow:Saving checkpoints for 80000 into models/autompg-dnnregressor/model.ckpt.\n",
            "INFO:tensorflow:Calling checkpoint listeners after saving checkpoint 80000...\n",
            "INFO:tensorflow:Loss for final step: 5.819331.\n"
          ]
        },
        {
          "output_type": "execute_result",
          "data": {
            "text/plain": [
              "<tensorflow_estimator.python.estimator.canned.dnn.DNNRegressorV2 at 0x7fc16c3cb8d0>"
            ]
          },
          "metadata": {},
          "execution_count": 16
        }
      ]
    },
    {
      "cell_type": "markdown",
      "source": [
        ".train()을 호출하면 자동으로 모델 훈련하는 과정동안 체크포인트를 저장한다. 이후 마지막 체크포인트를 다시 불러올 수 있다."
      ],
      "metadata": {
        "id": "V3JWtGwwUBAB"
      }
    },
    {
      "cell_type": "code",
      "source": [
        "reloaded_regressor = tf.estimator.DNNRegressor(\n",
        "    feature_columns=all_feature_columns,\n",
        "    hidden_units=[32, 10],\n",
        "    warm_start_from='models/autompg-dnnregressor/',\n",
        "    model_dir='models/autompg-dnnregressor/')"
      ],
      "metadata": {
        "colab": {
          "base_uri": "https://localhost:8080/"
        },
        "id": "KUFR1iZyUHwy",
        "outputId": "2fd873ae-6d62-462f-932a-a04d73520ff7"
      },
      "execution_count": 17,
      "outputs": [
        {
          "output_type": "stream",
          "name": "stdout",
          "text": [
            "INFO:tensorflow:Using default config.\n",
            "INFO:tensorflow:Using config: {'_model_dir': 'models/autompg-dnnregressor/', '_tf_random_seed': None, '_save_summary_steps': 100, '_save_checkpoints_steps': None, '_save_checkpoints_secs': 600, '_session_config': allow_soft_placement: true\n",
            "graph_options {\n",
            "  rewrite_options {\n",
            "    meta_optimizer_iterations: ONE\n",
            "  }\n",
            "}\n",
            ", '_keep_checkpoint_max': 5, '_keep_checkpoint_every_n_hours': 10000, '_log_step_count_steps': 100, '_train_distribute': None, '_device_fn': None, '_protocol': None, '_eval_distribute': None, '_experimental_distribute': None, '_experimental_max_worker_delay_secs': None, '_session_creation_timeout_secs': 7200, '_checkpoint_save_graph_def': True, '_service': None, '_cluster_spec': ClusterSpec({}), '_task_type': 'worker', '_task_id': 0, '_global_id_in_cluster': 0, '_master': '', '_evaluation_master': '', '_is_chief': True, '_num_ps_replicas': 0, '_num_worker_replicas': 1}\n"
          ]
        }
      ]
    },
    {
      "cell_type": "markdown",
      "source": [
        "그 다음 훈련된 모델의 성능을 위해 evaluate() 메서드를 사용할 수 있다."
      ],
      "metadata": {
        "id": "hXBETfjHUY-5"
      }
    },
    {
      "cell_type": "code",
      "source": [
        "# 모델을 훈련하고 나서 평가할 때 사용할 테스트 데이터셋을 위한 입력 함수 정의\n",
        "def eval_input_fn(df_test, batch_size=8):\n",
        "    df = df_test.copy()\n",
        "    test_x, test_y = df, df.pop('MPG')\n",
        "    dataset = tf.data.Dataset.from_tensor_slices((dict(test_x), test_y))\n",
        "    return dataset.batch(batch_size)"
      ],
      "metadata": {
        "id": "L3VD88l8PqPp"
      },
      "execution_count": 18,
      "outputs": []
    },
    {
      "cell_type": "code",
      "source": [
        "eval_results = reloaded_regressor.evaluate(\n",
        "    input_fn=lambda:eval_input_fn(df_test_norm, batch_size=8))\n",
        "\n",
        "for key in eval_results:\n",
        "    print('{:15s} {}'.format(key, eval_results[key]))\n",
        "    \n",
        "print('평균 손실 {:.4f}'.format(eval_results['average_loss']))"
      ],
      "metadata": {
        "colab": {
          "base_uri": "https://localhost:8080/"
        },
        "id": "KcggUo_aUlmp",
        "outputId": "1005a21f-6d9a-489b-a966-8a45476e3bf6"
      },
      "execution_count": 19,
      "outputs": [
        {
          "output_type": "stream",
          "name": "stdout",
          "text": [
            "INFO:tensorflow:Calling model_fn.\n",
            "INFO:tensorflow:Done calling model_fn.\n",
            "INFO:tensorflow:Starting evaluation at 2022-02-09T17:33:10\n",
            "INFO:tensorflow:Graph was finalized.\n",
            "INFO:tensorflow:Restoring parameters from models/autompg-dnnregressor/model.ckpt-80000\n",
            "INFO:tensorflow:Running local_init_op.\n",
            "INFO:tensorflow:Done running local_init_op.\n",
            "INFO:tensorflow:Inference Time : 0.88494s\n",
            "INFO:tensorflow:Finished evaluation at 2022-02-09-17:33:11\n",
            "INFO:tensorflow:Saving dict for global step 80000: average_loss = 11.735458, global_step = 80000, label/mean = 23.956963, loss = 11.722942, prediction/mean = 23.347618\n",
            "INFO:tensorflow:Saving 'checkpoint_path' summary for global step 80000: models/autompg-dnnregressor/model.ckpt-80000\n",
            "average_loss    11.735458374023438\n",
            "label/mean      23.95696258544922\n",
            "loss            11.722942352294922\n",
            "prediction/mean 23.347618103027344\n",
            "global_step     80000\n",
            "평균 손실 11.7355\n"
          ]
        }
      ]
    },
    {
      "cell_type": "markdown",
      "source": [
        "마지막으로 새로운 데이터 포인트의 타깃값을 예측하기 위해 predict() 메서드를 사용한다.\n",
        "\n",
        "실전에서 예측할 때는 입력 함수가 특성만 들어 있는 데이터셋을 반환한다. 새 데이터의 레이블은 구할 수 없다고 가정하기 때문이다."
      ],
      "metadata": {
        "id": "9JleFmiIVAih"
      }
    },
    {
      "cell_type": "code",
      "source": [
        "# 동일 입력 함수를 사용하여 각 샘플 예측\n",
        "pred_res = regressor.predict(\n",
        "    input_fn=lambda: eval_input_fn(\n",
        "        df_test_norm, batch_size=8))\n",
        "print(next(iter(pred_res)))"
      ],
      "metadata": {
        "colab": {
          "base_uri": "https://localhost:8080/"
        },
        "id": "r4D5rN_XV34Z",
        "outputId": "db0927bd-a295-47f2-dc3c-d3141b4bd6d9"
      },
      "execution_count": 20,
      "outputs": [
        {
          "output_type": "stream",
          "name": "stdout",
          "text": [
            "INFO:tensorflow:Calling model_fn.\n",
            "INFO:tensorflow:Done calling model_fn.\n",
            "INFO:tensorflow:Graph was finalized.\n",
            "INFO:tensorflow:Restoring parameters from models/autompg-dnnregressor/model.ckpt-80000\n",
            "INFO:tensorflow:Running local_init_op.\n",
            "INFO:tensorflow:Done running local_init_op.\n",
            "{'predictions': array([17.716055], dtype=float32)}\n"
          ]
        }
      ]
    },
    {
      "cell_type": "markdown",
      "source": [
        "* 부스티드 트리 회귀 모델\n",
        "    * `tf.estimator.BoostedTreesRegressor`"
      ],
      "metadata": {
        "id": "f3HWWzDYWIRI"
      }
    },
    {
      "cell_type": "code",
      "source": [
        "boosted_tree = tf.estimator.BoostedTreesRegressor(\n",
        "    feature_columns=all_feature_columns,\n",
        "    n_batches_per_layer=20,\n",
        "    n_trees=200) # 200개의 트리\n",
        "\n",
        "boosted_tree.train(\n",
        "    input_fn=lambda: train_input_fn(df_train_norm, batch_size=BATCH_SIZE))\n",
        "\n",
        "eval_results = boosted_tree.evaluate(\n",
        "    input_fn=lambda: eval_input_fn(df_test_norm, batch_size=8))\n",
        "\n",
        "print(eval_results)\n",
        "print('평균 손실 {:.4f}'.format(eval_results['average_loss']))"
      ],
      "metadata": {
        "colab": {
          "base_uri": "https://localhost:8080/"
        },
        "id": "1323o2TEWYDS",
        "outputId": "f3b621dd-1feb-488f-85d4-7fe95376b076"
      },
      "execution_count": 21,
      "outputs": [
        {
          "output_type": "stream",
          "name": "stdout",
          "text": [
            "INFO:tensorflow:Using default config.\n",
            "WARNING:tensorflow:Using temporary folder as model directory: /tmp/tmp19faiosg\n",
            "INFO:tensorflow:Using config: {'_model_dir': '/tmp/tmp19faiosg', '_tf_random_seed': None, '_save_summary_steps': 100, '_save_checkpoints_steps': None, '_save_checkpoints_secs': 600, '_session_config': allow_soft_placement: true\n",
            "graph_options {\n",
            "  rewrite_options {\n",
            "    meta_optimizer_iterations: ONE\n",
            "  }\n",
            "}\n",
            ", '_keep_checkpoint_max': 5, '_keep_checkpoint_every_n_hours': 10000, '_log_step_count_steps': 100, '_train_distribute': None, '_device_fn': None, '_protocol': None, '_eval_distribute': None, '_experimental_distribute': None, '_experimental_max_worker_delay_secs': None, '_session_creation_timeout_secs': 7200, '_checkpoint_save_graph_def': True, '_service': None, '_cluster_spec': ClusterSpec({}), '_task_type': 'worker', '_task_id': 0, '_global_id_in_cluster': 0, '_master': '', '_evaluation_master': '', '_is_chief': True, '_num_ps_replicas': 0, '_num_worker_replicas': 1}\n",
            "WARNING:tensorflow:From /usr/local/lib/python3.7/dist-packages/tensorflow_estimator/python/estimator/canned/boosted_trees.py:397: VocabularyListCategoricalColumn._num_buckets (from tensorflow.python.feature_column.feature_column_v2) is deprecated and will be removed in a future version.\n",
            "Instructions for updating:\n",
            "The old _FeatureColumn APIs are being deprecated. Please use the new FeatureColumn APIs instead.\n",
            "INFO:tensorflow:Calling model_fn.\n",
            "INFO:tensorflow:Done calling model_fn.\n",
            "INFO:tensorflow:Create CheckpointSaverHook.\n",
            "WARNING:tensorflow:Issue encountered when serializing resources.\n",
            "Type is unsupported, or the types of the items don't match field type in CollectionDef. Note this is a warning and probably safe to ignore.\n",
            "'_Resource' object has no attribute 'name'\n",
            "INFO:tensorflow:Graph was finalized.\n",
            "INFO:tensorflow:Running local_init_op.\n",
            "INFO:tensorflow:Done running local_init_op.\n",
            "WARNING:tensorflow:Issue encountered when serializing resources.\n",
            "Type is unsupported, or the types of the items don't match field type in CollectionDef. Note this is a warning and probably safe to ignore.\n",
            "'_Resource' object has no attribute 'name'\n",
            "INFO:tensorflow:Calling checkpoint listeners before saving checkpoint 0...\n",
            "INFO:tensorflow:Saving checkpoints for 0 into /tmp/tmp19faiosg/model.ckpt.\n",
            "WARNING:tensorflow:Issue encountered when serializing resources.\n",
            "Type is unsupported, or the types of the items don't match field type in CollectionDef. Note this is a warning and probably safe to ignore.\n",
            "'_Resource' object has no attribute 'name'\n",
            "INFO:tensorflow:Calling checkpoint listeners after saving checkpoint 0...\n",
            "INFO:tensorflow:loss = 808.085, step = 0\n",
            "INFO:tensorflow:loss = 278.37595, step = 80 (0.376 sec)\n",
            "INFO:tensorflow:global_step/sec: 189.28\n",
            "INFO:tensorflow:loss = 82.7928, step = 180 (0.289 sec)\n",
            "INFO:tensorflow:global_step/sec: 576.442\n",
            "INFO:tensorflow:loss = 57.092785, step = 280 (0.163 sec)\n",
            "INFO:tensorflow:global_step/sec: 609.929\n",
            "INFO:tensorflow:loss = 14.857172, step = 380 (0.172 sec)\n",
            "INFO:tensorflow:global_step/sec: 593.899\n",
            "INFO:tensorflow:loss = 4.5523014, step = 480 (0.172 sec)\n",
            "INFO:tensorflow:global_step/sec: 553.676\n",
            "INFO:tensorflow:loss = 2.4242783, step = 580 (0.193 sec)\n",
            "INFO:tensorflow:global_step/sec: 535.919\n",
            "INFO:tensorflow:loss = 1.8756676, step = 680 (0.166 sec)\n",
            "INFO:tensorflow:global_step/sec: 600.814\n",
            "INFO:tensorflow:loss = 4.9006176, step = 780 (0.183 sec)\n",
            "INFO:tensorflow:global_step/sec: 552.318\n",
            "INFO:tensorflow:loss = 2.8039196, step = 880 (0.185 sec)\n",
            "INFO:tensorflow:global_step/sec: 524.217\n",
            "INFO:tensorflow:loss = 2.814806, step = 980 (0.213 sec)\n",
            "INFO:tensorflow:global_step/sec: 474.326\n",
            "INFO:tensorflow:loss = 2.2719283, step = 1080 (0.199 sec)\n",
            "INFO:tensorflow:global_step/sec: 514.617\n",
            "INFO:tensorflow:loss = 2.3248153, step = 1180 (0.182 sec)\n",
            "INFO:tensorflow:global_step/sec: 529.625\n",
            "INFO:tensorflow:loss = 4.1527653, step = 1280 (0.161 sec)\n",
            "INFO:tensorflow:global_step/sec: 620.675\n",
            "INFO:tensorflow:loss = 0.4403648, step = 1380 (0.169 sec)\n",
            "INFO:tensorflow:global_step/sec: 564.339\n",
            "INFO:tensorflow:loss = 2.964148, step = 1480 (0.181 sec)\n",
            "INFO:tensorflow:global_step/sec: 579.798\n",
            "INFO:tensorflow:loss = 3.6866355, step = 1580 (0.176 sec)\n",
            "INFO:tensorflow:global_step/sec: 577.601\n",
            "INFO:tensorflow:loss = 2.6010046, step = 1680 (0.175 sec)\n",
            "INFO:tensorflow:global_step/sec: 572.081\n",
            "INFO:tensorflow:loss = 1.8172269, step = 1780 (0.167 sec)\n",
            "INFO:tensorflow:global_step/sec: 579.655\n",
            "INFO:tensorflow:loss = 1.4136281, step = 1880 (0.175 sec)\n",
            "INFO:tensorflow:global_step/sec: 592.45\n",
            "INFO:tensorflow:loss = 4.7330556, step = 1980 (0.169 sec)\n",
            "INFO:tensorflow:global_step/sec: 598.264\n",
            "INFO:tensorflow:loss = 2.2660182, step = 2080 (0.167 sec)\n",
            "INFO:tensorflow:global_step/sec: 583.233\n",
            "INFO:tensorflow:loss = 0.38678747, step = 2180 (0.165 sec)\n",
            "INFO:tensorflow:global_step/sec: 612.625\n",
            "INFO:tensorflow:loss = 2.1133575, step = 2280 (0.191 sec)\n",
            "INFO:tensorflow:global_step/sec: 524.064\n",
            "INFO:tensorflow:loss = 0.6875601, step = 2380 (0.179 sec)\n",
            "INFO:tensorflow:global_step/sec: 550.794\n",
            "INFO:tensorflow:loss = 0.44240662, step = 2480 (0.171 sec)\n",
            "INFO:tensorflow:global_step/sec: 576.54\n",
            "INFO:tensorflow:loss = 0.22341256, step = 2580 (0.184 sec)\n",
            "INFO:tensorflow:global_step/sec: 542.964\n",
            "INFO:tensorflow:loss = 0.26032445, step = 2680 (0.179 sec)\n",
            "INFO:tensorflow:global_step/sec: 556.329\n",
            "INFO:tensorflow:loss = 0.7855061, step = 2780 (0.180 sec)\n",
            "INFO:tensorflow:global_step/sec: 562.045\n",
            "INFO:tensorflow:loss = 1.1465926, step = 2880 (0.182 sec)\n",
            "INFO:tensorflow:global_step/sec: 558.558\n",
            "INFO:tensorflow:loss = 0.69394934, step = 2980 (0.188 sec)\n",
            "INFO:tensorflow:global_step/sec: 512.964\n",
            "INFO:tensorflow:loss = 0.5352085, step = 3080 (0.197 sec)\n",
            "INFO:tensorflow:global_step/sec: 506.204\n",
            "INFO:tensorflow:loss = 0.38615254, step = 3180 (0.211 sec)\n",
            "INFO:tensorflow:global_step/sec: 475.703\n",
            "INFO:tensorflow:loss = 0.75903845, step = 3280 (0.184 sec)\n",
            "INFO:tensorflow:global_step/sec: 530.895\n",
            "INFO:tensorflow:loss = 2.059203, step = 3380 (0.198 sec)\n",
            "INFO:tensorflow:global_step/sec: 542.237\n",
            "INFO:tensorflow:loss = 1.117454, step = 3480 (0.179 sec)\n",
            "INFO:tensorflow:global_step/sec: 553.913\n",
            "INFO:tensorflow:loss = 1.3275721, step = 3580 (0.171 sec)\n",
            "INFO:tensorflow:global_step/sec: 574.865\n",
            "INFO:tensorflow:loss = 0.40912777, step = 3680 (0.179 sec)\n",
            "INFO:tensorflow:global_step/sec: 564.209\n",
            "INFO:tensorflow:loss = 1.3500658, step = 3780 (0.209 sec)\n",
            "INFO:tensorflow:global_step/sec: 420.736\n",
            "INFO:tensorflow:loss = 0.7981945, step = 3880 (0.351 sec)\n",
            "INFO:tensorflow:global_step/sec: 302.866\n",
            "INFO:tensorflow:loss = 0.36521468, step = 3980 (0.198 sec)\n",
            "INFO:tensorflow:global_step/sec: 477.327\n",
            "INFO:tensorflow:loss = 1.0760916, step = 4080 (0.311 sec)\n",
            "INFO:tensorflow:global_step/sec: 314.4\n",
            "INFO:tensorflow:loss = 0.64152896, step = 4180 (0.335 sec)\n",
            "INFO:tensorflow:global_step/sec: 285.216\n",
            "INFO:tensorflow:loss = 0.44378388, step = 4280 (0.328 sec)\n",
            "INFO:tensorflow:global_step/sec: 345.322\n",
            "INFO:tensorflow:loss = 0.43494466, step = 4380 (0.183 sec)\n",
            "INFO:tensorflow:global_step/sec: 487.259\n",
            "INFO:tensorflow:loss = 1.042425, step = 4480 (0.444 sec)\n",
            "INFO:tensorflow:global_step/sec: 212.257\n",
            "INFO:tensorflow:loss = 0.24771252, step = 4580 (0.433 sec)\n",
            "INFO:tensorflow:global_step/sec: 239.944\n",
            "INFO:tensorflow:loss = 0.5256786, step = 4680 (0.444 sec)\n",
            "INFO:tensorflow:global_step/sec: 219.667\n",
            "INFO:tensorflow:loss = 0.20244297, step = 4780 (0.439 sec)\n",
            "INFO:tensorflow:global_step/sec: 215.138\n",
            "INFO:tensorflow:loss = 0.3400452, step = 4880 (0.550 sec)\n",
            "INFO:tensorflow:global_step/sec: 185.875\n",
            "INFO:tensorflow:loss = 0.16580632, step = 4980 (0.452 sec)\n",
            "INFO:tensorflow:global_step/sec: 222.234\n",
            "INFO:tensorflow:loss = 0.2015855, step = 5080 (0.493 sec)\n",
            "INFO:tensorflow:global_step/sec: 202.432\n",
            "INFO:tensorflow:loss = 0.595395, step = 5180 (0.508 sec)\n",
            "INFO:tensorflow:global_step/sec: 207.699\n",
            "INFO:tensorflow:loss = 0.56254894, step = 5280 (0.360 sec)\n",
            "INFO:tensorflow:global_step/sec: 283.432\n",
            "INFO:tensorflow:loss = 0.20814511, step = 5380 (0.313 sec)\n",
            "INFO:tensorflow:global_step/sec: 317.675\n",
            "INFO:tensorflow:loss = 0.20222309, step = 5480 (0.366 sec)\n",
            "INFO:tensorflow:global_step/sec: 265.703\n",
            "INFO:tensorflow:loss = 0.23233113, step = 5580 (0.397 sec)\n",
            "INFO:tensorflow:global_step/sec: 257.961\n",
            "INFO:tensorflow:loss = 0.21132392, step = 5680 (0.487 sec)\n",
            "INFO:tensorflow:global_step/sec: 202.449\n",
            "INFO:tensorflow:loss = 0.29736185, step = 5780 (0.330 sec)\n",
            "INFO:tensorflow:global_step/sec: 317.072\n",
            "INFO:tensorflow:loss = 0.26622707, step = 5880 (0.317 sec)\n",
            "INFO:tensorflow:global_step/sec: 297.407\n",
            "INFO:tensorflow:loss = 0.2390211, step = 5980 (0.330 sec)\n",
            "INFO:tensorflow:global_step/sec: 303.027\n",
            "INFO:tensorflow:loss = 0.16547024, step = 6080 (0.341 sec)\n",
            "INFO:tensorflow:global_step/sec: 292.452\n",
            "INFO:tensorflow:loss = 0.24473329, step = 6180 (0.390 sec)\n",
            "INFO:tensorflow:global_step/sec: 254.785\n",
            "INFO:tensorflow:loss = 0.18231133, step = 6280 (0.416 sec)\n",
            "INFO:tensorflow:global_step/sec: 253.255\n",
            "INFO:tensorflow:loss = 0.22518492, step = 6380 (0.316 sec)\n",
            "INFO:tensorflow:global_step/sec: 298.269\n",
            "INFO:tensorflow:loss = 0.28366473, step = 6480 (0.440 sec)\n",
            "INFO:tensorflow:global_step/sec: 238.344\n",
            "INFO:tensorflow:loss = 0.08428571, step = 6580 (0.318 sec)\n",
            "INFO:tensorflow:global_step/sec: 298.751\n",
            "INFO:tensorflow:loss = 0.067964934, step = 6680 (0.319 sec)\n",
            "INFO:tensorflow:global_step/sec: 320.028\n",
            "INFO:tensorflow:loss = 0.061086677, step = 6780 (0.333 sec)\n",
            "INFO:tensorflow:global_step/sec: 302.567\n",
            "INFO:tensorflow:loss = 0.06172674, step = 6880 (0.377 sec)\n",
            "INFO:tensorflow:global_step/sec: 243.927\n",
            "INFO:tensorflow:loss = 0.079025164, step = 6980 (0.393 sec)\n",
            "INFO:tensorflow:global_step/sec: 273.053\n",
            "INFO:tensorflow:loss = 0.14226979, step = 7080 (0.329 sec)\n",
            "INFO:tensorflow:global_step/sec: 314.73\n",
            "INFO:tensorflow:loss = 0.14477217, step = 7180 (0.362 sec)\n",
            "INFO:tensorflow:global_step/sec: 272.1\n",
            "INFO:tensorflow:loss = 0.22286233, step = 7280 (0.323 sec)\n",
            "INFO:tensorflow:global_step/sec: 290.977\n",
            "INFO:tensorflow:loss = 0.10032374, step = 7380 (0.375 sec)\n",
            "INFO:tensorflow:global_step/sec: 286.32\n",
            "INFO:tensorflow:loss = 0.06621539, step = 7480 (0.307 sec)\n",
            "INFO:tensorflow:global_step/sec: 309.504\n",
            "INFO:tensorflow:loss = 0.18808763, step = 7580 (0.335 sec)\n",
            "INFO:tensorflow:global_step/sec: 323.181\n",
            "INFO:tensorflow:loss = 0.1383781, step = 7680 (0.373 sec)\n",
            "INFO:tensorflow:global_step/sec: 267.211\n",
            "INFO:tensorflow:loss = 0.06491505, step = 7780 (0.299 sec)\n",
            "INFO:tensorflow:global_step/sec: 332.263\n",
            "INFO:tensorflow:loss = 0.09889295, step = 7880 (0.380 sec)\n",
            "INFO:tensorflow:global_step/sec: 257.909\n",
            "INFO:tensorflow:loss = 0.11923313, step = 7980 (0.311 sec)\n",
            "INFO:tensorflow:global_step/sec: 323.578\n",
            "INFO:tensorflow:loss = 0.11812715, step = 8080 (0.332 sec)\n",
            "INFO:tensorflow:global_step/sec: 292.991\n",
            "INFO:tensorflow:loss = 0.14744578, step = 8180 (0.402 sec)\n",
            "INFO:tensorflow:global_step/sec: 242.407\n",
            "INFO:tensorflow:loss = 0.017524801, step = 8280 (0.356 sec)\n",
            "INFO:tensorflow:global_step/sec: 298.602\n",
            "INFO:tensorflow:loss = 0.05898455, step = 8380 (0.328 sec)\n",
            "INFO:tensorflow:global_step/sec: 298.301\n",
            "INFO:tensorflow:loss = 0.059128217, step = 8480 (0.322 sec)\n",
            "INFO:tensorflow:global_step/sec: 323.571\n",
            "INFO:tensorflow:loss = 0.09726619, step = 8580 (0.319 sec)\n",
            "INFO:tensorflow:global_step/sec: 288.401\n",
            "INFO:tensorflow:loss = 0.07381728, step = 8680 (0.382 sec)\n",
            "INFO:tensorflow:global_step/sec: 280.634\n",
            "INFO:tensorflow:loss = 0.08562928, step = 8780 (0.314 sec)\n",
            "INFO:tensorflow:global_step/sec: 294.386\n",
            "INFO:tensorflow:loss = 0.075211726, step = 8880 (0.386 sec)\n",
            "INFO:tensorflow:global_step/sec: 270.557\n",
            "INFO:tensorflow:loss = 0.056318358, step = 8980 (0.250 sec)\n",
            "INFO:tensorflow:global_step/sec: 409.648\n",
            "INFO:tensorflow:loss = 0.042859726, step = 9080 (0.349 sec)\n",
            "INFO:tensorflow:global_step/sec: 273.375\n",
            "INFO:tensorflow:loss = 0.11047806, step = 9180 (0.340 sec)\n",
            "INFO:tensorflow:global_step/sec: 288.762\n",
            "INFO:tensorflow:loss = 0.027537376, step = 9280 (0.404 sec)\n",
            "INFO:tensorflow:global_step/sec: 252.436\n",
            "INFO:tensorflow:loss = 0.019846652, step = 9380 (0.367 sec)\n",
            "INFO:tensorflow:global_step/sec: 285.588\n",
            "INFO:tensorflow:loss = 0.031543575, step = 9480 (0.286 sec)\n",
            "INFO:tensorflow:global_step/sec: 349.41\n",
            "INFO:tensorflow:loss = 0.07891508, step = 9580 (0.277 sec)\n",
            "INFO:tensorflow:global_step/sec: 339.2\n",
            "INFO:tensorflow:loss = 0.029041305, step = 9680 (0.337 sec)\n",
            "INFO:tensorflow:global_step/sec: 307.049\n",
            "INFO:tensorflow:loss = 0.04646505, step = 9780 (0.352 sec)\n",
            "INFO:tensorflow:global_step/sec: 274.881\n",
            "INFO:tensorflow:loss = 0.064165525, step = 9880 (0.369 sec)\n",
            "INFO:tensorflow:global_step/sec: 280.22\n",
            "INFO:tensorflow:loss = 0.07138078, step = 9980 (0.363 sec)\n",
            "INFO:tensorflow:global_step/sec: 266.253\n",
            "INFO:tensorflow:loss = 0.012633194, step = 10080 (0.372 sec)\n",
            "INFO:tensorflow:global_step/sec: 277.085\n",
            "INFO:tensorflow:loss = 0.02772204, step = 10180 (0.311 sec)\n",
            "INFO:tensorflow:global_step/sec: 320.78\n",
            "INFO:tensorflow:loss = 0.034211684, step = 10280 (0.329 sec)\n",
            "INFO:tensorflow:global_step/sec: 275.393\n",
            "INFO:tensorflow:loss = 0.008987392, step = 10380 (0.481 sec)\n",
            "INFO:tensorflow:global_step/sec: 195.299\n",
            "INFO:tensorflow:loss = 0.0464515, step = 10480 (0.641 sec)\n",
            "INFO:tensorflow:global_step/sec: 163.322\n",
            "INFO:tensorflow:loss = 0.016009359, step = 10580 (0.509 sec)\n",
            "INFO:tensorflow:global_step/sec: 201.334\n",
            "INFO:tensorflow:loss = 0.029441666, step = 10680 (0.448 sec)\n",
            "INFO:tensorflow:global_step/sec: 235.342\n",
            "INFO:tensorflow:loss = 0.040905923, step = 10780 (0.361 sec)\n",
            "INFO:tensorflow:global_step/sec: 270.212\n",
            "INFO:tensorflow:loss = 0.033992223, step = 10880 (0.363 sec)\n",
            "INFO:tensorflow:global_step/sec: 285.006\n",
            "INFO:tensorflow:loss = 0.041038927, step = 10980 (0.338 sec)\n",
            "INFO:tensorflow:global_step/sec: 287.865\n",
            "INFO:tensorflow:loss = 0.04387381, step = 11080 (0.335 sec)\n",
            "INFO:tensorflow:global_step/sec: 318.215\n",
            "INFO:tensorflow:loss = 0.029466033, step = 11180 (0.293 sec)\n",
            "INFO:tensorflow:global_step/sec: 334.582\n",
            "INFO:tensorflow:loss = 0.009362564, step = 11280 (0.350 sec)\n",
            "INFO:tensorflow:global_step/sec: 276.509\n",
            "INFO:tensorflow:loss = 0.013182465, step = 11380 (0.310 sec)\n",
            "INFO:tensorflow:global_step/sec: 350.827\n",
            "INFO:tensorflow:loss = 0.055292003, step = 11480 (0.204 sec)\n",
            "INFO:tensorflow:global_step/sec: 449.428\n",
            "INFO:tensorflow:loss = 0.01706373, step = 11580 (0.228 sec)\n",
            "INFO:tensorflow:global_step/sec: 493.33\n",
            "INFO:tensorflow:loss = 0.01495193, step = 11680 (0.224 sec)\n",
            "INFO:tensorflow:global_step/sec: 446.536\n",
            "INFO:tensorflow:loss = 0.034173194, step = 11780 (0.234 sec)\n",
            "INFO:tensorflow:global_step/sec: 407.501\n",
            "INFO:tensorflow:loss = 0.0124680055, step = 11880 (0.243 sec)\n",
            "INFO:tensorflow:global_step/sec: 426.854\n",
            "INFO:tensorflow:loss = 0.016863875, step = 11980 (0.219 sec)\n",
            "INFO:tensorflow:global_step/sec: 437.592\n",
            "INFO:tensorflow:loss = 0.012180692, step = 12080 (0.224 sec)\n",
            "INFO:tensorflow:global_step/sec: 451.962\n",
            "INFO:tensorflow:loss = 0.0031481348, step = 12180 (0.240 sec)\n",
            "INFO:tensorflow:global_step/sec: 423.598\n",
            "INFO:tensorflow:loss = 0.01578417, step = 12280 (0.208 sec)\n",
            "INFO:tensorflow:global_step/sec: 498.293\n",
            "INFO:tensorflow:loss = 0.0056534195, step = 12380 (0.216 sec)\n",
            "INFO:tensorflow:global_step/sec: 422.367\n",
            "INFO:tensorflow:loss = 0.022915151, step = 12480 (0.258 sec)\n",
            "INFO:tensorflow:global_step/sec: 403.331\n",
            "INFO:tensorflow:loss = 0.006118024, step = 12580 (0.234 sec)\n",
            "INFO:tensorflow:global_step/sec: 424.095\n",
            "INFO:tensorflow:loss = 0.017294113, step = 12680 (0.232 sec)\n",
            "INFO:tensorflow:global_step/sec: 439.883\n",
            "INFO:tensorflow:loss = 0.028307967, step = 12780 (0.229 sec)\n",
            "INFO:tensorflow:global_step/sec: 432.743\n",
            "INFO:tensorflow:loss = 0.011612136, step = 12880 (0.255 sec)\n",
            "INFO:tensorflow:global_step/sec: 390.59\n",
            "INFO:tensorflow:loss = 0.011231236, step = 12980 (0.241 sec)\n",
            "INFO:tensorflow:global_step/sec: 405.082\n",
            "INFO:tensorflow:loss = 0.016209614, step = 13080 (0.232 sec)\n",
            "INFO:tensorflow:global_step/sec: 449.579\n",
            "INFO:tensorflow:loss = 0.008985835, step = 13180 (0.236 sec)\n",
            "INFO:tensorflow:global_step/sec: 424.099\n",
            "INFO:tensorflow:loss = 0.014758484, step = 13280 (0.234 sec)\n",
            "INFO:tensorflow:global_step/sec: 425.111\n",
            "INFO:tensorflow:loss = 0.01586141, step = 13380 (0.219 sec)\n",
            "INFO:tensorflow:global_step/sec: 459.021\n",
            "INFO:tensorflow:loss = 0.009277513, step = 13480 (0.216 sec)\n",
            "INFO:tensorflow:global_step/sec: 454.89\n",
            "INFO:tensorflow:loss = 0.0013966337, step = 13580 (0.226 sec)\n",
            "INFO:tensorflow:global_step/sec: 450.345\n",
            "INFO:tensorflow:loss = 0.015776493, step = 13680 (0.234 sec)\n",
            "INFO:tensorflow:global_step/sec: 404.144\n",
            "INFO:tensorflow:loss = 0.021360094, step = 13780 (0.260 sec)\n",
            "INFO:tensorflow:global_step/sec: 376.138\n",
            "INFO:tensorflow:loss = 0.0044931686, step = 13880 (0.263 sec)\n",
            "INFO:tensorflow:global_step/sec: 412.137\n",
            "INFO:tensorflow:loss = 0.0072658015, step = 13980 (0.217 sec)\n",
            "INFO:tensorflow:global_step/sec: 449.182\n",
            "INFO:tensorflow:loss = 0.0030752588, step = 14080 (0.246 sec)\n",
            "INFO:tensorflow:global_step/sec: 409.514\n",
            "INFO:tensorflow:loss = 0.007161293, step = 14180 (0.240 sec)\n",
            "INFO:tensorflow:global_step/sec: 419.805\n",
            "INFO:tensorflow:loss = 0.008278675, step = 14280 (0.248 sec)\n",
            "INFO:tensorflow:global_step/sec: 399.284\n",
            "INFO:tensorflow:loss = 0.0058998503, step = 14380 (0.232 sec)\n",
            "INFO:tensorflow:global_step/sec: 429.111\n",
            "INFO:tensorflow:loss = 0.0131113175, step = 14480 (0.236 sec)\n",
            "INFO:tensorflow:global_step/sec: 418.733\n",
            "INFO:tensorflow:loss = 0.007418564, step = 14580 (0.250 sec)\n",
            "INFO:tensorflow:global_step/sec: 412.646\n",
            "INFO:tensorflow:loss = 0.007700704, step = 14680 (0.237 sec)\n",
            "INFO:tensorflow:global_step/sec: 425.202\n",
            "INFO:tensorflow:loss = 0.0325836, step = 14780 (0.219 sec)\n",
            "INFO:tensorflow:global_step/sec: 455.539\n",
            "INFO:tensorflow:loss = 0.006946505, step = 14880 (0.218 sec)\n",
            "INFO:tensorflow:global_step/sec: 455.296\n",
            "INFO:tensorflow:loss = 0.008411553, step = 14980 (0.224 sec)\n",
            "INFO:tensorflow:global_step/sec: 420.407\n",
            "INFO:tensorflow:loss = 0.007815964, step = 15080 (0.238 sec)\n",
            "INFO:tensorflow:global_step/sec: 432.871\n",
            "INFO:tensorflow:loss = 0.005641028, step = 15180 (0.256 sec)\n",
            "INFO:tensorflow:global_step/sec: 391.194\n",
            "INFO:tensorflow:loss = 0.00075891323, step = 15280 (0.273 sec)\n",
            "INFO:tensorflow:global_step/sec: 366.322\n",
            "INFO:tensorflow:loss = 0.006197583, step = 15380 (0.267 sec)\n",
            "INFO:tensorflow:global_step/sec: 364.047\n",
            "INFO:tensorflow:loss = 0.0043729655, step = 15480 (0.252 sec)\n",
            "INFO:tensorflow:global_step/sec: 418.057\n",
            "INFO:tensorflow:loss = 0.0033811275, step = 15580 (0.248 sec)\n",
            "INFO:tensorflow:global_step/sec: 395.639\n",
            "INFO:tensorflow:loss = 0.053549264, step = 15680 (0.242 sec)\n",
            "INFO:tensorflow:global_step/sec: 402.164\n",
            "INFO:tensorflow:loss = 0.004864582, step = 15780 (0.272 sec)\n",
            "INFO:tensorflow:global_step/sec: 370.857\n",
            "INFO:tensorflow:loss = 0.0033047395, step = 15880 (0.249 sec)\n",
            "INFO:tensorflow:global_step/sec: 406.785\n",
            "INFO:tensorflow:loss = 0.002730796, step = 15980 (0.292 sec)\n",
            "INFO:tensorflow:global_step/sec: 347.758\n",
            "INFO:tensorflow:loss = 0.0019460851, step = 16080 (0.263 sec)\n",
            "INFO:tensorflow:global_step/sec: 378.463\n",
            "INFO:tensorflow:loss = 0.0019475768, step = 16180 (0.272 sec)\n",
            "INFO:tensorflow:global_step/sec: 355.935\n",
            "INFO:tensorflow:loss = 0.0031962015, step = 16280 (0.266 sec)\n",
            "INFO:tensorflow:global_step/sec: 374.902\n",
            "INFO:tensorflow:loss = 0.0031631633, step = 16380 (0.295 sec)\n",
            "INFO:tensorflow:global_step/sec: 346.235\n",
            "INFO:tensorflow:loss = 0.0008523046, step = 16480 (0.269 sec)\n",
            "INFO:tensorflow:global_step/sec: 373.125\n",
            "INFO:tensorflow:loss = 0.00295231, step = 16580 (0.282 sec)\n",
            "INFO:tensorflow:global_step/sec: 359.02\n",
            "INFO:tensorflow:loss = 0.002346994, step = 16680 (0.278 sec)\n",
            "INFO:tensorflow:global_step/sec: 356.759\n",
            "INFO:tensorflow:loss = 0.00075219676, step = 16780 (0.331 sec)\n",
            "INFO:tensorflow:global_step/sec: 276.051\n",
            "INFO:tensorflow:loss = 0.004693568, step = 16880 (0.438 sec)\n",
            "INFO:tensorflow:global_step/sec: 229.493\n",
            "INFO:tensorflow:loss = 0.0020138705, step = 16980 (0.381 sec)\n",
            "INFO:tensorflow:global_step/sec: 259.944\n",
            "INFO:tensorflow:loss = 0.003965282, step = 17080 (0.408 sec)\n",
            "INFO:tensorflow:global_step/sec: 271.115\n",
            "INFO:tensorflow:loss = 0.0022543191, step = 17180 (0.301 sec)\n",
            "INFO:tensorflow:global_step/sec: 325.861\n",
            "INFO:tensorflow:loss = 0.0026029868, step = 17280 (0.294 sec)\n",
            "INFO:tensorflow:global_step/sec: 308.316\n",
            "INFO:tensorflow:loss = 0.0034280447, step = 17380 (0.421 sec)\n",
            "INFO:tensorflow:global_step/sec: 225.727\n",
            "INFO:tensorflow:loss = 0.0008878174, step = 17480 (0.447 sec)\n",
            "INFO:tensorflow:global_step/sec: 238.255\n",
            "INFO:tensorflow:loss = 0.0012958803, step = 17580 (0.373 sec)\n",
            "INFO:tensorflow:global_step/sec: 262.899\n",
            "INFO:tensorflow:loss = 0.040768456, step = 17680 (0.407 sec)\n",
            "INFO:tensorflow:global_step/sec: 248.944\n",
            "INFO:tensorflow:loss = 0.0057412907, step = 17780 (0.342 sec)\n",
            "INFO:tensorflow:global_step/sec: 283.842\n",
            "INFO:tensorflow:loss = 0.0009982487, step = 17880 (0.367 sec)\n",
            "INFO:tensorflow:global_step/sec: 295.565\n",
            "INFO:tensorflow:loss = 0.003839411, step = 17980 (0.348 sec)\n",
            "INFO:tensorflow:global_step/sec: 273.278\n",
            "INFO:tensorflow:loss = 0.004775171, step = 18080 (0.403 sec)\n",
            "INFO:tensorflow:global_step/sec: 267.748\n",
            "INFO:tensorflow:loss = 0.001819048, step = 18180 (0.276 sec)\n",
            "INFO:tensorflow:global_step/sec: 364.988\n",
            "INFO:tensorflow:loss = 0.0009835996, step = 18280 (0.330 sec)\n",
            "INFO:tensorflow:global_step/sec: 250.8\n",
            "INFO:tensorflow:loss = 0.0009184637, step = 18380 (0.462 sec)\n",
            "INFO:tensorflow:global_step/sec: 256.57\n",
            "INFO:tensorflow:loss = 0.0017298574, step = 18480 (0.307 sec)\n",
            "INFO:tensorflow:global_step/sec: 276.854\n",
            "INFO:tensorflow:loss = 0.0008090293, step = 18580 (0.418 sec)\n",
            "INFO:tensorflow:global_step/sec: 268.875\n",
            "INFO:tensorflow:loss = 0.0014802971, step = 18680 (0.268 sec)\n",
            "INFO:tensorflow:global_step/sec: 377.859\n",
            "INFO:tensorflow:loss = 0.0013516422, step = 18780 (0.276 sec)\n",
            "INFO:tensorflow:global_step/sec: 320.221\n",
            "INFO:tensorflow:loss = 0.0017496622, step = 18880 (0.378 sec)\n",
            "INFO:tensorflow:global_step/sec: 269.072\n",
            "INFO:tensorflow:loss = 0.0024216701, step = 18980 (0.332 sec)\n",
            "INFO:tensorflow:global_step/sec: 325.496\n",
            "INFO:tensorflow:loss = 0.002629393, step = 19080 (0.290 sec)\n",
            "INFO:tensorflow:global_step/sec: 311.846\n",
            "INFO:tensorflow:loss = 0.003894479, step = 19180 (0.393 sec)\n",
            "INFO:tensorflow:global_step/sec: 245.238\n",
            "INFO:tensorflow:loss = 0.0040919413, step = 19280 (0.364 sec)\n",
            "INFO:tensorflow:global_step/sec: 282.886\n",
            "INFO:tensorflow:loss = 0.0010951879, step = 19380 (0.375 sec)\n",
            "INFO:tensorflow:global_step/sec: 291.341\n",
            "INFO:tensorflow:loss = 0.0019387344, step = 19480 (0.358 sec)\n",
            "INFO:tensorflow:global_step/sec: 265.137\n",
            "INFO:tensorflow:loss = 0.0004896609, step = 19580 (0.402 sec)\n",
            "INFO:tensorflow:global_step/sec: 233.17\n",
            "INFO:tensorflow:loss = 0.00048764714, step = 19680 (0.474 sec)\n",
            "INFO:tensorflow:global_step/sec: 224.524\n",
            "INFO:tensorflow:loss = 0.001153734, step = 19780 (0.349 sec)\n",
            "INFO:tensorflow:global_step/sec: 305.237\n",
            "INFO:tensorflow:loss = 0.00033934446, step = 19880 (0.318 sec)\n",
            "INFO:tensorflow:global_step/sec: 283.873\n",
            "INFO:tensorflow:loss = 0.0017591247, step = 19980 (0.383 sec)\n",
            "INFO:tensorflow:global_step/sec: 287.231\n",
            "INFO:tensorflow:loss = 0.00033442475, step = 20080 (0.427 sec)\n",
            "INFO:tensorflow:global_step/sec: 208.918\n",
            "INFO:tensorflow:loss = 0.0019849637, step = 20180 (0.474 sec)\n",
            "INFO:tensorflow:global_step/sec: 219.44\n",
            "INFO:tensorflow:loss = 0.0012315258, step = 20280 (0.471 sec)\n",
            "INFO:tensorflow:global_step/sec: 211.372\n",
            "INFO:tensorflow:loss = 0.0016178151, step = 20380 (0.373 sec)\n",
            "INFO:tensorflow:global_step/sec: 295.132\n",
            "INFO:tensorflow:loss = 0.00040474022, step = 20480 (0.336 sec)\n",
            "INFO:tensorflow:global_step/sec: 291.795\n",
            "INFO:tensorflow:loss = 0.0004913618, step = 20580 (0.371 sec)\n",
            "INFO:tensorflow:global_step/sec: 271.185\n",
            "INFO:tensorflow:loss = 0.029823331, step = 20680 (0.340 sec)\n",
            "INFO:tensorflow:global_step/sec: 276.987\n",
            "INFO:tensorflow:loss = 0.0015321791, step = 20780 (0.310 sec)\n",
            "INFO:tensorflow:global_step/sec: 338.86\n",
            "INFO:tensorflow:loss = 0.0005676999, step = 20880 (0.392 sec)\n",
            "INFO:tensorflow:global_step/sec: 244.195\n",
            "INFO:tensorflow:loss = 0.0013018952, step = 20980 (0.363 sec)\n",
            "INFO:tensorflow:global_step/sec: 289.786\n",
            "INFO:tensorflow:loss = 0.000427952, step = 21080 (0.407 sec)\n",
            "INFO:tensorflow:global_step/sec: 249.553\n",
            "INFO:tensorflow:loss = 0.0011551708, step = 21180 (0.311 sec)\n",
            "INFO:tensorflow:global_step/sec: 319.534\n",
            "INFO:tensorflow:loss = 0.0008089659, step = 21280 (0.442 sec)\n",
            "INFO:tensorflow:global_step/sec: 220.692\n",
            "INFO:tensorflow:loss = 0.000928683, step = 21380 (0.365 sec)\n",
            "INFO:tensorflow:global_step/sec: 264.461\n",
            "INFO:tensorflow:loss = 0.0014357897, step = 21480 (0.437 sec)\n",
            "INFO:tensorflow:global_step/sec: 222.538\n",
            "INFO:tensorflow:loss = 0.00022338286, step = 21580 (0.341 sec)\n",
            "INFO:tensorflow:global_step/sec: 290.595\n",
            "INFO:tensorflow:loss = 0.00086319086, step = 21680 (0.349 sec)\n",
            "INFO:tensorflow:global_step/sec: 281.578\n",
            "INFO:tensorflow:loss = 0.0017165267, step = 21780 (0.414 sec)\n",
            "INFO:tensorflow:global_step/sec: 276.448\n",
            "INFO:tensorflow:loss = 0.00086953986, step = 21880 (0.364 sec)\n",
            "INFO:tensorflow:global_step/sec: 264.99\n",
            "INFO:tensorflow:loss = 0.00061587995, step = 21980 (0.352 sec)\n",
            "INFO:tensorflow:global_step/sec: 287.453\n",
            "INFO:tensorflow:loss = 0.00023507001, step = 22080 (0.309 sec)\n",
            "INFO:tensorflow:global_step/sec: 324.476\n",
            "INFO:tensorflow:loss = 0.0008799697, step = 22180 (0.377 sec)\n",
            "INFO:tensorflow:global_step/sec: 266.413\n",
            "INFO:tensorflow:loss = 0.0005194223, step = 22280 (0.330 sec)\n",
            "INFO:tensorflow:global_step/sec: 289.524\n",
            "INFO:tensorflow:loss = 0.00034789304, step = 22380 (0.417 sec)\n",
            "INFO:tensorflow:global_step/sec: 223.99\n",
            "INFO:tensorflow:loss = 0.0007343822, step = 22480 (0.359 sec)\n",
            "INFO:tensorflow:global_step/sec: 288.253\n",
            "INFO:tensorflow:loss = 0.00068045384, step = 22580 (0.455 sec)\n",
            "INFO:tensorflow:global_step/sec: 233.07\n",
            "INFO:tensorflow:loss = 0.0004688552, step = 22680 (0.408 sec)\n",
            "INFO:tensorflow:global_step/sec: 251.367\n",
            "INFO:tensorflow:loss = 0.00024878373, step = 22780 (0.374 sec)\n",
            "INFO:tensorflow:global_step/sec: 257.294\n",
            "INFO:tensorflow:loss = 0.00046051334, step = 22880 (0.319 sec)\n",
            "INFO:tensorflow:global_step/sec: 295.687\n",
            "INFO:tensorflow:loss = 8.881469e-05, step = 22980 (0.314 sec)\n",
            "INFO:tensorflow:global_step/sec: 311.25\n",
            "INFO:tensorflow:loss = 0.00042330718, step = 23080 (0.382 sec)\n",
            "INFO:tensorflow:global_step/sec: 261.896\n",
            "INFO:tensorflow:loss = 0.00018332613, step = 23180 (0.494 sec)\n",
            "INFO:tensorflow:global_step/sec: 207.584\n",
            "INFO:tensorflow:loss = 0.00032092014, step = 23280 (0.407 sec)\n",
            "INFO:tensorflow:global_step/sec: 226.844\n",
            "INFO:tensorflow:loss = 0.0001689397, step = 23380 (0.574 sec)\n",
            "INFO:tensorflow:global_step/sec: 170.131\n",
            "INFO:tensorflow:loss = 0.043267738, step = 23480 (0.711 sec)\n",
            "INFO:tensorflow:global_step/sec: 137.258\n",
            "INFO:tensorflow:loss = 0.000103147235, step = 23580 (0.607 sec)\n",
            "INFO:tensorflow:global_step/sec: 186.621\n",
            "INFO:tensorflow:loss = 0.0005583951, step = 23680 (0.443 sec)\n",
            "INFO:tensorflow:global_step/sec: 222.978\n",
            "INFO:tensorflow:loss = 0.0003141642, step = 23780 (0.326 sec)\n",
            "INFO:tensorflow:global_step/sec: 314.266\n",
            "INFO:tensorflow:loss = 0.00011942125, step = 23880 (0.337 sec)\n",
            "INFO:tensorflow:global_step/sec: 286.674\n",
            "INFO:tensorflow:loss = 0.00018282153, step = 23980 (0.431 sec)\n",
            "INFO:tensorflow:global_step/sec: 238.771\n",
            "INFO:tensorflow:Calling checkpoint listeners before saving checkpoint 24000...\n",
            "INFO:tensorflow:Saving checkpoints for 24000 into /tmp/tmp19faiosg/model.ckpt.\n",
            "WARNING:tensorflow:Issue encountered when serializing resources.\n",
            "Type is unsupported, or the types of the items don't match field type in CollectionDef. Note this is a warning and probably safe to ignore.\n",
            "'_Resource' object has no attribute 'name'\n",
            "INFO:tensorflow:Calling checkpoint listeners after saving checkpoint 24000...\n",
            "INFO:tensorflow:Loss for final step: 0.0004017423.\n",
            "INFO:tensorflow:Calling model_fn.\n",
            "INFO:tensorflow:Done calling model_fn.\n",
            "INFO:tensorflow:Starting evaluation at 2022-02-09T17:34:35\n",
            "INFO:tensorflow:Graph was finalized.\n",
            "INFO:tensorflow:Restoring parameters from /tmp/tmp19faiosg/model.ckpt-24000\n",
            "INFO:tensorflow:Running local_init_op.\n",
            "INFO:tensorflow:Done running local_init_op.\n",
            "INFO:tensorflow:Inference Time : 0.42485s\n",
            "INFO:tensorflow:Finished evaluation at 2022-02-09-17:34:36\n",
            "INFO:tensorflow:Saving dict for global step 24000: average_loss = 8.550916, global_step = 24000, label/mean = 23.956963, loss = 8.599432, prediction/mean = 23.585983\n",
            "WARNING:tensorflow:Issue encountered when serializing resources.\n",
            "Type is unsupported, or the types of the items don't match field type in CollectionDef. Note this is a warning and probably safe to ignore.\n",
            "'_Resource' object has no attribute 'name'\n",
            "INFO:tensorflow:Saving 'checkpoint_path' summary for global step 24000: /tmp/tmp19faiosg/model.ckpt-24000\n",
            "{'average_loss': 8.550916, 'label/mean': 23.956963, 'loss': 8.599432, 'prediction/mean': 23.585983, 'global_step': 24000}\n",
            "평균 손실 8.5509\n"
          ]
        }
      ]
    },
    {
      "cell_type": "markdown",
      "source": [
        "### 14.6.3 추정기를 사용하여 MNIST 손글씨 숫자 분류\n",
        "* 분류 문제를 위한 DNNClassifier 추정기 사용\n",
        " * 다층 퍼셉트론을 매우 간단한게 구현 가능\n",
        "\n",
        "첫 번째 tensorflow_datasets(tdfs) 모듈을 임포트하여 MNIST 데이터셋을 로드하고 모델의 하이퍼파라미터를 지정한다."
      ],
      "metadata": {
        "id": "kjSXPQN-XSqB"
      }
    },
    {
      "cell_type": "code",
      "source": [
        "import tensorflow as tf\n",
        "import tensorflow_datasets as tfds\n",
        "import numpy as np"
      ],
      "metadata": {
        "id": "LATmCU4pYT1p"
      },
      "execution_count": 1,
      "outputs": []
    },
    {
      "cell_type": "code",
      "source": [
        "# 설정 단계\n",
        "# 데이터셋 로드와 하이퍼파라미터\n",
        "BUFFER_SIZE = 10000 # 데이터를 섞기 위한 BUFFER_SIZE\n",
        "BATCH_SIZE = 64 # 미니 배치 크기\n",
        "NUM_EPOCHS = 20 # 훈련 에포크 횟수\n",
        "steps_per_epoch = np.ceil(60000 / BATCH_SIZE) # 하나의 에포크에서 반복할 횟수 - 무한히 반복하는 데이터셋을 사용하기 때문에 필요"
      ],
      "metadata": {
        "id": "bTSbHzHQX2wB"
      },
      "execution_count": 2,
      "outputs": []
    },
    {
      "cell_type": "code",
      "source": [
        "# 입력 이미지와 레이블을 전처리하는 헬퍼 함수 정의\n",
        "# 입력 이미지는 원래 ([0, 255] 범위인) 'uint8' 타입이기 때문에\n",
        "# tf.image.convert_image_dtype()을 사용하여 tf.float32 타입으로 변환 => 결국 [0, 1] 범위가 된다\n",
        "def preprocess(item):\n",
        "    image = item['image']\n",
        "    label = item['label']\n",
        "    image = tf.image.convert_image_dtype(image, tf.float32)\n",
        "    image = tf.reshape(image, (-1,))\n",
        "    return {'image-pixels':image}, label[..., tf.newaxis]"
      ],
      "metadata": {
        "id": "b6UiILfcYmLU"
      },
      "execution_count": 3,
      "outputs": []
    },
    {
      "cell_type": "code",
      "source": [
        "# 1단계: 입력 함수 두 개를 정의(하나는 훈련용, 다른 하나는 평가용)\n",
        "# 훈련용 입력 함수\n",
        "def train_input_fn():\n",
        "    datasets = tfds.load(name='mnist')\n",
        "    mnist_train = datasets['train']\n",
        "\n",
        "    dataset = mnist_train.map(preprocess)\n",
        "    dataset = dataset.shuffle(BUFFER_SIZE)\n",
        "    dataset = dataset.batch(BATCH_SIZE)\n",
        "    return dataset.repeat()\n",
        "\n",
        "# 평가용 입력 함수\n",
        "def eval_input_fn():\n",
        "    datasets = tfds.load(name='mnist')\n",
        "    mnist_test = datasets['test']\n",
        "    dataset = mnist_test.map(preprocess).batch(BATCH_SIZE)\n",
        "    return dataset"
      ],
      "metadata": {
        "id": "72y5OGcVZMox"
      },
      "execution_count": 4,
      "outputs": []
    },
    {
      "cell_type": "code",
      "source": [
        "# 2단계: 특성 열 정의\n",
        "# 특성 딕셔너리는 'image-pixels' 키 하나만 가지고 있다.\n",
        "image_feature_column = tf.feature_column.numeric_column(\n",
        "    key='image-pixels', shape=(28*28)) # 크기가 784(즉,  28*28)인 특성 열 정의 => MNIST 이미지를 일렬로 펼친 것"
      ],
      "metadata": {
        "id": "4Iv8HO2NZ5Ip"
      },
      "execution_count": 5,
      "outputs": []
    },
    {
      "cell_type": "code",
      "source": [
        "# 3단계: 새로운 추정기를 만든다.\n",
        "# 두 개의 은닉층 지정 - 첫 번째 은닉층은 32개의 유닛을 가지고, 두 번째 은닉층은 16개의 유닛을 가진다.\n",
        "# 또한, n_classes 매개변수로 클래스 개수 지정 - MNIST는 0~9의 숫자 열 개로 구성되어 있으므로 10.\n",
        "dnn_classifier = tf.estimator.DNNClassifier(\n",
        "    feature_columns=[image_feature_column],\n",
        "    hidden_units=[32, 16],\n",
        "    n_classes=10,\n",
        "    model_dir='models/mnist-dnn/')"
      ],
      "metadata": {
        "colab": {
          "base_uri": "https://localhost:8080/"
        },
        "id": "2DLWrhZeaO0J",
        "outputId": "ee1854a9-5fcd-453a-9d0f-bbd40a017cc0"
      },
      "execution_count": 6,
      "outputs": [
        {
          "output_type": "stream",
          "name": "stdout",
          "text": [
            "INFO:tensorflow:Using default config.\n",
            "INFO:tensorflow:Using config: {'_model_dir': 'models/mnist-dnn/', '_tf_random_seed': None, '_save_summary_steps': 100, '_save_checkpoints_steps': None, '_save_checkpoints_secs': 600, '_session_config': allow_soft_placement: true\n",
            "graph_options {\n",
            "  rewrite_options {\n",
            "    meta_optimizer_iterations: ONE\n",
            "  }\n",
            "}\n",
            ", '_keep_checkpoint_max': 5, '_keep_checkpoint_every_n_hours': 10000, '_log_step_count_steps': 100, '_train_distribute': None, '_device_fn': None, '_protocol': None, '_eval_distribute': None, '_experimental_distribute': None, '_experimental_max_worker_delay_secs': None, '_session_creation_timeout_secs': 7200, '_checkpoint_save_graph_def': True, '_service': None, '_cluster_spec': ClusterSpec({}), '_task_type': 'worker', '_task_id': 0, '_global_id_in_cluster': 0, '_master': '', '_evaluation_master': '', '_is_chief': True, '_num_ps_replicas': 0, '_num_worker_replicas': 1}\n"
          ]
        }
      ]
    },
    {
      "cell_type": "code",
      "source": [
        "# 4단계: 추정기를 사용하여 훈련, 평가, 예측 수행\n",
        "dnn_classifier.train(\n",
        "    input_fn=train_input_fn,\n",
        "    steps=NUM_EPOCHS * steps_per_epoch)"
      ],
      "metadata": {
        "colab": {
          "base_uri": "https://localhost:8080/",
          "height": 1000,
          "referenced_widgets": [
            "02f22ae963af4ebaa16e302bdcce9f83",
            "f91fa0abf64c41df97f1bcaa76d583ca",
            "80ceacb39ea74225b195ef5bc17e3cb2",
            "5ab5b98a3f184cffb6466f3bf9552c3f",
            "6fbf39ca23b642409c8654f27c660999",
            "758c09e5679a47198e155723da1a5ea8",
            "ea83e728df7c445e97c5914b2fbbd341",
            "9dfa9a677e2245a79ddfd2ef5f525ab1",
            "52892acd59ff4bdf9be53302e164f403",
            "4b6ebd5a16f54a05b8b953f9b482e77f",
            "73395fa9bd404a0cafa5571aac151737"
          ]
        },
        "id": "0VmBwtTtas0a",
        "outputId": "f52b0bbe-285e-4698-e4cc-0ebae5011134"
      },
      "execution_count": 7,
      "outputs": [
        {
          "output_type": "stream",
          "name": "stdout",
          "text": [
            "WARNING:tensorflow:From /usr/local/lib/python3.7/dist-packages/tensorflow/python/training/training_util.py:401: Variable.initialized_value (from tensorflow.python.ops.variables) is deprecated and will be removed in a future version.\n",
            "Instructions for updating:\n",
            "Use Variable.read_value. Variables in 2.X are initialized automatically both in eager and graph (inside tf.defun) contexts.\n",
            "\u001b[1mDownloading and preparing dataset mnist/3.0.1 (download: 11.06 MiB, generated: 21.00 MiB, total: 32.06 MiB) to /root/tensorflow_datasets/mnist/3.0.1...\u001b[0m\n"
          ]
        },
        {
          "output_type": "stream",
          "name": "stderr",
          "text": [
            "WARNING:absl:Dataset mnist is hosted on GCS. It will automatically be downloaded to your\n",
            "local data directory. If you'd instead prefer to read directly from our public\n",
            "GCS bucket (recommended if you're running on GCP), you can instead pass\n",
            "`try_gcs=True` to `tfds.load` or set `data_dir=gs://tfds-data/datasets`.\n",
            "\n"
          ]
        },
        {
          "output_type": "display_data",
          "data": {
            "application/vnd.jupyter.widget-view+json": {
              "model_id": "02f22ae963af4ebaa16e302bdcce9f83",
              "version_minor": 0,
              "version_major": 2
            },
            "text/plain": [
              "Dl Completed...:   0%|          | 0/4 [00:00<?, ? file/s]"
            ]
          },
          "metadata": {}
        },
        {
          "output_type": "stream",
          "name": "stdout",
          "text": [
            "\n",
            "\u001b[1mDataset mnist downloaded and prepared to /root/tensorflow_datasets/mnist/3.0.1. Subsequent calls will reuse this data.\u001b[0m\n",
            "INFO:tensorflow:Calling model_fn.\n"
          ]
        },
        {
          "output_type": "stream",
          "name": "stderr",
          "text": [
            "INFO:tensorflow:Calling model_fn.\n"
          ]
        },
        {
          "output_type": "stream",
          "name": "stdout",
          "text": [
            "WARNING:tensorflow:From /usr/local/lib/python3.7/dist-packages/keras/optimizer_v2/adagrad.py:84: calling Constant.__init__ (from tensorflow.python.ops.init_ops) with dtype is deprecated and will be removed in a future version.\n",
            "Instructions for updating:\n",
            "Call initializer instance with the dtype argument instead of passing it to the constructor\n"
          ]
        },
        {
          "output_type": "stream",
          "name": "stderr",
          "text": [
            "WARNING:tensorflow:From /usr/local/lib/python3.7/dist-packages/keras/optimizer_v2/adagrad.py:84: calling Constant.__init__ (from tensorflow.python.ops.init_ops) with dtype is deprecated and will be removed in a future version.\n",
            "Instructions for updating:\n",
            "Call initializer instance with the dtype argument instead of passing it to the constructor\n"
          ]
        },
        {
          "output_type": "stream",
          "name": "stdout",
          "text": [
            "INFO:tensorflow:Done calling model_fn.\n"
          ]
        },
        {
          "output_type": "stream",
          "name": "stderr",
          "text": [
            "INFO:tensorflow:Done calling model_fn.\n"
          ]
        },
        {
          "output_type": "stream",
          "name": "stdout",
          "text": [
            "INFO:tensorflow:Create CheckpointSaverHook.\n"
          ]
        },
        {
          "output_type": "stream",
          "name": "stderr",
          "text": [
            "INFO:tensorflow:Create CheckpointSaverHook.\n"
          ]
        },
        {
          "output_type": "stream",
          "name": "stdout",
          "text": [
            "INFO:tensorflow:Graph was finalized.\n"
          ]
        },
        {
          "output_type": "stream",
          "name": "stderr",
          "text": [
            "INFO:tensorflow:Graph was finalized.\n"
          ]
        },
        {
          "output_type": "stream",
          "name": "stdout",
          "text": [
            "INFO:tensorflow:Running local_init_op.\n"
          ]
        },
        {
          "output_type": "stream",
          "name": "stderr",
          "text": [
            "INFO:tensorflow:Running local_init_op.\n"
          ]
        },
        {
          "output_type": "stream",
          "name": "stdout",
          "text": [
            "INFO:tensorflow:Done running local_init_op.\n"
          ]
        },
        {
          "output_type": "stream",
          "name": "stderr",
          "text": [
            "INFO:tensorflow:Done running local_init_op.\n"
          ]
        },
        {
          "output_type": "stream",
          "name": "stdout",
          "text": [
            "INFO:tensorflow:Calling checkpoint listeners before saving checkpoint 0...\n"
          ]
        },
        {
          "output_type": "stream",
          "name": "stderr",
          "text": [
            "INFO:tensorflow:Calling checkpoint listeners before saving checkpoint 0...\n"
          ]
        },
        {
          "output_type": "stream",
          "name": "stdout",
          "text": [
            "INFO:tensorflow:Saving checkpoints for 0 into models/mnist-dnn/model.ckpt.\n"
          ]
        },
        {
          "output_type": "stream",
          "name": "stderr",
          "text": [
            "INFO:tensorflow:Saving checkpoints for 0 into models/mnist-dnn/model.ckpt.\n"
          ]
        },
        {
          "output_type": "stream",
          "name": "stdout",
          "text": [
            "INFO:tensorflow:Calling checkpoint listeners after saving checkpoint 0...\n"
          ]
        },
        {
          "output_type": "stream",
          "name": "stderr",
          "text": [
            "INFO:tensorflow:Calling checkpoint listeners after saving checkpoint 0...\n"
          ]
        },
        {
          "output_type": "stream",
          "name": "stdout",
          "text": [
            "INFO:tensorflow:loss = 2.312273, step = 0\n"
          ]
        },
        {
          "output_type": "stream",
          "name": "stderr",
          "text": [
            "INFO:tensorflow:loss = 2.312273, step = 0\n"
          ]
        },
        {
          "output_type": "stream",
          "name": "stdout",
          "text": [
            "INFO:tensorflow:global_step/sec: 66.3004\n"
          ]
        },
        {
          "output_type": "stream",
          "name": "stderr",
          "text": [
            "INFO:tensorflow:global_step/sec: 66.3004\n"
          ]
        },
        {
          "output_type": "stream",
          "name": "stdout",
          "text": [
            "INFO:tensorflow:loss = 2.2462406, step = 100 (1.517 sec)\n"
          ]
        },
        {
          "output_type": "stream",
          "name": "stderr",
          "text": [
            "INFO:tensorflow:loss = 2.2462406, step = 100 (1.517 sec)\n"
          ]
        },
        {
          "output_type": "stream",
          "name": "stdout",
          "text": [
            "INFO:tensorflow:global_step/sec: 63.2853\n"
          ]
        },
        {
          "output_type": "stream",
          "name": "stderr",
          "text": [
            "INFO:tensorflow:global_step/sec: 63.2853\n"
          ]
        },
        {
          "output_type": "stream",
          "name": "stdout",
          "text": [
            "INFO:tensorflow:loss = 2.1820364, step = 200 (1.577 sec)\n"
          ]
        },
        {
          "output_type": "stream",
          "name": "stderr",
          "text": [
            "INFO:tensorflow:loss = 2.1820364, step = 200 (1.577 sec)\n"
          ]
        },
        {
          "output_type": "stream",
          "name": "stdout",
          "text": [
            "INFO:tensorflow:global_step/sec: 79.586\n"
          ]
        },
        {
          "output_type": "stream",
          "name": "stderr",
          "text": [
            "INFO:tensorflow:global_step/sec: 79.586\n"
          ]
        },
        {
          "output_type": "stream",
          "name": "stdout",
          "text": [
            "INFO:tensorflow:loss = 2.1143746, step = 300 (1.260 sec)\n"
          ]
        },
        {
          "output_type": "stream",
          "name": "stderr",
          "text": [
            "INFO:tensorflow:loss = 2.1143746, step = 300 (1.260 sec)\n"
          ]
        },
        {
          "output_type": "stream",
          "name": "stdout",
          "text": [
            "INFO:tensorflow:global_step/sec: 69.0383\n"
          ]
        },
        {
          "output_type": "stream",
          "name": "stderr",
          "text": [
            "INFO:tensorflow:global_step/sec: 69.0383\n"
          ]
        },
        {
          "output_type": "stream",
          "name": "stdout",
          "text": [
            "INFO:tensorflow:loss = 2.0877008, step = 400 (1.455 sec)\n"
          ]
        },
        {
          "output_type": "stream",
          "name": "stderr",
          "text": [
            "INFO:tensorflow:loss = 2.0877008, step = 400 (1.455 sec)\n"
          ]
        },
        {
          "output_type": "stream",
          "name": "stdout",
          "text": [
            "INFO:tensorflow:global_step/sec: 65.3538\n"
          ]
        },
        {
          "output_type": "stream",
          "name": "stderr",
          "text": [
            "INFO:tensorflow:global_step/sec: 65.3538\n"
          ]
        },
        {
          "output_type": "stream",
          "name": "stdout",
          "text": [
            "INFO:tensorflow:loss = 2.0325887, step = 500 (1.526 sec)\n"
          ]
        },
        {
          "output_type": "stream",
          "name": "stderr",
          "text": [
            "INFO:tensorflow:loss = 2.0325887, step = 500 (1.526 sec)\n"
          ]
        },
        {
          "output_type": "stream",
          "name": "stdout",
          "text": [
            "INFO:tensorflow:global_step/sec: 65.9898\n"
          ]
        },
        {
          "output_type": "stream",
          "name": "stderr",
          "text": [
            "INFO:tensorflow:global_step/sec: 65.9898\n"
          ]
        },
        {
          "output_type": "stream",
          "name": "stdout",
          "text": [
            "INFO:tensorflow:loss = 1.8799171, step = 600 (1.511 sec)\n"
          ]
        },
        {
          "output_type": "stream",
          "name": "stderr",
          "text": [
            "INFO:tensorflow:loss = 1.8799171, step = 600 (1.511 sec)\n"
          ]
        },
        {
          "output_type": "stream",
          "name": "stdout",
          "text": [
            "INFO:tensorflow:global_step/sec: 62.882\n"
          ]
        },
        {
          "output_type": "stream",
          "name": "stderr",
          "text": [
            "INFO:tensorflow:global_step/sec: 62.882\n"
          ]
        },
        {
          "output_type": "stream",
          "name": "stdout",
          "text": [
            "INFO:tensorflow:loss = 1.7591938, step = 700 (1.597 sec)\n"
          ]
        },
        {
          "output_type": "stream",
          "name": "stderr",
          "text": [
            "INFO:tensorflow:loss = 1.7591938, step = 700 (1.597 sec)\n"
          ]
        },
        {
          "output_type": "stream",
          "name": "stdout",
          "text": [
            "INFO:tensorflow:global_step/sec: 81.156\n"
          ]
        },
        {
          "output_type": "stream",
          "name": "stderr",
          "text": [
            "INFO:tensorflow:global_step/sec: 81.156\n"
          ]
        },
        {
          "output_type": "stream",
          "name": "stdout",
          "text": [
            "INFO:tensorflow:loss = 1.7890365, step = 800 (1.231 sec)\n"
          ]
        },
        {
          "output_type": "stream",
          "name": "stderr",
          "text": [
            "INFO:tensorflow:loss = 1.7890365, step = 800 (1.231 sec)\n"
          ]
        },
        {
          "output_type": "stream",
          "name": "stdout",
          "text": [
            "INFO:tensorflow:global_step/sec: 308.073\n"
          ]
        },
        {
          "output_type": "stream",
          "name": "stderr",
          "text": [
            "INFO:tensorflow:global_step/sec: 308.073\n"
          ]
        },
        {
          "output_type": "stream",
          "name": "stdout",
          "text": [
            "INFO:tensorflow:loss = 1.7339251, step = 900 (0.318 sec)\n"
          ]
        },
        {
          "output_type": "stream",
          "name": "stderr",
          "text": [
            "INFO:tensorflow:loss = 1.7339251, step = 900 (0.318 sec)\n"
          ]
        },
        {
          "output_type": "stream",
          "name": "stdout",
          "text": [
            "INFO:tensorflow:global_step/sec: 73.4979\n"
          ]
        },
        {
          "output_type": "stream",
          "name": "stderr",
          "text": [
            "INFO:tensorflow:global_step/sec: 73.4979\n"
          ]
        },
        {
          "output_type": "stream",
          "name": "stdout",
          "text": [
            "INFO:tensorflow:loss = 1.6384943, step = 1000 (1.361 sec)\n"
          ]
        },
        {
          "output_type": "stream",
          "name": "stderr",
          "text": [
            "INFO:tensorflow:loss = 1.6384943, step = 1000 (1.361 sec)\n"
          ]
        },
        {
          "output_type": "stream",
          "name": "stdout",
          "text": [
            "INFO:tensorflow:global_step/sec: 143.699\n"
          ]
        },
        {
          "output_type": "stream",
          "name": "stderr",
          "text": [
            "INFO:tensorflow:global_step/sec: 143.699\n"
          ]
        },
        {
          "output_type": "stream",
          "name": "stdout",
          "text": [
            "INFO:tensorflow:loss = 1.6189702, step = 1100 (0.707 sec)\n"
          ]
        },
        {
          "output_type": "stream",
          "name": "stderr",
          "text": [
            "INFO:tensorflow:loss = 1.6189702, step = 1100 (0.707 sec)\n"
          ]
        },
        {
          "output_type": "stream",
          "name": "stdout",
          "text": [
            "INFO:tensorflow:global_step/sec: 127.453\n"
          ]
        },
        {
          "output_type": "stream",
          "name": "stderr",
          "text": [
            "INFO:tensorflow:global_step/sec: 127.453\n"
          ]
        },
        {
          "output_type": "stream",
          "name": "stdout",
          "text": [
            "INFO:tensorflow:loss = 1.5360769, step = 1200 (0.786 sec)\n"
          ]
        },
        {
          "output_type": "stream",
          "name": "stderr",
          "text": [
            "INFO:tensorflow:loss = 1.5360769, step = 1200 (0.786 sec)\n"
          ]
        },
        {
          "output_type": "stream",
          "name": "stdout",
          "text": [
            "INFO:tensorflow:global_step/sec: 159.274\n"
          ]
        },
        {
          "output_type": "stream",
          "name": "stderr",
          "text": [
            "INFO:tensorflow:global_step/sec: 159.274\n"
          ]
        },
        {
          "output_type": "stream",
          "name": "stdout",
          "text": [
            "INFO:tensorflow:loss = 1.3439243, step = 1300 (0.627 sec)\n"
          ]
        },
        {
          "output_type": "stream",
          "name": "stderr",
          "text": [
            "INFO:tensorflow:loss = 1.3439243, step = 1300 (0.627 sec)\n"
          ]
        },
        {
          "output_type": "stream",
          "name": "stdout",
          "text": [
            "INFO:tensorflow:global_step/sec: 126.053\n"
          ]
        },
        {
          "output_type": "stream",
          "name": "stderr",
          "text": [
            "INFO:tensorflow:global_step/sec: 126.053\n"
          ]
        },
        {
          "output_type": "stream",
          "name": "stdout",
          "text": [
            "INFO:tensorflow:loss = 1.3484979, step = 1400 (0.785 sec)\n"
          ]
        },
        {
          "output_type": "stream",
          "name": "stderr",
          "text": [
            "INFO:tensorflow:loss = 1.3484979, step = 1400 (0.785 sec)\n"
          ]
        },
        {
          "output_type": "stream",
          "name": "stdout",
          "text": [
            "INFO:tensorflow:global_step/sec: 153.976\n"
          ]
        },
        {
          "output_type": "stream",
          "name": "stderr",
          "text": [
            "INFO:tensorflow:global_step/sec: 153.976\n"
          ]
        },
        {
          "output_type": "stream",
          "name": "stdout",
          "text": [
            "INFO:tensorflow:loss = 1.4704249, step = 1500 (0.652 sec)\n"
          ]
        },
        {
          "output_type": "stream",
          "name": "stderr",
          "text": [
            "INFO:tensorflow:loss = 1.4704249, step = 1500 (0.652 sec)\n"
          ]
        },
        {
          "output_type": "stream",
          "name": "stdout",
          "text": [
            "INFO:tensorflow:global_step/sec: 115.671\n"
          ]
        },
        {
          "output_type": "stream",
          "name": "stderr",
          "text": [
            "INFO:tensorflow:global_step/sec: 115.671\n"
          ]
        },
        {
          "output_type": "stream",
          "name": "stdout",
          "text": [
            "INFO:tensorflow:loss = 1.2300982, step = 1600 (0.858 sec)\n"
          ]
        },
        {
          "output_type": "stream",
          "name": "stderr",
          "text": [
            "INFO:tensorflow:loss = 1.2300982, step = 1600 (0.858 sec)\n"
          ]
        },
        {
          "output_type": "stream",
          "name": "stdout",
          "text": [
            "INFO:tensorflow:global_step/sec: 161.277\n"
          ]
        },
        {
          "output_type": "stream",
          "name": "stderr",
          "text": [
            "INFO:tensorflow:global_step/sec: 161.277\n"
          ]
        },
        {
          "output_type": "stream",
          "name": "stdout",
          "text": [
            "INFO:tensorflow:loss = 1.3208225, step = 1700 (0.626 sec)\n"
          ]
        },
        {
          "output_type": "stream",
          "name": "stderr",
          "text": [
            "INFO:tensorflow:loss = 1.3208225, step = 1700 (0.626 sec)\n"
          ]
        },
        {
          "output_type": "stream",
          "name": "stdout",
          "text": [
            "INFO:tensorflow:global_step/sec: 222.357\n"
          ]
        },
        {
          "output_type": "stream",
          "name": "stderr",
          "text": [
            "INFO:tensorflow:global_step/sec: 222.357\n"
          ]
        },
        {
          "output_type": "stream",
          "name": "stdout",
          "text": [
            "INFO:tensorflow:loss = 1.1996864, step = 1800 (0.445 sec)\n"
          ]
        },
        {
          "output_type": "stream",
          "name": "stderr",
          "text": [
            "INFO:tensorflow:loss = 1.1996864, step = 1800 (0.445 sec)\n"
          ]
        },
        {
          "output_type": "stream",
          "name": "stdout",
          "text": [
            "INFO:tensorflow:global_step/sec: 95.6223\n"
          ]
        },
        {
          "output_type": "stream",
          "name": "stderr",
          "text": [
            "INFO:tensorflow:global_step/sec: 95.6223\n"
          ]
        },
        {
          "output_type": "stream",
          "name": "stdout",
          "text": [
            "INFO:tensorflow:loss = 1.3363062, step = 1900 (1.045 sec)\n"
          ]
        },
        {
          "output_type": "stream",
          "name": "stderr",
          "text": [
            "INFO:tensorflow:loss = 1.3363062, step = 1900 (1.045 sec)\n"
          ]
        },
        {
          "output_type": "stream",
          "name": "stdout",
          "text": [
            "INFO:tensorflow:global_step/sec: 158.312\n"
          ]
        },
        {
          "output_type": "stream",
          "name": "stderr",
          "text": [
            "INFO:tensorflow:global_step/sec: 158.312\n"
          ]
        },
        {
          "output_type": "stream",
          "name": "stdout",
          "text": [
            "INFO:tensorflow:loss = 1.0816206, step = 2000 (0.630 sec)\n"
          ]
        },
        {
          "output_type": "stream",
          "name": "stderr",
          "text": [
            "INFO:tensorflow:loss = 1.0816206, step = 2000 (0.630 sec)\n"
          ]
        },
        {
          "output_type": "stream",
          "name": "stdout",
          "text": [
            "INFO:tensorflow:global_step/sec: 118.905\n"
          ]
        },
        {
          "output_type": "stream",
          "name": "stderr",
          "text": [
            "INFO:tensorflow:global_step/sec: 118.905\n"
          ]
        },
        {
          "output_type": "stream",
          "name": "stdout",
          "text": [
            "INFO:tensorflow:loss = 1.2276037, step = 2100 (0.843 sec)\n"
          ]
        },
        {
          "output_type": "stream",
          "name": "stderr",
          "text": [
            "INFO:tensorflow:loss = 1.2276037, step = 2100 (0.843 sec)\n"
          ]
        },
        {
          "output_type": "stream",
          "name": "stdout",
          "text": [
            "INFO:tensorflow:global_step/sec: 143.909\n"
          ]
        },
        {
          "output_type": "stream",
          "name": "stderr",
          "text": [
            "INFO:tensorflow:global_step/sec: 143.909\n"
          ]
        },
        {
          "output_type": "stream",
          "name": "stdout",
          "text": [
            "INFO:tensorflow:loss = 1.1712357, step = 2200 (0.699 sec)\n"
          ]
        },
        {
          "output_type": "stream",
          "name": "stderr",
          "text": [
            "INFO:tensorflow:loss = 1.1712357, step = 2200 (0.699 sec)\n"
          ]
        },
        {
          "output_type": "stream",
          "name": "stdout",
          "text": [
            "INFO:tensorflow:global_step/sec: 128.719\n"
          ]
        },
        {
          "output_type": "stream",
          "name": "stderr",
          "text": [
            "INFO:tensorflow:global_step/sec: 128.719\n"
          ]
        },
        {
          "output_type": "stream",
          "name": "stdout",
          "text": [
            "INFO:tensorflow:loss = 1.2323173, step = 2300 (0.776 sec)\n"
          ]
        },
        {
          "output_type": "stream",
          "name": "stderr",
          "text": [
            "INFO:tensorflow:loss = 1.2323173, step = 2300 (0.776 sec)\n"
          ]
        },
        {
          "output_type": "stream",
          "name": "stdout",
          "text": [
            "INFO:tensorflow:global_step/sec: 110.937\n"
          ]
        },
        {
          "output_type": "stream",
          "name": "stderr",
          "text": [
            "INFO:tensorflow:global_step/sec: 110.937\n"
          ]
        },
        {
          "output_type": "stream",
          "name": "stdout",
          "text": [
            "INFO:tensorflow:loss = 1.0767424, step = 2400 (0.905 sec)\n"
          ]
        },
        {
          "output_type": "stream",
          "name": "stderr",
          "text": [
            "INFO:tensorflow:loss = 1.0767424, step = 2400 (0.905 sec)\n"
          ]
        },
        {
          "output_type": "stream",
          "name": "stdout",
          "text": [
            "INFO:tensorflow:global_step/sec: 119.923\n"
          ]
        },
        {
          "output_type": "stream",
          "name": "stderr",
          "text": [
            "INFO:tensorflow:global_step/sec: 119.923\n"
          ]
        },
        {
          "output_type": "stream",
          "name": "stdout",
          "text": [
            "INFO:tensorflow:loss = 1.0165433, step = 2500 (0.828 sec)\n"
          ]
        },
        {
          "output_type": "stream",
          "name": "stderr",
          "text": [
            "INFO:tensorflow:loss = 1.0165433, step = 2500 (0.828 sec)\n"
          ]
        },
        {
          "output_type": "stream",
          "name": "stdout",
          "text": [
            "INFO:tensorflow:global_step/sec: 129.354\n"
          ]
        },
        {
          "output_type": "stream",
          "name": "stderr",
          "text": [
            "INFO:tensorflow:global_step/sec: 129.354\n"
          ]
        },
        {
          "output_type": "stream",
          "name": "stdout",
          "text": [
            "INFO:tensorflow:loss = 0.90513706, step = 2600 (0.775 sec)\n"
          ]
        },
        {
          "output_type": "stream",
          "name": "stderr",
          "text": [
            "INFO:tensorflow:loss = 0.90513706, step = 2600 (0.775 sec)\n"
          ]
        },
        {
          "output_type": "stream",
          "name": "stdout",
          "text": [
            "INFO:tensorflow:global_step/sec: 160.708\n"
          ]
        },
        {
          "output_type": "stream",
          "name": "stderr",
          "text": [
            "INFO:tensorflow:global_step/sec: 160.708\n"
          ]
        },
        {
          "output_type": "stream",
          "name": "stdout",
          "text": [
            "INFO:tensorflow:loss = 0.9848519, step = 2700 (0.635 sec)\n"
          ]
        },
        {
          "output_type": "stream",
          "name": "stderr",
          "text": [
            "INFO:tensorflow:loss = 0.9848519, step = 2700 (0.635 sec)\n"
          ]
        },
        {
          "output_type": "stream",
          "name": "stdout",
          "text": [
            "INFO:tensorflow:global_step/sec: 393.414\n"
          ]
        },
        {
          "output_type": "stream",
          "name": "stderr",
          "text": [
            "INFO:tensorflow:global_step/sec: 393.414\n"
          ]
        },
        {
          "output_type": "stream",
          "name": "stdout",
          "text": [
            "INFO:tensorflow:loss = 0.8750835, step = 2800 (0.247 sec)\n"
          ]
        },
        {
          "output_type": "stream",
          "name": "stderr",
          "text": [
            "INFO:tensorflow:loss = 0.8750835, step = 2800 (0.247 sec)\n"
          ]
        },
        {
          "output_type": "stream",
          "name": "stdout",
          "text": [
            "INFO:tensorflow:global_step/sec: 74.1655\n"
          ]
        },
        {
          "output_type": "stream",
          "name": "stderr",
          "text": [
            "INFO:tensorflow:global_step/sec: 74.1655\n"
          ]
        },
        {
          "output_type": "stream",
          "name": "stdout",
          "text": [
            "INFO:tensorflow:loss = 0.92149734, step = 2900 (1.346 sec)\n"
          ]
        },
        {
          "output_type": "stream",
          "name": "stderr",
          "text": [
            "INFO:tensorflow:loss = 0.92149734, step = 2900 (1.346 sec)\n"
          ]
        },
        {
          "output_type": "stream",
          "name": "stdout",
          "text": [
            "INFO:tensorflow:global_step/sec: 169.242\n"
          ]
        },
        {
          "output_type": "stream",
          "name": "stderr",
          "text": [
            "INFO:tensorflow:global_step/sec: 169.242\n"
          ]
        },
        {
          "output_type": "stream",
          "name": "stdout",
          "text": [
            "INFO:tensorflow:loss = 0.9947194, step = 3000 (0.591 sec)\n"
          ]
        },
        {
          "output_type": "stream",
          "name": "stderr",
          "text": [
            "INFO:tensorflow:loss = 0.9947194, step = 3000 (0.591 sec)\n"
          ]
        },
        {
          "output_type": "stream",
          "name": "stdout",
          "text": [
            "INFO:tensorflow:global_step/sec: 134.764\n"
          ]
        },
        {
          "output_type": "stream",
          "name": "stderr",
          "text": [
            "INFO:tensorflow:global_step/sec: 134.764\n"
          ]
        },
        {
          "output_type": "stream",
          "name": "stdout",
          "text": [
            "INFO:tensorflow:loss = 0.7861265, step = 3100 (0.744 sec)\n"
          ]
        },
        {
          "output_type": "stream",
          "name": "stderr",
          "text": [
            "INFO:tensorflow:loss = 0.7861265, step = 3100 (0.744 sec)\n"
          ]
        },
        {
          "output_type": "stream",
          "name": "stdout",
          "text": [
            "INFO:tensorflow:global_step/sec: 158.899\n"
          ]
        },
        {
          "output_type": "stream",
          "name": "stderr",
          "text": [
            "INFO:tensorflow:global_step/sec: 158.899\n"
          ]
        },
        {
          "output_type": "stream",
          "name": "stdout",
          "text": [
            "INFO:tensorflow:loss = 0.95239025, step = 3200 (0.629 sec)\n"
          ]
        },
        {
          "output_type": "stream",
          "name": "stderr",
          "text": [
            "INFO:tensorflow:loss = 0.95239025, step = 3200 (0.629 sec)\n"
          ]
        },
        {
          "output_type": "stream",
          "name": "stdout",
          "text": [
            "INFO:tensorflow:global_step/sec: 137.993\n"
          ]
        },
        {
          "output_type": "stream",
          "name": "stderr",
          "text": [
            "INFO:tensorflow:global_step/sec: 137.993\n"
          ]
        },
        {
          "output_type": "stream",
          "name": "stdout",
          "text": [
            "INFO:tensorflow:loss = 0.7927109, step = 3300 (0.722 sec)\n"
          ]
        },
        {
          "output_type": "stream",
          "name": "stderr",
          "text": [
            "INFO:tensorflow:loss = 0.7927109, step = 3300 (0.722 sec)\n"
          ]
        },
        {
          "output_type": "stream",
          "name": "stdout",
          "text": [
            "INFO:tensorflow:global_step/sec: 145.62\n"
          ]
        },
        {
          "output_type": "stream",
          "name": "stderr",
          "text": [
            "INFO:tensorflow:global_step/sec: 145.62\n"
          ]
        },
        {
          "output_type": "stream",
          "name": "stdout",
          "text": [
            "INFO:tensorflow:loss = 0.7411918, step = 3400 (0.684 sec)\n"
          ]
        },
        {
          "output_type": "stream",
          "name": "stderr",
          "text": [
            "INFO:tensorflow:loss = 0.7411918, step = 3400 (0.684 sec)\n"
          ]
        },
        {
          "output_type": "stream",
          "name": "stdout",
          "text": [
            "INFO:tensorflow:global_step/sec: 150.867\n"
          ]
        },
        {
          "output_type": "stream",
          "name": "stderr",
          "text": [
            "INFO:tensorflow:global_step/sec: 150.867\n"
          ]
        },
        {
          "output_type": "stream",
          "name": "stdout",
          "text": [
            "INFO:tensorflow:loss = 0.8363567, step = 3500 (0.672 sec)\n"
          ]
        },
        {
          "output_type": "stream",
          "name": "stderr",
          "text": [
            "INFO:tensorflow:loss = 0.8363567, step = 3500 (0.672 sec)\n"
          ]
        },
        {
          "output_type": "stream",
          "name": "stdout",
          "text": [
            "INFO:tensorflow:global_step/sec: 155.255\n"
          ]
        },
        {
          "output_type": "stream",
          "name": "stderr",
          "text": [
            "INFO:tensorflow:global_step/sec: 155.255\n"
          ]
        },
        {
          "output_type": "stream",
          "name": "stdout",
          "text": [
            "INFO:tensorflow:loss = 0.71092814, step = 3600 (0.640 sec)\n"
          ]
        },
        {
          "output_type": "stream",
          "name": "stderr",
          "text": [
            "INFO:tensorflow:loss = 0.71092814, step = 3600 (0.640 sec)\n"
          ]
        },
        {
          "output_type": "stream",
          "name": "stdout",
          "text": [
            "INFO:tensorflow:global_step/sec: 589.126\n"
          ]
        },
        {
          "output_type": "stream",
          "name": "stderr",
          "text": [
            "INFO:tensorflow:global_step/sec: 589.126\n"
          ]
        },
        {
          "output_type": "stream",
          "name": "stdout",
          "text": [
            "INFO:tensorflow:loss = 0.91555935, step = 3700 (0.163 sec)\n"
          ]
        },
        {
          "output_type": "stream",
          "name": "stderr",
          "text": [
            "INFO:tensorflow:loss = 0.91555935, step = 3700 (0.163 sec)\n"
          ]
        },
        {
          "output_type": "stream",
          "name": "stdout",
          "text": [
            "INFO:tensorflow:global_step/sec: 105.327\n"
          ]
        },
        {
          "output_type": "stream",
          "name": "stderr",
          "text": [
            "INFO:tensorflow:global_step/sec: 105.327\n"
          ]
        },
        {
          "output_type": "stream",
          "name": "stdout",
          "text": [
            "INFO:tensorflow:loss = 0.77707034, step = 3800 (0.956 sec)\n"
          ]
        },
        {
          "output_type": "stream",
          "name": "stderr",
          "text": [
            "INFO:tensorflow:loss = 0.77707034, step = 3800 (0.956 sec)\n"
          ]
        },
        {
          "output_type": "stream",
          "name": "stdout",
          "text": [
            "INFO:tensorflow:global_step/sec: 160.058\n"
          ]
        },
        {
          "output_type": "stream",
          "name": "stderr",
          "text": [
            "INFO:tensorflow:global_step/sec: 160.058\n"
          ]
        },
        {
          "output_type": "stream",
          "name": "stdout",
          "text": [
            "INFO:tensorflow:loss = 0.7427873, step = 3900 (0.627 sec)\n"
          ]
        },
        {
          "output_type": "stream",
          "name": "stderr",
          "text": [
            "INFO:tensorflow:loss = 0.7427873, step = 3900 (0.627 sec)\n"
          ]
        },
        {
          "output_type": "stream",
          "name": "stdout",
          "text": [
            "INFO:tensorflow:global_step/sec: 147.675\n"
          ]
        },
        {
          "output_type": "stream",
          "name": "stderr",
          "text": [
            "INFO:tensorflow:global_step/sec: 147.675\n"
          ]
        },
        {
          "output_type": "stream",
          "name": "stdout",
          "text": [
            "INFO:tensorflow:loss = 0.60737467, step = 4000 (0.671 sec)\n"
          ]
        },
        {
          "output_type": "stream",
          "name": "stderr",
          "text": [
            "INFO:tensorflow:loss = 0.60737467, step = 4000 (0.671 sec)\n"
          ]
        },
        {
          "output_type": "stream",
          "name": "stdout",
          "text": [
            "INFO:tensorflow:global_step/sec: 150.117\n"
          ]
        },
        {
          "output_type": "stream",
          "name": "stderr",
          "text": [
            "INFO:tensorflow:global_step/sec: 150.117\n"
          ]
        },
        {
          "output_type": "stream",
          "name": "stdout",
          "text": [
            "INFO:tensorflow:loss = 0.640304, step = 4100 (0.671 sec)\n"
          ]
        },
        {
          "output_type": "stream",
          "name": "stderr",
          "text": [
            "INFO:tensorflow:loss = 0.640304, step = 4100 (0.671 sec)\n"
          ]
        },
        {
          "output_type": "stream",
          "name": "stdout",
          "text": [
            "INFO:tensorflow:global_step/sec: 152.884\n"
          ]
        },
        {
          "output_type": "stream",
          "name": "stderr",
          "text": [
            "INFO:tensorflow:global_step/sec: 152.884\n"
          ]
        },
        {
          "output_type": "stream",
          "name": "stdout",
          "text": [
            "INFO:tensorflow:loss = 0.7239022, step = 4200 (0.650 sec)\n"
          ]
        },
        {
          "output_type": "stream",
          "name": "stderr",
          "text": [
            "INFO:tensorflow:loss = 0.7239022, step = 4200 (0.650 sec)\n"
          ]
        },
        {
          "output_type": "stream",
          "name": "stdout",
          "text": [
            "INFO:tensorflow:global_step/sec: 132.307\n"
          ]
        },
        {
          "output_type": "stream",
          "name": "stderr",
          "text": [
            "INFO:tensorflow:global_step/sec: 132.307\n"
          ]
        },
        {
          "output_type": "stream",
          "name": "stdout",
          "text": [
            "INFO:tensorflow:loss = 0.7085389, step = 4300 (0.754 sec)\n"
          ]
        },
        {
          "output_type": "stream",
          "name": "stderr",
          "text": [
            "INFO:tensorflow:loss = 0.7085389, step = 4300 (0.754 sec)\n"
          ]
        },
        {
          "output_type": "stream",
          "name": "stdout",
          "text": [
            "INFO:tensorflow:global_step/sec: 156.079\n"
          ]
        },
        {
          "output_type": "stream",
          "name": "stderr",
          "text": [
            "INFO:tensorflow:global_step/sec: 156.079\n"
          ]
        },
        {
          "output_type": "stream",
          "name": "stdout",
          "text": [
            "INFO:tensorflow:loss = 0.6334448, step = 4400 (0.645 sec)\n"
          ]
        },
        {
          "output_type": "stream",
          "name": "stderr",
          "text": [
            "INFO:tensorflow:loss = 0.6334448, step = 4400 (0.645 sec)\n"
          ]
        },
        {
          "output_type": "stream",
          "name": "stdout",
          "text": [
            "INFO:tensorflow:global_step/sec: 143.578\n"
          ]
        },
        {
          "output_type": "stream",
          "name": "stderr",
          "text": [
            "INFO:tensorflow:global_step/sec: 143.578\n"
          ]
        },
        {
          "output_type": "stream",
          "name": "stdout",
          "text": [
            "INFO:tensorflow:loss = 0.5990367, step = 4500 (0.702 sec)\n"
          ]
        },
        {
          "output_type": "stream",
          "name": "stderr",
          "text": [
            "INFO:tensorflow:loss = 0.5990367, step = 4500 (0.702 sec)\n"
          ]
        },
        {
          "output_type": "stream",
          "name": "stdout",
          "text": [
            "INFO:tensorflow:global_step/sec: 261.513\n"
          ]
        },
        {
          "output_type": "stream",
          "name": "stderr",
          "text": [
            "INFO:tensorflow:global_step/sec: 261.513\n"
          ]
        },
        {
          "output_type": "stream",
          "name": "stdout",
          "text": [
            "INFO:tensorflow:loss = 0.74826443, step = 4600 (0.391 sec)\n"
          ]
        },
        {
          "output_type": "stream",
          "name": "stderr",
          "text": [
            "INFO:tensorflow:loss = 0.74826443, step = 4600 (0.391 sec)\n"
          ]
        },
        {
          "output_type": "stream",
          "name": "stdout",
          "text": [
            "INFO:tensorflow:global_step/sec: 98.8412\n"
          ]
        },
        {
          "output_type": "stream",
          "name": "stderr",
          "text": [
            "INFO:tensorflow:global_step/sec: 98.8412\n"
          ]
        },
        {
          "output_type": "stream",
          "name": "stdout",
          "text": [
            "INFO:tensorflow:loss = 0.8074504, step = 4700 (0.997 sec)\n"
          ]
        },
        {
          "output_type": "stream",
          "name": "stderr",
          "text": [
            "INFO:tensorflow:loss = 0.8074504, step = 4700 (0.997 sec)\n"
          ]
        },
        {
          "output_type": "stream",
          "name": "stdout",
          "text": [
            "INFO:tensorflow:global_step/sec: 127.338\n"
          ]
        },
        {
          "output_type": "stream",
          "name": "stderr",
          "text": [
            "INFO:tensorflow:global_step/sec: 127.338\n"
          ]
        },
        {
          "output_type": "stream",
          "name": "stdout",
          "text": [
            "INFO:tensorflow:loss = 0.78382504, step = 4800 (0.784 sec)\n"
          ]
        },
        {
          "output_type": "stream",
          "name": "stderr",
          "text": [
            "INFO:tensorflow:loss = 0.78382504, step = 4800 (0.784 sec)\n"
          ]
        },
        {
          "output_type": "stream",
          "name": "stdout",
          "text": [
            "INFO:tensorflow:global_step/sec: 128.603\n"
          ]
        },
        {
          "output_type": "stream",
          "name": "stderr",
          "text": [
            "INFO:tensorflow:global_step/sec: 128.603\n"
          ]
        },
        {
          "output_type": "stream",
          "name": "stdout",
          "text": [
            "INFO:tensorflow:loss = 0.74339086, step = 4900 (0.778 sec)\n"
          ]
        },
        {
          "output_type": "stream",
          "name": "stderr",
          "text": [
            "INFO:tensorflow:loss = 0.74339086, step = 4900 (0.778 sec)\n"
          ]
        },
        {
          "output_type": "stream",
          "name": "stdout",
          "text": [
            "INFO:tensorflow:global_step/sec: 160.13\n"
          ]
        },
        {
          "output_type": "stream",
          "name": "stderr",
          "text": [
            "INFO:tensorflow:global_step/sec: 160.13\n"
          ]
        },
        {
          "output_type": "stream",
          "name": "stdout",
          "text": [
            "INFO:tensorflow:loss = 0.7947954, step = 5000 (0.628 sec)\n"
          ]
        },
        {
          "output_type": "stream",
          "name": "stderr",
          "text": [
            "INFO:tensorflow:loss = 0.7947954, step = 5000 (0.628 sec)\n"
          ]
        },
        {
          "output_type": "stream",
          "name": "stdout",
          "text": [
            "INFO:tensorflow:global_step/sec: 156.371\n"
          ]
        },
        {
          "output_type": "stream",
          "name": "stderr",
          "text": [
            "INFO:tensorflow:global_step/sec: 156.371\n"
          ]
        },
        {
          "output_type": "stream",
          "name": "stdout",
          "text": [
            "INFO:tensorflow:loss = 0.7319015, step = 5100 (0.654 sec)\n"
          ]
        },
        {
          "output_type": "stream",
          "name": "stderr",
          "text": [
            "INFO:tensorflow:loss = 0.7319015, step = 5100 (0.654 sec)\n"
          ]
        },
        {
          "output_type": "stream",
          "name": "stdout",
          "text": [
            "INFO:tensorflow:global_step/sec: 141.487\n"
          ]
        },
        {
          "output_type": "stream",
          "name": "stderr",
          "text": [
            "INFO:tensorflow:global_step/sec: 141.487\n"
          ]
        },
        {
          "output_type": "stream",
          "name": "stdout",
          "text": [
            "INFO:tensorflow:loss = 0.6583574, step = 5200 (0.689 sec)\n"
          ]
        },
        {
          "output_type": "stream",
          "name": "stderr",
          "text": [
            "INFO:tensorflow:loss = 0.6583574, step = 5200 (0.689 sec)\n"
          ]
        },
        {
          "output_type": "stream",
          "name": "stdout",
          "text": [
            "INFO:tensorflow:global_step/sec: 156.499\n"
          ]
        },
        {
          "output_type": "stream",
          "name": "stderr",
          "text": [
            "INFO:tensorflow:global_step/sec: 156.499\n"
          ]
        },
        {
          "output_type": "stream",
          "name": "stdout",
          "text": [
            "INFO:tensorflow:loss = 0.78075624, step = 5300 (0.642 sec)\n"
          ]
        },
        {
          "output_type": "stream",
          "name": "stderr",
          "text": [
            "INFO:tensorflow:loss = 0.78075624, step = 5300 (0.642 sec)\n"
          ]
        },
        {
          "output_type": "stream",
          "name": "stdout",
          "text": [
            "INFO:tensorflow:global_step/sec: 152.31\n"
          ]
        },
        {
          "output_type": "stream",
          "name": "stderr",
          "text": [
            "INFO:tensorflow:global_step/sec: 152.31\n"
          ]
        },
        {
          "output_type": "stream",
          "name": "stdout",
          "text": [
            "INFO:tensorflow:loss = 0.67586166, step = 5400 (0.656 sec)\n"
          ]
        },
        {
          "output_type": "stream",
          "name": "stderr",
          "text": [
            "INFO:tensorflow:loss = 0.67586166, step = 5400 (0.656 sec)\n"
          ]
        },
        {
          "output_type": "stream",
          "name": "stdout",
          "text": [
            "INFO:tensorflow:global_step/sec: 181.116\n"
          ]
        },
        {
          "output_type": "stream",
          "name": "stderr",
          "text": [
            "INFO:tensorflow:global_step/sec: 181.116\n"
          ]
        },
        {
          "output_type": "stream",
          "name": "stdout",
          "text": [
            "INFO:tensorflow:loss = 0.72052824, step = 5500 (0.563 sec)\n"
          ]
        },
        {
          "output_type": "stream",
          "name": "stderr",
          "text": [
            "INFO:tensorflow:loss = 0.72052824, step = 5500 (0.563 sec)\n"
          ]
        },
        {
          "output_type": "stream",
          "name": "stdout",
          "text": [
            "INFO:tensorflow:global_step/sec: 419.378\n"
          ]
        },
        {
          "output_type": "stream",
          "name": "stderr",
          "text": [
            "INFO:tensorflow:global_step/sec: 419.378\n"
          ]
        },
        {
          "output_type": "stream",
          "name": "stdout",
          "text": [
            "INFO:tensorflow:loss = 0.76340544, step = 5600 (0.230 sec)\n"
          ]
        },
        {
          "output_type": "stream",
          "name": "stderr",
          "text": [
            "INFO:tensorflow:loss = 0.76340544, step = 5600 (0.230 sec)\n"
          ]
        },
        {
          "output_type": "stream",
          "name": "stdout",
          "text": [
            "INFO:tensorflow:global_step/sec: 88.5479\n"
          ]
        },
        {
          "output_type": "stream",
          "name": "stderr",
          "text": [
            "INFO:tensorflow:global_step/sec: 88.5479\n"
          ]
        },
        {
          "output_type": "stream",
          "name": "stdout",
          "text": [
            "INFO:tensorflow:loss = 0.5767585, step = 5700 (1.129 sec)\n"
          ]
        },
        {
          "output_type": "stream",
          "name": "stderr",
          "text": [
            "INFO:tensorflow:loss = 0.5767585, step = 5700 (1.129 sec)\n"
          ]
        },
        {
          "output_type": "stream",
          "name": "stdout",
          "text": [
            "INFO:tensorflow:global_step/sec: 135.564\n"
          ]
        },
        {
          "output_type": "stream",
          "name": "stderr",
          "text": [
            "INFO:tensorflow:global_step/sec: 135.564\n"
          ]
        },
        {
          "output_type": "stream",
          "name": "stdout",
          "text": [
            "INFO:tensorflow:loss = 0.75744027, step = 5800 (0.735 sec)\n"
          ]
        },
        {
          "output_type": "stream",
          "name": "stderr",
          "text": [
            "INFO:tensorflow:loss = 0.75744027, step = 5800 (0.735 sec)\n"
          ]
        },
        {
          "output_type": "stream",
          "name": "stdout",
          "text": [
            "INFO:tensorflow:global_step/sec: 145.703\n"
          ]
        },
        {
          "output_type": "stream",
          "name": "stderr",
          "text": [
            "INFO:tensorflow:global_step/sec: 145.703\n"
          ]
        },
        {
          "output_type": "stream",
          "name": "stdout",
          "text": [
            "INFO:tensorflow:loss = 0.60814196, step = 5900 (0.686 sec)\n"
          ]
        },
        {
          "output_type": "stream",
          "name": "stderr",
          "text": [
            "INFO:tensorflow:loss = 0.60814196, step = 5900 (0.686 sec)\n"
          ]
        },
        {
          "output_type": "stream",
          "name": "stdout",
          "text": [
            "INFO:tensorflow:global_step/sec: 144.73\n"
          ]
        },
        {
          "output_type": "stream",
          "name": "stderr",
          "text": [
            "INFO:tensorflow:global_step/sec: 144.73\n"
          ]
        },
        {
          "output_type": "stream",
          "name": "stdout",
          "text": [
            "INFO:tensorflow:loss = 0.70655704, step = 6000 (0.693 sec)\n"
          ]
        },
        {
          "output_type": "stream",
          "name": "stderr",
          "text": [
            "INFO:tensorflow:loss = 0.70655704, step = 6000 (0.693 sec)\n"
          ]
        },
        {
          "output_type": "stream",
          "name": "stdout",
          "text": [
            "INFO:tensorflow:global_step/sec: 137.036\n"
          ]
        },
        {
          "output_type": "stream",
          "name": "stderr",
          "text": [
            "INFO:tensorflow:global_step/sec: 137.036\n"
          ]
        },
        {
          "output_type": "stream",
          "name": "stdout",
          "text": [
            "INFO:tensorflow:loss = 0.56820595, step = 6100 (0.728 sec)\n"
          ]
        },
        {
          "output_type": "stream",
          "name": "stderr",
          "text": [
            "INFO:tensorflow:loss = 0.56820595, step = 6100 (0.728 sec)\n"
          ]
        },
        {
          "output_type": "stream",
          "name": "stdout",
          "text": [
            "INFO:tensorflow:global_step/sec: 129.713\n"
          ]
        },
        {
          "output_type": "stream",
          "name": "stderr",
          "text": [
            "INFO:tensorflow:global_step/sec: 129.713\n"
          ]
        },
        {
          "output_type": "stream",
          "name": "stdout",
          "text": [
            "INFO:tensorflow:loss = 0.5884557, step = 6200 (0.777 sec)\n"
          ]
        },
        {
          "output_type": "stream",
          "name": "stderr",
          "text": [
            "INFO:tensorflow:loss = 0.5884557, step = 6200 (0.777 sec)\n"
          ]
        },
        {
          "output_type": "stream",
          "name": "stdout",
          "text": [
            "INFO:tensorflow:global_step/sec: 137.566\n"
          ]
        },
        {
          "output_type": "stream",
          "name": "stderr",
          "text": [
            "INFO:tensorflow:global_step/sec: 137.566\n"
          ]
        },
        {
          "output_type": "stream",
          "name": "stdout",
          "text": [
            "INFO:tensorflow:loss = 0.6190947, step = 6300 (0.725 sec)\n"
          ]
        },
        {
          "output_type": "stream",
          "name": "stderr",
          "text": [
            "INFO:tensorflow:loss = 0.6190947, step = 6300 (0.725 sec)\n"
          ]
        },
        {
          "output_type": "stream",
          "name": "stdout",
          "text": [
            "INFO:tensorflow:global_step/sec: 122.996\n"
          ]
        },
        {
          "output_type": "stream",
          "name": "stderr",
          "text": [
            "INFO:tensorflow:global_step/sec: 122.996\n"
          ]
        },
        {
          "output_type": "stream",
          "name": "stdout",
          "text": [
            "INFO:tensorflow:loss = 0.67599964, step = 6400 (0.809 sec)\n"
          ]
        },
        {
          "output_type": "stream",
          "name": "stderr",
          "text": [
            "INFO:tensorflow:loss = 0.67599964, step = 6400 (0.809 sec)\n"
          ]
        },
        {
          "output_type": "stream",
          "name": "stdout",
          "text": [
            "INFO:tensorflow:global_step/sec: 400.071\n"
          ]
        },
        {
          "output_type": "stream",
          "name": "stderr",
          "text": [
            "INFO:tensorflow:global_step/sec: 400.071\n"
          ]
        },
        {
          "output_type": "stream",
          "name": "stdout",
          "text": [
            "INFO:tensorflow:loss = 0.7723424, step = 6500 (0.250 sec)\n"
          ]
        },
        {
          "output_type": "stream",
          "name": "stderr",
          "text": [
            "INFO:tensorflow:loss = 0.7723424, step = 6500 (0.250 sec)\n"
          ]
        },
        {
          "output_type": "stream",
          "name": "stdout",
          "text": [
            "WARNING:tensorflow:It seems that global step (tf.train.get_global_step) has not been increased. Current value (could be stable): 6504 vs previous value: 6504. You could increase the global step by passing tf.train.get_global_step() to Optimizer.apply_gradients or Optimizer.minimize.\n"
          ]
        },
        {
          "output_type": "stream",
          "name": "stderr",
          "text": [
            "WARNING:tensorflow:It seems that global step (tf.train.get_global_step) has not been increased. Current value (could be stable): 6504 vs previous value: 6504. You could increase the global step by passing tf.train.get_global_step() to Optimizer.apply_gradients or Optimizer.minimize.\n"
          ]
        },
        {
          "output_type": "stream",
          "name": "stdout",
          "text": [
            "INFO:tensorflow:global_step/sec: 104.799\n"
          ]
        },
        {
          "output_type": "stream",
          "name": "stderr",
          "text": [
            "INFO:tensorflow:global_step/sec: 104.799\n"
          ]
        },
        {
          "output_type": "stream",
          "name": "stdout",
          "text": [
            "INFO:tensorflow:loss = 0.60130036, step = 6600 (0.951 sec)\n"
          ]
        },
        {
          "output_type": "stream",
          "name": "stderr",
          "text": [
            "INFO:tensorflow:loss = 0.60130036, step = 6600 (0.951 sec)\n"
          ]
        },
        {
          "output_type": "stream",
          "name": "stdout",
          "text": [
            "INFO:tensorflow:global_step/sec: 158.306\n"
          ]
        },
        {
          "output_type": "stream",
          "name": "stderr",
          "text": [
            "INFO:tensorflow:global_step/sec: 158.306\n"
          ]
        },
        {
          "output_type": "stream",
          "name": "stdout",
          "text": [
            "INFO:tensorflow:loss = 0.6937246, step = 6700 (0.637 sec)\n"
          ]
        },
        {
          "output_type": "stream",
          "name": "stderr",
          "text": [
            "INFO:tensorflow:loss = 0.6937246, step = 6700 (0.637 sec)\n"
          ]
        },
        {
          "output_type": "stream",
          "name": "stdout",
          "text": [
            "INFO:tensorflow:global_step/sec: 120.107\n"
          ]
        },
        {
          "output_type": "stream",
          "name": "stderr",
          "text": [
            "INFO:tensorflow:global_step/sec: 120.107\n"
          ]
        },
        {
          "output_type": "stream",
          "name": "stdout",
          "text": [
            "INFO:tensorflow:loss = 0.64261585, step = 6800 (0.838 sec)\n"
          ]
        },
        {
          "output_type": "stream",
          "name": "stderr",
          "text": [
            "INFO:tensorflow:loss = 0.64261585, step = 6800 (0.838 sec)\n"
          ]
        },
        {
          "output_type": "stream",
          "name": "stdout",
          "text": [
            "INFO:tensorflow:global_step/sec: 120.39\n"
          ]
        },
        {
          "output_type": "stream",
          "name": "stderr",
          "text": [
            "INFO:tensorflow:global_step/sec: 120.39\n"
          ]
        },
        {
          "output_type": "stream",
          "name": "stdout",
          "text": [
            "INFO:tensorflow:loss = 0.45556054, step = 6900 (0.833 sec)\n"
          ]
        },
        {
          "output_type": "stream",
          "name": "stderr",
          "text": [
            "INFO:tensorflow:loss = 0.45556054, step = 6900 (0.833 sec)\n"
          ]
        },
        {
          "output_type": "stream",
          "name": "stdout",
          "text": [
            "INFO:tensorflow:global_step/sec: 139.361\n"
          ]
        },
        {
          "output_type": "stream",
          "name": "stderr",
          "text": [
            "INFO:tensorflow:global_step/sec: 139.361\n"
          ]
        },
        {
          "output_type": "stream",
          "name": "stdout",
          "text": [
            "INFO:tensorflow:loss = 0.5792217, step = 7000 (0.707 sec)\n"
          ]
        },
        {
          "output_type": "stream",
          "name": "stderr",
          "text": [
            "INFO:tensorflow:loss = 0.5792217, step = 7000 (0.707 sec)\n"
          ]
        },
        {
          "output_type": "stream",
          "name": "stdout",
          "text": [
            "INFO:tensorflow:global_step/sec: 155.146\n"
          ]
        },
        {
          "output_type": "stream",
          "name": "stderr",
          "text": [
            "INFO:tensorflow:global_step/sec: 155.146\n"
          ]
        },
        {
          "output_type": "stream",
          "name": "stdout",
          "text": [
            "INFO:tensorflow:loss = 0.4504274, step = 7100 (0.650 sec)\n"
          ]
        },
        {
          "output_type": "stream",
          "name": "stderr",
          "text": [
            "INFO:tensorflow:loss = 0.4504274, step = 7100 (0.650 sec)\n"
          ]
        },
        {
          "output_type": "stream",
          "name": "stdout",
          "text": [
            "INFO:tensorflow:global_step/sec: 146.383\n"
          ]
        },
        {
          "output_type": "stream",
          "name": "stderr",
          "text": [
            "INFO:tensorflow:global_step/sec: 146.383\n"
          ]
        },
        {
          "output_type": "stream",
          "name": "stdout",
          "text": [
            "INFO:tensorflow:loss = 0.6787796, step = 7200 (0.686 sec)\n"
          ]
        },
        {
          "output_type": "stream",
          "name": "stderr",
          "text": [
            "INFO:tensorflow:loss = 0.6787796, step = 7200 (0.686 sec)\n"
          ]
        },
        {
          "output_type": "stream",
          "name": "stdout",
          "text": [
            "INFO:tensorflow:global_step/sec: 127.606\n"
          ]
        },
        {
          "output_type": "stream",
          "name": "stderr",
          "text": [
            "INFO:tensorflow:global_step/sec: 127.606\n"
          ]
        },
        {
          "output_type": "stream",
          "name": "stdout",
          "text": [
            "INFO:tensorflow:loss = 0.5080116, step = 7300 (0.772 sec)\n"
          ]
        },
        {
          "output_type": "stream",
          "name": "stderr",
          "text": [
            "INFO:tensorflow:loss = 0.5080116, step = 7300 (0.772 sec)\n"
          ]
        },
        {
          "output_type": "stream",
          "name": "stdout",
          "text": [
            "INFO:tensorflow:global_step/sec: 190.992\n"
          ]
        },
        {
          "output_type": "stream",
          "name": "stderr",
          "text": [
            "INFO:tensorflow:global_step/sec: 190.992\n"
          ]
        },
        {
          "output_type": "stream",
          "name": "stdout",
          "text": [
            "INFO:tensorflow:loss = 0.6330786, step = 7400 (0.542 sec)\n"
          ]
        },
        {
          "output_type": "stream",
          "name": "stderr",
          "text": [
            "INFO:tensorflow:loss = 0.6330786, step = 7400 (0.542 sec)\n"
          ]
        },
        {
          "output_type": "stream",
          "name": "stdout",
          "text": [
            "INFO:tensorflow:global_step/sec: 362.699\n"
          ]
        },
        {
          "output_type": "stream",
          "name": "stderr",
          "text": [
            "INFO:tensorflow:global_step/sec: 362.699\n"
          ]
        },
        {
          "output_type": "stream",
          "name": "stdout",
          "text": [
            "INFO:tensorflow:loss = 0.7679248, step = 7500 (0.264 sec)\n"
          ]
        },
        {
          "output_type": "stream",
          "name": "stderr",
          "text": [
            "INFO:tensorflow:loss = 0.7679248, step = 7500 (0.264 sec)\n"
          ]
        },
        {
          "output_type": "stream",
          "name": "stdout",
          "text": [
            "INFO:tensorflow:global_step/sec: 66.4748\n"
          ]
        },
        {
          "output_type": "stream",
          "name": "stderr",
          "text": [
            "INFO:tensorflow:global_step/sec: 66.4748\n"
          ]
        },
        {
          "output_type": "stream",
          "name": "stdout",
          "text": [
            "INFO:tensorflow:loss = 0.5807605, step = 7600 (1.505 sec)\n"
          ]
        },
        {
          "output_type": "stream",
          "name": "stderr",
          "text": [
            "INFO:tensorflow:loss = 0.5807605, step = 7600 (1.505 sec)\n"
          ]
        },
        {
          "output_type": "stream",
          "name": "stdout",
          "text": [
            "INFO:tensorflow:global_step/sec: 127.082\n"
          ]
        },
        {
          "output_type": "stream",
          "name": "stderr",
          "text": [
            "INFO:tensorflow:global_step/sec: 127.082\n"
          ]
        },
        {
          "output_type": "stream",
          "name": "stdout",
          "text": [
            "INFO:tensorflow:loss = 0.65226865, step = 7700 (0.782 sec)\n"
          ]
        },
        {
          "output_type": "stream",
          "name": "stderr",
          "text": [
            "INFO:tensorflow:loss = 0.65226865, step = 7700 (0.782 sec)\n"
          ]
        },
        {
          "output_type": "stream",
          "name": "stdout",
          "text": [
            "INFO:tensorflow:global_step/sec: 123.759\n"
          ]
        },
        {
          "output_type": "stream",
          "name": "stderr",
          "text": [
            "INFO:tensorflow:global_step/sec: 123.759\n"
          ]
        },
        {
          "output_type": "stream",
          "name": "stdout",
          "text": [
            "INFO:tensorflow:loss = 0.49374723, step = 7800 (0.810 sec)\n"
          ]
        },
        {
          "output_type": "stream",
          "name": "stderr",
          "text": [
            "INFO:tensorflow:loss = 0.49374723, step = 7800 (0.810 sec)\n"
          ]
        },
        {
          "output_type": "stream",
          "name": "stdout",
          "text": [
            "INFO:tensorflow:global_step/sec: 121.645\n"
          ]
        },
        {
          "output_type": "stream",
          "name": "stderr",
          "text": [
            "INFO:tensorflow:global_step/sec: 121.645\n"
          ]
        },
        {
          "output_type": "stream",
          "name": "stdout",
          "text": [
            "INFO:tensorflow:loss = 0.5907292, step = 7900 (0.818 sec)\n"
          ]
        },
        {
          "output_type": "stream",
          "name": "stderr",
          "text": [
            "INFO:tensorflow:loss = 0.5907292, step = 7900 (0.818 sec)\n"
          ]
        },
        {
          "output_type": "stream",
          "name": "stdout",
          "text": [
            "INFO:tensorflow:global_step/sec: 146.641\n"
          ]
        },
        {
          "output_type": "stream",
          "name": "stderr",
          "text": [
            "INFO:tensorflow:global_step/sec: 146.641\n"
          ]
        },
        {
          "output_type": "stream",
          "name": "stdout",
          "text": [
            "INFO:tensorflow:loss = 0.6290557, step = 8000 (0.682 sec)\n"
          ]
        },
        {
          "output_type": "stream",
          "name": "stderr",
          "text": [
            "INFO:tensorflow:loss = 0.6290557, step = 8000 (0.682 sec)\n"
          ]
        },
        {
          "output_type": "stream",
          "name": "stdout",
          "text": [
            "INFO:tensorflow:global_step/sec: 142.578\n"
          ]
        },
        {
          "output_type": "stream",
          "name": "stderr",
          "text": [
            "INFO:tensorflow:global_step/sec: 142.578\n"
          ]
        },
        {
          "output_type": "stream",
          "name": "stdout",
          "text": [
            "INFO:tensorflow:loss = 0.63475657, step = 8100 (0.710 sec)\n"
          ]
        },
        {
          "output_type": "stream",
          "name": "stderr",
          "text": [
            "INFO:tensorflow:loss = 0.63475657, step = 8100 (0.710 sec)\n"
          ]
        },
        {
          "output_type": "stream",
          "name": "stdout",
          "text": [
            "INFO:tensorflow:global_step/sec: 130.467\n"
          ]
        },
        {
          "output_type": "stream",
          "name": "stderr",
          "text": [
            "INFO:tensorflow:global_step/sec: 130.467\n"
          ]
        },
        {
          "output_type": "stream",
          "name": "stdout",
          "text": [
            "INFO:tensorflow:loss = 0.60159886, step = 8200 (0.757 sec)\n"
          ]
        },
        {
          "output_type": "stream",
          "name": "stderr",
          "text": [
            "INFO:tensorflow:loss = 0.60159886, step = 8200 (0.757 sec)\n"
          ]
        },
        {
          "output_type": "stream",
          "name": "stdout",
          "text": [
            "INFO:tensorflow:global_step/sec: 172.321\n"
          ]
        },
        {
          "output_type": "stream",
          "name": "stderr",
          "text": [
            "INFO:tensorflow:global_step/sec: 172.321\n"
          ]
        },
        {
          "output_type": "stream",
          "name": "stdout",
          "text": [
            "INFO:tensorflow:loss = 0.7946191, step = 8300 (0.580 sec)\n"
          ]
        },
        {
          "output_type": "stream",
          "name": "stderr",
          "text": [
            "INFO:tensorflow:loss = 0.7946191, step = 8300 (0.580 sec)\n"
          ]
        },
        {
          "output_type": "stream",
          "name": "stdout",
          "text": [
            "INFO:tensorflow:global_step/sec: 571.205\n"
          ]
        },
        {
          "output_type": "stream",
          "name": "stderr",
          "text": [
            "INFO:tensorflow:global_step/sec: 571.205\n"
          ]
        },
        {
          "output_type": "stream",
          "name": "stdout",
          "text": [
            "INFO:tensorflow:loss = 0.43352067, step = 8400 (0.179 sec)\n"
          ]
        },
        {
          "output_type": "stream",
          "name": "stderr",
          "text": [
            "INFO:tensorflow:loss = 0.43352067, step = 8400 (0.179 sec)\n"
          ]
        },
        {
          "output_type": "stream",
          "name": "stdout",
          "text": [
            "INFO:tensorflow:global_step/sec: 120.006\n"
          ]
        },
        {
          "output_type": "stream",
          "name": "stderr",
          "text": [
            "INFO:tensorflow:global_step/sec: 120.006\n"
          ]
        },
        {
          "output_type": "stream",
          "name": "stdout",
          "text": [
            "INFO:tensorflow:loss = 0.54032445, step = 8500 (0.837 sec)\n"
          ]
        },
        {
          "output_type": "stream",
          "name": "stderr",
          "text": [
            "INFO:tensorflow:loss = 0.54032445, step = 8500 (0.837 sec)\n"
          ]
        },
        {
          "output_type": "stream",
          "name": "stdout",
          "text": [
            "INFO:tensorflow:global_step/sec: 213.061\n"
          ]
        },
        {
          "output_type": "stream",
          "name": "stderr",
          "text": [
            "INFO:tensorflow:global_step/sec: 213.061\n"
          ]
        },
        {
          "output_type": "stream",
          "name": "stdout",
          "text": [
            "INFO:tensorflow:loss = 0.5806148, step = 8600 (0.471 sec)\n"
          ]
        },
        {
          "output_type": "stream",
          "name": "stderr",
          "text": [
            "INFO:tensorflow:loss = 0.5806148, step = 8600 (0.471 sec)\n"
          ]
        },
        {
          "output_type": "stream",
          "name": "stdout",
          "text": [
            "INFO:tensorflow:global_step/sec: 199.937\n"
          ]
        },
        {
          "output_type": "stream",
          "name": "stderr",
          "text": [
            "INFO:tensorflow:global_step/sec: 199.937\n"
          ]
        },
        {
          "output_type": "stream",
          "name": "stdout",
          "text": [
            "INFO:tensorflow:loss = 0.55441064, step = 8700 (0.495 sec)\n"
          ]
        },
        {
          "output_type": "stream",
          "name": "stderr",
          "text": [
            "INFO:tensorflow:loss = 0.55441064, step = 8700 (0.495 sec)\n"
          ]
        },
        {
          "output_type": "stream",
          "name": "stdout",
          "text": [
            "INFO:tensorflow:global_step/sec: 198.751\n"
          ]
        },
        {
          "output_type": "stream",
          "name": "stderr",
          "text": [
            "INFO:tensorflow:global_step/sec: 198.751\n"
          ]
        },
        {
          "output_type": "stream",
          "name": "stdout",
          "text": [
            "INFO:tensorflow:loss = 0.52630186, step = 8800 (0.507 sec)\n"
          ]
        },
        {
          "output_type": "stream",
          "name": "stderr",
          "text": [
            "INFO:tensorflow:loss = 0.52630186, step = 8800 (0.507 sec)\n"
          ]
        },
        {
          "output_type": "stream",
          "name": "stdout",
          "text": [
            "INFO:tensorflow:global_step/sec: 201.196\n"
          ]
        },
        {
          "output_type": "stream",
          "name": "stderr",
          "text": [
            "INFO:tensorflow:global_step/sec: 201.196\n"
          ]
        },
        {
          "output_type": "stream",
          "name": "stdout",
          "text": [
            "INFO:tensorflow:loss = 0.5628397, step = 8900 (0.495 sec)\n"
          ]
        },
        {
          "output_type": "stream",
          "name": "stderr",
          "text": [
            "INFO:tensorflow:loss = 0.5628397, step = 8900 (0.495 sec)\n"
          ]
        },
        {
          "output_type": "stream",
          "name": "stdout",
          "text": [
            "INFO:tensorflow:global_step/sec: 188.808\n"
          ]
        },
        {
          "output_type": "stream",
          "name": "stderr",
          "text": [
            "INFO:tensorflow:global_step/sec: 188.808\n"
          ]
        },
        {
          "output_type": "stream",
          "name": "stdout",
          "text": [
            "INFO:tensorflow:loss = 0.6412356, step = 9000 (0.530 sec)\n"
          ]
        },
        {
          "output_type": "stream",
          "name": "stderr",
          "text": [
            "INFO:tensorflow:loss = 0.6412356, step = 9000 (0.530 sec)\n"
          ]
        },
        {
          "output_type": "stream",
          "name": "stdout",
          "text": [
            "INFO:tensorflow:global_step/sec: 188.983\n"
          ]
        },
        {
          "output_type": "stream",
          "name": "stderr",
          "text": [
            "INFO:tensorflow:global_step/sec: 188.983\n"
          ]
        },
        {
          "output_type": "stream",
          "name": "stdout",
          "text": [
            "INFO:tensorflow:loss = 0.48598802, step = 9100 (0.530 sec)\n"
          ]
        },
        {
          "output_type": "stream",
          "name": "stderr",
          "text": [
            "INFO:tensorflow:loss = 0.48598802, step = 9100 (0.530 sec)\n"
          ]
        },
        {
          "output_type": "stream",
          "name": "stdout",
          "text": [
            "INFO:tensorflow:global_step/sec: 204.498\n"
          ]
        },
        {
          "output_type": "stream",
          "name": "stderr",
          "text": [
            "INFO:tensorflow:global_step/sec: 204.498\n"
          ]
        },
        {
          "output_type": "stream",
          "name": "stdout",
          "text": [
            "INFO:tensorflow:loss = 0.55644953, step = 9200 (0.490 sec)\n"
          ]
        },
        {
          "output_type": "stream",
          "name": "stderr",
          "text": [
            "INFO:tensorflow:loss = 0.55644953, step = 9200 (0.490 sec)\n"
          ]
        },
        {
          "output_type": "stream",
          "name": "stdout",
          "text": [
            "INFO:tensorflow:global_step/sec: 420.595\n"
          ]
        },
        {
          "output_type": "stream",
          "name": "stderr",
          "text": [
            "INFO:tensorflow:global_step/sec: 420.595\n"
          ]
        },
        {
          "output_type": "stream",
          "name": "stdout",
          "text": [
            "INFO:tensorflow:loss = 0.47044313, step = 9300 (0.237 sec)\n"
          ]
        },
        {
          "output_type": "stream",
          "name": "stderr",
          "text": [
            "INFO:tensorflow:loss = 0.47044313, step = 9300 (0.237 sec)\n"
          ]
        },
        {
          "output_type": "stream",
          "name": "stdout",
          "text": [
            "INFO:tensorflow:global_step/sec: 136.554\n"
          ]
        },
        {
          "output_type": "stream",
          "name": "stderr",
          "text": [
            "INFO:tensorflow:global_step/sec: 136.554\n"
          ]
        },
        {
          "output_type": "stream",
          "name": "stdout",
          "text": [
            "INFO:tensorflow:loss = 0.47439003, step = 9400 (0.731 sec)\n"
          ]
        },
        {
          "output_type": "stream",
          "name": "stderr",
          "text": [
            "INFO:tensorflow:loss = 0.47439003, step = 9400 (0.731 sec)\n"
          ]
        },
        {
          "output_type": "stream",
          "name": "stdout",
          "text": [
            "INFO:tensorflow:global_step/sec: 201.058\n"
          ]
        },
        {
          "output_type": "stream",
          "name": "stderr",
          "text": [
            "INFO:tensorflow:global_step/sec: 201.058\n"
          ]
        },
        {
          "output_type": "stream",
          "name": "stdout",
          "text": [
            "INFO:tensorflow:loss = 0.6314001, step = 9500 (0.498 sec)\n"
          ]
        },
        {
          "output_type": "stream",
          "name": "stderr",
          "text": [
            "INFO:tensorflow:loss = 0.6314001, step = 9500 (0.498 sec)\n"
          ]
        },
        {
          "output_type": "stream",
          "name": "stdout",
          "text": [
            "INFO:tensorflow:global_step/sec: 160.193\n"
          ]
        },
        {
          "output_type": "stream",
          "name": "stderr",
          "text": [
            "INFO:tensorflow:global_step/sec: 160.193\n"
          ]
        },
        {
          "output_type": "stream",
          "name": "stdout",
          "text": [
            "INFO:tensorflow:loss = 0.43383753, step = 9600 (0.623 sec)\n"
          ]
        },
        {
          "output_type": "stream",
          "name": "stderr",
          "text": [
            "INFO:tensorflow:loss = 0.43383753, step = 9600 (0.623 sec)\n"
          ]
        },
        {
          "output_type": "stream",
          "name": "stdout",
          "text": [
            "INFO:tensorflow:global_step/sec: 142.398\n"
          ]
        },
        {
          "output_type": "stream",
          "name": "stderr",
          "text": [
            "INFO:tensorflow:global_step/sec: 142.398\n"
          ]
        },
        {
          "output_type": "stream",
          "name": "stdout",
          "text": [
            "INFO:tensorflow:loss = 0.546866, step = 9700 (0.704 sec)\n"
          ]
        },
        {
          "output_type": "stream",
          "name": "stderr",
          "text": [
            "INFO:tensorflow:loss = 0.546866, step = 9700 (0.704 sec)\n"
          ]
        },
        {
          "output_type": "stream",
          "name": "stdout",
          "text": [
            "INFO:tensorflow:global_step/sec: 137.514\n"
          ]
        },
        {
          "output_type": "stream",
          "name": "stderr",
          "text": [
            "INFO:tensorflow:global_step/sec: 137.514\n"
          ]
        },
        {
          "output_type": "stream",
          "name": "stdout",
          "text": [
            "INFO:tensorflow:loss = 0.39048898, step = 9800 (0.726 sec)\n"
          ]
        },
        {
          "output_type": "stream",
          "name": "stderr",
          "text": [
            "INFO:tensorflow:loss = 0.39048898, step = 9800 (0.726 sec)\n"
          ]
        },
        {
          "output_type": "stream",
          "name": "stdout",
          "text": [
            "INFO:tensorflow:global_step/sec: 120.421\n"
          ]
        },
        {
          "output_type": "stream",
          "name": "stderr",
          "text": [
            "INFO:tensorflow:global_step/sec: 120.421\n"
          ]
        },
        {
          "output_type": "stream",
          "name": "stdout",
          "text": [
            "INFO:tensorflow:loss = 0.45252293, step = 9900 (0.835 sec)\n"
          ]
        },
        {
          "output_type": "stream",
          "name": "stderr",
          "text": [
            "INFO:tensorflow:loss = 0.45252293, step = 9900 (0.835 sec)\n"
          ]
        },
        {
          "output_type": "stream",
          "name": "stdout",
          "text": [
            "INFO:tensorflow:global_step/sec: 131.351\n"
          ]
        },
        {
          "output_type": "stream",
          "name": "stderr",
          "text": [
            "INFO:tensorflow:global_step/sec: 131.351\n"
          ]
        },
        {
          "output_type": "stream",
          "name": "stdout",
          "text": [
            "INFO:tensorflow:loss = 0.6901337, step = 10000 (0.759 sec)\n"
          ]
        },
        {
          "output_type": "stream",
          "name": "stderr",
          "text": [
            "INFO:tensorflow:loss = 0.6901337, step = 10000 (0.759 sec)\n"
          ]
        },
        {
          "output_type": "stream",
          "name": "stdout",
          "text": [
            "INFO:tensorflow:global_step/sec: 161.322\n"
          ]
        },
        {
          "output_type": "stream",
          "name": "stderr",
          "text": [
            "INFO:tensorflow:global_step/sec: 161.322\n"
          ]
        },
        {
          "output_type": "stream",
          "name": "stdout",
          "text": [
            "INFO:tensorflow:loss = 0.39763564, step = 10100 (0.617 sec)\n"
          ]
        },
        {
          "output_type": "stream",
          "name": "stderr",
          "text": [
            "INFO:tensorflow:loss = 0.39763564, step = 10100 (0.617 sec)\n"
          ]
        },
        {
          "output_type": "stream",
          "name": "stdout",
          "text": [
            "INFO:tensorflow:global_step/sec: 178.699\n"
          ]
        },
        {
          "output_type": "stream",
          "name": "stderr",
          "text": [
            "INFO:tensorflow:global_step/sec: 178.699\n"
          ]
        },
        {
          "output_type": "stream",
          "name": "stdout",
          "text": [
            "INFO:tensorflow:loss = 0.2813208, step = 10200 (0.560 sec)\n"
          ]
        },
        {
          "output_type": "stream",
          "name": "stderr",
          "text": [
            "INFO:tensorflow:loss = 0.2813208, step = 10200 (0.560 sec)\n"
          ]
        },
        {
          "output_type": "stream",
          "name": "stdout",
          "text": [
            "INFO:tensorflow:global_step/sec: 363.827\n"
          ]
        },
        {
          "output_type": "stream",
          "name": "stderr",
          "text": [
            "INFO:tensorflow:global_step/sec: 363.827\n"
          ]
        },
        {
          "output_type": "stream",
          "name": "stdout",
          "text": [
            "INFO:tensorflow:loss = 0.6008381, step = 10300 (0.274 sec)\n"
          ]
        },
        {
          "output_type": "stream",
          "name": "stderr",
          "text": [
            "INFO:tensorflow:loss = 0.6008381, step = 10300 (0.274 sec)\n"
          ]
        },
        {
          "output_type": "stream",
          "name": "stdout",
          "text": [
            "INFO:tensorflow:global_step/sec: 71.6164\n"
          ]
        },
        {
          "output_type": "stream",
          "name": "stderr",
          "text": [
            "INFO:tensorflow:global_step/sec: 71.6164\n"
          ]
        },
        {
          "output_type": "stream",
          "name": "stdout",
          "text": [
            "INFO:tensorflow:loss = 0.5616672, step = 10400 (1.403 sec)\n"
          ]
        },
        {
          "output_type": "stream",
          "name": "stderr",
          "text": [
            "INFO:tensorflow:loss = 0.5616672, step = 10400 (1.403 sec)\n"
          ]
        },
        {
          "output_type": "stream",
          "name": "stdout",
          "text": [
            "INFO:tensorflow:global_step/sec: 162.614\n"
          ]
        },
        {
          "output_type": "stream",
          "name": "stderr",
          "text": [
            "INFO:tensorflow:global_step/sec: 162.614\n"
          ]
        },
        {
          "output_type": "stream",
          "name": "stdout",
          "text": [
            "INFO:tensorflow:loss = 0.61355054, step = 10500 (0.611 sec)\n"
          ]
        },
        {
          "output_type": "stream",
          "name": "stderr",
          "text": [
            "INFO:tensorflow:loss = 0.61355054, step = 10500 (0.611 sec)\n"
          ]
        },
        {
          "output_type": "stream",
          "name": "stdout",
          "text": [
            "INFO:tensorflow:global_step/sec: 138.349\n"
          ]
        },
        {
          "output_type": "stream",
          "name": "stderr",
          "text": [
            "INFO:tensorflow:global_step/sec: 138.349\n"
          ]
        },
        {
          "output_type": "stream",
          "name": "stdout",
          "text": [
            "INFO:tensorflow:loss = 0.38253543, step = 10600 (0.720 sec)\n"
          ]
        },
        {
          "output_type": "stream",
          "name": "stderr",
          "text": [
            "INFO:tensorflow:loss = 0.38253543, step = 10600 (0.720 sec)\n"
          ]
        },
        {
          "output_type": "stream",
          "name": "stdout",
          "text": [
            "INFO:tensorflow:global_step/sec: 134.667\n"
          ]
        },
        {
          "output_type": "stream",
          "name": "stderr",
          "text": [
            "INFO:tensorflow:global_step/sec: 134.667\n"
          ]
        },
        {
          "output_type": "stream",
          "name": "stdout",
          "text": [
            "INFO:tensorflow:loss = 0.5821372, step = 10700 (0.745 sec)\n"
          ]
        },
        {
          "output_type": "stream",
          "name": "stderr",
          "text": [
            "INFO:tensorflow:loss = 0.5821372, step = 10700 (0.745 sec)\n"
          ]
        },
        {
          "output_type": "stream",
          "name": "stdout",
          "text": [
            "INFO:tensorflow:global_step/sec: 130.945\n"
          ]
        },
        {
          "output_type": "stream",
          "name": "stderr",
          "text": [
            "INFO:tensorflow:global_step/sec: 130.945\n"
          ]
        },
        {
          "output_type": "stream",
          "name": "stdout",
          "text": [
            "INFO:tensorflow:loss = 0.5329849, step = 10800 (0.757 sec)\n"
          ]
        },
        {
          "output_type": "stream",
          "name": "stderr",
          "text": [
            "INFO:tensorflow:loss = 0.5329849, step = 10800 (0.757 sec)\n"
          ]
        },
        {
          "output_type": "stream",
          "name": "stdout",
          "text": [
            "INFO:tensorflow:global_step/sec: 124.696\n"
          ]
        },
        {
          "output_type": "stream",
          "name": "stderr",
          "text": [
            "INFO:tensorflow:global_step/sec: 124.696\n"
          ]
        },
        {
          "output_type": "stream",
          "name": "stdout",
          "text": [
            "INFO:tensorflow:loss = 0.37163657, step = 10900 (0.807 sec)\n"
          ]
        },
        {
          "output_type": "stream",
          "name": "stderr",
          "text": [
            "INFO:tensorflow:loss = 0.37163657, step = 10900 (0.807 sec)\n"
          ]
        },
        {
          "output_type": "stream",
          "name": "stdout",
          "text": [
            "INFO:tensorflow:global_step/sec: 132.891\n"
          ]
        },
        {
          "output_type": "stream",
          "name": "stderr",
          "text": [
            "INFO:tensorflow:global_step/sec: 132.891\n"
          ]
        },
        {
          "output_type": "stream",
          "name": "stdout",
          "text": [
            "INFO:tensorflow:loss = 0.660215, step = 11000 (0.748 sec)\n"
          ]
        },
        {
          "output_type": "stream",
          "name": "stderr",
          "text": [
            "INFO:tensorflow:loss = 0.660215, step = 11000 (0.748 sec)\n"
          ]
        },
        {
          "output_type": "stream",
          "name": "stdout",
          "text": [
            "INFO:tensorflow:global_step/sec: 129.538\n"
          ]
        },
        {
          "output_type": "stream",
          "name": "stderr",
          "text": [
            "INFO:tensorflow:global_step/sec: 129.538\n"
          ]
        },
        {
          "output_type": "stream",
          "name": "stdout",
          "text": [
            "INFO:tensorflow:loss = 0.47550038, step = 11100 (0.782 sec)\n"
          ]
        },
        {
          "output_type": "stream",
          "name": "stderr",
          "text": [
            "INFO:tensorflow:loss = 0.47550038, step = 11100 (0.782 sec)\n"
          ]
        },
        {
          "output_type": "stream",
          "name": "stdout",
          "text": [
            "INFO:tensorflow:global_step/sec: 409.743\n"
          ]
        },
        {
          "output_type": "stream",
          "name": "stderr",
          "text": [
            "INFO:tensorflow:global_step/sec: 409.743\n"
          ]
        },
        {
          "output_type": "stream",
          "name": "stdout",
          "text": [
            "INFO:tensorflow:loss = 0.48090297, step = 11200 (0.241 sec)\n"
          ]
        },
        {
          "output_type": "stream",
          "name": "stderr",
          "text": [
            "INFO:tensorflow:loss = 0.48090297, step = 11200 (0.241 sec)\n"
          ]
        },
        {
          "output_type": "stream",
          "name": "stdout",
          "text": [
            "INFO:tensorflow:global_step/sec: 77.7391\n"
          ]
        },
        {
          "output_type": "stream",
          "name": "stderr",
          "text": [
            "INFO:tensorflow:global_step/sec: 77.7391\n"
          ]
        },
        {
          "output_type": "stream",
          "name": "stdout",
          "text": [
            "INFO:tensorflow:loss = 0.41660112, step = 11300 (1.287 sec)\n"
          ]
        },
        {
          "output_type": "stream",
          "name": "stderr",
          "text": [
            "INFO:tensorflow:loss = 0.41660112, step = 11300 (1.287 sec)\n"
          ]
        },
        {
          "output_type": "stream",
          "name": "stdout",
          "text": [
            "INFO:tensorflow:global_step/sec: 131.256\n"
          ]
        },
        {
          "output_type": "stream",
          "name": "stderr",
          "text": [
            "INFO:tensorflow:global_step/sec: 131.256\n"
          ]
        },
        {
          "output_type": "stream",
          "name": "stdout",
          "text": [
            "INFO:tensorflow:loss = 0.4418648, step = 11400 (0.754 sec)\n"
          ]
        },
        {
          "output_type": "stream",
          "name": "stderr",
          "text": [
            "INFO:tensorflow:loss = 0.4418648, step = 11400 (0.754 sec)\n"
          ]
        },
        {
          "output_type": "stream",
          "name": "stdout",
          "text": [
            "INFO:tensorflow:global_step/sec: 113.413\n"
          ]
        },
        {
          "output_type": "stream",
          "name": "stderr",
          "text": [
            "INFO:tensorflow:global_step/sec: 113.413\n"
          ]
        },
        {
          "output_type": "stream",
          "name": "stdout",
          "text": [
            "INFO:tensorflow:loss = 0.363458, step = 11500 (0.882 sec)\n"
          ]
        },
        {
          "output_type": "stream",
          "name": "stderr",
          "text": [
            "INFO:tensorflow:loss = 0.363458, step = 11500 (0.882 sec)\n"
          ]
        },
        {
          "output_type": "stream",
          "name": "stdout",
          "text": [
            "INFO:tensorflow:global_step/sec: 118.62\n"
          ]
        },
        {
          "output_type": "stream",
          "name": "stderr",
          "text": [
            "INFO:tensorflow:global_step/sec: 118.62\n"
          ]
        },
        {
          "output_type": "stream",
          "name": "stdout",
          "text": [
            "INFO:tensorflow:loss = 0.4884086, step = 11600 (0.843 sec)\n"
          ]
        },
        {
          "output_type": "stream",
          "name": "stderr",
          "text": [
            "INFO:tensorflow:loss = 0.4884086, step = 11600 (0.843 sec)\n"
          ]
        },
        {
          "output_type": "stream",
          "name": "stdout",
          "text": [
            "INFO:tensorflow:global_step/sec: 184.723\n"
          ]
        },
        {
          "output_type": "stream",
          "name": "stderr",
          "text": [
            "INFO:tensorflow:global_step/sec: 184.723\n"
          ]
        },
        {
          "output_type": "stream",
          "name": "stdout",
          "text": [
            "INFO:tensorflow:loss = 0.3806761, step = 11700 (0.544 sec)\n"
          ]
        },
        {
          "output_type": "stream",
          "name": "stderr",
          "text": [
            "INFO:tensorflow:loss = 0.3806761, step = 11700 (0.544 sec)\n"
          ]
        },
        {
          "output_type": "stream",
          "name": "stdout",
          "text": [
            "INFO:tensorflow:global_step/sec: 185.07\n"
          ]
        },
        {
          "output_type": "stream",
          "name": "stderr",
          "text": [
            "INFO:tensorflow:global_step/sec: 185.07\n"
          ]
        },
        {
          "output_type": "stream",
          "name": "stdout",
          "text": [
            "INFO:tensorflow:loss = 0.4781029, step = 11800 (0.537 sec)\n"
          ]
        },
        {
          "output_type": "stream",
          "name": "stderr",
          "text": [
            "INFO:tensorflow:loss = 0.4781029, step = 11800 (0.537 sec)\n"
          ]
        },
        {
          "output_type": "stream",
          "name": "stdout",
          "text": [
            "INFO:tensorflow:global_step/sec: 184.818\n"
          ]
        },
        {
          "output_type": "stream",
          "name": "stderr",
          "text": [
            "INFO:tensorflow:global_step/sec: 184.818\n"
          ]
        },
        {
          "output_type": "stream",
          "name": "stdout",
          "text": [
            "INFO:tensorflow:loss = 0.4154079, step = 11900 (0.545 sec)\n"
          ]
        },
        {
          "output_type": "stream",
          "name": "stderr",
          "text": [
            "INFO:tensorflow:loss = 0.4154079, step = 11900 (0.545 sec)\n"
          ]
        },
        {
          "output_type": "stream",
          "name": "stdout",
          "text": [
            "INFO:tensorflow:global_step/sec: 182.487\n"
          ]
        },
        {
          "output_type": "stream",
          "name": "stderr",
          "text": [
            "INFO:tensorflow:global_step/sec: 182.487\n"
          ]
        },
        {
          "output_type": "stream",
          "name": "stdout",
          "text": [
            "INFO:tensorflow:loss = 0.43032646, step = 12000 (0.557 sec)\n"
          ]
        },
        {
          "output_type": "stream",
          "name": "stderr",
          "text": [
            "INFO:tensorflow:loss = 0.43032646, step = 12000 (0.557 sec)\n"
          ]
        },
        {
          "output_type": "stream",
          "name": "stdout",
          "text": [
            "INFO:tensorflow:global_step/sec: 313.879\n"
          ]
        },
        {
          "output_type": "stream",
          "name": "stderr",
          "text": [
            "INFO:tensorflow:global_step/sec: 313.879\n"
          ]
        },
        {
          "output_type": "stream",
          "name": "stdout",
          "text": [
            "INFO:tensorflow:loss = 0.43705797, step = 12100 (0.310 sec)\n"
          ]
        },
        {
          "output_type": "stream",
          "name": "stderr",
          "text": [
            "INFO:tensorflow:loss = 0.43705797, step = 12100 (0.310 sec)\n"
          ]
        },
        {
          "output_type": "stream",
          "name": "stdout",
          "text": [
            "INFO:tensorflow:global_step/sec: 143.191\n"
          ]
        },
        {
          "output_type": "stream",
          "name": "stderr",
          "text": [
            "INFO:tensorflow:global_step/sec: 143.191\n"
          ]
        },
        {
          "output_type": "stream",
          "name": "stdout",
          "text": [
            "INFO:tensorflow:loss = 0.5167772, step = 12200 (0.693 sec)\n"
          ]
        },
        {
          "output_type": "stream",
          "name": "stderr",
          "text": [
            "INFO:tensorflow:loss = 0.5167772, step = 12200 (0.693 sec)\n"
          ]
        },
        {
          "output_type": "stream",
          "name": "stdout",
          "text": [
            "INFO:tensorflow:global_step/sec: 177.929\n"
          ]
        },
        {
          "output_type": "stream",
          "name": "stderr",
          "text": [
            "INFO:tensorflow:global_step/sec: 177.929\n"
          ]
        },
        {
          "output_type": "stream",
          "name": "stdout",
          "text": [
            "INFO:tensorflow:loss = 0.3932044, step = 12300 (0.567 sec)\n"
          ]
        },
        {
          "output_type": "stream",
          "name": "stderr",
          "text": [
            "INFO:tensorflow:loss = 0.3932044, step = 12300 (0.567 sec)\n"
          ]
        },
        {
          "output_type": "stream",
          "name": "stdout",
          "text": [
            "INFO:tensorflow:global_step/sec: 143.089\n"
          ]
        },
        {
          "output_type": "stream",
          "name": "stderr",
          "text": [
            "INFO:tensorflow:global_step/sec: 143.089\n"
          ]
        },
        {
          "output_type": "stream",
          "name": "stdout",
          "text": [
            "INFO:tensorflow:loss = 0.38146526, step = 12400 (0.702 sec)\n"
          ]
        },
        {
          "output_type": "stream",
          "name": "stderr",
          "text": [
            "INFO:tensorflow:loss = 0.38146526, step = 12400 (0.702 sec)\n"
          ]
        },
        {
          "output_type": "stream",
          "name": "stdout",
          "text": [
            "INFO:tensorflow:global_step/sec: 126.775\n"
          ]
        },
        {
          "output_type": "stream",
          "name": "stderr",
          "text": [
            "INFO:tensorflow:global_step/sec: 126.775\n"
          ]
        },
        {
          "output_type": "stream",
          "name": "stdout",
          "text": [
            "INFO:tensorflow:loss = 0.40803668, step = 12500 (0.799 sec)\n"
          ]
        },
        {
          "output_type": "stream",
          "name": "stderr",
          "text": [
            "INFO:tensorflow:loss = 0.40803668, step = 12500 (0.799 sec)\n"
          ]
        },
        {
          "output_type": "stream",
          "name": "stdout",
          "text": [
            "INFO:tensorflow:global_step/sec: 152.404\n"
          ]
        },
        {
          "output_type": "stream",
          "name": "stderr",
          "text": [
            "INFO:tensorflow:global_step/sec: 152.404\n"
          ]
        },
        {
          "output_type": "stream",
          "name": "stdout",
          "text": [
            "INFO:tensorflow:loss = 0.36520058, step = 12600 (0.639 sec)\n"
          ]
        },
        {
          "output_type": "stream",
          "name": "stderr",
          "text": [
            "INFO:tensorflow:loss = 0.36520058, step = 12600 (0.639 sec)\n"
          ]
        },
        {
          "output_type": "stream",
          "name": "stdout",
          "text": [
            "INFO:tensorflow:global_step/sec: 160.594\n"
          ]
        },
        {
          "output_type": "stream",
          "name": "stderr",
          "text": [
            "INFO:tensorflow:global_step/sec: 160.594\n"
          ]
        },
        {
          "output_type": "stream",
          "name": "stdout",
          "text": [
            "INFO:tensorflow:loss = 0.68457496, step = 12700 (0.630 sec)\n"
          ]
        },
        {
          "output_type": "stream",
          "name": "stderr",
          "text": [
            "INFO:tensorflow:loss = 0.68457496, step = 12700 (0.630 sec)\n"
          ]
        },
        {
          "output_type": "stream",
          "name": "stdout",
          "text": [
            "INFO:tensorflow:global_step/sec: 146.907\n"
          ]
        },
        {
          "output_type": "stream",
          "name": "stderr",
          "text": [
            "INFO:tensorflow:global_step/sec: 146.907\n"
          ]
        },
        {
          "output_type": "stream",
          "name": "stdout",
          "text": [
            "INFO:tensorflow:loss = 0.3881687, step = 12800 (0.681 sec)\n"
          ]
        },
        {
          "output_type": "stream",
          "name": "stderr",
          "text": [
            "INFO:tensorflow:loss = 0.3881687, step = 12800 (0.681 sec)\n"
          ]
        },
        {
          "output_type": "stream",
          "name": "stdout",
          "text": [
            "INFO:tensorflow:global_step/sec: 160.947\n"
          ]
        },
        {
          "output_type": "stream",
          "name": "stderr",
          "text": [
            "INFO:tensorflow:global_step/sec: 160.947\n"
          ]
        },
        {
          "output_type": "stream",
          "name": "stdout",
          "text": [
            "INFO:tensorflow:loss = 0.56666756, step = 12900 (0.620 sec)\n"
          ]
        },
        {
          "output_type": "stream",
          "name": "stderr",
          "text": [
            "INFO:tensorflow:loss = 0.56666756, step = 12900 (0.620 sec)\n"
          ]
        },
        {
          "output_type": "stream",
          "name": "stdout",
          "text": [
            "INFO:tensorflow:global_step/sec: 173.652\n"
          ]
        },
        {
          "output_type": "stream",
          "name": "stderr",
          "text": [
            "INFO:tensorflow:global_step/sec: 173.652\n"
          ]
        },
        {
          "output_type": "stream",
          "name": "stdout",
          "text": [
            "INFO:tensorflow:loss = 0.5384053, step = 13000 (0.579 sec)\n"
          ]
        },
        {
          "output_type": "stream",
          "name": "stderr",
          "text": [
            "INFO:tensorflow:loss = 0.5384053, step = 13000 (0.579 sec)\n"
          ]
        },
        {
          "output_type": "stream",
          "name": "stdout",
          "text": [
            "INFO:tensorflow:global_step/sec: 411.415\n"
          ]
        },
        {
          "output_type": "stream",
          "name": "stderr",
          "text": [
            "INFO:tensorflow:global_step/sec: 411.415\n"
          ]
        },
        {
          "output_type": "stream",
          "name": "stdout",
          "text": [
            "INFO:tensorflow:loss = 0.43570563, step = 13100 (0.234 sec)\n"
          ]
        },
        {
          "output_type": "stream",
          "name": "stderr",
          "text": [
            "INFO:tensorflow:loss = 0.43570563, step = 13100 (0.234 sec)\n"
          ]
        },
        {
          "output_type": "stream",
          "name": "stdout",
          "text": [
            "INFO:tensorflow:global_step/sec: 88.2602\n"
          ]
        },
        {
          "output_type": "stream",
          "name": "stderr",
          "text": [
            "INFO:tensorflow:global_step/sec: 88.2602\n"
          ]
        },
        {
          "output_type": "stream",
          "name": "stdout",
          "text": [
            "INFO:tensorflow:loss = 0.38564038, step = 13200 (1.132 sec)\n"
          ]
        },
        {
          "output_type": "stream",
          "name": "stderr",
          "text": [
            "INFO:tensorflow:loss = 0.38564038, step = 13200 (1.132 sec)\n"
          ]
        },
        {
          "output_type": "stream",
          "name": "stdout",
          "text": [
            "INFO:tensorflow:global_step/sec: 124.85\n"
          ]
        },
        {
          "output_type": "stream",
          "name": "stderr",
          "text": [
            "INFO:tensorflow:global_step/sec: 124.85\n"
          ]
        },
        {
          "output_type": "stream",
          "name": "stdout",
          "text": [
            "INFO:tensorflow:loss = 0.6297246, step = 13300 (0.811 sec)\n"
          ]
        },
        {
          "output_type": "stream",
          "name": "stderr",
          "text": [
            "INFO:tensorflow:loss = 0.6297246, step = 13300 (0.811 sec)\n"
          ]
        },
        {
          "output_type": "stream",
          "name": "stdout",
          "text": [
            "INFO:tensorflow:global_step/sec: 152.723\n"
          ]
        },
        {
          "output_type": "stream",
          "name": "stderr",
          "text": [
            "INFO:tensorflow:global_step/sec: 152.723\n"
          ]
        },
        {
          "output_type": "stream",
          "name": "stdout",
          "text": [
            "INFO:tensorflow:loss = 0.56418276, step = 13400 (0.656 sec)\n"
          ]
        },
        {
          "output_type": "stream",
          "name": "stderr",
          "text": [
            "INFO:tensorflow:loss = 0.56418276, step = 13400 (0.656 sec)\n"
          ]
        },
        {
          "output_type": "stream",
          "name": "stdout",
          "text": [
            "INFO:tensorflow:global_step/sec: 155.286\n"
          ]
        },
        {
          "output_type": "stream",
          "name": "stderr",
          "text": [
            "INFO:tensorflow:global_step/sec: 155.286\n"
          ]
        },
        {
          "output_type": "stream",
          "name": "stdout",
          "text": [
            "INFO:tensorflow:loss = 0.6112874, step = 13500 (0.648 sec)\n"
          ]
        },
        {
          "output_type": "stream",
          "name": "stderr",
          "text": [
            "INFO:tensorflow:loss = 0.6112874, step = 13500 (0.648 sec)\n"
          ]
        },
        {
          "output_type": "stream",
          "name": "stdout",
          "text": [
            "INFO:tensorflow:global_step/sec: 155.752\n"
          ]
        },
        {
          "output_type": "stream",
          "name": "stderr",
          "text": [
            "INFO:tensorflow:global_step/sec: 155.752\n"
          ]
        },
        {
          "output_type": "stream",
          "name": "stdout",
          "text": [
            "INFO:tensorflow:loss = 0.5179989, step = 13600 (0.628 sec)\n"
          ]
        },
        {
          "output_type": "stream",
          "name": "stderr",
          "text": [
            "INFO:tensorflow:loss = 0.5179989, step = 13600 (0.628 sec)\n"
          ]
        },
        {
          "output_type": "stream",
          "name": "stdout",
          "text": [
            "INFO:tensorflow:global_step/sec: 149.271\n"
          ]
        },
        {
          "output_type": "stream",
          "name": "stderr",
          "text": [
            "INFO:tensorflow:global_step/sec: 149.271\n"
          ]
        },
        {
          "output_type": "stream",
          "name": "stdout",
          "text": [
            "INFO:tensorflow:loss = 0.50522316, step = 13700 (0.676 sec)\n"
          ]
        },
        {
          "output_type": "stream",
          "name": "stderr",
          "text": [
            "INFO:tensorflow:loss = 0.50522316, step = 13700 (0.676 sec)\n"
          ]
        },
        {
          "output_type": "stream",
          "name": "stdout",
          "text": [
            "INFO:tensorflow:global_step/sec: 150.945\n"
          ]
        },
        {
          "output_type": "stream",
          "name": "stderr",
          "text": [
            "INFO:tensorflow:global_step/sec: 150.945\n"
          ]
        },
        {
          "output_type": "stream",
          "name": "stdout",
          "text": [
            "INFO:tensorflow:loss = 0.4012606, step = 13800 (0.659 sec)\n"
          ]
        },
        {
          "output_type": "stream",
          "name": "stderr",
          "text": [
            "INFO:tensorflow:loss = 0.4012606, step = 13800 (0.659 sec)\n"
          ]
        },
        {
          "output_type": "stream",
          "name": "stdout",
          "text": [
            "INFO:tensorflow:global_step/sec: 129.439\n"
          ]
        },
        {
          "output_type": "stream",
          "name": "stderr",
          "text": [
            "INFO:tensorflow:global_step/sec: 129.439\n"
          ]
        },
        {
          "output_type": "stream",
          "name": "stdout",
          "text": [
            "INFO:tensorflow:loss = 0.38960025, step = 13900 (0.779 sec)\n"
          ]
        },
        {
          "output_type": "stream",
          "name": "stderr",
          "text": [
            "INFO:tensorflow:loss = 0.38960025, step = 13900 (0.779 sec)\n"
          ]
        },
        {
          "output_type": "stream",
          "name": "stdout",
          "text": [
            "INFO:tensorflow:global_step/sec: 319.195\n"
          ]
        },
        {
          "output_type": "stream",
          "name": "stderr",
          "text": [
            "INFO:tensorflow:global_step/sec: 319.195\n"
          ]
        },
        {
          "output_type": "stream",
          "name": "stdout",
          "text": [
            "INFO:tensorflow:loss = 0.44965404, step = 14000 (0.312 sec)\n"
          ]
        },
        {
          "output_type": "stream",
          "name": "stderr",
          "text": [
            "INFO:tensorflow:loss = 0.44965404, step = 14000 (0.312 sec)\n"
          ]
        },
        {
          "output_type": "stream",
          "name": "stdout",
          "text": [
            "INFO:tensorflow:global_step/sec: 83.6951\n"
          ]
        },
        {
          "output_type": "stream",
          "name": "stderr",
          "text": [
            "INFO:tensorflow:global_step/sec: 83.6951\n"
          ]
        },
        {
          "output_type": "stream",
          "name": "stdout",
          "text": [
            "INFO:tensorflow:loss = 0.5417239, step = 14100 (1.195 sec)\n"
          ]
        },
        {
          "output_type": "stream",
          "name": "stderr",
          "text": [
            "INFO:tensorflow:loss = 0.5417239, step = 14100 (1.195 sec)\n"
          ]
        },
        {
          "output_type": "stream",
          "name": "stdout",
          "text": [
            "INFO:tensorflow:global_step/sec: 126.14\n"
          ]
        },
        {
          "output_type": "stream",
          "name": "stderr",
          "text": [
            "INFO:tensorflow:global_step/sec: 126.14\n"
          ]
        },
        {
          "output_type": "stream",
          "name": "stdout",
          "text": [
            "INFO:tensorflow:loss = 0.5908939, step = 14200 (0.794 sec)\n"
          ]
        },
        {
          "output_type": "stream",
          "name": "stderr",
          "text": [
            "INFO:tensorflow:loss = 0.5908939, step = 14200 (0.794 sec)\n"
          ]
        },
        {
          "output_type": "stream",
          "name": "stdout",
          "text": [
            "INFO:tensorflow:global_step/sec: 119.477\n"
          ]
        },
        {
          "output_type": "stream",
          "name": "stderr",
          "text": [
            "INFO:tensorflow:global_step/sec: 119.477\n"
          ]
        },
        {
          "output_type": "stream",
          "name": "stdout",
          "text": [
            "INFO:tensorflow:loss = 0.5473615, step = 14300 (0.837 sec)\n"
          ]
        },
        {
          "output_type": "stream",
          "name": "stderr",
          "text": [
            "INFO:tensorflow:loss = 0.5473615, step = 14300 (0.837 sec)\n"
          ]
        },
        {
          "output_type": "stream",
          "name": "stdout",
          "text": [
            "INFO:tensorflow:global_step/sec: 122.949\n"
          ]
        },
        {
          "output_type": "stream",
          "name": "stderr",
          "text": [
            "INFO:tensorflow:global_step/sec: 122.949\n"
          ]
        },
        {
          "output_type": "stream",
          "name": "stdout",
          "text": [
            "INFO:tensorflow:loss = 0.57907903, step = 14400 (0.820 sec)\n"
          ]
        },
        {
          "output_type": "stream",
          "name": "stderr",
          "text": [
            "INFO:tensorflow:loss = 0.57907903, step = 14400 (0.820 sec)\n"
          ]
        },
        {
          "output_type": "stream",
          "name": "stdout",
          "text": [
            "INFO:tensorflow:global_step/sec: 128.567\n"
          ]
        },
        {
          "output_type": "stream",
          "name": "stderr",
          "text": [
            "INFO:tensorflow:global_step/sec: 128.567\n"
          ]
        },
        {
          "output_type": "stream",
          "name": "stdout",
          "text": [
            "INFO:tensorflow:loss = 0.4884508, step = 14500 (0.765 sec)\n"
          ]
        },
        {
          "output_type": "stream",
          "name": "stderr",
          "text": [
            "INFO:tensorflow:loss = 0.4884508, step = 14500 (0.765 sec)\n"
          ]
        },
        {
          "output_type": "stream",
          "name": "stdout",
          "text": [
            "INFO:tensorflow:global_step/sec: 97.0437\n"
          ]
        },
        {
          "output_type": "stream",
          "name": "stderr",
          "text": [
            "INFO:tensorflow:global_step/sec: 97.0437\n"
          ]
        },
        {
          "output_type": "stream",
          "name": "stdout",
          "text": [
            "INFO:tensorflow:loss = 0.4199708, step = 14600 (1.044 sec)\n"
          ]
        },
        {
          "output_type": "stream",
          "name": "stderr",
          "text": [
            "INFO:tensorflow:loss = 0.4199708, step = 14600 (1.044 sec)\n"
          ]
        },
        {
          "output_type": "stream",
          "name": "stdout",
          "text": [
            "INFO:tensorflow:global_step/sec: 117.891\n"
          ]
        },
        {
          "output_type": "stream",
          "name": "stderr",
          "text": [
            "INFO:tensorflow:global_step/sec: 117.891\n"
          ]
        },
        {
          "output_type": "stream",
          "name": "stdout",
          "text": [
            "INFO:tensorflow:loss = 0.6773342, step = 14700 (0.839 sec)\n"
          ]
        },
        {
          "output_type": "stream",
          "name": "stderr",
          "text": [
            "INFO:tensorflow:loss = 0.6773342, step = 14700 (0.839 sec)\n"
          ]
        },
        {
          "output_type": "stream",
          "name": "stdout",
          "text": [
            "INFO:tensorflow:global_step/sec: 125.663\n"
          ]
        },
        {
          "output_type": "stream",
          "name": "stderr",
          "text": [
            "INFO:tensorflow:global_step/sec: 125.663\n"
          ]
        },
        {
          "output_type": "stream",
          "name": "stdout",
          "text": [
            "INFO:tensorflow:loss = 0.4556656, step = 14800 (0.790 sec)\n"
          ]
        },
        {
          "output_type": "stream",
          "name": "stderr",
          "text": [
            "INFO:tensorflow:loss = 0.4556656, step = 14800 (0.790 sec)\n"
          ]
        },
        {
          "output_type": "stream",
          "name": "stdout",
          "text": [
            "INFO:tensorflow:global_step/sec: 158.234\n"
          ]
        },
        {
          "output_type": "stream",
          "name": "stderr",
          "text": [
            "INFO:tensorflow:global_step/sec: 158.234\n"
          ]
        },
        {
          "output_type": "stream",
          "name": "stdout",
          "text": [
            "INFO:tensorflow:loss = 0.33031493, step = 14900 (0.631 sec)\n"
          ]
        },
        {
          "output_type": "stream",
          "name": "stderr",
          "text": [
            "INFO:tensorflow:loss = 0.33031493, step = 14900 (0.631 sec)\n"
          ]
        },
        {
          "output_type": "stream",
          "name": "stdout",
          "text": [
            "INFO:tensorflow:global_step/sec: 187.585\n"
          ]
        },
        {
          "output_type": "stream",
          "name": "stderr",
          "text": [
            "INFO:tensorflow:global_step/sec: 187.585\n"
          ]
        },
        {
          "output_type": "stream",
          "name": "stdout",
          "text": [
            "INFO:tensorflow:loss = 0.56173825, step = 15000 (0.552 sec)\n"
          ]
        },
        {
          "output_type": "stream",
          "name": "stderr",
          "text": [
            "INFO:tensorflow:loss = 0.56173825, step = 15000 (0.552 sec)\n"
          ]
        },
        {
          "output_type": "stream",
          "name": "stdout",
          "text": [
            "INFO:tensorflow:global_step/sec: 64.2193\n"
          ]
        },
        {
          "output_type": "stream",
          "name": "stderr",
          "text": [
            "INFO:tensorflow:global_step/sec: 64.2193\n"
          ]
        },
        {
          "output_type": "stream",
          "name": "stdout",
          "text": [
            "INFO:tensorflow:loss = 0.4186651, step = 15100 (1.544 sec)\n"
          ]
        },
        {
          "output_type": "stream",
          "name": "stderr",
          "text": [
            "INFO:tensorflow:loss = 0.4186651, step = 15100 (1.544 sec)\n"
          ]
        },
        {
          "output_type": "stream",
          "name": "stdout",
          "text": [
            "INFO:tensorflow:global_step/sec: 174.78\n"
          ]
        },
        {
          "output_type": "stream",
          "name": "stderr",
          "text": [
            "INFO:tensorflow:global_step/sec: 174.78\n"
          ]
        },
        {
          "output_type": "stream",
          "name": "stdout",
          "text": [
            "INFO:tensorflow:loss = 0.32736748, step = 15200 (0.569 sec)\n"
          ]
        },
        {
          "output_type": "stream",
          "name": "stderr",
          "text": [
            "INFO:tensorflow:loss = 0.32736748, step = 15200 (0.569 sec)\n"
          ]
        },
        {
          "output_type": "stream",
          "name": "stdout",
          "text": [
            "INFO:tensorflow:global_step/sec: 131.174\n"
          ]
        },
        {
          "output_type": "stream",
          "name": "stderr",
          "text": [
            "INFO:tensorflow:global_step/sec: 131.174\n"
          ]
        },
        {
          "output_type": "stream",
          "name": "stdout",
          "text": [
            "INFO:tensorflow:loss = 0.39198637, step = 15300 (0.768 sec)\n"
          ]
        },
        {
          "output_type": "stream",
          "name": "stderr",
          "text": [
            "INFO:tensorflow:loss = 0.39198637, step = 15300 (0.768 sec)\n"
          ]
        },
        {
          "output_type": "stream",
          "name": "stdout",
          "text": [
            "INFO:tensorflow:global_step/sec: 158.053\n"
          ]
        },
        {
          "output_type": "stream",
          "name": "stderr",
          "text": [
            "INFO:tensorflow:global_step/sec: 158.053\n"
          ]
        },
        {
          "output_type": "stream",
          "name": "stdout",
          "text": [
            "INFO:tensorflow:loss = 0.34200257, step = 15400 (0.632 sec)\n"
          ]
        },
        {
          "output_type": "stream",
          "name": "stderr",
          "text": [
            "INFO:tensorflow:loss = 0.34200257, step = 15400 (0.632 sec)\n"
          ]
        },
        {
          "output_type": "stream",
          "name": "stdout",
          "text": [
            "INFO:tensorflow:global_step/sec: 161.4\n"
          ]
        },
        {
          "output_type": "stream",
          "name": "stderr",
          "text": [
            "INFO:tensorflow:global_step/sec: 161.4\n"
          ]
        },
        {
          "output_type": "stream",
          "name": "stdout",
          "text": [
            "INFO:tensorflow:loss = 0.550281, step = 15500 (0.613 sec)\n"
          ]
        },
        {
          "output_type": "stream",
          "name": "stderr",
          "text": [
            "INFO:tensorflow:loss = 0.550281, step = 15500 (0.613 sec)\n"
          ]
        },
        {
          "output_type": "stream",
          "name": "stdout",
          "text": [
            "INFO:tensorflow:global_step/sec: 167.535\n"
          ]
        },
        {
          "output_type": "stream",
          "name": "stderr",
          "text": [
            "INFO:tensorflow:global_step/sec: 167.535\n"
          ]
        },
        {
          "output_type": "stream",
          "name": "stdout",
          "text": [
            "INFO:tensorflow:loss = 0.4804561, step = 15600 (0.603 sec)\n"
          ]
        },
        {
          "output_type": "stream",
          "name": "stderr",
          "text": [
            "INFO:tensorflow:loss = 0.4804561, step = 15600 (0.603 sec)\n"
          ]
        },
        {
          "output_type": "stream",
          "name": "stdout",
          "text": [
            "INFO:tensorflow:global_step/sec: 136.509\n"
          ]
        },
        {
          "output_type": "stream",
          "name": "stderr",
          "text": [
            "INFO:tensorflow:global_step/sec: 136.509\n"
          ]
        },
        {
          "output_type": "stream",
          "name": "stdout",
          "text": [
            "INFO:tensorflow:loss = 0.35406998, step = 15700 (0.735 sec)\n"
          ]
        },
        {
          "output_type": "stream",
          "name": "stderr",
          "text": [
            "INFO:tensorflow:loss = 0.35406998, step = 15700 (0.735 sec)\n"
          ]
        },
        {
          "output_type": "stream",
          "name": "stdout",
          "text": [
            "INFO:tensorflow:global_step/sec: 169.135\n"
          ]
        },
        {
          "output_type": "stream",
          "name": "stderr",
          "text": [
            "INFO:tensorflow:global_step/sec: 169.135\n"
          ]
        },
        {
          "output_type": "stream",
          "name": "stdout",
          "text": [
            "INFO:tensorflow:loss = 0.32618695, step = 15800 (0.587 sec)\n"
          ]
        },
        {
          "output_type": "stream",
          "name": "stderr",
          "text": [
            "INFO:tensorflow:loss = 0.32618695, step = 15800 (0.587 sec)\n"
          ]
        },
        {
          "output_type": "stream",
          "name": "stdout",
          "text": [
            "INFO:tensorflow:global_step/sec: 498.958\n"
          ]
        },
        {
          "output_type": "stream",
          "name": "stderr",
          "text": [
            "INFO:tensorflow:global_step/sec: 498.958\n"
          ]
        },
        {
          "output_type": "stream",
          "name": "stdout",
          "text": [
            "INFO:tensorflow:loss = 0.45937, step = 15900 (0.205 sec)\n"
          ]
        },
        {
          "output_type": "stream",
          "name": "stderr",
          "text": [
            "INFO:tensorflow:loss = 0.45937, step = 15900 (0.205 sec)\n"
          ]
        },
        {
          "output_type": "stream",
          "name": "stdout",
          "text": [
            "INFO:tensorflow:global_step/sec: 99.9239\n"
          ]
        },
        {
          "output_type": "stream",
          "name": "stderr",
          "text": [
            "INFO:tensorflow:global_step/sec: 99.9239\n"
          ]
        },
        {
          "output_type": "stream",
          "name": "stdout",
          "text": [
            "INFO:tensorflow:loss = 0.38085923, step = 16000 (0.996 sec)\n"
          ]
        },
        {
          "output_type": "stream",
          "name": "stderr",
          "text": [
            "INFO:tensorflow:loss = 0.38085923, step = 16000 (0.996 sec)\n"
          ]
        },
        {
          "output_type": "stream",
          "name": "stdout",
          "text": [
            "INFO:tensorflow:global_step/sec: 166.046\n"
          ]
        },
        {
          "output_type": "stream",
          "name": "stderr",
          "text": [
            "INFO:tensorflow:global_step/sec: 166.046\n"
          ]
        },
        {
          "output_type": "stream",
          "name": "stdout",
          "text": [
            "INFO:tensorflow:loss = 0.32338858, step = 16100 (0.602 sec)\n"
          ]
        },
        {
          "output_type": "stream",
          "name": "stderr",
          "text": [
            "INFO:tensorflow:loss = 0.32338858, step = 16100 (0.602 sec)\n"
          ]
        },
        {
          "output_type": "stream",
          "name": "stdout",
          "text": [
            "INFO:tensorflow:global_step/sec: 149.047\n"
          ]
        },
        {
          "output_type": "stream",
          "name": "stderr",
          "text": [
            "INFO:tensorflow:global_step/sec: 149.047\n"
          ]
        },
        {
          "output_type": "stream",
          "name": "stdout",
          "text": [
            "INFO:tensorflow:loss = 0.63664424, step = 16200 (0.682 sec)\n"
          ]
        },
        {
          "output_type": "stream",
          "name": "stderr",
          "text": [
            "INFO:tensorflow:loss = 0.63664424, step = 16200 (0.682 sec)\n"
          ]
        },
        {
          "output_type": "stream",
          "name": "stdout",
          "text": [
            "INFO:tensorflow:global_step/sec: 139.74\n"
          ]
        },
        {
          "output_type": "stream",
          "name": "stderr",
          "text": [
            "INFO:tensorflow:global_step/sec: 139.74\n"
          ]
        },
        {
          "output_type": "stream",
          "name": "stdout",
          "text": [
            "INFO:tensorflow:loss = 0.39323556, step = 16300 (0.716 sec)\n"
          ]
        },
        {
          "output_type": "stream",
          "name": "stderr",
          "text": [
            "INFO:tensorflow:loss = 0.39323556, step = 16300 (0.716 sec)\n"
          ]
        },
        {
          "output_type": "stream",
          "name": "stdout",
          "text": [
            "INFO:tensorflow:global_step/sec: 142.527\n"
          ]
        },
        {
          "output_type": "stream",
          "name": "stderr",
          "text": [
            "INFO:tensorflow:global_step/sec: 142.527\n"
          ]
        },
        {
          "output_type": "stream",
          "name": "stdout",
          "text": [
            "INFO:tensorflow:loss = 0.459571, step = 16400 (0.696 sec)\n"
          ]
        },
        {
          "output_type": "stream",
          "name": "stderr",
          "text": [
            "INFO:tensorflow:loss = 0.459571, step = 16400 (0.696 sec)\n"
          ]
        },
        {
          "output_type": "stream",
          "name": "stdout",
          "text": [
            "INFO:tensorflow:global_step/sec: 139.8\n"
          ]
        },
        {
          "output_type": "stream",
          "name": "stderr",
          "text": [
            "INFO:tensorflow:global_step/sec: 139.8\n"
          ]
        },
        {
          "output_type": "stream",
          "name": "stdout",
          "text": [
            "INFO:tensorflow:loss = 0.4102742, step = 16500 (0.711 sec)\n"
          ]
        },
        {
          "output_type": "stream",
          "name": "stderr",
          "text": [
            "INFO:tensorflow:loss = 0.4102742, step = 16500 (0.711 sec)\n"
          ]
        },
        {
          "output_type": "stream",
          "name": "stdout",
          "text": [
            "INFO:tensorflow:global_step/sec: 135.746\n"
          ]
        },
        {
          "output_type": "stream",
          "name": "stderr",
          "text": [
            "INFO:tensorflow:global_step/sec: 135.746\n"
          ]
        },
        {
          "output_type": "stream",
          "name": "stdout",
          "text": [
            "INFO:tensorflow:loss = 0.39766034, step = 16600 (0.741 sec)\n"
          ]
        },
        {
          "output_type": "stream",
          "name": "stderr",
          "text": [
            "INFO:tensorflow:loss = 0.39766034, step = 16600 (0.741 sec)\n"
          ]
        },
        {
          "output_type": "stream",
          "name": "stdout",
          "text": [
            "INFO:tensorflow:global_step/sec: 144.524\n"
          ]
        },
        {
          "output_type": "stream",
          "name": "stderr",
          "text": [
            "INFO:tensorflow:global_step/sec: 144.524\n"
          ]
        },
        {
          "output_type": "stream",
          "name": "stdout",
          "text": [
            "INFO:tensorflow:loss = 0.5792, step = 16700 (0.692 sec)\n"
          ]
        },
        {
          "output_type": "stream",
          "name": "stderr",
          "text": [
            "INFO:tensorflow:loss = 0.5792, step = 16700 (0.692 sec)\n"
          ]
        },
        {
          "output_type": "stream",
          "name": "stdout",
          "text": [
            "INFO:tensorflow:global_step/sec: 231.646\n"
          ]
        },
        {
          "output_type": "stream",
          "name": "stderr",
          "text": [
            "INFO:tensorflow:global_step/sec: 231.646\n"
          ]
        },
        {
          "output_type": "stream",
          "name": "stdout",
          "text": [
            "INFO:tensorflow:loss = 0.31305894, step = 16800 (0.431 sec)\n"
          ]
        },
        {
          "output_type": "stream",
          "name": "stderr",
          "text": [
            "INFO:tensorflow:loss = 0.31305894, step = 16800 (0.431 sec)\n"
          ]
        },
        {
          "output_type": "stream",
          "name": "stdout",
          "text": [
            "INFO:tensorflow:global_step/sec: 104.711\n"
          ]
        },
        {
          "output_type": "stream",
          "name": "stderr",
          "text": [
            "INFO:tensorflow:global_step/sec: 104.711\n"
          ]
        },
        {
          "output_type": "stream",
          "name": "stdout",
          "text": [
            "INFO:tensorflow:loss = 0.54548275, step = 16900 (0.958 sec)\n"
          ]
        },
        {
          "output_type": "stream",
          "name": "stderr",
          "text": [
            "INFO:tensorflow:loss = 0.54548275, step = 16900 (0.958 sec)\n"
          ]
        },
        {
          "output_type": "stream",
          "name": "stdout",
          "text": [
            "INFO:tensorflow:global_step/sec: 170.046\n"
          ]
        },
        {
          "output_type": "stream",
          "name": "stderr",
          "text": [
            "INFO:tensorflow:global_step/sec: 170.046\n"
          ]
        },
        {
          "output_type": "stream",
          "name": "stdout",
          "text": [
            "INFO:tensorflow:loss = 0.4280423, step = 17000 (0.580 sec)\n"
          ]
        },
        {
          "output_type": "stream",
          "name": "stderr",
          "text": [
            "INFO:tensorflow:loss = 0.4280423, step = 17000 (0.580 sec)\n"
          ]
        },
        {
          "output_type": "stream",
          "name": "stdout",
          "text": [
            "INFO:tensorflow:global_step/sec: 133.897\n"
          ]
        },
        {
          "output_type": "stream",
          "name": "stderr",
          "text": [
            "INFO:tensorflow:global_step/sec: 133.897\n"
          ]
        },
        {
          "output_type": "stream",
          "name": "stdout",
          "text": [
            "INFO:tensorflow:loss = 0.45884484, step = 17100 (0.747 sec)\n"
          ]
        },
        {
          "output_type": "stream",
          "name": "stderr",
          "text": [
            "INFO:tensorflow:loss = 0.45884484, step = 17100 (0.747 sec)\n"
          ]
        },
        {
          "output_type": "stream",
          "name": "stdout",
          "text": [
            "INFO:tensorflow:global_step/sec: 123.706\n"
          ]
        },
        {
          "output_type": "stream",
          "name": "stderr",
          "text": [
            "INFO:tensorflow:global_step/sec: 123.706\n"
          ]
        },
        {
          "output_type": "stream",
          "name": "stdout",
          "text": [
            "INFO:tensorflow:loss = 0.82685864, step = 17200 (0.806 sec)\n"
          ]
        },
        {
          "output_type": "stream",
          "name": "stderr",
          "text": [
            "INFO:tensorflow:loss = 0.82685864, step = 17200 (0.806 sec)\n"
          ]
        },
        {
          "output_type": "stream",
          "name": "stdout",
          "text": [
            "INFO:tensorflow:global_step/sec: 128.648\n"
          ]
        },
        {
          "output_type": "stream",
          "name": "stderr",
          "text": [
            "INFO:tensorflow:global_step/sec: 128.648\n"
          ]
        },
        {
          "output_type": "stream",
          "name": "stdout",
          "text": [
            "INFO:tensorflow:loss = 0.32327878, step = 17300 (0.776 sec)\n"
          ]
        },
        {
          "output_type": "stream",
          "name": "stderr",
          "text": [
            "INFO:tensorflow:loss = 0.32327878, step = 17300 (0.776 sec)\n"
          ]
        },
        {
          "output_type": "stream",
          "name": "stdout",
          "text": [
            "INFO:tensorflow:global_step/sec: 128.372\n"
          ]
        },
        {
          "output_type": "stream",
          "name": "stderr",
          "text": [
            "INFO:tensorflow:global_step/sec: 128.372\n"
          ]
        },
        {
          "output_type": "stream",
          "name": "stdout",
          "text": [
            "INFO:tensorflow:loss = 0.4500993, step = 17400 (0.779 sec)\n"
          ]
        },
        {
          "output_type": "stream",
          "name": "stderr",
          "text": [
            "INFO:tensorflow:loss = 0.4500993, step = 17400 (0.779 sec)\n"
          ]
        },
        {
          "output_type": "stream",
          "name": "stdout",
          "text": [
            "INFO:tensorflow:global_step/sec: 145.154\n"
          ]
        },
        {
          "output_type": "stream",
          "name": "stderr",
          "text": [
            "INFO:tensorflow:global_step/sec: 145.154\n"
          ]
        },
        {
          "output_type": "stream",
          "name": "stdout",
          "text": [
            "INFO:tensorflow:loss = 0.45507458, step = 17500 (0.697 sec)\n"
          ]
        },
        {
          "output_type": "stream",
          "name": "stderr",
          "text": [
            "INFO:tensorflow:loss = 0.45507458, step = 17500 (0.697 sec)\n"
          ]
        },
        {
          "output_type": "stream",
          "name": "stdout",
          "text": [
            "INFO:tensorflow:global_step/sec: 145.871\n"
          ]
        },
        {
          "output_type": "stream",
          "name": "stderr",
          "text": [
            "INFO:tensorflow:global_step/sec: 145.871\n"
          ]
        },
        {
          "output_type": "stream",
          "name": "stdout",
          "text": [
            "INFO:tensorflow:loss = 0.48673376, step = 17600 (0.687 sec)\n"
          ]
        },
        {
          "output_type": "stream",
          "name": "stderr",
          "text": [
            "INFO:tensorflow:loss = 0.48673376, step = 17600 (0.687 sec)\n"
          ]
        },
        {
          "output_type": "stream",
          "name": "stdout",
          "text": [
            "INFO:tensorflow:global_step/sec: 209.24\n"
          ]
        },
        {
          "output_type": "stream",
          "name": "stderr",
          "text": [
            "INFO:tensorflow:global_step/sec: 209.24\n"
          ]
        },
        {
          "output_type": "stream",
          "name": "stdout",
          "text": [
            "INFO:tensorflow:loss = 0.2947114, step = 17700 (0.477 sec)\n"
          ]
        },
        {
          "output_type": "stream",
          "name": "stderr",
          "text": [
            "INFO:tensorflow:loss = 0.2947114, step = 17700 (0.477 sec)\n"
          ]
        },
        {
          "output_type": "stream",
          "name": "stdout",
          "text": [
            "INFO:tensorflow:global_step/sec: 368.219\n"
          ]
        },
        {
          "output_type": "stream",
          "name": "stderr",
          "text": [
            "INFO:tensorflow:global_step/sec: 368.219\n"
          ]
        },
        {
          "output_type": "stream",
          "name": "stdout",
          "text": [
            "INFO:tensorflow:loss = 0.31653702, step = 17800 (0.264 sec)\n"
          ]
        },
        {
          "output_type": "stream",
          "name": "stderr",
          "text": [
            "INFO:tensorflow:loss = 0.31653702, step = 17800 (0.264 sec)\n"
          ]
        },
        {
          "output_type": "stream",
          "name": "stdout",
          "text": [
            "INFO:tensorflow:global_step/sec: 66.2687\n"
          ]
        },
        {
          "output_type": "stream",
          "name": "stderr",
          "text": [
            "INFO:tensorflow:global_step/sec: 66.2687\n"
          ]
        },
        {
          "output_type": "stream",
          "name": "stdout",
          "text": [
            "INFO:tensorflow:loss = 0.3797145, step = 17900 (1.519 sec)\n"
          ]
        },
        {
          "output_type": "stream",
          "name": "stderr",
          "text": [
            "INFO:tensorflow:loss = 0.3797145, step = 17900 (1.519 sec)\n"
          ]
        },
        {
          "output_type": "stream",
          "name": "stdout",
          "text": [
            "INFO:tensorflow:global_step/sec: 101.018\n"
          ]
        },
        {
          "output_type": "stream",
          "name": "stderr",
          "text": [
            "INFO:tensorflow:global_step/sec: 101.018\n"
          ]
        },
        {
          "output_type": "stream",
          "name": "stdout",
          "text": [
            "INFO:tensorflow:loss = 0.49242353, step = 18000 (0.981 sec)\n"
          ]
        },
        {
          "output_type": "stream",
          "name": "stderr",
          "text": [
            "INFO:tensorflow:loss = 0.49242353, step = 18000 (0.981 sec)\n"
          ]
        },
        {
          "output_type": "stream",
          "name": "stdout",
          "text": [
            "INFO:tensorflow:global_step/sec: 145.571\n"
          ]
        },
        {
          "output_type": "stream",
          "name": "stderr",
          "text": [
            "INFO:tensorflow:global_step/sec: 145.571\n"
          ]
        },
        {
          "output_type": "stream",
          "name": "stdout",
          "text": [
            "INFO:tensorflow:loss = 0.43050852, step = 18100 (0.692 sec)\n"
          ]
        },
        {
          "output_type": "stream",
          "name": "stderr",
          "text": [
            "INFO:tensorflow:loss = 0.43050852, step = 18100 (0.692 sec)\n"
          ]
        },
        {
          "output_type": "stream",
          "name": "stdout",
          "text": [
            "INFO:tensorflow:global_step/sec: 177.608\n"
          ]
        },
        {
          "output_type": "stream",
          "name": "stderr",
          "text": [
            "INFO:tensorflow:global_step/sec: 177.608\n"
          ]
        },
        {
          "output_type": "stream",
          "name": "stdout",
          "text": [
            "INFO:tensorflow:loss = 0.613516, step = 18200 (0.563 sec)\n"
          ]
        },
        {
          "output_type": "stream",
          "name": "stderr",
          "text": [
            "INFO:tensorflow:loss = 0.613516, step = 18200 (0.563 sec)\n"
          ]
        },
        {
          "output_type": "stream",
          "name": "stdout",
          "text": [
            "INFO:tensorflow:global_step/sec: 107.276\n"
          ]
        },
        {
          "output_type": "stream",
          "name": "stderr",
          "text": [
            "INFO:tensorflow:global_step/sec: 107.276\n"
          ]
        },
        {
          "output_type": "stream",
          "name": "stdout",
          "text": [
            "INFO:tensorflow:loss = 0.36006796, step = 18300 (0.935 sec)\n"
          ]
        },
        {
          "output_type": "stream",
          "name": "stderr",
          "text": [
            "INFO:tensorflow:loss = 0.36006796, step = 18300 (0.935 sec)\n"
          ]
        },
        {
          "output_type": "stream",
          "name": "stdout",
          "text": [
            "INFO:tensorflow:global_step/sec: 155.168\n"
          ]
        },
        {
          "output_type": "stream",
          "name": "stderr",
          "text": [
            "INFO:tensorflow:global_step/sec: 155.168\n"
          ]
        },
        {
          "output_type": "stream",
          "name": "stdout",
          "text": [
            "INFO:tensorflow:loss = 0.40342855, step = 18400 (0.642 sec)\n"
          ]
        },
        {
          "output_type": "stream",
          "name": "stderr",
          "text": [
            "INFO:tensorflow:loss = 0.40342855, step = 18400 (0.642 sec)\n"
          ]
        },
        {
          "output_type": "stream",
          "name": "stdout",
          "text": [
            "INFO:tensorflow:global_step/sec: 145.824\n"
          ]
        },
        {
          "output_type": "stream",
          "name": "stderr",
          "text": [
            "INFO:tensorflow:global_step/sec: 145.824\n"
          ]
        },
        {
          "output_type": "stream",
          "name": "stdout",
          "text": [
            "INFO:tensorflow:loss = 0.30830532, step = 18500 (0.684 sec)\n"
          ]
        },
        {
          "output_type": "stream",
          "name": "stderr",
          "text": [
            "INFO:tensorflow:loss = 0.30830532, step = 18500 (0.684 sec)\n"
          ]
        },
        {
          "output_type": "stream",
          "name": "stdout",
          "text": [
            "INFO:tensorflow:global_step/sec: 146.178\n"
          ]
        },
        {
          "output_type": "stream",
          "name": "stderr",
          "text": [
            "INFO:tensorflow:global_step/sec: 146.178\n"
          ]
        },
        {
          "output_type": "stream",
          "name": "stdout",
          "text": [
            "INFO:tensorflow:loss = 0.43300772, step = 18600 (0.686 sec)\n"
          ]
        },
        {
          "output_type": "stream",
          "name": "stderr",
          "text": [
            "INFO:tensorflow:loss = 0.43300772, step = 18600 (0.686 sec)\n"
          ]
        },
        {
          "output_type": "stream",
          "name": "stdout",
          "text": [
            "INFO:tensorflow:global_step/sec: 417.114\n"
          ]
        },
        {
          "output_type": "stream",
          "name": "stderr",
          "text": [
            "INFO:tensorflow:global_step/sec: 417.114\n"
          ]
        },
        {
          "output_type": "stream",
          "name": "stdout",
          "text": [
            "INFO:tensorflow:loss = 0.4814454, step = 18700 (0.240 sec)\n"
          ]
        },
        {
          "output_type": "stream",
          "name": "stderr",
          "text": [
            "INFO:tensorflow:loss = 0.4814454, step = 18700 (0.240 sec)\n"
          ]
        },
        {
          "output_type": "stream",
          "name": "stdout",
          "text": [
            "INFO:tensorflow:Calling checkpoint listeners before saving checkpoint 18760...\n"
          ]
        },
        {
          "output_type": "stream",
          "name": "stderr",
          "text": [
            "INFO:tensorflow:Calling checkpoint listeners before saving checkpoint 18760...\n"
          ]
        },
        {
          "output_type": "stream",
          "name": "stdout",
          "text": [
            "INFO:tensorflow:Saving checkpoints for 18760 into models/mnist-dnn/model.ckpt.\n"
          ]
        },
        {
          "output_type": "stream",
          "name": "stderr",
          "text": [
            "INFO:tensorflow:Saving checkpoints for 18760 into models/mnist-dnn/model.ckpt.\n"
          ]
        },
        {
          "output_type": "stream",
          "name": "stdout",
          "text": [
            "INFO:tensorflow:Calling checkpoint listeners after saving checkpoint 18760...\n"
          ]
        },
        {
          "output_type": "stream",
          "name": "stderr",
          "text": [
            "INFO:tensorflow:Calling checkpoint listeners after saving checkpoint 18760...\n"
          ]
        },
        {
          "output_type": "stream",
          "name": "stdout",
          "text": [
            "INFO:tensorflow:Loss for final step: 0.36332902.\n"
          ]
        },
        {
          "output_type": "stream",
          "name": "stderr",
          "text": [
            "INFO:tensorflow:Loss for final step: 0.36332902.\n"
          ]
        },
        {
          "output_type": "execute_result",
          "data": {
            "text/plain": [
              "<tensorflow_estimator.python.estimator.canned.dnn.DNNClassifierV2 at 0x7f8aaf616c90>"
            ]
          },
          "metadata": {},
          "execution_count": 7
        }
      ]
    },
    {
      "cell_type": "code",
      "source": [
        "eval_result = dnn_classifier.evaluate(\n",
        "    input_fn=eval_input_fn)\n",
        "\n",
        "print(eval_result)"
      ],
      "metadata": {
        "colab": {
          "base_uri": "https://localhost:8080/"
        },
        "id": "s0xVir3EbT6R",
        "outputId": "3cd885e6-8537-4e3d-a1ba-4b8dfad3b9fe"
      },
      "execution_count": 8,
      "outputs": [
        {
          "output_type": "stream",
          "name": "stdout",
          "text": [
            "INFO:tensorflow:Calling model_fn.\n"
          ]
        },
        {
          "output_type": "stream",
          "name": "stderr",
          "text": [
            "INFO:tensorflow:Calling model_fn.\n"
          ]
        },
        {
          "output_type": "stream",
          "name": "stdout",
          "text": [
            "INFO:tensorflow:Done calling model_fn.\n"
          ]
        },
        {
          "output_type": "stream",
          "name": "stderr",
          "text": [
            "INFO:tensorflow:Done calling model_fn.\n"
          ]
        },
        {
          "output_type": "stream",
          "name": "stdout",
          "text": [
            "INFO:tensorflow:Starting evaluation at 2022-02-09T17:39:34\n"
          ]
        },
        {
          "output_type": "stream",
          "name": "stderr",
          "text": [
            "INFO:tensorflow:Starting evaluation at 2022-02-09T17:39:34\n"
          ]
        },
        {
          "output_type": "stream",
          "name": "stdout",
          "text": [
            "INFO:tensorflow:Graph was finalized.\n"
          ]
        },
        {
          "output_type": "stream",
          "name": "stderr",
          "text": [
            "INFO:tensorflow:Graph was finalized.\n"
          ]
        },
        {
          "output_type": "stream",
          "name": "stdout",
          "text": [
            "INFO:tensorflow:Restoring parameters from models/mnist-dnn/model.ckpt-18760\n"
          ]
        },
        {
          "output_type": "stream",
          "name": "stderr",
          "text": [
            "INFO:tensorflow:Restoring parameters from models/mnist-dnn/model.ckpt-18760\n"
          ]
        },
        {
          "output_type": "stream",
          "name": "stdout",
          "text": [
            "INFO:tensorflow:Running local_init_op.\n"
          ]
        },
        {
          "output_type": "stream",
          "name": "stderr",
          "text": [
            "INFO:tensorflow:Running local_init_op.\n"
          ]
        },
        {
          "output_type": "stream",
          "name": "stdout",
          "text": [
            "INFO:tensorflow:Done running local_init_op.\n"
          ]
        },
        {
          "output_type": "stream",
          "name": "stderr",
          "text": [
            "INFO:tensorflow:Done running local_init_op.\n"
          ]
        },
        {
          "output_type": "stream",
          "name": "stdout",
          "text": [
            "INFO:tensorflow:Inference Time : 5.95315s\n"
          ]
        },
        {
          "output_type": "stream",
          "name": "stderr",
          "text": [
            "INFO:tensorflow:Inference Time : 5.95315s\n"
          ]
        },
        {
          "output_type": "stream",
          "name": "stdout",
          "text": [
            "INFO:tensorflow:Finished evaluation at 2022-02-09-17:39:40\n"
          ]
        },
        {
          "output_type": "stream",
          "name": "stderr",
          "text": [
            "INFO:tensorflow:Finished evaluation at 2022-02-09-17:39:40\n"
          ]
        },
        {
          "output_type": "stream",
          "name": "stdout",
          "text": [
            "INFO:tensorflow:Saving dict for global step 18760: accuracy = 0.8941, average_loss = 0.39317906, global_step = 18760, loss = 0.3932863\n"
          ]
        },
        {
          "output_type": "stream",
          "name": "stderr",
          "text": [
            "INFO:tensorflow:Saving dict for global step 18760: accuracy = 0.8941, average_loss = 0.39317906, global_step = 18760, loss = 0.3932863\n"
          ]
        },
        {
          "output_type": "stream",
          "name": "stdout",
          "text": [
            "INFO:tensorflow:Saving 'checkpoint_path' summary for global step 18760: models/mnist-dnn/model.ckpt-18760\n"
          ]
        },
        {
          "output_type": "stream",
          "name": "stderr",
          "text": [
            "INFO:tensorflow:Saving 'checkpoint_path' summary for global step 18760: models/mnist-dnn/model.ckpt-18760\n"
          ]
        },
        {
          "output_type": "stream",
          "name": "stdout",
          "text": [
            "{'accuracy': 0.8941, 'average_loss': 0.39317906, 'loss': 0.3932863, 'global_step': 18760}\n"
          ]
        }
      ]
    },
    {
      "cell_type": "markdown",
      "source": [
        "### 14.6.4 케라스 모델에서 추정기 만들기\n",
        "* 개발한 모델을 배포하거나 조직내 다른 구성원에게 모델 공유 가능\n",
        "* 추정기로 변환하면 분산 훈련이나 체크포인트 자동 저장과 같은 기능 활용 가능\n",
        "* 모델을 사용하기 쉽다.\n",
        "* 특성 열과 입력 함수를 지정하여 입력 특성을 해석하기 때문에 혼동을 피할 수 있다."
      ],
      "metadata": {
        "id": "GifaKjPibYVZ"
      }
    },
    {
      "cell_type": "code",
      "source": [
        "import tensorflow as tf\n",
        "import numpy as np"
      ],
      "metadata": {
        "id": "eKf_jbuXjENF"
      },
      "execution_count": 1,
      "outputs": []
    },
    {
      "cell_type": "code",
      "source": [
        "# XOR 문제\n",
        "tf.random.set_seed(1)\n",
        "np.random.seed(1)\n",
        "\n",
        "# 데이터 생성\n",
        "x = np.random.uniform(low=-1, high=1, size=(200, 2))\n",
        "y = np.ones(len(x))\n",
        "y[x[:, 0] * x[:, 1]<0] = 0\n",
        "\n",
        "x_train = x[:100, :]\n",
        "y_train = y[:100]\n",
        "x_valid = x[100:, :]\n",
        "y_valid = y[100:]"
      ],
      "metadata": {
        "id": "7fqRmyD7giVK"
      },
      "execution_count": 2,
      "outputs": []
    },
    {
      "cell_type": "code",
      "source": [
        "# 단계 1: 입력 함수 정의\n",
        "def train_input_fn(x_train, y_train, batch_size=8):\n",
        "    dataset = tf.data.Dataset.from_tensor_slices(\n",
        "        ({'input-features':x_train}, y_train.reshape(-1, )))\n",
        "    # 셔플, 반복, 배치\n",
        "    return dataset.shuffle(100).repeat().batch(batch_size)\n",
        "\n",
        "def eval_input_fn(x_test, y_test=None, batch_size=8):\n",
        "    if y_test is None:\n",
        "        dataset = tf.data.Dataset.from_tensor_slices(\n",
        "            {'input-features':x_test})\n",
        "    else:\n",
        "        dataset = tf.data.Dataset.from_tensor_slices(\n",
        "            ({'input-features':x_test}, y_test.reshape(-1, 1)))\n",
        "    return dataset.batch(batch_size)"
      ],
      "metadata": {
        "id": "Ac0NZim3kO2x"
      },
      "execution_count": 3,
      "outputs": []
    },
    {
      "cell_type": "code",
      "source": [
        "# 단계 2: 특성 열 정의\n",
        "features = [tf.feature_column.numeric_column(\n",
        "    key='input-features:', shape=(2,))]\n",
        "features"
      ],
      "metadata": {
        "colab": {
          "base_uri": "https://localhost:8080/"
        },
        "id": "BlqC1yfmlH2y",
        "outputId": "2f3647b9-9dc0-495e-8fba-25e457117ea1"
      },
      "execution_count": 4,
      "outputs": [
        {
          "output_type": "execute_result",
          "data": {
            "text/plain": [
              "[NumericColumn(key='input-features:', shape=(2,), default_value=None, dtype=tf.float32, normalizer_fn=None)]"
            ]
          },
          "metadata": {},
          "execution_count": 4
        }
      ]
    },
    {
      "cell_type": "code",
      "source": [
        "# 단계 3: Sequential 클래스를 사용하여 모델 정의\n",
        "# 모델 입력에 이믈을 부여하기 위해 tf.keras.layers.Input으로 입력층 추가\n",
        "model = tf.keras.Sequential([\n",
        "    tf.keras.layers.Input(shape=(2,), name='input-features'),\n",
        "    tf.keras.layers.Dense(units=4, activation='relu'),\n",
        "    tf.keras.layers.Dense(units=4, activation='relu'),\n",
        "    tf.keras.layers.Dense(units=4, activation='relu'),\n",
        "    tf.keras.layers.Dense(1, activation='sigmoid')\n",
        "])\n",
        "\n",
        "model.summary()"
      ],
      "metadata": {
        "colab": {
          "base_uri": "https://localhost:8080/"
        },
        "id": "NCBHywymjhWq",
        "outputId": "18200d0c-a22b-47a4-ba97-37b4d4adc41c"
      },
      "execution_count": 5,
      "outputs": [
        {
          "output_type": "stream",
          "name": "stdout",
          "text": [
            "Model: \"sequential\"\n",
            "_________________________________________________________________\n",
            " Layer (type)                Output Shape              Param #   \n",
            "=================================================================\n",
            " dense (Dense)               (None, 4)                 12        \n",
            "                                                                 \n",
            " dense_1 (Dense)             (None, 4)                 20        \n",
            "                                                                 \n",
            " dense_2 (Dense)             (None, 4)                 20        \n",
            "                                                                 \n",
            " dense_3 (Dense)             (None, 1)                 5         \n",
            "                                                                 \n",
            "=================================================================\n",
            "Total params: 57\n",
            "Trainable params: 57\n",
            "Non-trainable params: 0\n",
            "_________________________________________________________________\n"
          ]
        }
      ]
    },
    {
      "cell_type": "code",
      "source": [
        "model.compile(optimizer=tf.keras.optimizers.SGD(),\n",
        "              loss=tf.keras.losses.BinaryCrossentropy(),\n",
        "              metrics=[tf.keras.metrics.BinaryAccuracy()])\n",
        "\n",
        "my_estimator = tf.keras.estimator.model_to_estimator(\n",
        "    keras_model=model,\n",
        "    model_dir='models/estimator-for-XOR/')"
      ],
      "metadata": {
        "colab": {
          "base_uri": "https://localhost:8080/"
        },
        "id": "loDSSpzjldgR",
        "outputId": "7fbdad7c-ae96-4686-aec9-c50d22401494"
      },
      "execution_count": 6,
      "outputs": [
        {
          "output_type": "stream",
          "name": "stdout",
          "text": [
            "INFO:tensorflow:Using default config.\n",
            "INFO:tensorflow:Using the Keras model provided.\n"
          ]
        },
        {
          "output_type": "stream",
          "name": "stderr",
          "text": [
            "/usr/local/lib/python3.7/dist-packages/keras/backend.py:414: UserWarning: `tf.keras.backend.set_learning_phase` is deprecated and will be removed after 2020-10-11. To update it, simply pass a True/False value to the `training` argument of the `__call__` method of your layer or model.\n",
            "  warnings.warn('`tf.keras.backend.set_learning_phase` is deprecated and '\n"
          ]
        },
        {
          "output_type": "stream",
          "name": "stdout",
          "text": [
            "INFO:tensorflow:Using config: {'_model_dir': 'models/estimator-for-XOR/', '_tf_random_seed': None, '_save_summary_steps': 100, '_save_checkpoints_steps': None, '_save_checkpoints_secs': 600, '_session_config': allow_soft_placement: true\n",
            "graph_options {\n",
            "  rewrite_options {\n",
            "    meta_optimizer_iterations: ONE\n",
            "  }\n",
            "}\n",
            ", '_keep_checkpoint_max': 5, '_keep_checkpoint_every_n_hours': 10000, '_log_step_count_steps': 100, '_train_distribute': None, '_device_fn': None, '_protocol': None, '_eval_distribute': None, '_experimental_distribute': None, '_experimental_max_worker_delay_secs': None, '_session_creation_timeout_secs': 7200, '_checkpoint_save_graph_def': True, '_service': None, '_cluster_spec': ClusterSpec({}), '_task_type': 'worker', '_task_id': 0, '_global_id_in_cluster': 0, '_master': '', '_evaluation_master': '', '_is_chief': True, '_num_ps_replicas': 0, '_num_worker_replicas': 1}\n"
          ]
        }
      ]
    },
    {
      "cell_type": "code",
      "source": [
        "# 단계 4: 추정기를 사용하여 모델 훈련 및 검증 데이터셋으로 평가, 예측\n",
        "num_epochs = 200\n",
        "batch_size = 2\n",
        "steps_per_epoch = np.ceil(len(x_train) / batch_size)\n",
        "\n",
        "my_estimator.train(\n",
        "    input_fn=lambda: train_input_fn(x_train, y_train, batch_size),\n",
        "    steps=num_epochs * steps_per_epoch)"
      ],
      "metadata": {
        "colab": {
          "base_uri": "https://localhost:8080/"
        },
        "id": "dS-H9At1l1rS",
        "outputId": "3d48c1d8-7998-437d-9cdd-089cf818dc30"
      },
      "execution_count": 7,
      "outputs": [
        {
          "output_type": "stream",
          "name": "stdout",
          "text": [
            "WARNING:tensorflow:From /usr/local/lib/python3.7/dist-packages/tensorflow/python/training/training_util.py:401: Variable.initialized_value (from tensorflow.python.ops.variables) is deprecated and will be removed in a future version.\n",
            "Instructions for updating:\n",
            "Use Variable.read_value. Variables in 2.X are initialized automatically both in eager and graph (inside tf.defun) contexts.\n",
            "INFO:tensorflow:Calling model_fn.\n"
          ]
        },
        {
          "output_type": "stream",
          "name": "stderr",
          "text": [
            "/usr/local/lib/python3.7/dist-packages/keras/backend.py:414: UserWarning: `tf.keras.backend.set_learning_phase` is deprecated and will be removed after 2020-10-11. To update it, simply pass a True/False value to the `training` argument of the `__call__` method of your layer or model.\n",
            "  warnings.warn('`tf.keras.backend.set_learning_phase` is deprecated and '\n"
          ]
        },
        {
          "output_type": "stream",
          "name": "stdout",
          "text": [
            "INFO:tensorflow:Done calling model_fn.\n",
            "INFO:tensorflow:Warm-starting with WarmStartSettings: WarmStartSettings(ckpt_to_initialize_from='models/estimator-for-XOR/keras/keras_model.ckpt', vars_to_warm_start='.*', var_name_to_vocab_info={}, var_name_to_prev_var_name={})\n",
            "INFO:tensorflow:Warm-starting from: models/estimator-for-XOR/keras/keras_model.ckpt\n",
            "INFO:tensorflow:Warm-starting variables only in TRAINABLE_VARIABLES.\n",
            "INFO:tensorflow:Warm-started 8 variables.\n",
            "INFO:tensorflow:Create CheckpointSaverHook.\n",
            "INFO:tensorflow:Graph was finalized.\n",
            "INFO:tensorflow:Running local_init_op.\n",
            "INFO:tensorflow:Done running local_init_op.\n",
            "INFO:tensorflow:Calling checkpoint listeners before saving checkpoint 0...\n",
            "INFO:tensorflow:Saving checkpoints for 0 into models/estimator-for-XOR/model.ckpt.\n",
            "INFO:tensorflow:Calling checkpoint listeners after saving checkpoint 0...\n",
            "INFO:tensorflow:loss = 0.75971186, step = 0\n",
            "INFO:tensorflow:global_step/sec: 432.892\n",
            "INFO:tensorflow:loss = 0.6824059, step = 100 (0.239 sec)\n",
            "INFO:tensorflow:global_step/sec: 615.001\n",
            "INFO:tensorflow:loss = 0.72760385, step = 200 (0.163 sec)\n",
            "INFO:tensorflow:global_step/sec: 511.771\n",
            "INFO:tensorflow:loss = 0.64599323, step = 300 (0.195 sec)\n",
            "INFO:tensorflow:global_step/sec: 625.262\n",
            "INFO:tensorflow:loss = 0.6956914, step = 400 (0.159 sec)\n",
            "INFO:tensorflow:global_step/sec: 725.125\n",
            "INFO:tensorflow:loss = 0.746485, step = 500 (0.134 sec)\n",
            "INFO:tensorflow:global_step/sec: 721.508\n",
            "INFO:tensorflow:loss = 0.6325433, step = 600 (0.139 sec)\n",
            "INFO:tensorflow:global_step/sec: 692.5\n",
            "INFO:tensorflow:loss = 0.6295204, step = 700 (0.145 sec)\n",
            "INFO:tensorflow:global_step/sec: 821.179\n",
            "INFO:tensorflow:loss = 0.62406003, step = 800 (0.120 sec)\n",
            "INFO:tensorflow:global_step/sec: 1074.38\n",
            "INFO:tensorflow:loss = 0.6437819, step = 900 (0.097 sec)\n",
            "INFO:tensorflow:global_step/sec: 993.019\n",
            "INFO:tensorflow:loss = 0.6484092, step = 1000 (0.098 sec)\n",
            "INFO:tensorflow:global_step/sec: 1070.31\n",
            "INFO:tensorflow:loss = 0.6700703, step = 1100 (0.095 sec)\n",
            "INFO:tensorflow:global_step/sec: 1077.99\n",
            "INFO:tensorflow:loss = 0.60839486, step = 1200 (0.090 sec)\n",
            "INFO:tensorflow:global_step/sec: 1072.55\n",
            "INFO:tensorflow:loss = 0.6267755, step = 1300 (0.097 sec)\n",
            "INFO:tensorflow:global_step/sec: 1031.67\n",
            "INFO:tensorflow:loss = 0.6433972, step = 1400 (0.093 sec)\n",
            "INFO:tensorflow:global_step/sec: 931.896\n",
            "INFO:tensorflow:loss = 0.66218984, step = 1500 (0.108 sec)\n",
            "INFO:tensorflow:global_step/sec: 1093.37\n",
            "INFO:tensorflow:loss = 0.7450958, step = 1600 (0.091 sec)\n",
            "INFO:tensorflow:global_step/sec: 1005.49\n",
            "INFO:tensorflow:loss = 0.74074656, step = 1700 (0.100 sec)\n",
            "INFO:tensorflow:global_step/sec: 1063.76\n",
            "INFO:tensorflow:loss = 0.7387128, step = 1800 (0.094 sec)\n",
            "INFO:tensorflow:global_step/sec: 1034.64\n",
            "INFO:tensorflow:loss = 0.715725, step = 1900 (0.096 sec)\n",
            "INFO:tensorflow:global_step/sec: 1044.08\n",
            "INFO:tensorflow:loss = 0.6934837, step = 2000 (0.096 sec)\n",
            "INFO:tensorflow:global_step/sec: 1035.41\n",
            "INFO:tensorflow:loss = 0.69598484, step = 2100 (0.097 sec)\n",
            "INFO:tensorflow:global_step/sec: 1014.6\n",
            "INFO:tensorflow:loss = 0.7178897, step = 2200 (0.102 sec)\n",
            "INFO:tensorflow:global_step/sec: 979.115\n",
            "INFO:tensorflow:loss = 0.6122866, step = 2300 (0.103 sec)\n",
            "INFO:tensorflow:global_step/sec: 1027.59\n",
            "INFO:tensorflow:loss = 0.6870141, step = 2400 (0.096 sec)\n",
            "WARNING:tensorflow:It seems that global step (tf.train.get_global_step) has not been increased. Current value (could be stable): 2471 vs previous value: 2471. You could increase the global step by passing tf.train.get_global_step() to Optimizer.apply_gradients or Optimizer.minimize.\n",
            "INFO:tensorflow:global_step/sec: 922.303\n",
            "INFO:tensorflow:loss = 0.72836584, step = 2500 (0.106 sec)\n",
            "INFO:tensorflow:global_step/sec: 1092.71\n",
            "INFO:tensorflow:loss = 0.49779952, step = 2600 (0.094 sec)\n",
            "WARNING:tensorflow:It seems that global step (tf.train.get_global_step) has not been increased. Current value (could be stable): 2619 vs previous value: 2619. You could increase the global step by passing tf.train.get_global_step() to Optimizer.apply_gradients or Optimizer.minimize.\n",
            "INFO:tensorflow:global_step/sec: 984.756\n",
            "INFO:tensorflow:loss = 0.46629965, step = 2700 (0.099 sec)\n",
            "INFO:tensorflow:global_step/sec: 1107.27\n",
            "INFO:tensorflow:loss = 0.3979124, step = 2800 (0.091 sec)\n",
            "INFO:tensorflow:global_step/sec: 1022.31\n",
            "INFO:tensorflow:loss = 0.5390712, step = 2900 (0.101 sec)\n",
            "INFO:tensorflow:global_step/sec: 1080.44\n",
            "INFO:tensorflow:loss = 0.60829586, step = 3000 (0.090 sec)\n",
            "INFO:tensorflow:global_step/sec: 1059.12\n",
            "INFO:tensorflow:loss = 0.1661753, step = 3100 (0.097 sec)\n",
            "INFO:tensorflow:global_step/sec: 919.58\n",
            "INFO:tensorflow:loss = 0.30455017, step = 3200 (0.106 sec)\n",
            "INFO:tensorflow:global_step/sec: 1079.15\n",
            "INFO:tensorflow:loss = 0.6712532, step = 3300 (0.093 sec)\n",
            "INFO:tensorflow:global_step/sec: 909.549\n",
            "INFO:tensorflow:loss = 0.5348039, step = 3400 (0.112 sec)\n",
            "INFO:tensorflow:global_step/sec: 930.319\n",
            "INFO:tensorflow:loss = 0.3855724, step = 3500 (0.106 sec)\n",
            "WARNING:tensorflow:It seems that global step (tf.train.get_global_step) has not been increased. Current value (could be stable): 3505 vs previous value: 3505. You could increase the global step by passing tf.train.get_global_step() to Optimizer.apply_gradients or Optimizer.minimize.\n",
            "WARNING:tensorflow:It seems that global step (tf.train.get_global_step) has not been increased. Current value (could be stable): 3510 vs previous value: 3510. You could increase the global step by passing tf.train.get_global_step() to Optimizer.apply_gradients or Optimizer.minimize.\n",
            "INFO:tensorflow:global_step/sec: 881.781\n",
            "INFO:tensorflow:loss = 0.23322405, step = 3600 (0.115 sec)\n",
            "INFO:tensorflow:global_step/sec: 1025.76\n",
            "INFO:tensorflow:loss = 0.36371458, step = 3700 (0.095 sec)\n",
            "INFO:tensorflow:global_step/sec: 1063.12\n",
            "INFO:tensorflow:loss = 0.4110651, step = 3800 (0.098 sec)\n",
            "INFO:tensorflow:global_step/sec: 1054\n",
            "INFO:tensorflow:loss = 0.14194703, step = 3900 (0.091 sec)\n",
            "INFO:tensorflow:global_step/sec: 1051.16\n",
            "INFO:tensorflow:loss = 0.6020137, step = 4000 (0.097 sec)\n",
            "WARNING:tensorflow:It seems that global step (tf.train.get_global_step) has not been increased. Current value (could be stable): 4004 vs previous value: 4004. You could increase the global step by passing tf.train.get_global_step() to Optimizer.apply_gradients or Optimizer.minimize.\n",
            "INFO:tensorflow:global_step/sec: 907.72\n",
            "INFO:tensorflow:loss = 0.16636403, step = 4100 (0.111 sec)\n",
            "INFO:tensorflow:global_step/sec: 1072.7\n",
            "INFO:tensorflow:loss = 0.3625081, step = 4200 (0.094 sec)\n",
            "INFO:tensorflow:global_step/sec: 939.736\n",
            "INFO:tensorflow:loss = 0.33658883, step = 4300 (0.103 sec)\n",
            "INFO:tensorflow:global_step/sec: 1013.85\n",
            "INFO:tensorflow:loss = 0.6776696, step = 4400 (0.099 sec)\n",
            "INFO:tensorflow:global_step/sec: 873.36\n",
            "INFO:tensorflow:loss = 0.17006055, step = 4500 (0.115 sec)\n",
            "INFO:tensorflow:global_step/sec: 1012.27\n",
            "INFO:tensorflow:loss = 0.34894884, step = 4600 (0.101 sec)\n",
            "INFO:tensorflow:global_step/sec: 1001.32\n",
            "INFO:tensorflow:loss = 0.36434627, step = 4700 (0.097 sec)\n",
            "INFO:tensorflow:global_step/sec: 1070.26\n",
            "INFO:tensorflow:loss = 0.054223187, step = 4800 (0.096 sec)\n",
            "INFO:tensorflow:global_step/sec: 1009.53\n",
            "INFO:tensorflow:loss = 0.098067075, step = 4900 (0.096 sec)\n",
            "INFO:tensorflow:global_step/sec: 1095.21\n",
            "INFO:tensorflow:loss = 0.16584218, step = 5000 (0.091 sec)\n",
            "INFO:tensorflow:global_step/sec: 1084.62\n",
            "INFO:tensorflow:loss = 0.018579809, step = 5100 (0.092 sec)\n",
            "INFO:tensorflow:global_step/sec: 964.587\n",
            "INFO:tensorflow:loss = 0.052144773, step = 5200 (0.107 sec)\n",
            "INFO:tensorflow:global_step/sec: 1037.52\n",
            "INFO:tensorflow:loss = 0.15105388, step = 5300 (0.096 sec)\n",
            "INFO:tensorflow:global_step/sec: 1074.25\n",
            "INFO:tensorflow:loss = 0.07749274, step = 5400 (0.093 sec)\n",
            "INFO:tensorflow:global_step/sec: 969.819\n",
            "INFO:tensorflow:loss = 0.06009222, step = 5500 (0.103 sec)\n",
            "INFO:tensorflow:global_step/sec: 970.349\n",
            "INFO:tensorflow:loss = 0.06603473, step = 5600 (0.100 sec)\n",
            "INFO:tensorflow:global_step/sec: 1038.74\n",
            "INFO:tensorflow:loss = 0.10877285, step = 5700 (0.097 sec)\n",
            "INFO:tensorflow:global_step/sec: 1028.84\n",
            "INFO:tensorflow:loss = 0.051309995, step = 5800 (0.100 sec)\n",
            "INFO:tensorflow:global_step/sec: 981.562\n",
            "INFO:tensorflow:loss = 0.020812191, step = 5900 (0.102 sec)\n",
            "INFO:tensorflow:global_step/sec: 1086.87\n",
            "INFO:tensorflow:loss = 0.08251315, step = 6000 (0.093 sec)\n",
            "INFO:tensorflow:global_step/sec: 993.139\n",
            "INFO:tensorflow:loss = 0.034822054, step = 6100 (0.100 sec)\n",
            "INFO:tensorflow:global_step/sec: 1041.95\n",
            "INFO:tensorflow:loss = 0.06410321, step = 6200 (0.096 sec)\n",
            "INFO:tensorflow:global_step/sec: 1059.56\n",
            "INFO:tensorflow:loss = 0.00423289, step = 6300 (0.094 sec)\n",
            "INFO:tensorflow:global_step/sec: 978.766\n",
            "INFO:tensorflow:loss = 0.2219148, step = 6400 (0.102 sec)\n",
            "INFO:tensorflow:global_step/sec: 1042.29\n",
            "INFO:tensorflow:loss = 0.02957115, step = 6500 (0.096 sec)\n",
            "INFO:tensorflow:global_step/sec: 1020.69\n",
            "INFO:tensorflow:loss = 0.004517337, step = 6600 (0.096 sec)\n",
            "INFO:tensorflow:global_step/sec: 895.712\n",
            "INFO:tensorflow:loss = 0.03352235, step = 6700 (0.113 sec)\n",
            "INFO:tensorflow:global_step/sec: 1083.98\n",
            "INFO:tensorflow:loss = 0.0040033697, step = 6800 (0.094 sec)\n",
            "INFO:tensorflow:global_step/sec: 897.682\n",
            "INFO:tensorflow:loss = 0.019927867, step = 6900 (0.111 sec)\n",
            "INFO:tensorflow:global_step/sec: 1072.25\n",
            "INFO:tensorflow:loss = 0.04612019, step = 7000 (0.093 sec)\n",
            "INFO:tensorflow:global_step/sec: 927.291\n",
            "INFO:tensorflow:loss = 0.015162035, step = 7100 (0.107 sec)\n",
            "INFO:tensorflow:global_step/sec: 1026.71\n",
            "INFO:tensorflow:loss = 0.018525317, step = 7200 (0.095 sec)\n",
            "INFO:tensorflow:global_step/sec: 993.567\n",
            "INFO:tensorflow:loss = 0.01358738, step = 7300 (0.105 sec)\n",
            "INFO:tensorflow:global_step/sec: 941.717\n",
            "INFO:tensorflow:loss = 0.001560854, step = 7400 (0.105 sec)\n",
            "INFO:tensorflow:global_step/sec: 994.913\n",
            "INFO:tensorflow:loss = 0.14654768, step = 7500 (0.097 sec)\n",
            "INFO:tensorflow:global_step/sec: 1108.72\n",
            "INFO:tensorflow:loss = 0.03271896, step = 7600 (0.090 sec)\n",
            "INFO:tensorflow:global_step/sec: 995.569\n",
            "INFO:tensorflow:loss = 0.00010160602, step = 7700 (0.103 sec)\n",
            "INFO:tensorflow:global_step/sec: 1039.5\n",
            "INFO:tensorflow:loss = 0.020460602, step = 7800 (0.096 sec)\n",
            "INFO:tensorflow:global_step/sec: 1046.51\n",
            "INFO:tensorflow:loss = 0.008960879, step = 7900 (0.096 sec)\n",
            "INFO:tensorflow:global_step/sec: 1074.74\n",
            "INFO:tensorflow:loss = 0.023903389, step = 8000 (0.092 sec)\n",
            "INFO:tensorflow:global_step/sec: 1059.48\n",
            "INFO:tensorflow:loss = 0.008706965, step = 8100 (0.095 sec)\n",
            "INFO:tensorflow:global_step/sec: 1067.65\n",
            "INFO:tensorflow:loss = 0.022740135, step = 8200 (0.091 sec)\n",
            "INFO:tensorflow:global_step/sec: 1097.63\n",
            "INFO:tensorflow:loss = 0.012643082, step = 8300 (0.094 sec)\n",
            "INFO:tensorflow:global_step/sec: 912.164\n",
            "INFO:tensorflow:loss = 0.17545481, step = 8400 (0.110 sec)\n",
            "INFO:tensorflow:global_step/sec: 975.283\n",
            "INFO:tensorflow:loss = 0.008920821, step = 8500 (0.101 sec)\n",
            "INFO:tensorflow:global_step/sec: 1029.82\n",
            "INFO:tensorflow:loss = 0.0067226095, step = 8600 (0.098 sec)\n",
            "INFO:tensorflow:global_step/sec: 901.332\n",
            "INFO:tensorflow:loss = 0.31417176, step = 8700 (0.110 sec)\n",
            "INFO:tensorflow:global_step/sec: 1058.4\n",
            "INFO:tensorflow:loss = 0.006406957, step = 8800 (0.094 sec)\n",
            "INFO:tensorflow:global_step/sec: 1077.02\n",
            "INFO:tensorflow:loss = 0.009402512, step = 8900 (0.094 sec)\n",
            "INFO:tensorflow:global_step/sec: 894.02\n",
            "INFO:tensorflow:loss = 0.0034284305, step = 9000 (0.113 sec)\n",
            "INFO:tensorflow:global_step/sec: 1019.14\n",
            "INFO:tensorflow:loss = 0.005924448, step = 9100 (0.097 sec)\n",
            "INFO:tensorflow:global_step/sec: 1064.91\n",
            "INFO:tensorflow:loss = 0.009970911, step = 9200 (0.095 sec)\n",
            "INFO:tensorflow:global_step/sec: 984.84\n",
            "INFO:tensorflow:loss = 0.04872967, step = 9300 (0.098 sec)\n",
            "INFO:tensorflow:global_step/sec: 1091.41\n",
            "INFO:tensorflow:loss = 0.0005774352, step = 9400 (0.093 sec)\n",
            "INFO:tensorflow:global_step/sec: 1063.05\n",
            "INFO:tensorflow:loss = 0.0013712357, step = 9500 (0.094 sec)\n",
            "INFO:tensorflow:global_step/sec: 947.264\n",
            "INFO:tensorflow:loss = 0.019718552, step = 9600 (0.106 sec)\n",
            "INFO:tensorflow:global_step/sec: 898.796\n",
            "INFO:tensorflow:loss = 3.4214238e-05, step = 9700 (0.112 sec)\n",
            "INFO:tensorflow:global_step/sec: 1037.64\n",
            "INFO:tensorflow:loss = 0.0043493784, step = 9800 (0.096 sec)\n",
            "INFO:tensorflow:global_step/sec: 973.667\n",
            "INFO:tensorflow:loss = 0.0029901755, step = 9900 (0.103 sec)\n",
            "INFO:tensorflow:Calling checkpoint listeners before saving checkpoint 10000...\n",
            "INFO:tensorflow:Saving checkpoints for 10000 into models/estimator-for-XOR/model.ckpt.\n",
            "INFO:tensorflow:Calling checkpoint listeners after saving checkpoint 10000...\n",
            "INFO:tensorflow:Loss for final step: 0.0039693797.\n"
          ]
        },
        {
          "output_type": "execute_result",
          "data": {
            "text/plain": [
              "<tensorflow_estimator.python.estimator.estimator.EstimatorV2 at 0x7f99d98b8c10>"
            ]
          },
          "metadata": {},
          "execution_count": 7
        }
      ]
    },
    {
      "cell_type": "code",
      "source": [
        "my_estimator.evaluate(\n",
        "    input_fn=lambda: eval_input_fn(x_valid, y_valid, batch_size))"
      ],
      "metadata": {
        "colab": {
          "base_uri": "https://localhost:8080/"
        },
        "id": "TK05lzcQmRtq",
        "outputId": "a5d3d0f3-6a34-4100-a945-aa6bfdaa9eb8"
      },
      "execution_count": 8,
      "outputs": [
        {
          "output_type": "stream",
          "name": "stdout",
          "text": [
            "INFO:tensorflow:Calling model_fn.\n"
          ]
        },
        {
          "output_type": "stream",
          "name": "stderr",
          "text": [
            "/usr/local/lib/python3.7/dist-packages/keras/backend.py:414: UserWarning: `tf.keras.backend.set_learning_phase` is deprecated and will be removed after 2020-10-11. To update it, simply pass a True/False value to the `training` argument of the `__call__` method of your layer or model.\n",
            "  warnings.warn('`tf.keras.backend.set_learning_phase` is deprecated and '\n"
          ]
        },
        {
          "output_type": "stream",
          "name": "stdout",
          "text": [
            "INFO:tensorflow:Done calling model_fn.\n"
          ]
        },
        {
          "output_type": "stream",
          "name": "stderr",
          "text": [
            "/usr/local/lib/python3.7/dist-packages/keras/engine/training_v1.py:2057: UserWarning: `Model.state_updates` will be removed in a future version. This property should not be used in TensorFlow 2.0, as `updates` are applied automatically.\n",
            "  updates = self.state_updates\n"
          ]
        },
        {
          "output_type": "stream",
          "name": "stdout",
          "text": [
            "INFO:tensorflow:Starting evaluation at 2022-02-09T17:48:05\n",
            "INFO:tensorflow:Graph was finalized.\n",
            "INFO:tensorflow:Restoring parameters from models/estimator-for-XOR/model.ckpt-10000\n",
            "INFO:tensorflow:Running local_init_op.\n",
            "INFO:tensorflow:Done running local_init_op.\n",
            "INFO:tensorflow:Inference Time : 1.63080s\n",
            "INFO:tensorflow:Finished evaluation at 2022-02-09-17:48:06\n",
            "INFO:tensorflow:Saving dict for global step 10000: binary_accuracy = 0.93, global_step = 10000, loss = 0.09085727\n",
            "INFO:tensorflow:Saving 'checkpoint_path' summary for global step 10000: models/estimator-for-XOR/model.ckpt-10000\n"
          ]
        },
        {
          "output_type": "execute_result",
          "data": {
            "text/plain": [
              "{'binary_accuracy': 0.93, 'global_step': 10000, 'loss': 0.09085727}"
            ]
          },
          "metadata": {},
          "execution_count": 8
        }
      ]
    }
  ]
}
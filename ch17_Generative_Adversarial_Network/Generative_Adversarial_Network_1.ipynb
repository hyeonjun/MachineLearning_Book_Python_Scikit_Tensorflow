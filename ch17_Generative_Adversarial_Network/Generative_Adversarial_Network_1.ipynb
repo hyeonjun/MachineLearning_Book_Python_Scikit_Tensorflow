{
  "nbformat": 4,
  "nbformat_minor": 0,
  "metadata": {
    "colab": {
      "name": "ch17_Generative_Adversarial_Network.ipynb",
      "provenance": [],
      "collapsed_sections": [],
      "authorship_tag": "ABX9TyPE0E+fcNb85SkRY5l7Lequ"
    },
    "kernelspec": {
      "name": "python3",
      "display_name": "Python 3"
    },
    "language_info": {
      "name": "python"
    },
    "accelerator": "GPU"
  },
  "cells": [
    {
      "cell_type": "code",
      "execution_count": 1,
      "metadata": {
        "id": "esS46ta5SaNK"
      },
      "outputs": [],
      "source": [
        "from IPython.display import Image"
      ]
    },
    {
      "cell_type": "markdown",
      "source": [
        "# 17. 새로운 데이터 합성을 위한 생성적 적대 신경망\n",
        "* 새로운 데이터를 합성하기 위한 생성 모델\n",
        "* 오토인코더(autoencoder), 변이형 오토인코더(Variable AutoEncoder, VAE), GAN과의 관계\n",
        "* GAN 구성 요소\n",
        "* 손글씨 숫자를 생성하는 GAN 모델\n",
        "* 전치 합성곱(transposed convolution)과 배치 정규와(Batch Normalization, BatchNorm, BN)\n",
        "* GAN 성능향상: 심층 합성곱 GAN과 바서슈타인 거리(Wasserstein distance)를 사용한 GAN"
      ],
      "metadata": {
        "id": "UnQsAma7SdsP"
      }
    },
    {
      "cell_type": "markdown",
      "source": [
        "# 17.1 생성적 적대 신경망 소개\n",
        "* GAN의 주요 목적: 훈련 데이터셋과 동일한 분포를 가진 새로운 데이터를 합성\n",
        "    * GAN의 원본 형태는 레이블 데이터가 필요하지 않아 머신러닝 비지도 학습 범주로 간주.\n",
        "    * 원본 GAN을 확장한 것은 비지도 학습과 지도 학습 양쪽으로 모두 볼 수 있다.\n",
        "\n",
        "### 17.1.1 오토인코더\n",
        "* 훈련 데이터를 압축하고 해제할 수 있는 **오토인코더**\n",
        "* 인코더(encoder) 신경망과 디코더(decoder) 신경망 두 개가 연결되어 구성.\n",
        "* 인코더 신경망\n",
        "    * 샘플 x에 연관된 d차원의 입력 특성 벡터를 받아 p차원의 벡터 z로 인코딩.\n",
        "        * z=f(x) 함수를 모델링하는 방법을 배우는 역할\n",
        "    * 인코딩된 벡터 z를 **잠재 벡터**(latent vector) 또는 잠재 특성 표현이라고도 부른다.\n",
        "        * 잠재 벡터의 차원은 입력 샘플의 차원보다 작다. 즉, p < d\n",
        "            * 인코더 데이터가 데이터 압축 기능을 한다.\n",
        "* 디코더 신경망\n",
        "    * 저차원 잠재 벡터 z에서 $\\hat{x}$를 압축 해제한다.\n",
        "        * 디코더 = 함수 ( $\\hat{x} = g(z)$ )로 생각할 수 있다.\n",
        "    \n",
        "\n",
        "인코더 -> $z=f(x)$\n",
        "\n",
        "디코더 -> $\\hat{x}=g(z)$\n"
      ],
      "metadata": {
        "id": "uVR9bmHJTP3A"
      }
    },
    {
      "cell_type": "code",
      "source": [
        "Image(url='https://git.io/JLAQ2', width=500)"
      ],
      "metadata": {
        "colab": {
          "base_uri": "https://localhost:8080/",
          "height": 469
        },
        "id": "7_qFiasVYkX4",
        "outputId": "f954b855-4a50-4368-966e-d6744f2bf5f3"
      },
      "execution_count": 2,
      "outputs": [
        {
          "output_type": "execute_result",
          "data": {
            "text/html": [
              "<img src=\"https://git.io/JLAQ2\" width=\"500\"/>"
            ],
            "text/plain": [
              "<IPython.core.display.Image object>"
            ]
          },
          "metadata": {},
          "execution_count": 2
        }
      ]
    },
    {
      "cell_type": "markdown",
      "source": [
        "위 그림은 인코더와 디코더 사이에 은닉층이 없는 오토인코더이지만 (다층 신경망처럼) 비선형성을 가진 여러 은닉층을 추가하여 심층 오토인코더를 만들 수 있다. 이렇게 하면 더욱 효과적인 데이터 압축과 재구성 함수를 학습할 수 있다. 여기서 언급한 오토인코더는 완전 연결 층을 사용한다. 이미지를 사용할 때는 완전 연결 층을 합성곱 층으로 바꿀 수 있다."
      ],
      "metadata": {
        "id": "I29idi23cagJ"
      }
    },
    {
      "cell_type": "markdown",
      "source": [
        "* 오토인코더와 차원 축소 사이의 관계\n",
        "\n",
        "인코더와 디코더에 모두 비선형성이 없으면 오토인코더는 거의 PCA와 동일하다. (은닉층이 없고 비선형 활성화 함수가 없는) 단일층 인코더의 가중치를 행렬 U라고 표시하면 인코더는 $z=U^Tx$를 모델링한다. 단일층 선형 디코더는 $\\hat{x}=Uz$를 모델링한다. 두 식을 합치면 $\\hat{x}= UU^Tx$를 얻는다. PCA가 직교성($UU^T=I_{n*n}$)을 가진다는 제한을 제외하면 PCA가 하는 일과 정확히 동일하다."
      ],
      "metadata": {
        "id": "jOF3pjIUYkGQ"
      }
    },
    {
      "cell_type": "markdown",
      "source": [
        "* 잠재 공간의 크기에 기반한 다른 종류의 오토인코더\n",
        "\n",
        "오코인코더의 잠재 공간(latent space) 차원은 일반적으로 입력 차원보다 작다(p < d). 오토인코더를 차원 축소의 용도로 사용하기 위해서이다. 이런 이유로 잠재 벡터를 병목(bottleneck)이라고도 부르며 오토인코더의 이런 성질을 **과소완전**(undercomplete)이라고 부른다. 하지만 **과대완전**(overcomplete)으로 부르는 다른 종류의 오토인코더도 있다. 이 오토인코더의 잠재 벡터 z의 차원은 입력 샘플의 차원보다 크다(p > d).\n",
        "\n",
        "과대완전 오토인코더를 훈련할 때 인코더와 디코더가 단순히 입력 특성을 (기억하여) 출력층으로 복사할 수 있다. 당연히 이는 유용하지 않다. 훈련 과정을 수정하여 과대완전 오토인코더를 잡음 감소(noise reduction) 용도로 사용할 수 있다.\n",
        "\n",
        "훈련하는 동안 랜덤한 잡음 $\\epsilon$을 입력 샘플에 추가하여 신경망이 잡음이 있는 신호 $x+ϵ$에서 깨끗한 샘플 x를 재구성하는 방법을 배운다. 평가할 때는 원래 잡음이 있는 (즉, 이미 잡음을 포함하고 있어 인공적인 잡음을 추가하지 않은) 새로운 샘플을 제공하여 이 샘플에 있는 잡음을 제거한다. 이런 오토인코더 구조와 훈련 방법을 잡음 제거 오토인코더(denoising autoencoder)라고 부른다.\n"
      ],
      "metadata": {
        "id": "1eXdb6Rzcy_C"
      }
    },
    {
      "cell_type": "markdown",
      "source": [
        "### 17.1.2 새로운 데이터 합성을 위한 생성 모델\n",
        "\n",
        "오토인코더는 결정적인 모델. 즉, 오토인코더가 훈련되고 나면 입력 x에 대해 저차원 공간의 압축된 버전에서 이 입력을 재구성할 수 있다. 따라서 압축된 표현을 변환하는 식으로 입력을 재구성하는 것을 넘어서 새로운 데이터를 생성할 수 있다.\n",
        "\n",
        "반면 생성 모델은 (잠재 표현에 해당하는) 랜덤한 백터 z에서 새로운 샘플 $\\tilde{x}$를 생성할 수 있다. 랜덤 벡터 z는 완벽하게 특징을 알고 있는 간단한 분포에서 만들어지기 때문에 쉽게 샘플링할 수 있다."
      ],
      "metadata": {
        "id": "lwxJx3ejfghw"
      }
    },
    {
      "cell_type": "code",
      "source": [
        "Image(url='https://git.io/JLAQH', width=700)"
      ],
      "metadata": {
        "colab": {
          "base_uri": "https://localhost:8080/",
          "height": 436
        },
        "id": "xKgSS9oigP7p",
        "outputId": "51be439b-c217-4e88-b74d-e248d0a21842"
      },
      "execution_count": 3,
      "outputs": [
        {
          "output_type": "execute_result",
          "data": {
            "text/html": [
              "<img src=\"https://git.io/JLAQH\" width=\"700\"/>"
            ],
            "text/plain": [
              "<IPython.core.display.Image object>"
            ]
          },
          "metadata": {},
          "execution_count": 3
        }
      ]
    },
    {
      "cell_type": "markdown",
      "source": [
        "생성 모델을 보면 오토인코더의 디코더와 비슷하다. 둘 다 잠재 벡터 z를 입력으로 받고 x와 동일한 공간에 있는 출력을 만든다. (오토인코더에서 $\\hat{x}$는 입력 x의 재구성이고 생성 모델에서 $\\hat{x}$는 합성된 샘플이다.\n",
        "\n",
        "이 두 모델의 큰 차이점은 오토인코더에 있는 z의 분포는 알지 못하지만 생성 모델에서는 z의 분포를 완벽하게 알고 있다는 것이다. 오토인코더를 생성 모델로 일반화 할 수도 있다. VAE가 그 중 한 가지 방법이다.\n",
        "\n",
        "VAE에서는 입력 샘플 x를 받으면 인코더 신경망이 잠재 벡터 분포의 두 요소 평균 $\\mu$와 분산 $\\sigma^2$을 계산한다. VAE를 훈련하는 동안 이 평균과 분산을 (평균이 0이고 단위 분산인) 표준 정규 분포에 맞추도록 신경망을 조정한다. VAE 모델을 훈련한 후 인코더는 떼어 내고 디코더 신경망을 사용하여 가우시안 분포에서 랜덤하게 샘플링한 z 벡터를 주입해서 새로운 샘플 $\\hat{x}$를 생성한다.\n",
        "\n",
        "VAE 외에도 자기회귀 모델(autoregressive model)과 노멀라이징 플로 모델(normalizing flow model)과 같은 다른 종류의 생성 모델이 있다."
      ],
      "metadata": {
        "id": "w3AhXqMYgZ0w"
      }
    },
    {
      "cell_type": "markdown",
      "source": [
        "* 생성 모델이란\n",
        "\n",
        "생성 모델은 전통적으로 데이터 입력 분포 p(x) 또는 입력 데이터와 연관된 타깃의 결합 분포(joint distribution) p(x, y)를 모델링하는 알고리즘으로 정의한다. 정의에 따라 이런 모델은 다른 특성 $x_j$를 조건으로 어떤 특성 $x_i$를 샘플링할 수 있다. 이를 조건부 추론이라고 한다. 하지만 딥러닝에서 일반적으로 생성 모델이라 함은 진짜처럼 보이는 데이터를 생성하는 모델을 말한다. 즉, 입력 분포 p(x)에서 샘플링할 수 있지만 조건부 추론을 수행할 필요는 없다."
      ],
      "metadata": {
        "id": "k1xGFYbUqQfi"
      }
    },
    {
      "cell_type": "markdown",
      "source": [
        "### 17.1.3 GAN으로 새로운 샘플 생성\n",
        "\n",
        "분포에서 샘플링한 랜덤 벡터 z를 입력받아 출력 이미지 x를 생성하는 신경망이 있다고 할때, 이 신경망을 **신경망**(G)이라고 부르며, $\\hat{x}=G(z)$는 생성된 출력이다.\n",
        "\n",
        "신경망을 랜덤한 가중치로 초기화한다. 따라서 가중치가 학습되기 전에 출력한 이미지는 백색 소음과 비슷할 것이다. 이미지의 품질을 평가하는 함수를 평가 함수라 한다.\n",
        "\n",
        "이런 함수에서 피드백을 받아 생성된 이미지의 품질을 높이기 위해 가중치를 수정핟로고 생성자 신경망에 알려준다. 그리고 이런 식으로 평가 함수의 피드백을 기반으로 생성자를 훈련시킬 수 있다. 생성자는 출력을 개선하여 진짜 이미지처럼 보이도록 학습될 것이다.\n",
        "\n",
        "GAN 모델은 **판별자**(discriminator)(D)라고 불리는 또 다른 신경망으로 구성되어 있다. 판별자는 진짜 이미지 x에서 합성 이미지 $\\hat{x}$를 감지하는 법을 학습하는 분류기이다."
      ],
      "metadata": {
        "id": "5J_nXg7dqxsT"
      }
    },
    {
      "cell_type": "code",
      "source": [
        "# GAN 모델\n",
        "Image(url='https://git.io/JLAQ7', width=700)"
      ],
      "metadata": {
        "colab": {
          "base_uri": "https://localhost:8080/",
          "height": 336
        },
        "id": "DJ21GmIytwJj",
        "outputId": "7b3f5761-54a8-4e44-b4b6-ee65fe69260b"
      },
      "execution_count": 4,
      "outputs": [
        {
          "output_type": "execute_result",
          "data": {
            "text/html": [
              "<img src=\"https://git.io/JLAQ7\" width=\"700\"/>"
            ],
            "text/plain": [
              "<IPython.core.display.Image object>"
            ]
          },
          "metadata": {},
          "execution_count": 4
        }
      ]
    },
    {
      "cell_type": "markdown",
      "source": [
        "GAN에서 생성자와 판별자 두 신경망이 함께 훈련된다. 먼저 모델 가중치를 초기화한 후 생성자가 진짜처럼 보이지 않은 이미지를 만든다. 비슷하게 판별자는 진짜 이미지와 생성자가 합성한 가짜 이미지를 구분하는 능력이 형편없다. 하지만 시간이 지남에 따라 (훈련을 통해) 두 신경망이 서로 상호 작용을 하면서 향상된다. 두 신경망은 적대적인 게임을 수행한다. 생성자는 판별자를 속이기 위해 출력을 향상시키도록 학습되고, 동시에 판별자는 합성 이미지를 더 잘 감지하도록 훈련된다."
      ],
      "metadata": {
        "id": "viUBur-Ntz8K"
      }
    },
    {
      "cell_type": "markdown",
      "source": [
        "### 17.1.4 GAN의 생성자와 판별자 손실 함수 이해\n",
        "\n",
        "* GAN 목적 함수\n",
        "\n",
        "$$V(\\theta^{(D)}, \\theta^{(G)}) = E_{x~p_{data}(x)}[logD(x)] + E_{z~p_z(z)} [log(1-D(G(z)))]$$\n",
        "\n",
        "$V(\\theta^{(D)}, \\theta^{(G)})$를 가치 함수라고 부른다. 이를 보상으로 생각할 수 있다. 판별자(D)에 대해 이 값을 최대화하고 생성자(G)에 대해서는 이 값을 최소화해야 한다. \n",
        "\n",
        "D(x)는 입력 샘플 x가 진짜인지 가짜(생성된 것)인지 나타내는 확률이다.\n",
        "\n",
        "$E_{x~p_{data}(x)}[logD(x)]$는 데이터 분포(진짜 샘플의 분포)에서 온 샘플에 대한 대괄호 안에 있는 식의 기댓값을 나타낸다\n",
        "\n",
        "$E_{z~p_z(z)} [log(1-D(G(z)))]$는 입력 벡터 z에 대한 대괄호 안에 있는 식의 기대값을 나타낸다\n",
        "\n",
        "이런 가치 함수를 사용한 GAN 모델의 훈련은 두 개의 최적화 단계가 필요하다\n",
        "\n",
        "1. 판별자에 대한 보상을 최대화\n",
        "2. 생성자에 대한 보상을 최소화\n",
        "\n",
        "실용적인 GAN 훈련 방법은 두 최적화 단계를 교대로 수행하는 것이다.\n",
        "\n",
        "1. 한 신경망의 가중치를 고정(동결)하고 다른 신경망의 가중치를 쵲거화\n",
        "2. 두 번째 신경망을 고정하고 첫 번째 신경망 최적화\n",
        "\n",
        "훈련마다 위 과정을 반복한다. 생성자 신경망을 고정하고 판별자를 최적화한다고 할때, 가치 함수 $V(\\theta^{(D)}, \\theta^{(G)})$의 두 항이 모두 판별자를 최적화하는 데 기여한다. 첫 번째 항은 진짜 샘플에 연관된 손실이고, 두 번째 항은 가짜 샘플에 연관된 손실이다. 따라서 G를 고정하면 $V(\\theta^{(D)}, \\theta^{(G)})$를 최대화 하는 것이 목적 함수가 된다. 즉, 판별자가 진짜와 가짜를 더 잘 구분하도록 만드는 것이다.\n",
        "\n",
        "진짜와 가짜 샘플에 대한 손실을 사용하여 판별자를 최적화한 후 판별자를 고정하고 생성자를 최적화한다. 이 경우 $V(\\theta^{(D)}, \\theta^{(G)})$에 있는 두 번째 항만 생성자의 그레이디언트에 기여한다. 결국 D를 고정할 때 $V(\\theta^{(D)}, \\theta^{(G)})$를 최소화하는 목적 함수는 $min_GE_{z~p_z(z)[log(1-D(G(z)))]}$로 쓸 수 있다. 굿펠로우의 원본 GAN 논문에 따르면 log(1-D(G(z))) 함수는 초기 훈련 단계에서 그레이디언트 손실 문제가 발생한다. 이 때문에 훈련 초기에 출력을 G(z)는 진짜 샘플처럼 전혀 보이진 않는다. 따라서 D(G(z))는 거의 0에 가까워질 것이다. 이런 현상을 포화되었다고 한다. 이 문제를 해결하기 위해 최소화하려는 목적 함수 $min_GE_{z~p_z(z)[log(1-D(G(z)))]}$를 $max_GE_{z~p_z(z)}[log(1-D(G(z)))]$로 바꿔 쓸 수 있다.\n",
        "\n",
        "이렇게 식을 바꾸는 것은 생성자 훈련에서 진짜와 가짜 샘플의 이미지를 뒤바꾸고 일반적인 함수 최솟값을 찾는 작업을 의미한다. 즉, 생성자가 합성한 샘플이 가짜라서 레이블이 0이더라도 이 샘플의 레이블을 1로 바꾼다. 그 다음 $max_GE_{z~p_z(z)}[log(1-D(G(z)))]$를 최대화하는 대신 새로운 레이블로 이진 크로스 엔트로피 손실을 최소화할 수 있다.\n",
        "\n",
        "판별자가 이진 분류기이면 이진 크로스 엔트로피 손실 함수를 사용할 수 있다. 따라서 판별자 손실을 위한 정답 레이블은 다음과 같이 결정할 수 잇다.\n",
        "\n",
        "* 판별자를 위한 정답 레이블 \n",
        "    * 1: 진짜 이미지일 때, 즉 x\n",
        "    * 0: 생성자의 출력일 때, 즉 G(z)\n",
        "\n",
        "생성자는 진짜 같은 이미지를 합성해야 하기 때문에 판별자가 생성자의 출력을 진짜로 분류하지 않으면 생성자에게 벌칙을 부여할 수 있다. 생성자의 손실 함수를 계산할 때 생성자의 출려에 대한 레이블을 1로 가정한다."
      ],
      "metadata": {
        "id": "CbdUxMpBuRJS"
      }
    },
    {
      "cell_type": "code",
      "source": [
        "# GAN 훈련 단계\n",
        "Image(url='https://git.io/JLAQF', width=800)"
      ],
      "metadata": {
        "colab": {
          "base_uri": "https://localhost:8080/",
          "height": 514
        },
        "id": "1Hj09SsGuQwS",
        "outputId": "3a78fd9a-a955-4852-a60d-ba2afcb0bfd5"
      },
      "execution_count": 5,
      "outputs": [
        {
          "output_type": "execute_result",
          "data": {
            "text/html": [
              "<img src=\"https://git.io/JLAQF\" width=\"800\"/>"
            ],
            "text/plain": [
              "<IPython.core.display.Image object>"
            ]
          },
          "metadata": {},
          "execution_count": 5
        }
      ]
    },
    {
      "cell_type": "markdown",
      "source": [
        "# 17.2 밑바닥부터 GAN 모델 구현\n",
        "\n",
        "* MNIST 숫자와 비슷한 새로운 이미지를 생성하는 GAN 모델을 구현하고 훈련하는 방법"
      ],
      "metadata": {
        "id": "StfxMPh479Zd"
      }
    },
    {
      "cell_type": "code",
      "source": [
        "import tensorflow as tf\n",
        "print(tf.__version__)\n",
        "\n",
        "print(\"GPU 여부:\", len(tf.config.list_physical_devices('GPU')) > 0)\n",
        "\n",
        "if tf.config.list_physical_devices('GPU'):\n",
        "    device_name = tf.test.gpu_device_name()\n",
        "else:\n",
        "    device_name = 'cpu:0'\n",
        "    \n",
        "print(device_name)"
      ],
      "metadata": {
        "colab": {
          "base_uri": "https://localhost:8080/"
        },
        "id": "DqYVEEn78Q9k",
        "outputId": "cec305f5-56da-4cee-af4e-577de9219555"
      },
      "execution_count": 6,
      "outputs": [
        {
          "output_type": "stream",
          "name": "stdout",
          "text": [
            "2.8.0\n",
            "GPU 여부: True\n",
            "/device:GPU:0\n"
          ]
        }
      ]
    },
    {
      "cell_type": "code",
      "source": [
        "# gpu 메모리 사용량 확인\n",
        "tf.config.experimental.get_memory_usage('GPU:0')"
      ],
      "metadata": {
        "colab": {
          "base_uri": "https://localhost:8080/"
        },
        "id": "rDcwZwTw8XAL",
        "outputId": "789a4db0-d9ad-4f86-9767-9a3742a3b8da"
      },
      "execution_count": 7,
      "outputs": [
        {
          "output_type": "stream",
          "name": "stdout",
          "text": [
            "WARNING:tensorflow:From <ipython-input-7-75be167d980b>:2: get_memory_usage (from tensorflow.python.framework.config) is deprecated and will be removed in a future version.\n",
            "Instructions for updating:\n",
            "Use tf.config.experimental.get_memory_info(device)['current'] instead.\n"
          ]
        },
        {
          "output_type": "execute_result",
          "data": {
            "text/plain": [
              "0"
            ]
          },
          "metadata": {},
          "execution_count": 7
        }
      ]
    },
    {
      "cell_type": "code",
      "source": [
        "# NVIDIA GPU 관리 유틸리티인 nvidia-smi 명령을 실행하면 사용하고 있는 GPU 이름과 다양한 부가 정보를 얻을 수 있다.\n",
        "!nvidia-smi"
      ],
      "metadata": {
        "colab": {
          "base_uri": "https://localhost:8080/"
        },
        "id": "rpErCbc28eKc",
        "outputId": "9821f019-4ea6-452b-d569-5d106e7b4ed6"
      },
      "execution_count": 8,
      "outputs": [
        {
          "output_type": "stream",
          "name": "stdout",
          "text": [
            "Sun Feb 20 06:29:19 2022       \n",
            "+-----------------------------------------------------------------------------+\n",
            "| NVIDIA-SMI 460.32.03    Driver Version: 460.32.03    CUDA Version: 11.2     |\n",
            "|-------------------------------+----------------------+----------------------+\n",
            "| GPU  Name        Persistence-M| Bus-Id        Disp.A | Volatile Uncorr. ECC |\n",
            "| Fan  Temp  Perf  Pwr:Usage/Cap|         Memory-Usage | GPU-Util  Compute M. |\n",
            "|                               |                      |               MIG M. |\n",
            "|===============================+======================+======================|\n",
            "|   0  Tesla K80           Off  | 00000000:00:04.0 Off |                    0 |\n",
            "| N/A   42C    P0    64W / 149W |    145MiB / 11441MiB |      1%      Default |\n",
            "|                               |                      |                  N/A |\n",
            "+-------------------------------+----------------------+----------------------+\n",
            "                                                                               \n",
            "+-----------------------------------------------------------------------------+\n",
            "| Processes:                                                                  |\n",
            "|  GPU   GI   CI        PID   Type   Process name                  GPU Memory |\n",
            "|        ID   ID                                                   Usage      |\n",
            "|=============================================================================|\n",
            "+-----------------------------------------------------------------------------+\n"
          ]
        }
      ]
    },
    {
      "cell_type": "code",
      "source": [
        "!lsb_release -a"
      ],
      "metadata": {
        "colab": {
          "base_uri": "https://localhost:8080/"
        },
        "id": "shpNO7Gx9DRA",
        "outputId": "e1cf04b1-be36-4e8e-b4c2-00ec9bf23335"
      },
      "execution_count": 9,
      "outputs": [
        {
          "output_type": "stream",
          "name": "stdout",
          "text": [
            "No LSB modules are available.\n",
            "Distributor ID:\tUbuntu\n",
            "Description:\tUbuntu 18.04.5 LTS\n",
            "Release:\t18.04\n",
            "Codename:\tbionic\n"
          ]
        }
      ]
    },
    {
      "cell_type": "markdown",
      "source": [
        "### 17.2.2 생성자와 판별자 신경망 구현\n",
        "* GAN 모델\n",
        "    * 원본 GAN - 바닐라(vanilla) GAN\n",
        "    * 각 은닉층에는 LeakyReLU 활성화 함수 사용\n",
        "        * 렐루를 사용하면 희소한 그레이디언트가 발생하기 때문에 입력 값 전 범위에 걸쳐 그레이디언트가 필요할 때는 적합하지 않다.\n",
        "    * 판별자 신경망에서 각 은닉층 다음에는 드롭아웃 층이 뒤따름\n",
        "    * 생성자의 출력층은 하이퍼볼릭 탄젠트(tanh) 활성화 함수를 사용\n",
        "        * 생성자 신경망에 tanh 활성화 함수를 사용하면 학습에 도움된다.\n",
        "    * 판별자 출력층은 로짓을 계산하기 위해 활성화 함수를 가지지 않는다.\n",
        "        * 선형 활성화 함수를 사용\n",
        "        * 또는, 확률을 출력으로 얻기 위해 시그모이드 활성화 함수를 사용할 수 있다."
      ],
      "metadata": {
        "id": "I5TQwGia9H0F"
      }
    },
    {
      "cell_type": "code",
      "source": [
        "# 생성자와 판별자의 활성화 함수\n",
        "Image(url='https://git.io/JLAQp', width=600)"
      ],
      "metadata": {
        "colab": {
          "base_uri": "https://localhost:8080/",
          "height": 472
        },
        "id": "b3yRIGT-93_2",
        "outputId": "ac5eae5c-6f1f-4b5e-de1e-09a60d28b312"
      },
      "execution_count": 10,
      "outputs": [
        {
          "output_type": "execute_result",
          "data": {
            "text/html": [
              "<img src=\"https://git.io/JLAQp\" width=\"600\"/>"
            ],
            "text/plain": [
              "<IPython.core.display.Image object>"
            ]
          },
          "metadata": {},
          "execution_count": 10
        }
      ]
    },
    {
      "cell_type": "markdown",
      "source": [
        "* LeakyReLU 활성화 함수\n",
        "\n",
        "렐루 활성화 함수는 $\\phi(z) = max(0, z)$로 정의되기 때문에 (활성화 함수에 들어오는) 음수는 버려진다. 즉, 음수 입력은 0으로 설정.\n",
        "\n",
        "이로 인해 렐루 활성화 함수는 역전파될 때 희소한 그레이디언트를 만들 수 있다. 희소한 그레이디언트가 항상 나쁜 것은 아니고 분류 모델에는 도움이 될 수 있다.\n",
        "\n",
        "하지만 GAN 같은 일부 애플리케이션에서는 입력값의 전 범위에 대한 그레이디언트를 사용하는 것이 좋다. 음수 값을 조금 출력하도록 렐루 함수를 수정하면 이렇게 만들 수 있다. 이런 렐루 함수의 수정된 버전을 LeakyReLU라고 부른다.\n",
        "\n",
        "즉, LeakyReLU 활성화 함수는 음수 입력에서도 0이 아닌 그레이디언트를 만든다. 따라서 신경망이 대체적으로 더 많은 것을 표현할 수 있다."
      ],
      "metadata": {
        "id": "xlWuC-Q698hT"
      }
    },
    {
      "cell_type": "code",
      "source": [
        "# LeakyReLU 활성화 함수\n",
        "# a는 (활성화 함수에 들어오는) 음수 입력을 위한 기울기를 결정\n",
        "Image(url='https://git.io/JLAQh', width=600)"
      ],
      "metadata": {
        "colab": {
          "base_uri": "https://localhost:8080/",
          "height": 358
        },
        "id": "tYOBe8H--oNM",
        "outputId": "e2f369a2-7582-4dae-8fb7-1355714ab586"
      },
      "execution_count": 11,
      "outputs": [
        {
          "output_type": "execute_result",
          "data": {
            "text/html": [
              "<img src=\"https://git.io/JLAQh\" width=\"600\"/>"
            ],
            "text/plain": [
              "<IPython.core.display.Image object>"
            ]
          },
          "metadata": {},
          "execution_count": 11
        }
      ]
    },
    {
      "cell_type": "code",
      "source": [
        "import tensorflow as tf\n",
        "import tensorflow_datasets as tfds\n",
        "import numpy as np\n",
        "import matplotlib.pyplot as plt"
      ],
      "metadata": {
        "id": "8EK_zCIt-x_U"
      },
      "execution_count": 12,
      "outputs": []
    },
    {
      "cell_type": "code",
      "source": [
        "# 두 신경망을 위해 두 개의 헬퍼 함수를 정의\n",
        "\n",
        "## 생성자 함수를 정의합니다:\n",
        "def make_generator_network(\n",
        "        num_hidden_layers=1,\n",
        "        num_hidden_units=100,\n",
        "        num_output_units=784):\n",
        "    model = tf.keras.Sequential()\n",
        "    for i in range(num_hidden_layers):\n",
        "        model.add(\n",
        "            tf.keras.layers.Dense(\n",
        "                units=num_hidden_units, \n",
        "                use_bias=False)\n",
        "            )\n",
        "        model.add(tf.keras.layers.LeakyReLU())\n",
        "        \n",
        "    model.add(tf.keras.layers.Dense(\n",
        "        units=num_output_units, activation='tanh'))\n",
        "    return model\n",
        "\n",
        "## 판별자 함수를 정의합니다:\n",
        "def make_discriminator_network(\n",
        "        num_hidden_layers=1,\n",
        "        num_hidden_units=100,\n",
        "        num_output_units=1):\n",
        "    model = tf.keras.Sequential()\n",
        "    for i in range(num_hidden_layers):\n",
        "        model.add(tf.keras.layers.Dense(units=num_hidden_units))\n",
        "        model.add(tf.keras.layers.LeakyReLU())\n",
        "        model.add(tf.keras.layers.Dropout(rate=0.5))\n",
        "        \n",
        "    model.add(\n",
        "        tf.keras.layers.Dense(\n",
        "            units=num_output_units, \n",
        "            activation=None)\n",
        "        )\n",
        "    return model"
      ],
      "metadata": {
        "id": "dwO2KHgy-6tM"
      },
      "execution_count": 13,
      "outputs": []
    },
    {
      "cell_type": "markdown",
      "source": [
        "* 모델 훈련을 위한 설정\n",
        "    * MNIST 이미지는 28 * 28 픽셀 크기(MNIST는 흑백 이미지이기 때문에 채널은 1)\n",
        "    * 입력 벡터 z의 크기를 20으로 지정하고 모델 가중치를 균등 분포로 랜덤하게 초기화\n",
        "    * 아주 간단한 GAN 모델을 구현하기 때문에 완전 연결 층을 사용하고 각 신경층마다 100개의 유닛을 가진 하나의 은닉층만 사용\n"
      ],
      "metadata": {
        "id": "CqT3RUo6_7-t"
      }
    },
    {
      "cell_type": "code",
      "source": [
        "image_size = (28, 28)\n",
        "z_size = 20\n",
        "mode_z = 'uniform'  # 'uniform' vs. 'normal'\n",
        "gen_hidden_layers = 1\n",
        "gen_hidden_size = 100\n",
        "disc_hidden_layers = 1\n",
        "disc_hidden_size = 100\n",
        "\n",
        "tf.random.set_seed(1)\n",
        "\n",
        "gen_model = make_generator_network(\n",
        "    num_hidden_layers=gen_hidden_layers, \n",
        "    num_hidden_units=gen_hidden_size,\n",
        "    num_output_units=np.prod(image_size))\n",
        "\n",
        "gen_model.build(input_shape=(None, z_size))\n",
        "gen_model.summary()"
      ],
      "metadata": {
        "colab": {
          "base_uri": "https://localhost:8080/"
        },
        "id": "GhrgH9cDAVq7",
        "outputId": "9c6e6f6c-b906-4d10-a9a4-253c2b89163e"
      },
      "execution_count": 14,
      "outputs": [
        {
          "output_type": "stream",
          "name": "stdout",
          "text": [
            "Model: \"sequential\"\n",
            "_________________________________________________________________\n",
            " Layer (type)                Output Shape              Param #   \n",
            "=================================================================\n",
            " dense (Dense)               (None, 100)               2000      \n",
            "                                                                 \n",
            " leaky_re_lu (LeakyReLU)     (None, 100)               0         \n",
            "                                                                 \n",
            " dense_1 (Dense)             (None, 784)               79184     \n",
            "                                                                 \n",
            "=================================================================\n",
            "Total params: 81,184\n",
            "Trainable params: 81,184\n",
            "Non-trainable params: 0\n",
            "_________________________________________________________________\n"
          ]
        }
      ]
    },
    {
      "cell_type": "code",
      "source": [
        "disc_model = make_discriminator_network(\n",
        "    num_hidden_layers=disc_hidden_layers,\n",
        "    num_hidden_units=disc_hidden_size)\n",
        "\n",
        "disc_model.build(input_shape=(None, np.prod(image_size)))\n",
        "disc_model.summary()"
      ],
      "metadata": {
        "colab": {
          "base_uri": "https://localhost:8080/"
        },
        "id": "-xus0uZFCiEl",
        "outputId": "2e27ce1f-ceab-4b8c-8649-6e9d6f8d867f"
      },
      "execution_count": 15,
      "outputs": [
        {
          "output_type": "stream",
          "name": "stdout",
          "text": [
            "Model: \"sequential_1\"\n",
            "_________________________________________________________________\n",
            " Layer (type)                Output Shape              Param #   \n",
            "=================================================================\n",
            " dense_2 (Dense)             (None, 100)               78500     \n",
            "                                                                 \n",
            " leaky_re_lu_1 (LeakyReLU)   (None, 100)               0         \n",
            "                                                                 \n",
            " dropout (Dropout)           (None, 100)               0         \n",
            "                                                                 \n",
            " dense_3 (Dense)             (None, 1)                 101       \n",
            "                                                                 \n",
            "=================================================================\n",
            "Total params: 78,601\n",
            "Trainable params: 78,601\n",
            "Non-trainable params: 0\n",
            "_________________________________________________________________\n"
          ]
        }
      ]
    },
    {
      "cell_type": "markdown",
      "source": [
        "### 17.2.3 훈련 데이터셋 정의\n",
        "\n",
        "MNIST 데이터셋을 로드하고 필요한 전처리 단계를 적용.\n",
        "\n",
        "생성자 출력층이 tanh 활성화 함수를 사용하기 때문에 합성된 이미지가 갖는 픽셀 값의 범위는 (-1, 1)이다. 하지만 입력되는 MNIST 이미지 픽셀의 범위는 [0, 255]이다. 따라서 전처리 단계에서 tf.image.convert_image_dtype 함수를 사용해서 입력 이미지 텐서의 dtype을 tf.uint8에서 tf.float32로 바꾼다. 또한 픽셀 강도의 범위를 [0, 1]로 바꾼다. 여기에 2를 곱하고 1을 빼서 픽셀 강도를 [-1, 1] 범위로 조정한다. 또한, 랜덤한 분포(균등 또는 정규 분포)를 기반으로 랜덤 벡터 z를 만든다. 그 다음 전처리된 이미지와 랜덤 벡터를 튜플로 반환한다."
      ],
      "metadata": {
        "id": "Q4RmxViGDF9b"
      }
    },
    {
      "cell_type": "code",
      "source": [
        "mnist_bldr = tfds.builder('mnist')\n",
        "mnist_bldr.download_and_prepare()\n",
        "mnist = mnist_bldr.as_dataset(shuffle_files=False)\n",
        "\n",
        "def preprocess(ex, mode='uniform'):\n",
        "    image = ex['image']\n",
        "    image = tf.image.convert_image_dtype(image, tf.float32)\n",
        "    image = tf.reshape(image, [-1])\n",
        "    image = image*2 - 1.0\n",
        "    if mode == 'uniform':\n",
        "        input_z = tf.random.uniform(\n",
        "            shape=(z_size,), minval=-1.0, maxval=1.0)\n",
        "    elif mode == 'normal':\n",
        "        input_z = tf.random.normal(shape=(z_size,))\n",
        "    return input_z, image\n",
        "\n",
        "mnist_trainset = mnist['train']\n",
        "\n",
        "print('전처리 전:  ')\n",
        "example = next(iter(mnist_trainset))['image']\n",
        "print('dtype: ', example.dtype, ' 최소: {} 최대: {}'.format(np.min(example), np.max(example)))\n",
        "\n",
        "mnist_trainset = mnist_trainset.map(preprocess)\n",
        "\n",
        "print('전처리 후:  ')\n",
        "example = next(iter(mnist_trainset))[0]\n",
        "print('dtype: ', example.dtype, ' 최소: {} 최대: {}'.format(np.min(example), np.max(example)))"
      ],
      "metadata": {
        "colab": {
          "base_uri": "https://localhost:8080/"
        },
        "id": "9c80vQSLFQgt",
        "outputId": "497a6684-108b-4aab-c35c-023c59eec348"
      },
      "execution_count": 16,
      "outputs": [
        {
          "output_type": "stream",
          "name": "stdout",
          "text": [
            "전처리 전:  \n",
            "dtype:  <dtype: 'uint8'>  최소: 0 최대: 255\n",
            "전처리 후:  \n",
            "dtype:  <dtype: 'float32'>  최소: -0.8737728595733643 최대: 0.9460210800170898\n"
          ]
        }
      ]
    },
    {
      "cell_type": "markdown",
      "source": [
        "모델을 훈련할 때 입력 벡터 z와 훈련 데이터에서 추출한 이미지를 함께 반환했다. 하지만 이것이 벡터 z가 데이터셋에 있는 입력 이미지와 관련이 있다는 의미는 아니다. 훈련 반복마다 랜덤하게 생성된 벡터 z는 생성자가 새로운 이미지를 위해 받는 입력이다. 그리고 (진짜 이미지와 합성된 이미지를 포함한) 이미지는 판별자 입력이다."
      ],
      "metadata": {
        "id": "U2WhmnF6HijU"
      }
    },
    {
      "cell_type": "code",
      "source": [
        "mnist_trainset = mnist_trainset.batch(32, drop_remainder=True) # 한 개의 배치를 추출\n",
        "input_z, input_real = next(iter(mnist_trainset))\n",
        "# 입력 벡터와 이미지 배열의 크기 출력\n",
        "print('input-z -- 크기:', input_z.shape)\n",
        "print('input-real -- 크기:', input_real.shape)\n",
        "\n",
        "# 입력 벡터 z의 배치를 생성자에 주입하여 출력 g_output을 얻는다 - 가짜 샘플의 배치\n",
        "g_output = gen_model(input_z)\n",
        "print('생성자 출력 -- 크기:', g_output.shape)\n",
        "\n",
        "# 데이터셋 객체에서 가져온 전처리된 이미지를 판별자 \n",
        "d_logits_real = disc_model(input_real)\n",
        "# 가짜 샘플 배치를 판별자 모델에 주입하여 가짜 샘플의 배치 로짓을 얻는다\n",
        "d_logits_fake = disc_model(g_output)\n",
        "print('판별자 (진짜) -- 크기:', d_logits_real.shape)\n",
        "print('판별자 (가짜) -- 크기:', d_logits_fake.shape)"
      ],
      "metadata": {
        "colab": {
          "base_uri": "https://localhost:8080/"
        },
        "id": "HQCvm7X4H-Y-",
        "outputId": "578b9cc9-d0fc-47d9-c84a-95d3e7cee43f"
      },
      "execution_count": 17,
      "outputs": [
        {
          "output_type": "stream",
          "name": "stdout",
          "text": [
            "input-z -- 크기: (32, 20)\n",
            "input-real -- 크기: (32, 784)\n",
            "생성자 출력 -- 크기: (32, 784)\n",
            "판별자 (진짜) -- 크기: (32, 1)\n",
            "판별자 (가짜) -- 크기: (32, 1)\n"
          ]
        }
      ]
    },
    {
      "cell_type": "markdown",
      "source": [
        "### 17.2.4 GAN 모델 훈련"
      ],
      "metadata": {
        "id": "FGXnUalEKgdt"
      }
    },
    {
      "cell_type": "code",
      "source": [
        "# 손실 함수를 위해 BinaryCrossentropy 클래스 객체를 만들어 처리한 배치에 대해 생성자와 판별자의 손실을 계산\n",
        "loss_fn = tf.keras.losses.BinaryCrossentropy(from_logits=True)\n",
        "\n",
        "# 생성자와 팔변자 손실 계산을 위한 출력에 대한 정답 레이블\n",
        "# 생성자 손실\n",
        "g_labels_real = tf.ones_like(d_logits_fake) # 1로 채워진 생성된 이미지의 로짓 값을 담은 벡터 d_logits_fake와 같은 크기의 벡터\n",
        "g_loss = loss_fn(y_true=g_labels_real, y_pred=d_logits_fake)\n",
        "print('생성자 손실: {:.4f}'.format(g_loss))\n",
        "\n",
        "# 판별자 손실\n",
        "# 가짜 샘플을 위한 정답 레이블은 0으로 채워진 벡터\n",
        "d_labels_real = tf.ones_like(d_logits_real)\n",
        "d_labels_fake = tf.zeros_like(d_logits_fake)\n",
        "\n",
        "d_loss_real = loss_fn(y_true=d_labels_real, y_pred=d_logits_real)\n",
        "d_loss_fake = loss_fn(y_true=d_labels_fake, y_pred=d_logits_fake)\n",
        "print('판별자 손실: 진짜 {:.4f} 가짜 {:.4f}'\n",
        "      .format(d_loss_real.numpy(), d_loss_fake.numpy()))"
      ],
      "metadata": {
        "colab": {
          "base_uri": "https://localhost:8080/"
        },
        "id": "hx92FcxcpTL8",
        "outputId": "ad09a239-44d6-4e38-9c17-57fe487eb4de"
      },
      "execution_count": 18,
      "outputs": [
        {
          "output_type": "stream",
          "name": "stdout",
          "text": [
            "생성자 손실: 0.7355\n",
            "판별자 손실: 진짜 1.5073 가짜 0.6583\n"
          ]
        }
      ]
    },
    {
      "cell_type": "markdown",
      "source": [
        "#### 최종 훈련"
      ],
      "metadata": {
        "id": "ukwaKOMvrYgM"
      }
    },
    {
      "cell_type": "code",
      "source": [
        "import time\n",
        "\n",
        "num_epochs = 100\n",
        "batch_size = 64\n",
        "image_size = (28, 28)\n",
        "z_size = 20\n",
        "mode_z = 'uniform'\n",
        "gen_hidden_layers = 1\n",
        "gen_hidden_size = 100\n",
        "disc_hidden_layers = 1\n",
        "disc_hidden_size = 100\n",
        "\n",
        "tf.random.set_seed(1)\n",
        "np.random.seed(1)\n",
        "\n",
        "if mode_z == 'uniform':\n",
        "    fixed_z = tf.random.uniform(\n",
        "        shape=(batch_size, z_size),\n",
        "        minval=-1, maxval=1)\n",
        "elif mode_z == 'normal':\n",
        "    fixed_z = tf.random.normal(\n",
        "        shape=(batch_size, z_size))\n",
        "\n",
        "\n",
        "def create_samples(g_model, input_z):\n",
        "    g_output = g_model(input_z, training=False)\n",
        "    images = tf.reshape(g_output, (batch_size, *image_size))    \n",
        "    return (images+1)/2.0\n",
        "\n",
        "## 데이터셋 준비\n",
        "mnist_trainset = mnist['train']\n",
        "mnist_trainset = mnist_trainset.map(\n",
        "    lambda ex: preprocess(ex, mode=mode_z))\n",
        "\n",
        "mnist_trainset = mnist_trainset.shuffle(10000)\n",
        "mnist_trainset = mnist_trainset.batch(\n",
        "    batch_size, drop_remainder=True)\n",
        "\n",
        "## 모델 준비\n",
        "with tf.device(device_name):\n",
        "    gen_model = make_generator_network(\n",
        "        num_hidden_layers=gen_hidden_layers, \n",
        "        num_hidden_units=gen_hidden_size,\n",
        "        num_output_units=np.prod(image_size))\n",
        "    gen_model.build(input_shape=(None, z_size))\n",
        "\n",
        "    disc_model = make_discriminator_network(\n",
        "        num_hidden_layers=disc_hidden_layers,\n",
        "        num_hidden_units=disc_hidden_size)\n",
        "    disc_model.build(input_shape=(None, np.prod(image_size)))\n",
        "\n",
        "## 손실 함수와 옵티마이저\n",
        "loss_fn = tf.keras.losses.BinaryCrossentropy(from_logits=True)\n",
        "g_optimizer = tf.keras.optimizers.Adam()\n",
        "d_optimizer = tf.keras.optimizers.Adam()\n",
        "\n",
        "all_losses = []\n",
        "all_d_vals = []\n",
        "epoch_samples = []\n",
        "\n",
        "start_time = time.time()\n",
        "# GAN 모델을 만들고 훈련 반복을 위해 for 문 안에서 여러 손실 항을 단계별로 계산 수행\n",
        "for epoch in range(1, num_epochs+1):\n",
        "    epoch_losses, epoch_d_vals = [], []\n",
        "    for i, (input_z,input_real) in enumerate(mnist_trainset):\n",
        "\n",
        "        ## 생성자 손실을 계산한다\n",
        "        # tf.GradientTape()로 모델의 가중치에 대한 손실의 그레이디언트를 계산하고\n",
        "        # 두 개의 Adam 옵티마이저를 사용하여 생성자와 판별자의 파라미터를 최적화한다.\n",
        "        # 생성자와 판별자를 교대로 훈련하기 위해 각 신경망의 옵티마이저에 따로따로 \n",
        "        # 해당하는 신경망의 파라미터와 그레이디언트를 전달한다.\n",
        "        with tf.GradientTape() as g_tape:\n",
        "            g_output = gen_model(input_z)\n",
        "            d_logits_fake = disc_model(g_output, training=True)\n",
        "            labels_real = tf.ones_like(d_logits_fake)\n",
        "            g_loss = loss_fn(y_true=labels_real, y_pred=d_logits_fake)\n",
        "        \n",
        "        # g_loss의 그레이디언트 계산\n",
        "        g_grads = g_tape.gradient(g_loss, gen_model.trainable_variables)\n",
        "\n",
        "        # 최적화: 그레이디언트 적용\n",
        "        g_optimizer.apply_gradients(\n",
        "            grads_and_vars=zip(g_grads, gen_model.trainable_variables))\n",
        "        \n",
        "        # 판별자 손실을 계산\n",
        "        with tf.GradientTape() as d_tape:\n",
        "            d_logits_real = disc_model(input_real, training=True)\n",
        "            d_labels_real = tf.ones_like(d_logits_real)\n",
        "            d_loss_real = loss_fn(y_true=d_labels_real, y_pred=d_logits_real)\n",
        "\n",
        "            d_logits_fake = disc_model(g_output, training=True)\n",
        "            d_labels_fake = tf.zeros_like(d_logits_fake)\n",
        "            d_loss_fake = loss_fn(y_true=d_labels_fake, y_pred=d_logits_fake)\n",
        "\n",
        "            d_loss = d_loss_real + d_loss_fake\n",
        "        \n",
        "        # d_loss의 그레이디언트 계산\n",
        "        d_grads = d_tape.gradient(d_loss, disc_model.trainable_variables)\n",
        "\n",
        "        # 최적화: 그레이디언트 적용\n",
        "        d_optimizer.apply_gradients(\n",
        "            grads_and_vars=zip(d_grads, disc_model.trainable_variables))\n",
        "        \n",
        "        epoch_losses.append(\n",
        "            (g_loss.numpy(), d_loss.numpy(), \n",
        "             d_loss_real.numpy(), d_loss_fake.numpy()))\n",
        "        \n",
        "        d_probs_real = tf.reduce_mean(tf.sigmoid(d_logits_real))\n",
        "        d_probs_fake = tf.reduce_mean(tf.sigmoid(d_logits_fake))\n",
        "        epoch_d_vals.append((d_probs_real.numpy(), d_probs_fake.numpy()))  \n",
        "    all_losses.append(epoch_losses)\n",
        "    all_d_vals.append(epoch_d_vals)\n",
        "    print(\n",
        "        '에포크 {:03d} | 시간 {:.2f} min | 평균 손실 >>'\n",
        "        ' 생성자/판별자 {:.4f}/{:.4f} [판별자-진짜: {:.4f} 판별자-가짜: {:.4f}]'\n",
        "        .format(\n",
        "            epoch, (time.time() - start_time)/60, \n",
        "            *list(np.mean(all_losses[-1], axis=0))))\n",
        "    epoch_samples.append(\n",
        "        create_samples(gen_model, fixed_z).numpy())"
      ],
      "metadata": {
        "colab": {
          "base_uri": "https://localhost:8080/"
        },
        "id": "VZvTo375rasD",
        "outputId": "43fe4a43-96ff-4b8c-fb90-772e7c9216c0"
      },
      "execution_count": 19,
      "outputs": [
        {
          "output_type": "stream",
          "name": "stdout",
          "text": [
            "에포크 001 | 시간 0.97 min | 평균 손실 >> 생성자/판별자 2.8685/0.2893 [판별자-진짜: 0.0333 판별자-가짜: 0.2560]\n",
            "에포크 002 | 시간 1.65 min | 평균 손실 >> 생성자/판별자 4.9915/0.3699 [판별자-진짜: 0.1245 판별자-가짜: 0.2453]\n",
            "에포크 003 | 시간 3.02 min | 평균 손실 >> 생성자/판별자 3.3765/0.6493 [판별자-진짜: 0.2919 판별자-가짜: 0.3574]\n",
            "에포크 004 | 시간 3.69 min | 평균 손실 >> 생성자/판별자 2.0895/0.8305 [판별자-진짜: 0.4371 판별자-가짜: 0.3933]\n",
            "에포크 005 | 시간 4.36 min | 평균 손실 >> 생성자/판별자 2.2095/0.8203 [판별자-진짜: 0.4336 판별자-가짜: 0.3867]\n",
            "에포크 006 | 시간 5.03 min | 평균 손실 >> 생성자/판별자 1.6843/0.9261 [판별자-진짜: 0.5068 판별자-가짜: 0.4193]\n",
            "에포크 007 | 시간 5.71 min | 평균 손실 >> 생성자/판별자 1.6418/0.9769 [판별자-진짜: 0.5236 판별자-가짜: 0.4534]\n",
            "에포크 008 | 시간 6.38 min | 평균 손실 >> 생성자/판별자 1.5165/0.9829 [판별자-진짜: 0.5368 판별자-가짜: 0.4461]\n",
            "에포크 009 | 시간 7.06 min | 평균 손실 >> 생성자/판별자 1.5745/0.9902 [판별자-진짜: 0.5383 판별자-가짜: 0.4519]\n",
            "에포크 010 | 시간 7.73 min | 평균 손실 >> 생성자/판별자 1.4141/1.0260 [판별자-진짜: 0.5549 판별자-가짜: 0.4711]\n",
            "에포크 011 | 시간 8.40 min | 평균 손실 >> 생성자/판별자 1.3049/1.0918 [판별자-진짜: 0.5799 판별자-가짜: 0.5118]\n",
            "에포크 012 | 시간 9.07 min | 평균 손실 >> 생성자/판별자 1.3195/1.1284 [판별자-진짜: 0.5844 판별자-가짜: 0.5440]\n",
            "에포크 013 | 시간 9.74 min | 평균 손실 >> 생성자/판별자 1.2173/1.1594 [판별자-진짜: 0.6046 판별자-가짜: 0.5548]\n",
            "에포크 014 | 시간 10.41 min | 평균 손실 >> 생성자/판별자 1.2313/1.1228 [판별자-진짜: 0.5934 판별자-가짜: 0.5294]\n",
            "에포크 015 | 시간 11.07 min | 평균 손실 >> 생성자/판별자 1.2094/1.1618 [판별자-진짜: 0.5999 판별자-가짜: 0.5620]\n",
            "에포크 016 | 시간 11.72 min | 평균 손실 >> 생성자/판별자 1.1537/1.1624 [판별자-진짜: 0.6070 판별자-가짜: 0.5554]\n",
            "에포크 017 | 시간 12.40 min | 평균 손실 >> 생성자/판별자 1.1569/1.1923 [판별자-진짜: 0.6091 판별자-가짜: 0.5832]\n",
            "에포크 018 | 시간 13.07 min | 평균 손실 >> 생성자/판별자 1.1765/1.1905 [판별자-진짜: 0.6088 판별자-가짜: 0.5817]\n",
            "에포크 019 | 시간 13.74 min | 평균 손실 >> 생성자/판별자 1.1028/1.2209 [판별자-진짜: 0.6219 판별자-가짜: 0.5990]\n",
            "에포크 020 | 시간 14.41 min | 평균 손실 >> 생성자/판별자 1.0490/1.2303 [판별자-진짜: 0.6314 판별자-가짜: 0.5989]\n",
            "에포크 021 | 시간 15.08 min | 평균 손실 >> 생성자/판별자 1.1185/1.2257 [판별자-진짜: 0.6227 판별자-가짜: 0.6030]\n",
            "에포크 022 | 시간 15.75 min | 평균 손실 >> 생성자/판별자 1.1548/1.1844 [판별자-진짜: 0.6047 판별자-가짜: 0.5797]\n",
            "에포크 023 | 시간 16.41 min | 평균 손실 >> 생성자/판별자 1.0892/1.1819 [판별자-진짜: 0.6090 판별자-가짜: 0.5729]\n",
            "에포크 024 | 시간 17.07 min | 평균 손실 >> 생성자/판별자 1.0497/1.2243 [판별자-진짜: 0.6225 판별자-가짜: 0.6018]\n",
            "에포크 025 | 시간 17.74 min | 평균 손실 >> 생성자/판별자 1.0428/1.2724 [판별자-진짜: 0.6385 판별자-가짜: 0.6339]\n",
            "에포크 026 | 시간 18.40 min | 평균 손실 >> 생성자/판별자 1.0975/1.2354 [판별자-진짜: 0.6224 판별자-가짜: 0.6130]\n",
            "에포크 027 | 시간 19.07 min | 평균 손실 >> 생성자/판별자 0.9728/1.2612 [판별자-진짜: 0.6405 판별자-가짜: 0.6207]\n",
            "에포크 028 | 시간 19.73 min | 평균 손실 >> 생성자/판별자 1.0604/1.2505 [판별자-진짜: 0.6325 판별자-가짜: 0.6179]\n",
            "에포크 029 | 시간 20.39 min | 평균 손실 >> 생성자/판별자 1.0797/1.2489 [판별자-진짜: 0.6299 판별자-가짜: 0.6190]\n",
            "에포크 030 | 시간 21.05 min | 평균 손실 >> 생성자/판별자 0.9609/1.2656 [판별자-진짜: 0.6429 판별자-가짜: 0.6227]\n",
            "에포크 031 | 시간 21.70 min | 평균 손실 >> 생성자/판별자 0.9732/1.2812 [판별자-진짜: 0.6465 판별자-가짜: 0.6347]\n",
            "에포크 032 | 시간 22.36 min | 평균 손실 >> 생성자/판별자 1.0865/1.2505 [판별자-진짜: 0.6256 판별자-가짜: 0.6249]\n",
            "에포크 033 | 시간 23.00 min | 평균 손실 >> 생성자/판별자 0.9917/1.2788 [판별자-진짜: 0.6424 판별자-가짜: 0.6364]\n",
            "에포크 034 | 시간 23.65 min | 평균 손실 >> 생성자/판별자 0.9175/1.2912 [판별자-진짜: 0.6526 판별자-가짜: 0.6386]\n",
            "에포크 035 | 시간 24.29 min | 평균 손실 >> 생성자/판별자 1.0284/1.2760 [판별자-진짜: 0.6405 판별자-가짜: 0.6356]\n",
            "에포크 036 | 시간 24.94 min | 평균 손실 >> 생성자/판별자 1.0319/1.2721 [판별자-진짜: 0.6394 판별자-가짜: 0.6327]\n",
            "에포크 037 | 시간 25.58 min | 평균 손실 >> 생성자/판별자 0.9535/1.2817 [판별자-진짜: 0.6442 판별자-가짜: 0.6375]\n",
            "에포크 038 | 시간 26.22 min | 평균 손실 >> 생성자/판별자 0.9515/1.2887 [판별자-진짜: 0.6500 판별자-가짜: 0.6388]\n",
            "에포크 039 | 시간 26.87 min | 평균 손실 >> 생성자/판별자 1.0045/1.2711 [판별자-진짜: 0.6406 판별자-가짜: 0.6305]\n",
            "에포크 040 | 시간 27.53 min | 평균 손실 >> 생성자/판별자 0.9532/1.2889 [판별자-진짜: 0.6482 판별자-가짜: 0.6407]\n",
            "에포크 041 | 시간 28.17 min | 평균 손실 >> 생성자/판별자 0.9880/1.2880 [판별자-진짜: 0.6494 판별자-가짜: 0.6387]\n",
            "에포크 042 | 시간 28.80 min | 평균 손실 >> 생성자/판별자 0.9831/1.2909 [판별자-진짜: 0.6472 판별자-가짜: 0.6437]\n",
            "에포크 043 | 시간 29.44 min | 평균 손실 >> 생성자/판별자 0.9450/1.2993 [판별자-진짜: 0.6509 판별자-가짜: 0.6485]\n",
            "에포크 044 | 시간 30.08 min | 평균 손실 >> 생성자/판별자 0.9085/1.3069 [판별자-진짜: 0.6556 판별자-가짜: 0.6513]\n",
            "에포크 045 | 시간 30.72 min | 평균 손실 >> 생성자/판별자 0.9564/1.3045 [판별자-진짜: 0.6539 판별자-가짜: 0.6506]\n",
            "에포크 046 | 시간 31.36 min | 평균 손실 >> 생성자/판별자 0.9931/1.2859 [판별자-진짜: 0.6435 판별자-가짜: 0.6423]\n",
            "에포크 047 | 시간 31.99 min | 평균 손실 >> 생성자/판별자 0.9758/1.2900 [판별자-진짜: 0.6486 판별자-가짜: 0.6414]\n",
            "에포크 048 | 시간 32.64 min | 평균 손실 >> 생성자/판별자 0.9370/1.2952 [판별자-진짜: 0.6536 판별자-가짜: 0.6417]\n",
            "에포크 049 | 시간 33.29 min | 평균 손실 >> 생성자/판별자 0.9487/1.2901 [판별자-진짜: 0.6501 판별자-가짜: 0.6400]\n",
            "에포크 050 | 시간 33.94 min | 평균 손실 >> 생성자/판별자 0.9747/1.2909 [판별자-진짜: 0.6478 판별자-가짜: 0.6431]\n",
            "에포크 051 | 시간 34.59 min | 평균 손실 >> 생성자/판별자 0.9449/1.2936 [판별자-진짜: 0.6487 판별자-가짜: 0.6450]\n",
            "에포크 052 | 시간 35.23 min | 평균 손실 >> 생성자/판별자 0.9306/1.2934 [판별자-진짜: 0.6509 판별자-가짜: 0.6425]\n",
            "에포크 053 | 시간 35.86 min | 평균 손실 >> 생성자/판별자 0.9643/1.2994 [판별자-진짜: 0.6498 판별자-가짜: 0.6496]\n",
            "에포크 054 | 시간 36.51 min | 평균 손실 >> 생성자/판별자 0.9316/1.3029 [판별자-진짜: 0.6527 판별자-가짜: 0.6503]\n",
            "에포크 055 | 시간 37.14 min | 평균 손실 >> 생성자/판별자 0.9185/1.3134 [판별자-진짜: 0.6605 판별자-가짜: 0.6529]\n",
            "에포크 056 | 시간 37.79 min | 평균 손실 >> 생성자/판별자 0.9926/1.2938 [판별자-진짜: 0.6477 판별자-가짜: 0.6461]\n",
            "에포크 057 | 시간 38.43 min | 평균 손실 >> 생성자/판별자 0.9089/1.3054 [판별자-진짜: 0.6561 판별자-가짜: 0.6493]\n",
            "에포크 058 | 시간 39.06 min | 평균 손실 >> 생성자/판별자 0.9099/1.3115 [판별자-진짜: 0.6613 판별자-가짜: 0.6502]\n",
            "에포크 059 | 시간 39.70 min | 평균 손실 >> 생성자/판별자 0.9454/1.3016 [판별자-진짜: 0.6519 판별자-가짜: 0.6497]\n",
            "에포크 060 | 시간 40.35 min | 평균 손실 >> 생성자/판별자 0.9462/1.3018 [판별자-진짜: 0.6533 판별자-가짜: 0.6485]\n",
            "에포크 061 | 시간 41.01 min | 평균 손실 >> 생성자/판별자 0.9429/1.3037 [판별자-진짜: 0.6555 판별자-가짜: 0.6482]\n",
            "에포크 062 | 시간 41.67 min | 평균 손실 >> 생성자/판별자 0.9257/1.3103 [판별자-진짜: 0.6558 판별자-가짜: 0.6544]\n",
            "에포크 063 | 시간 42.31 min | 평균 손실 >> 생성자/판별자 0.9788/1.2987 [판별자-진짜: 0.6529 판별자-가짜: 0.6458]\n",
            "에포크 064 | 시간 42.96 min | 평균 손실 >> 생성자/판별자 0.9260/1.2970 [판별자-진짜: 0.6509 판별자-가짜: 0.6461]\n",
            "에포크 065 | 시간 43.60 min | 평균 손실 >> 생성자/판별자 0.9142/1.3033 [판별자-진짜: 0.6560 판별자-가짜: 0.6473]\n",
            "에포크 066 | 시간 44.24 min | 평균 손실 >> 생성자/판별자 0.9010/1.3151 [판별자-진짜: 0.6589 판별자-가짜: 0.6561]\n",
            "에포크 067 | 시간 44.88 min | 평균 손실 >> 생성자/판별자 0.9385/1.3134 [판별자-진짜: 0.6592 판별자-가짜: 0.6543]\n",
            "에포크 068 | 시간 45.52 min | 평균 손실 >> 생성자/판별자 0.9382/1.3085 [판별자-진짜: 0.6571 판별자-가짜: 0.6514]\n",
            "에포크 069 | 시간 46.18 min | 평균 손실 >> 생성자/판별자 0.9079/1.3095 [판별자-진짜: 0.6567 판별자-가짜: 0.6528]\n",
            "에포크 070 | 시간 46.83 min | 평균 손실 >> 생성자/판별자 0.9224/1.3155 [판별자-진짜: 0.6578 판별자-가짜: 0.6577]\n",
            "에포크 071 | 시간 47.49 min | 평균 손실 >> 생성자/판별자 0.9591/1.3071 [판별자-진짜: 0.6549 판별자-가짜: 0.6522]\n",
            "에포크 072 | 시간 48.16 min | 평균 손실 >> 생성자/판별자 0.8971/1.3155 [판별자-진짜: 0.6610 판별자-가짜: 0.6545]\n",
            "에포크 073 | 시간 48.81 min | 평균 손실 >> 생성자/판별자 0.9087/1.3146 [판별자-진짜: 0.6606 판별자-가짜: 0.6540]\n",
            "에포크 074 | 시간 49.47 min | 평균 손실 >> 생성자/판별자 0.9303/1.3117 [판별자-진짜: 0.6578 판별자-가짜: 0.6539]\n",
            "에포크 075 | 시간 50.12 min | 평균 손실 >> 생성자/판별자 0.9133/1.3107 [판별자-진짜: 0.6575 판별자-가짜: 0.6532]\n",
            "에포크 076 | 시간 50.77 min | 평균 손실 >> 생성자/판별자 0.9390/1.3096 [판별자-진짜: 0.6565 판별자-가짜: 0.6531]\n",
            "에포크 077 | 시간 51.42 min | 평균 손실 >> 생성자/판별자 0.9329/1.3030 [판별자-진짜: 0.6547 판별자-가짜: 0.6483]\n",
            "에포크 078 | 시간 52.08 min | 평균 손실 >> 생성자/판별자 0.9106/1.3108 [판별자-진짜: 0.6600 판별자-가짜: 0.6509]\n",
            "에포크 079 | 시간 52.73 min | 평균 손실 >> 생성자/판별자 0.9205/1.3021 [판별자-진짜: 0.6549 판별자-가짜: 0.6472]\n",
            "에포크 080 | 시간 53.40 min | 평균 손실 >> 생성자/판별자 0.9322/1.3081 [판별자-진짜: 0.6557 판별자-가짜: 0.6524]\n",
            "에포크 081 | 시간 54.05 min | 평균 손실 >> 생성자/판별자 0.9131/1.3123 [판별자-진짜: 0.6602 판별자-가짜: 0.6520]\n",
            "에포크 082 | 시간 54.70 min | 평균 손실 >> 생성자/판별자 0.9475/1.2975 [판별자-진짜: 0.6527 판별자-가짜: 0.6448]\n",
            "에포크 083 | 시간 55.34 min | 평균 손실 >> 생성자/판별자 0.9435/1.2944 [판별자-진짜: 0.6505 판별자-가짜: 0.6440]\n",
            "에포크 084 | 시간 55.99 min | 평균 손실 >> 생성자/판별자 0.8925/1.3157 [판별자-진짜: 0.6609 판별자-가짜: 0.6548]\n",
            "에포크 085 | 시간 56.64 min | 평균 손실 >> 생성자/판별자 0.9322/1.3176 [판별자-진짜: 0.6580 판별자-가짜: 0.6596]\n",
            "에포크 086 | 시간 57.30 min | 평균 손실 >> 생성자/판별자 0.9222/1.3105 [판별자-진짜: 0.6580 판별자-가짜: 0.6525]\n",
            "에포크 087 | 시간 57.94 min | 평균 손실 >> 생성자/판별자 0.9091/1.3117 [판별자-진짜: 0.6583 판별자-가짜: 0.6534]\n",
            "에포크 088 | 시간 58.60 min | 평균 손실 >> 생성자/판별자 0.9057/1.3181 [판별자-진짜: 0.6601 판별자-가짜: 0.6580]\n",
            "에포크 089 | 시간 59.25 min | 평균 손실 >> 생성자/판별자 0.9209/1.3111 [판별자-진짜: 0.6571 판별자-가짜: 0.6540]\n",
            "에포크 090 | 시간 59.91 min | 평균 손실 >> 생성자/판별자 0.9234/1.2968 [판별자-진짜: 0.6519 판별자-가짜: 0.6448]\n",
            "에포크 091 | 시간 60.56 min | 평균 손실 >> 생성자/판별자 0.8965/1.3206 [판별자-진짜: 0.6631 판별자-가짜: 0.6575]\n",
            "에포크 092 | 시간 61.21 min | 평균 손실 >> 생성자/판별자 0.9096/1.3121 [판별자-진짜: 0.6577 판별자-가짜: 0.6544]\n",
            "에포크 093 | 시간 61.86 min | 평균 손실 >> 생성자/판별자 0.9247/1.3162 [판별자-진짜: 0.6600 판별자-가짜: 0.6562]\n",
            "에포크 094 | 시간 62.51 min | 평균 손실 >> 생성자/판별자 0.9648/1.2975 [판별자-진짜: 0.6515 판별자-가짜: 0.6460]\n",
            "에포크 095 | 시간 63.15 min | 평균 손실 >> 생성자/판별자 0.8826/1.3179 [판별자-진짜: 0.6638 판별자-가짜: 0.6541]\n",
            "에포크 096 | 시간 63.80 min | 평균 손실 >> 생성자/판별자 0.9064/1.3167 [판별자-진짜: 0.6609 판별자-가짜: 0.6558]\n",
            "에포크 097 | 시간 64.45 min | 평균 손실 >> 생성자/판별자 0.9465/1.3070 [판별자-진짜: 0.6543 판별자-가짜: 0.6526]\n",
            "에포크 098 | 시간 65.08 min | 평균 손실 >> 생성자/판별자 0.9189/1.3040 [판별자-진짜: 0.6560 판별자-가짜: 0.6480]\n",
            "에포크 099 | 시간 65.72 min | 평균 손실 >> 생성자/판별자 0.8720/1.3275 [판별자-진짜: 0.6687 판별자-가짜: 0.6588]\n",
            "에포크 100 | 시간 66.37 min | 평균 손실 >> 생성자/판별자 0.9218/1.3108 [판별자-진짜: 0.6570 판별자-가짜: 0.6539]\n"
          ]
        }
      ]
    },
    {
      "cell_type": "code",
      "source": [
        "# 판별자와 생성자 손실을 그래프 시각화 - 두 신경망의 훈련 과정을 분석하고 수렴하는지 평가\n",
        "# 반복마다 판별자에서 계산한 진짜 샘플과 가짜 샘플의 평균 확률 출력\n",
        "# 이 확률이 0.5 근처라면 판별자가 진짜와 가짜 이미지를 잘 구분할 수 없다는 뜻.\n",
        "import itertools\n",
        "\n",
        "fig = plt.figure(figsize=(16, 6))\n",
        "\n",
        "# 손실 그래프\n",
        "ax = fig.add_subplot(1, 2, 1)\n",
        "g_losses = [item[0] for item in itertools.chain(*all_losses)]\n",
        "d_losses = [item[1]/2.0 for item in itertools.chain(*all_losses)]\n",
        "plt.plot(g_losses, label='Generator loss', alpha=0.95)\n",
        "plt.plot(d_losses, label='Discriminator loss', alpha=0.95)\n",
        "plt.legend(fontsize=20)\n",
        "ax.set_xlabel('Iteration', size=15)\n",
        "ax.set_ylabel('Loss', size=15)\n",
        "\n",
        "epochs = np.arange(1, 101)\n",
        "epoch2iter = lambda e: e*len(all_losses[-1])\n",
        "epoch_ticks = [1, 20, 40, 60, 80, 100]\n",
        "newpos = [epoch2iter(e) for e in epoch_ticks]\n",
        "ax2 = ax.twiny()\n",
        "ax2.set_xticks(newpos)\n",
        "ax2.set_xticklabels(epoch_ticks)\n",
        "ax2.xaxis.set_ticks_position('bottom')\n",
        "ax2.xaxis.set_label_position('bottom')\n",
        "ax2.spines['bottom'].set_position(('outward', 60))\n",
        "ax2.set_xlabel('Epoch', size=15)\n",
        "ax2.set_xlim(ax.get_xlim())\n",
        "ax.tick_params(axis='both', which='major', labelsize=15)\n",
        "ax2.tick_params(axis='both', which='major', labelsize=15)\n",
        "\n",
        "# 판별자 출력\n",
        "ax = fig.add_subplot(1, 2, 2)\n",
        "d_vals_real = [item[0] for item in itertools.chain(*all_d_vals)]\n",
        "d_vals_fake = [item[1] for item in itertools.chain(*all_d_vals)]\n",
        "plt.plot(d_vals_real, alpha=0.75, label=r'Real: $D(\\mathbf{x})$')\n",
        "plt.plot(d_vals_fake, alpha=0.75, label=r'Fake: $D(G(\\mathbf{z}))$')\n",
        "plt.legend(fontsize=20)\n",
        "ax.set_xlabel('Iteration', size=15)\n",
        "ax.set_ylabel('Discriminator output', size=15)\n",
        "\n",
        "ax2 = ax.twiny()\n",
        "ax2.set_xticks(newpos)\n",
        "ax2.set_xticklabels(epoch_ticks)\n",
        "ax2.xaxis.set_ticks_position('bottom')\n",
        "ax2.xaxis.set_label_position('bottom')\n",
        "ax2.spines['bottom'].set_position(('outward', 60))\n",
        "ax2.set_xlabel('Epoch', size=15)\n",
        "ax2.set_xlim(ax.get_xlim())\n",
        "ax.tick_params(axis='both', which='major', labelsize=15)\n",
        "ax2.tick_params(axis='both', which='major', labelsize=15)\n",
        "\n",
        "plt.show()"
      ],
      "metadata": {
        "colab": {
          "base_uri": "https://localhost:8080/",
          "height": 458
        },
        "id": "iVza3tjsw7zE",
        "outputId": "d0396954-d980-4634-f604-8a945a934452"
      },
      "execution_count": 20,
      "outputs": [
        {
          "output_type": "display_data",
          "data": {
            "image/png": "[encoded data removed]",
            "text/plain": [
              "<Figure size 1152x432 with 4 Axes>"
            ]
          },
          "metadata": {
            "needs_background": "light"
          }
        }
      ]
    },
    {
      "cell_type": "code",
      "source": [
        "selected_epochs = [1, 2, 4, 10, 50, 100]\n",
        "fig = plt.figure(figsize=(10, 14))\n",
        "for i,e in enumerate(selected_epochs):\n",
        "    for j in range(5):\n",
        "        ax = fig.add_subplot(6, 5, i*5+j+1)\n",
        "        ax.set_xticks([])\n",
        "        ax.set_yticks([])\n",
        "        if j == 0:\n",
        "            ax.text(\n",
        "                -0.06, 0.5, 'Epoch {}'.format(e),\n",
        "                rotation=90, size=18, color='red',\n",
        "                horizontalalignment='right',\n",
        "                verticalalignment='center', \n",
        "                transform=ax.transAxes)\n",
        "        \n",
        "        image = epoch_samples[e-1][j]\n",
        "        ax.imshow(image, cmap='gray_r')\n",
        "\n",
        "plt.show()"
      ],
      "metadata": {
        "colab": {
          "base_uri": "https://localhost:8080/",
          "height": 783
        },
        "id": "USYi19eezHc_",
        "outputId": "333636c0-895d-4327-fe6d-379af28856ac"
      },
      "execution_count": 21,
      "outputs": [
        {
          "output_type": "display_data",
          "data": {
            "image/png": "[encoded data removed]",
            "text/plain": [
              "<Figure size 720x1008 with 30 Axes>"
            ]
          },
          "metadata": {}
        }
      ]
    }
  ]
}
{
 "cells": [
  {
   "cell_type": "code",
   "execution_count": 1,
   "id": "31225cee",
   "metadata": {
    "execution": {
     "iopub.execute_input": "2022-02-25T05:29:31.341049Z",
     "iopub.status.busy": "2022-02-25T05:29:31.339580Z",
     "iopub.status.idle": "2022-02-25T05:29:31.352219Z",
     "shell.execute_reply": "2022-02-25T05:29:31.353293Z",
     "shell.execute_reply.started": "2022-02-25T02:39:53.850017Z"
    },
    "id": "vaMWbZK2b-fN",
    "papermill": {
     "duration": 0.044095,
     "end_time": "2022-02-25T05:29:31.353632",
     "exception": false,
     "start_time": "2022-02-25T05:29:31.309537",
     "status": "completed"
    },
    "tags": []
   },
   "outputs": [],
   "source": [
    "from IPython.display import Image"
   ]
  },
  {
   "cell_type": "markdown",
   "id": "c08449a6",
   "metadata": {
    "id": "J_NaWn2CXD1N",
    "papermill": {
     "duration": 0.038826,
     "end_time": "2022-02-25T05:29:31.444601",
     "exception": false,
     "start_time": "2022-02-25T05:29:31.405775",
     "status": "completed"
    },
    "tags": []
   },
   "source": [
    "# 17.3 합성곱 GAN과 바서슈타인 GAN으로 합성 이미지 품질 높이기\n",
    "* 전치 합성곱\n",
    "* 배치 정규화\n",
    "* WGAN\n",
    "* 그레이디언트 페널티\n",
    "\n",
    "DCGAN은 생성자와 판별자 신경망에 합성곱을 사용한다. 먼저 DCGAN은 랜덤 벡터 z를 완전 연결 층으로 적당한 크기의 새로운 벡터로 투영한다. 그다음 합성곱에 사용되는 형태로 크기를 바꾼다(h * w * c). 이 크기의 출력 이미지 크기보다 작다. 그 다음 몇개의 전치 합성곱(transposed convolution) 층을 사용하여 이 특성 맵을 원하는 출력 크기까지 업샘플링 한다."
   ]
  },
  {
   "cell_type": "markdown",
   "id": "4e711343",
   "metadata": {
    "id": "bof1J-IkYqXU",
    "papermill": {
     "duration": 0.024602,
     "end_time": "2022-02-25T05:29:31.493896",
     "exception": false,
     "start_time": "2022-02-25T05:29:31.469294",
     "status": "completed"
    },
    "tags": []
   },
   "source": [
    "### 17.3.1 전치 합성곱\n",
    "* 합성곱 연산: 특성 맵을 다운샘플링\n",
    "* 전치 합성곱 연산: 특성 맵을 업샘플링"
   ]
  },
  {
   "cell_type": "code",
   "execution_count": 2,
   "id": "91f05e36",
   "metadata": {
    "execution": {
     "iopub.execute_input": "2022-02-25T05:29:31.550223Z",
     "iopub.status.busy": "2022-02-25T05:29:31.549554Z",
     "iopub.status.idle": "2022-02-25T05:29:31.552915Z",
     "shell.execute_reply": "2022-02-25T05:29:31.553319Z",
     "shell.execute_reply.started": "2022-02-25T02:39:53.879533Z"
    },
    "id": "kdxIMjKNXA15",
    "outputId": "e61a6d40-3e37-4e05-a4d9-5a5e583da136",
    "papermill": {
     "duration": 0.03502,
     "end_time": "2022-02-25T05:29:31.553457",
     "exception": false,
     "start_time": "2022-02-25T05:29:31.518437",
     "status": "completed"
    },
    "tags": []
   },
   "outputs": [
    {
     "data": {
      "text/html": [
       "<img src=\"https://git.io/JLjn7\" width=\"700\"/>"
      ],
      "text/plain": [
       "<IPython.core.display.Image object>"
      ]
     },
     "execution_count": 2,
     "metadata": {},
     "output_type": "execute_result"
    }
   ],
   "source": [
    "# 합성곱과 전치 합성곱\n",
    "Image(url='https://git.io/JLjn7', width=700)"
   ]
  },
  {
   "cell_type": "markdown",
   "id": "c09970e0",
   "metadata": {
    "id": "gG0yQM0Lcn5l",
    "papermill": {
     "duration": 0.027396,
     "end_time": "2022-02-25T05:29:31.606861",
     "exception": false,
     "start_time": "2022-02-25T05:29:31.579465",
     "status": "completed"
    },
    "tags": []
   },
   "source": [
    "* 전치 합성곱과 역합성곱\n",
    "\n",
    "전치 합성곱은 분할 스트라이드 합성곱(fractionally strided convolution)이라고도 부른다. 딥러닝 논문에서 전치 합성곱을 의미할 때는 사용하는 또 다른 용어는 역합성곱(deconvolution)이다. 하지만 역합성곱은 합성곱 연산의 역으로 정의되어 있다. 특성 맵 x, 가중치 파라미터 w에서 특성 맵 $x'$를 만드는 합성곱 연산 f를 $f_w(x)=x'$와 같이 쓸 수 있다. 역합성곱 $f^{-1}$은 $f^{-1}_w(f(x))=x$와 같이 쓸 수 있다. 하지만 전치 합성곱은 단지 특성 공간의 차원을 복원하는 데만 초점을 맞추며 실제 값은 복원하지 않는다."
   ]
  },
  {
   "cell_type": "markdown",
   "id": "5ec61408",
   "metadata": {
    "id": "Z_JxYSEidckl",
    "papermill": {
     "duration": 0.025045,
     "end_time": "2022-02-25T05:29:31.657053",
     "exception": false,
     "start_time": "2022-02-25T05:29:31.632008",
     "status": "completed"
    },
    "tags": []
   },
   "source": [
    "전치 합성곱은 입력 특성 맵의 원소 사이에 0을 끼워넣어 합성곱을 수행하는 식으로 특성 맵을 업샘플링한다."
   ]
  },
  {
   "cell_type": "code",
   "execution_count": 3,
   "id": "ed941169",
   "metadata": {
    "execution": {
     "iopub.execute_input": "2022-02-25T05:29:31.713237Z",
     "iopub.status.busy": "2022-02-25T05:29:31.712552Z",
     "iopub.status.idle": "2022-02-25T05:29:31.715300Z",
     "shell.execute_reply": "2022-02-25T05:29:31.715700Z",
     "shell.execute_reply.started": "2022-02-25T02:39:53.890483Z"
    },
    "id": "f619yYj2dnFd",
    "outputId": "4c87f26b-0020-48c0-971d-ee78758f84da",
    "papermill": {
     "duration": 0.033011,
     "end_time": "2022-02-25T05:29:31.715861",
     "exception": false,
     "start_time": "2022-02-25T05:29:31.682850",
     "status": "completed"
    },
    "tags": []
   },
   "outputs": [
    {
     "data": {
      "text/html": [
       "<img src=\"https://git.io/JLjnb\" width=\"700\"/>"
      ],
      "text/plain": [
       "<IPython.core.display.Image object>"
      ]
     },
     "execution_count": 3,
     "metadata": {},
     "output_type": "execute_result"
    }
   ],
   "source": [
    "# 2 * 2 스트라이드와 2 * 2 커널을 사용한 전치 합성곱\n",
    "Image(url='https://git.io/JLjnb', width=700)"
   ]
  },
  {
   "cell_type": "markdown",
   "id": "e2838165",
   "metadata": {
    "id": "Xkg6G6SEdsTk",
    "papermill": {
     "duration": 0.02583,
     "end_time": "2022-02-25T05:29:31.767378",
     "exception": false,
     "start_time": "2022-02-25T05:29:31.741548",
     "status": "completed"
    },
    "tags": []
   },
   "source": [
    "입력 특성 맵에 0을 끼워넣은 것이 가운데 9 * 9 크기의 행렬이다. 그 다음 2 * 2 크기의 커널과 스트라이드 1로 보통의 합성곱을 수행하여 8 * 8 크기 출력을 만든다. 이 합성곱을 반대 방향으로 검증 해보기 위해 9 * 9 크기의 행렬에 스트라이드 2로 보통 합성곱을 적용하면 원본 입력 크기와 같은 4 * 4 크기의 특성 맵이 출력된다."
   ]
  },
  {
   "cell_type": "markdown",
   "id": "28bac4ca",
   "metadata": {
    "id": "SZhOIOF1eCbs",
    "papermill": {
     "duration": 0.025388,
     "end_time": "2022-02-25T05:29:31.818895",
     "exception": false,
     "start_time": "2022-02-25T05:29:31.793507",
     "status": "completed"
    },
    "tags": []
   },
   "source": [
    "### 17.3.2 배치 정규화(Batch Normalization, BatchNorm, BN)\n",
    "* 층의 입력을 정규화하고 훈련하는 동안 입력 분포의 변화는 막는 것\n",
    "    * 모델을 빠르고 안정적으로 수렴하게 만든다.\n",
    "* 배치 정규화는 계산된 통계 값을 기반으로 미니 배치의 특성을 변환한다.\n",
    "\n",
    "합성곱 층과 활성화 함수 사이에 있는 특성맵이 [m * h * w * c] 크기의 4차원 텐서 Z라고 가정한다. \n",
    "* m: 배치에 있는 샘플의 개수(배치 크기)\n",
    "* h * w: 특성 맵의 공간 방향 차원\n",
    "* c: 채널 개수\n",
    "\n",
    "배치 정규화 단계\n",
    "1. 미니 배치 입력의 평균 $\\mu_B$과 표준 편차 $\\sigma_B$ 계산\n",
    "\n",
    "$$\\mu_B = \\frac{1}{m * h * w}\\sum_{i,j,k}Z^{[i,j,k,.]}$$\n",
    "$$\\sigma^2_B = \\frac{1}{m * h * w}\\sum_{i,j,k}(Z^{[i,j,k,.]}-\\mu_B)^2$$\n",
    "\n",
    "여기서 $\\mu_B$와 $\\sigma^2_B$의 크기는 c이다.\n",
    "\n",
    "2. 배치에 있는 모든 샘플의 입력을 표준화한다. 미니 배치의 샘플을 z 점수 정규화(표준화)로 변환하여 표준화된 $Z^{[i]}_{std}=\\frac{Z^{[i]}-\\mu_B}{\\sigma_B + \\epsilon}$ (여기서 $ϵ$은 수치 안정성(즉, 0 나눗셈 방지)을 위한 작은 값)을 만든다. 결국 입력 값은 원점에 맞춰지고 단위 분산을 가지게 된다. 이는 경사 하강법 기반의 최적화 방식에 바람직한 성질이다. 반면 각기 다른 미니 배치에서 동일한 성질을 갖도록 항상 입력을 정규화하면 신경망의 표현 능을에 큰 영향을 미칠 수 있다. x~N(0, 1)인 특성이 시그모이드 함수 $\\sigma(x)$를 통과할 때 0에 가까운 값은 선형적인 영역을 만들기 때문이다.\n",
    "3. 정규화된 입력을 학습되는 두개의 파라미터 $\\gamma$와 $\\beta$로 스케일을 조정하고 이동시킨다. 이 파라미터의 크기는 c(채널 개수)이다. $A^{[i]}_{pre} = \\gamma Z^{[i]}_{std} + \\beta$\n",
    "\n",
    "훈련하는 동안 이동 평균 $\\mu_B$와 이동 분산 $\\sigma^2_B$을 계산한다. 이 값과 튜닝 파라미터 $\\beta$와 $\\gamma$를 함께 사용하여 평가 시에 테스트 샘플을 정규화한다.\n",
    "\n",
    "* 텐서플로 케라스 API의 배치 클래스 `tf.kears.layers.BatchNormalization()`\n",
    "    * 배치 정규화의 모든 단계를 수행\n",
    "    * 학습되는 파라미터 $\\gamma$와 $\\beta$는 `training=False` 또는 `training=True`를 설정하여 업데이트되는 동작을 결정할 수 있다.\n",
    "        * 케라스는 이 매개변수를 사용하여 훈련하는 동안만 이 파라미터를 업데이트한다."
   ]
  },
  {
   "cell_type": "code",
   "execution_count": 4,
   "id": "b8fdaa03",
   "metadata": {
    "execution": {
     "iopub.execute_input": "2022-02-25T05:29:31.878156Z",
     "iopub.status.busy": "2022-02-25T05:29:31.877477Z",
     "iopub.status.idle": "2022-02-25T05:29:31.880260Z",
     "shell.execute_reply": "2022-02-25T05:29:31.880655Z",
     "shell.execute_reply.started": "2022-02-25T02:39:53.908323Z"
    },
    "id": "j2livIBMgw-V",
    "outputId": "26054444-bad4-4e9e-99ae-82fcb248bf13",
    "papermill": {
     "duration": 0.036032,
     "end_time": "2022-02-25T05:29:31.880787",
     "exception": false,
     "start_time": "2022-02-25T05:29:31.844755",
     "status": "completed"
    },
    "tags": []
   },
   "outputs": [
    {
     "data": {
      "text/html": [
       "<img src=\"https://git.io/JLjnA\" width=\"700\"/>"
      ],
      "text/plain": [
       "<IPython.core.display.Image object>"
      ]
     },
     "execution_count": 4,
     "metadata": {},
     "output_type": "execute_result"
    }
   ],
   "source": [
    "# 배치 정규화\n",
    "Image(url='https://git.io/JLjnA', width=700)"
   ]
  },
  {
   "cell_type": "markdown",
   "id": "6dbc4fed",
   "metadata": {
    "id": "gYsX_yOwii6v",
    "papermill": {
     "duration": 0.026389,
     "end_time": "2022-02-25T05:29:31.933172",
     "exception": false,
     "start_time": "2022-02-25T05:29:31.906783",
     "status": "completed"
    },
    "tags": []
   },
   "source": [
    "### 17.3.3 생성자와 판별자 구현\n",
    "\n",
    "* 생성자\n",
    "    * 크기가 20인 벡터 z를 입력으로 받아 완전 연결 (밀집) 층을 적용하여 크기를 6,272로 늘린다.\n",
    "    * 크기가 7 * 7 * 128인 랭크 3 텐서로 변환한다(공간 방향 차원이 7 * 7, 채널 개수 128)\n",
    "    * `tf.keras.layers.Conv2DTranspose()`를 사용한 전치 합성곱 몇 개를 거쳐 이 특성 맵을 공간 방향의 차원이 28 * 28이 될 때까지 업샘플링한다. 전치 합성곱 층을 지나면서 채널 개수는 절반으로 줄어든다. 예외적으로 마지막 전치 합성곱은 흑백 이미지를 만들기 위해 하나의 출력 필더만 사용한다.\n",
    "    * 배치 정규화와 `LeakyReLU` 활성화 함수\n",
    "    * 마지막 전치 합성곱 층에는 (배치 정규화 없이) tanh 활성화 함수 사용"
   ]
  },
  {
   "cell_type": "code",
   "execution_count": 5,
   "id": "eb9c2299",
   "metadata": {
    "execution": {
     "iopub.execute_input": "2022-02-25T05:29:31.990050Z",
     "iopub.status.busy": "2022-02-25T05:29:31.989391Z",
     "iopub.status.idle": "2022-02-25T05:29:31.992157Z",
     "shell.execute_reply": "2022-02-25T05:29:31.992555Z",
     "shell.execute_reply.started": "2022-02-25T02:39:53.919588Z"
    },
    "id": "1dHS_-qhkL8-",
    "outputId": "4620f35a-7c9a-4cc9-cca0-6a410b86a873",
    "papermill": {
     "duration": 0.033527,
     "end_time": "2022-02-25T05:29:31.992682",
     "exception": false,
     "start_time": "2022-02-25T05:29:31.959155",
     "status": "completed"
    },
    "tags": []
   },
   "outputs": [
    {
     "data": {
      "text/html": [
       "<img src=\"https://git.io/JLjnx\" width=\"700\"/>"
      ],
      "text/plain": [
       "<IPython.core.display.Image object>"
      ]
     },
     "execution_count": 5,
     "metadata": {},
     "output_type": "execute_result"
    }
   ],
   "source": [
    "# 생성자 신경망 구조\n",
    "Image(url='https://git.io/JLjnx', width=700)"
   ]
  },
  {
   "cell_type": "markdown",
   "id": "82e6fe6a",
   "metadata": {
    "id": "BI53cvcWkPue",
    "papermill": {
     "duration": 0.026529,
     "end_time": "2022-02-25T05:29:32.046369",
     "exception": false,
     "start_time": "2022-02-25T05:29:32.019840",
     "status": "completed"
    },
    "tags": []
   },
   "source": [
    "* 판별자\n",
    "    * 28 * 28 * 1 크기의 이미지를 입력으로 받아 네 개의 합성곱을 통과시킨다.\n",
    "    * 처음 세 개의 합성곱 층은 공간 차원을 4배로 줄이고 특성 맵의 차원 개수를 늘린다\n",
    "    * 각 합성곱 층 다음에는 배치 정규화와 `LeakyReLU` 활성화 함수, rate=0.3(드롭아웃 확률)인 드롭아웃 층이 뒤따른다.\n",
    "    * 마지막 합성곱 층은 7 * 7 크기의 커널을 사용하고 하나의 필터를 사용하여 출력 차원을 1 * 1 * 1로 줄인다."
   ]
  },
  {
   "cell_type": "code",
   "execution_count": 6,
   "id": "f2f961ad",
   "metadata": {
    "execution": {
     "iopub.execute_input": "2022-02-25T05:29:32.105355Z",
     "iopub.status.busy": "2022-02-25T05:29:32.104720Z",
     "iopub.status.idle": "2022-02-25T05:29:32.107380Z",
     "shell.execute_reply": "2022-02-25T05:29:32.107783Z",
     "shell.execute_reply.started": "2022-02-25T02:39:53.930829Z"
    },
    "id": "u0NNOdVjkolf",
    "outputId": "f87a6138-4a45-47be-e2b0-58714ff84ff4",
    "papermill": {
     "duration": 0.034545,
     "end_time": "2022-02-25T05:29:32.107946",
     "exception": false,
     "start_time": "2022-02-25T05:29:32.073401",
     "status": "completed"
    },
    "tags": []
   },
   "outputs": [
    {
     "data": {
      "text/html": [
       "<img src=\"https://git.io/JLjnj\" width=\"700\"/>"
      ],
      "text/plain": [
       "<IPython.core.display.Image object>"
      ]
     },
     "execution_count": 6,
     "metadata": {},
     "output_type": "execute_result"
    }
   ],
   "source": [
    "# 판별자 신경망 구조\n",
    "Image(url='https://git.io/JLjnj', width=700)"
   ]
  },
  {
   "cell_type": "code",
   "execution_count": 7,
   "id": "353b8857",
   "metadata": {
    "execution": {
     "iopub.execute_input": "2022-02-25T05:29:32.166667Z",
     "iopub.status.busy": "2022-02-25T05:29:32.165743Z",
     "iopub.status.idle": "2022-02-25T05:29:38.279130Z",
     "shell.execute_reply": "2022-02-25T05:29:38.279553Z",
     "shell.execute_reply.started": "2022-02-25T02:39:53.941706Z"
    },
    "id": "xfymktrfku5V",
    "outputId": "33e0de77-55da-4513-fbe1-1379d41a3c38",
    "papermill": {
     "duration": 6.145241,
     "end_time": "2022-02-25T05:29:38.279698",
     "exception": false,
     "start_time": "2022-02-25T05:29:32.134457",
     "status": "completed"
    },
    "tags": []
   },
   "outputs": [
    {
     "name": "stdout",
     "output_type": "stream",
     "text": [
      "2.6.2\n",
      "GPU 여부: True\n"
     ]
    },
    {
     "name": "stderr",
     "output_type": "stream",
     "text": [
      "2022-02-25 05:29:36.322110: I tensorflow/stream_executor/cuda/cuda_gpu_executor.cc:937] successful NUMA node read from SysFS had negative value (-1), but there must be at least one NUMA node, so returning NUMA node zero\n",
      "2022-02-25 05:29:36.422711: I tensorflow/stream_executor/cuda/cuda_gpu_executor.cc:937] successful NUMA node read from SysFS had negative value (-1), but there must be at least one NUMA node, so returning NUMA node zero\n",
      "2022-02-25 05:29:36.423445: I tensorflow/stream_executor/cuda/cuda_gpu_executor.cc:937] successful NUMA node read from SysFS had negative value (-1), but there must be at least one NUMA node, so returning NUMA node zero\n"
     ]
    },
    {
     "name": "stdout",
     "output_type": "stream",
     "text": [
      "/device:GPU:0\n"
     ]
    },
    {
     "name": "stderr",
     "output_type": "stream",
     "text": [
      "2022-02-25 05:29:36.428215: I tensorflow/core/platform/cpu_feature_guard.cc:142] This TensorFlow binary is optimized with oneAPI Deep Neural Network Library (oneDNN) to use the following CPU instructions in performance-critical operations:  AVX2 AVX512F FMA\n",
      "To enable them in other operations, rebuild TensorFlow with the appropriate compiler flags.\n",
      "2022-02-25 05:29:36.429009: I tensorflow/stream_executor/cuda/cuda_gpu_executor.cc:937] successful NUMA node read from SysFS had negative value (-1), but there must be at least one NUMA node, so returning NUMA node zero\n",
      "2022-02-25 05:29:36.429698: I tensorflow/stream_executor/cuda/cuda_gpu_executor.cc:937] successful NUMA node read from SysFS had negative value (-1), but there must be at least one NUMA node, so returning NUMA node zero\n",
      "2022-02-25 05:29:36.430339: I tensorflow/stream_executor/cuda/cuda_gpu_executor.cc:937] successful NUMA node read from SysFS had negative value (-1), but there must be at least one NUMA node, so returning NUMA node zero\n",
      "2022-02-25 05:29:38.261918: I tensorflow/stream_executor/cuda/cuda_gpu_executor.cc:937] successful NUMA node read from SysFS had negative value (-1), but there must be at least one NUMA node, so returning NUMA node zero\n",
      "2022-02-25 05:29:38.262674: I tensorflow/stream_executor/cuda/cuda_gpu_executor.cc:937] successful NUMA node read from SysFS had negative value (-1), but there must be at least one NUMA node, so returning NUMA node zero\n",
      "2022-02-25 05:29:38.263364: I tensorflow/stream_executor/cuda/cuda_gpu_executor.cc:937] successful NUMA node read from SysFS had negative value (-1), but there must be at least one NUMA node, so returning NUMA node zero\n",
      "2022-02-25 05:29:38.263962: I tensorflow/core/common_runtime/gpu/gpu_device.cc:1510] Created device /device:GPU:0 with 15403 MB memory:  -> device: 0, name: Tesla P100-PCIE-16GB, pci bus id: 0000:00:04.0, compute capability: 6.0\n"
     ]
    }
   ],
   "source": [
    "import tensorflow as tf\n",
    "\n",
    "\n",
    "print(tf.__version__)\n",
    "\n",
    "print(\"GPU 여부:\", len(tf.config.list_physical_devices('GPU')) > 0)\n",
    "\n",
    "if tf.config.list_physical_devices('GPU'):\n",
    "    device_name = tf.test.gpu_device_name()\n",
    "else:\n",
    "    device_name = 'CPU:0'\n",
    "    \n",
    "print(device_name)"
   ]
  },
  {
   "cell_type": "code",
   "execution_count": 8,
   "id": "9000f337",
   "metadata": {
    "execution": {
     "iopub.execute_input": "2022-02-25T05:29:38.341390Z",
     "iopub.status.busy": "2022-02-25T05:29:38.340707Z",
     "iopub.status.idle": "2022-02-25T05:29:39.432455Z",
     "shell.execute_reply": "2022-02-25T05:29:39.432898Z",
     "shell.execute_reply.started": "2022-02-25T02:40:02.145067Z"
    },
    "id": "T5YdVQ5ck17o",
    "papermill": {
     "duration": 1.124863,
     "end_time": "2022-02-25T05:29:39.433087",
     "exception": false,
     "start_time": "2022-02-25T05:29:38.308224",
     "status": "completed"
    },
    "tags": []
   },
   "outputs": [],
   "source": [
    "import tensorflow_datasets as tfds\n",
    "import numpy as np\n",
    "import matplotlib.pyplot as plt"
   ]
  },
  {
   "cell_type": "code",
   "execution_count": 9,
   "id": "5e143441",
   "metadata": {
    "execution": {
     "iopub.execute_input": "2022-02-25T05:29:39.501374Z",
     "iopub.status.busy": "2022-02-25T05:29:39.500447Z",
     "iopub.status.idle": "2022-02-25T05:29:39.502201Z",
     "shell.execute_reply": "2022-02-25T05:29:39.502593Z",
     "shell.execute_reply.started": "2022-02-25T02:40:03.345308Z"
    },
    "id": "88vFVEw4k-NG",
    "papermill": {
     "duration": 0.041156,
     "end_time": "2022-02-25T05:29:39.502722",
     "exception": false,
     "start_time": "2022-02-25T05:29:39.461566",
     "status": "completed"
    },
    "tags": []
   },
   "outputs": [],
   "source": [
    "def make_dcgan_generator(\n",
    "        z_size=20, \n",
    "        output_size=(28, 28, 1),\n",
    "        n_filters=128, \n",
    "        n_blocks=2):\n",
    "    size_factor = 2**n_blocks # 2 ** 2 = 4\n",
    "    hidden_size = (\n",
    "        output_size[0]//size_factor, # 28 // 4 = 7\n",
    "        output_size[1]//size_factor) # 28 // 4 = 7\n",
    "    \n",
    "    model = tf.keras.Sequential([\n",
    "        tf.keras.layers.Input(shape=(z_size,)),\n",
    "        tf.keras.layers.Dense(\n",
    "            units=n_filters*np.prod(hidden_size), # 128 * 7 * 7\n",
    "            use_bias=False), # 배치 정규화 앞의층에서는 절편 유닛을 사용하지 않는 것을 권장. 배치 정규화가 이미 이동 파라미터 절편을 가지고 있기 때문\n",
    "        tf.keras.layers.BatchNormalization(),\n",
    "        tf.keras.layers.LeakyReLU(),\n",
    "        tf.keras.layers.Reshape(\n",
    "            (hidden_size[0], hidden_size[1], n_filters)), # 7 * 7 * 128 크기\n",
    "        tf.keras.layers.Conv2DTranspose(\n",
    "            filters=n_filters, kernel_size=(5, 5), strides=(1, 1),\n",
    "            padding='same', use_bias=False),\n",
    "        tf.keras.layers.BatchNormalization(),\n",
    "        tf.keras.layers.LeakyReLU()\n",
    "    ])\n",
    "\n",
    "    nf = n_filters \n",
    "    for i in range(n_blocks):\n",
    "        nf = nf // 2 # 0 -> 64, 1 -> 32 => 28 * 28 * 32\n",
    "        model.add(\n",
    "            tf.keras.layers.Conv2DTranspose(\n",
    "                filters=nf, kernel_size=(5, 5), strides=(2, 2),\n",
    "                padding='same', use_bias=False))\n",
    "        model.add(tf.keras.layers.BatchNormalization())\n",
    "        model.add(tf.keras.layers.LeakyReLU())\n",
    "    model.add(\n",
    "        tf.keras.layers.Conv2DTranspose(\n",
    "            filters=output_size[2], kernel_size=(5, 5), \n",
    "            strides=(1, 1), padding='same', use_bias=False, \n",
    "            activation='tanh'))\n",
    "    return model"
   ]
  },
  {
   "cell_type": "code",
   "execution_count": 10,
   "id": "68c98fa3",
   "metadata": {
    "execution": {
     "iopub.execute_input": "2022-02-25T05:29:39.568177Z",
     "iopub.status.busy": "2022-02-25T05:29:39.567411Z",
     "iopub.status.idle": "2022-02-25T05:29:39.570291Z",
     "shell.execute_reply": "2022-02-25T05:29:39.570670Z",
     "shell.execute_reply.started": "2022-02-25T02:40:03.361491Z"
    },
    "id": "dm83IuX-oKjW",
    "papermill": {
     "duration": 0.040096,
     "end_time": "2022-02-25T05:29:39.570840",
     "exception": false,
     "start_time": "2022-02-25T05:29:39.530744",
     "status": "completed"
    },
    "tags": []
   },
   "outputs": [],
   "source": [
    "def make_dcgan_discriminator(\n",
    "        input_size=(28, 28, 1),\n",
    "        n_filters=64, \n",
    "        n_blocks=2):\n",
    "    model = tf.keras.Sequential([\n",
    "        tf.keras.layers.Input(shape=input_size),\n",
    "        tf.keras.layers.Conv2D(\n",
    "            filters=n_filters, kernel_size=5, \n",
    "            strides=(1, 1), padding='same'),\n",
    "        tf.keras.layers.BatchNormalization(),\n",
    "        tf.keras.layers.LeakyReLU()\n",
    "    ])\n",
    "\n",
    "    nf = n_filters\n",
    "    for i in range(n_blocks):\n",
    "        nf = nf*2\n",
    "        model.add(\n",
    "            tf.keras.layers.Conv2D(\n",
    "                filters=nf, kernel_size=(5, 5), \n",
    "                strides=(2, 2),padding='same'))\n",
    "        model.add(tf.keras.layers.BatchNormalization())\n",
    "        model.add(tf.keras.layers.LeakyReLU())\n",
    "        model.add(tf.keras.layers.Dropout(0.3))\n",
    "        \n",
    "    model.add(tf.keras.layers.Conv2D(\n",
    "            filters=1, kernel_size=(7, 7), padding='valid'))\n",
    "    model.add(tf.keras.layers.Reshape((1,)))\n",
    "    return model"
   ]
  },
  {
   "cell_type": "code",
   "execution_count": 11,
   "id": "ade22561",
   "metadata": {
    "execution": {
     "iopub.execute_input": "2022-02-25T05:29:39.632726Z",
     "iopub.status.busy": "2022-02-25T05:29:39.631945Z",
     "iopub.status.idle": "2022-02-25T05:29:40.973091Z",
     "shell.execute_reply": "2022-02-25T05:29:40.973720Z",
     "shell.execute_reply.started": "2022-02-25T02:40:03.384017Z"
    },
    "id": "2hD2xTSSpiTG",
    "outputId": "88672600-7919-46f5-d31f-2f8a128a7c1a",
    "papermill": {
     "duration": 1.37417,
     "end_time": "2022-02-25T05:29:40.973929",
     "exception": false,
     "start_time": "2022-02-25T05:29:39.599759",
     "status": "completed"
    },
    "tags": []
   },
   "outputs": [
    {
     "name": "stderr",
     "output_type": "stream",
     "text": [
      "2022-02-25 05:29:40.449261: I tensorflow/stream_executor/cuda/cuda_gpu_executor.cc:937] successful NUMA node read from SysFS had negative value (-1), but there must be at least one NUMA node, so returning NUMA node zero\n",
      "2022-02-25 05:29:40.450088: I tensorflow/stream_executor/cuda/cuda_gpu_executor.cc:937] successful NUMA node read from SysFS had negative value (-1), but there must be at least one NUMA node, so returning NUMA node zero\n",
      "2022-02-25 05:29:40.450717: I tensorflow/stream_executor/cuda/cuda_gpu_executor.cc:937] successful NUMA node read from SysFS had negative value (-1), but there must be at least one NUMA node, so returning NUMA node zero\n",
      "2022-02-25 05:29:40.451386: I tensorflow/stream_executor/cuda/cuda_gpu_executor.cc:937] successful NUMA node read from SysFS had negative value (-1), but there must be at least one NUMA node, so returning NUMA node zero\n",
      "2022-02-25 05:29:40.451989: I tensorflow/stream_executor/cuda/cuda_gpu_executor.cc:937] successful NUMA node read from SysFS had negative value (-1), but there must be at least one NUMA node, so returning NUMA node zero\n",
      "2022-02-25 05:29:40.452543: I tensorflow/core/common_runtime/gpu/gpu_device.cc:1510] Created device /job:localhost/replica:0/task:0/device:GPU:0 with 15403 MB memory:  -> device: 0, name: Tesla P100-PCIE-16GB, pci bus id: 0000:00:04.0, compute capability: 6.0\n"
     ]
    },
    {
     "name": "stdout",
     "output_type": "stream",
     "text": [
      "Model: \"sequential\"\n",
      "_________________________________________________________________\n",
      "Layer (type)                 Output Shape              Param #   \n",
      "=================================================================\n",
      "dense (Dense)                (None, 6272)              125440    \n",
      "_________________________________________________________________\n",
      "batch_normalization (BatchNo (None, 6272)              25088     \n",
      "_________________________________________________________________\n",
      "leaky_re_lu (LeakyReLU)      (None, 6272)              0         \n",
      "_________________________________________________________________\n",
      "reshape (Reshape)            (None, 7, 7, 128)         0         \n",
      "_________________________________________________________________\n",
      "conv2d_transpose (Conv2DTran (None, 7, 7, 128)         409600    \n",
      "_________________________________________________________________\n",
      "batch_normalization_1 (Batch (None, 7, 7, 128)         512       \n",
      "_________________________________________________________________\n",
      "leaky_re_lu_1 (LeakyReLU)    (None, 7, 7, 128)         0         \n",
      "_________________________________________________________________\n",
      "conv2d_transpose_1 (Conv2DTr (None, 14, 14, 64)        204800    \n",
      "_________________________________________________________________\n",
      "batch_normalization_2 (Batch (None, 14, 14, 64)        256       \n",
      "_________________________________________________________________\n",
      "leaky_re_lu_2 (LeakyReLU)    (None, 14, 14, 64)        0         \n",
      "_________________________________________________________________\n",
      "conv2d_transpose_2 (Conv2DTr (None, 28, 28, 32)        51200     \n",
      "_________________________________________________________________\n",
      "batch_normalization_3 (Batch (None, 28, 28, 32)        128       \n",
      "_________________________________________________________________\n",
      "leaky_re_lu_3 (LeakyReLU)    (None, 28, 28, 32)        0         \n",
      "_________________________________________________________________\n",
      "conv2d_transpose_3 (Conv2DTr (None, 28, 28, 1)         800       \n",
      "=================================================================\n",
      "Total params: 817,824\n",
      "Trainable params: 804,832\n",
      "Non-trainable params: 12,992\n",
      "_________________________________________________________________\n",
      "Model: \"sequential_1\"\n",
      "_________________________________________________________________\n",
      "Layer (type)                 Output Shape              Param #   \n",
      "=================================================================\n",
      "conv2d (Conv2D)              (None, 28, 28, 64)        1664      \n",
      "_________________________________________________________________\n",
      "batch_normalization_4 (Batch (None, 28, 28, 64)        256       \n",
      "_________________________________________________________________\n",
      "leaky_re_lu_4 (LeakyReLU)    (None, 28, 28, 64)        0         \n",
      "_________________________________________________________________\n",
      "conv2d_1 (Conv2D)            (None, 14, 14, 128)       204928    \n",
      "_________________________________________________________________\n",
      "batch_normalization_5 (Batch (None, 14, 14, 128)       512       \n",
      "_________________________________________________________________\n",
      "leaky_re_lu_5 (LeakyReLU)    (None, 14, 14, 128)       0         \n",
      "_________________________________________________________________\n",
      "dropout (Dropout)            (None, 14, 14, 128)       0         \n",
      "_________________________________________________________________\n",
      "conv2d_2 (Conv2D)            (None, 7, 7, 256)         819456    \n",
      "_________________________________________________________________\n",
      "batch_normalization_6 (Batch (None, 7, 7, 256)         1024      \n",
      "_________________________________________________________________\n",
      "leaky_re_lu_6 (LeakyReLU)    (None, 7, 7, 256)         0         \n",
      "_________________________________________________________________\n",
      "dropout_1 (Dropout)          (None, 7, 7, 256)         0         \n",
      "_________________________________________________________________\n",
      "conv2d_3 (Conv2D)            (None, 1, 1, 1)           12545     \n",
      "_________________________________________________________________\n",
      "reshape_1 (Reshape)          (None, 1)                 0         \n",
      "=================================================================\n",
      "Total params: 1,040,385\n",
      "Trainable params: 1,039,489\n",
      "Non-trainable params: 896\n",
      "_________________________________________________________________\n"
     ]
    }
   ],
   "source": [
    "gen_model = make_dcgan_generator()\n",
    "gen_model.summary()\n",
    "\n",
    "disc_model = make_dcgan_discriminator()\n",
    "disc_model.summary()"
   ]
  },
  {
   "cell_type": "markdown",
   "id": "cd81cc0e",
   "metadata": {
    "id": "FJ30g2ZxpiNW",
    "papermill": {
     "duration": 0.029075,
     "end_time": "2022-02-25T05:29:41.032683",
     "exception": false,
     "start_time": "2022-02-25T05:29:41.003608",
     "status": "completed"
    },
    "tags": []
   },
   "source": [
    "### 17.3.4 두 분포 사이의 거리 측정\n",
    "\n"
   ]
  },
  {
   "cell_type": "code",
   "execution_count": 12,
   "id": "b54213f4",
   "metadata": {
    "execution": {
     "iopub.execute_input": "2022-02-25T05:29:41.096155Z",
     "iopub.status.busy": "2022-02-25T05:29:41.095477Z",
     "iopub.status.idle": "2022-02-25T05:29:41.098325Z",
     "shell.execute_reply": "2022-02-25T05:29:41.098717Z",
     "shell.execute_reply.started": "2022-02-25T02:40:05.269730Z"
    },
    "id": "idsR3tH_rpun",
    "outputId": "e7452d3c-c2c3-40de-b6ae-16c5b5437ab0",
    "papermill": {
     "duration": 0.037265,
     "end_time": "2022-02-25T05:29:41.098870",
     "exception": false,
     "start_time": "2022-02-25T05:29:41.061605",
     "status": "completed"
    },
    "tags": []
   },
   "outputs": [
    {
     "data": {
      "text/html": [
       "<img src=\"https://git.io/JLjcf\" width=\"700\"/>"
      ],
      "text/plain": [
       "<IPython.core.display.Image object>"
      ]
     },
     "execution_count": 12,
     "metadata": {},
     "output_type": "execute_result"
    }
   ],
   "source": [
    "# 여러가지 거리 측정 방법\n",
    "Image(url='https://git.io/JLjcf', width=700)"
   ]
  },
  {
   "cell_type": "markdown",
   "id": "e671fa7f",
   "metadata": {
    "id": "x4v4Ld67r09e",
    "papermill": {
     "duration": 0.029445,
     "end_time": "2022-02-25T05:29:41.157673",
     "exception": false,
     "start_time": "2022-02-25T05:29:41.128228",
     "status": "completed"
    },
    "tags": []
   },
   "source": [
    "TV 측정 방법에서 사용한 상한 sup(S)는 S의 모든 원소보다 큰 가장 작은 값을 의미한다. 즉, sup(S)는 S의 최소 상계(least upper bound)이다. 반대로 EM 거리에서 사용된 하한 함수 inf(S)는 S의 모든 원소보다 작은 가장 큰 값을 의미한다(최대 하계(greatest lower bound)).\n",
    "\n",
    "* TV 거리\n",
    "\n",
    "각 모인트에서 두 분산 사이의 가장 큰 차이를 측정\n",
    "\n",
    "* EM 거리\n",
    "\n",
    "한 분포에서 다른 분포로 변환할 때 필요한 최소의 작업량\n",
    "EM 거리의 하한 함수는 주변 확률 분포 P와 Q의 결합 확률 분포 집합인 $\\prod(P, Q)$에 대해 계산된다. $\\mu(u, v)$는 이동 계획이다. 위치 u에서 v로 확률 '흙무더기'를 옮기는 방법을 의미한다. 옮긴 후 유효한 분포를 유지해야 한다는 몇 가지 조건이 붙는다. EM 거리를 계산하는 것은 최적의 이동 계획 $\\mu(u, v)$를 찾는 것으로 그 자체가 최적화 문제이다.\n",
    "\n",
    "* 쿨백-라이블러(KL)과 젠슨-섀넌(JS) 발산\n",
    "\n",
    "KL 발산은 대칭이 아니다. 즉, KL(P||Q) != KL(Q||P) 이다. 반대로 JS 발산은 대칭이다."
   ]
  },
  {
   "cell_type": "code",
   "execution_count": 13,
   "id": "0e111f0d",
   "metadata": {
    "execution": {
     "iopub.execute_input": "2022-02-25T05:29:41.221387Z",
     "iopub.status.busy": "2022-02-25T05:29:41.218992Z",
     "iopub.status.idle": "2022-02-25T05:29:41.224459Z",
     "shell.execute_reply": "2022-02-25T05:29:41.224040Z",
     "shell.execute_reply.started": "2022-02-25T02:40:05.286705Z"
    },
    "id": "sf8lAGA5tPn_",
    "outputId": "8a54fc46-b684-48b6-df6e-4c0b5cd9dc85",
    "papermill": {
     "duration": 0.037325,
     "end_time": "2022-02-25T05:29:41.224572",
     "exception": false,
     "start_time": "2022-02-25T05:29:41.187247",
     "status": "completed"
    },
    "tags": []
   },
   "outputs": [
    {
     "data": {
      "text/html": [
       "<img src=\"https://git.io/JLjcJ\" width=\"800\"/>"
      ],
      "text/plain": [
       "<IPython.core.display.Image object>"
      ]
     },
     "execution_count": 13,
     "metadata": {},
     "output_type": "execute_result"
    }
   ],
   "source": [
    "# 이산 분포의 거리 측정 예\n",
    "Image(url='https://git.io/JLjcJ', width=800)"
   ]
  },
  {
   "cell_type": "markdown",
   "id": "4e63052c",
   "metadata": {
    "id": "daTy1Y_ouKq4",
    "papermill": {
     "duration": 0.030045,
     "end_time": "2022-02-25T05:29:41.284098",
     "exception": false,
     "start_time": "2022-02-25T05:29:41.254053",
     "status": "completed"
    },
    "tags": []
   },
   "source": [
    "JS 발산은 GAN 모델을 할 때 문제가 있다. 따라서 훈련 성능을 높이기 위해 연구자들은 EM 거릴르 진짜와 가까 샘플 분포 사이의 거리를 측정하는 데 사용했다.\n",
    "\n",
    "$P_r$이 진짜 샘플의 분포이고, $P_g$가 가짜 (생성된) 샘플의 분포라고 가정한다. RM 거리 공식의 P와 Q를 $P_r$와 $P_g$로 바꾼다. EM 거리를 계산하는 것은 그 자체가 최적화 문제이다. 특히 GAN 훈련 반복마다 이 계산을 반복해야 할 때이다. 다행히 EM 거리 계산을 칸토로비치-루빈스타인 쌍대성(Kantorovich-Rubinstein duality) 이론을 사용하여 단순화한다.\n",
    "\n",
    "* 립시츠 연속\n",
    "\n",
    "1-립시츠 연속 함수 f는 다음 성질을 만족해야 한다.\n",
    "$$|f(x_1) - f(x_2)| <= |x_1 - x_2|$$\n",
    "\n",
    "또한, 다음 성질을 만족하는 실수 함수 f:R->R을 K-립시츠 연속이라고 부른다.\n",
    "$$|f(x_1) - f(x_2)| <= K|x_1 - x_2|$$"
   ]
  },
  {
   "cell_type": "markdown",
   "id": "3a93a356",
   "metadata": {
    "id": "Ejjzs24at0ZW",
    "papermill": {
     "duration": 0.029499,
     "end_time": "2022-02-25T05:29:41.343728",
     "exception": false,
     "start_time": "2022-02-25T05:29:41.314229",
     "status": "completed"
    },
    "tags": []
   },
   "source": [
    "### 17.3.5 GAN에 EM 거리 사용\n",
    "\n",
    "WGAN에서는 판별자를 바꾸어 확률 점수 대신에 스칼라 점수를 반환하는 비평자로 바꿀 수 있다. (갤러리에 있는 미술품에 점수를 매기는 미술 비평가 같은) 이 점수를 입력 이미지가 얼마나 진짜 같은지 나타내는 정도록 해석할 수 있다.\n",
    "\n",
    "비평자(즉, 판별자 신경망)는 진짜 이미지 샘플의 배치와 합성 샘플의 배치에 대한 출력을 반환한다. 이를 각각 D(x)와 D(G(z))로 표시한다.\n",
    "\n",
    "* 판별자 손실의 진짜 샘플에 대한 항:\n",
    "\n",
    "* 판별자 손실의 가짜 샘플에 대한 항:\n",
    "\n",
    "* 생성자 손실:\n",
    "\n",
    "비평자 함수의 1-립시츠 성질을 훈려하는 동안 유지하기 위해 제안된 방법은 가중치를 작은 범위, 예를 들어 [-0.01, 0.01] 사이로 클리핑하는 것이다."
   ]
  },
  {
   "cell_type": "markdown",
   "id": "9ae4b324",
   "metadata": {
    "id": "8Gvh_FS7w9fJ",
    "papermill": {
     "duration": 0.029144,
     "end_time": "2022-02-25T05:29:41.402382",
     "exception": false,
     "start_time": "2022-02-25T05:29:41.373238",
     "status": "completed"
    },
    "tags": []
   },
   "source": [
    "### 17.3.6 그레이디언트 페널티\n",
    "\n",
    "WGAN 논문에서는 판별자(또는 비평자)의 1-립시츠 성질을 위해 가중치 클리핑을 제안했다. 하지만 한 논문에서 가중치 클리핑이 그레이디언트 폭주와 소실로 이끈다는 것을 보였다. 또한, 가중치 클리핑에 의해 충분한 성능을 내지 못할 수 있다. 즉, 비평자 신경망이 복잡하지 않고 간단한 함수만 학습할 수 있다. 따라서 가중치 클리핑 대신에 이 논문의 저자들은 다른 대안으로 **그레디언트 페널티**를 제안했다. 이것이 바로 WGAN-GP이다.\n",
    "\n",
    "* 반복마다 더해지는 GP 과정\n",
    "\n",
    "1. 한 배치에서 진짜와 가짜 샘플의 각 쌍 ($x^{[i]}, \\tilde{x}^{[i]}$)에 대해 균등 분포에서 랜덤한 수 $a^{[i]}$를 샘플링한다. 즉, $a^{[i]}\\in U(0, 1)$이다.\n",
    "\n",
    "2. 진짜와 가짜 샘플 사이를 $\\check{x}^{[i]} = \\alpha x^{[i]} + (1-\\alpha) \\tilde{x}^{[i]}$와 같이 보간한다. 결국 보간된 샘플의 배치가 만들어진다.\n",
    "\n",
    "3. 보간된 전체 샘플에 대해 판별자 (비평자) 출력 $D(\\tilde{x}^{[i]})$를 계산한다.\n",
    "\n",
    "4. $L^D_{gp} = \\frac{1}{N}\\sum_i(||\\nabla_{\\check{x}^{[i]}} D(\\check{x}^{[i]})||_2 -1)^2$과 같이 GP를 계산한다.\n",
    "\n",
    "판별자의 총 손실은 다음과 같다.\n",
    "\n",
    "$$L^D_{total} = L^D_{real} + L^D_{fake} + λ L^D_{gp}$$\n",
    "\n",
    "여기서 $\\lambda$는 튜닝 가능한 하이퍼파라미터이다."
   ]
  },
  {
   "cell_type": "markdown",
   "id": "600d9d8d",
   "metadata": {
    "id": "MlVPuFrVz3-e",
    "papermill": {
     "duration": 0.034549,
     "end_time": "2022-02-25T05:29:41.466889",
     "exception": false,
     "start_time": "2022-02-25T05:29:41.432340",
     "status": "completed"
    },
    "tags": []
   },
   "source": [
    "### 17.3.7 WGAN-GP로 DCGAN 모델 훈련"
   ]
  },
  {
   "cell_type": "code",
   "execution_count": 14,
   "id": "7b513a4c",
   "metadata": {
    "execution": {
     "iopub.execute_input": "2022-02-25T05:29:41.532841Z",
     "iopub.status.busy": "2022-02-25T05:29:41.532281Z",
     "iopub.status.idle": "2022-02-25T05:29:44.138366Z",
     "shell.execute_reply": "2022-02-25T05:29:44.139544Z",
     "shell.execute_reply.started": "2022-02-25T02:40:05.301473Z"
    },
    "id": "ClB5DXta0Bmm",
    "outputId": "9201055a-b44c-40d2-a5b6-2f4c6b264fc7",
    "papermill": {
     "duration": 2.643111,
     "end_time": "2022-02-25T05:29:44.139753",
     "exception": false,
     "start_time": "2022-02-25T05:29:41.496642",
     "status": "completed"
    },
    "tags": []
   },
   "outputs": [
    {
     "name": "stderr",
     "output_type": "stream",
     "text": [
      "2022-02-25 05:29:41.816208: W tensorflow/core/platform/cloud/google_auth_provider.cc:184] All attempts to get a Google authentication bearer token failed, returning an empty token. Retrieving token from files failed with \"Not found: Could not locate the credentials file.\". Retrieving token from GCE failed with \"Failed precondition: Error executing an HTTP request: libcurl code 6 meaning 'Couldn't resolve host name', error details: Could not resolve host: metadata\".\n"
     ]
    },
    {
     "name": "stdout",
     "output_type": "stream",
     "text": [
      "\u001b[1mDownloading and preparing dataset 11.06 MiB (download: 11.06 MiB, generated: 21.00 MiB, total: 32.06 MiB) to /root/tensorflow_datasets/mnist/3.0.1...\u001b[0m\n"
     ]
    },
    {
     "data": {
      "application/vnd.jupyter.widget-view+json": {
       "model_id": "b05644c64f4f40c587a6ceb5fabbbf8b",
       "version_major": 2,
       "version_minor": 0
      },
      "text/plain": [
       "Dl Completed...:   0%|          | 0/4 [00:00<?, ? file/s]"
      ]
     },
     "metadata": {},
     "output_type": "display_data"
    },
    {
     "name": "stdout",
     "output_type": "stream",
     "text": [
      "\u001b[1mDataset mnist downloaded and prepared to /root/tensorflow_datasets/mnist/3.0.1. Subsequent calls will reuse this data.\u001b[0m\n"
     ]
    }
   ],
   "source": [
    "mnist_bldr = tfds.builder('mnist')\n",
    "mnist_bldr.download_and_prepare()\n",
    "mnist = mnist_bldr.as_dataset(shuffle_files=False)\n",
    "\n",
    "def preprocess(ex, mode='uniform'):\n",
    "    image = ex['image']\n",
    "    image = tf.image.convert_image_dtype(image, tf.float32)\n",
    "\n",
    "    image = image*2 - 1.0\n",
    "    if mode == 'uniform':\n",
    "        input_z = tf.random.uniform(\n",
    "            shape=(z_size,), minval=-1.0, maxval=1.0)\n",
    "    elif mode == 'normal':\n",
    "        input_z = tf.random.normal(shape=(z_size,))\n",
    "    return input_z, image"
   ]
  },
  {
   "cell_type": "code",
   "execution_count": 15,
   "id": "e310547f",
   "metadata": {
    "execution": {
     "iopub.execute_input": "2022-02-25T05:29:44.259980Z",
     "iopub.status.busy": "2022-02-25T05:29:44.259058Z",
     "iopub.status.idle": "2022-02-25T05:29:44.797617Z",
     "shell.execute_reply": "2022-02-25T05:29:44.798565Z",
     "shell.execute_reply.started": "2022-02-25T02:40:11.208395Z"
    },
    "id": "MF70KLFfz8Mm",
    "outputId": "0d6a3e0a-fdb5-45e3-ebde-db7c5c06bb49",
    "papermill": {
     "duration": 0.599337,
     "end_time": "2022-02-25T05:29:44.798781",
     "exception": false,
     "start_time": "2022-02-25T05:29:44.199444",
     "status": "completed"
    },
    "tags": []
   },
   "outputs": [
    {
     "name": "stdout",
     "output_type": "stream",
     "text": [
      "Model: \"sequential_2\"\n",
      "_________________________________________________________________\n",
      "Layer (type)                 Output Shape              Param #   \n",
      "=================================================================\n",
      "dense_1 (Dense)              (None, 6272)              125440    \n",
      "_________________________________________________________________\n",
      "batch_normalization_7 (Batch (None, 6272)              25088     \n",
      "_________________________________________________________________\n",
      "leaky_re_lu_7 (LeakyReLU)    (None, 6272)              0         \n",
      "_________________________________________________________________\n",
      "reshape_2 (Reshape)          (None, 7, 7, 128)         0         \n",
      "_________________________________________________________________\n",
      "conv2d_transpose_4 (Conv2DTr (None, 7, 7, 128)         409600    \n",
      "_________________________________________________________________\n",
      "batch_normalization_8 (Batch (None, 7, 7, 128)         512       \n",
      "_________________________________________________________________\n",
      "leaky_re_lu_8 (LeakyReLU)    (None, 7, 7, 128)         0         \n",
      "_________________________________________________________________\n",
      "conv2d_transpose_5 (Conv2DTr (None, 14, 14, 64)        204800    \n",
      "_________________________________________________________________\n",
      "batch_normalization_9 (Batch (None, 14, 14, 64)        256       \n",
      "_________________________________________________________________\n",
      "leaky_re_lu_9 (LeakyReLU)    (None, 14, 14, 64)        0         \n",
      "_________________________________________________________________\n",
      "conv2d_transpose_6 (Conv2DTr (None, 28, 28, 32)        51200     \n",
      "_________________________________________________________________\n",
      "batch_normalization_10 (Batc (None, 28, 28, 32)        128       \n",
      "_________________________________________________________________\n",
      "leaky_re_lu_10 (LeakyReLU)   (None, 28, 28, 32)        0         \n",
      "_________________________________________________________________\n",
      "conv2d_transpose_7 (Conv2DTr (None, 28, 28, 1)         800       \n",
      "=================================================================\n",
      "Total params: 817,824\n",
      "Trainable params: 804,832\n",
      "Non-trainable params: 12,992\n",
      "_________________________________________________________________\n",
      "Model: \"sequential_3\"\n",
      "_________________________________________________________________\n",
      "Layer (type)                 Output Shape              Param #   \n",
      "=================================================================\n",
      "conv2d_4 (Conv2D)            (None, 28, 28, 64)        1664      \n",
      "_________________________________________________________________\n",
      "batch_normalization_11 (Batc (None, 28, 28, 64)        256       \n",
      "_________________________________________________________________\n",
      "leaky_re_lu_11 (LeakyReLU)   (None, 28, 28, 64)        0         \n",
      "_________________________________________________________________\n",
      "conv2d_5 (Conv2D)            (None, 14, 14, 128)       204928    \n",
      "_________________________________________________________________\n",
      "batch_normalization_12 (Batc (None, 14, 14, 128)       512       \n",
      "_________________________________________________________________\n",
      "leaky_re_lu_12 (LeakyReLU)   (None, 14, 14, 128)       0         \n",
      "_________________________________________________________________\n",
      "dropout_2 (Dropout)          (None, 14, 14, 128)       0         \n",
      "_________________________________________________________________\n",
      "conv2d_6 (Conv2D)            (None, 7, 7, 256)         819456    \n",
      "_________________________________________________________________\n",
      "batch_normalization_13 (Batc (None, 7, 7, 256)         1024      \n",
      "_________________________________________________________________\n",
      "leaky_re_lu_13 (LeakyReLU)   (None, 7, 7, 256)         0         \n",
      "_________________________________________________________________\n",
      "dropout_3 (Dropout)          (None, 7, 7, 256)         0         \n",
      "_________________________________________________________________\n",
      "conv2d_7 (Conv2D)            (None, 1, 1, 1)           12545     \n",
      "_________________________________________________________________\n",
      "reshape_3 (Reshape)          (None, 1)                 0         \n",
      "=================================================================\n",
      "Total params: 1,040,385\n",
      "Trainable params: 1,039,489\n",
      "Non-trainable params: 896\n",
      "_________________________________________________________________\n"
     ]
    }
   ],
   "source": [
    "# DCGAN 모델 만들기\n",
    "num_epochs = 100\n",
    "batch_size = 128\n",
    "image_size = (28, 28)\n",
    "z_size = 20\n",
    "mode_z = 'uniform'\n",
    "lambda_gp = 10.0\n",
    "\n",
    "tf.random.set_seed(1)\n",
    "np.random.seed(1)\n",
    "\n",
    "# 데이터셋 준비\n",
    "mnist_trainset = mnist['train']\n",
    "mnist_trainset = mnist_trainset.map(preprocess)\n",
    "\n",
    "mnist_trainset = mnist_trainset.shuffle(10000)\n",
    "mnist_trainset = mnist_trainset.batch(\n",
    "    batch_size, drop_remainder=True)\n",
    "\n",
    "# 모델 생성\n",
    "with tf.device(device_name):\n",
    "    gen_model = make_dcgan_generator()\n",
    "    gen_model.build(input_shape=(None, z_size))\n",
    "    gen_model.summary()\n",
    "\n",
    "    disc_model = make_dcgan_discriminator()\n",
    "    disc_model.build(input_shape=(None, np.prod(image_size)))\n",
    "    disc_model.summary()"
   ]
  },
  {
   "cell_type": "code",
   "execution_count": 16,
   "id": "937841e8",
   "metadata": {
    "execution": {
     "iopub.execute_input": "2022-02-25T05:29:44.882478Z",
     "iopub.status.busy": "2022-02-25T05:29:44.881576Z",
     "iopub.status.idle": "2022-02-25T07:18:12.322618Z",
     "shell.execute_reply": "2022-02-25T07:18:12.323367Z",
     "shell.execute_reply.started": "2022-02-25T02:40:11.815107Z"
    },
    "id": "pjH7SVEQ1Myu",
    "outputId": "71ceef1a-ddf3-4386-db06-408a8bd10873",
    "papermill": {
     "duration": 6507.492399,
     "end_time": "2022-02-25T07:18:12.323596",
     "exception": false,
     "start_time": "2022-02-25T05:29:44.831197",
     "status": "completed"
    },
    "tags": []
   },
   "outputs": [
    {
     "name": "stderr",
     "output_type": "stream",
     "text": [
      "2022-02-25 05:29:44.951097: I tensorflow/compiler/mlir/mlir_graph_optimization_pass.cc:185] None of the MLIR Optimization Passes are enabled (registered 2)\n",
      "2022-02-25 05:29:47.403133: I tensorflow/stream_executor/cuda/cuda_dnn.cc:369] Loaded cuDNN version 8005\n"
     ]
    },
    {
     "name": "stdout",
     "output_type": "stream",
     "text": [
      "에포크   1 | 시간 1.23 min | 평균 손실 >> 생성자/판별자 347.61/-640.51 [판별자-진짜: -365.49 판별자-가짜: -347.61]\n",
      "에포크   2 | 시간 2.31 min | 평균 손실 >> 생성자/판별자 280.83/-160.20 [판별자-진짜: -204.00 판별자-가짜: -280.83]\n",
      "에포크   3 | 시간 3.39 min | 평균 손실 >> 생성자/판별자 212.86/-129.93 [판별자-진짜: -114.80 판별자-가짜: -212.86]\n",
      "에포크   4 | 시간 4.47 min | 평균 손실 >> 생성자/판별자 174.49/-68.62 [판별자-진짜: -64.55 판별자-가짜: -174.49]\n",
      "에포크   5 | 시간 5.55 min | 평균 손실 >> 생성자/판별자 123.24/ 39.34 [판별자-진짜:  13.24 판별자-가짜: -123.24]\n",
      "에포크   6 | 시간 6.62 min | 평균 손실 >> 생성자/판별자  98.54/ -4.65 [판별자-진짜:  15.64 판별자-가짜: -98.54]\n",
      "에포크   7 | 시간 7.70 min | 평균 손실 >> 생성자/판별자  80.86/ -5.52 [판별자-진짜:  18.19 판별자-가짜: -80.86]\n",
      "에포크   8 | 시간 9.07 min | 평균 손실 >> 생성자/판별자  59.22/ -6.90 [판별자-진짜:  17.28 판별자-가짜: -59.22]\n",
      "에포크   9 | 시간 10.43 min | 평균 손실 >> 생성자/판별자  67.40/-20.35 [판별자-진짜:  31.57 판별자-가짜: -67.40]\n",
      "에포크  10 | 시간 11.50 min | 평균 손실 >> 생성자/판별자  89.09/-44.63 [판별자-진짜:  35.00 판별자-가짜: -89.09]\n",
      "에포크  11 | 시간 12.56 min | 평균 손실 >> 생성자/판별자  85.02/-54.55 [판별자-진짜:  16.09 판별자-가짜: -85.02]\n",
      "에포크  12 | 시간 13.63 min | 평균 손실 >> 생성자/판별자  98.28/-50.38 [판별자-진짜:  36.39 판별자-가짜: -98.28]\n",
      "에포크  13 | 시간 14.69 min | 평균 손실 >> 생성자/판별자  86.70/-28.47 [판별자-진짜:  25.53 판별자-가짜: -86.70]\n",
      "에포크  14 | 시간 15.75 min | 평균 손실 >> 생성자/판별자  77.84/-26.00 [판별자-진짜:  45.77 판별자-가짜: -77.84]\n",
      "에포크  15 | 시간 16.82 min | 평균 손실 >> 생성자/판별자  50.92/-29.97 [판별자-진짜:  11.68 판별자-가짜: -50.92]\n",
      "에포크  16 | 시간 17.89 min | 평균 손실 >> 생성자/판별자 119.27/-41.87 [판별자-진짜:  64.05 판별자-가짜: -119.27]\n",
      "에포크  17 | 시간 18.95 min | 평균 손실 >> 생성자/판별자  67.01/-39.94 [판별자-진짜:  11.96 판별자-가짜: -67.01]\n",
      "에포크  18 | 시간 20.02 min | 평균 손실 >> 생성자/판별자 118.50/-39.92 [판별자-진짜:  61.15 판별자-가짜: -118.50]\n",
      "에포크  19 | 시간 21.39 min | 평균 손실 >> 생성자/판별자  80.15/-24.95 [판별자-진짜:  30.07 판별자-가짜: -80.15]\n",
      "에포크  20 | 시간 22.44 min | 평균 손실 >> 생성자/판별자  60.23/-36.07 [판별자-진짜:  11.48 판별자-가짜: -60.23]\n",
      "에포크  21 | 시간 23.49 min | 평균 손실 >> 생성자/판별자 101.05/-44.38 [판별자-진짜:  46.55 판별자-가짜: -101.05]\n",
      "에포크  22 | 시간 24.86 min | 평균 손실 >> 생성자/판별자 136.02/-40.26 [판별자-진짜:  88.46 판별자-가짜: -136.02]\n",
      "에포크  23 | 시간 25.92 min | 평균 손실 >> 생성자/판별자  83.48/-27.65 [판별자-진짜:  28.26 판별자-가짜: -83.48]\n",
      "에포크  24 | 시간 26.97 min | 평균 손실 >> 생성자/판별자  83.84/-44.55 [판별자-진짜:  28.91 판별자-가짜: -83.84]\n",
      "에포크  25 | 시간 28.02 min | 평균 손실 >> 생성자/판별자  84.75/-42.80 [판별자-진짜:  29.27 판별자-가짜: -84.75]\n",
      "에포크  26 | 시간 29.08 min | 평균 손실 >> 생성자/판별자 113.64/-38.13 [판별자-진짜:  63.60 판별자-가짜: -113.64]\n",
      "에포크  27 | 시간 30.12 min | 평균 손실 >> 생성자/판별자 150.30/-43.32 [판별자-진짜:  91.96 판별자-가짜: -150.30]\n",
      "에포크  28 | 시간 31.17 min | 평균 손실 >> 생성자/판별자 131.43/-35.38 [판별자-진짜:  85.35 판별자-가짜: -131.43]\n",
      "에포크  29 | 시간 32.22 min | 평균 손실 >> 생성자/판별자 145.65/-46.75 [판별자-진짜:  88.08 판별자-가짜: -145.65]\n",
      "에포크  30 | 시간 33.28 min | 평균 손실 >> 생성자/판별자 138.81/-38.02 [판별자-진짜:  77.73 판별자-가짜: -138.81]\n",
      "에포크  31 | 시간 34.32 min | 평균 손실 >> 생성자/판별자 174.04/-42.14 [판별자-진짜: 113.63 판별자-가짜: -174.04]\n",
      "에포크  32 | 시간 35.69 min | 평균 손실 >> 생성자/판별자 183.49/-39.16 [판별자-진짜: 131.54 판별자-가짜: -183.49]\n",
      "에포크  33 | 시간 36.74 min | 평균 손실 >> 생성자/판별자 184.14/-54.60 [판별자-진짜: 115.47 판별자-가짜: -184.14]\n",
      "에포크  34 | 시간 37.79 min | 평균 손실 >> 생성자/판별자 194.06/-39.81 [판별자-진짜: 133.44 판별자-가짜: -194.06]\n",
      "에포크  35 | 시간 38.84 min | 평균 손실 >> 생성자/판별자 158.59/-50.90 [판별자-진짜:  85.90 판별자-가짜: -158.59]\n",
      "에포크  36 | 시간 39.89 min | 평균 손실 >> 생성자/판별자 172.62/-44.81 [판별자-진짜: 103.08 판별자-가짜: -172.62]\n",
      "에포크  37 | 시간 40.93 min | 평균 손실 >> 생성자/판별자 118.75/-50.31 [판별자-진짜:  58.73 판별자-가짜: -118.75]\n",
      "에포크  38 | 시간 41.99 min | 평균 손실 >> 생성자/판별자 189.28/-58.27 [판별자-진짜: 116.84 판별자-가짜: -189.28]\n",
      "에포크  39 | 시간 43.03 min | 평균 손실 >> 생성자/판별자 259.35/-58.83 [판별자-진짜: 179.61 판별자-가짜: -259.35]\n",
      "에포크  40 | 시간 44.08 min | 평균 손실 >> 생성자/판별자 282.79/-43.35 [판별자-진짜: 211.60 판별자-가짜: -282.79]\n",
      "에포크  41 | 시간 45.13 min | 평균 손실 >> 생성자/판별자 162.53/-61.41 [판별자-진짜:  89.38 판별자-가짜: -162.53]\n",
      "에포크  42 | 시간 46.50 min | 평균 손실 >> 생성자/판별자 204.38/-56.65 [판별자-진짜: 123.90 판별자-가짜: -204.38]\n",
      "에포크  43 | 시간 47.55 min | 평균 손실 >> 생성자/판별자 243.83/-68.21 [판별자-진짜: 169.62 판별자-가짜: -243.83]\n",
      "에포크  44 | 시간 48.60 min | 평균 손실 >> 생성자/판별자 268.86/-23.58 [판별자-진짜: 209.57 판별자-가짜: -268.86]\n",
      "에포크  45 | 시간 49.64 min | 평균 손실 >> 생성자/판별자 211.62/-57.87 [판별자-진짜: 122.32 판별자-가짜: -211.62]\n",
      "에포크  46 | 시간 50.68 min | 평균 손실 >> 생성자/판별자 175.95/-60.31 [판별자-진짜: 101.16 판별자-가짜: -175.95]\n",
      "에포크  47 | 시간 51.72 min | 평균 손실 >> 생성자/판별자 262.02/-80.59 [판별자-진짜: 161.18 판별자-가짜: -262.02]\n",
      "에포크  48 | 시간 52.76 min | 평균 손실 >> 생성자/판별자 185.08/-52.18 [판별자-진짜:  84.27 판별자-가짜: -185.08]\n",
      "에포크  49 | 시간 54.13 min | 평균 손실 >> 생성자/판별자 182.97/-77.93 [판별자-진짜:  91.06 판별자-가짜: -182.97]\n",
      "에포크  50 | 시간 55.19 min | 평균 손실 >> 생성자/판별자 144.25/-61.88 [판별자-진짜:  73.57 판별자-가짜: -144.25]\n",
      "에포크  51 | 시간 56.24 min | 평균 손실 >> 생성자/판별자 222.30/-53.56 [판별자-진짜: 155.53 판별자-가짜: -222.30]\n",
      "에포크  52 | 시간 57.28 min | 평균 손실 >> 생성자/판별자 194.42/-91.99 [판별자-진짜:  89.81 판별자-가짜: -194.42]\n",
      "에포크  53 | 시간 58.32 min | 평균 손실 >> 생성자/판별자 361.20/  1.78 [판별자-진짜: 263.17 판별자-가짜: -361.20]\n",
      "에포크  54 | 시간 59.37 min | 평균 손실 >> 생성자/판별자 362.52/-57.57 [판별자-진짜: 288.41 판별자-가짜: -362.52]\n",
      "에포크  55 | 시간 60.41 min | 평균 손실 >> 생성자/판별자 295.14/-64.64 [판별자-진짜: 218.85 판별자-가짜: -295.14]\n",
      "에포크  56 | 시간 61.78 min | 평균 손실 >> 생성자/판별자 486.60/-84.81 [판별자-진짜: 378.35 판별자-가짜: -486.60]\n",
      "에포크  57 | 시간 62.82 min | 평균 손실 >> 생성자/판별자 332.15/-54.13 [판별자-진짜: 240.60 판별자-가짜: -332.15]\n",
      "에포크  58 | 시간 63.86 min | 평균 손실 >> 생성자/판별자 735.61/-60.45 [판별자-진짜: 664.69 판별자-가짜: -735.61]\n",
      "에포크  59 | 시간 64.91 min | 평균 손실 >> 생성자/판별자 512.08/-83.01 [판별자-진짜: 408.04 판별자-가짜: -512.08]\n",
      "에포크  60 | 시간 65.96 min | 평균 손실 >> 생성자/판별자 475.31/-75.02 [판별자-진짜: 389.17 판별자-가짜: -475.31]\n",
      "에포크  61 | 시간 67.00 min | 평균 손실 >> 생성자/판별자 639.44/-74.69 [판별자-진짜: 547.66 판별자-가짜: -639.44]\n",
      "에포크  62 | 시간 68.05 min | 평균 손실 >> 생성자/판별자 354.58/-77.33 [판별자-진짜: 250.34 판별자-가짜: -354.58]\n",
      "에포크  63 | 시간 69.09 min | 평균 손실 >> 생성자/판별자 479.60/  0.35 [판별자-진짜: 408.94 판별자-가짜: -479.60]\n",
      "에포크  64 | 시간 70.14 min | 평균 손실 >> 생성자/판별자 883.62/-60.20 [판별자-진짜: 804.97 판별자-가짜: -883.62]\n",
      "에포크  65 | 시간 71.19 min | 평균 손실 >> 생성자/판별자 550.66/-84.13 [판별자-진짜: 449.85 판별자-가짜: -550.66]\n",
      "에포크  66 | 시간 72.24 min | 평균 손실 >> 생성자/판별자 516.29/-67.24 [판별자-진짜: 444.16 판별자-가짜: -516.29]\n",
      "에포크  67 | 시간 73.29 min | 평균 손실 >> 생성자/판별자 588.15/-60.31 [판별자-진짜: 519.54 판별자-가짜: -588.15]\n",
      "에포크  68 | 시간 74.33 min | 평균 손실 >> 생성자/판별자 1020.56/-81.82 [판별자-진짜: 928.40 판별자-가짜: -1020.56]\n",
      "에포크  69 | 시간 75.38 min | 평균 손실 >> 생성자/판별자 699.50/-81.69 [판별자-진짜: 598.53 판별자-가짜: -699.50]\n",
      "에포크  70 | 시간 76.43 min | 평균 손실 >> 생성자/판별자 748.95/-70.47 [판별자-진짜: 647.55 판별자-가짜: -748.95]\n",
      "에포크  71 | 시간 77.48 min | 평균 손실 >> 생성자/판별자 650.75/-89.05 [판별자-진짜: 552.45 판별자-가짜: -650.75]\n",
      "에포크  72 | 시간 78.53 min | 평균 손실 >> 생성자/판별자 791.37/-14.09 [판별자-진짜: 703.04 판별자-가짜: -791.37]\n",
      "에포크  73 | 시간 79.57 min | 평균 손실 >> 생성자/판별자 852.79/-71.22 [판별자-진짜: 774.16 판별자-가짜: -852.79]\n",
      "에포크  74 | 시간 80.62 min | 평균 손실 >> 생성자/판별자 747.62/-66.84 [판별자-진짜: 669.67 판별자-가짜: -747.62]\n",
      "에포크  75 | 시간 81.68 min | 평균 손실 >> 생성자/판별자 757.48/-120.04 [판별자-진짜: 616.92 판별자-가짜: -757.48]\n",
      "에포크  76 | 시간 82.72 min | 평균 손실 >> 생성자/판별자 969.31/-76.75 [판별자-진짜: 859.95 판별자-가짜: -969.31]\n",
      "에포크  77 | 시간 83.78 min | 평균 손실 >> 생성자/판별자 1247.57/-135.74 [판별자-진짜: 1093.55 판별자-가짜: -1247.57]\n",
      "에포크  78 | 시간 84.82 min | 평균 손실 >> 생성자/판별자 1195.06/-149.25 [판별자-진짜: 1027.01 판별자-가짜: -1195.06]\n",
      "에포크  79 | 시간 85.86 min | 평균 손실 >> 생성자/판별자 1232.56/-144.80 [판별자-진짜: 1059.35 판별자-가짜: -1232.56]\n",
      "에포크  80 | 시간 86.91 min | 평균 손실 >> 생성자/판별자 1314.60/-163.43 [판별자-진짜: 1143.80 판별자-가짜: -1314.60]\n",
      "에포크  81 | 시간 87.95 min | 평균 손실 >> 생성자/판별자 1341.36/-183.84 [판별자-진짜: 1124.74 판별자-가짜: -1341.36]\n",
      "에포크  82 | 시간 89.00 min | 평균 손실 >> 생성자/판별자 1637.47/-222.92 [판별자-진짜: 1381.00 판별자-가짜: -1637.47]\n",
      "에포크  83 | 시간 90.05 min | 평균 손실 >> 생성자/판별자 1563.68/-198.04 [판별자-진짜: 1338.17 판별자-가짜: -1563.68]\n",
      "에포크  84 | 시간 91.09 min | 평균 손실 >> 생성자/판별자 1579.29/-213.97 [판별자-진짜: 1339.78 판별자-가짜: -1579.29]\n",
      "에포크  85 | 시간 92.15 min | 평균 손실 >> 생성자/판별자 1839.52/-236.62 [판별자-진짜: 1583.58 판별자-가짜: -1839.52]\n",
      "에포크  86 | 시간 93.20 min | 평균 손실 >> 생성자/판별자 1960.05/-223.39 [판별자-진짜: 1701.03 판별자-가짜: -1960.05]\n",
      "에포크  87 | 시간 94.56 min | 평균 손실 >> 생성자/판별자 1880.59/-225.34 [판별자-진짜: 1622.32 판별자-가짜: -1880.59]\n",
      "에포크  88 | 시간 95.61 min | 평균 손실 >> 생성자/판별자 2034.10/-265.89 [판별자-진짜: 1729.29 판별자-가짜: -2034.10]\n",
      "에포크  89 | 시간 96.67 min | 평균 손실 >> 생성자/판별자 2086.94/-150.24 [판별자-진짜: 1875.20 판별자-가짜: -2086.94]\n",
      "에포크  90 | 시간 97.73 min | 평균 손실 >> 생성자/판별자 2145.07/-224.17 [판별자-진짜: 1907.48 판별자-가짜: -2145.07]\n",
      "에포크  91 | 시간 98.79 min | 평균 손실 >> 생성자/판별자 2172.15/-231.07 [판별자-진짜: 1925.38 판별자-가짜: -2172.15]\n",
      "에포크  92 | 시간 99.84 min | 평균 손실 >> 생성자/판별자 2105.69/-261.79 [판별자-진짜: 1835.64 판별자-가짜: -2105.69]\n",
      "에포크  93 | 시간 100.92 min | 평균 손실 >> 생성자/판별자 1943.03/-236.16 [판별자-진짜: 1677.69 판별자-가짜: -1943.03]\n",
      "에포크  94 | 시간 102.00 min | 평균 손실 >> 생성자/판별자 1986.99/-239.30 [판별자-진짜: 1712.09 판별자-가짜: -1986.99]\n",
      "에포크  95 | 시간 103.08 min | 평균 손실 >> 생성자/판별자 1911.57/-198.48 [판별자-진짜: 1699.11 판별자-가짜: -1911.57]\n",
      "에포크  96 | 시간 104.15 min | 평균 손실 >> 생성자/판별자 2431.52/-259.02 [판별자-진짜: 2121.59 판별자-가짜: -2431.52]\n",
      "에포크  97 | 시간 105.23 min | 평균 손실 >> 생성자/판별자 2711.31/-359.47 [판별자-진짜: 2300.15 판별자-가짜: -2711.31]\n",
      "에포크  98 | 시간 106.30 min | 평균 손실 >> 생성자/판별자 3073.58/-407.72 [판별자-진짜: 2629.20 판별자-가짜: -3073.58]\n",
      "에포크  99 | 시간 107.38 min | 평균 손실 >> 생성자/판별자 3219.68/-367.09 [판별자-진짜: 2715.68 판별자-가짜: -3219.68]\n",
      "에포크 100 | 시간 108.46 min | 평균 손실 >> 생성자/판별자 1920.62/-154.53 [판별자-진짜: 1761.49 판별자-가짜: -1920.62]\n"
     ]
    }
   ],
   "source": [
    "# 모델 훈련\n",
    "# 일반적으로 (GP가 없는) WGAN에서는 RMSProp 옵티마이저 권장\n",
    "# 반면 WGAN-GP에는 Adam 옵티마이저를 사용한다.\n",
    "import time\n",
    "\n",
    "# 옵티마이저\n",
    "g_optimizer = tf.keras.optimizers.Adam(0.0002)\n",
    "d_optimizer = tf.keras.optimizers.Adam(0.0002)\n",
    "\n",
    "if mode_z == 'uniform':\n",
    "    fixed_z = tf.random.uniform(\n",
    "        shape=(batch_size, z_size),\n",
    "        minval=-1, maxval=1)\n",
    "elif mode_z == 'normal':\n",
    "    fixed_z = tf.random.normal(\n",
    "        shape=(batch_size, z_size))\n",
    "\n",
    "def create_samples(g_model, input_z):\n",
    "    g_output = g_model(input_z, training=False)\n",
    "    images = tf.reshape(g_output, (batch_size, *image_size))    \n",
    "    return (images+1)/2.0\n",
    "\n",
    "all_losses = []\n",
    "epoch_samples = []\n",
    "\n",
    "start_time = time.time()\n",
    "for epoch in range(1, num_epochs+1):\n",
    "    epoch_losses = []\n",
    "    for i,(input_z,input_real) in enumerate(mnist_trainset):\n",
    "        with tf.GradientTape() as d_tape, tf.GradientTape() as g_tape:\n",
    "            g_output = gen_model(input_z, training=True)\n",
    "\n",
    "            d_critics_real = disc_model(input_real, training=True)\n",
    "            d_critics_fake = disc_model(g_output, training=True)\n",
    "\n",
    "            # 생성자 손실 계산\n",
    "            g_loss = -tf.math.reduce_mean(d_critics_fake)\n",
    "\n",
    "            # 판별자 손실 계산\n",
    "            d_loss_real = -tf.math.reduce_mean(d_critics_real)\n",
    "            d_loss_fake =  tf.math.reduce_mean(d_critics_fake)\n",
    "            d_loss = d_loss_real + d_loss_fake\n",
    "\n",
    "            # 그레이디언트 페널티\n",
    "            with tf.GradientTape() as gp_tape:\n",
    "                alpha = tf.random.uniform(\n",
    "                    shape=[d_critics_real.shape[0], 1, 1, 1], \n",
    "                    minval=0.0, maxval=1.0)\n",
    "                interpolated = (\n",
    "                    alpha*input_real + (1-alpha)*g_output)\n",
    "                gp_tape.watch(interpolated)\n",
    "                d_critics_intp = disc_model(interpolated)\n",
    "            \n",
    "            grads_intp = gp_tape.gradient(\n",
    "                d_critics_intp, [interpolated,])[0]\n",
    "            grads_intp_l2 = tf.sqrt(\n",
    "                tf.reduce_sum(tf.square(grads_intp), axis=[1, 2, 3]))\n",
    "            grad_penalty = tf.reduce_mean(tf.square(grads_intp_l2 - 1.0))\n",
    "\n",
    "            d_loss += lambda_gp * grad_penalty # 10 * panelty\n",
    "        \n",
    "        # 최적화: 그레이디언트를 계산하여 적용\n",
    "        d_grads = d_tape.gradient(d_loss, disc_model.trainable_variables)\n",
    "        d_optimizer.apply_gradients(\n",
    "            grads_and_vars=zip(d_grads, disc_model.trainable_variables))\n",
    "        \n",
    "        g_grads = g_tape.gradient(g_loss, gen_model.trainable_variables)\n",
    "        g_optimizer.apply_gradients(\n",
    "            grads_and_vars=zip(g_grads, gen_model.trainable_variables))\n",
    "\n",
    "        epoch_losses.append(\n",
    "            (g_loss.numpy(), d_loss.numpy(), \n",
    "             d_loss_real.numpy(), d_loss_fake.numpy()))\n",
    "    \n",
    "    all_losses.append(epoch_losses)\n",
    "    \n",
    "    print('에포크 {:-3d} | 시간 {:.2f} min | 평균 손실 >>'\n",
    "          ' 생성자/판별자 {:6.2f}/{:6.2f} [판별자-진짜: {:6.2f} 판별자-가짜: {:6.2f}]'\n",
    "          .format(epoch, (time.time() - start_time)/60, \n",
    "                  *list(np.mean(all_losses[-1], axis=0)))\n",
    "    )\n",
    "    \n",
    "    epoch_samples.append(\n",
    "        create_samples(gen_model, fixed_z).numpy()\n",
    "    )"
   ]
  },
  {
   "cell_type": "code",
   "execution_count": 17,
   "id": "ed229ee4",
   "metadata": {
    "execution": {
     "iopub.execute_input": "2022-02-25T07:18:12.475907Z",
     "iopub.status.busy": "2022-02-25T07:18:12.474975Z",
     "iopub.status.idle": "2022-02-25T07:18:12.904789Z",
     "shell.execute_reply": "2022-02-25T07:18:12.905288Z",
     "shell.execute_reply.started": "2022-02-25T04:46:49.353087Z"
    },
    "id": "cOeUMnzs9uXg",
    "papermill": {
     "duration": 0.511746,
     "end_time": "2022-02-25T07:18:12.905446",
     "exception": false,
     "start_time": "2022-02-25T07:18:12.393700",
     "status": "completed"
    },
    "tags": []
   },
   "outputs": [
    {
     "data": {
      "image/png": "[encoded data removed]",
      "text/plain": [
       "<Figure size 576x432 with 2 Axes>"
      ]
     },
     "metadata": {
      "needs_background": "light"
     },
     "output_type": "display_data"
    }
   ],
   "source": [
    "import itertools\n",
    "\n",
    "\n",
    "fig = plt.figure(figsize=(8, 6))\n",
    "\n",
    "# 손실 그래프\n",
    "ax = fig.add_subplot(1, 1, 1)\n",
    "g_losses = [item[0] for item in itertools.chain(*all_losses)]\n",
    "d_losses = [item[1] for item in itertools.chain(*all_losses)]\n",
    "plt.plot(g_losses, label='Generator loss', alpha=0.95)\n",
    "plt.plot(d_losses, label='Discriminator loss', alpha=0.95)\n",
    "plt.legend(fontsize=20)\n",
    "ax.set_xlabel('Iteration', size=15)\n",
    "ax.set_ylabel('Loss', size=15)\n",
    "\n",
    "epochs = np.arange(1, 101)\n",
    "epoch2iter = lambda e: e*len(all_losses[-1])\n",
    "epoch_ticks = [1, 20, 40, 60, 80, 100]\n",
    "newpos   = [epoch2iter(e) for e in epoch_ticks]\n",
    "ax2 = ax.twiny()\n",
    "ax2.set_xticks(newpos)\n",
    "ax2.set_xticklabels(epoch_ticks)\n",
    "ax2.xaxis.set_ticks_position('bottom')\n",
    "ax2.xaxis.set_label_position('bottom')\n",
    "ax2.spines['bottom'].set_position(('outward', 60))\n",
    "ax2.set_xlabel('Epoch', size=15)\n",
    "ax2.set_xlim(ax.get_xlim())\n",
    "ax.tick_params(axis='both', which='major', labelsize=15)\n",
    "ax2.tick_params(axis='both', which='major', labelsize=15)\n",
    "\n",
    "plt.show()"
   ]
  },
  {
   "cell_type": "code",
   "execution_count": 18,
   "id": "475717ac",
   "metadata": {
    "execution": {
     "iopub.execute_input": "2022-02-25T07:18:13.070409Z",
     "iopub.status.busy": "2022-02-25T07:18:13.065413Z",
     "iopub.status.idle": "2022-02-25T07:18:13.986126Z",
     "shell.execute_reply": "2022-02-25T07:18:13.986577Z",
     "shell.execute_reply.started": "2022-02-25T04:46:50.049115Z"
    },
    "id": "_V0n3bto9xCY",
    "papermill": {
     "duration": 1.012487,
     "end_time": "2022-02-25T07:18:13.986726",
     "exception": false,
     "start_time": "2022-02-25T07:18:12.974239",
     "status": "completed"
    },
    "tags": []
   },
   "outputs": [
    {
     "data": {
      "image/png": "[encoded data removed]",
      "text/plain": [
       "<Figure size 720x1008 with 30 Axes>"
      ]
     },
     "metadata": {},
     "output_type": "display_data"
    }
   ],
   "source": [
    "# 저장한 샘플 시각화\n",
    "selected_epochs = [1, 2, 4, 10, 50, 100]\n",
    "fig = plt.figure(figsize=(10, 14))\n",
    "for i,e in enumerate(selected_epochs):\n",
    "    for j in range(5):\n",
    "        ax = fig.add_subplot(6, 5, i*5+j+1)\n",
    "        ax.set_xticks([])\n",
    "        ax.set_yticks([])\n",
    "        if j == 0:\n",
    "            ax.text(\n",
    "                -0.06, 0.5, 'Epoch {}'.format(e),\n",
    "                rotation=90, size=18, color='red',\n",
    "                horizontalalignment='right',\n",
    "                verticalalignment='center', \n",
    "                transform=ax.transAxes)\n",
    "        \n",
    "        image = epoch_samples[e-1][j]\n",
    "        ax.imshow(image, cmap='gray_r')\n",
    "        \n",
    "plt.show()"
   ]
  },
  {
   "cell_type": "markdown",
   "id": "c724ae8e",
   "metadata": {
    "id": "U8hIHDfm-jUh",
    "papermill": {
     "duration": 0.065777,
     "end_time": "2022-02-25T07:18:14.118296",
     "exception": false,
     "start_time": "2022-02-25T07:18:14.052519",
     "status": "completed"
    },
    "tags": []
   },
   "source": [
    "### 17.3.8 모드 붕괴\n",
    "\n",
    "GAN은 적대적인 특징 때문에 훈련하기 어렵기로 악명이 높다. GAN을 훈련할 때 실패하는 흔한 이유 중 하나는 생성자가 작은 부분 공간에 갇혀 단순한 샘플만 생성하는 것을 합습할 때이다. 이를 **모드 붕괴**(mode collapse)라고 부른다."
   ]
  },
  {
   "cell_type": "code",
   "execution_count": 19,
   "id": "4967a1f9",
   "metadata": {
    "execution": {
     "iopub.execute_input": "2022-02-25T07:18:14.255121Z",
     "iopub.status.busy": "2022-02-25T07:18:14.254448Z",
     "iopub.status.idle": "2022-02-25T07:18:14.257267Z",
     "shell.execute_reply": "2022-02-25T07:18:14.257657Z",
     "shell.execute_reply.started": "2022-02-25T04:46:51.379108Z"
    },
    "id": "7hzGKGqZ-1zg",
    "papermill": {
     "duration": 0.073683,
     "end_time": "2022-02-25T07:18:14.257789",
     "exception": false,
     "start_time": "2022-02-25T07:18:14.184106",
     "status": "completed"
    },
    "tags": []
   },
   "outputs": [
    {
     "data": {
      "text/html": [
       "<img src=\"https://git.io/JLjcT\" width=\"600\"/>"
      ],
      "text/plain": [
       "<IPython.core.display.Image object>"
      ]
     },
     "execution_count": 19,
     "metadata": {},
     "output_type": "execute_result"
    }
   ],
   "source": [
    "# 모드 붕괴 예\n",
    "Image(url='https://git.io/JLjcT', width=600)"
   ]
  },
  {
   "cell_type": "markdown",
   "id": "e5e012fb",
   "metadata": {
    "id": "Z4VvI8ew-5JH",
    "papermill": {
     "duration": 0.066058,
     "end_time": "2022-02-25T07:18:14.389336",
     "exception": false,
     "start_time": "2022-02-25T07:18:14.323278",
     "status": "completed"
    },
    "tags": []
   },
   "source": [
    "생성자가 데이터의 전체 분포를 학습하지 못하고 한 부분 공간에 초점을 맞추는 데 그쳤음을 보여준다.\n",
    "\n",
    "그레이디언트 폭주와 소멸 문제 외에도 GAN 훈련을 어렵게 만들 수 있는 또 다른 면이 있다(진짜 GAN 훈련은 예술에 가깝다).\n",
    "\n",
    "* GAN 기법\n",
    "\n",
    "1. 미니 배치 판별(mini-batch discrimination)\n",
    "\n",
    "가짜나 진짜 샘플로만 이루어진 배치를 따로 판별자에게 주입한다. 미니 배치 판별에서는 판별자가 배치가 진짜인지 가짜인지 판단하기 위해 배치 안의 샘을 비교한다. 만약 모델이 모드 붕괴 문제를 겪고 있다면 진짜 샘플로만 구성도니 배치가 가짜 배치보다 다양성이 높을 것이다.\n",
    "\n",
    "2. 특성 매칭(feature matching)\n",
    "\n",
    "안정적인 GAN 훈련을 위한 기법으로 생성자의 목적 함수를 조금 수정한다. 판별자의 중간 표현(특성 맵)을 기반으로 원본 이미지와 합성 이미지 간의 차이를 최소화하는 추가적인 항을 더한다.\n",
    "\n",
    "3. 경험 재생(experience replay)\n",
    "\n",
    "훈련하는 동안에 GAN이 몇 개의 모드에 갇혀 이 사이를 왔다 갔다 할 수 있다. 이런 상황을 피하기 위해 저장된 예전 샘플 일부를 판별자에게 주입하여 생성자가 이전 모드를 다시 생성하지 않도록 방지할 수 있다. 또한, 랜덤 시드가 다른 여러 개의 GAN을 훈련하여 단일 모델이 아니라 모델의 조합이 전체 데이터 분포를 대부분 커버하게 만들 수 있다."
   ]
  }
 ],
 "metadata": {
  "kernelspec": {
   "display_name": "Python 3",
   "language": "python",
   "name": "python3"
  },
  "language_info": {
   "codemirror_mode": {
    "name": "ipython",
    "version": 3
   },
   "file_extension": ".py",
   "mimetype": "text/x-python",
   "name": "python",
   "nbconvert_exporter": "python",
   "pygments_lexer": "ipython3",
   "version": "3.7.12"
  },
  "papermill": {
   "default_parameters": {},
   "duration": 6534.660454,
   "end_time": "2022-02-25T07:18:17.896030",
   "environment_variables": {},
   "exception": null,
   "input_path": "__notebook__.ipynb",
   "output_path": "__notebook__.ipynb",
   "parameters": {},
   "start_time": "2022-02-25T05:29:23.235576",
   "version": "2.3.3"
  },
  "widgets": {
   "application/vnd.jupyter.widget-state+json": {
    "state": {
     "175639e093a241d3bb33ff3d0145f562": {
      "model_module": "@jupyter-widgets/base",
      "model_module_version": "1.2.0",
      "model_name": "LayoutModel",
      "state": {
       "_model_module": "@jupyter-widgets/base",
       "_model_module_version": "1.2.0",
       "_model_name": "LayoutModel",
       "_view_count": null,
       "_view_module": "@jupyter-widgets/base",
       "_view_module_version": "1.2.0",
       "_view_name": "LayoutView",
       "align_content": null,
       "align_items": null,
       "align_self": null,
       "border": null,
       "bottom": null,
       "display": null,
       "flex": null,
       "flex_flow": null,
       "grid_area": null,
       "grid_auto_columns": null,
       "grid_auto_flow": null,
       "grid_auto_rows": null,
       "grid_column": null,
       "grid_gap": null,
       "grid_row": null,
       "grid_template_areas": null,
       "grid_template_columns": null,
       "grid_template_rows": null,
       "height": null,
       "justify_content": null,
       "justify_items": null,
       "left": null,
       "margin": null,
       "max_height": null,
       "max_width": null,
       "min_height": null,
       "min_width": null,
       "object_fit": null,
       "object_position": null,
       "order": null,
       "overflow": null,
       "overflow_x": null,
       "overflow_y": null,
       "padding": null,
       "right": null,
       "top": null,
       "visibility": null,
       "width": null
      }
     },
     "24a3388adc6749218d50f1dc174f212e": {
      "model_module": "@jupyter-widgets/controls",
      "model_module_version": "1.5.0",
      "model_name": "DescriptionStyleModel",
      "state": {
       "_model_module": "@jupyter-widgets/controls",
       "_model_module_version": "1.5.0",
       "_model_name": "DescriptionStyleModel",
       "_view_count": null,
       "_view_module": "@jupyter-widgets/base",
       "_view_module_version": "1.2.0",
       "_view_name": "StyleView",
       "description_width": ""
      }
     },
     "2ca476646d1e43fe8c8eee01aa472402": {
      "model_module": "@jupyter-widgets/controls",
      "model_module_version": "1.5.0",
      "model_name": "HTMLModel",
      "state": {
       "_dom_classes": [],
       "_model_module": "@jupyter-widgets/controls",
       "_model_module_version": "1.5.0",
       "_model_name": "HTMLModel",
       "_view_count": null,
       "_view_module": "@jupyter-widgets/controls",
       "_view_module_version": "1.5.0",
       "_view_name": "HTMLView",
       "description": "",
       "description_tooltip": null,
       "layout": "IPY_MODEL_175639e093a241d3bb33ff3d0145f562",
       "placeholder": "​",
       "style": "IPY_MODEL_782ab738bd524fc1962ec1acaf1f5d55",
       "value": " 4/4 [00:00&lt;00:00,  6.74 file/s]"
      }
     },
     "38c8382f6f2e48a499b8607dcfc5454c": {
      "model_module": "@jupyter-widgets/controls",
      "model_module_version": "1.5.0",
      "model_name": "HTMLModel",
      "state": {
       "_dom_classes": [],
       "_model_module": "@jupyter-widgets/controls",
       "_model_module_version": "1.5.0",
       "_model_name": "HTMLModel",
       "_view_count": null,
       "_view_module": "@jupyter-widgets/controls",
       "_view_module_version": "1.5.0",
       "_view_name": "HTMLView",
       "description": "",
       "description_tooltip": null,
       "layout": "IPY_MODEL_73d09cacf46d4d47becf9db715816085",
       "placeholder": "​",
       "style": "IPY_MODEL_24a3388adc6749218d50f1dc174f212e",
       "value": "Dl Completed...: 100%"
      }
     },
     "53f92e9b7d4e4824a1af0dc629ca09b6": {
      "model_module": "@jupyter-widgets/controls",
      "model_module_version": "1.5.0",
      "model_name": "ProgressStyleModel",
      "state": {
       "_model_module": "@jupyter-widgets/controls",
       "_model_module_version": "1.5.0",
       "_model_name": "ProgressStyleModel",
       "_view_count": null,
       "_view_module": "@jupyter-widgets/base",
       "_view_module_version": "1.2.0",
       "_view_name": "StyleView",
       "bar_color": null,
       "description_width": ""
      }
     },
     "73d09cacf46d4d47becf9db715816085": {
      "model_module": "@jupyter-widgets/base",
      "model_module_version": "1.2.0",
      "model_name": "LayoutModel",
      "state": {
       "_model_module": "@jupyter-widgets/base",
       "_model_module_version": "1.2.0",
       "_model_name": "LayoutModel",
       "_view_count": null,
       "_view_module": "@jupyter-widgets/base",
       "_view_module_version": "1.2.0",
       "_view_name": "LayoutView",
       "align_content": null,
       "align_items": null,
       "align_self": null,
       "border": null,
       "bottom": null,
       "display": null,
       "flex": null,
       "flex_flow": null,
       "grid_area": null,
       "grid_auto_columns": null,
       "grid_auto_flow": null,
       "grid_auto_rows": null,
       "grid_column": null,
       "grid_gap": null,
       "grid_row": null,
       "grid_template_areas": null,
       "grid_template_columns": null,
       "grid_template_rows": null,
       "height": null,
       "justify_content": null,
       "justify_items": null,
       "left": null,
       "margin": null,
       "max_height": null,
       "max_width": null,
       "min_height": null,
       "min_width": null,
       "object_fit": null,
       "object_position": null,
       "order": null,
       "overflow": null,
       "overflow_x": null,
       "overflow_y": null,
       "padding": null,
       "right": null,
       "top": null,
       "visibility": null,
       "width": null
      }
     },
     "782ab738bd524fc1962ec1acaf1f5d55": {
      "model_module": "@jupyter-widgets/controls",
      "model_module_version": "1.5.0",
      "model_name": "DescriptionStyleModel",
      "state": {
       "_model_module": "@jupyter-widgets/controls",
       "_model_module_version": "1.5.0",
       "_model_name": "DescriptionStyleModel",
       "_view_count": null,
       "_view_module": "@jupyter-widgets/base",
       "_view_module_version": "1.2.0",
       "_view_name": "StyleView",
       "description_width": ""
      }
     },
     "b05644c64f4f40c587a6ceb5fabbbf8b": {
      "model_module": "@jupyter-widgets/controls",
      "model_module_version": "1.5.0",
      "model_name": "HBoxModel",
      "state": {
       "_dom_classes": [],
       "_model_module": "@jupyter-widgets/controls",
       "_model_module_version": "1.5.0",
       "_model_name": "HBoxModel",
       "_view_count": null,
       "_view_module": "@jupyter-widgets/controls",
       "_view_module_version": "1.5.0",
       "_view_name": "HBoxView",
       "box_style": "",
       "children": [
        "IPY_MODEL_38c8382f6f2e48a499b8607dcfc5454c",
        "IPY_MODEL_e8fd42a46a6b4fa89d9f4a6fddc2123d",
        "IPY_MODEL_2ca476646d1e43fe8c8eee01aa472402"
       ],
       "layout": "IPY_MODEL_f0e4bc1bb7454f44ba9e5f02b0a9d9aa"
      }
     },
     "becfa4dc44524a539bbd4eee0f726746": {
      "model_module": "@jupyter-widgets/base",
      "model_module_version": "1.2.0",
      "model_name": "LayoutModel",
      "state": {
       "_model_module": "@jupyter-widgets/base",
       "_model_module_version": "1.2.0",
       "_model_name": "LayoutModel",
       "_view_count": null,
       "_view_module": "@jupyter-widgets/base",
       "_view_module_version": "1.2.0",
       "_view_name": "LayoutView",
       "align_content": null,
       "align_items": null,
       "align_self": null,
       "border": null,
       "bottom": null,
       "display": null,
       "flex": null,
       "flex_flow": null,
       "grid_area": null,
       "grid_auto_columns": null,
       "grid_auto_flow": null,
       "grid_auto_rows": null,
       "grid_column": null,
       "grid_gap": null,
       "grid_row": null,
       "grid_template_areas": null,
       "grid_template_columns": null,
       "grid_template_rows": null,
       "height": null,
       "justify_content": null,
       "justify_items": null,
       "left": null,
       "margin": null,
       "max_height": null,
       "max_width": null,
       "min_height": null,
       "min_width": null,
       "object_fit": null,
       "object_position": null,
       "order": null,
       "overflow": null,
       "overflow_x": null,
       "overflow_y": null,
       "padding": null,
       "right": null,
       "top": null,
       "visibility": null,
       "width": null
      }
     },
     "e8fd42a46a6b4fa89d9f4a6fddc2123d": {
      "model_module": "@jupyter-widgets/controls",
      "model_module_version": "1.5.0",
      "model_name": "FloatProgressModel",
      "state": {
       "_dom_classes": [],
       "_model_module": "@jupyter-widgets/controls",
       "_model_module_version": "1.5.0",
       "_model_name": "FloatProgressModel",
       "_view_count": null,
       "_view_module": "@jupyter-widgets/controls",
       "_view_module_version": "1.5.0",
       "_view_name": "ProgressView",
       "bar_style": "success",
       "description": "",
       "description_tooltip": null,
       "layout": "IPY_MODEL_becfa4dc44524a539bbd4eee0f726746",
       "max": 4.0,
       "min": 0.0,
       "orientation": "horizontal",
       "style": "IPY_MODEL_53f92e9b7d4e4824a1af0dc629ca09b6",
       "value": 4.0
      }
     },
     "f0e4bc1bb7454f44ba9e5f02b0a9d9aa": {
      "model_module": "@jupyter-widgets/base",
      "model_module_version": "1.2.0",
      "model_name": "LayoutModel",
      "state": {
       "_model_module": "@jupyter-widgets/base",
       "_model_module_version": "1.2.0",
       "_model_name": "LayoutModel",
       "_view_count": null,
       "_view_module": "@jupyter-widgets/base",
       "_view_module_version": "1.2.0",
       "_view_name": "LayoutView",
       "align_content": null,
       "align_items": null,
       "align_self": null,
       "border": null,
       "bottom": null,
       "display": null,
       "flex": null,
       "flex_flow": null,
       "grid_area": null,
       "grid_auto_columns": null,
       "grid_auto_flow": null,
       "grid_auto_rows": null,
       "grid_column": null,
       "grid_gap": null,
       "grid_row": null,
       "grid_template_areas": null,
       "grid_template_columns": null,
       "grid_template_rows": null,
       "height": null,
       "justify_content": null,
       "justify_items": null,
       "left": null,
       "margin": null,
       "max_height": null,
       "max_width": null,
       "min_height": null,
       "min_width": null,
       "object_fit": null,
       "object_position": null,
       "order": null,
       "overflow": null,
       "overflow_x": null,
       "overflow_y": null,
       "padding": null,
       "right": null,
       "top": null,
       "visibility": null,
       "width": null
      }
     }
    },
    "version_major": 2,
    "version_minor": 0
   }
  }
 },
 "nbformat": 4,
 "nbformat_minor": 5
}
